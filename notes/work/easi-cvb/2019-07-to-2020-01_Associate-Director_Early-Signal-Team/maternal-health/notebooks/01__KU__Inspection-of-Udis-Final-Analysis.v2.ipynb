{
 "cells": [
  {
   "cell_type": "markdown",
   "metadata": {},
   "source": [
    "# Hello, World\n",
    "The point of this notebook is to explore Udi's design choices, constraints, etc.  \n",
    "\n",
    "For example, by looking at his data processing code in `src/data/`, it looks as if Udi basically\n",
    "begins his work at 2 previously processed files:\n",
    "* `../data/raw/BISH FETAL GA ASSESSMENT.csv`\n",
    "* `../data/interim/mbh001_Data-Wide-QC-full-data_20190924_V4_feateng.p`\n",
    "\n",
    "I spent a lot of time going over this code and the data it derives from,  \n",
    "however, by reading through his project's README, it turns out that he has a step before \n",
    "this...which is the step that connect Udi's pipeline to Carlos' pipeline.\n",
    "\n",
    "In Udi's repo, he has this listed as the first step in his pipeline.  \n",
    "\n",
    "> ### Script\n",
    "> Rscript src/features/build_features.py\n",
    "> \n",
    "> ### Input:\n",
    ">\n",
    "> * **Features metadata**: data/processed/mbh001_Table-feature-timepoints_2090613_V8.xlsx \n",
    ">   - which features to keep for F3 > baseline model\n",
    "> * **Full sensor data**: data/raw/mbh001_Data-Wide-QC-full-data_20190614_V1.csv \n",
    ">   - The wide QC'ed data from mbh001_cu project\n",
    "> * **High quality Toitu data**: data/raw/Fetal_Toitu_Physio_Features_Early_Signal_093019.csv\n",
    "> * **High quality smoking and alcohol data**: data/raw/File_Early_Signal_alcohol_nicolo_20190924.xlsx\n",
    ">\n",
    "> ### Output\n",
    "> data/interim/mbh001_Data-Wide-QC-full-data_20190924_V4_feateng.p (and csv)\n",
    ">\n",
    "> ### Notes\n",
    ">\n",
    "> * Keeping only features collected up to F3 based on information in the features metadata file\n",
    "> * Incorporating high quality Toi features data file\n",
    "> * Incorporating high quality alcohol and smoking features data file\n",
    "> * Removing redundant weight and height features\n",
    "> * Merging anxiety (adstai db) and depression (adedin db) features collected at F1 , F2 and F3 to \n",
    ">   eliminate missing values. A new feature is created to indicated from which cycle the data was recorded\n",
    "\n",
    "\n",
    "\n",
    "\n",
    "Importantly, viewing the pipeline as the sequence of transformations from the raw data, \n",
    "Udi's first step can be better described as the pipeline's 5th step since \n",
    "Udi picks up from Carlos' \"Step 4\" (look at Carlos' README file):\n",
    "\n",
    "> ## 4. Create wide version of the QC'd dataset\n",
    ">\n",
    "> ### Script\n",
    "> python src/data/make_qc_data_long_to_wide.py\n",
    ">\n",
    "> ### Input\n",
    "> ./data/processed/full_data_qc/mbh001_Data-QC-full-data_20190110_V1.feather\n",
    ">\n",
    "> ### Output\n",
    "> ./data/processed/full_data_qc/mbh001_Data-Wide-QC-full-data_20190614_V1.csv\n",
    "\n",
    "Udi does not directly use any of the later-stage processing from Carlos' iteration of the project...though\n",
    "he does use some of the concepts/ideas from Step 5, where Carlos utilizes a table he and/or Udi\n",
    "made that depicts which features belong to what stage/phase/cycle of\n",
    "the pregnancy.  In Step 5, Carlos uses the same inputs as Udi (the Data-Wide-QC-full-data table\n",
    "and the time-points table)...so I'm guessing Udi re-uses a lot of Carlos' code at this point,\n",
    "but has customized to meet his needs and respect whatever lessons were learned in his time\n",
    "spent on the project.\n",
    "\n",
    "Ok, so recap:  Udi's first step is a re-hash/customization of Carlos' 5th step.  Udi takes\n",
    "the Data-Wide-QC table from Carlos' first step, then adds \n",
    "in high quality TOI features, as well as high quality smoking/alcohol features (I'm\n",
    "guessing an remnant TOI/smoking/alcohol features from Carlos' table are dropped in this stage).\n",
    "\n",
    "In summary, the files that Udi uses are:\n",
    "\n",
    "* data/processed/`mbh002_f3_toi_baseline_a.csv` AND data/processed/`mbh002_f3_toi_mon_baseline_a.csv`, \n",
    "  **which derive from**:\n",
    "    - data/raw/`BISH FETAL GA ASSESSMENT.csv`\n",
    "    - data/interim/`mbh001_Data-Wide-QC-full-data_20190924_V4_feateng.p`, **which derives from**:\n",
    "      * data/processed/`mbh001_Table-feature-timepoints_2090613_V8.xlsx`\n",
    "      * data/raw/`Fetal_Toitu_Physio_Features_Early_Signal_093019.csv`\n",
    "      * data/raw/`File_Early_Signal_alcohol_nicolo_20190924.xlsx`\n",
    "      * data/raw/`mbh001_Data-Wide-QC-full-data_20190614_V1.csv`, **which derives from**:\n",
    "          - scripts in Carlos' 4th step (explored more below)\n",
    "\n",
    "\n",
    "# Carlos' Pipeline\n",
    "\n",
    "\n",
    "## P1 (Carlos): Join All (Raw) Clinical and Demographic Data into One Demo/Clinical Table\n",
    "Carlos' pipeline starts with ~33 xlsx and csv files (referred to as databases) that are stored in\n",
    "his repo's data/raw/demographics directory (which is a slight misnomer given that many of the data\n",
    "files store clinical information, such as mental health scores, etc).  In his README file,\n",
    "Carlos has the following table depicting what the starting files are, along with the database name, and\n",
    "sometimes a comment.\n",
    "\n",
    "|file                                       |database                                      |Comment |\n",
    "|:------------------------------------------|:---------------------------------------------|:-------|\n",
    "|adabr.xlsx                                 |ADABR                                         |        |\n",
    "|adafppappa.xlsx                            |ADAFPPAPPA                                    |        |\n",
    "|IMP_adalc_patid_BISH_FINAL.csv             |ADALC_PATID                                   | Imputed by CU|\n",
    "|adamiel.xlsx                               |ADAMIEL                                       |        |\n",
    "|adamielbaby.xlsx                           |ADAMIELBABY                                   |        |\n",
    "|adcdrisc.xlsx                              |ADCDRISC                                      |        |\n",
    "|adce.xlsx                                  |ADCE                                          |        |\n",
    "|adcebaby.xlsx                              |ADCEBABY                                      |        |\n",
    "|adcompl.xlsx                               |ADCOMPL                                       |        |\n",
    "|addrg_patid.xlsx                           |ADDRG_PATID                                   |        |\n",
    "|addysmo.xlsx                               |ADDYSMO                                       |        |\n",
    "|adedin_merged_edit_bish.xlsx               |ADEDIN                                        |        |\n",
    "|adelig.xlsx                                |ADELIG                                        |        |\n",
    "|adexp_patid.xlsx                           |ADEXP_PATID                                   |        |\n",
    "|adfetalgrowth_BISHCORRECTED_01.24.19.xlsx  |ADFETALGROWTH                                 |QC'd by CU, features computed in `src/data/make_efw_feature.R` |\n",
    "|adinfntspecimenbaby.xlsx                   |ADINFNTSPECIMENBABY                           |        |\n",
    "|adinfntvs_long.xlsx                        |ADINFNTVS_LONG                                |        |\n",
    "|adinfntvs.xlsx                             |ADINFNTVS                                     |        |\n",
    "|admatspecimen.xlsx                         |ADMATSPECIMEN                                 |        |\n",
    "|admecon_smkdrg.xlsx                        |ADMECON_SMKDRG                                |        |\n",
    "|admeconium.xlsx                            |ADMECONIUM                                    |        |\n",
    "|admh.xlsx                                  |ADMH                                          |        |\n",
    "|admull.xlsx                                |ADMULL                                        |        |\n",
    "|adoae.xlsx                                 |ADOAE                                         |        |\n",
    "|adplacenta.xlsx                            |ADPLACENTA                                    |        |\n",
    "|adptsd.xlsx                                |ADPTSD                                        |        |\n",
    "|adreenroll.xlsx                            |ADREENROLL                                    |        |\n",
    "|adsc.xlsx                                  |ADSC                                          |        |\n",
    "|adscmat.xlsx                               |ADSCMAT                                       |        |\n",
    "|adsmk_patid.xlsx                           |ADSMK_PATID                                   |        |\n",
    "|adstai.xlsx                                |ADSTAI                                        |        |\n",
    "|advs_long.xlsx                             |ADVS_LONG                                     |        |\n",
    "|advs.xlsx                                  |ADVS                                          |        |\n",
    "\n",
    "\n",
    "For this step of the pipeline, Carlos runs `Rscript src/data/make_demographics-full_data.R`, which ingests all \n",
    "of the above tables and spits out `data/interim/demographics/mbh001_Data-full-demographics-long_20181221_V2.csv`. This table does not yet have any sensor data.  It is referred to as long b/c it does not yet respect\n",
    "the typical rules of a \"wide\" format (e.g., see: https://en.wikipedia.org/wiki/Wide_and_narrow_data).  \n",
    "\n",
    "\n",
    "## P2 (Carlos):  Join All (Raw) Sensor Data One Sensor Table\n",
    "Similarly for sensors, Carlos and Udi received a handful of files that they had to harmonize and\n",
    "join together.  This table is included in the README to depict the storage locations of the various\n",
    "sensor data sources:\n",
    "\n",
    "|path                                                              |Database                |\n",
    "|:-----------------------------------------------------------------|:-----------------------|\n",
    "|data/raw/fetal_hr/BISH_RMSSD_MONICA_052218_EARLY_SIGNAL2.csv               |MON HR and RMMSD        |\n",
    "|data/raw/maternal_hr/Maternal HR XFER 052318.xlsx                          |MON HR Signal Features  |      \n",
    "|data/raw/movement/maternal_MVMT_monica_EHG_EHG_XFER_240s_Epochs_051818.csv |MON MVT Signal Features |\n",
    "|data/raw/movement/fetal_MVMT_toitu_EDIT_240s_XFER_Signal_051818.csv        |TOI HR and MVT          |\n",
    "\n",
    "This step of the pipeline is, in a sense, paralell to the demo/clinical step since two separate\n",
    "collated tables are being created, which are then also combined down the line.  \n",
    "\n",
    "For this step in the pipeline, Carlos runs `Rscript src/data/make_sensor-full_data.R`, which\n",
    "ingests all the sensor tables listed above and spits out `data/interim/sensors/mbh001_Data-sensors-long_20181019_V1.csv`.  Here, Carlos also notes that here's a mistake in the variable names in `data/raw/sensors/movement/maternal_MVMT_monica_EHG_EHG_XFER_240s_Epochs_051818.csv`: the features labelled as HR correspond to MMVT.\n",
    "\n",
    "## P3 (Carlos):  QC All Data\n",
    "In this step, the results of the previous two steps converge along with a QC table\n",
    "that Udi/Carlos put together, which lists acceptable ranges for each var:\n",
    "* **Min/Max QC Table**: data/processed/qc_values⁩/mbh001_Table-Summary-Numeric_Features_20181221_V2.xlsx\n",
    "* **Joined Sensor Table**: data/interim/demographics/mbh001_Data-full-demographics-long_20181221_V2.csv\n",
    "* **Joined Demo/Clinical Table**: data/interim/sensors/mbh001_Data-sensors-long_20181019_V1.csv\n",
    "\n",
    "These tables are ingested by running `Rscript src/data/make_qc_data.R`, which then spits\n",
    "out a \"Long QC\" table: `data/processed/full_data_qc/mbh001_Data-QC-full-data_20190110_V1.csv`.  Carlos\n",
    "notes that artifcats are denoted by `-999999`, however Udi told me before he left that he\n",
    "had to modify a downstream script to search for both `-999999` (six 9's) and `-99999` (five 9's).  \n",
    "\n",
    "##  P4 (Carlos):  Transform the Long QC Table to a Wide QC Table\n",
    "This step is as straightforward as the title suggests: Carlos uses `python src/data/make_qc_data_long_to_wide.py`\n",
    "to ingest the long qc table (`data/processed/full_data_qc/mbh001_Data-QC-full-data_20190110_V1.feather`) and\n",
    "spit out the wide qc tab (`data/processed/full_data_qc/mbh001_Data-Wide-QC-full-data_20190614_V1.csv`).  \n",
    "\n",
    "**NOTE**: For anyone reading this wondering what the various `.p` and `.feather` \n",
    "extensions are, just know they simply \n",
    "correspond to more efficient encodings of the data.  In the above outline of the pipeline, you can still \n",
    "think of them as if they were CSV files if you want -- the gist is that tables are being built and stored in\n",
    "one stage of the pipeline, then loaded into another scripting environment in an subsequent stage.  If you\n",
    "actually want to look at the data and are unsure of how to load `.p` or `.feather` files, then no worries:\n",
    "Udi and Carlos often have a corresponding CSV file saved to.\n",
    "\n",
    "**Subsequent Pipeline Stages in Carlos' Original Pipeline**:\n",
    "Carlos' pipeline goes onto do quite a few other things, however Udi does not use any\n",
    "of those things directly.  Instead, he forks the project here and starts his own\n",
    "repo `mbh001_cu_2`.\n",
    "\n",
    "## P5 (Udi):  Touch Up Carlos' \"Wide QC Full Data\" Table\n",
    "\n",
    "> ### Script\n",
    "> Rscript src/features/build_features.py\n",
    "> \n",
    "> ### Input:\n",
    ">\n",
    "> * **Features metadata**: data/processed/mbh001_Table-feature-timepoints_2090613_V8.xlsx \n",
    ">   - which features to keep for F3 > baseline model\n",
    "> * **Full sensor data**: data/raw/mbh001_Data-Wide-QC-full-data_20190614_V1.csv \n",
    ">   - The wide QC'ed data from mbh001_cu project\n",
    "> * **High quality Toitu data**: data/raw/Fetal_Toitu_Physio_Features_Early_Signal_093019.csv\n",
    "> * **High quality smoking and alcohol data**: data/raw/File_Early_Signal_alcohol_nicolo_20190924.xlsx\n",
    ">\n",
    "> ### Output\n",
    "> data/interim/mbh001_Data-Wide-QC-full-data_20190924_V4_feateng.p (and csv)\n",
    ">\n",
    "> ### Notes\n",
    ">\n",
    "> * Keeping only features collected up to F3 based on information in the features metadata file\n",
    "> * Incorporating high quality Toi features data file\n",
    "> * Incorporating high quality alcohol and smoking features data file\n",
    "> * Removing redundant weight and height features\n",
    "> * Merging anxiety (adstai db) and depression (adedin db) features collected at F1 , F2 and F3 to \n",
    ">   eliminate missing values. A new feature is created to indicated from which cycle the data was recorded\n",
    "\n",
    "## P6 (Udi)\n",
    "\n",
    "Note that Udi has some typos in his README, some of which I fixed w/o explicitly noting.  But here\n",
    "is one:  here, he lists the script in use as `Rscript src/features/build_data.py`, when in reality\n",
    "it is `python src/data/build_f3_data.py`.\n",
    "\n",
    "> ### Script\n",
    "> `python src/data/build_f3_data.py`\n",
    ">\n",
    "> ### Input \n",
    "> * Interim data: `data/interim/mbh001_Data-Wide-QC-full-data_20190924_V4_feateng.p`\n",
    "> * F3 recording GA : `data/raw/BISH FETAL GA ASSESSMENT.csv`\n",
    ">\n",
    "> ### Output \n",
    "> * Baseline TOI and Monica file (Copmlete TOI intersected with Mon missing in less than 55% of the cases: \n",
    ">   `data/processed/mbh001_f3_toi_mon_baseline_timestamp.p` (and csv)\n",
    "> * Baseline TOI (Complete TOI): `data/processed/mbh001_f3_toi_baseline_timestamp.p` (and csv)\n",
    "> * Feature profile Toi  (Summary statistics and NAs): \n",
    ">   `data/processed/mbh001_f3_toi_baseline_timestamp_feat_profile.csv` \n",
    "> * Feature profile Toi and Mon (Summary statistics and NAs): \n",
    ">   `data/processed/mbh001_f3_toi_mon_baseline_timestamp_feat_profile.csv` \n",
    "\n",
    "Much of my analysis below looks at this code and the data being used from input files."
   ]
  },
  {
   "cell_type": "markdown",
   "metadata": {},
   "source": [
    "# Udi's Data Files"
   ]
  },
  {
   "cell_type": "code",
   "execution_count": 1,
   "metadata": {},
   "outputs": [
    {
     "name": "stdout",
     "output_type": "stream",
     "text": [
      "BISH FETAL GA ASSESSMENT.csv\r\n",
      "Fetal_Toitu_Physio_Features_Early_Signal_093019.csv\r\n",
      "File_Early_Signal_alcohol_nicolo_20190924.xlsx\r\n",
      "f3_df.csv\r\n",
      "jdn_edits_092319_mbh002_feat-profile-df_20190913_v01.csv\r\n",
      "mbh001_Data-Train-Test-GA-20190501_V1.p\r\n",
      "mbh001_Data-Wide-QC-full-data_20190614_V1.csv\r\n",
      "mbh001_data-train-and-test-final-report_v01.p\r\n"
     ]
    }
   ],
   "source": [
    "!ls ../data/raw"
   ]
  },
  {
   "cell_type": "code",
   "execution_count": 2,
   "metadata": {},
   "outputs": [
    {
     "name": "stdout",
     "output_type": "stream",
     "text": [
      "mbh001_Data-Wide-QC-full-data_20190614_V1_feateng.csv\r\n",
      "mbh001_Data-Wide-QC-full-data_20190919_V2_feateng.csv\r\n",
      "mbh001_Data-Wide-QC-full-data_20190924_V3_feateng.csv\r\n",
      "mbh001_Data-Wide-QC-full-data_20190924_V4_feateng\r\n",
      "mbh001_Data-Wide-QC-full-data_20190924_V4_feateng.csv\r\n",
      "mbh001_Data-Wide-QC-full-data_20190924_V4_feateng.p\r\n"
     ]
    }
   ],
   "source": [
    "!ls ../data/interim/"
   ]
  },
  {
   "cell_type": "code",
   "execution_count": 2,
   "metadata": {},
   "outputs": [
    {
     "name": "stdout",
     "output_type": "stream",
     "text": [
      "feat_profile.csv\r\n",
      "feat_profile1.csv\r\n",
      "feat_profile_artifacts_as_na_20190923_V01.csv\r\n",
      "feat_profile_df.csv\r\n",
      "feat_profile_df_20191909_v01.csv\r\n",
      "feat_profile_df_20192409_v01.csv\r\n",
      "feat_profile_df_artifacts_as_na.csv\r\n",
      "feat_profile_df_for_slides.csv\r\n",
      "feat_profile_df_for_slides.xlsx\r\n",
      "feature_profiling.pdf\r\n",
      "mbh001_Data-QC-full-data_20190110_V1.feather\r\n",
      "mbh001_Data-Train-Test-GA-20190501_V1.p\r\n",
      "mbh001_Table-feature-timepoints_2090613_V8 copy.xlsx\r\n",
      "mbh001_Table-feature-timepoints_2090613_V8.xlsx\r\n",
      "mbh001_data-train-and-test-final-report_v01.p\r\n",
      "mbh001_f3_toi_baseline_a.csv\r\n",
      "mbh001_f3_toi_baseline_a.p\r\n",
      "mbh001_f3_toi_baseline_a_feat_profile.csv\r\n",
      "mbh001_f3_toi_mon_baseline_a.csv\r\n",
      "mbh001_f3_toi_mon_baseline_a.p\r\n",
      "mbh001_f3_toi_mon_baseline_a_feat_profile.csv\r\n",
      "mbh002_Table-feature-timepoints_2090613_V5.xlsx\r\n",
      "mbh002_Table-feature-timepoints_2090613_V6.xlsx\r\n",
      "mbh002_Table-feature-timepoints_2090613_V7.xlsx\r\n",
      "mbh002_Table-feature-timepoints_2090613_V8.xlsx\r\n",
      "mbh002_f3_baseline.csv\r\n",
      "mbh002_f3_baseline_20190924202444.csv\r\n",
      "mbh002_f3_baseline_20190924202600.csv\r\n",
      "mbh002_f3_baseline_20190924204613.csv\r\n",
      "mbh002_f3_baseline_20190924204911.csv\r\n",
      "mbh002_f3_baseline_20190925014523.csv\r\n",
      "mbh002_f3_baseline_20190925014800.csv\r\n",
      "mbh002_f3_baseline_20190925022814.csv\r\n",
      "mbh002_f3_toi_baseline_20190925025701.csv\r\n",
      "mbh002_f3_toi_baseline_20190925030702.csv\r\n",
      "mbh002_f3_toi_baseline_20190925030702.csv_feat_profile.csv\r\n",
      "mbh002_f3_toi_baseline_20190925031542.csv\r\n",
      "mbh002_f3_toi_baseline_20190925031918.csv\r\n",
      "mbh002_f3_toi_baseline_20190925032523.csv\r\n",
      "mbh002_f3_toi_baseline_20190925032523.csv_feat_profile.csv\r\n",
      "mbh002_f3_toi_baseline_20190925032627.csv\r\n",
      "mbh002_f3_toi_baseline_20190925032627.csv_feat_profile.csv\r\n",
      "mbh002_f3_toi_baseline_20190925034411.csv\r\n",
      "mbh002_f3_toi_baseline_20190925034447.csv\r\n",
      "mbh002_f3_toi_baseline_20190925034447.csv_feat_profile.csv\r\n",
      "mbh002_f3_toi_baseline_20190925034532.csv\r\n",
      "mbh002_f3_toi_baseline_20190925034532.csv_feat_profile.csv\r\n",
      "mbh002_f3_toi_baseline_20190925034707.csv\r\n",
      "mbh002_f3_toi_baseline_20190925034707.csv_feat_profile.csv\r\n",
      "mbh002_f3_toi_baseline_a\r\n",
      "mbh002_f3_toi_baseline_a.csv\r\n",
      "mbh002_f3_toi_baseline_a.p\r\n",
      "mbh002_f3_toi_baseline_a_feat_profile.csv\r\n",
      "mbh002_f3_toi_mon_baseline_20190925023847.csv\r\n",
      "mbh002_f3_toi_mon_baseline_20190925024240.csv\r\n",
      "mbh002_f3_toi_mon_baseline_20190925024240.csv_feat_profile.csv\r\n",
      "mbh002_f3_toi_mon_baseline_20190925025701.csv\r\n",
      "mbh002_f3_toi_mon_baseline_20190925030702.csv\r\n",
      "mbh002_f3_toi_mon_baseline_20190925031542.csv\r\n",
      "mbh002_f3_toi_mon_baseline_20190925031918.csv\r\n",
      "mbh002_f3_toi_mon_baseline_20190925032523.csv\r\n",
      "mbh002_f3_toi_mon_baseline_20190925032523.csv_feat_profile.csv\r\n",
      "mbh002_f3_toi_mon_baseline_20190925032627.csv\r\n",
      "mbh002_f3_toi_mon_baseline_20190925032627.csv_feat_profile.csv\r\n",
      "mbh002_f3_toi_mon_baseline_20190925034411.csv\r\n",
      "mbh002_f3_toi_mon_baseline_20190925034447.csv\r\n",
      "mbh002_f3_toi_mon_baseline_20190925034447.csv_feat_profile.csv\r\n",
      "mbh002_f3_toi_mon_baseline_20190925034532.csv\r\n",
      "mbh002_f3_toi_mon_baseline_20190925034532.csv_feat_profile.csv\r\n",
      "mbh002_f3_toi_mon_baseline_20190925034707.csv\r\n",
      "mbh002_f3_toi_mon_baseline_20190925034707.csv_feat_profile.csv\r\n",
      "mbh002_f3_toi_mon_baseline_a\r\n",
      "mbh002_f3_toi_mon_baseline_a.csv\r\n",
      "mbh002_f3_toi_mon_baseline_a.p\r\n",
      "mbh002_f3_toi_mon_baseline_a_feat_profile.csv\r\n",
      "mbh002_feat-profile-df_20190913_v01.csv\r\n",
      "~$mbh002_Table-feature-timepoints_2090613_V6.xlsx\r\n",
      "~$mbh002_Table-feature-timepoints_2090613_V8.xlsx\r\n"
     ]
    }
   ],
   "source": [
    "!ls ../data/processed/"
   ]
  },
  {
   "cell_type": "markdown",
   "metadata": {},
   "source": [
    "# Udi's Data Processing Scripts"
   ]
  },
  {
   "cell_type": "code",
   "execution_count": 2,
   "metadata": {},
   "outputs": [
    {
     "name": "stdout",
     "output_type": "stream",
     "text": [
      "\u001b[01;34m../src/\u001b[00m\r\n",
      "├── __init__.py\r\n",
      "├── \u001b[01;34mdata\u001b[00m\r\n",
      "│   ├── __init__.py\r\n",
      "│   ├── build_f3_data.py\r\n",
      "│   ├── feat_profile.py\r\n",
      "│   └── make_dataset.py\r\n",
      "├── \u001b[01;34mfeatures\u001b[00m\r\n",
      "│   ├── __init__.py\r\n",
      "│   └── build_features.py\r\n",
      "├── \u001b[01;34mmodels\u001b[00m\r\n",
      "│   ├── __init__.py\r\n",
      "│   ├── predict_model.py\r\n",
      "│   └── train_model.py\r\n",
      "└── \u001b[01;34mvisualization\u001b[00m\r\n",
      "    ├── __init__.py\r\n",
      "    └── visualize.py\r\n",
      "\r\n",
      "4 directories, 12 files\r\n"
     ]
    }
   ],
   "source": [
    "!tree ../src/"
   ]
  },
  {
   "cell_type": "code",
   "execution_count": 3,
   "metadata": {},
   "outputs": [
    {
     "name": "stdout",
     "output_type": "stream",
     "text": [
      "__init__.py      build_f3_data.py feat_profile.py  make_dataset.py\r\n"
     ]
    }
   ],
   "source": [
    "!ls ../src/data"
   ]
  },
  {
   "cell_type": "markdown",
   "metadata": {},
   "source": [
    "# Investigating Udi's First Step (P5)"
   ]
  },
  {
   "cell_type": "code",
   "execution_count": 253,
   "metadata": {
    "scrolled": false
   },
   "outputs": [
    {
     "name": "stdout",
     "output_type": "stream",
     "text": [
      "import pandas as pd\r\n",
      "import numpy as np\r\n",
      "import pickle\r\n",
      "\r\n",
      "\r\n",
      "#------------------------------------------------------------------------------\r\n",
      "# Extracting F3 Features\r\n",
      "#------------------------------------------------------------------------------\r\n",
      "# Load in Feature Time Points File\r\n",
      "feat_timepoint = pd.read_excel(\r\n",
      "        \"data/processed/mbh001_Table-feature-timepoints_2090613_V8.xlsx\")\r\n",
      "# Only keep F3 Baseline Records\r\n",
      "#  -- also: only keep necessary cols (e.g., for naming convention)\r\n",
      "feat_timepoint_f3 = feat_timepoint[\r\n",
      "        feat_timepoint['KEEP_F3_BASELINE']==1].\\\r\n",
      "                loc[:,['DB','feature','cycleid','feat_type']]\r\n",
      "# Create features names following DB.FTR.CID convention\r\n",
      "f3_features = feat_timepoint_f3['DB'] + '.' + feat_timepoint_f3['feature'] +\\\r\n",
      "        '.' + feat_timepoint_f3['cycleid'].astype('str')\r\n",
      "# Create DataFrame that matches feature names to data type\r\n",
      "f3_features_df = pd.DataFrame({\r\n",
      "    'feat_name': f3_features,\r\n",
      "    'feat_type': feat_timepoint_f3['feat_type']}).set_index('feat_name')\r\n",
      "# Ensure all feature names are lower case\r\n",
      "f3_features_df.index = (f3_features_df.index).map(str.lower)\r\n",
      "# Index all numeric features\r\n",
      "num_f3_feat = f3_features_df[f3_features_df['feat_type'] == 'numeric'].index\r\n",
      "# Index all categorical features\r\n",
      "cat_f3_feat = f3_features_df[f3_features_df['feat_type'] == 'categorical'].index\r\n",
      "\r\n",
      "\r\n",
      "\r\n",
      "#------------------------------------------------------------------------------\r\n",
      "# Loading Wide-QC'd Data\r\n",
      "#------------------------------------------------------------------------------\r\n",
      "# Load in QC'd, Wide, Full Dta Table (output of Carlos' step 4)\r\n",
      "df = pd.read_csv(\"data/raw/mbh001_Data-Wide-QC-full-data_20190614_V1.csv\",\r\n",
      "        dtype = {754: str, 757: str, 765: str, 855: str, 1225: str,\r\n",
      "                         1226: str, 1229: str, 1475: str, 1485: str}).\\\r\n",
      "        set_index('patid',drop=False)\r\n",
      "# Keep only the F3 features (identified above using time points table)\r\n",
      "df = df[f3_features]\r\n",
      "# Ensure that column names are all lower case\r\n",
      "df.columns = map(str.lower, df.columns)\r\n",
      "# Ensure that all numeric features are of type float64\r\n",
      "df[num_f3_feat] = df[num_f3_feat].astype('float64')\r\n",
      "# Ensure that all categorical features are of type object\r\n",
      "df[cat_f3_feat] = df[cat_f3_feat].astype('object')\r\n",
      "# Keep Only Numeric and Categorical (Ignore Date Vars)\r\n",
      "df = df[num_f3_feat.union(cat_f3_feat)]\r\n",
      "\r\n",
      "\r\n",
      "#------------------------------------------------------------------------------\r\n",
      "def remove_cycle_from_feature_name(\r\n",
      "    f_name,\r\n",
      "):\r\n",
      "    #Retrieves a feature name and returns it excluding the cycle\r\n",
      "    return('.'.join(f_name.split('.')[0:-1]))\r\n",
      "\r\n",
      "\r\n",
      "#------------------------------------------------------------------------------\r\n",
      "def retrieve_groups_from_feature_names(\r\n",
      "    feature_names,\r\n",
      "):\r\n",
      "\tfeature_groups = list(set(\r\n",
      "            [remove_cycle_from_feature_name(l) for l in feature_names]\r\n",
      "        ))\r\n",
      "\treturn(feature_groups)\r\n",
      "\r\n",
      "\r\n",
      "#------------------------------------------------------------------------------\r\n",
      "def return_not_nan_value(\r\n",
      "    row,\r\n",
      "):\r\n",
      "    # For a given vector with one or less complete value returns the value\r\n",
      "    if (row.isnull().all()): # If all missing values return nan and proceed\r\n",
      "        return np.nan\r\n",
      "    elif(row.notnull().sum() > 1): # If more than one missing value raise error\r\n",
      "        print(row.notnull().sum() > 1)\r\n",
      "        raise ValueError('More than one missing value in {}'.format(row.name))\r\n",
      "    else:\r\n",
      "        # return row[~np.isnan(row)][0]\r\n",
      "        return row[row.notnull()][0]\r\n",
      "\r\n",
      "\r\n",
      "#------------------------------------------------------------------------------\r\n",
      "def return_not_nan_cycle(\r\n",
      "    row,\r\n",
      "):\r\n",
      "    # For a given feature series with one or less complete value returns \r\n",
      "    #     the cycle id corresponds to the complete value\r\n",
      "    if (row.isnull().all()):\r\n",
      "        return np.nan\r\n",
      "    else:\r\n",
      "        return row[row.notnull()].index[0].split('.')[-1]\r\n",
      "\r\n",
      "\r\n",
      "#------------------------------------------------------------------------------\r\n",
      "def feat_combine(\r\n",
      "    df,\r\n",
      "    dataset_name,\r\n",
      "):\r\n",
      "\r\n",
      "\tfeature_groups = retrieve_groups_from_feature_names(\r\n",
      "                df.filter(regex=dataset_name).columns)\r\n",
      "\tprint(feature_groups)\r\n",
      "\tprint('Checking that all patients has only one reading either at '\r\n",
      "            '10,15 or 20 cycle')\r\n",
      "\tassert(all([all(df.filter(regex=feat+'\\.').notna().sum(axis=1)<=1)\r\n",
      "            for feat in feature_groups]))\r\n",
      "\r\n",
      "\tfor f in feature_groups:\r\n",
      "            print (f)\r\n",
      "            eng_feat_name = f+\".101520\"\r\n",
      "            eng_feat_name_cycle = f+\".cycle\"+\".101520\"\r\n",
      "            print('Engineering feature {}'.format(eng_feat_name))\r\n",
      "            df[eng_feat_name] = df.filter(regex=f+\"\\\\.\").\\\r\n",
      "                    apply(return_not_nan_value,axis=1)\r\n",
      "            df[eng_feat_name] = df[eng_feat_name].astype('float64')\r\n",
      "            print('Engineering feature {}'.format(eng_feat_name_cycle))\r\n",
      "            df[eng_feat_name_cycle] = df.filter(regex=f+\"\\\\.\").\\\r\n",
      "                    apply(return_not_nan_cycle,axis=1)\r\n",
      "            df[eng_feat_name_cycle] = df[eng_feat_name_cycle].astype('object')\r\n",
      "            df.drop(columns = [f+'.10',f+'.15',f+'.20'], axis=1, inplace=True)\r\n",
      "\r\n",
      "\treturn(df)\r\n",
      "\r\n",
      "\r\n",
      "#------------------------------------------------------------------------------\r\n",
      "# Incorporate High Quality TOI Features (received from CU on 09/30/2019)\r\n",
      "#------------------------------------------------------------------------------\r\n",
      "toihq = pd.read_csv(\"data/raw/Fetal_Toitu_Physio_Features_Early_Signal_093019.csv\")\r\n",
      "toihq.columns = toihq.columns.map(str.lower)\r\n",
      "toihq.set_index('patid', inplace=True)\r\n",
      "\r\n",
      "def toi_feat_names(\r\n",
      "    x,\r\n",
      "):\r\n",
      "    '''\r\n",
      "    Converts feature names:\r\n",
      "        f1_mvmt11sd to TOI.mvmt11sd.10\r\n",
      "        f2_mvmt11sd to TOI.mvmt11sd.15\r\n",
      "        f3_mvmt11sd to TOI.mvmt11sd.20\r\n",
      "    '''\r\n",
      "    cycle = x[0:2]\r\n",
      "    if cycle == 'f1':\r\n",
      "        return('toi.' + x + '.10')\r\n",
      "    elif cycle == 'f2':\r\n",
      "        return('toi.' + x + '.15')\r\n",
      "    elif cycle == 'f3':\r\n",
      "        return('toi.' + x + '.20')\r\n",
      "    else:\r\n",
      "        return(x)\r\n",
      "\r\n",
      "toihq.columns = toihq.columns.map(lambda x: toi_feat_names(x))\r\n",
      "toihq = toihq.astype('float64')\r\n",
      "df = df.merge(toihq, left_index=True, right_index=True, how='left')\r\n",
      "\r\n",
      "\r\n",
      "#------------------------------------------------------------------------------\r\n",
      "# Incorporate CU alcohol/smoking (daily/weekly avgs per trimester)\r\n",
      "#------------------------------------------------------------------------------\r\n",
      "alc_smk_data = pd.read_excel(\r\n",
      "        \"data/raw/File_Early_Signal_alcohol_nicolo_20190924.xlsx\",\r\n",
      "        index_col='patid',na_values=['MISSING'])\r\n",
      "\r\n",
      "alc_smk_num_features =  ['T1_Alc_perday','T2_Alc_perday','T3_Alc_perday',\r\n",
      "        'T1_AveCigs.Wk','T2_AveCigs.Wk','T3_AveCigs.Wk']\r\n",
      "\r\n",
      "alc_smk_cat_features = ['Alc_Binary','Smk_Binary']\r\n",
      "\r\n",
      "alc_smk_df = alc_smk_data[alc_smk_cat_features + alc_smk_num_features]\r\n",
      "alc_smk_df[alc_smk_cat_features] = alc_smk_df[alc_smk_cat_features].astype('object')\r\n",
      "alc_smk_df[alc_smk_num_features] = alc_smk_df[alc_smk_num_features].astype('float64')\r\n",
      "\r\n",
      "alc_smk_df.columns = ['alc_smk.{}.preg'.format(feat) for feat in alc_smk_df.columns]\r\n",
      "\r\n",
      "df = df.merge(alc_smk_df, how='left', left_index=True, right_index=True)\r\n",
      "\r\n",
      "\r\n",
      "#------------------------------------------------------------------------------\r\n",
      "# ADVS - Removing redundunt weight features\r\n",
      "#------------------------------------------------------------------------------\r\n",
      "redundant_weight_features = ['advs.weight1.5', 'advs.weight2.5',\r\n",
      "        'advs.weight3.5', 'advs_long.weighttlfu1.10',\r\n",
      "        'advs_long.weighttlfu2.10', 'advs_long.weighttlfu3.10',\r\n",
      "        'advs_long.weighttlfu1.15', 'advs_long.weighttlfu2.15',\r\n",
      "        'advs_long.weighttlfu3.15', 'advs_long.weighttlfu2.20',\r\n",
      "        'advs_long.weighttlfu3.20', 'advs_long.weighttlfulb.20']\r\n",
      "redundant_height_features = ['advs.height1.5','advs.height2.5','advs.height3.5']\r\n",
      "\r\n",
      "df=df.drop(redundant_weight_features,axis=1).\\\r\n",
      "        drop(redundant_height_features,axis=1)\r\n",
      "\r\n",
      "\r\n",
      "#------------------------------------------------------------------------------\r\n",
      "# ADEDIN\r\n",
      "#------------------------------------------------------------------------------\r\n",
      "# 'S002-BISH-01234' has more than one missing value so removing first assesment \r\n",
      "#     for consistency\r\n",
      "df.loc['S002-BISH-01234','adedin.edinburgh_raw.10']   = np.nan\r\n",
      "df.loc['S002-BISH-01234','adedin.edinburgh_13fl2.10'] = np.nan\r\n",
      "df.loc['S002-BISH-01234','adedin.edinburgh_15fl2.10'] = np.nan\r\n",
      "df.loc['S002-BISH-01234','adedin.edinburgh_nmiss.10'] = np.nan\r\n",
      "\r\n",
      "df=feat_combine(df,'adedin')\r\n",
      "adedin_cat_feat = ['adedin.edinburgh_13fl2.101520',\r\n",
      "        'adedin.edinburgh_15fl2.101520']\r\n",
      "# Next Line: Required since the feat_combine function return float64\r\n",
      "df[adedin_cat_feat] = df[adedin_cat_feat].astype('object')\r\n",
      "\r\n",
      "#------------------------------------------------------------------------------\r\n",
      "# ADSTAI\r\n",
      "#------------------------------------------------------------------------------\r\n",
      "df = feat_combine(df,'adstai')\r\n",
      "\r\n",
      "#Engineer anxiety levels\r\n",
      "anxiety_bins = pd.IntervalIndex.from_tuples([(0, 9), (10, 18), (19, 29),(30,100)],'both')\r\n",
      "\r\n",
      "def anxiety_bins(x):\r\n",
      "\tif (x>=0 and x<=9):\r\n",
      "\t\treturn(0)\r\n",
      "\telif (x>=10 and x<=18):\r\n",
      "\t\treturn(1)\r\n",
      "\telif (x>=19 and x<=29):\r\n",
      "\t\treturn(2)\r\n",
      "\telif (x>=30):\r\n",
      "\t\treturn(3)\r\n",
      "\telse:\r\n",
      "\t\treturn(np.nan)\r\n",
      "\r\n",
      "\r\n",
      "df['adstai.t_anxiety.levels.101520'] = \\\r\n",
      "        df['adstai.t_anxiety.101520'].map(anxiety_bins).astype('object')\r\n",
      "df['adstai.s_anxiety.levels.101520'] = \\\r\n",
      "        df['adstai.s_anxiety.101520'].map(anxiety_bins).astype('object')\r\n",
      "\r\n",
      "\r\n",
      "\r\n",
      "\r\n",
      "fname = \"data/interim/mbh001_Data-Wide-QC-full-data_20190924_V4_feateng\"\r\n",
      "\r\n",
      "print('Writing file:{}'.format(fname+'.csv'))\r\n",
      "df.to_csv(fname+'.csv', index=True)\r\n",
      "\r\n",
      "print('Writing file:{}'.format(fname+'.p'))\r\n",
      "pickle.dump(df, open(fname+'.p', \"wb\" ) )\r\n",
      "\r\n"
     ]
    }
   ],
   "source": [
    "!cat ../src/features/build_features.py"
   ]
  },
  {
   "cell_type": "code",
   "execution_count": 14,
   "metadata": {},
   "outputs": [],
   "source": [
    "import pandas as pd\n",
    "import numpy as np\n",
    "from datetime import datetime\n",
    "import pickle"
   ]
  },
  {
   "cell_type": "code",
   "execution_count": 16,
   "metadata": {},
   "outputs": [],
   "source": [
    "toihq = pd.read_csv(\"../data/raw/Fetal_Toitu_Physio_Features_Early_Signal_093019.csv\")\n",
    "toihq.columns = toihq.columns.map(str.lower)\n",
    "toihq.set_index('patid',inplace=True)"
   ]
  },
  {
   "cell_type": "markdown",
   "metadata": {},
   "source": [
    "### What is the TOI table shaped like?\n",
    "We find here that there are 14,157 rows, however this is wrong.  For some reason, over 14,000 rows are imported from the TOI CSV file.  However, when you inspect more closely, most of the rows (over 7,000) are 100% empty.  "
   ]
  },
  {
   "cell_type": "code",
   "execution_count": 18,
   "metadata": {},
   "outputs": [
    {
     "data": {
      "text/plain": [
       "(14157, 47)"
      ]
     },
     "execution_count": 18,
     "metadata": {},
     "output_type": "execute_result"
    }
   ],
   "source": [
    "toihq.shape"
   ]
  },
  {
   "cell_type": "markdown",
   "metadata": {},
   "source": [
    "### How many unique patient IDs?\n",
    "Assuming you do not know that over 7k rows are empty, if you compare the number of unique \n",
    "patients IDs to the number of rows, it would appear that patients typically have more than\n",
    "one record in the TOI data."
   ]
  },
  {
   "cell_type": "code",
   "execution_count": 29,
   "metadata": {},
   "outputs": [
    {
     "name": "stdout",
     "output_type": "stream",
     "text": [
      "Num Rows:\t\t 14157\n",
      "Num Distinct Patients:\t 6492\n"
     ]
    }
   ],
   "source": [
    "toihq_nrows = len(toihq.index)\n",
    "toihq_nrows_uniq = len(toihq.index.unique())\n",
    "print('Num Rows:\\t\\t', toihq_nrows)\n",
    "print('Num Distinct Patients:\\t', toihq_nrows_uniq)"
   ]
  },
  {
   "cell_type": "markdown",
   "metadata": {},
   "source": [
    "### How many unique patient ID row counts exist?\n",
    "Still assuming there are 14k rows, but only 6.5k patients, you might be interested\n",
    "in knowing \n",
    "* how many patients have 1 row of data?\n",
    "* how many have 2 rows of data?\n",
    "* how many have 3 rows of data?\n",
    "* ...and so on.\n",
    "\n",
    "Here we find that a patient either has 1 record or 2.  That's it.\n",
    "\n",
    "Ok... So most patients MUST have 2 rows.  Again, assuming nothing was wrong with the \n",
    "loaded data table, we have 6.5k patients and 14k records...\n",
    "\n",
    "But, wait!  That doesn't make sense, right?  Basic math: `2 * 6.5k = 13k`.  In other words,\n",
    "even if all the patients had 2 rows, this would account for all the rows in the file."
   ]
  },
  {
   "cell_type": "code",
   "execution_count": 147,
   "metadata": {},
   "outputs": [
    {
     "data": {
      "text/html": [
       "<div>\n",
       "<style scoped>\n",
       "    .dataframe tbody tr th:only-of-type {\n",
       "        vertical-align: middle;\n",
       "    }\n",
       "\n",
       "    .dataframe tbody tr th {\n",
       "        vertical-align: top;\n",
       "    }\n",
       "\n",
       "    .dataframe thead th {\n",
       "        text-align: right;\n",
       "    }\n",
       "</style>\n",
       "<table border=\"1\" class=\"dataframe\">\n",
       "  <thead>\n",
       "    <tr style=\"text-align: right;\">\n",
       "      <th></th>\n",
       "      <th>patid</th>\n",
       "    </tr>\n",
       "    <tr>\n",
       "      <th>count</th>\n",
       "      <th></th>\n",
       "    </tr>\n",
       "  </thead>\n",
       "  <tbody>\n",
       "    <tr>\n",
       "      <th>1</th>\n",
       "      <td>6489</td>\n",
       "    </tr>\n",
       "    <tr>\n",
       "      <th>2</th>\n",
       "      <td>2</td>\n",
       "    </tr>\n",
       "  </tbody>\n",
       "</table>\n",
       "</div>"
      ],
      "text/plain": [
       "       patid\n",
       "count       \n",
       "1       6489\n",
       "2          2"
      ]
     },
     "execution_count": 147,
     "metadata": {},
     "output_type": "execute_result"
    }
   ],
   "source": [
    "patid_count = toihq.reset_index().groupby('patid')['patid'].agg('count').to_frame('count')\n",
    "patid_count.reset_index().groupby('count').agg('count')"
   ]
  },
  {
   "cell_type": "code",
   "execution_count": 151,
   "metadata": {},
   "outputs": [
    {
     "data": {
      "text/html": [
       "<div>\n",
       "<style scoped>\n",
       "    .dataframe tbody tr th:only-of-type {\n",
       "        vertical-align: middle;\n",
       "    }\n",
       "\n",
       "    .dataframe tbody tr th {\n",
       "        vertical-align: top;\n",
       "    }\n",
       "\n",
       "    .dataframe thead th {\n",
       "        text-align: right;\n",
       "    }\n",
       "</style>\n",
       "<table border=\"1\" class=\"dataframe\">\n",
       "  <thead>\n",
       "    <tr style=\"text-align: right;\">\n",
       "      <th></th>\n",
       "      <th>count</th>\n",
       "    </tr>\n",
       "    <tr>\n",
       "      <th>patid</th>\n",
       "      <th></th>\n",
       "    </tr>\n",
       "  </thead>\n",
       "  <tbody>\n",
       "    <tr>\n",
       "      <th>S002-BISH-00001</th>\n",
       "      <td>1</td>\n",
       "    </tr>\n",
       "    <tr>\n",
       "      <th>S002-BISH-00002</th>\n",
       "      <td>1</td>\n",
       "    </tr>\n",
       "    <tr>\n",
       "      <th>S002-BISH-00003</th>\n",
       "      <td>1</td>\n",
       "    </tr>\n",
       "  </tbody>\n",
       "</table>\n",
       "</div>"
      ],
      "text/plain": [
       "                 count\n",
       "patid                 \n",
       "S002-BISH-00001      1\n",
       "S002-BISH-00002      1\n",
       "S002-BISH-00003      1"
      ]
     },
     "execution_count": 151,
     "metadata": {},
     "output_type": "execute_result"
    }
   ],
   "source": [
    "patid_count.head(3)"
   ]
  },
  {
   "cell_type": "markdown",
   "metadata": {},
   "source": [
    "Something is fishy... Let's try counting duplicated patient IDs again... "
   ]
  },
  {
   "cell_type": "code",
   "execution_count": 154,
   "metadata": {},
   "outputs": [
    {
     "data": {
      "text/plain": [
       "0"
      ]
     },
     "execution_count": 154,
     "metadata": {},
     "output_type": "execute_result"
    }
   ],
   "source": [
    "len([item for item in patid_count.iterrows() if item[1]['count'] < 1])"
   ]
  },
  {
   "cell_type": "code",
   "execution_count": 155,
   "metadata": {},
   "outputs": [
    {
     "data": {
      "text/plain": [
       "6489"
      ]
     },
     "execution_count": 155,
     "metadata": {},
     "output_type": "execute_result"
    }
   ],
   "source": [
    "len([item for item in patid_count.iterrows() if item[1]['count'] == 1])"
   ]
  },
  {
   "cell_type": "code",
   "execution_count": 156,
   "metadata": {},
   "outputs": [
    {
     "data": {
      "text/plain": [
       "2"
      ]
     },
     "execution_count": 156,
     "metadata": {},
     "output_type": "execute_result"
    }
   ],
   "source": [
    "len([item for item in patid_count.iterrows() if item[1]['count'] == 2])"
   ]
  },
  {
   "cell_type": "code",
   "execution_count": 157,
   "metadata": {},
   "outputs": [
    {
     "data": {
      "text/plain": [
       "0"
      ]
     },
     "execution_count": 157,
     "metadata": {},
     "output_type": "execute_result"
    }
   ],
   "source": [
    "len([item for item in patid_count.iterrows() if item[1]['count'] > 2])"
   ]
  },
  {
   "cell_type": "markdown",
   "metadata": {},
   "source": [
    "#### Further Investigation\n",
    "At this point, I should have just opened Excel, which makes it REAL obvious that \n",
    "there are only around 6.5k rows of real data...the other rows being fully empty.  \n",
    "\n",
    "But I didn't!\n",
    "\n",
    "I went back to the toihq dataframe and got an important ERROR message that helped\n",
    "me crack the case. \n",
    "\n",
    "Desperate, I figured I'd check whether some IDs are upper case and other lower case... Not\n",
    "that this should have produced any fruitful results (they would have just been treated\n",
    "as distinct IDs), but as luck would have it, it did anyway.\n",
    "\n",
    "Turns out that 7,664 PATIENT IDs are NaNs... This is what finally led me to opening\n",
    "up Excel.  Sometimes it's the best tool!"
   ]
  },
  {
   "cell_type": "code",
   "execution_count": 178,
   "metadata": {},
   "outputs": [
    {
     "data": {
      "text/plain": [
       "['S002-BISH-00001',\n",
       " 'S002-BISH-00002',\n",
       " 'S002-BISH-00010',\n",
       " 'S002-BISH-00012',\n",
       " 'S002-BISH-00015',\n",
       " 'S002-BISH-00016',\n",
       " 'S002-BISH-00017',\n",
       " 'S002-BISH-00020',\n",
       " 'S002-BISH-00022',\n",
       " 'S002-BISH-00026']"
      ]
     },
     "execution_count": 178,
     "metadata": {},
     "output_type": "execute_result"
    }
   ],
   "source": [
    "[item for item in toihq.index][:10]"
   ]
  },
  {
   "cell_type": "code",
   "execution_count": 179,
   "metadata": {},
   "outputs": [
    {
     "ename": "AttributeError",
     "evalue": "'float' object has no attribute 'lower'",
     "output_type": "error",
     "traceback": [
      "\u001b[0;31m---------------------------------------------------------------------------\u001b[0m",
      "\u001b[0;31mAttributeError\u001b[0m                            Traceback (most recent call last)",
      "\u001b[0;32m<ipython-input-179-38e9deada17b>\u001b[0m in \u001b[0;36m<module>\u001b[0;34m\u001b[0m\n\u001b[0;32m----> 1\u001b[0;31m \u001b[0;34m[\u001b[0m\u001b[0mitem\u001b[0m\u001b[0;34m.\u001b[0m\u001b[0mlower\u001b[0m\u001b[0;34m(\u001b[0m\u001b[0;34m)\u001b[0m \u001b[0;32mfor\u001b[0m \u001b[0mitem\u001b[0m \u001b[0;32min\u001b[0m \u001b[0mtoihq\u001b[0m\u001b[0;34m.\u001b[0m\u001b[0mindex\u001b[0m\u001b[0;34m]\u001b[0m\u001b[0;34m[\u001b[0m\u001b[0;34m:\u001b[0m\u001b[0;36m10\u001b[0m\u001b[0;34m]\u001b[0m\u001b[0;34m\u001b[0m\u001b[0;34m\u001b[0m\u001b[0m\n\u001b[0m",
      "\u001b[0;32m<ipython-input-179-38e9deada17b>\u001b[0m in \u001b[0;36m<listcomp>\u001b[0;34m(.0)\u001b[0m\n\u001b[0;32m----> 1\u001b[0;31m \u001b[0;34m[\u001b[0m\u001b[0mitem\u001b[0m\u001b[0;34m.\u001b[0m\u001b[0mlower\u001b[0m\u001b[0;34m(\u001b[0m\u001b[0;34m)\u001b[0m \u001b[0;32mfor\u001b[0m \u001b[0mitem\u001b[0m \u001b[0;32min\u001b[0m \u001b[0mtoihq\u001b[0m\u001b[0;34m.\u001b[0m\u001b[0mindex\u001b[0m\u001b[0;34m]\u001b[0m\u001b[0;34m[\u001b[0m\u001b[0;34m:\u001b[0m\u001b[0;36m10\u001b[0m\u001b[0;34m]\u001b[0m\u001b[0;34m\u001b[0m\u001b[0;34m\u001b[0m\u001b[0m\n\u001b[0m",
      "\u001b[0;31mAttributeError\u001b[0m: 'float' object has no attribute 'lower'"
     ]
    }
   ],
   "source": [
    "[item.lower() for item in toihq.index][:10]"
   ]
  },
  {
   "cell_type": "code",
   "execution_count": 180,
   "metadata": {},
   "outputs": [
    {
     "data": {
      "text/plain": [
       "7664"
      ]
     },
     "execution_count": 180,
     "metadata": {},
     "output_type": "execute_result"
    }
   ],
   "source": [
    "len([item for item in toihq.index if type(item)==float])"
   ]
  },
  {
   "cell_type": "code",
   "execution_count": 182,
   "metadata": {},
   "outputs": [
    {
     "data": {
      "text/plain": [
       "7664"
      ]
     },
     "execution_count": 182,
     "metadata": {},
     "output_type": "execute_result"
    }
   ],
   "source": [
    "len([item for item in toihq.index if type(item)!=str])"
   ]
  },
  {
   "cell_type": "code",
   "execution_count": 187,
   "metadata": {},
   "outputs": [
    {
     "data": {
      "text/plain": [
       "{nan}"
      ]
     },
     "execution_count": 187,
     "metadata": {},
     "output_type": "execute_result"
    }
   ],
   "source": [
    "{item for item in toihq.index if type(item)!=str}"
   ]
  },
  {
   "cell_type": "code",
   "execution_count": 189,
   "metadata": {},
   "outputs": [
    {
     "data": {
      "text/plain": [
       "6493"
      ]
     },
     "execution_count": 189,
     "metadata": {},
     "output_type": "execute_result"
    }
   ],
   "source": [
    "len(toihq)-7664"
   ]
  },
  {
   "cell_type": "markdown",
   "metadata": {},
   "source": [
    "### REMOVE ALL NaN INDICES FORM TOI HQ "
   ]
  },
  {
   "cell_type": "code",
   "execution_count": 201,
   "metadata": {},
   "outputs": [],
   "source": [
    "toihq = toihq.reset_index().dropna(subset=['patid']).set_index('patid')"
   ]
  },
  {
   "cell_type": "code",
   "execution_count": 202,
   "metadata": {},
   "outputs": [
    {
     "data": {
      "text/plain": [
       "Index(['S002-BISH-00001', 'S002-BISH-00002', 'S002-BISH-00010',\n",
       "       'S002-BISH-00012', 'S002-BISH-00015', 'S002-BISH-00016',\n",
       "       'S002-BISH-00017', 'S002-BISH-00020', 'S002-BISH-00022',\n",
       "       'S002-BISH-00026',\n",
       "       ...\n",
       "       'S002-BISH-06375', 'S002-BISH-06610', 'S002-BISH-06632',\n",
       "       'S002-BISH-06647', 'S002-BISH-06715', 'S002-BISH-06780',\n",
       "       'S002-BISH-06855', 'S002-BISH-06883', 'S002-BISH-06921',\n",
       "       'S002-BISH-06940'],\n",
       "      dtype='object', name='patid', length=6493)"
      ]
     },
     "execution_count": 202,
     "metadata": {},
     "output_type": "execute_result"
    }
   ],
   "source": [
    "toihq.index"
   ]
  },
  {
   "cell_type": "markdown",
   "metadata": {},
   "source": [
    "### LOOK OVER EVERYTHING AGAIN ON FIXED TOI TABLE"
   ]
  },
  {
   "cell_type": "code",
   "execution_count": 204,
   "metadata": {},
   "outputs": [
    {
     "data": {
      "text/plain": [
       "(6493, 47)"
      ]
     },
     "execution_count": 204,
     "metadata": {},
     "output_type": "execute_result"
    }
   ],
   "source": [
    "toihq.shape"
   ]
  },
  {
   "cell_type": "code",
   "execution_count": 205,
   "metadata": {},
   "outputs": [
    {
     "name": "stdout",
     "output_type": "stream",
     "text": [
      "Num Rows:\t\t 6493\n",
      "Num Distinct Patients:\t 6491\n"
     ]
    }
   ],
   "source": [
    "toihq_nrows = len(toihq.index)\n",
    "toihq_nrows_uniq = len(toihq.index.unique())\n",
    "print('Num Rows:\\t\\t', toihq_nrows)\n",
    "print('Num Distinct Patients:\\t', toihq_nrows_uniq)"
   ]
  },
  {
   "cell_type": "code",
   "execution_count": 206,
   "metadata": {},
   "outputs": [
    {
     "data": {
      "text/html": [
       "<div>\n",
       "<style scoped>\n",
       "    .dataframe tbody tr th:only-of-type {\n",
       "        vertical-align: middle;\n",
       "    }\n",
       "\n",
       "    .dataframe tbody tr th {\n",
       "        vertical-align: top;\n",
       "    }\n",
       "\n",
       "    .dataframe thead th {\n",
       "        text-align: right;\n",
       "    }\n",
       "</style>\n",
       "<table border=\"1\" class=\"dataframe\">\n",
       "  <thead>\n",
       "    <tr style=\"text-align: right;\">\n",
       "      <th></th>\n",
       "      <th>patid</th>\n",
       "    </tr>\n",
       "    <tr>\n",
       "      <th>count</th>\n",
       "      <th></th>\n",
       "    </tr>\n",
       "  </thead>\n",
       "  <tbody>\n",
       "    <tr>\n",
       "      <th>1</th>\n",
       "      <td>6489</td>\n",
       "    </tr>\n",
       "    <tr>\n",
       "      <th>2</th>\n",
       "      <td>2</td>\n",
       "    </tr>\n",
       "  </tbody>\n",
       "</table>\n",
       "</div>"
      ],
      "text/plain": [
       "       patid\n",
       "count       \n",
       "1       6489\n",
       "2          2"
      ]
     },
     "execution_count": 206,
     "metadata": {},
     "output_type": "execute_result"
    }
   ],
   "source": [
    "patid_count = toihq.reset_index().groupby('patid')['patid'].agg('count').to_frame('count')\n",
    "patid_count.reset_index().groupby('count').agg('count')"
   ]
  },
  {
   "cell_type": "code",
   "execution_count": 207,
   "metadata": {},
   "outputs": [
    {
     "data": {
      "text/html": [
       "<div>\n",
       "<style scoped>\n",
       "    .dataframe tbody tr th:only-of-type {\n",
       "        vertical-align: middle;\n",
       "    }\n",
       "\n",
       "    .dataframe tbody tr th {\n",
       "        vertical-align: top;\n",
       "    }\n",
       "\n",
       "    .dataframe thead th {\n",
       "        text-align: right;\n",
       "    }\n",
       "</style>\n",
       "<table border=\"1\" class=\"dataframe\">\n",
       "  <thead>\n",
       "    <tr style=\"text-align: right;\">\n",
       "      <th></th>\n",
       "      <th>count</th>\n",
       "    </tr>\n",
       "    <tr>\n",
       "      <th>patid</th>\n",
       "      <th></th>\n",
       "    </tr>\n",
       "  </thead>\n",
       "  <tbody>\n",
       "    <tr>\n",
       "      <th>S002-BISH-04030</th>\n",
       "      <td>2</td>\n",
       "    </tr>\n",
       "    <tr>\n",
       "      <th>S002-BISH-04033</th>\n",
       "      <td>2</td>\n",
       "    </tr>\n",
       "  </tbody>\n",
       "</table>\n",
       "</div>"
      ],
      "text/plain": [
       "                 count\n",
       "patid                 \n",
       "S002-BISH-04030      2\n",
       "S002-BISH-04033      2"
      ]
     },
     "execution_count": 207,
     "metadata": {},
     "output_type": "execute_result"
    }
   ],
   "source": [
    "patid_count.query('count==2')"
   ]
  },
  {
   "cell_type": "markdown",
   "metadata": {},
   "source": [
    "### Duplicate Patient #1\n",
    "\n",
    "---------------------------"
   ]
  },
  {
   "cell_type": "code",
   "execution_count": 228,
   "metadata": {},
   "outputs": [],
   "source": [
    "dup1 = toihq.loc['S002-BISH-04030']\n",
    "dup1_eq_index = dup1.iloc[0] == dup1.iloc[1]\n",
    "dup1_ne_index = dup1.iloc[0] != dup1.iloc[1]"
   ]
  },
  {
   "cell_type": "code",
   "execution_count": 229,
   "metadata": {},
   "outputs": [
    {
     "data": {
      "text/html": [
       "<div>\n",
       "<style scoped>\n",
       "    .dataframe tbody tr th:only-of-type {\n",
       "        vertical-align: middle;\n",
       "    }\n",
       "\n",
       "    .dataframe tbody tr th {\n",
       "        vertical-align: top;\n",
       "    }\n",
       "\n",
       "    .dataframe thead th {\n",
       "        text-align: right;\n",
       "    }\n",
       "</style>\n",
       "<table border=\"1\" class=\"dataframe\">\n",
       "  <thead>\n",
       "    <tr style=\"text-align: right;\">\n",
       "      <th></th>\n",
       "      <th>f2_hrmean1</th>\n",
       "      <th>f2_hrmed1</th>\n",
       "      <th>f2_hrstd1</th>\n",
       "      <th>f2_hrsegs1</th>\n",
       "      <th>f2_totsegs1</th>\n",
       "      <th>f2_totsegs4</th>\n",
       "      <th>f2_ccsegs4</th>\n",
       "      <th>f2_mvt_pwr_numbersegments.1</th>\n",
       "      <th>f2_mvt_pwr_numberusedpwrcoh</th>\n",
       "      <th>f31f_hrstd1</th>\n",
       "      <th>...</th>\n",
       "      <th>f32f_totsegs1</th>\n",
       "      <th>f3_medcc4</th>\n",
       "      <th>f3_medlag4</th>\n",
       "      <th>f3_totsegs4</th>\n",
       "      <th>f3_ccsegs4</th>\n",
       "      <th>f3_mvt_pwr_mvt21</th>\n",
       "      <th>f3_mvt_pwr_mvt31</th>\n",
       "      <th>f3_mvt_pwr_mvt41</th>\n",
       "      <th>f3_mvt_pwr_numbersegments.1</th>\n",
       "      <th>f3_mvt_pwr_numberusedpwrcoh</th>\n",
       "    </tr>\n",
       "    <tr>\n",
       "      <th>patid</th>\n",
       "      <th></th>\n",
       "      <th></th>\n",
       "      <th></th>\n",
       "      <th></th>\n",
       "      <th></th>\n",
       "      <th></th>\n",
       "      <th></th>\n",
       "      <th></th>\n",
       "      <th></th>\n",
       "      <th></th>\n",
       "      <th></th>\n",
       "      <th></th>\n",
       "      <th></th>\n",
       "      <th></th>\n",
       "      <th></th>\n",
       "      <th></th>\n",
       "      <th></th>\n",
       "      <th></th>\n",
       "      <th></th>\n",
       "      <th></th>\n",
       "      <th></th>\n",
       "    </tr>\n",
       "  </thead>\n",
       "  <tbody>\n",
       "    <tr>\n",
       "      <th>S002-BISH-04030</th>\n",
       "      <td>142.0795</td>\n",
       "      <td>141.754</td>\n",
       "      <td>3.752135</td>\n",
       "      <td>4.0</td>\n",
       "      <td>10.0</td>\n",
       "      <td>2.0</td>\n",
       "      <td>0.0</td>\n",
       "      <td>2.0</td>\n",
       "      <td>0.0</td>\n",
       "      <td>2.53636</td>\n",
       "      <td>...</td>\n",
       "      <td>50.0</td>\n",
       "      <td>0.796676</td>\n",
       "      <td>-7.7</td>\n",
       "      <td>12.0</td>\n",
       "      <td>5.0</td>\n",
       "      <td>0.249382</td>\n",
       "      <td>0.138689</td>\n",
       "      <td>0.360455</td>\n",
       "      <td>12.0</td>\n",
       "      <td>7.0</td>\n",
       "    </tr>\n",
       "    <tr>\n",
       "      <th>S002-BISH-04030</th>\n",
       "      <td>142.0795</td>\n",
       "      <td>141.754</td>\n",
       "      <td>3.752135</td>\n",
       "      <td>4.0</td>\n",
       "      <td>10.0</td>\n",
       "      <td>2.0</td>\n",
       "      <td>0.0</td>\n",
       "      <td>2.0</td>\n",
       "      <td>0.0</td>\n",
       "      <td>2.53636</td>\n",
       "      <td>...</td>\n",
       "      <td>50.0</td>\n",
       "      <td>0.796676</td>\n",
       "      <td>-7.7</td>\n",
       "      <td>12.0</td>\n",
       "      <td>5.0</td>\n",
       "      <td>0.249382</td>\n",
       "      <td>0.138689</td>\n",
       "      <td>0.360455</td>\n",
       "      <td>12.0</td>\n",
       "      <td>7.0</td>\n",
       "    </tr>\n",
       "  </tbody>\n",
       "</table>\n",
       "<p>2 rows × 26 columns</p>\n",
       "</div>"
      ],
      "text/plain": [
       "                 f2_hrmean1  f2_hrmed1  f2_hrstd1  f2_hrsegs1  f2_totsegs1  \\\n",
       "patid                                                                        \n",
       "S002-BISH-04030    142.0795    141.754   3.752135         4.0         10.0   \n",
       "S002-BISH-04030    142.0795    141.754   3.752135         4.0         10.0   \n",
       "\n",
       "                 f2_totsegs4  f2_ccsegs4  f2_mvt_pwr_numbersegments.1  \\\n",
       "patid                                                                   \n",
       "S002-BISH-04030          2.0         0.0                          2.0   \n",
       "S002-BISH-04030          2.0         0.0                          2.0   \n",
       "\n",
       "                 f2_mvt_pwr_numberusedpwrcoh  f31f_hrstd1  ...  f32f_totsegs1  \\\n",
       "patid                                                      ...                  \n",
       "S002-BISH-04030                          0.0      2.53636  ...           50.0   \n",
       "S002-BISH-04030                          0.0      2.53636  ...           50.0   \n",
       "\n",
       "                 f3_medcc4  f3_medlag4  f3_totsegs4  f3_ccsegs4  \\\n",
       "patid                                                             \n",
       "S002-BISH-04030   0.796676        -7.7         12.0         5.0   \n",
       "S002-BISH-04030   0.796676        -7.7         12.0         5.0   \n",
       "\n",
       "                 f3_mvt_pwr_mvt21  f3_mvt_pwr_mvt31  f3_mvt_pwr_mvt41  \\\n",
       "patid                                                                   \n",
       "S002-BISH-04030          0.249382          0.138689          0.360455   \n",
       "S002-BISH-04030          0.249382          0.138689          0.360455   \n",
       "\n",
       "                 f3_mvt_pwr_numbersegments.1  f3_mvt_pwr_numberusedpwrcoh  \n",
       "patid                                                                      \n",
       "S002-BISH-04030                         12.0                          7.0  \n",
       "S002-BISH-04030                         12.0                          7.0  \n",
       "\n",
       "[2 rows x 26 columns]"
      ]
     },
     "execution_count": 229,
     "metadata": {},
     "output_type": "execute_result"
    }
   ],
   "source": [
    "dup1.loc[:,dup1_eq_index.tolist()]"
   ]
  },
  {
   "cell_type": "code",
   "execution_count": 230,
   "metadata": {},
   "outputs": [
    {
     "data": {
      "text/html": [
       "<div>\n",
       "<style scoped>\n",
       "    .dataframe tbody tr th:only-of-type {\n",
       "        vertical-align: middle;\n",
       "    }\n",
       "\n",
       "    .dataframe tbody tr th {\n",
       "        vertical-align: top;\n",
       "    }\n",
       "\n",
       "    .dataframe thead th {\n",
       "        text-align: right;\n",
       "    }\n",
       "</style>\n",
       "<table border=\"1\" class=\"dataframe\">\n",
       "  <thead>\n",
       "    <tr style=\"text-align: right;\">\n",
       "      <th></th>\n",
       "      <th>f1_hrmean1</th>\n",
       "      <th>f1_hrmed1</th>\n",
       "      <th>f1_hrstd1</th>\n",
       "      <th>f1_hrsegs1</th>\n",
       "      <th>f1_totsegs1</th>\n",
       "      <th>f1_medcc4</th>\n",
       "      <th>f1_medlag4</th>\n",
       "      <th>f1_totsegs4</th>\n",
       "      <th>f1_ccsegs4</th>\n",
       "      <th>f1_mvt_pwr_mvt21</th>\n",
       "      <th>...</th>\n",
       "      <th>f1_mvt_pwr_mvt41</th>\n",
       "      <th>f1_mvt_pwr_numbersegments.1</th>\n",
       "      <th>f1_mvt_pwr_numberusedpwrcoh</th>\n",
       "      <th>f2_medcc4</th>\n",
       "      <th>f2_medlag4</th>\n",
       "      <th>f2_mvt_pwr_mvt21</th>\n",
       "      <th>f2_mvt_pwr_mvt31</th>\n",
       "      <th>f2_mvt_pwr_mvt41</th>\n",
       "      <th>f31f_hrmean1</th>\n",
       "      <th>f31f_hrmed1</th>\n",
       "    </tr>\n",
       "    <tr>\n",
       "      <th>patid</th>\n",
       "      <th></th>\n",
       "      <th></th>\n",
       "      <th></th>\n",
       "      <th></th>\n",
       "      <th></th>\n",
       "      <th></th>\n",
       "      <th></th>\n",
       "      <th></th>\n",
       "      <th></th>\n",
       "      <th></th>\n",
       "      <th></th>\n",
       "      <th></th>\n",
       "      <th></th>\n",
       "      <th></th>\n",
       "      <th></th>\n",
       "      <th></th>\n",
       "      <th></th>\n",
       "      <th></th>\n",
       "      <th></th>\n",
       "      <th></th>\n",
       "      <th></th>\n",
       "    </tr>\n",
       "  </thead>\n",
       "  <tbody>\n",
       "    <tr>\n",
       "      <th>S002-BISH-04030</th>\n",
       "      <td>NaN</td>\n",
       "      <td>NaN</td>\n",
       "      <td>NaN</td>\n",
       "      <td>NaN</td>\n",
       "      <td>NaN</td>\n",
       "      <td>NaN</td>\n",
       "      <td>NaN</td>\n",
       "      <td>NaN</td>\n",
       "      <td>NaN</td>\n",
       "      <td>NaN</td>\n",
       "      <td>...</td>\n",
       "      <td>NaN</td>\n",
       "      <td>NaN</td>\n",
       "      <td>NaN</td>\n",
       "      <td>NaN</td>\n",
       "      <td>NaN</td>\n",
       "      <td>NaN</td>\n",
       "      <td>NaN</td>\n",
       "      <td>NaN</td>\n",
       "      <td>134.4960</td>\n",
       "      <td>134.2735</td>\n",
       "    </tr>\n",
       "    <tr>\n",
       "      <th>S002-BISH-04030</th>\n",
       "      <td>NaN</td>\n",
       "      <td>NaN</td>\n",
       "      <td>NaN</td>\n",
       "      <td>NaN</td>\n",
       "      <td>NaN</td>\n",
       "      <td>NaN</td>\n",
       "      <td>NaN</td>\n",
       "      <td>NaN</td>\n",
       "      <td>NaN</td>\n",
       "      <td>NaN</td>\n",
       "      <td>...</td>\n",
       "      <td>NaN</td>\n",
       "      <td>NaN</td>\n",
       "      <td>NaN</td>\n",
       "      <td>NaN</td>\n",
       "      <td>NaN</td>\n",
       "      <td>NaN</td>\n",
       "      <td>NaN</td>\n",
       "      <td>NaN</td>\n",
       "      <td>134.9185</td>\n",
       "      <td>134.6745</td>\n",
       "    </tr>\n",
       "  </tbody>\n",
       "</table>\n",
       "<p>2 rows × 21 columns</p>\n",
       "</div>"
      ],
      "text/plain": [
       "                 f1_hrmean1  f1_hrmed1  f1_hrstd1  f1_hrsegs1  f1_totsegs1  \\\n",
       "patid                                                                        \n",
       "S002-BISH-04030         NaN        NaN        NaN         NaN          NaN   \n",
       "S002-BISH-04030         NaN        NaN        NaN         NaN          NaN   \n",
       "\n",
       "                 f1_medcc4  f1_medlag4  f1_totsegs4  f1_ccsegs4  \\\n",
       "patid                                                             \n",
       "S002-BISH-04030        NaN         NaN          NaN         NaN   \n",
       "S002-BISH-04030        NaN         NaN          NaN         NaN   \n",
       "\n",
       "                 f1_mvt_pwr_mvt21  ...  f1_mvt_pwr_mvt41  \\\n",
       "patid                              ...                     \n",
       "S002-BISH-04030               NaN  ...               NaN   \n",
       "S002-BISH-04030               NaN  ...               NaN   \n",
       "\n",
       "                 f1_mvt_pwr_numbersegments.1  f1_mvt_pwr_numberusedpwrcoh  \\\n",
       "patid                                                                       \n",
       "S002-BISH-04030                          NaN                          NaN   \n",
       "S002-BISH-04030                          NaN                          NaN   \n",
       "\n",
       "                 f2_medcc4  f2_medlag4  f2_mvt_pwr_mvt21  f2_mvt_pwr_mvt31  \\\n",
       "patid                                                                        \n",
       "S002-BISH-04030        NaN         NaN               NaN               NaN   \n",
       "S002-BISH-04030        NaN         NaN               NaN               NaN   \n",
       "\n",
       "                 f2_mvt_pwr_mvt41  f31f_hrmean1  f31f_hrmed1  \n",
       "patid                                                         \n",
       "S002-BISH-04030               NaN      134.4960     134.2735  \n",
       "S002-BISH-04030               NaN      134.9185     134.6745  \n",
       "\n",
       "[2 rows x 21 columns]"
      ]
     },
     "execution_count": 230,
     "metadata": {},
     "output_type": "execute_result"
    }
   ],
   "source": [
    "dup1.loc[:,dup1_ne_index.tolist()]"
   ]
  },
  {
   "cell_type": "code",
   "execution_count": 231,
   "metadata": {},
   "outputs": [
    {
     "data": {
      "text/html": [
       "<div>\n",
       "<style scoped>\n",
       "    .dataframe tbody tr th:only-of-type {\n",
       "        vertical-align: middle;\n",
       "    }\n",
       "\n",
       "    .dataframe tbody tr th {\n",
       "        vertical-align: top;\n",
       "    }\n",
       "\n",
       "    .dataframe thead th {\n",
       "        text-align: right;\n",
       "    }\n",
       "</style>\n",
       "<table border=\"1\" class=\"dataframe\">\n",
       "  <thead>\n",
       "    <tr style=\"text-align: right;\">\n",
       "      <th></th>\n",
       "      <th>f31f_hrmean1</th>\n",
       "      <th>f31f_hrmed1</th>\n",
       "    </tr>\n",
       "    <tr>\n",
       "      <th>patid</th>\n",
       "      <th></th>\n",
       "      <th></th>\n",
       "    </tr>\n",
       "  </thead>\n",
       "  <tbody>\n",
       "    <tr>\n",
       "      <th>S002-BISH-04030</th>\n",
       "      <td>134.4960</td>\n",
       "      <td>134.2735</td>\n",
       "    </tr>\n",
       "    <tr>\n",
       "      <th>S002-BISH-04030</th>\n",
       "      <td>134.9185</td>\n",
       "      <td>134.6745</td>\n",
       "    </tr>\n",
       "  </tbody>\n",
       "</table>\n",
       "</div>"
      ],
      "text/plain": [
       "                 f31f_hrmean1  f31f_hrmed1\n",
       "patid                                     \n",
       "S002-BISH-04030      134.4960     134.2735\n",
       "S002-BISH-04030      134.9185     134.6745"
      ]
     },
     "execution_count": 231,
     "metadata": {},
     "output_type": "execute_result"
    }
   ],
   "source": [
    "dup1.loc[:,dup1_ne_index.tolist()].dropna(axis=1)"
   ]
  },
  {
   "cell_type": "markdown",
   "metadata": {},
   "source": [
    "### Duplicate Patient #2\n",
    "\n",
    "------------------------------------"
   ]
  },
  {
   "cell_type": "code",
   "execution_count": 232,
   "metadata": {},
   "outputs": [],
   "source": [
    "dup2 = toihq.loc['S002-BISH-04033']\n",
    "dup2_eq_index = dup2.iloc[0] == dup2.iloc[1]\n",
    "dup2_ne_index = dup2.iloc[0] != dup2.iloc[1]"
   ]
  },
  {
   "cell_type": "code",
   "execution_count": 233,
   "metadata": {},
   "outputs": [
    {
     "data": {
      "text/html": [
       "<div>\n",
       "<style scoped>\n",
       "    .dataframe tbody tr th:only-of-type {\n",
       "        vertical-align: middle;\n",
       "    }\n",
       "\n",
       "    .dataframe tbody tr th {\n",
       "        vertical-align: top;\n",
       "    }\n",
       "\n",
       "    .dataframe thead th {\n",
       "        text-align: right;\n",
       "    }\n",
       "</style>\n",
       "<table border=\"1\" class=\"dataframe\">\n",
       "  <thead>\n",
       "    <tr style=\"text-align: right;\">\n",
       "      <th></th>\n",
       "      <th>f2_hrmean1</th>\n",
       "      <th>f2_hrmed1</th>\n",
       "      <th>f2_hrstd1</th>\n",
       "      <th>f2_hrsegs1</th>\n",
       "      <th>f2_totsegs1</th>\n",
       "      <th>f2_medcc4</th>\n",
       "      <th>f2_medlag4</th>\n",
       "      <th>f2_totsegs4</th>\n",
       "      <th>f2_ccsegs4</th>\n",
       "      <th>f2_mvt_pwr_mvt21</th>\n",
       "      <th>...</th>\n",
       "      <th>f32f_totsegs1</th>\n",
       "      <th>f3_medcc4</th>\n",
       "      <th>f3_medlag4</th>\n",
       "      <th>f3_totsegs4</th>\n",
       "      <th>f3_ccsegs4</th>\n",
       "      <th>f3_mvt_pwr_mvt21</th>\n",
       "      <th>f3_mvt_pwr_mvt31</th>\n",
       "      <th>f3_mvt_pwr_mvt41</th>\n",
       "      <th>f3_mvt_pwr_numbersegments.1</th>\n",
       "      <th>f3_mvt_pwr_numberusedpwrcoh</th>\n",
       "    </tr>\n",
       "    <tr>\n",
       "      <th>patid</th>\n",
       "      <th></th>\n",
       "      <th></th>\n",
       "      <th></th>\n",
       "      <th></th>\n",
       "      <th></th>\n",
       "      <th></th>\n",
       "      <th></th>\n",
       "      <th></th>\n",
       "      <th></th>\n",
       "      <th></th>\n",
       "      <th></th>\n",
       "      <th></th>\n",
       "      <th></th>\n",
       "      <th></th>\n",
       "      <th></th>\n",
       "      <th></th>\n",
       "      <th></th>\n",
       "      <th></th>\n",
       "      <th></th>\n",
       "      <th></th>\n",
       "      <th></th>\n",
       "    </tr>\n",
       "  </thead>\n",
       "  <tbody>\n",
       "    <tr>\n",
       "      <th>S002-BISH-04033</th>\n",
       "      <td>150.453</td>\n",
       "      <td>149.597</td>\n",
       "      <td>3.80242</td>\n",
       "      <td>33.0</td>\n",
       "      <td>40.0</td>\n",
       "      <td>0.695448</td>\n",
       "      <td>-9.15</td>\n",
       "      <td>11.0</td>\n",
       "      <td>2.0</td>\n",
       "      <td>0.240248</td>\n",
       "      <td>...</td>\n",
       "      <td>50.0</td>\n",
       "      <td>0.516059</td>\n",
       "      <td>-10.15</td>\n",
       "      <td>12.0</td>\n",
       "      <td>3.0</td>\n",
       "      <td>0.087863</td>\n",
       "      <td>0.129704</td>\n",
       "      <td>0.476141</td>\n",
       "      <td>12.0</td>\n",
       "      <td>8.0</td>\n",
       "    </tr>\n",
       "    <tr>\n",
       "      <th>S002-BISH-04033</th>\n",
       "      <td>150.453</td>\n",
       "      <td>149.597</td>\n",
       "      <td>3.80242</td>\n",
       "      <td>33.0</td>\n",
       "      <td>40.0</td>\n",
       "      <td>0.695448</td>\n",
       "      <td>-9.15</td>\n",
       "      <td>11.0</td>\n",
       "      <td>2.0</td>\n",
       "      <td>0.240248</td>\n",
       "      <td>...</td>\n",
       "      <td>50.0</td>\n",
       "      <td>0.516059</td>\n",
       "      <td>-10.15</td>\n",
       "      <td>12.0</td>\n",
       "      <td>3.0</td>\n",
       "      <td>0.087863</td>\n",
       "      <td>0.129704</td>\n",
       "      <td>0.476141</td>\n",
       "      <td>12.0</td>\n",
       "      <td>8.0</td>\n",
       "    </tr>\n",
       "  </tbody>\n",
       "</table>\n",
       "<p>2 rows × 24 columns</p>\n",
       "</div>"
      ],
      "text/plain": [
       "                 f2_hrmean1  f2_hrmed1  f2_hrstd1  f2_hrsegs1  f2_totsegs1  \\\n",
       "patid                                                                        \n",
       "S002-BISH-04033     150.453    149.597    3.80242        33.0         40.0   \n",
       "S002-BISH-04033     150.453    149.597    3.80242        33.0         40.0   \n",
       "\n",
       "                 f2_medcc4  f2_medlag4  f2_totsegs4  f2_ccsegs4  \\\n",
       "patid                                                             \n",
       "S002-BISH-04033   0.695448       -9.15         11.0         2.0   \n",
       "S002-BISH-04033   0.695448       -9.15         11.0         2.0   \n",
       "\n",
       "                 f2_mvt_pwr_mvt21  ...  f32f_totsegs1  f3_medcc4  f3_medlag4  \\\n",
       "patid                              ...                                         \n",
       "S002-BISH-04033          0.240248  ...           50.0   0.516059      -10.15   \n",
       "S002-BISH-04033          0.240248  ...           50.0   0.516059      -10.15   \n",
       "\n",
       "                 f3_totsegs4  f3_ccsegs4  f3_mvt_pwr_mvt21  f3_mvt_pwr_mvt31  \\\n",
       "patid                                                                          \n",
       "S002-BISH-04033         12.0         3.0          0.087863          0.129704   \n",
       "S002-BISH-04033         12.0         3.0          0.087863          0.129704   \n",
       "\n",
       "                 f3_mvt_pwr_mvt41  f3_mvt_pwr_numbersegments.1  \\\n",
       "patid                                                            \n",
       "S002-BISH-04033          0.476141                         12.0   \n",
       "S002-BISH-04033          0.476141                         12.0   \n",
       "\n",
       "                 f3_mvt_pwr_numberusedpwrcoh  \n",
       "patid                                         \n",
       "S002-BISH-04033                          8.0  \n",
       "S002-BISH-04033                          8.0  \n",
       "\n",
       "[2 rows x 24 columns]"
      ]
     },
     "execution_count": 233,
     "metadata": {},
     "output_type": "execute_result"
    }
   ],
   "source": [
    "dup2.loc[:,dup2_eq_index.tolist()]"
   ]
  },
  {
   "cell_type": "code",
   "execution_count": 234,
   "metadata": {},
   "outputs": [
    {
     "data": {
      "text/html": [
       "<div>\n",
       "<style scoped>\n",
       "    .dataframe tbody tr th:only-of-type {\n",
       "        vertical-align: middle;\n",
       "    }\n",
       "\n",
       "    .dataframe tbody tr th {\n",
       "        vertical-align: top;\n",
       "    }\n",
       "\n",
       "    .dataframe thead th {\n",
       "        text-align: right;\n",
       "    }\n",
       "</style>\n",
       "<table border=\"1\" class=\"dataframe\">\n",
       "  <thead>\n",
       "    <tr style=\"text-align: right;\">\n",
       "      <th></th>\n",
       "      <th>f1_hrmean1</th>\n",
       "      <th>f1_hrmed1</th>\n",
       "      <th>f1_hrstd1</th>\n",
       "      <th>f1_hrsegs1</th>\n",
       "      <th>f1_totsegs1</th>\n",
       "      <th>f1_medcc4</th>\n",
       "      <th>f1_medlag4</th>\n",
       "      <th>f1_totsegs4</th>\n",
       "      <th>f1_ccsegs4</th>\n",
       "      <th>f1_mvt_pwr_mvt21</th>\n",
       "      <th>...</th>\n",
       "      <th>f1_mvt_pwr_numberusedpwrcoh</th>\n",
       "      <th>f31f_hrmean1</th>\n",
       "      <th>f31f_hrmed1</th>\n",
       "      <th>f31f_hrstd1</th>\n",
       "      <th>f31f_hrsegs1</th>\n",
       "      <th>f31f_totsegs1</th>\n",
       "      <th>f32f_hrmean1</th>\n",
       "      <th>f32f_hrmed1</th>\n",
       "      <th>f32f_hrstd1</th>\n",
       "      <th>f32f_hrsegs1</th>\n",
       "    </tr>\n",
       "    <tr>\n",
       "      <th>patid</th>\n",
       "      <th></th>\n",
       "      <th></th>\n",
       "      <th></th>\n",
       "      <th></th>\n",
       "      <th></th>\n",
       "      <th></th>\n",
       "      <th></th>\n",
       "      <th></th>\n",
       "      <th></th>\n",
       "      <th></th>\n",
       "      <th></th>\n",
       "      <th></th>\n",
       "      <th></th>\n",
       "      <th></th>\n",
       "      <th></th>\n",
       "      <th></th>\n",
       "      <th></th>\n",
       "      <th></th>\n",
       "      <th></th>\n",
       "      <th></th>\n",
       "      <th></th>\n",
       "    </tr>\n",
       "  </thead>\n",
       "  <tbody>\n",
       "    <tr>\n",
       "      <th>S002-BISH-04033</th>\n",
       "      <td>NaN</td>\n",
       "      <td>NaN</td>\n",
       "      <td>NaN</td>\n",
       "      <td>NaN</td>\n",
       "      <td>NaN</td>\n",
       "      <td>NaN</td>\n",
       "      <td>NaN</td>\n",
       "      <td>NaN</td>\n",
       "      <td>NaN</td>\n",
       "      <td>NaN</td>\n",
       "      <td>...</td>\n",
       "      <td>NaN</td>\n",
       "      <td>NaN</td>\n",
       "      <td>NaN</td>\n",
       "      <td>NaN</td>\n",
       "      <td>NaN</td>\n",
       "      <td>NaN</td>\n",
       "      <td>151.5215</td>\n",
       "      <td>150.8220</td>\n",
       "      <td>3.88475</td>\n",
       "      <td>24.0</td>\n",
       "    </tr>\n",
       "    <tr>\n",
       "      <th>S002-BISH-04033</th>\n",
       "      <td>NaN</td>\n",
       "      <td>NaN</td>\n",
       "      <td>NaN</td>\n",
       "      <td>NaN</td>\n",
       "      <td>NaN</td>\n",
       "      <td>NaN</td>\n",
       "      <td>NaN</td>\n",
       "      <td>NaN</td>\n",
       "      <td>NaN</td>\n",
       "      <td>NaN</td>\n",
       "      <td>...</td>\n",
       "      <td>NaN</td>\n",
       "      <td>NaN</td>\n",
       "      <td>NaN</td>\n",
       "      <td>NaN</td>\n",
       "      <td>NaN</td>\n",
       "      <td>NaN</td>\n",
       "      <td>156.7475</td>\n",
       "      <td>157.0055</td>\n",
       "      <td>3.96170</td>\n",
       "      <td>41.0</td>\n",
       "    </tr>\n",
       "  </tbody>\n",
       "</table>\n",
       "<p>2 rows × 23 columns</p>\n",
       "</div>"
      ],
      "text/plain": [
       "                 f1_hrmean1  f1_hrmed1  f1_hrstd1  f1_hrsegs1  f1_totsegs1  \\\n",
       "patid                                                                        \n",
       "S002-BISH-04033         NaN        NaN        NaN         NaN          NaN   \n",
       "S002-BISH-04033         NaN        NaN        NaN         NaN          NaN   \n",
       "\n",
       "                 f1_medcc4  f1_medlag4  f1_totsegs4  f1_ccsegs4  \\\n",
       "patid                                                             \n",
       "S002-BISH-04033        NaN         NaN          NaN         NaN   \n",
       "S002-BISH-04033        NaN         NaN          NaN         NaN   \n",
       "\n",
       "                 f1_mvt_pwr_mvt21  ...  f1_mvt_pwr_numberusedpwrcoh  \\\n",
       "patid                              ...                                \n",
       "S002-BISH-04033               NaN  ...                          NaN   \n",
       "S002-BISH-04033               NaN  ...                          NaN   \n",
       "\n",
       "                 f31f_hrmean1  f31f_hrmed1  f31f_hrstd1  f31f_hrsegs1  \\\n",
       "patid                                                                   \n",
       "S002-BISH-04033           NaN          NaN          NaN           NaN   \n",
       "S002-BISH-04033           NaN          NaN          NaN           NaN   \n",
       "\n",
       "                 f31f_totsegs1  f32f_hrmean1  f32f_hrmed1  f32f_hrstd1  \\\n",
       "patid                                                                    \n",
       "S002-BISH-04033            NaN      151.5215     150.8220      3.88475   \n",
       "S002-BISH-04033            NaN      156.7475     157.0055      3.96170   \n",
       "\n",
       "                 f32f_hrsegs1  \n",
       "patid                          \n",
       "S002-BISH-04033          24.0  \n",
       "S002-BISH-04033          41.0  \n",
       "\n",
       "[2 rows x 23 columns]"
      ]
     },
     "execution_count": 234,
     "metadata": {},
     "output_type": "execute_result"
    }
   ],
   "source": [
    "dup2.loc[:,dup2_ne_index.tolist()]"
   ]
  },
  {
   "cell_type": "code",
   "execution_count": 235,
   "metadata": {},
   "outputs": [
    {
     "data": {
      "text/html": [
       "<div>\n",
       "<style scoped>\n",
       "    .dataframe tbody tr th:only-of-type {\n",
       "        vertical-align: middle;\n",
       "    }\n",
       "\n",
       "    .dataframe tbody tr th {\n",
       "        vertical-align: top;\n",
       "    }\n",
       "\n",
       "    .dataframe thead th {\n",
       "        text-align: right;\n",
       "    }\n",
       "</style>\n",
       "<table border=\"1\" class=\"dataframe\">\n",
       "  <thead>\n",
       "    <tr style=\"text-align: right;\">\n",
       "      <th></th>\n",
       "      <th>f32f_hrmean1</th>\n",
       "      <th>f32f_hrmed1</th>\n",
       "      <th>f32f_hrstd1</th>\n",
       "      <th>f32f_hrsegs1</th>\n",
       "    </tr>\n",
       "    <tr>\n",
       "      <th>patid</th>\n",
       "      <th></th>\n",
       "      <th></th>\n",
       "      <th></th>\n",
       "      <th></th>\n",
       "    </tr>\n",
       "  </thead>\n",
       "  <tbody>\n",
       "    <tr>\n",
       "      <th>S002-BISH-04033</th>\n",
       "      <td>151.5215</td>\n",
       "      <td>150.8220</td>\n",
       "      <td>3.88475</td>\n",
       "      <td>24.0</td>\n",
       "    </tr>\n",
       "    <tr>\n",
       "      <th>S002-BISH-04033</th>\n",
       "      <td>156.7475</td>\n",
       "      <td>157.0055</td>\n",
       "      <td>3.96170</td>\n",
       "      <td>41.0</td>\n",
       "    </tr>\n",
       "  </tbody>\n",
       "</table>\n",
       "</div>"
      ],
      "text/plain": [
       "                 f32f_hrmean1  f32f_hrmed1  f32f_hrstd1  f32f_hrsegs1\n",
       "patid                                                                \n",
       "S002-BISH-04033      151.5215     150.8220      3.88475          24.0\n",
       "S002-BISH-04033      156.7475     157.0055      3.96170          41.0"
      ]
     },
     "execution_count": 235,
     "metadata": {},
     "output_type": "execute_result"
    }
   ],
   "source": [
    "dup2.loc[:,dup2_ne_index.tolist()].dropna(axis=1)"
   ]
  },
  {
   "cell_type": "markdown",
   "metadata": {},
   "source": [
    "--------------------------------------\n",
    "**My 2 cents**:\n",
    "\n",
    "Since there are only 2 patients that are duplicates, and since one of them has\n",
    "3 features that are very different... Let's just drop them.  Without a doubt\n",
    "drop the troublesome duplicate:  how to choose which is the right data record?\n",
    "\n",
    "------------------------------------------"
   ]
  },
  {
   "cell_type": "markdown",
   "metadata": {},
   "source": [
    "### What data is in the TOI table?\n",
    "Remember: in the conversations between Udi and David, David said that the only \n",
    "features he considered to be high quality were the band power features -- and that's\n",
    "only if Udi decided to normalize them by the total power...  \n",
    "\n",
    "In the columns below, none of them have the band power names that David mentioned... Closest\n",
    "thing there is are vars like `f1_mvt_pwr_mvt21`."
   ]
  },
  {
   "cell_type": "code",
   "execution_count": 203,
   "metadata": {},
   "outputs": [
    {
     "data": {
      "text/plain": [
       "Index(['f1_hrmean1', 'f1_hrmed1', 'f1_hrstd1', 'f1_hrsegs1', 'f1_totsegs1',\n",
       "       'f1_medcc4', 'f1_medlag4', 'f1_totsegs4', 'f1_ccsegs4',\n",
       "       'f1_mvt_pwr_mvt21', 'f1_mvt_pwr_mvt31', 'f1_mvt_pwr_mvt41',\n",
       "       'f1_mvt_pwr_numbersegments.1', 'f1_mvt_pwr_numberusedpwrcoh',\n",
       "       'f2_hrmean1', 'f2_hrmed1', 'f2_hrstd1', 'f2_hrsegs1', 'f2_totsegs1',\n",
       "       'f2_medcc4', 'f2_medlag4', 'f2_totsegs4', 'f2_ccsegs4',\n",
       "       'f2_mvt_pwr_mvt21', 'f2_mvt_pwr_mvt31', 'f2_mvt_pwr_mvt41',\n",
       "       'f2_mvt_pwr_numbersegments.1', 'f2_mvt_pwr_numberusedpwrcoh',\n",
       "       'f31f_hrmean1', 'f31f_hrmed1', 'f31f_hrstd1', 'f31f_hrsegs1',\n",
       "       'f31f_totsegs1', 'f32f_hrmean1', 'f32f_hrmed1', 'f32f_hrstd1',\n",
       "       'f32f_hrsegs1', 'f32f_totsegs1', 'f3_medcc4', 'f3_medlag4',\n",
       "       'f3_totsegs4', 'f3_ccsegs4', 'f3_mvt_pwr_mvt21', 'f3_mvt_pwr_mvt31',\n",
       "       'f3_mvt_pwr_mvt41', 'f3_mvt_pwr_numbersegments.1',\n",
       "       'f3_mvt_pwr_numberusedpwrcoh'],\n",
       "      dtype='object')"
      ]
     },
     "execution_count": 203,
     "metadata": {},
     "output_type": "execute_result"
    }
   ],
   "source": [
    "toihq.columns"
   ]
  },
  {
   "cell_type": "code",
   "execution_count": 20,
   "metadata": {},
   "outputs": [
    {
     "data": {
      "text/html": [
       "<div>\n",
       "<style scoped>\n",
       "    .dataframe tbody tr th:only-of-type {\n",
       "        vertical-align: middle;\n",
       "    }\n",
       "\n",
       "    .dataframe tbody tr th {\n",
       "        vertical-align: top;\n",
       "    }\n",
       "\n",
       "    .dataframe thead th {\n",
       "        text-align: right;\n",
       "    }\n",
       "</style>\n",
       "<table border=\"1\" class=\"dataframe\">\n",
       "  <thead>\n",
       "    <tr style=\"text-align: right;\">\n",
       "      <th></th>\n",
       "      <th>f1_hrmean1</th>\n",
       "      <th>f1_hrmed1</th>\n",
       "      <th>f1_hrstd1</th>\n",
       "      <th>f1_hrsegs1</th>\n",
       "      <th>f1_totsegs1</th>\n",
       "      <th>f1_medcc4</th>\n",
       "      <th>f1_medlag4</th>\n",
       "      <th>f1_totsegs4</th>\n",
       "      <th>f1_ccsegs4</th>\n",
       "      <th>f1_mvt_pwr_mvt21</th>\n",
       "      <th>...</th>\n",
       "      <th>f32f_totsegs1</th>\n",
       "      <th>f3_medcc4</th>\n",
       "      <th>f3_medlag4</th>\n",
       "      <th>f3_totsegs4</th>\n",
       "      <th>f3_ccsegs4</th>\n",
       "      <th>f3_mvt_pwr_mvt21</th>\n",
       "      <th>f3_mvt_pwr_mvt31</th>\n",
       "      <th>f3_mvt_pwr_mvt41</th>\n",
       "      <th>f3_mvt_pwr_numbersegments.1</th>\n",
       "      <th>f3_mvt_pwr_numberusedpwrcoh</th>\n",
       "    </tr>\n",
       "    <tr>\n",
       "      <th>patid</th>\n",
       "      <th></th>\n",
       "      <th></th>\n",
       "      <th></th>\n",
       "      <th></th>\n",
       "      <th></th>\n",
       "      <th></th>\n",
       "      <th></th>\n",
       "      <th></th>\n",
       "      <th></th>\n",
       "      <th></th>\n",
       "      <th></th>\n",
       "      <th></th>\n",
       "      <th></th>\n",
       "      <th></th>\n",
       "      <th></th>\n",
       "      <th></th>\n",
       "      <th></th>\n",
       "      <th></th>\n",
       "      <th></th>\n",
       "      <th></th>\n",
       "      <th></th>\n",
       "    </tr>\n",
       "  </thead>\n",
       "  <tbody>\n",
       "    <tr>\n",
       "      <th>S002-BISH-00001</th>\n",
       "      <td>147.1780</td>\n",
       "      <td>148.1590</td>\n",
       "      <td>1.95969</td>\n",
       "      <td>16.0</td>\n",
       "      <td>34.0</td>\n",
       "      <td>0.471563</td>\n",
       "      <td>-14.5</td>\n",
       "      <td>8.0</td>\n",
       "      <td>1.0</td>\n",
       "      <td>NaN</td>\n",
       "      <td>...</td>\n",
       "      <td>NaN</td>\n",
       "      <td>NaN</td>\n",
       "      <td>NaN</td>\n",
       "      <td>NaN</td>\n",
       "      <td>NaN</td>\n",
       "      <td>NaN</td>\n",
       "      <td>NaN</td>\n",
       "      <td>NaN</td>\n",
       "      <td>NaN</td>\n",
       "      <td>NaN</td>\n",
       "    </tr>\n",
       "    <tr>\n",
       "      <th>S002-BISH-00002</th>\n",
       "      <td>148.9275</td>\n",
       "      <td>149.0025</td>\n",
       "      <td>3.25205</td>\n",
       "      <td>41.0</td>\n",
       "      <td>51.0</td>\n",
       "      <td>0.698840</td>\n",
       "      <td>-7.9</td>\n",
       "      <td>13.0</td>\n",
       "      <td>9.0</td>\n",
       "      <td>0.224079</td>\n",
       "      <td>...</td>\n",
       "      <td>50.0</td>\n",
       "      <td>0.668929</td>\n",
       "      <td>-4.55</td>\n",
       "      <td>12.0</td>\n",
       "      <td>5.0</td>\n",
       "      <td>0.147417</td>\n",
       "      <td>0.096355</td>\n",
       "      <td>0.498982</td>\n",
       "      <td>12.0</td>\n",
       "      <td>8.0</td>\n",
       "    </tr>\n",
       "    <tr>\n",
       "      <th>S002-BISH-00010</th>\n",
       "      <td>142.0905</td>\n",
       "      <td>142.3115</td>\n",
       "      <td>2.23203</td>\n",
       "      <td>52.0</td>\n",
       "      <td>56.0</td>\n",
       "      <td>NaN</td>\n",
       "      <td>NaN</td>\n",
       "      <td>14.0</td>\n",
       "      <td>0.0</td>\n",
       "      <td>0.100899</td>\n",
       "      <td>...</td>\n",
       "      <td>NaN</td>\n",
       "      <td>NaN</td>\n",
       "      <td>NaN</td>\n",
       "      <td>NaN</td>\n",
       "      <td>NaN</td>\n",
       "      <td>0.073736</td>\n",
       "      <td>0.112650</td>\n",
       "      <td>0.512278</td>\n",
       "      <td>12.0</td>\n",
       "      <td>3.0</td>\n",
       "    </tr>\n",
       "  </tbody>\n",
       "</table>\n",
       "<p>3 rows × 47 columns</p>\n",
       "</div>"
      ],
      "text/plain": [
       "                 f1_hrmean1  f1_hrmed1  f1_hrstd1  f1_hrsegs1  f1_totsegs1  \\\n",
       "patid                                                                        \n",
       "S002-BISH-00001    147.1780   148.1590    1.95969        16.0         34.0   \n",
       "S002-BISH-00002    148.9275   149.0025    3.25205        41.0         51.0   \n",
       "S002-BISH-00010    142.0905   142.3115    2.23203        52.0         56.0   \n",
       "\n",
       "                 f1_medcc4  f1_medlag4  f1_totsegs4  f1_ccsegs4  \\\n",
       "patid                                                             \n",
       "S002-BISH-00001   0.471563       -14.5          8.0         1.0   \n",
       "S002-BISH-00002   0.698840        -7.9         13.0         9.0   \n",
       "S002-BISH-00010        NaN         NaN         14.0         0.0   \n",
       "\n",
       "                 f1_mvt_pwr_mvt21  ...  f32f_totsegs1  f3_medcc4  f3_medlag4  \\\n",
       "patid                              ...                                         \n",
       "S002-BISH-00001               NaN  ...            NaN        NaN         NaN   \n",
       "S002-BISH-00002          0.224079  ...           50.0   0.668929       -4.55   \n",
       "S002-BISH-00010          0.100899  ...            NaN        NaN         NaN   \n",
       "\n",
       "                 f3_totsegs4  f3_ccsegs4  f3_mvt_pwr_mvt21  f3_mvt_pwr_mvt31  \\\n",
       "patid                                                                          \n",
       "S002-BISH-00001          NaN         NaN               NaN               NaN   \n",
       "S002-BISH-00002         12.0         5.0          0.147417          0.096355   \n",
       "S002-BISH-00010          NaN         NaN          0.073736          0.112650   \n",
       "\n",
       "                 f3_mvt_pwr_mvt41  f3_mvt_pwr_numbersegments.1  \\\n",
       "patid                                                            \n",
       "S002-BISH-00001               NaN                          NaN   \n",
       "S002-BISH-00002          0.498982                         12.0   \n",
       "S002-BISH-00010          0.512278                         12.0   \n",
       "\n",
       "                 f3_mvt_pwr_numberusedpwrcoh  \n",
       "patid                                         \n",
       "S002-BISH-00001                          NaN  \n",
       "S002-BISH-00002                          8.0  \n",
       "S002-BISH-00010                          3.0  \n",
       "\n",
       "[3 rows x 47 columns]"
      ]
     },
     "execution_count": 20,
     "metadata": {},
     "output_type": "execute_result"
    }
   ],
   "source": [
    "toihq.head(3)"
   ]
  },
  {
   "cell_type": "markdown",
   "metadata": {},
   "source": [
    "## Let's Go Through the Code"
   ]
  },
  {
   "cell_type": "code",
   "execution_count": 242,
   "metadata": {},
   "outputs": [],
   "source": [
    "#------------------------------------------------------------------------------\n",
    "# Extracting F3 Features\n",
    "#------------------------------------------------------------------------------\n",
    "# Load in Feature Time Points File\n",
    "feat_timepoint = pd.read_excel(\n",
    "        \"../data/processed/mbh001_Table-feature-timepoints_2090613_V8.xlsx\")\n",
    "# Only keep F3 Baseline Records\n",
    "#  -- also: only keep necessary cols (e.g., for naming convention)\n",
    "feat_timepoint_f3 = feat_timepoint[\n",
    "        feat_timepoint['KEEP_F3_BASELINE']==1].\\\n",
    "                loc[:,['DB','feature','cycleid','feat_type']]\n",
    "# Create features names following DB.FTR.CID convention\n",
    "f3_features = feat_timepoint_f3['DB'] + '.' + feat_timepoint_f3['feature'] +\\\n",
    "        '.' + feat_timepoint_f3['cycleid'].astype('str')\n",
    "# Create DataFrame that matches feature names to data type\n",
    "f3_features_df = pd.DataFrame({\n",
    "    'feat_name': f3_features,\n",
    "    'feat_type': feat_timepoint_f3['feat_type']}).set_index('feat_name')\n",
    "# Ensure all feature names are lower case\n",
    "f3_features_df.index = (f3_features_df.index).map(str.lower)\n",
    "# Index all numeric features\n",
    "num_f3_feat = f3_features_df[f3_features_df['feat_type'] == 'numeric'].index\n",
    "# Index all categorical features\n",
    "cat_f3_feat = f3_features_df[f3_features_df['feat_type'] == 'categorical'].index"
   ]
  },
  {
   "cell_type": "code",
   "execution_count": 262,
   "metadata": {},
   "outputs": [],
   "source": [
    "#------------------------------------------------------------------------------\n",
    "# Loading Wide-QC'd Data\n",
    "#------------------------------------------------------------------------------\n",
    "# Load in QC'd, Wide, Full Dta Table (output of Carlos' step 4)\n",
    "df1 = pd.read_csv(\"../data/raw/mbh001_Data-Wide-QC-full-data_20190614_V1.csv\",\n",
    "                dtype = {754: str, 757: str, 765: str, 855: str, 1225: str,\n",
    "                         1226: str, 1229: str, 1475: str, 1485: str}).\\\n",
    "        set_index('patid', drop=False)\n",
    "# Keep only the F3 features (identified above using time points table)\n",
    "df1 = df1[f3_features]\n",
    "# Ensure that column names are all lower case\n",
    "df1.columns = map(str.lower, df1.columns)\n",
    "# Ensure that all numeric features are of type float64\n",
    "df1[num_f3_feat] = df1[num_f3_feat].astype('float64')\n",
    "# Ensure that all categorical features are of type object\n",
    "df1[cat_f3_feat] = df1[cat_f3_feat].astype('object')\n",
    "# Keep Only Numeric and Categorical (Ignore Date Vars)\n",
    "df1 = df1[num_f3_feat.union(cat_f3_feat)]"
   ]
  },
  {
   "cell_type": "markdown",
   "metadata": {},
   "source": [
    "### Breakdown Prior to Merging TOI Data"
   ]
  },
  {
   "cell_type": "code",
   "execution_count": 263,
   "metadata": {},
   "outputs": [
    {
     "data": {
      "text/plain": [
       "(6975, 563)"
      ]
     },
     "execution_count": 263,
     "metadata": {},
     "output_type": "execute_result"
    }
   ],
   "source": [
    "df1.shape"
   ]
  },
  {
   "cell_type": "code",
   "execution_count": 264,
   "metadata": {},
   "outputs": [
    {
     "data": {
      "text/plain": [
       "Index(['adafppappa.afpga.10', 'adafppappa.afpga.15', 'adafppappa.afpga.pre10',\n",
       "       'adafppappa.afpmom.10', 'adafppappa.afpmom.15',\n",
       "       'adafppappa.afpmom.pre10', 'adafppappa.pappaga.10',\n",
       "       'adcdrisc.cdrisc_nmiss.15', 'adcdrisc.cdrisc_nmiss.20',\n",
       "       'adcdrisc.cdrisc_raw.15',\n",
       "       ...\n",
       "       'mon.mmvt_mean.20', 'mon.mmvt_median.10', 'mon.mmvt_median.15',\n",
       "       'mon.mmvt_median.20', 'mon.mmvt_min.10', 'mon.mmvt_min.15',\n",
       "       'mon.mmvt_min.20', 'mon.mmvt_stddev.10', 'mon.mmvt_stddev.15',\n",
       "       'mon.mmvt_stddev.20'],\n",
       "      dtype='object', length=563)"
      ]
     },
     "execution_count": 264,
     "metadata": {},
     "output_type": "execute_result"
    }
   ],
   "source": [
    "df1.columns"
   ]
  },
  {
   "cell_type": "code",
   "execution_count": 265,
   "metadata": {},
   "outputs": [
    {
     "data": {
      "text/plain": [
       "Index(['adscmat.toiletwater2.any'], dtype='object')"
      ]
     },
     "execution_count": 265,
     "metadata": {},
     "output_type": "execute_result"
    }
   ],
   "source": [
    "df1.filter(regex='.+toi.+').columns"
   ]
  },
  {
   "cell_type": "code",
   "execution_count": 266,
   "metadata": {},
   "outputs": [
    {
     "name": "stdout",
     "output_type": "stream",
     "text": [
      "Number of Rows: 6975\n",
      "Number of Unique Patient IDs 6925\n"
     ]
    }
   ],
   "source": [
    "print('Number of Rows:', df1.shape[0])\n",
    "print('Number of Unique Patient IDs', len(df1.index.unique()))"
   ]
  },
  {
   "cell_type": "markdown",
   "metadata": {},
   "source": [
    "### Continue w/ Code"
   ]
  },
  {
   "cell_type": "code",
   "execution_count": 267,
   "metadata": {},
   "outputs": [],
   "source": [
    "toihq = pd.read_csv(\"../data/raw/Fetal_Toitu_Physio_Features_Early_Signal_093019.csv\")\n",
    "toihq.columns = toihq.columns.map(str.lower)\n",
    "toihq.set_index('patid', inplace=True)\n",
    "\n",
    "def toi_feat_names(\n",
    "    x,\n",
    "):\n",
    "    '''\n",
    "    Converts feature names:\n",
    "        f1_mvmt11sd to TOI.mvmt11sd.10\n",
    "        f2_mvmt11sd to TOI.mvmt11sd.15\n",
    "        f3_mvmt11sd to TOI.mvmt11sd.20\n",
    "    '''\n",
    "    cycle = x[0:2]\n",
    "    if cycle == 'f1':\n",
    "        return('toi.' + x + '.10')\n",
    "    elif cycle == 'f2':\n",
    "        return('toi.' + x + '.15')\n",
    "    elif cycle == 'f3':\n",
    "        return('toi.' + x + '.20')\n",
    "    else:\n",
    "        return(x)\n",
    "\n",
    "toihq.columns = toihq.columns.map(lambda x: toi_feat_names(x))\n",
    "toihq = toihq.astype('float64')\n",
    "df2 = df1.merge(toihq, left_index=True, right_index=True, how='left')"
   ]
  },
  {
   "cell_type": "code",
   "execution_count": 275,
   "metadata": {},
   "outputs": [
    {
     "name": "stdout",
     "output_type": "stream",
     "text": [
      "Shape before merge: (6975, 563)\n",
      "Shape after merge: (6977, 610)\n"
     ]
    }
   ],
   "source": [
    "print('Shape before merge:', df1.shape)\n",
    "print('Shape after merge:', df2.shape)"
   ]
  },
  {
   "cell_type": "code",
   "execution_count": 278,
   "metadata": {},
   "outputs": [
    {
     "name": "stdout",
     "output_type": "stream",
     "text": [
      "Num of TOI columns: 47\n",
      "Num of Demo/Clinical Columns: 563\n",
      "Demo/Clinical Cols + TOI Cols: 610\n"
     ]
    }
   ],
   "source": [
    "print('Num of TOI columns:',toihq.shape[1])\n",
    "print('Num of Demo/Clinical Columns:',df1.shape[1])\n",
    "print('Demo/Clinical Cols + TOI Cols:', df1.shape[1] + toihq.shape[1])"
   ]
  },
  {
   "cell_type": "code",
   "execution_count": 273,
   "metadata": {},
   "outputs": [
    {
     "name": "stdout",
     "output_type": "stream",
     "text": [
      "Number of Rows in DemoClinical Data: 6975\n",
      "Number of Rows in DemoClinical/TOI Merged Data: 6977\n",
      "\n",
      "Number of Unique Patient IDs in DemoClinical Data 6925\n",
      "Number of Unique Patient IDs in DemoClinical/TOI Merged Data 6925\n"
     ]
    }
   ],
   "source": [
    "print('Number of Rows in DemoClinical Data:', df1.shape[0])\n",
    "print('Number of Rows in DemoClinical/TOI Merged Data:', df2.shape[0])\n",
    "print()\n",
    "print('Number of Unique Patient IDs in DemoClinical Data', len(df1.index.unique()))\n",
    "print('Number of Unique Patient IDs in DemoClinical/TOI Merged Data', len(df2.index.unique()))"
   ]
  },
  {
   "cell_type": "code",
   "execution_count": 291,
   "metadata": {},
   "outputs": [
    {
     "name": "stdout",
     "output_type": "stream",
     "text": [
      "Number of IDs in df1, but not in df2: 0\n",
      "Number of IDs in df2, but not in df1: 0\n"
     ]
    }
   ],
   "source": [
    "print('Number of IDs in df1, but not in df2:',len(set(df1.index).difference(df2.index)))\n",
    "print('Number of IDs in df2, but not in df1:',len(set(df2.index).difference(df1.index)))"
   ]
  },
  {
   "cell_type": "markdown",
   "metadata": {},
   "source": [
    "### Analysis\n",
    "The extra two rows after the data merge likely come from the fact that TWO patient IDs \n",
    "in the TOI data set (04030 and 04033) have two records.  I identified this above,\n",
    "where I also recommend to remove these two patients in our (Dani, Kevin) upcoming \n",
    "modeling efforts.  HOWEVER, note that the Demo/Clinical data set by itself has\n",
    "6,975 records, but only 6,925 unique patient IDs.  This means the Demo/Clinical data\n",
    "set itself has some redundant records that we should look into (BELOW).\n",
    "\n",
    "What we find (BELOW) is that 6,875 patients have one record in the Demo/Clinical data, while 50 \n",
    "patients have two records (6,875 + 50 = 6,925 = Number of Unique Patient IDs).\n",
    "\n",
    "At least 3 of the 2-record patients in the Demo/Clinical data set have twins:\n",
    "* 04355\n",
    "* 04582\n",
    "* 05089"
   ]
  },
  {
   "cell_type": "code",
   "execution_count": 293,
   "metadata": {},
   "outputs": [
    {
     "data": {
      "text/html": [
       "<div>\n",
       "<style scoped>\n",
       "    .dataframe tbody tr th:only-of-type {\n",
       "        vertical-align: middle;\n",
       "    }\n",
       "\n",
       "    .dataframe tbody tr th {\n",
       "        vertical-align: top;\n",
       "    }\n",
       "\n",
       "    .dataframe thead th {\n",
       "        text-align: right;\n",
       "    }\n",
       "</style>\n",
       "<table border=\"1\" class=\"dataframe\">\n",
       "  <thead>\n",
       "    <tr style=\"text-align: right;\">\n",
       "      <th></th>\n",
       "      <th>patid</th>\n",
       "    </tr>\n",
       "    <tr>\n",
       "      <th>count</th>\n",
       "      <th></th>\n",
       "    </tr>\n",
       "  </thead>\n",
       "  <tbody>\n",
       "    <tr>\n",
       "      <th>1</th>\n",
       "      <td>6875</td>\n",
       "    </tr>\n",
       "    <tr>\n",
       "      <th>2</th>\n",
       "      <td>50</td>\n",
       "    </tr>\n",
       "  </tbody>\n",
       "</table>\n",
       "</div>"
      ],
      "text/plain": [
       "       patid\n",
       "count       \n",
       "1       6875\n",
       "2         50"
      ]
     },
     "execution_count": 293,
     "metadata": {},
     "output_type": "execute_result"
    }
   ],
   "source": [
    "df1_patid_count = df1.reset_index().groupby('patid')['patid'].agg('count').to_frame('count')\n",
    "df1_patid_count.reset_index().groupby('count').agg('count')"
   ]
  },
  {
   "cell_type": "code",
   "execution_count": 298,
   "metadata": {},
   "outputs": [],
   "source": [
    "df1_2r_patients = df1_patid_count.query('count==2')"
   ]
  },
  {
   "cell_type": "markdown",
   "metadata": {},
   "source": [
    "#### # Are either of the TOI 2-record patients in the Demo/Clinical 2-record patient set?\n"
   ]
  },
  {
   "cell_type": "code",
   "execution_count": 304,
   "metadata": {},
   "outputs": [
    {
     "data": {
      "text/plain": [
       "[]"
      ]
     },
     "execution_count": 304,
     "metadata": {},
     "output_type": "execute_result"
    }
   ],
   "source": [
    "[item for item in ['S002-BISH-04030','S002-BISH-04033'] if item in df1_2r_patients.index]"
   ]
  },
  {
   "cell_type": "code",
   "execution_count": 301,
   "metadata": {},
   "outputs": [
    {
     "data": {
      "text/plain": [
       "Index(['S002-BISH-00025', 'S002-BISH-00115', 'S002-BISH-00399',\n",
       "       'S002-BISH-00721', 'S002-BISH-00744', 'S002-BISH-00980',\n",
       "       'S002-BISH-01204', 'S002-BISH-01375', 'S002-BISH-01474',\n",
       "       'S002-BISH-01810', 'S002-BISH-01915', 'S002-BISH-01964',\n",
       "       'S002-BISH-02132', 'S002-BISH-02241', 'S002-BISH-02880',\n",
       "       'S002-BISH-03139', 'S002-BISH-03152', 'S002-BISH-03347',\n",
       "       'S002-BISH-03476', 'S002-BISH-03540', 'S002-BISH-03649',\n",
       "       'S002-BISH-03779', 'S002-BISH-03865', 'S002-BISH-03939',\n",
       "       'S002-BISH-04122', 'S002-BISH-04355', 'S002-BISH-04441',\n",
       "       'S002-BISH-04515', 'S002-BISH-04582', 'S002-BISH-04811',\n",
       "       'S002-BISH-05046', 'S002-BISH-05058', 'S002-BISH-05089',\n",
       "       'S002-BISH-05356', 'S002-BISH-05377', 'S002-BISH-05651',\n",
       "       'S002-BISH-05834', 'S002-BISH-05937', 'S002-BISH-05965',\n",
       "       'S002-BISH-06129', 'S002-BISH-06153', 'S002-BISH-06210',\n",
       "       'S002-BISH-06259', 'S002-BISH-06653', 'S002-BISH-06689',\n",
       "       'S002-BISH-06714', 'S002-BISH-06771', 'S002-BISH-06897',\n",
       "       'S002-BISH-06915', 'S002-BISH-06978'],\n",
       "      dtype='object', name='patid')"
      ]
     },
     "execution_count": 301,
     "metadata": {},
     "output_type": "execute_result"
    }
   ],
   "source": [
    "df1_2r_patients.index"
   ]
  },
  {
   "cell_type": "code",
   "execution_count": 314,
   "metadata": {},
   "outputs": [
    {
     "name": "stdout",
     "output_type": "stream",
     "text": [
      "                adsc.infraceai4.25 adsc.infraceai7.25 adsc.infracenih4.25  \\\n",
      "patid                                                                       \n",
      "S002-BISH-00025                  2                  4                   2   \n",
      "S002-BISH-00025                  4                  7                   4   \n",
      "\n",
      "                adsc.infracenih7.25  \n",
      "patid                                \n",
      "S002-BISH-00025                   4  \n",
      "S002-BISH-00025                   7  \n",
      "\n",
      "\n",
      "-------------------------------------------------------------\n",
      "\n",
      "                adsc.gender2.25\n",
      "patid                          \n",
      "S002-BISH-00115               1\n",
      "S002-BISH-00115               2\n",
      "\n",
      "\n",
      "-------------------------------------------------------------\n",
      "\n",
      "Empty DataFrame\n",
      "Columns: []\n",
      "Index: [S002-BISH-00399, S002-BISH-00399]\n",
      "\n",
      "\n",
      "-------------------------------------------------------------\n",
      "\n",
      "                adsc.gender2.25\n",
      "patid                          \n",
      "S002-BISH-00721               1\n",
      "S002-BISH-00721               2\n",
      "\n",
      "\n",
      "-------------------------------------------------------------\n",
      "\n",
      "                adsc.gender2.25\n",
      "patid                          \n",
      "S002-BISH-00744               1\n",
      "S002-BISH-00744               2\n",
      "\n",
      "\n",
      "-------------------------------------------------------------\n",
      "\n",
      "Empty DataFrame\n",
      "Columns: []\n",
      "Index: [S002-BISH-00980, S002-BISH-00980]\n",
      "\n",
      "\n",
      "-------------------------------------------------------------\n",
      "\n",
      "Empty DataFrame\n",
      "Columns: []\n",
      "Index: [S002-BISH-01204, S002-BISH-01204]\n",
      "\n",
      "\n",
      "-------------------------------------------------------------\n",
      "\n",
      "                adsc.gender2.25\n",
      "patid                          \n",
      "S002-BISH-01375               1\n",
      "S002-BISH-01375               2\n",
      "\n",
      "\n",
      "-------------------------------------------------------------\n",
      "\n",
      "                adsc.gender2.25\n",
      "patid                          \n",
      "S002-BISH-01474               1\n",
      "S002-BISH-01474               2\n",
      "\n",
      "\n",
      "-------------------------------------------------------------\n",
      "\n",
      "Empty DataFrame\n",
      "Columns: []\n",
      "Index: [S002-BISH-01810, S002-BISH-01810]\n",
      "\n",
      "\n",
      "-------------------------------------------------------------\n",
      "\n"
     ]
    }
   ],
   "source": [
    "dup_list = []\n",
    "for pid in df1_2r_patients.index[:10]:\n",
    "    dup = df1.loc[pid]\n",
    "    #dup_eq_index = dup1.iloc[0] == dup1.iloc[1]\n",
    "    dup_ne_index = dup.iloc[0] != dup.iloc[1]\n",
    "    print(dup.loc[:,dup_ne_index.tolist()].dropna(axis=1))\n",
    "    print('\\n\\n-------------------------------------------------------------\\n')"
   ]
  },
  {
   "cell_type": "code",
   "execution_count": 315,
   "metadata": {},
   "outputs": [
    {
     "data": {
      "text/plain": [
       "Index(['S002-BISH-00025', 'S002-BISH-00115', 'S002-BISH-00399',\n",
       "       'S002-BISH-00721', 'S002-BISH-00744', 'S002-BISH-00980',\n",
       "       'S002-BISH-01204', 'S002-BISH-01375', 'S002-BISH-01474',\n",
       "       'S002-BISH-01810', 'S002-BISH-01915', 'S002-BISH-01964',\n",
       "       'S002-BISH-02132', 'S002-BISH-02241', 'S002-BISH-02880',\n",
       "       'S002-BISH-03139', 'S002-BISH-03152', 'S002-BISH-03347',\n",
       "       'S002-BISH-03476', 'S002-BISH-03540', 'S002-BISH-03649',\n",
       "       'S002-BISH-03779', 'S002-BISH-03865', 'S002-BISH-03939',\n",
       "       'S002-BISH-04122', 'S002-BISH-04355', 'S002-BISH-04441',\n",
       "       'S002-BISH-04515', 'S002-BISH-04582', 'S002-BISH-04811',\n",
       "       'S002-BISH-05046', 'S002-BISH-05058', 'S002-BISH-05089',\n",
       "       'S002-BISH-05356', 'S002-BISH-05377', 'S002-BISH-05651',\n",
       "       'S002-BISH-05834', 'S002-BISH-05937', 'S002-BISH-05965',\n",
       "       'S002-BISH-06129', 'S002-BISH-06153', 'S002-BISH-06210',\n",
       "       'S002-BISH-06259', 'S002-BISH-06653', 'S002-BISH-06689',\n",
       "       'S002-BISH-06714', 'S002-BISH-06771', 'S002-BISH-06897',\n",
       "       'S002-BISH-06915', 'S002-BISH-06978'],\n",
       "      dtype='object', name='patid')"
      ]
     },
     "execution_count": 315,
     "metadata": {},
     "output_type": "execute_result"
    }
   ],
   "source": [
    "df1_2r_patients.index"
   ]
  },
  {
   "cell_type": "markdown",
   "metadata": {},
   "source": []
  },
  {
   "cell_type": "code",
   "execution_count": null,
   "metadata": {},
   "outputs": [],
   "source": []
  },
  {
   "cell_type": "markdown",
   "metadata": {},
   "source": [
    "# Investigating Udi's Second Step (P6)"
   ]
  },
  {
   "cell_type": "code",
   "execution_count": 4,
   "metadata": {
    "scrolled": false
   },
   "outputs": [
    {
     "name": "stdout",
     "output_type": "stream",
     "text": [
      "import pandas as pd\r\n",
      "import numpy as np\r\n",
      "from datetime import datetime\r\n",
      "import pickle\r\n",
      "\r\n",
      "#df=pd.read_csv(\"data/interim/mbh001_Data-Wide-QC-full-data_20190924_V3_feateng.csv\").set_index('patid',drop=True)\r\n",
      "df=pickle.load( open( \"data/interim/mbh001_Data-Wide-QC-full-data_20190924_V4_feateng.p\", \"rb\" ) )\r\n",
      "\r\n",
      "#Extracting f3 complete toi patids\r\n",
      "f3_toi_patids=df.filter(regex=\"^toi.+20\").dropna(axis=0).index # Dropping rows with missing data\r\n",
      "\r\n",
      "\r\n",
      "#GA at F3 for each patient\r\n",
      "collect_times=pd.read_csv(\"data/raw/BISH FETAL GA ASSESSMENT.csv\")\r\n",
      "collect_times.columns=collect_times.columns.str.replace(' ', '')\r\n",
      "collect_times.rename(columns = {'GA_In_Days':'ga_in_days',\"PATID\":'patid'},inplace=True)\r\n",
      "#f3_collect_times['cycle'] = f3_collect_times['FinalFileName'].dropna().apply(lambda x: x.split(\"-\")[-1])\r\n",
      "collect_times_f3=collect_times[collect_times.ga_in_days>=238].loc[:,[\"ga_in_days\",\"patid\",\"NumberOfFetuses\"]]\r\n",
      "collect_times_f3.rename(columns = {'ga_in_days':'ga_f3'},inplace=True)\r\n",
      "\r\n",
      "\r\n",
      "df_f3_toi=df.loc[f3_toi_patids,:]\r\n",
      "\r\n",
      "#Subset of features with relevant cycle id and no twins\r\n",
      "#df_f3=df.filter(regex=\".\\.20$|.\\.15$|.\\.10$|.\\.5$|.\\.PREG$|.\\.ANY$|patid|ADSC.DLVRYGA_DYS.25\")#.dropna()\r\n",
      "df_f3_toi.rename(columns = {'adsc.dlvryga_dys.25':'ga.birth'},inplace=True)\r\n",
      "df_f3_toi=df_f3_toi.merge(collect_times_f3,on='patid')\r\n",
      "df_f3_toi['time_left']=df_f3_toi['ga.birth']-df_f3_toi['ga_f3']\r\n",
      "df_f3_toi['time_left']=df_f3_toi['time_left'].astype('float64')\r\n",
      "\r\n",
      "df_f3_toi=df_f3_toi[df_f3_toi['time_left']>=0]\r\n",
      "df_f3_toi['ga_f3']=df_f3_toi['ga_f3'].astype('float64')\r\n",
      "df_f3_toi.set_index(['patid'],inplace=True)\r\n",
      "df_f3_toi=df_f3_toi[df_f3_toi['NumberOfFetuses']==1] #Keep only single fetus\r\n",
      "df_f3_toi.drop('NumberOfFetuses',axis=1,inplace=True)\r\n",
      "\r\n",
      "\r\n",
      "#Replacing artifacts with missing values\r\n",
      "artifact_val1=-99999\r\n",
      "artifact_val2=-999999\r\n",
      "df_f3_toi.replace(artifact_val1,None,inplace=True)\r\n",
      "df_f3_toi.replace(artifact_val2,None,inplace=True)\r\n",
      "\r\n",
      "\r\n",
      "\r\n",
      "\r\n",
      "now = datetime.now()\r\n",
      "date_time = 'a'#now.strftime(\"%Y%m%d%H%M%S\")\r\n",
      "\r\n",
      "toi_fname='data/processed/mbh001_f3_toi_baseline_{}'.format(date_time)\r\n",
      "print ('Writing file:{}'.format(toi_fname+'.csv'))\r\n",
      "df_f3_toi.to_csv(toi_fname+'.csv')\r\n",
      "\r\n",
      "print ('Writing file:{}'.format(toi_fname+'.p'))\r\n",
      "pickle.dump(df_f3_toi, open(toi_fname+'.p', \"wb\" ) )\r\n",
      "\r\n",
      "\r\n",
      "\r\n",
      "\r\n",
      "#TOI_MON intersection\r\n",
      "df_mon=df_f3_toi.filter(regex=\"^mon.+20\")\r\n",
      "df_mon_na_frac=(df_mon.isnull().sum()/len(df_mon)).sort_values()\r\n",
      "mon_na_th=0.55\r\n",
      "mon_features=df_mon_na_frac[df_mon_na_frac<=mon_na_th].index\r\n",
      "f3_toi_mon_patids=df_f3_toi[mon_features].dropna(axis=0).index #Dropping rows with missing data\r\n",
      "df_f3_toi_mon=df_f3_toi.loc[f3_toi_mon_patids,:]\r\n",
      "\r\n",
      "\r\n",
      "toi_mon_fname='data/processed/mbh001_f3_toi_mon_baseline_{}'.format(date_time)\r\n",
      "print ('Writing file:{}'.format(toi_mon_fname+'.csv'))\r\n",
      "df_f3_toi_mon.to_csv(toi_mon_fname+'.csv')\r\n",
      "\r\n",
      "print ('Writing file:{}'.format(toi_mon_fname+'.p'))\r\n",
      "pickle.dump(df_f3_toi_mon, open(toi_mon_fname+'.p', \"wb\" ) )\r\n",
      "\r\n",
      "\r\n",
      "\r\n",
      "\r\n",
      "\r\n",
      "\r\n",
      "\r\n",
      "\r\n",
      "\r\n",
      "\r\n",
      "\r\n",
      "def feature_profile_num(x,df):\r\n",
      "    #print(x)\r\n",
      "    #print(type(x))\r\n",
      "   # =df_f3['time_left'],ga_f3=df['ga_f3']\r\n",
      "    target=df['time_left']\r\n",
      "    ga_f3=df['ga_f3']\r\n",
      "    n=len(x)\r\n",
      "    na_idx=x.loc[x.isna()].index #  x.isna().index\r\n",
      "#    print(na_idx)\r\n",
      "#    print(len(x.drop(na_idx,axis=0)))\r\n",
      "#    print(len(target.drop(na_idx,axis=0)))\r\n",
      "    #print(na_idx)\r\n",
      "    #artifacts_idx=x.loc[x<(-999)].index #  x.isna().index\r\n",
      "    na_total=x.isna().sum()\r\n",
      "    #artifacts_total=np.sum(x<(-999))\r\n",
      "    #feat_profile=dict(x.describe(include='all'))\r\n",
      "    feat_profile={}\r\n",
      "    #feat_profile['cor']=np.abs(scipy.stats.pearsonr(x.drop(na_idx).values,target.drop(na_idx).values)[0])\r\n",
      "    feat_profile['na_ratio']=na_total/n\r\n",
      "    feat_profile['na_total']=na_total\r\n",
      "    #feat_profile['artifacts_ratio']=artifacts_total/n\r\n",
      "    #feat_profile['artifacts_total']=artifacts_total\r\n",
      "    #feat_profile['mwu_na']=np.nan if na_total<=30 else scipy.stats.mannwhitneyu(target.loc[na_idx],target.drop(na_idx),alternative='two-sided')[1]\r\n",
      "    #feat_profile['mwu_artifacts']=np.nan if artifacts_total<=30 else scipy.stats.mannwhitneyu(target.loc[artifacts_idx],target.drop(artifacts_idx),alternative='two-sided')[1]#   \r\n",
      "    feat_profile['db']=x.name.split('.')[0]\r\n",
      "    feat_profile['cycle']=x.name.split('.')[-1]\r\n",
      "    #feat_profile['type']='num'\r\n",
      "    feat_profile['target_mean_na']=target.loc[na_idx].mean()\r\n",
      "    feat_profile['target_mean']=target.drop(na_idx).mean()\r\n",
      "    feat_profile['ga_f3_na']=ga_f3.loc[na_idx].mean()\r\n",
      "    feat_profile['ga_f3']=ga_f3.drop(na_idx).mean()\r\n",
      "    #feat_profile['artifact_mean_na']=target.loc[artifacts_idx].mean()\r\n",
      "    #feat_profile['artifact_mean']=target.drop(artifacts_idx).mean()\r\n",
      "    feat_profile['featid']=x.name\r\n",
      "    #   else:\r\n",
      "  #      feat_profile['mwu_na']=np.nan\r\n",
      "    \r\n",
      "    \r\n",
      "#    b=pd.DataFrame.from_records([feat_profile],index=[x.name])\r\n",
      "  #  print(feat_profile)\r\n",
      "    return(feat_profile)\r\n",
      "\r\n",
      "\r\n",
      "\r\n",
      "toi_feat_profile_df=df_f3_toi.apply(lambda x: feature_profile_num(x,df_f3_toi)).apply(pd.Series).sort_values('na_ratio')\r\n",
      "toi_feat_profile_fname=toi_fname+'_feat_profile.csv'\r\n",
      "print ('Writing file:{}'.format(toi_feat_profile_fname))\r\n",
      "toi_feat_profile_df.to_csv(toi_feat_profile_fname)\r\n",
      "\r\n",
      "\r\n",
      "\r\n",
      "toi_mon_feat_profile_df=df_f3_toi_mon.apply(lambda x: feature_profile_num(x,df_f3_toi_mon)).apply(pd.Series).sort_values('na_ratio')\r\n",
      "toi_mon_feat_profile_fname=toi_mon_fname+'_feat_profile.csv'\r\n",
      "print ('Writing file:{}'.format(toi_mon_feat_profile_fname))\r\n",
      "toi_mon_feat_profile_df.to_csv(toi_mon_feat_profile_fname)\r\n",
      "\r\n",
      "\r\n",
      "\r\n",
      "\r\n",
      "\r\n",
      "\r\n",
      "\r\n",
      "\r\n",
      "\r\n",
      "\r\n",
      "\r\n",
      "\r\n",
      "\r\n"
     ]
    }
   ],
   "source": [
    "!cat ../src/data/build_f3_data.py"
   ]
  },
  {
   "cell_type": "markdown",
   "metadata": {},
   "source": [
    "# Exploring the BISH File"
   ]
  },
  {
   "cell_type": "code",
   "execution_count": 7,
   "metadata": {},
   "outputs": [],
   "source": [
    "bish = pd.read_csv('../data/raw/BISH FETAL GA ASSESSMENT.csv')"
   ]
  },
  {
   "cell_type": "markdown",
   "metadata": {},
   "source": [
    "### BISH Schema"
   ]
  },
  {
   "cell_type": "code",
   "execution_count": 46,
   "metadata": {},
   "outputs": [
    {
     "data": {
      "text/html": [
       "<div>\n",
       "<style scoped>\n",
       "    .dataframe tbody tr th:only-of-type {\n",
       "        vertical-align: middle;\n",
       "    }\n",
       "\n",
       "    .dataframe tbody tr th {\n",
       "        vertical-align: top;\n",
       "    }\n",
       "\n",
       "    .dataframe thead th {\n",
       "        text-align: right;\n",
       "    }\n",
       "</style>\n",
       "<table border=\"1\" class=\"dataframe\">\n",
       "  <thead>\n",
       "    <tr style=\"text-align: right;\">\n",
       "      <th></th>\n",
       "      <th>Final File Name</th>\n",
       "      <th>GA_In_Days</th>\n",
       "      <th>GA at Assessment Weeks</th>\n",
       "      <th>PATID</th>\n",
       "      <th>Box Number</th>\n",
       "      <th>Original File Name</th>\n",
       "      <th>Final File Name.1</th>\n",
       "      <th>File Type</th>\n",
       "      <th>GA at Assessment</th>\n",
       "      <th>Zip File</th>\n",
       "      <th>Overwrite</th>\n",
       "      <th>Number Of Fetuses</th>\n",
       "      <th>Box Number.1</th>\n",
       "    </tr>\n",
       "  </thead>\n",
       "  <tbody>\n",
       "    <tr>\n",
       "      <th>0</th>\n",
       "      <td>S002-BISH-00001-T010-10</td>\n",
       "      <td>150</td>\n",
       "      <td>21 Weeks, 3 Days</td>\n",
       "      <td>S002-BISH-00001</td>\n",
       "      <td>2007-04</td>\n",
       "      <td>S002-BISH-00001-2007-04.physio</td>\n",
       "      <td>S002-BISH-00001-T010-10.physio</td>\n",
       "      <td>physio</td>\n",
       "      <td>21 Weeks, 3 Days</td>\n",
       "      <td>False</td>\n",
       "      <td>True</td>\n",
       "      <td>1</td>\n",
       "      <td>2007-04</td>\n",
       "    </tr>\n",
       "    <tr>\n",
       "      <th>1</th>\n",
       "      <td>S002-BISH-00001-T010-15</td>\n",
       "      <td>202</td>\n",
       "      <td>28 Weeks, 6 Days</td>\n",
       "      <td>S002-BISH-00001</td>\n",
       "      <td>2007-04</td>\n",
       "      <td>11-22-s002-bish-00001-2007-04.physio</td>\n",
       "      <td>S002-BISH-00001-T010-15.physio</td>\n",
       "      <td>physio</td>\n",
       "      <td>28 Weeks, 6 Days</td>\n",
       "      <td>False</td>\n",
       "      <td>True</td>\n",
       "      <td>1</td>\n",
       "      <td>2007-04</td>\n",
       "    </tr>\n",
       "    <tr>\n",
       "      <th>2</th>\n",
       "      <td>S002-BISH-00002-T010-10</td>\n",
       "      <td>167</td>\n",
       "      <td>23 Weeks, 6 Days</td>\n",
       "      <td>S002-BISH-00002</td>\n",
       "      <td>2007-04</td>\n",
       "      <td>S002-BISH-00002-2007-04.physio</td>\n",
       "      <td>S002-BISH-00002-T010-10.physio</td>\n",
       "      <td>physio</td>\n",
       "      <td>23 Weeks, 6 Days</td>\n",
       "      <td>False</td>\n",
       "      <td>True</td>\n",
       "      <td>1</td>\n",
       "      <td>2007-04</td>\n",
       "    </tr>\n",
       "    <tr>\n",
       "      <th>3</th>\n",
       "      <td>S002-BISH-00002-T010-20</td>\n",
       "      <td>242</td>\n",
       "      <td>34 Weeks, 4 Days</td>\n",
       "      <td>S002-BISH-00002</td>\n",
       "      <td>2007-05</td>\n",
       "      <td>10-24-s002-bish-00002-2007-05.physio</td>\n",
       "      <td>S002-BISH-00002-T010-20.physio</td>\n",
       "      <td>physio</td>\n",
       "      <td>34 Weeks, 4 Days</td>\n",
       "      <td>False</td>\n",
       "      <td>True</td>\n",
       "      <td>1</td>\n",
       "      <td>2007-05</td>\n",
       "    </tr>\n",
       "    <tr>\n",
       "      <th>4</th>\n",
       "      <td>S002-BISH-00003-T010-15</td>\n",
       "      <td>201</td>\n",
       "      <td>28 Weeks, 5 Days</td>\n",
       "      <td>S002-BISH-00003</td>\n",
       "      <td>2007-06</td>\n",
       "      <td>S002-BISH-00003-9-17-2007-06.physio</td>\n",
       "      <td>S002-BISH-00003-T010-15.physio</td>\n",
       "      <td>physio</td>\n",
       "      <td>28 Weeks, 5 Days</td>\n",
       "      <td>False</td>\n",
       "      <td>True</td>\n",
       "      <td>1</td>\n",
       "      <td>2007-06</td>\n",
       "    </tr>\n",
       "  </tbody>\n",
       "</table>\n",
       "</div>"
      ],
      "text/plain": [
       "           Final File Name  GA_In_Days GA at Assessment Weeks  \\\n",
       "0  S002-BISH-00001-T010-10         150       21 Weeks, 3 Days   \n",
       "1  S002-BISH-00001-T010-15         202       28 Weeks, 6 Days   \n",
       "2  S002-BISH-00002-T010-10         167       23 Weeks, 6 Days   \n",
       "3  S002-BISH-00002-T010-20         242       34 Weeks, 4 Days   \n",
       "4  S002-BISH-00003-T010-15         201       28 Weeks, 5 Days   \n",
       "\n",
       "             PATID Box Number                    Original File Name  \\\n",
       "0  S002-BISH-00001    2007-04        S002-BISH-00001-2007-04.physio   \n",
       "1  S002-BISH-00001    2007-04  11-22-s002-bish-00001-2007-04.physio   \n",
       "2  S002-BISH-00002    2007-04        S002-BISH-00002-2007-04.physio   \n",
       "3  S002-BISH-00002    2007-05  10-24-s002-bish-00002-2007-05.physio   \n",
       "4  S002-BISH-00003    2007-06   S002-BISH-00003-9-17-2007-06.physio   \n",
       "\n",
       "                Final File Name.1 File Type  GA at Assessment  Zip File  \\\n",
       "0  S002-BISH-00001-T010-10.physio    physio  21 Weeks, 3 Days     False   \n",
       "1  S002-BISH-00001-T010-15.physio    physio  28 Weeks, 6 Days     False   \n",
       "2  S002-BISH-00002-T010-10.physio    physio  23 Weeks, 6 Days     False   \n",
       "3  S002-BISH-00002-T010-20.physio    physio  34 Weeks, 4 Days     False   \n",
       "4  S002-BISH-00003-T010-15.physio    physio  28 Weeks, 5 Days     False   \n",
       "\n",
       "   Overwrite  Number Of Fetuses Box Number.1  \n",
       "0       True                  1      2007-04  \n",
       "1       True                  1      2007-04  \n",
       "2       True                  1      2007-04  \n",
       "3       True                  1      2007-05  \n",
       "4       True                  1      2007-06  "
      ]
     },
     "execution_count": 46,
     "metadata": {},
     "output_type": "execute_result"
    }
   ],
   "source": [
    "bish.head()"
   ]
  },
  {
   "cell_type": "markdown",
   "metadata": {},
   "source": [
    "### BISH's GA Tukey Summary"
   ]
  },
  {
   "cell_type": "code",
   "execution_count": 80,
   "metadata": {},
   "outputs": [
    {
     "data": {
      "text/html": [
       "<div>\n",
       "<style scoped>\n",
       "    .dataframe tbody tr th:only-of-type {\n",
       "        vertical-align: middle;\n",
       "    }\n",
       "\n",
       "    .dataframe tbody tr th {\n",
       "        vertical-align: top;\n",
       "    }\n",
       "\n",
       "    .dataframe thead th {\n",
       "        text-align: right;\n",
       "    }\n",
       "</style>\n",
       "<table border=\"1\" class=\"dataframe\">\n",
       "  <thead>\n",
       "    <tr style=\"text-align: right;\">\n",
       "      <th></th>\n",
       "      <th>GA_In_Days</th>\n",
       "      <th>GA_In_Weeks</th>\n",
       "    </tr>\n",
       "  </thead>\n",
       "  <tbody>\n",
       "    <tr>\n",
       "      <th>min</th>\n",
       "      <td>116.0</td>\n",
       "      <td>16.6</td>\n",
       "    </tr>\n",
       "    <tr>\n",
       "      <th>25%</th>\n",
       "      <td>161.0</td>\n",
       "      <td>23.0</td>\n",
       "    </tr>\n",
       "    <tr>\n",
       "      <th>50%</th>\n",
       "      <td>221.0</td>\n",
       "      <td>31.6</td>\n",
       "    </tr>\n",
       "    <tr>\n",
       "      <th>75%</th>\n",
       "      <td>242.0</td>\n",
       "      <td>34.6</td>\n",
       "    </tr>\n",
       "    <tr>\n",
       "      <th>max</th>\n",
       "      <td>339.0</td>\n",
       "      <td>48.4</td>\n",
       "    </tr>\n",
       "  </tbody>\n",
       "</table>\n",
       "</div>"
      ],
      "text/plain": [
       "     GA_In_Days  GA_In_Weeks\n",
       "min       116.0         16.6\n",
       "25%       161.0         23.0\n",
       "50%       221.0         31.6\n",
       "75%       242.0         34.6\n",
       "max       339.0         48.4"
      ]
     },
     "execution_count": 80,
     "metadata": {},
     "output_type": "execute_result"
    }
   ],
   "source": [
    "tukey = bish.GA_In_Days.describe().to_frame().iloc[3:,:]\n",
    "tukey['GA_In_Weeks'] = round(tukey.GA_In_Days/7, 1)\n",
    "tukey"
   ]
  },
  {
   "cell_type": "markdown",
   "metadata": {},
   "source": [
    "### BISH PATID:  Rows per Patient\n",
    "* Patients can have anywhere between 1-6 rows in this file\n",
    "* most patients have 2 rows (2682), followed closely by patients who have only 1 row (2309) and 3 rows (1563)\n",
    "* patients with 4, 5, or 6 rows are very few in number (1, 1, and 2, respectively)"
   ]
  },
  {
   "cell_type": "code",
   "execution_count": 18,
   "metadata": {},
   "outputs": [
    {
     "data": {
      "text/plain": [
       "array([2, 1, 3, 6, 4, 5])"
      ]
     },
     "execution_count": 18,
     "metadata": {},
     "output_type": "execute_result"
    }
   ],
   "source": [
    "bish.groupby('PATID')['PATID'].count().unique()"
   ]
  },
  {
   "cell_type": "code",
   "execution_count": 77,
   "metadata": {},
   "outputs": [
    {
     "data": {
      "text/html": [
       "<div>\n",
       "<style scoped>\n",
       "    .dataframe tbody tr th:only-of-type {\n",
       "        vertical-align: middle;\n",
       "    }\n",
       "\n",
       "    .dataframe tbody tr th {\n",
       "        vertical-align: top;\n",
       "    }\n",
       "\n",
       "    .dataframe thead th {\n",
       "        text-align: right;\n",
       "    }\n",
       "</style>\n",
       "<table border=\"1\" class=\"dataframe\">\n",
       "  <thead>\n",
       "    <tr style=\"text-align: right;\">\n",
       "      <th></th>\n",
       "      <th>PATID</th>\n",
       "    </tr>\n",
       "    <tr>\n",
       "      <th>Count</th>\n",
       "      <th></th>\n",
       "    </tr>\n",
       "  </thead>\n",
       "  <tbody>\n",
       "    <tr>\n",
       "      <th>1</th>\n",
       "      <td>2309</td>\n",
       "    </tr>\n",
       "    <tr>\n",
       "      <th>2</th>\n",
       "      <td>2682</td>\n",
       "    </tr>\n",
       "    <tr>\n",
       "      <th>3</th>\n",
       "      <td>1563</td>\n",
       "    </tr>\n",
       "    <tr>\n",
       "      <th>4</th>\n",
       "      <td>1</td>\n",
       "    </tr>\n",
       "    <tr>\n",
       "      <th>5</th>\n",
       "      <td>1</td>\n",
       "    </tr>\n",
       "    <tr>\n",
       "      <th>6</th>\n",
       "      <td>2</td>\n",
       "    </tr>\n",
       "  </tbody>\n",
       "</table>\n",
       "</div>"
      ],
      "text/plain": [
       "       PATID\n",
       "Count       \n",
       "1       2309\n",
       "2       2682\n",
       "3       1563\n",
       "4          1\n",
       "5          1\n",
       "6          2"
      ]
     },
     "execution_count": 77,
     "metadata": {},
     "output_type": "execute_result"
    }
   ],
   "source": [
    "bish.groupby('PATID')['PATID'].count().to_frame('Count').reset_index().groupby('Count').count()"
   ]
  },
  {
   "cell_type": "markdown",
   "metadata": {},
   "source": [
    "## Rows per Patient in Udi's Subset (GA >= 238)\n",
    "* In Udi's subset, patients have either 1 or 2 rows\n",
    "* almost all the patients have 1 row (5367)\n",
    "* 5 of the patients have 2 rows"
   ]
  },
  {
   "cell_type": "code",
   "execution_count": 21,
   "metadata": {},
   "outputs": [
    {
     "data": {
      "text/plain": [
       "array([1, 2])"
      ]
     },
     "execution_count": 21,
     "metadata": {},
     "output_type": "execute_result"
    }
   ],
   "source": [
    "bish.query('GA_In_Days > 238').groupby('PATID')['PATID'].count().unique()"
   ]
  },
  {
   "cell_type": "code",
   "execution_count": 82,
   "metadata": {},
   "outputs": [
    {
     "data": {
      "text/html": [
       "<div>\n",
       "<style scoped>\n",
       "    .dataframe tbody tr th:only-of-type {\n",
       "        vertical-align: middle;\n",
       "    }\n",
       "\n",
       "    .dataframe tbody tr th {\n",
       "        vertical-align: top;\n",
       "    }\n",
       "\n",
       "    .dataframe thead th {\n",
       "        text-align: right;\n",
       "    }\n",
       "</style>\n",
       "<table border=\"1\" class=\"dataframe\">\n",
       "  <thead>\n",
       "    <tr style=\"text-align: right;\">\n",
       "      <th></th>\n",
       "      <th>PATID</th>\n",
       "    </tr>\n",
       "    <tr>\n",
       "      <th>Count</th>\n",
       "      <th></th>\n",
       "    </tr>\n",
       "  </thead>\n",
       "  <tbody>\n",
       "    <tr>\n",
       "      <th>1</th>\n",
       "      <td>5367</td>\n",
       "    </tr>\n",
       "    <tr>\n",
       "      <th>2</th>\n",
       "      <td>5</td>\n",
       "    </tr>\n",
       "  </tbody>\n",
       "</table>\n",
       "</div>"
      ],
      "text/plain": [
       "       PATID\n",
       "Count       \n",
       "1       5367\n",
       "2          5"
      ]
     },
     "execution_count": 82,
     "metadata": {},
     "output_type": "execute_result"
    }
   ],
   "source": [
    "bish.query('GA_In_Days > 238').groupby('PATID')['PATID'].count().to_frame('Count').reset_index().groupby('Count').count()"
   ]
  },
  {
   "cell_type": "markdown",
   "metadata": {},
   "source": [
    "#### Which patients have 2 rows?"
   ]
  },
  {
   "cell_type": "code",
   "execution_count": 26,
   "metadata": {},
   "outputs": [
    {
     "data": {
      "text/html": [
       "<div>\n",
       "<style scoped>\n",
       "    .dataframe tbody tr th:only-of-type {\n",
       "        vertical-align: middle;\n",
       "    }\n",
       "\n",
       "    .dataframe tbody tr th {\n",
       "        vertical-align: top;\n",
       "    }\n",
       "\n",
       "    .dataframe thead th {\n",
       "        text-align: right;\n",
       "    }\n",
       "</style>\n",
       "<table border=\"1\" class=\"dataframe\">\n",
       "  <thead>\n",
       "    <tr style=\"text-align: right;\">\n",
       "      <th></th>\n",
       "      <th>PATID</th>\n",
       "    </tr>\n",
       "    <tr>\n",
       "      <th>PATID</th>\n",
       "      <th></th>\n",
       "    </tr>\n",
       "  </thead>\n",
       "  <tbody>\n",
       "    <tr>\n",
       "      <th>S002-BISH-00496</th>\n",
       "      <td>2</td>\n",
       "    </tr>\n",
       "    <tr>\n",
       "      <th>S002-BISH-02007</th>\n",
       "      <td>2</td>\n",
       "    </tr>\n",
       "    <tr>\n",
       "      <th>S002-BISH-02008</th>\n",
       "      <td>2</td>\n",
       "    </tr>\n",
       "    <tr>\n",
       "      <th>S002-BISH-02826</th>\n",
       "      <td>2</td>\n",
       "    </tr>\n",
       "    <tr>\n",
       "      <th>S002-BISH-05059</th>\n",
       "      <td>2</td>\n",
       "    </tr>\n",
       "  </tbody>\n",
       "</table>\n",
       "</div>"
      ],
      "text/plain": [
       "                 PATID\n",
       "PATID                 \n",
       "S002-BISH-00496      2\n",
       "S002-BISH-02007      2\n",
       "S002-BISH-02008      2\n",
       "S002-BISH-02826      2\n",
       "S002-BISH-05059      2"
      ]
     },
     "execution_count": 26,
     "metadata": {},
     "output_type": "execute_result"
    }
   ],
   "source": [
    "bish.query('GA_In_Days > 238').groupby('PATID')['PATID'].count().to_frame().query('PATID > 1')"
   ]
  },
  {
   "cell_type": "markdown",
   "metadata": {},
   "source": [
    "#### When were these BISH exams taken (in GA days)?\n",
    "* Only 1/5 of the patients have two distinct data \n",
    "* 4/5 patients have exams on the same data (are these just repeated records?)"
   ]
  },
  {
   "cell_type": "code",
   "execution_count": 91,
   "metadata": {},
   "outputs": [
    {
     "data": {
      "text/html": [
       "<div>\n",
       "<style scoped>\n",
       "    .dataframe tbody tr th:only-of-type {\n",
       "        vertical-align: middle;\n",
       "    }\n",
       "\n",
       "    .dataframe tbody tr th {\n",
       "        vertical-align: top;\n",
       "    }\n",
       "\n",
       "    .dataframe thead tr th {\n",
       "        text-align: left;\n",
       "    }\n",
       "\n",
       "    .dataframe thead tr:last-of-type th {\n",
       "        text-align: right;\n",
       "    }\n",
       "</style>\n",
       "<table border=\"1\" class=\"dataframe\">\n",
       "  <thead>\n",
       "    <tr>\n",
       "      <th></th>\n",
       "      <th colspan=\"2\" halign=\"left\">GA_In_Days</th>\n",
       "    </tr>\n",
       "    <tr>\n",
       "      <th></th>\n",
       "      <th>min</th>\n",
       "      <th>max</th>\n",
       "    </tr>\n",
       "    <tr>\n",
       "      <th>PATID</th>\n",
       "      <th></th>\n",
       "      <th></th>\n",
       "    </tr>\n",
       "  </thead>\n",
       "  <tbody>\n",
       "    <tr>\n",
       "      <th>S002-BISH-00496</th>\n",
       "      <td>265</td>\n",
       "      <td>284</td>\n",
       "    </tr>\n",
       "    <tr>\n",
       "      <th>S002-BISH-02007</th>\n",
       "      <td>244</td>\n",
       "      <td>244</td>\n",
       "    </tr>\n",
       "    <tr>\n",
       "      <th>S002-BISH-02008</th>\n",
       "      <td>245</td>\n",
       "      <td>245</td>\n",
       "    </tr>\n",
       "    <tr>\n",
       "      <th>S002-BISH-02826</th>\n",
       "      <td>243</td>\n",
       "      <td>243</td>\n",
       "    </tr>\n",
       "    <tr>\n",
       "      <th>S002-BISH-05059</th>\n",
       "      <td>241</td>\n",
       "      <td>241</td>\n",
       "    </tr>\n",
       "  </tbody>\n",
       "</table>\n",
       "</div>"
      ],
      "text/plain": [
       "                GA_In_Days     \n",
       "                       min  max\n",
       "PATID                          \n",
       "S002-BISH-00496        265  284\n",
       "S002-BISH-02007        244  244\n",
       "S002-BISH-02008        245  245\n",
       "S002-BISH-02826        243  243\n",
       "S002-BISH-05059        241  241"
      ]
     },
     "execution_count": 91,
     "metadata": {},
     "output_type": "execute_result"
    }
   ],
   "source": [
    "doubles_index = bish.query('GA_In_Days > 238').groupby('PATID')['PATID'].count().to_frame().query('PATID > 1').index\n",
    "bish.query('GA_In_Days > 238').set_index('PATID').loc[doubles_index,['GA_In_Days']].reset_index().groupby('PATID').agg([min,max])"
   ]
  },
  {
   "cell_type": "markdown",
   "metadata": {},
   "source": [
    "## Alternative Subset\n",
    "What's weird about Udi's subset is that it happens at 34 weeks and above...  That is, at a time\n",
    "when predicting the pregnancy becomes less and less critical.  \n",
    "\n",
    "What if we instead restrict ourselves to anything before 34 weeks?\n",
    "* We find that patients in this subset have anywhere between 1-4 records\n",
    "* Of these patients, 2821 have only 1 record (SAD FACE)\n",
    "* However, 1731 patients have 2 records\n",
    "* 33 patients have 3 records, while 3 patients have 4\n",
    "* So, 1767 patients have 2 records or more during this timeframe\n",
    "* If we're ok with missing data, then we have 4588 records"
   ]
  },
  {
   "cell_type": "code",
   "execution_count": 113,
   "metadata": {},
   "outputs": [
    {
     "data": {
      "text/plain": [
       "array([2, 1, 3, 4])"
      ]
     },
     "execution_count": 113,
     "metadata": {},
     "output_type": "execute_result"
    }
   ],
   "source": [
    "bish.query('GA_In_Days < 238').groupby('PATID')['PATID'].count().unique()"
   ]
  },
  {
   "cell_type": "code",
   "execution_count": 114,
   "metadata": {},
   "outputs": [
    {
     "data": {
      "text/html": [
       "<div>\n",
       "<style scoped>\n",
       "    .dataframe tbody tr th:only-of-type {\n",
       "        vertical-align: middle;\n",
       "    }\n",
       "\n",
       "    .dataframe tbody tr th {\n",
       "        vertical-align: top;\n",
       "    }\n",
       "\n",
       "    .dataframe thead th {\n",
       "        text-align: right;\n",
       "    }\n",
       "</style>\n",
       "<table border=\"1\" class=\"dataframe\">\n",
       "  <thead>\n",
       "    <tr style=\"text-align: right;\">\n",
       "      <th></th>\n",
       "      <th>PATID</th>\n",
       "    </tr>\n",
       "    <tr>\n",
       "      <th>Count</th>\n",
       "      <th></th>\n",
       "    </tr>\n",
       "  </thead>\n",
       "  <tbody>\n",
       "    <tr>\n",
       "      <th>1</th>\n",
       "      <td>2821</td>\n",
       "    </tr>\n",
       "    <tr>\n",
       "      <th>2</th>\n",
       "      <td>1731</td>\n",
       "    </tr>\n",
       "    <tr>\n",
       "      <th>3</th>\n",
       "      <td>33</td>\n",
       "    </tr>\n",
       "    <tr>\n",
       "      <th>4</th>\n",
       "      <td>3</td>\n",
       "    </tr>\n",
       "  </tbody>\n",
       "</table>\n",
       "</div>"
      ],
      "text/plain": [
       "       PATID\n",
       "Count       \n",
       "1       2821\n",
       "2       1731\n",
       "3         33\n",
       "4          3"
      ]
     },
     "execution_count": 114,
     "metadata": {},
     "output_type": "execute_result"
    }
   ],
   "source": [
    "bish.query('GA_In_Days < 238').groupby('PATID')['PATID'].count().to_frame('Count').reset_index().groupby('Count').count()"
   ]
  },
  {
   "cell_type": "markdown",
   "metadata": {},
   "source": [
    "### 2-Record Breakdown of Alternative Subset\n",
    "Though there is a lot of nomenclature running around, like cycle IDs and Fx's, the patients \n",
    "with 2 exams do not necessarily follow...  \n",
    "\n",
    "Udi left us w/ the following table of defs:\n",
    "\n",
    "| Cycle ID | Description |\n",
    "|----------|-------------|\n",
    "| 5  | Enrollment        | \n",
    "| 10 | F1 - Week (20-24) |\n",
    "| 15 | F2 - Week (28-32) |\n",
    "| 20 | F3 - Week 34+     |\n",
    "\n",
    "However, with two exams, we have the following:\n",
    "* **Exam1** extends between **16.6 - 27.1 weeks**, though most of it occurs during weeks 20-24 \n",
    "    - this is loosely the F1 exam in Udi's vernacular\n",
    "* **Exam2** extends between **27 - 33.9 weeks**, though most of it occurs during weeks 28-32\n",
    "    - this is loosely the F2 exam in Udi's vernacular\n",
    "* No patient's 2 exams occur on the same day\n",
    "    - minimum difference is 4 weeks\n",
    "    - middle 50% is between 5.6 - 7.3 weeks\n",
    "    - maximum difference is 14.5 weeks"
   ]
  },
  {
   "cell_type": "code",
   "execution_count": 152,
   "metadata": {},
   "outputs": [
    {
     "data": {
      "text/html": [
       "<div>\n",
       "<style scoped>\n",
       "    .dataframe tbody tr th:only-of-type {\n",
       "        vertical-align: middle;\n",
       "    }\n",
       "\n",
       "    .dataframe tbody tr th {\n",
       "        vertical-align: top;\n",
       "    }\n",
       "\n",
       "    .dataframe thead th {\n",
       "        text-align: right;\n",
       "    }\n",
       "</style>\n",
       "<table border=\"1\" class=\"dataframe\">\n",
       "  <thead>\n",
       "    <tr style=\"text-align: right;\">\n",
       "      <th></th>\n",
       "      <th>min</th>\n",
       "      <th>max</th>\n",
       "      <th>diff</th>\n",
       "    </tr>\n",
       "    <tr>\n",
       "      <th>PATID</th>\n",
       "      <th></th>\n",
       "      <th></th>\n",
       "      <th></th>\n",
       "    </tr>\n",
       "  </thead>\n",
       "  <tbody>\n",
       "    <tr>\n",
       "      <th>S002-BISH-00001</th>\n",
       "      <td>21.4</td>\n",
       "      <td>28.9</td>\n",
       "      <td>7.5</td>\n",
       "    </tr>\n",
       "    <tr>\n",
       "      <th>S002-BISH-00009</th>\n",
       "      <td>20.3</td>\n",
       "      <td>28.4</td>\n",
       "      <td>8.1</td>\n",
       "    </tr>\n",
       "    <tr>\n",
       "      <th>S002-BISH-00015</th>\n",
       "      <td>21.9</td>\n",
       "      <td>28.9</td>\n",
       "      <td>7.0</td>\n",
       "    </tr>\n",
       "    <tr>\n",
       "      <th>S002-BISH-00017</th>\n",
       "      <td>20.3</td>\n",
       "      <td>29.0</td>\n",
       "      <td>8.7</td>\n",
       "    </tr>\n",
       "    <tr>\n",
       "      <th>S002-BISH-00020</th>\n",
       "      <td>20.0</td>\n",
       "      <td>31.0</td>\n",
       "      <td>11.0</td>\n",
       "    </tr>\n",
       "  </tbody>\n",
       "</table>\n",
       "</div>"
      ],
      "text/plain": [
       "                  min   max  diff\n",
       "PATID                            \n",
       "S002-BISH-00001  21.4  28.9   7.5\n",
       "S002-BISH-00009  20.3  28.4   8.1\n",
       "S002-BISH-00015  21.9  28.9   7.0\n",
       "S002-BISH-00017  20.3  29.0   8.7\n",
       "S002-BISH-00020  20.0  31.0  11.0"
      ]
     },
     "execution_count": 152,
     "metadata": {},
     "output_type": "execute_result"
    }
   ],
   "source": [
    "doubles_index = bish.query('GA_In_Days < 238').groupby('PATID')['PATID'].count().to_frame().query('PATID == 2').index\n",
    "two_records = bish.query('GA_In_Days < 238').set_index('PATID').loc[doubles_index,['GA_In_Days']].reset_index().groupby('PATID').agg([min,max]).GA_In_Days\n",
    "two_records['max'] = round(two_records['max']/7, 1)\n",
    "two_records['min'] = round(two_records['min']/7, 1)\n",
    "two_records['diff'] = two_records['max'] - two_records['min']\n",
    "two_records.head()"
   ]
  },
  {
   "cell_type": "code",
   "execution_count": 153,
   "metadata": {},
   "outputs": [
    {
     "data": {
      "text/plain": [
       "0"
      ]
     },
     "execution_count": 153,
     "metadata": {},
     "output_type": "execute_result"
    }
   ],
   "source": [
    "len(two_records.query('diff == 0'))"
   ]
  },
  {
   "cell_type": "code",
   "execution_count": 155,
   "metadata": {},
   "outputs": [
    {
     "data": {
      "text/html": [
       "<div>\n",
       "<style scoped>\n",
       "    .dataframe tbody tr th:only-of-type {\n",
       "        vertical-align: middle;\n",
       "    }\n",
       "\n",
       "    .dataframe tbody tr th {\n",
       "        vertical-align: top;\n",
       "    }\n",
       "\n",
       "    .dataframe thead th {\n",
       "        text-align: right;\n",
       "    }\n",
       "</style>\n",
       "<table border=\"1\" class=\"dataframe\">\n",
       "  <thead>\n",
       "    <tr style=\"text-align: right;\">\n",
       "      <th></th>\n",
       "      <th>min</th>\n",
       "      <th>max</th>\n",
       "      <th>diff</th>\n",
       "    </tr>\n",
       "  </thead>\n",
       "  <tbody>\n",
       "    <tr>\n",
       "      <th>min</th>\n",
       "      <td>16.6</td>\n",
       "      <td>27.0</td>\n",
       "      <td>4.0</td>\n",
       "    </tr>\n",
       "    <tr>\n",
       "      <th>25%</th>\n",
       "      <td>22.1</td>\n",
       "      <td>28.4</td>\n",
       "      <td>5.6</td>\n",
       "    </tr>\n",
       "    <tr>\n",
       "      <th>50%</th>\n",
       "      <td>22.9</td>\n",
       "      <td>29.0</td>\n",
       "      <td>6.3</td>\n",
       "    </tr>\n",
       "    <tr>\n",
       "      <th>75%</th>\n",
       "      <td>23.3</td>\n",
       "      <td>29.9</td>\n",
       "      <td>7.3</td>\n",
       "    </tr>\n",
       "    <tr>\n",
       "      <th>max</th>\n",
       "      <td>27.1</td>\n",
       "      <td>33.9</td>\n",
       "      <td>14.5</td>\n",
       "    </tr>\n",
       "  </tbody>\n",
       "</table>\n",
       "</div>"
      ],
      "text/plain": [
       "      min   max  diff\n",
       "min  16.6  27.0   4.0\n",
       "25%  22.1  28.4   5.6\n",
       "50%  22.9  29.0   6.3\n",
       "75%  23.3  29.9   7.3\n",
       "max  27.1  33.9  14.5"
      ]
     },
     "execution_count": 155,
     "metadata": {},
     "output_type": "execute_result"
    }
   ],
   "source": [
    "# Patients w/ 2 records in interval 0<GA<34wks\n",
    "two_records.describe().iloc[3:,:]"
   ]
  },
  {
   "cell_type": "markdown",
   "metadata": {},
   "source": [
    "### 3-Record Breakdown of Alternative Subset\n",
    "\n",
    "With three exams, we have the following:\n",
    "* **Exam1** extends between **18.6 - 28.3 weeks**, though most of it occurs during weeks 20-24 \n",
    "    - this is loosely the F1-F2 exam range in Udi's vernacular (more closely matching F1)\n",
    "* **Exam2** extends between **24.6 - 32.1 weeks**, though most of it occurs during weeks 28-32\n",
    "    - this is loosely in the F2 exam range in Udi's vernacular\n",
    "* **Exam3** extends between **31.3 - 33.9 weeks**\n",
    "    - these are all F2 exams\n",
    "* No patient's 2 exams occur on the same day\n",
    "    - minimum difference between 2 consecutive exams is 1.6 weeks\n",
    "    - maximum difference between 2 consecutive exams is 8.0 weeks\n",
    "    - min (max) difference between 1st and 3rd exams is 5.4 wks (13.8 wks)\n",
    "\n",
    "It's not clear why these patients have 3 exams like this, unless maybe the \n",
    "3rd one is approximately considered to be a cycle ID 20 (F3) exam.  \n"
   ]
  },
  {
   "cell_type": "code",
   "execution_count": 168,
   "metadata": {},
   "outputs": [
    {
     "data": {
      "text/html": [
       "<div>\n",
       "<style scoped>\n",
       "    .dataframe tbody tr th:only-of-type {\n",
       "        vertical-align: middle;\n",
       "    }\n",
       "\n",
       "    .dataframe tbody tr th {\n",
       "        vertical-align: top;\n",
       "    }\n",
       "\n",
       "    .dataframe thead th {\n",
       "        text-align: right;\n",
       "    }\n",
       "</style>\n",
       "<table border=\"1\" class=\"dataframe\">\n",
       "  <thead>\n",
       "    <tr style=\"text-align: right;\">\n",
       "      <th></th>\n",
       "      <th>min</th>\n",
       "      <th>median</th>\n",
       "      <th>max</th>\n",
       "      <th>med_max_diff</th>\n",
       "      <th>min_med_diff</th>\n",
       "      <th>min_max_diff</th>\n",
       "    </tr>\n",
       "    <tr>\n",
       "      <th>PATID</th>\n",
       "      <th></th>\n",
       "      <th></th>\n",
       "      <th></th>\n",
       "      <th></th>\n",
       "      <th></th>\n",
       "      <th></th>\n",
       "    </tr>\n",
       "  </thead>\n",
       "  <tbody>\n",
       "    <tr>\n",
       "      <th>S002-BISH-00039</th>\n",
       "      <td>23.3</td>\n",
       "      <td>27.9</td>\n",
       "      <td>33.9</td>\n",
       "      <td>6.0</td>\n",
       "      <td>4.6</td>\n",
       "      <td>10.6</td>\n",
       "    </tr>\n",
       "    <tr>\n",
       "      <th>S002-BISH-00402</th>\n",
       "      <td>20.6</td>\n",
       "      <td>26.6</td>\n",
       "      <td>33.6</td>\n",
       "      <td>7.0</td>\n",
       "      <td>6.0</td>\n",
       "      <td>13.0</td>\n",
       "    </tr>\n",
       "    <tr>\n",
       "      <th>S002-BISH-00497</th>\n",
       "      <td>21.1</td>\n",
       "      <td>29.1</td>\n",
       "      <td>33.7</td>\n",
       "      <td>4.6</td>\n",
       "      <td>8.0</td>\n",
       "      <td>12.6</td>\n",
       "    </tr>\n",
       "    <tr>\n",
       "      <th>S002-BISH-00502</th>\n",
       "      <td>19.4</td>\n",
       "      <td>26.0</td>\n",
       "      <td>32.4</td>\n",
       "      <td>6.4</td>\n",
       "      <td>6.6</td>\n",
       "      <td>13.0</td>\n",
       "    </tr>\n",
       "    <tr>\n",
       "      <th>S002-BISH-00537</th>\n",
       "      <td>23.0</td>\n",
       "      <td>29.1</td>\n",
       "      <td>33.3</td>\n",
       "      <td>4.2</td>\n",
       "      <td>6.1</td>\n",
       "      <td>10.3</td>\n",
       "    </tr>\n",
       "  </tbody>\n",
       "</table>\n",
       "</div>"
      ],
      "text/plain": [
       "                  min  median   max  med_max_diff  min_med_diff  min_max_diff\n",
       "PATID                                                                        \n",
       "S002-BISH-00039  23.3    27.9  33.9           6.0           4.6          10.6\n",
       "S002-BISH-00402  20.6    26.6  33.6           7.0           6.0          13.0\n",
       "S002-BISH-00497  21.1    29.1  33.7           4.6           8.0          12.6\n",
       "S002-BISH-00502  19.4    26.0  32.4           6.4           6.6          13.0\n",
       "S002-BISH-00537  23.0    29.1  33.3           4.2           6.1          10.3"
      ]
     },
     "execution_count": 168,
     "metadata": {},
     "output_type": "execute_result"
    }
   ],
   "source": [
    "triples_index = bish.query('GA_In_Days < 238').groupby('PATID')['PATID'].count().to_frame().query('PATID == 3').index\n",
    "three_records = bish.query('GA_In_Days < 238').set_index('PATID').loc[triples_index,['GA_In_Days']].reset_index().groupby('PATID').agg([min,np.median,max]).GA_In_Days\n",
    "three_records['max'] = round(three_records['max']/7, 1)\n",
    "three_records['median'] = round(three_records['median']/7, 1)\n",
    "three_records['min'] = round(three_records['min']/7, 1)\n",
    "three_records['med_max_diff'] = three_records['max'] - three_records['median']\n",
    "three_records['min_med_diff'] = three_records['median'] - three_records['min']\n",
    "three_records['min_max_diff'] = three_records['max'] - three_records['min']\n",
    "three_records.head()"
   ]
  },
  {
   "cell_type": "code",
   "execution_count": 172,
   "metadata": {},
   "outputs": [
    {
     "data": {
      "text/plain": [
       "33"
      ]
     },
     "execution_count": 172,
     "metadata": {},
     "output_type": "execute_result"
    }
   ],
   "source": [
    "len(three_records.index)"
   ]
  },
  {
   "cell_type": "code",
   "execution_count": 169,
   "metadata": {},
   "outputs": [
    {
     "data": {
      "text/plain": [
       "0"
      ]
     },
     "execution_count": 169,
     "metadata": {},
     "output_type": "execute_result"
    }
   ],
   "source": [
    "len(three_records.query('med_max_diff == 0'))"
   ]
  },
  {
   "cell_type": "code",
   "execution_count": 170,
   "metadata": {},
   "outputs": [
    {
     "data": {
      "text/plain": [
       "0"
      ]
     },
     "execution_count": 170,
     "metadata": {},
     "output_type": "execute_result"
    }
   ],
   "source": [
    "len(three_records.query('min_med_diff == 0'))"
   ]
  },
  {
   "cell_type": "code",
   "execution_count": 171,
   "metadata": {
    "scrolled": true
   },
   "outputs": [
    {
     "data": {
      "text/html": [
       "<div>\n",
       "<style scoped>\n",
       "    .dataframe tbody tr th:only-of-type {\n",
       "        vertical-align: middle;\n",
       "    }\n",
       "\n",
       "    .dataframe tbody tr th {\n",
       "        vertical-align: top;\n",
       "    }\n",
       "\n",
       "    .dataframe thead th {\n",
       "        text-align: right;\n",
       "    }\n",
       "</style>\n",
       "<table border=\"1\" class=\"dataframe\">\n",
       "  <thead>\n",
       "    <tr style=\"text-align: right;\">\n",
       "      <th></th>\n",
       "      <th>min</th>\n",
       "      <th>median</th>\n",
       "      <th>max</th>\n",
       "      <th>med_max_diff</th>\n",
       "      <th>min_med_diff</th>\n",
       "      <th>min_max_diff</th>\n",
       "    </tr>\n",
       "  </thead>\n",
       "  <tbody>\n",
       "    <tr>\n",
       "      <th>min</th>\n",
       "      <td>18.6</td>\n",
       "      <td>24.6</td>\n",
       "      <td>31.3</td>\n",
       "      <td>1.6</td>\n",
       "      <td>3.4</td>\n",
       "      <td>5.4</td>\n",
       "    </tr>\n",
       "    <tr>\n",
       "      <th>25%</th>\n",
       "      <td>20.9</td>\n",
       "      <td>27.6</td>\n",
       "      <td>33.4</td>\n",
       "      <td>5.2</td>\n",
       "      <td>4.9</td>\n",
       "      <td>10.6</td>\n",
       "    </tr>\n",
       "    <tr>\n",
       "      <th>50%</th>\n",
       "      <td>22.1</td>\n",
       "      <td>27.9</td>\n",
       "      <td>33.7</td>\n",
       "      <td>5.8</td>\n",
       "      <td>6.0</td>\n",
       "      <td>11.3</td>\n",
       "    </tr>\n",
       "    <tr>\n",
       "      <th>75%</th>\n",
       "      <td>23.0</td>\n",
       "      <td>28.3</td>\n",
       "      <td>33.9</td>\n",
       "      <td>6.0</td>\n",
       "      <td>6.7</td>\n",
       "      <td>12.8</td>\n",
       "    </tr>\n",
       "    <tr>\n",
       "      <th>max</th>\n",
       "      <td>28.3</td>\n",
       "      <td>32.1</td>\n",
       "      <td>33.9</td>\n",
       "      <td>7.8</td>\n",
       "      <td>8.0</td>\n",
       "      <td>13.8</td>\n",
       "    </tr>\n",
       "  </tbody>\n",
       "</table>\n",
       "</div>"
      ],
      "text/plain": [
       "      min  median   max  med_max_diff  min_med_diff  min_max_diff\n",
       "min  18.6    24.6  31.3           1.6           3.4           5.4\n",
       "25%  20.9    27.6  33.4           5.2           4.9          10.6\n",
       "50%  22.1    27.9  33.7           5.8           6.0          11.3\n",
       "75%  23.0    28.3  33.9           6.0           6.7          12.8\n",
       "max  28.3    32.1  33.9           7.8           8.0          13.8"
      ]
     },
     "execution_count": 171,
     "metadata": {},
     "output_type": "execute_result"
    }
   ],
   "source": [
    "# Patients w/ 3 records in interval 0<GA<34wks\n",
    "three_records.describe().iloc[3:,:]"
   ]
  },
  {
   "cell_type": "code",
   "execution_count": 173,
   "metadata": {},
   "outputs": [
    {
     "data": {
      "text/plain": [
       "set()"
      ]
     },
     "execution_count": 173,
     "metadata": {},
     "output_type": "execute_result"
    }
   ],
   "source": [
    "set(three_records.index).intersection(two_records.index)"
   ]
  },
  {
   "cell_type": "markdown",
   "metadata": {},
   "source": [
    "#### How many Exam1 records occur during Cycle ID 10?"
   ]
  },
  {
   "cell_type": "code",
   "execution_count": 176,
   "metadata": {},
   "outputs": [
    {
     "data": {
      "text/plain": [
       "31"
      ]
     },
     "execution_count": 176,
     "metadata": {},
     "output_type": "execute_result"
    }
   ],
   "source": [
    "len(three_records.query('min > 19 & min < 25'))"
   ]
  },
  {
   "cell_type": "markdown",
   "metadata": {},
   "source": [
    "#### How man Exam2 records occur during Cycle ID 10?"
   ]
  },
  {
   "cell_type": "code",
   "execution_count": 182,
   "metadata": {},
   "outputs": [
    {
     "data": {
      "text/plain": [
       "1"
      ]
     },
     "execution_count": 182,
     "metadata": {},
     "output_type": "execute_result"
    }
   ],
   "source": [
    "len(three_records.query('median > 19 & median < 25'))"
   ]
  },
  {
   "cell_type": "markdown",
   "metadata": {},
   "source": [
    "#### How many Exam2 records occur during Cycle ID 15?"
   ]
  },
  {
   "cell_type": "code",
   "execution_count": 183,
   "metadata": {},
   "outputs": [
    {
     "data": {
      "text/plain": [
       "29"
      ]
     },
     "execution_count": 183,
     "metadata": {},
     "output_type": "execute_result"
    }
   ],
   "source": [
    "len(three_records.query('median > 27 & median < 33'))"
   ]
  },
  {
   "cell_type": "markdown",
   "metadata": {},
   "source": [
    "#### How many Exam3 record occur during Cycle ID 15?"
   ]
  },
  {
   "cell_type": "code",
   "execution_count": 177,
   "metadata": {},
   "outputs": [
    {
     "data": {
      "text/plain": [
       "3"
      ]
     },
     "execution_count": 177,
     "metadata": {},
     "output_type": "execute_result"
    }
   ],
   "source": [
    "len(three_records.query('max > 27 & max < 33'))"
   ]
  },
  {
   "cell_type": "code",
   "execution_count": null,
   "metadata": {},
   "outputs": [],
   "source": [
    "three_records.query('min > 19 & min < 25').index"
   ]
  },
  {
   "cell_type": "markdown",
   "metadata": {},
   "source": [
    "# F3 Data: is too much being dropped?\n",
    "\n",
    "If you look at the code, Udi is dropping any row of data that doesn't have\n",
    "complete TOI data...  \n",
    "\n",
    "```\n",
    "# Load data\n",
    "df = pickle.load( open( \"data/interim/mbh001_Data-Wide-QC-full-data_20190924_V4_feateng.p\", \"rb\" ) )\n",
    "\n",
    "#Extracting f3 complete toi patids\n",
    "f3_toi_patids = df.filter(regex=\"^toi.+20\").dropna(axis=0).index # Dropping rows with missing data\n",
    "```\n",
    "\n",
    "But looking in the sensor files, you see most often people don't have \n",
    "complete data (e.g., they'll have everything but the `SC_X` vars).  Moreover, in the\n",
    "final emails between Udi and David leading up to Udi's departure, David said to only trust\n",
    "the log(bandPower) variables.\n",
    "\n",
    "From David (Sept 26, 2019):\n",
    "> If you calculate these proportions, with the current features, those are high quality: \n",
    "> * Low Frequency Band log Power/Total log Power = (toi.mvt_bandpwr2_log/toi.mvt_bandpwr1_log)\n",
    "> * Mid Frequency Band log Power/Total log Power = (toi.mvt_bandpwr3_log/toi.mvt_bandpwr1_log) \n",
    "> * High Frequency Band log Power/Total log Power = (toi.mvt_bandpwr4_log/toi.mvt_bandpwr1_log)\n",
    "\n",
    "Below, we find that\n",
    "* Udi initially begins w/ 7,069 patient records\n",
    "* he drops 4,262 of these records\n",
    "* he ends the TOI-drop procedure w/ 2,807 records\n",
    "\n",
    "We also find that Udi never even uses any of the features recommended by David as being\n",
    "the only high quality TOI features.  That is, they are not even present in the \"dropna\" \n",
    "procedure he does... They never make it to Udi's repo/script from Carlos' repo/pipeline.  This\n",
    "means we will have to look at the raw data exclusively (none of what Udi did here really\n",
    "matters anymore)."
   ]
  },
  {
   "cell_type": "code",
   "execution_count": 100,
   "metadata": {},
   "outputs": [],
   "source": [
    "# Get Udi's Starting Data Table\n",
    "df = pickle.load( open( \"../data/interim/mbh001_Data-Wide-QC-full-data_20190924_V4_feateng.p\", \"rb\" ) )"
   ]
  },
  {
   "cell_type": "code",
   "execution_count": 101,
   "metadata": {},
   "outputs": [],
   "source": [
    "toi_tbl = df.filter(regex=\"^toi.+20\")\n",
    "f3_toi_patids = toi_tbl.index\n",
    "f3_toi_patids_drop = toi_tbl.dropna(axis=0).index # Dropping rows with missing data"
   ]
  },
  {
   "cell_type": "code",
   "execution_count": 110,
   "metadata": {},
   "outputs": [
    {
     "name": "stdout",
     "output_type": "stream",
     "text": [
      "Number of Patients:\n",
      "\t 7069\n",
      "\n",
      "Number of Patients w/ at least 1 missing var:\n",
      "\t 2807\n",
      "\n",
      "Difference:\n",
      "\t 4262\n"
     ]
    }
   ],
   "source": [
    "print('Number of Patients:\\n\\t', len(f3_toi_patids))\n",
    "print('\\nNumber of Patients w/ at least 1 missing var:\\n\\t',len(f3_toi_patids_drop))\n",
    "print('\\nDifference:\\n\\t', len(f3_toi_patids) - len(f3_toi_patids_drop))\n"
   ]
  },
  {
   "cell_type": "code",
   "execution_count": 190,
   "metadata": {},
   "outputs": [
    {
     "data": {
      "text/plain": [
       "19"
      ]
     },
     "execution_count": 190,
     "metadata": {},
     "output_type": "execute_result"
    }
   ],
   "source": [
    "num_toi = len(toi_tbl.columns)\n",
    "num_toi"
   ]
  },
  {
   "cell_type": "code",
   "execution_count": 186,
   "metadata": {},
   "outputs": [
    {
     "data": {
      "text/plain": [
       "Index(['toi.f31f_hrmean1.20', 'toi.f31f_hrmed1.20', 'toi.f31f_hrstd1.20',\n",
       "       'toi.f31f_hrsegs1.20', 'toi.f31f_totsegs1.20', 'toi.f32f_hrmean1.20',\n",
       "       'toi.f32f_hrmed1.20', 'toi.f32f_hrstd1.20', 'toi.f32f_hrsegs1.20',\n",
       "       'toi.f32f_totsegs1.20', 'toi.f3_medcc4.20', 'toi.f3_medlag4.20',\n",
       "       'toi.f3_totsegs4.20', 'toi.f3_ccsegs4.20', 'toi.f3_mvt_pwr_mvt21.20',\n",
       "       'toi.f3_mvt_pwr_mvt31.20', 'toi.f3_mvt_pwr_mvt41.20',\n",
       "       'toi.f3_mvt_pwr_numbersegments.1.20',\n",
       "       'toi.f3_mvt_pwr_numberusedpwrcoh.20'],\n",
       "      dtype='object')"
      ]
     },
     "execution_count": 186,
     "metadata": {},
     "output_type": "execute_result"
    }
   ],
   "source": [
    "toi_tbl.columns"
   ]
  },
  {
   "cell_type": "code",
   "execution_count": 200,
   "metadata": {},
   "outputs": [
    {
     "data": {
      "text/html": [
       "<div>\n",
       "<style scoped>\n",
       "    .dataframe tbody tr th:only-of-type {\n",
       "        vertical-align: middle;\n",
       "    }\n",
       "\n",
       "    .dataframe tbody tr th {\n",
       "        vertical-align: top;\n",
       "    }\n",
       "\n",
       "    .dataframe thead th {\n",
       "        text-align: right;\n",
       "    }\n",
       "</style>\n",
       "<table border=\"1\" class=\"dataframe\">\n",
       "  <thead>\n",
       "    <tr style=\"text-align: right;\">\n",
       "      <th></th>\n",
       "      <th>num_missing</th>\n",
       "      <th>percent_missing</th>\n",
       "    </tr>\n",
       "    <tr>\n",
       "      <th>patid</th>\n",
       "      <th></th>\n",
       "      <th></th>\n",
       "    </tr>\n",
       "  </thead>\n",
       "  <tbody>\n",
       "    <tr>\n",
       "      <th>S002-BISH-00001</th>\n",
       "      <td>19</td>\n",
       "      <td>1.00</td>\n",
       "    </tr>\n",
       "    <tr>\n",
       "      <th>S002-BISH-00002</th>\n",
       "      <td>0</td>\n",
       "      <td>0.00</td>\n",
       "    </tr>\n",
       "    <tr>\n",
       "      <th>S002-BISH-00003</th>\n",
       "      <td>0</td>\n",
       "      <td>0.00</td>\n",
       "    </tr>\n",
       "    <tr>\n",
       "      <th>S002-BISH-00004</th>\n",
       "      <td>5</td>\n",
       "      <td>0.26</td>\n",
       "    </tr>\n",
       "    <tr>\n",
       "      <th>S002-BISH-00005</th>\n",
       "      <td>14</td>\n",
       "      <td>0.74</td>\n",
       "    </tr>\n",
       "    <tr>\n",
       "      <th>S002-BISH-00006</th>\n",
       "      <td>19</td>\n",
       "      <td>1.00</td>\n",
       "    </tr>\n",
       "    <tr>\n",
       "      <th>S002-BISH-00007</th>\n",
       "      <td>0</td>\n",
       "      <td>0.00</td>\n",
       "    </tr>\n",
       "    <tr>\n",
       "      <th>S002-BISH-00008</th>\n",
       "      <td>0</td>\n",
       "      <td>0.00</td>\n",
       "    </tr>\n",
       "    <tr>\n",
       "      <th>S002-BISH-00009</th>\n",
       "      <td>14</td>\n",
       "      <td>0.74</td>\n",
       "    </tr>\n",
       "    <tr>\n",
       "      <th>S002-BISH-00010</th>\n",
       "      <td>14</td>\n",
       "      <td>0.74</td>\n",
       "    </tr>\n",
       "    <tr>\n",
       "      <th>S002-BISH-00011</th>\n",
       "      <td>7</td>\n",
       "      <td>0.37</td>\n",
       "    </tr>\n",
       "    <tr>\n",
       "      <th>S002-BISH-00012</th>\n",
       "      <td>19</td>\n",
       "      <td>1.00</td>\n",
       "    </tr>\n",
       "    <tr>\n",
       "      <th>S002-BISH-00013</th>\n",
       "      <td>0</td>\n",
       "      <td>0.00</td>\n",
       "    </tr>\n",
       "    <tr>\n",
       "      <th>S002-BISH-00014</th>\n",
       "      <td>5</td>\n",
       "      <td>0.26</td>\n",
       "    </tr>\n",
       "    <tr>\n",
       "      <th>S002-BISH-00015</th>\n",
       "      <td>5</td>\n",
       "      <td>0.26</td>\n",
       "    </tr>\n",
       "    <tr>\n",
       "      <th>S002-BISH-00016</th>\n",
       "      <td>0</td>\n",
       "      <td>0.00</td>\n",
       "    </tr>\n",
       "    <tr>\n",
       "      <th>S002-BISH-00017</th>\n",
       "      <td>5</td>\n",
       "      <td>0.26</td>\n",
       "    </tr>\n",
       "    <tr>\n",
       "      <th>S002-BISH-00018</th>\n",
       "      <td>5</td>\n",
       "      <td>0.26</td>\n",
       "    </tr>\n",
       "    <tr>\n",
       "      <th>S002-BISH-00019</th>\n",
       "      <td>0</td>\n",
       "      <td>0.00</td>\n",
       "    </tr>\n",
       "    <tr>\n",
       "      <th>S002-BISH-00020</th>\n",
       "      <td>19</td>\n",
       "      <td>1.00</td>\n",
       "    </tr>\n",
       "    <tr>\n",
       "      <th>S002-BISH-00021</th>\n",
       "      <td>5</td>\n",
       "      <td>0.26</td>\n",
       "    </tr>\n",
       "    <tr>\n",
       "      <th>S002-BISH-00022</th>\n",
       "      <td>5</td>\n",
       "      <td>0.26</td>\n",
       "    </tr>\n",
       "    <tr>\n",
       "      <th>S002-BISH-00023</th>\n",
       "      <td>14</td>\n",
       "      <td>0.74</td>\n",
       "    </tr>\n",
       "    <tr>\n",
       "      <th>S002-BISH-00024</th>\n",
       "      <td>5</td>\n",
       "      <td>0.26</td>\n",
       "    </tr>\n",
       "    <tr>\n",
       "      <th>S002-BISH-00025</th>\n",
       "      <td>19</td>\n",
       "      <td>1.00</td>\n",
       "    </tr>\n",
       "    <tr>\n",
       "      <th>S002-BISH-00025</th>\n",
       "      <td>19</td>\n",
       "      <td>1.00</td>\n",
       "    </tr>\n",
       "    <tr>\n",
       "      <th>S002-BISH-00025</th>\n",
       "      <td>19</td>\n",
       "      <td>1.00</td>\n",
       "    </tr>\n",
       "    <tr>\n",
       "      <th>S002-BISH-00025</th>\n",
       "      <td>19</td>\n",
       "      <td>1.00</td>\n",
       "    </tr>\n",
       "    <tr>\n",
       "      <th>S002-BISH-00026</th>\n",
       "      <td>0</td>\n",
       "      <td>0.00</td>\n",
       "    </tr>\n",
       "    <tr>\n",
       "      <th>S002-BISH-00027</th>\n",
       "      <td>19</td>\n",
       "      <td>1.00</td>\n",
       "    </tr>\n",
       "    <tr>\n",
       "      <th>...</th>\n",
       "      <td>...</td>\n",
       "      <td>...</td>\n",
       "    </tr>\n",
       "    <tr>\n",
       "      <th>S002-BISH-07033</th>\n",
       "      <td>14</td>\n",
       "      <td>0.74</td>\n",
       "    </tr>\n",
       "    <tr>\n",
       "      <th>S002-BISH-07034</th>\n",
       "      <td>5</td>\n",
       "      <td>0.26</td>\n",
       "    </tr>\n",
       "    <tr>\n",
       "      <th>S002-BISH-07035</th>\n",
       "      <td>19</td>\n",
       "      <td>1.00</td>\n",
       "    </tr>\n",
       "    <tr>\n",
       "      <th>S002-BISH-07036</th>\n",
       "      <td>5</td>\n",
       "      <td>0.26</td>\n",
       "    </tr>\n",
       "    <tr>\n",
       "      <th>S002-BISH-07037</th>\n",
       "      <td>14</td>\n",
       "      <td>0.74</td>\n",
       "    </tr>\n",
       "    <tr>\n",
       "      <th>S002-BISH-07038</th>\n",
       "      <td>0</td>\n",
       "      <td>0.00</td>\n",
       "    </tr>\n",
       "    <tr>\n",
       "      <th>S002-BISH-07039</th>\n",
       "      <td>0</td>\n",
       "      <td>0.00</td>\n",
       "    </tr>\n",
       "    <tr>\n",
       "      <th>S002-BISH-07040</th>\n",
       "      <td>0</td>\n",
       "      <td>0.00</td>\n",
       "    </tr>\n",
       "    <tr>\n",
       "      <th>S002-BISH-07041</th>\n",
       "      <td>19</td>\n",
       "      <td>1.00</td>\n",
       "    </tr>\n",
       "    <tr>\n",
       "      <th>S002-BISH-07042</th>\n",
       "      <td>0</td>\n",
       "      <td>0.00</td>\n",
       "    </tr>\n",
       "    <tr>\n",
       "      <th>S002-BISH-07043</th>\n",
       "      <td>14</td>\n",
       "      <td>0.74</td>\n",
       "    </tr>\n",
       "    <tr>\n",
       "      <th>S002-BISH-07044</th>\n",
       "      <td>14</td>\n",
       "      <td>0.74</td>\n",
       "    </tr>\n",
       "    <tr>\n",
       "      <th>S002-BISH-07045</th>\n",
       "      <td>0</td>\n",
       "      <td>0.00</td>\n",
       "    </tr>\n",
       "    <tr>\n",
       "      <th>S002-BISH-07046</th>\n",
       "      <td>19</td>\n",
       "      <td>1.00</td>\n",
       "    </tr>\n",
       "    <tr>\n",
       "      <th>S002-BISH-07047</th>\n",
       "      <td>0</td>\n",
       "      <td>0.00</td>\n",
       "    </tr>\n",
       "    <tr>\n",
       "      <th>S002-BISH-07048</th>\n",
       "      <td>0</td>\n",
       "      <td>0.00</td>\n",
       "    </tr>\n",
       "    <tr>\n",
       "      <th>S002-BISH-07049</th>\n",
       "      <td>14</td>\n",
       "      <td>0.74</td>\n",
       "    </tr>\n",
       "    <tr>\n",
       "      <th>S002-BISH-07050</th>\n",
       "      <td>14</td>\n",
       "      <td>0.74</td>\n",
       "    </tr>\n",
       "    <tr>\n",
       "      <th>S002-BISH-07051</th>\n",
       "      <td>19</td>\n",
       "      <td>1.00</td>\n",
       "    </tr>\n",
       "    <tr>\n",
       "      <th>S002-BISH-07052</th>\n",
       "      <td>0</td>\n",
       "      <td>0.00</td>\n",
       "    </tr>\n",
       "    <tr>\n",
       "      <th>S002-BISH-07053</th>\n",
       "      <td>19</td>\n",
       "      <td>1.00</td>\n",
       "    </tr>\n",
       "    <tr>\n",
       "      <th>S002-BISH-07054</th>\n",
       "      <td>5</td>\n",
       "      <td>0.26</td>\n",
       "    </tr>\n",
       "    <tr>\n",
       "      <th>S002-BISH-07055</th>\n",
       "      <td>0</td>\n",
       "      <td>0.00</td>\n",
       "    </tr>\n",
       "    <tr>\n",
       "      <th>S002-BISH-07056</th>\n",
       "      <td>0</td>\n",
       "      <td>0.00</td>\n",
       "    </tr>\n",
       "    <tr>\n",
       "      <th>S002-BISH-07057</th>\n",
       "      <td>0</td>\n",
       "      <td>0.00</td>\n",
       "    </tr>\n",
       "    <tr>\n",
       "      <th>S002-BISH-07058</th>\n",
       "      <td>0</td>\n",
       "      <td>0.00</td>\n",
       "    </tr>\n",
       "    <tr>\n",
       "      <th>S002-BISH-07059</th>\n",
       "      <td>0</td>\n",
       "      <td>0.00</td>\n",
       "    </tr>\n",
       "    <tr>\n",
       "      <th>S002-BISH-07060</th>\n",
       "      <td>0</td>\n",
       "      <td>0.00</td>\n",
       "    </tr>\n",
       "    <tr>\n",
       "      <th>S002-BISH-07061</th>\n",
       "      <td>0</td>\n",
       "      <td>0.00</td>\n",
       "    </tr>\n",
       "    <tr>\n",
       "      <th>S002-BISH-07062</th>\n",
       "      <td>0</td>\n",
       "      <td>0.00</td>\n",
       "    </tr>\n",
       "  </tbody>\n",
       "</table>\n",
       "<p>7069 rows × 2 columns</p>\n",
       "</div>"
      ],
      "text/plain": [
       "                 num_missing  percent_missing\n",
       "patid                                        \n",
       "S002-BISH-00001           19             1.00\n",
       "S002-BISH-00002            0             0.00\n",
       "S002-BISH-00003            0             0.00\n",
       "S002-BISH-00004            5             0.26\n",
       "S002-BISH-00005           14             0.74\n",
       "S002-BISH-00006           19             1.00\n",
       "S002-BISH-00007            0             0.00\n",
       "S002-BISH-00008            0             0.00\n",
       "S002-BISH-00009           14             0.74\n",
       "S002-BISH-00010           14             0.74\n",
       "S002-BISH-00011            7             0.37\n",
       "S002-BISH-00012           19             1.00\n",
       "S002-BISH-00013            0             0.00\n",
       "S002-BISH-00014            5             0.26\n",
       "S002-BISH-00015            5             0.26\n",
       "S002-BISH-00016            0             0.00\n",
       "S002-BISH-00017            5             0.26\n",
       "S002-BISH-00018            5             0.26\n",
       "S002-BISH-00019            0             0.00\n",
       "S002-BISH-00020           19             1.00\n",
       "S002-BISH-00021            5             0.26\n",
       "S002-BISH-00022            5             0.26\n",
       "S002-BISH-00023           14             0.74\n",
       "S002-BISH-00024            5             0.26\n",
       "S002-BISH-00025           19             1.00\n",
       "S002-BISH-00025           19             1.00\n",
       "S002-BISH-00025           19             1.00\n",
       "S002-BISH-00025           19             1.00\n",
       "S002-BISH-00026            0             0.00\n",
       "S002-BISH-00027           19             1.00\n",
       "...                      ...              ...\n",
       "S002-BISH-07033           14             0.74\n",
       "S002-BISH-07034            5             0.26\n",
       "S002-BISH-07035           19             1.00\n",
       "S002-BISH-07036            5             0.26\n",
       "S002-BISH-07037           14             0.74\n",
       "S002-BISH-07038            0             0.00\n",
       "S002-BISH-07039            0             0.00\n",
       "S002-BISH-07040            0             0.00\n",
       "S002-BISH-07041           19             1.00\n",
       "S002-BISH-07042            0             0.00\n",
       "S002-BISH-07043           14             0.74\n",
       "S002-BISH-07044           14             0.74\n",
       "S002-BISH-07045            0             0.00\n",
       "S002-BISH-07046           19             1.00\n",
       "S002-BISH-07047            0             0.00\n",
       "S002-BISH-07048            0             0.00\n",
       "S002-BISH-07049           14             0.74\n",
       "S002-BISH-07050           14             0.74\n",
       "S002-BISH-07051           19             1.00\n",
       "S002-BISH-07052            0             0.00\n",
       "S002-BISH-07053           19             1.00\n",
       "S002-BISH-07054            5             0.26\n",
       "S002-BISH-07055            0             0.00\n",
       "S002-BISH-07056            0             0.00\n",
       "S002-BISH-07057            0             0.00\n",
       "S002-BISH-07058            0             0.00\n",
       "S002-BISH-07059            0             0.00\n",
       "S002-BISH-07060            0             0.00\n",
       "S002-BISH-07061            0             0.00\n",
       "S002-BISH-07062            0             0.00\n",
       "\n",
       "[7069 rows x 2 columns]"
      ]
     },
     "execution_count": 200,
     "metadata": {},
     "output_type": "execute_result"
    }
   ],
   "source": [
    "# TOI Missingness Per Record\n",
    "toi_null = toi_tbl.isnull().sum(axis=1).to_frame('num_missing')\n",
    "toi_null['percent_missing'] = round(toi_null['num_missing'] / num_toi, 2)\n",
    "toi_null"
   ]
  },
  {
   "cell_type": "code",
   "execution_count": 207,
   "metadata": {},
   "outputs": [
    {
     "data": {
      "text/html": [
       "<div>\n",
       "<style scoped>\n",
       "    .dataframe tbody tr th:only-of-type {\n",
       "        vertical-align: middle;\n",
       "    }\n",
       "\n",
       "    .dataframe tbody tr th {\n",
       "        vertical-align: top;\n",
       "    }\n",
       "\n",
       "    .dataframe thead th {\n",
       "        text-align: right;\n",
       "    }\n",
       "</style>\n",
       "<table border=\"1\" class=\"dataframe\">\n",
       "  <thead>\n",
       "    <tr style=\"text-align: right;\">\n",
       "      <th></th>\n",
       "      <th>toi.f31f_hrmean1.20</th>\n",
       "      <th>toi.f31f_hrmed1.20</th>\n",
       "      <th>toi.f31f_hrstd1.20</th>\n",
       "      <th>toi.f31f_hrsegs1.20</th>\n",
       "      <th>toi.f31f_totsegs1.20</th>\n",
       "      <th>toi.f32f_hrmean1.20</th>\n",
       "      <th>toi.f32f_hrmed1.20</th>\n",
       "      <th>toi.f32f_hrstd1.20</th>\n",
       "      <th>toi.f32f_hrsegs1.20</th>\n",
       "      <th>toi.f32f_totsegs1.20</th>\n",
       "      <th>toi.f3_medcc4.20</th>\n",
       "      <th>toi.f3_medlag4.20</th>\n",
       "      <th>toi.f3_totsegs4.20</th>\n",
       "      <th>toi.f3_ccsegs4.20</th>\n",
       "      <th>toi.f3_mvt_pwr_mvt21.20</th>\n",
       "      <th>toi.f3_mvt_pwr_mvt31.20</th>\n",
       "      <th>toi.f3_mvt_pwr_mvt41.20</th>\n",
       "      <th>toi.f3_mvt_pwr_numbersegments.1.20</th>\n",
       "      <th>toi.f3_mvt_pwr_numberusedpwrcoh.20</th>\n",
       "    </tr>\n",
       "    <tr>\n",
       "      <th>patid</th>\n",
       "      <th></th>\n",
       "      <th></th>\n",
       "      <th></th>\n",
       "      <th></th>\n",
       "      <th></th>\n",
       "      <th></th>\n",
       "      <th></th>\n",
       "      <th></th>\n",
       "      <th></th>\n",
       "      <th></th>\n",
       "      <th></th>\n",
       "      <th></th>\n",
       "      <th></th>\n",
       "      <th></th>\n",
       "      <th></th>\n",
       "      <th></th>\n",
       "      <th></th>\n",
       "      <th></th>\n",
       "      <th></th>\n",
       "    </tr>\n",
       "  </thead>\n",
       "  <tbody>\n",
       "    <tr>\n",
       "      <th>S002-BISH-00004</th>\n",
       "      <td>NaN</td>\n",
       "      <td>NaN</td>\n",
       "      <td>NaN</td>\n",
       "      <td>NaN</td>\n",
       "      <td>NaN</td>\n",
       "      <td>140.18575</td>\n",
       "      <td>140.03575</td>\n",
       "      <td>4.814165</td>\n",
       "      <td>32.0</td>\n",
       "      <td>43.0</td>\n",
       "      <td>0.472417</td>\n",
       "      <td>-9.775</td>\n",
       "      <td>10.0</td>\n",
       "      <td>2.0</td>\n",
       "      <td>0.169885</td>\n",
       "      <td>0.137150</td>\n",
       "      <td>0.466450</td>\n",
       "      <td>10.0</td>\n",
       "      <td>1.0</td>\n",
       "    </tr>\n",
       "    <tr>\n",
       "      <th>S002-BISH-00014</th>\n",
       "      <td>NaN</td>\n",
       "      <td>NaN</td>\n",
       "      <td>NaN</td>\n",
       "      <td>NaN</td>\n",
       "      <td>NaN</td>\n",
       "      <td>132.26150</td>\n",
       "      <td>131.52650</td>\n",
       "      <td>4.440940</td>\n",
       "      <td>41.0</td>\n",
       "      <td>59.0</td>\n",
       "      <td>0.568553</td>\n",
       "      <td>-7.100</td>\n",
       "      <td>15.0</td>\n",
       "      <td>4.0</td>\n",
       "      <td>0.165809</td>\n",
       "      <td>0.100418</td>\n",
       "      <td>0.408182</td>\n",
       "      <td>15.0</td>\n",
       "      <td>4.0</td>\n",
       "    </tr>\n",
       "    <tr>\n",
       "      <th>S002-BISH-00015</th>\n",
       "      <td>NaN</td>\n",
       "      <td>NaN</td>\n",
       "      <td>NaN</td>\n",
       "      <td>NaN</td>\n",
       "      <td>NaN</td>\n",
       "      <td>134.47400</td>\n",
       "      <td>134.20400</td>\n",
       "      <td>4.671100</td>\n",
       "      <td>30.0</td>\n",
       "      <td>50.0</td>\n",
       "      <td>0.600217</td>\n",
       "      <td>-6.800</td>\n",
       "      <td>12.0</td>\n",
       "      <td>9.0</td>\n",
       "      <td>0.152383</td>\n",
       "      <td>0.152934</td>\n",
       "      <td>0.397743</td>\n",
       "      <td>12.0</td>\n",
       "      <td>9.0</td>\n",
       "    </tr>\n",
       "    <tr>\n",
       "      <th>S002-BISH-00017</th>\n",
       "      <td>NaN</td>\n",
       "      <td>NaN</td>\n",
       "      <td>NaN</td>\n",
       "      <td>NaN</td>\n",
       "      <td>NaN</td>\n",
       "      <td>159.65150</td>\n",
       "      <td>159.02450</td>\n",
       "      <td>4.593490</td>\n",
       "      <td>8.0</td>\n",
       "      <td>38.0</td>\n",
       "      <td>0.667281</td>\n",
       "      <td>-8.050</td>\n",
       "      <td>11.0</td>\n",
       "      <td>10.0</td>\n",
       "      <td>0.285043</td>\n",
       "      <td>0.164083</td>\n",
       "      <td>0.345901</td>\n",
       "      <td>11.0</td>\n",
       "      <td>8.0</td>\n",
       "    </tr>\n",
       "    <tr>\n",
       "      <th>S002-BISH-00018</th>\n",
       "      <td>NaN</td>\n",
       "      <td>NaN</td>\n",
       "      <td>NaN</td>\n",
       "      <td>NaN</td>\n",
       "      <td>NaN</td>\n",
       "      <td>131.52625</td>\n",
       "      <td>132.08525</td>\n",
       "      <td>5.602840</td>\n",
       "      <td>27.0</td>\n",
       "      <td>45.0</td>\n",
       "      <td>0.742802</td>\n",
       "      <td>-5.975</td>\n",
       "      <td>13.0</td>\n",
       "      <td>6.0</td>\n",
       "      <td>0.238292</td>\n",
       "      <td>0.112508</td>\n",
       "      <td>0.386279</td>\n",
       "      <td>13.0</td>\n",
       "      <td>7.0</td>\n",
       "    </tr>\n",
       "    <tr>\n",
       "      <th>S002-BISH-00021</th>\n",
       "      <td>NaN</td>\n",
       "      <td>NaN</td>\n",
       "      <td>NaN</td>\n",
       "      <td>NaN</td>\n",
       "      <td>NaN</td>\n",
       "      <td>144.42225</td>\n",
       "      <td>144.25375</td>\n",
       "      <td>5.854445</td>\n",
       "      <td>10.0</td>\n",
       "      <td>18.0</td>\n",
       "      <td>0.635892</td>\n",
       "      <td>-10.550</td>\n",
       "      <td>5.0</td>\n",
       "      <td>1.0</td>\n",
       "      <td>0.249220</td>\n",
       "      <td>0.096532</td>\n",
       "      <td>0.355166</td>\n",
       "      <td>5.0</td>\n",
       "      <td>2.0</td>\n",
       "    </tr>\n",
       "    <tr>\n",
       "      <th>S002-BISH-00022</th>\n",
       "      <td>NaN</td>\n",
       "      <td>NaN</td>\n",
       "      <td>NaN</td>\n",
       "      <td>NaN</td>\n",
       "      <td>NaN</td>\n",
       "      <td>130.56300</td>\n",
       "      <td>127.39000</td>\n",
       "      <td>8.078390</td>\n",
       "      <td>28.0</td>\n",
       "      <td>42.0</td>\n",
       "      <td>0.866797</td>\n",
       "      <td>-6.700</td>\n",
       "      <td>11.0</td>\n",
       "      <td>7.0</td>\n",
       "      <td>0.387365</td>\n",
       "      <td>0.088282</td>\n",
       "      <td>0.296879</td>\n",
       "      <td>11.0</td>\n",
       "      <td>8.0</td>\n",
       "    </tr>\n",
       "  </tbody>\n",
       "</table>\n",
       "</div>"
      ],
      "text/plain": [
       "                 toi.f31f_hrmean1.20  toi.f31f_hrmed1.20  toi.f31f_hrstd1.20  \\\n",
       "patid                                                                          \n",
       "S002-BISH-00004                  NaN                 NaN                 NaN   \n",
       "S002-BISH-00014                  NaN                 NaN                 NaN   \n",
       "S002-BISH-00015                  NaN                 NaN                 NaN   \n",
       "S002-BISH-00017                  NaN                 NaN                 NaN   \n",
       "S002-BISH-00018                  NaN                 NaN                 NaN   \n",
       "S002-BISH-00021                  NaN                 NaN                 NaN   \n",
       "S002-BISH-00022                  NaN                 NaN                 NaN   \n",
       "\n",
       "                 toi.f31f_hrsegs1.20  toi.f31f_totsegs1.20  \\\n",
       "patid                                                        \n",
       "S002-BISH-00004                  NaN                   NaN   \n",
       "S002-BISH-00014                  NaN                   NaN   \n",
       "S002-BISH-00015                  NaN                   NaN   \n",
       "S002-BISH-00017                  NaN                   NaN   \n",
       "S002-BISH-00018                  NaN                   NaN   \n",
       "S002-BISH-00021                  NaN                   NaN   \n",
       "S002-BISH-00022                  NaN                   NaN   \n",
       "\n",
       "                 toi.f32f_hrmean1.20  toi.f32f_hrmed1.20  toi.f32f_hrstd1.20  \\\n",
       "patid                                                                          \n",
       "S002-BISH-00004            140.18575           140.03575            4.814165   \n",
       "S002-BISH-00014            132.26150           131.52650            4.440940   \n",
       "S002-BISH-00015            134.47400           134.20400            4.671100   \n",
       "S002-BISH-00017            159.65150           159.02450            4.593490   \n",
       "S002-BISH-00018            131.52625           132.08525            5.602840   \n",
       "S002-BISH-00021            144.42225           144.25375            5.854445   \n",
       "S002-BISH-00022            130.56300           127.39000            8.078390   \n",
       "\n",
       "                 toi.f32f_hrsegs1.20  toi.f32f_totsegs1.20  toi.f3_medcc4.20  \\\n",
       "patid                                                                          \n",
       "S002-BISH-00004                 32.0                  43.0          0.472417   \n",
       "S002-BISH-00014                 41.0                  59.0          0.568553   \n",
       "S002-BISH-00015                 30.0                  50.0          0.600217   \n",
       "S002-BISH-00017                  8.0                  38.0          0.667281   \n",
       "S002-BISH-00018                 27.0                  45.0          0.742802   \n",
       "S002-BISH-00021                 10.0                  18.0          0.635892   \n",
       "S002-BISH-00022                 28.0                  42.0          0.866797   \n",
       "\n",
       "                 toi.f3_medlag4.20  toi.f3_totsegs4.20  toi.f3_ccsegs4.20  \\\n",
       "patid                                                                       \n",
       "S002-BISH-00004             -9.775                10.0                2.0   \n",
       "S002-BISH-00014             -7.100                15.0                4.0   \n",
       "S002-BISH-00015             -6.800                12.0                9.0   \n",
       "S002-BISH-00017             -8.050                11.0               10.0   \n",
       "S002-BISH-00018             -5.975                13.0                6.0   \n",
       "S002-BISH-00021            -10.550                 5.0                1.0   \n",
       "S002-BISH-00022             -6.700                11.0                7.0   \n",
       "\n",
       "                 toi.f3_mvt_pwr_mvt21.20  toi.f3_mvt_pwr_mvt31.20  \\\n",
       "patid                                                               \n",
       "S002-BISH-00004                 0.169885                 0.137150   \n",
       "S002-BISH-00014                 0.165809                 0.100418   \n",
       "S002-BISH-00015                 0.152383                 0.152934   \n",
       "S002-BISH-00017                 0.285043                 0.164083   \n",
       "S002-BISH-00018                 0.238292                 0.112508   \n",
       "S002-BISH-00021                 0.249220                 0.096532   \n",
       "S002-BISH-00022                 0.387365                 0.088282   \n",
       "\n",
       "                 toi.f3_mvt_pwr_mvt41.20  toi.f3_mvt_pwr_numbersegments.1.20  \\\n",
       "patid                                                                          \n",
       "S002-BISH-00004                 0.466450                                10.0   \n",
       "S002-BISH-00014                 0.408182                                15.0   \n",
       "S002-BISH-00015                 0.397743                                12.0   \n",
       "S002-BISH-00017                 0.345901                                11.0   \n",
       "S002-BISH-00018                 0.386279                                13.0   \n",
       "S002-BISH-00021                 0.355166                                 5.0   \n",
       "S002-BISH-00022                 0.296879                                11.0   \n",
       "\n",
       "                 toi.f3_mvt_pwr_numberusedpwrcoh.20  \n",
       "patid                                                \n",
       "S002-BISH-00004                                 1.0  \n",
       "S002-BISH-00014                                 4.0  \n",
       "S002-BISH-00015                                 9.0  \n",
       "S002-BISH-00017                                 8.0  \n",
       "S002-BISH-00018                                 7.0  \n",
       "S002-BISH-00021                                 2.0  \n",
       "S002-BISH-00022                                 8.0  "
      ]
     },
     "execution_count": 207,
     "metadata": {},
     "output_type": "execute_result"
    }
   ],
   "source": [
    "toi_tbl.loc[['S002-BISH-00004','S002-BISH-00014','S002-BISH-00015','S002-BISH-00017','S002-BISH-00018','S002-BISH-00021','S002-BISH-00022']]"
   ]
  },
  {
   "cell_type": "markdown",
   "metadata": {},
   "source": [
    "### Analysis\n",
    "1. Many times, a row has 5 missing TOI features.  By looking more closely, this often (if not always) \n",
    "   corresponds to the same 5 features: toi.f31f_hrmean1.20,\ttoi.f31f_hrmed1.20,\ttoi.f31f_hrstd1.20,\n",
    "   toi.f31f_hrsegs1.20,\ttoi.f31f_totsegs1.20.  \n",
    "   * Can drop these columns and use same dropna procedure, though this takes away a lot of\n",
    "     good data\n",
    "   * Can exclude these columns for the dropna procedure, then include them in the full data set\n",
    "     (and treat the missing values somehow)\n",
    "2. Note that 1F is for \"quiet behavioral state\", while 2F stands for  \"active behavioral state\"\n",
    "   * Dani told me that a lot of 1F data is actually missing\n",
    "   * When I asked her (in Slack), \"Should we combine 1F and 2F data to reduce sparsity?\", \n",
    "     Dani responded: \"I think they are very  very different. I would use just the 2f, I think that is\n",
    "     what has more data.\"\n",
    "   * So basically, dropping these columns would be ok with her.\n",
    "2. Note that Udi never touches the sensor files in his repo.  They are ported from Carlos' \n",
    "   repo via the \"Full/Wide\" data table the Udi imports into his first script.  Due to\n",
    "   whatever pipeline the sensor features are run through, the band power features that\n",
    "   David recommended as the only high quality TOI features do not even make it into\n",
    "   Udi's script here...  "
   ]
  },
  {
   "cell_type": "markdown",
   "metadata": {},
   "source": [
    "# Recap of the TOI Data\n",
    "\n",
    "MON data gets the shortest end of the stick, technically, since only the MON data\n",
    "that corresponds with good TOI data is looked at -- and from there, only the good MON data\n",
    "is kept.\n",
    "\n",
    "Below, here is a blow-by-blow of how it all happens.\n",
    "\n",
    "### Load Full Data Set\n",
    "If you remember, two files are loaded: the Data-Wide-QC-Full table and the BISH-FETAL-GA table. \n",
    "\n",
    "For the BISH table, Udi first looks only at those TOI.20 features that made it through Carols'\n",
    "pipeline.  This is the first unfortunate mistake, as none of the features recommended by David\n",
    "as being high quality make it this far.\n",
    "\n",
    "Udi then does a complete case analysis on the TOI subtable, dropping any row that does not have all\n",
    "TOI.20 features.  This is the next unfortunate mistake, as many of the dropped rows here were \n",
    "simply missing \"1F\" data.  Dani found out that \"1F\" and \"2F\" stand for \"quiet\" and \"active\" fetal\n",
    "states -- and that most people simply do not have \"1F\" data (baby was active during TOI \n",
    "measurements).  This represent a huge and unnecessary amount data discarded.\n",
    "\n",
    "\n",
    "```\n",
    "# Load Data\n",
    "df = pickle.load( open( \"data/interim/mbh001_Data-Wide-QC-full-data_20190924_V4_feateng.p\", \"rb\" ) )\n",
    "\n",
    "# Extract F3 complete TOI patids\n",
    "f3_toi_patids = df.filter(regex=\"^toi.+20\").dropna(axis=0).index # Dropping rows with missing data\n",
    "df_f3_toi = df.loc[f3_toi_patids,:]\n",
    "```\n",
    "\n",
    "Later in the code, Udi also drops any pregnancy w/ twins.\n",
    "\n",
    "```\n",
    "# Drop twins\n",
    "df_f3_toi=df_f3_toi[df_f3_toi['NumberOfFetuses']==1]   # Keep only single fetus\n",
    "df_f3_toi.drop('NumberOfFetuses',axis=1,inplace=True)  # No longer need the var\n",
    "\n",
    "# Rename a var for convenience\n",
    "df_f3_toi.rename(columns = {'adsc.dlvryga_dys.25':'ga.birth'}, inplace=True)\n",
    "```\n",
    "\n",
    "\n",
    "### Load BISH session records\n",
    "The next thing Udi does is load the BISH data, which includes the estimated GA at\n",
    "the visitation level.  This means that, in the full file, PATIDs are listed in as many\n",
    "rows as the patient had visits.  However, Udi then filters the table to look only\n",
    "at rows where the estimated GA is greater than 238 days (equal to 34 weeks).  Perhaps\n",
    "accidentally, perhaps intentionally, this helps ensure that (for the most part) patients\n",
    "have only one record in the subtable.  The point of the subset though was because he\n",
    "was interested in predicting the \"time left\" from the doctor's visit during F3 to the \n",
    "time of birth.\n",
    "\n",
    "```\n",
    "# GA at F3 for each patient\n",
    "collect_times = pd.read_csv(\"data/raw/BISH FETAL GA ASSESSMENT.csv\")\n",
    "collect_times.columns = collect_times.columns.str.replace(' ', '')\n",
    "collect_times.rename(columns = {'GA_In_Days':'ga_in_days',\"PATID\":'patid'},inplace=True)\n",
    "collect_times_f3 = collect_times[collect_times.ga_in_days>=238].loc[:,[\"ga_in_days\",\"patid\",\"NumberOfFetuses\"]]\n",
    "collect_times_f3.rename(columns = {'ga_in_days':'ga_f3'},inplace=True)\n",
    "```\n",
    "\n",
    "\n",
    "\n",
    "### Combine BISH F3 Subset w/ Full Data Set\n",
    "\n",
    "```\n",
    "# Subset of features with relevant cycle id \n",
    "df_f3_toi=df_f3_toi.merge(collect_times_f3,on='patid')\n",
    "```\n",
    "\n",
    "Right after this is when he drops the twins (code shown in above section).\n",
    "\n",
    "\n",
    "He then computes the target variable he is interested in and ensure no funky/erroneous\n",
    "records are left in the set:\n",
    "```\n",
    "# Create target variable (time left)\n",
    "df_f3_toi['time_left'] = df_f3_toi['ga.birth']-df_f3_toi['ga_f3']\n",
    "df_f3_toi['time_left'] = df_f3_toi['time_left'].astype('float64')\n",
    "df_f3_toi = df_f3_toi[df_f3_toi['time_left'] >= 0]\n",
    "\n",
    "# Here, he just ensures that ga_f3 is of type float64 \n",
    "df_f3_toi['ga_f3'] = df_f3_toi['ga_f3'].astype('float64')\n",
    "\n",
    "# Here, he just ensures that the set is indexed by patid\n",
    "df_f3_toi.set_index(['patid'], inplace=True)\n",
    "```\n",
    "\n",
    "Finally, he replaces any missing values marked as -99999 or -999999 with `None`.\n",
    "\n",
    "```\n",
    "# Replacing artifacts with missing values\n",
    "artifact_val1=-99999\n",
    "artifact_val2=-999999\n",
    "df_f3_toi.replace(artifact_val1,None,inplace=True)\n",
    "df_f3_toi.replace(artifact_val2,None,inplace=True)\n",
    "```\n",
    "\n",
    "\n",
    "### Save TOI File\n",
    "Initially, Udi was saving a unique data file every time he ran his script.  This was\n",
    "done by appending the current datetime to the file name.  However, he ran the script\n",
    "a lot and realized he didn't need to keep saving the file each time he fixed a bug (you\n",
    "can see all the files in his `data/processed` folder).  So, at one point, he \n",
    "commented out the datetime and left the variable with the value `a` -- this means that\n",
    "the most recent version of his processed data is the file appended with `a`.\n",
    "\n",
    "```\n",
    "# Get current timestamp\n",
    "now = datetime.now()\n",
    "date_time = 'a'#now.strftime(\"%Y%m%d%H%M%S\")\n",
    "toi_fname = 'data/processed/mbh001_f3_toi_baseline_{}'.format(date_time)\n",
    "\n",
    "# Create TOI CSV File\n",
    "print('Writing file:{}'.format(toi_fname+'.csv'))\n",
    "df_f3_toi.to_csv(toi_fname+'.csv')\n",
    "\n",
    "# Create TOI Pickle File\n",
    "print ('Writing file:{}'.format(toi_fname+'.p'))\n",
    "pickle.dump(df_f3_toi, open(toi_fname+'.p', \"wb\" ) )\n",
    "```\n"
   ]
  },
  {
   "cell_type": "code",
   "execution_count": 238,
   "metadata": {},
   "outputs": [],
   "source": [
    "def udi_toi_table():\n",
    "    # Load Data\n",
    "    df = pickle.load( open( \"../data/interim/mbh001_Data-Wide-QC-full-data_20190924_V4_feateng.p\", \"rb\" ) )\n",
    "\n",
    "    # Extract F3 complete TOI patids\n",
    "    f3_toi_patids = df.filter(regex=\"^toi.+20\").dropna(axis=0).index # Dropping rows with missing data\n",
    "    df_f3_toi = df.loc[f3_toi_patids,:]\n",
    "\n",
    "\n",
    "    # Rename a var for convenience\n",
    "    df_f3_toi.rename(columns = {'adsc.dlvryga_dys.25':'ga.birth'}, inplace=True)\n",
    "\n",
    "    # GA at F3 for each patient\n",
    "    collect_times = pd.read_csv(\"../data/raw/BISH FETAL GA ASSESSMENT.csv\")\n",
    "    collect_times.columns = collect_times.columns.str.replace(' ', '')\n",
    "    collect_times.rename(columns = {'GA_In_Days':'ga_in_days',\"PATID\":'patid'},inplace=True)\n",
    "    collect_times_f3 = collect_times[collect_times.ga_in_days>=238].loc[:,[\"ga_in_days\",\"patid\",\"NumberOfFetuses\"]]\n",
    "    collect_times_f3.rename(columns = {'ga_in_days':'ga_f3'},inplace=True)\n",
    "    \n",
    "    # Subset of features with relevant cycle id \n",
    "    df_f3_toi=df_f3_toi.merge(collect_times_f3,on='patid')\n",
    "    \n",
    "    # Drop twins\n",
    "    df_f3_toi = df_f3_toi[df_f3_toi['NumberOfFetuses']==1]   # Keep only single fetus\n",
    "    df_f3_toi.drop('NumberOfFetuses',axis=1,inplace=True)  # No longer need the var\n",
    "\n",
    "    # Create target variable (time left)\n",
    "    df_f3_toi['time_left'] = df_f3_toi['ga.birth']-df_f3_toi['ga_f3']\n",
    "    df_f3_toi['time_left'] = df_f3_toi['time_left'].astype('float64')\n",
    "    df_f3_toi = df_f3_toi[df_f3_toi['time_left'] >= 0]\n",
    "\n",
    "    # Here, he just ensures that ga_f3 is of type float64 \n",
    "    df_f3_toi['ga_f3'] = df_f3_toi['ga_f3'].astype('float64')\n",
    "\n",
    "    # Here, he just ensures that the set is indexed by patid\n",
    "    df_f3_toi.set_index(['patid'], inplace=True)\n",
    "\n",
    "    # Replacing artifacts with missing values\n",
    "    artifact_val1=-99999\n",
    "    artifact_val2=-999999\n",
    "    df_f3_toi.replace(artifact_val1,None,inplace=True)\n",
    "    df_f3_toi.replace(artifact_val2,None,inplace=True)\n",
    "    \n",
    "    return df_f3_toi"
   ]
  },
  {
   "cell_type": "code",
   "execution_count": 276,
   "metadata": {},
   "outputs": [],
   "source": [
    "df_f3_toi = udi_toi_table()"
   ]
  },
  {
   "cell_type": "code",
   "execution_count": 278,
   "metadata": {},
   "outputs": [
    {
     "name": "stdout",
     "output_type": "stream",
     "text": [
      "After Pipeline (rows, cols): 7069 575\n",
      "After Udi (Toi Table): 2732 577\n"
     ]
    }
   ],
   "source": [
    "nrows_df, ncols_df = df.shape\n",
    "nrows_toi, ncols_toi = df_f3_toi.shape\n",
    "\n",
    "print('After Pipeline (rows, cols):', nrows_df, ncols_df)\n",
    "print('After Udi (Toi Table):', nrows_toi, ncols_toi)"
   ]
  },
  {
   "cell_type": "code",
   "execution_count": 279,
   "metadata": {},
   "outputs": [
    {
     "data": {
      "text/plain": [
       "{'ga.birth', 'ga_f3', 'time_left'}"
      ]
     },
     "execution_count": 279,
     "metadata": {},
     "output_type": "execute_result"
    }
   ],
   "source": [
    "set(df_f3_toi.columns).difference(df.columns)"
   ]
  },
  {
   "cell_type": "code",
   "execution_count": 280,
   "metadata": {},
   "outputs": [
    {
     "data": {
      "text/plain": [
       "{'adsc.dlvryga_dys.25'}"
      ]
     },
     "execution_count": 280,
     "metadata": {},
     "output_type": "execute_result"
    }
   ],
   "source": [
    "set(df.columns).difference(df_f3_toi.columns)"
   ]
  },
  {
   "cell_type": "markdown",
   "metadata": {},
   "source": [
    "Remember, `adsc.dlvryga_dys.25` was renamed to `ga.birth`, so technically the only\n",
    "difference in columns between these two tables is that Udi added `ga_f3` and `time_left`."
   ]
  },
  {
   "cell_type": "markdown",
   "metadata": {},
   "source": [
    "# MON Data\n",
    "After Udi saves the TOI data, he then makes one last table, which is a TOI/MON intersection \n",
    "table.\n",
    "\n",
    "To do this, he takes the TOI table he just created and searches it for all MON.20 vars.\n",
    "\n",
    "```\n",
    "# TOI_MON intersection\n",
    "df_mon = df_f3_toi.filter(regex=\"^mon.+20\")\n",
    "```\n",
    "\n",
    "Udi then creates two more Null Filters:\n",
    "* the MON Feature Null Filter\n",
    "* the MON Record Null Filter\n",
    "\n",
    "Note that for TOI, Udi just has a record-wise null filter, where any records with at least\n",
    "one missing TOI feature was dropped.  MON features must be really sparse: this explains why\n",
    "he first gets rid of the most sparse features before doing a record-wise drop.  Still: there\n",
    "is no treatment of missing values, after the feature-wise filter, he applies a CCA-style\n",
    "record-wise filter.  (Btw, after all is said and done with TOI and MON, Udi applies a final \"Feature Null Filter\", \n",
    "which is a column-wise null filter that he applies in his Jupyter Notebook right before\n",
    "model building.)\n",
    "\n",
    "\n",
    "For TOI, he dropped any record that did not have COMPLETE data.  He is a little more\n",
    "lenienent on MON, where he allows a MON feature to be up to 55\\% null.\n",
    "\n",
    "```\n",
    "# MON Feature-Wise Null Filter\n",
    "\n",
    "## Order MON features by how Null they are\n",
    "df_mon_na_frac = (df_mon.isnull().sum()/len(df_mon)).sort_values()\n",
    "\n",
    "## Set a Null threshold\n",
    "mon_na_th=0.55\n",
    "\n",
    "## Only keep good MON features (e.g., nullity <= 55%)\n",
    "mon_features = df_mon_na_frac[df_mon_na_frac <= mon_na_th].index\n",
    "\n",
    "# MON Record-Wise Null Filter\n",
    "f3_toi_mon_patids = df_f3_toi[mon_features].dropna(axis=0).index # Dropping rows with missing data\n",
    "df_f3_toi_mon = df_f3_toi.loc[f3_toi_mon_patids,:]\n",
    "```\n",
    "\n",
    "Udi then saves a CSV and pickle file for this TOI/MON table.\n",
    "\n",
    "\n",
    "```\n",
    "toi_mon_fname='data/processed/mbh001_f3_toi_mon_baseline_{}'.format(date_time)\n",
    "\n",
    "# Save a CSV File\n",
    "print ('Writing file:{}'.format(toi_mon_fname+'.csv'))\n",
    "df_f3_toi_mon.to_csv(toi_mon_fname+'.csv')\n",
    "\n",
    "# Save a Pickle File\n",
    "print ('Writing file:{}'.format(toi_mon_fname+'.p'))\n",
    "pickle.dump(df_f3_toi_mon, open(toi_mon_fname+'.p', \"wb\" ) )\n",
    "```\n",
    "\n"
   ]
  },
  {
   "cell_type": "code",
   "execution_count": 281,
   "metadata": {},
   "outputs": [],
   "source": [
    "# TOI_MON intersection\n",
    "df_mon = df_f3_toi.filter(regex=\"^mon.+20\")"
   ]
  },
  {
   "cell_type": "code",
   "execution_count": 282,
   "metadata": {},
   "outputs": [],
   "source": [
    "# MON Feature-Wise Null Filter\n",
    "## Order MON features by how Null they are\n",
    "df_mon_na_frac = (df_mon.isnull().sum()/len(df_mon)).sort_values()\n",
    "\n",
    "## Set a Null threshold\n",
    "mon_na_th=0.55\n",
    "\n",
    "## Only keep good MON features (e.g., nullity <= 55%)\n",
    "mon_features = df_mon_na_frac[df_mon_na_frac <= mon_na_th].index\n",
    "\n",
    "# MON Record-Wise Null Filter\n",
    "f3_toi_mon_patids = df_f3_toi[mon_features].dropna(axis=0).index # Dropping rows with missing data\n",
    "df_f3_toi_mon = df_f3_toi.loc[f3_toi_mon_patids,:]"
   ]
  },
  {
   "cell_type": "code",
   "execution_count": 284,
   "metadata": {},
   "outputs": [
    {
     "data": {
      "text/plain": [
       "(1548, 577)"
      ]
     },
     "execution_count": 284,
     "metadata": {},
     "output_type": "execute_result"
    }
   ],
   "source": [
    "df_f3_toi_mon.shape"
   ]
  },
  {
   "cell_type": "markdown",
   "metadata": {},
   "source": [
    "# Misc: Ad Hoc Look-Ups for Dani"
   ]
  },
  {
   "cell_type": "markdown",
   "metadata": {},
   "source": [
    "Dani found some odd non-BISH IDs in one of the data tables.  We are only\n",
    "supposed to used BISH IDs. \n",
    "\n",
    "**Question**:  Did Udi use any non-BISH IDs?\n",
    "\n",
    "**Answer**: No."
   ]
  },
  {
   "cell_type": "code",
   "execution_count": 209,
   "metadata": {},
   "outputs": [
    {
     "data": {
      "text/plain": [
       "[]"
      ]
     },
     "execution_count": 209,
     "metadata": {},
     "output_type": "execute_result"
    }
   ],
   "source": [
    "[item for item in df.index if 'BISH' not in item]"
   ]
  },
  {
   "cell_type": "markdown",
   "metadata": {},
   "source": [
    "**Question**: Dani is interested in the PTSD data.  Wants to know:  Did Udi\n",
    "use any of the PTSD data?\n",
    "\n",
    "**Answer**:  PTSD vars were certainly in the pipeline, however, the PTSD vars do NOT make it past the null filter."
   ]
  },
  {
   "cell_type": "code",
   "execution_count": 210,
   "metadata": {},
   "outputs": [
    {
     "data": {
      "text/plain": [
       "['adptsd.htq_dsm_iv_raw.15',\n",
       " 'adptsd.htq_dsm_iv_raw.20',\n",
       " 'adptsd.htq_functioning_raw.15',\n",
       " 'adptsd.htq_functioning_raw.20',\n",
       " 'adptsd.htq_total_raw.15',\n",
       " 'adptsd.htq_total_raw.20',\n",
       " 'adptsd.lec_events.15',\n",
       " 'adptsd.lec_events.20',\n",
       " 'adptsd.lec_exp.15',\n",
       " 'adptsd.lec_exp.20',\n",
       " 'adptsd.lec_exp_nmiss.15',\n",
       " 'adptsd.lec_exp_nmiss.20',\n",
       " 'adptsd.ptsdsymptomatic2.15',\n",
       " 'adptsd.ptsdsymptomatic2.20']"
      ]
     },
     "execution_count": 210,
     "metadata": {},
     "output_type": "execute_result"
    }
   ],
   "source": [
    "[item for item in df.columns if 'pts' in item.lower()]"
   ]
  },
  {
   "cell_type": "code",
   "execution_count": 230,
   "metadata": {},
   "outputs": [
    {
     "data": {
      "text/plain": [
       "[]"
      ]
     },
     "execution_count": 230,
     "metadata": {},
     "output_type": "execute_result"
    }
   ],
   "source": [
    "[item for item in df.dropna(axis=1, thresh=0.8*len(df)).columns \n",
    "     if 'pts' in item.lower()]"
   ]
  },
  {
   "cell_type": "markdown",
   "metadata": {},
   "source": [
    "**Question**:  Dani wanted to know if Udi included any data from the ADSC table.\n",
    "\n",
    "**Answer**:  ADSC data was inded in the pipeline.  Also: many of the vars made it past Udi's\n",
    "null filter.  "
   ]
  },
  {
   "cell_type": "code",
   "execution_count": 211,
   "metadata": {},
   "outputs": [
    {
     "data": {
      "text/plain": [
       "['adsc.dlvryga_dys.25',\n",
       " 'adsc.gender2.25',\n",
       " 'adsc.infraceai4.25',\n",
       " 'adsc.infraceai7.25',\n",
       " 'adsc.infracenih4.25',\n",
       " 'adsc.infracenih7.25',\n",
       " 'adscmat.educ2.any',\n",
       " 'adscmat.educ4.any',\n",
       " 'adscmat.educ6.any',\n",
       " 'adscmat.educ7.any',\n",
       " 'adscmat.educ_combohs4.any',\n",
       " 'adscmat.educ_ptnr2.any',\n",
       " 'adscmat.educ_ptnr4.any',\n",
       " 'adscmat.educ_ptnr6.any',\n",
       " 'adscmat.educ_ptnr7.any',\n",
       " 'adscmat.empl.any',\n",
       " 'adscmat.empl2.any',\n",
       " 'adscmat.empl_comb4.any',\n",
       " 'adscmat.empl_ptnr2.any',\n",
       " 'adscmat.fertility2.any',\n",
       " 'adscmat.fertilityart2.any',\n",
       " 'adscmat.fertilityoi2.any',\n",
       " 'adscmat.govsupport4.any',\n",
       " 'adscmat.govsupportpre2.any',\n",
       " 'adscmat.govsupportpreall2.any',\n",
       " 'adscmat.gravidity.any',\n",
       " 'adscmat.grossincome7.any',\n",
       " 'adscmat.healthcvg4.any',\n",
       " 'adscmat.inc_pp.any',\n",
       " 'adscmat.marriedlt2.any',\n",
       " 'adscmat.marrpart2.any',\n",
       " 'adscmat.nulliparous2.any',\n",
       " 'adscmat.parity.any',\n",
       " 'adscmat.precareall_2.any',\n",
       " 'adscmat.precarefirstga.any',\n",
       " 'adscmat.precaret1_2.any',\n",
       " 'adscmat.publicassist2.any',\n",
       " 'adscmat.publicassistfin2.any',\n",
       " 'adscmat.selfpay2.any',\n",
       " 'adscmat.toiletwater2.any']"
      ]
     },
     "execution_count": 211,
     "metadata": {},
     "output_type": "execute_result"
    }
   ],
   "source": [
    "[item for item in df.columns if 'adsc' in item.lower()]"
   ]
  },
  {
   "cell_type": "code",
   "execution_count": 231,
   "metadata": {},
   "outputs": [
    {
     "data": {
      "text/plain": [
       "['adsc.dlvryga_dys.25',\n",
       " 'adsc.gender2.25',\n",
       " 'adsc.infraceai4.25',\n",
       " 'adsc.infraceai7.25',\n",
       " 'adsc.infracenih4.25',\n",
       " 'adsc.infracenih7.25',\n",
       " 'adscmat.educ2.any',\n",
       " 'adscmat.educ4.any',\n",
       " 'adscmat.educ6.any',\n",
       " 'adscmat.educ7.any',\n",
       " 'adscmat.empl2.any',\n",
       " 'adscmat.empl_ptnr2.any',\n",
       " 'adscmat.fertility2.any',\n",
       " 'adscmat.fertilityart2.any',\n",
       " 'adscmat.fertilityoi2.any',\n",
       " 'adscmat.govsupport4.any',\n",
       " 'adscmat.govsupportpreall2.any',\n",
       " 'adscmat.gravidity.any',\n",
       " 'adscmat.healthcvg4.any',\n",
       " 'adscmat.marriedlt2.any',\n",
       " 'adscmat.marrpart2.any',\n",
       " 'adscmat.nulliparous2.any',\n",
       " 'adscmat.parity.any',\n",
       " 'adscmat.precareall_2.any',\n",
       " 'adscmat.precarefirstga.any',\n",
       " 'adscmat.precaret1_2.any',\n",
       " 'adscmat.publicassist2.any',\n",
       " 'adscmat.publicassistfin2.any',\n",
       " 'adscmat.selfpay2.any',\n",
       " 'adscmat.toiletwater2.any']"
      ]
     },
     "execution_count": 231,
     "metadata": {},
     "output_type": "execute_result"
    }
   ],
   "source": [
    "[item for item in df.dropna(axis=1, thresh=0.8*len(df)).columns \n",
    "     if 'adsc' in item.lower()]"
   ]
  },
  {
   "cell_type": "code",
   "execution_count": null,
   "metadata": {},
   "outputs": [],
   "source": []
  }
 ],
 "metadata": {
  "kernelspec": {
   "display_name": "Python 3",
   "language": "python",
   "name": "python3"
  },
  "language_info": {
   "codemirror_mode": {
    "name": "ipython",
    "version": 3
   },
   "file_extension": ".py",
   "mimetype": "text/x-python",
   "name": "python",
   "nbconvert_exporter": "python",
   "pygments_lexer": "ipython3",
   "version": "3.7.2"
  }
 },
 "nbformat": 4,
 "nbformat_minor": 2
}
