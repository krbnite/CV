{
 "cells": [
  {
   "cell_type": "markdown",
   "metadata": {},
   "source": [
    "**NOTE2SELF (Dec 4, 2019)**: My interpretation of \"Demographics\" and \"Demographic Kept\" was in reverse ... \"DK\" was the old one...  Updates throughout notebook."
   ]
  },
  {
   "cell_type": "code",
   "execution_count": 47,
   "metadata": {},
   "outputs": [
    {
     "data": {
      "text/html": [
       "\n",
       "    <style>\n",
       "        #title {\n",
       "          text-align: center;\n",
       "          font-weight:bold\n",
       "        }\n",
       "        #cell {\n",
       "            text-align:left\n",
       "        }\n",
       "        #redcell {\n",
       "            text-align:left;\n",
       "            color:red;\n",
       "        }\n",
       "        .update {\n",
       "            background-color:sandybrown;\n",
       "        }\n",
       "        .mon {\n",
       "            background-color:skyblue;\n",
       "        }\n",
       "        .toi {\n",
       "            background-color:#ffd27f;\n",
       "        }\n",
       "    </style>\n",
       "    "
      ],
      "text/plain": [
       "<IPython.core.display.HTML object>"
      ]
     },
     "execution_count": 47,
     "metadata": {},
     "output_type": "execute_result"
    }
   ],
   "source": [
    "# This cell is simply for aesthetics\n",
    "from IPython.core.display import HTML\n",
    "def activate_html():\n",
    "    html = HTML(\"\"\"\n",
    "    <style>\n",
    "        #title {\n",
    "          text-align: center;\n",
    "          font-weight:bold\n",
    "        }\n",
    "        #cell {\n",
    "            text-align:left\n",
    "        }\n",
    "        #redcell {\n",
    "            text-align:left;\n",
    "            color:red;\n",
    "        }\n",
    "        .update {\n",
    "            background-color:sandybrown;\n",
    "        }\n",
    "        .mon {\n",
    "            background-color:skyblue;\n",
    "        }\n",
    "        .toi {\n",
    "            background-color:#ffd27f;\n",
    "        }\n",
    "    </style>\n",
    "    \"\"\")\n",
    "    return html\n",
    "    \n",
    "\n",
    "activate_html()"
   ]
  },
  {
   "cell_type": "code",
   "execution_count": 639,
   "metadata": {},
   "outputs": [],
   "source": [
    "import pandas as pd\n",
    "import numpy as np\n",
    "from matplotlib import pyplot as plt\n",
    "%matplotlib inline"
   ]
  },
  {
   "cell_type": "code",
   "execution_count": 1,
   "metadata": {},
   "outputs": [
    {
     "name": "stdout",
     "output_type": "stream",
     "text": [
      "\u001b[35mBISH FETAL GA ASSESSMENT_DB.csv\u001b[m\u001b[m\r\n",
      "\u001b[35mDerived Variables of Interest Participants Only.mental_ill_DB.csv\u001b[m\u001b[m\r\n",
      "\u001b[35madafppappa_DB.csv\u001b[m\u001b[m\r\n",
      "\u001b[35madalc_patid_DB.csv\u001b[m\u001b[m\r\n",
      "\u001b[35madcdrisc_DB.csv\u001b[m\u001b[m\r\n",
      "\u001b[35maddrg_patid_DB.csv\u001b[m\u001b[m\r\n",
      "\u001b[35madedin_merged_edit_bish_DB.csv\u001b[m\u001b[m\r\n",
      "\u001b[35madelig_DB.csv\u001b[m\u001b[m\r\n",
      "\u001b[35madfetalgrowth_BISHCORRECTED_01.24.19_persex_DB.csv\u001b[m\u001b[m\r\n",
      "\u001b[35madmh_DB.csv\u001b[m\u001b[m\r\n",
      "\u001b[35madptsd_DB.csv\u001b[m\u001b[m\r\n",
      "\u001b[35madsc_DB.csv\u001b[m\u001b[m\r\n",
      "\u001b[35madscmat_DB.csv\u001b[m\u001b[m\r\n",
      "\u001b[35madsmk_patid_DB.csv\u001b[m\u001b[m\r\n",
      "\u001b[35madstai_DB.csv\u001b[m\u001b[m\r\n",
      "\u001b[35madvs_DB.csv\u001b[m\u001b[m\r\n"
     ]
    }
   ],
   "source": [
    "!ls ../data/raw"
   ]
  },
  {
   "cell_type": "markdown",
   "metadata": {},
   "source": [
    "<font color='red' size=10>\n",
    "    <b>BISH FETAL GA ASSESSMENT_DB.csv</b>\n",
    "</font>\n",
    "\n",
    "| Info | Value |\n",
    "|------|-------|\n",
    "| N Cols | 7      |\n",
    "| N Rows | 12,383 |\n",
    "| Unique PATID | 6,558 |\n",
    "\n",
    "This is basically the same BISH file that I went over from Udi's MBH001 project in the\n",
    "previous notebook, `01__KU__Inspection-of-Udis-Final-Analysis.v2.ipynb`.\n",
    "\n",
    "Point is, these records have to do with when sensor recordings were measured.  Since\n",
    "patients had multiple recordings, they have multiple records in the table. \n",
    "\n",
    "**Objective**:  What we have to do with the BISH data is essentially decide how\n",
    "we want to widen it.  In the previous notebook, I found that referring to the tests\n",
    "as \"F1 tests\" or \"F3 tests\" (etc) is only loosely followed in terms of GA...  That is,\n",
    "given the definitions of Fx, the tests do not always fall inside any of the definitions.  What\n",
    "is apparent though, is that most patients have two tests... So we can just refer to these\n",
    "tests as test1 and test2....\n",
    "\n"
   ]
  },
  {
   "cell_type": "code",
   "execution_count": 5,
   "metadata": {},
   "outputs": [],
   "source": [
    "bish = pd.read_csv('../data/raw/BISH FETAL GA ASSESSMENT_DB.csv')"
   ]
  },
  {
   "cell_type": "code",
   "execution_count": 8,
   "metadata": {},
   "outputs": [
    {
     "data": {
      "text/plain": [
       "(12383, 7)"
      ]
     },
     "execution_count": 8,
     "metadata": {},
     "output_type": "execute_result"
    }
   ],
   "source": [
    "bish.shape"
   ]
  },
  {
   "cell_type": "code",
   "execution_count": 17,
   "metadata": {},
   "outputs": [
    {
     "data": {
      "text/plain": [
       "Index(['PATID', 'Box Number', 'Original File Name', 'Final File Name',\n",
       "       'Final File Name.1', 'GA_In_Days', 'Number Of Fetuses'],\n",
       "      dtype='object')"
      ]
     },
     "execution_count": 17,
     "metadata": {},
     "output_type": "execute_result"
    }
   ],
   "source": [
    "bish.columns"
   ]
  },
  {
   "cell_type": "code",
   "execution_count": 11,
   "metadata": {},
   "outputs": [
    {
     "data": {
      "text/plain": [
       "6558"
      ]
     },
     "execution_count": 11,
     "metadata": {},
     "output_type": "execute_result"
    }
   ],
   "source": [
    "len(bish.PATID.unique())"
   ]
  },
  {
   "cell_type": "code",
   "execution_count": 746,
   "metadata": {},
   "outputs": [
    {
     "data": {
      "text/html": [
       "<div>\n",
       "<style scoped>\n",
       "    .dataframe tbody tr th:only-of-type {\n",
       "        vertical-align: middle;\n",
       "    }\n",
       "\n",
       "    .dataframe tbody tr th {\n",
       "        vertical-align: top;\n",
       "    }\n",
       "\n",
       "    .dataframe thead th {\n",
       "        text-align: right;\n",
       "    }\n",
       "</style>\n",
       "<table border=\"1\" class=\"dataframe\">\n",
       "  <thead>\n",
       "    <tr style=\"text-align: right;\">\n",
       "      <th></th>\n",
       "      <th>GA_In_Days</th>\n",
       "      <th>Number Of Fetuses</th>\n",
       "    </tr>\n",
       "  </thead>\n",
       "  <tbody>\n",
       "    <tr>\n",
       "      <th>min</th>\n",
       "      <td>116.0</td>\n",
       "      <td>1.0</td>\n",
       "    </tr>\n",
       "    <tr>\n",
       "      <th>25%</th>\n",
       "      <td>161.0</td>\n",
       "      <td>1.0</td>\n",
       "    </tr>\n",
       "    <tr>\n",
       "      <th>50%</th>\n",
       "      <td>221.0</td>\n",
       "      <td>1.0</td>\n",
       "    </tr>\n",
       "    <tr>\n",
       "      <th>75%</th>\n",
       "      <td>242.0</td>\n",
       "      <td>1.0</td>\n",
       "    </tr>\n",
       "    <tr>\n",
       "      <th>max</th>\n",
       "      <td>339.0</td>\n",
       "      <td>2.0</td>\n",
       "    </tr>\n",
       "  </tbody>\n",
       "</table>\n",
       "</div>"
      ],
      "text/plain": [
       "     GA_In_Days  Number Of Fetuses\n",
       "min       116.0                1.0\n",
       "25%       161.0                1.0\n",
       "50%       221.0                1.0\n",
       "75%       242.0                1.0\n",
       "max       339.0                2.0"
      ]
     },
     "execution_count": 746,
     "metadata": {},
     "output_type": "execute_result"
    }
   ],
   "source": [
    "bish.describe()[3:]"
   ]
  },
  {
   "cell_type": "code",
   "execution_count": 747,
   "metadata": {},
   "outputs": [
    {
     "data": {
      "text/plain": [
       "4"
      ]
     },
     "execution_count": 747,
     "metadata": {},
     "output_type": "execute_result"
    }
   ],
   "source": [
    "# How many records are associated w/ 2 fetuses\n",
    "bish['Number Of Fetuses'].map(lambda x: 1 if x > 1 else 0).sum()"
   ]
  },
  {
   "cell_type": "code",
   "execution_count": 748,
   "metadata": {},
   "outputs": [
    {
     "data": {
      "text/html": [
       "<div>\n",
       "<style scoped>\n",
       "    .dataframe tbody tr th:only-of-type {\n",
       "        vertical-align: middle;\n",
       "    }\n",
       "\n",
       "    .dataframe tbody tr th {\n",
       "        vertical-align: top;\n",
       "    }\n",
       "\n",
       "    .dataframe thead th {\n",
       "        text-align: right;\n",
       "    }\n",
       "</style>\n",
       "<table border=\"1\" class=\"dataframe\">\n",
       "  <thead>\n",
       "    <tr style=\"text-align: right;\">\n",
       "      <th></th>\n",
       "      <th>PATID</th>\n",
       "      <th>Box Number</th>\n",
       "      <th>Original File Name</th>\n",
       "      <th>Final File Name</th>\n",
       "      <th>Final File Name.1</th>\n",
       "      <th>GA_In_Days</th>\n",
       "      <th>Number Of Fetuses</th>\n",
       "    </tr>\n",
       "  </thead>\n",
       "  <tbody>\n",
       "    <tr>\n",
       "      <th>0</th>\n",
       "      <td>S002-BISH-00001</td>\n",
       "      <td>2007-04</td>\n",
       "      <td>S002-BISH-00001-2007-04.physio</td>\n",
       "      <td>S002-BISH-00001-T010-10.physio</td>\n",
       "      <td>S002-BISH-00001-T010-10</td>\n",
       "      <td>150</td>\n",
       "      <td>1</td>\n",
       "    </tr>\n",
       "    <tr>\n",
       "      <th>1</th>\n",
       "      <td>S002-BISH-00001</td>\n",
       "      <td>2007-04</td>\n",
       "      <td>11-22-s002-bish-00001-2007-04.physio</td>\n",
       "      <td>S002-BISH-00001-T010-15.physio</td>\n",
       "      <td>S002-BISH-00001-T010-15</td>\n",
       "      <td>202</td>\n",
       "      <td>1</td>\n",
       "    </tr>\n",
       "    <tr>\n",
       "      <th>2</th>\n",
       "      <td>S002-BISH-00002</td>\n",
       "      <td>2007-04</td>\n",
       "      <td>S002-BISH-00002-2007-04.physio</td>\n",
       "      <td>S002-BISH-00002-T010-10.physio</td>\n",
       "      <td>S002-BISH-00002-T010-10</td>\n",
       "      <td>167</td>\n",
       "      <td>1</td>\n",
       "    </tr>\n",
       "  </tbody>\n",
       "</table>\n",
       "</div>"
      ],
      "text/plain": [
       "             PATID Box Number                    Original File Name  \\\n",
       "0  S002-BISH-00001    2007-04        S002-BISH-00001-2007-04.physio   \n",
       "1  S002-BISH-00001    2007-04  11-22-s002-bish-00001-2007-04.physio   \n",
       "2  S002-BISH-00002    2007-04        S002-BISH-00002-2007-04.physio   \n",
       "\n",
       "                  Final File Name        Final File Name.1  GA_In_Days  \\\n",
       "0  S002-BISH-00001-T010-10.physio  S002-BISH-00001-T010-10         150   \n",
       "1  S002-BISH-00001-T010-15.physio  S002-BISH-00001-T010-15         202   \n",
       "2  S002-BISH-00002-T010-10.physio  S002-BISH-00002-T010-10         167   \n",
       "\n",
       "   Number Of Fetuses  \n",
       "0                  1  \n",
       "1                  1  \n",
       "2                  1  "
      ]
     },
     "execution_count": 748,
     "metadata": {},
     "output_type": "execute_result"
    }
   ],
   "source": [
    "bish.head(3)"
   ]
  },
  {
   "cell_type": "code",
   "execution_count": 749,
   "metadata": {},
   "outputs": [
    {
     "data": {
      "text/html": [
       "<div>\n",
       "<style scoped>\n",
       "    .dataframe tbody tr th:only-of-type {\n",
       "        vertical-align: middle;\n",
       "    }\n",
       "\n",
       "    .dataframe tbody tr th {\n",
       "        vertical-align: top;\n",
       "    }\n",
       "\n",
       "    .dataframe thead th {\n",
       "        text-align: right;\n",
       "    }\n",
       "</style>\n",
       "<table border=\"1\" class=\"dataframe\">\n",
       "  <thead>\n",
       "    <tr style=\"text-align: right;\">\n",
       "      <th></th>\n",
       "      <th>PATID</th>\n",
       "      <th>Box Number</th>\n",
       "      <th>Original File Name</th>\n",
       "      <th>Final File Name</th>\n",
       "      <th>Final File Name.1</th>\n",
       "      <th>GA_In_Days</th>\n",
       "      <th>Number Of Fetuses</th>\n",
       "    </tr>\n",
       "  </thead>\n",
       "  <tbody>\n",
       "    <tr>\n",
       "      <th>12380</th>\n",
       "      <td>S002-BISH-07061</td>\n",
       "      <td>2007-05</td>\n",
       "      <td>03-16-S002-BISH-07061-2007-05.physio</td>\n",
       "      <td>S002-BISH-07061-T010-10.physio</td>\n",
       "      <td>S002-BISH-07061-T010-10</td>\n",
       "      <td>155</td>\n",
       "      <td>1</td>\n",
       "    </tr>\n",
       "    <tr>\n",
       "      <th>12381</th>\n",
       "      <td>S002-BISH-07061</td>\n",
       "      <td>2007-09</td>\n",
       "      <td>06-08-S002-BISH-07061-2007-09.physio</td>\n",
       "      <td>S002-BISH-07061-T010-20.physio</td>\n",
       "      <td>S002-BISH-07061-T010-20</td>\n",
       "      <td>239</td>\n",
       "      <td>1</td>\n",
       "    </tr>\n",
       "    <tr>\n",
       "      <th>12382</th>\n",
       "      <td>S002-BISH-07062</td>\n",
       "      <td>2007-06</td>\n",
       "      <td>02-23-S002-BISH-07062-2007-06.physio</td>\n",
       "      <td>S002-BISH-07062-T010-20.physio</td>\n",
       "      <td>S002-BISH-07062-T010-20</td>\n",
       "      <td>244</td>\n",
       "      <td>1</td>\n",
       "    </tr>\n",
       "  </tbody>\n",
       "</table>\n",
       "</div>"
      ],
      "text/plain": [
       "                 PATID Box Number                    Original File Name  \\\n",
       "12380  S002-BISH-07061    2007-05  03-16-S002-BISH-07061-2007-05.physio   \n",
       "12381  S002-BISH-07061    2007-09  06-08-S002-BISH-07061-2007-09.physio   \n",
       "12382  S002-BISH-07062    2007-06  02-23-S002-BISH-07062-2007-06.physio   \n",
       "\n",
       "                      Final File Name        Final File Name.1  GA_In_Days  \\\n",
       "12380  S002-BISH-07061-T010-10.physio  S002-BISH-07061-T010-10         155   \n",
       "12381  S002-BISH-07061-T010-20.physio  S002-BISH-07061-T010-20         239   \n",
       "12382  S002-BISH-07062-T010-20.physio  S002-BISH-07062-T010-20         244   \n",
       "\n",
       "       Number Of Fetuses  \n",
       "12380                  1  \n",
       "12381                  1  \n",
       "12382                  1  "
      ]
     },
     "execution_count": 749,
     "metadata": {},
     "output_type": "execute_result"
    }
   ],
   "source": [
    "bish.tail(3)"
   ]
  },
  {
   "cell_type": "code",
   "execution_count": 767,
   "metadata": {},
   "outputs": [
    {
     "data": {
      "text/html": [
       "<div>\n",
       "<style scoped>\n",
       "    .dataframe tbody tr th:only-of-type {\n",
       "        vertical-align: middle;\n",
       "    }\n",
       "\n",
       "    .dataframe tbody tr th {\n",
       "        vertical-align: top;\n",
       "    }\n",
       "\n",
       "    .dataframe thead th {\n",
       "        text-align: right;\n",
       "    }\n",
       "</style>\n",
       "<table border=\"1\" class=\"dataframe\">\n",
       "  <thead>\n",
       "    <tr style=\"text-align: right;\">\n",
       "      <th></th>\n",
       "      <th>min_ga</th>\n",
       "      <th>middle_ga</th>\n",
       "      <th>max_ga</th>\n",
       "    </tr>\n",
       "    <tr>\n",
       "      <th>PATID</th>\n",
       "      <th></th>\n",
       "      <th></th>\n",
       "      <th></th>\n",
       "    </tr>\n",
       "  </thead>\n",
       "  <tbody>\n",
       "    <tr>\n",
       "      <th>S002-BISH-00001</th>\n",
       "      <td>150</td>\n",
       "      <td>176</td>\n",
       "      <td>202</td>\n",
       "    </tr>\n",
       "    <tr>\n",
       "      <th>S002-BISH-00002</th>\n",
       "      <td>167</td>\n",
       "      <td>204</td>\n",
       "      <td>242</td>\n",
       "    </tr>\n",
       "    <tr>\n",
       "      <th>S002-BISH-00003</th>\n",
       "      <td>201</td>\n",
       "      <td>224</td>\n",
       "      <td>246</td>\n",
       "    </tr>\n",
       "    <tr>\n",
       "      <th>S002-BISH-00004</th>\n",
       "      <td>251</td>\n",
       "      <td>251</td>\n",
       "      <td>251</td>\n",
       "    </tr>\n",
       "    <tr>\n",
       "      <th>S002-BISH-00005</th>\n",
       "      <td>255</td>\n",
       "      <td>255</td>\n",
       "      <td>255</td>\n",
       "    </tr>\n",
       "  </tbody>\n",
       "</table>\n",
       "</div>"
      ],
      "text/plain": [
       "                 min_ga  middle_ga  max_ga\n",
       "PATID                                     \n",
       "S002-BISH-00001     150        176     202\n",
       "S002-BISH-00002     167        204     242\n",
       "S002-BISH-00003     201        224     246\n",
       "S002-BISH-00004     251        251     251\n",
       "S002-BISH-00005     255        255     255"
      ]
     },
     "execution_count": 767,
     "metadata": {},
     "output_type": "execute_result"
    }
   ],
   "source": [
    "bish.groupby('PATID')['GA_In_Days'].agg([min,lambda x: round(np.median(x)),max]).\\\n",
    "    rename(columns={'min':'min_ga','<lambda>':'middle_ga','max':'max_ga'}).\\\n",
    "    head()"
   ]
  },
  {
   "cell_type": "code",
   "execution_count": null,
   "metadata": {},
   "outputs": [],
   "source": []
  },
  {
   "cell_type": "code",
   "execution_count": null,
   "metadata": {},
   "outputs": [],
   "source": []
  },
  {
   "cell_type": "code",
   "execution_count": null,
   "metadata": {},
   "outputs": [],
   "source": []
  },
  {
   "cell_type": "markdown",
   "metadata": {},
   "source": [
    "-----------------------\n",
    "\n",
    "<font color='red' size=6>\n",
    "    MENTAL:<br>\n",
    "    <b>Derived Variables of Interest Participants Only.mental_ill_DB.csv</b>\n",
    "</font>\n",
    "\n",
    "---------------\n",
    "\n",
    "In SharePoint file `mbh001/DemoMetaClinical_DataDictionary/DataDictionary/mbh001_Dictionary-of-Variable-terms_20181119_V2.xlsx` tab 1 (\"Demographic Variables\"), Dani green lights to further investigate the following vars:\n",
    "* aantipsych2\n",
    "* antianx2\n",
    "* anticonv2\n",
    "* antidepress2\n",
    "* moodstab2\n",
    "* ssri2\n",
    "* stim2\n",
    "\n",
    "However, in tab2 (\"Demographic Variables Kept\"), she green lights one more:\n",
    "* cantipsych2\n",
    "\n",
    "She also includes 4 other vars in tab2, which are not green lighted, but are commented\n",
    "(<i>\"include? check w other edinburgh and compare\"</i>):\n",
    "* edinburgh1mo\n",
    "* edinburgh1mo_13FL2\n",
    "* fedinburgh\n",
    "* fedinburgh_13FL2\n",
    "\n",
    "--------------\n",
    "\n",
    "<font size=4 style=\"background-color:sandybrown;\">\n",
    "<b>UPDATE \\#1 (Dec 4, mtg w/ Dani)</b>:  The reason these \"edinburgh\" vars are not entirely necessary is b/c there\n",
    "is another file (below) that contains edinburgh info.  Dani says she has since decided that\n",
    "these edinburgh variables are redundant at best, or -- at worst -- redundant, less informative,\n",
    "and burdensome (a la the curse of dimensionality).  So, <b><font color='red'>leave out the edinburgh vars from this\n",
    "    table</font></b>.  That is all.\n",
    "    \n",
    "<b>UPDATE \\#2 (Dec 4, mtg w/ Dani)</b>:  My interpretation of Dani's Excel file was incorrect while \n",
    "creating this JNB on Dec 2.  The\n",
    "second tab, called \"Demographic Variables Kept\", was actually her first attempt at flagging variables\n",
    "of interest (I interpreted \"Kept\" to mean this tab indicated her final decisions on things).  The first tab \"Demographic Variables\" was her follow-up attempt (this was supposed to be her \"final\" ruling).  So, for example, \n",
    "she had already ruled <font style=\"color:red;font-family:'Courier New';font-weight:bold;\">cantipsych</font> and the \n",
    "<font style=\"color:red;font-family:'Courier New';font-weight:bold;\">edinburgh</font> variables out prior to this meeting.  However,\n",
    "what we found when going through this JNB during our meeting is that she was not 100% consistent \n",
    "in which tab she used to document the variables of interest...so she will be making a new Excel\n",
    "file, V3.  I will reference that file in the companion JNB, <b>02b__KU__2019-Dec-04__...</b>\n",
    "</font>\n",
    "\n",
    "-----------------\n",
    "\n",
    "<br>\n",
    "<font style=\"background-color:yellow;\">\n",
    "    <b>IMPORTANT</b>: Though Dani was mostly successful in removing NaNs/Nulls, it seems some have made it \n",
    "through, e.g., see \n",
    "</font>\n",
    "\n",
    "* `mental_keepers.isnull().sum()`, which reveals that moodstab2 has a NULL\n",
    "* `mental_keepers.query('moodstab2 not in [1,0,-999999]')`, which provides the index of the NULL (6490)\n",
    "\n",
    "\n",
    "<br>\n",
    "<font style=\"background-color:yellow;\">\n",
    "    <b>IMPORTANT</b>: All of these variables have almost NO variability.  Of 6490 records,\n",
    "    the most varied variable, <i>antidepress2</i>, has only 23 nonzero-nonnull records; the\n",
    "    next best var only 12; the remainings vars even worse!\n",
    "</font>    \n",
    "    \n",
    "| Highly Imbalanced Feature | Percent Nonzero/Nonnull | Number of records (Total: 6490) |\n",
    "|---|---|----|\n",
    "| ssri2          |0.14% |  10 |\n",
    "| antidepress2   |0.33% |  23 |\n",
    "| cantipsych2    |0.03% |  2 |\n",
    "| aantipsych2    |0.06% |  4 |\n",
    "| moodstab2      |0.1%  |  7 |\n",
    "| stim2          |0.01% |  1 |\n",
    "| antianx2       |0.01% |  1 |\n",
    "| anticonv2      |0.17% | 12 |\n",
    "\n",
    "\n",
    "\n",
    "<ol style=\"background-color:yellow;\">\n",
    "    <li>The var w/ only 1-2 records (stim2, antianx2, cantipsych2) should be\n",
    "        discarded (cannot split it into trn/val/tst).</li>\n",
    "    <li>If we care about the remaining vars, then we need to ensure they are split balanced into\n",
    "        trn/val/tst sets...but not only balanced in number, but in distribution (e.g., it is useless\n",
    "        if we have 4 otherlmp2 values all 0 in training, but have 3 remaining values of 1 split into\n",
    "        val and tst sets.  <b>This might take some finesse and time, which we might not have.</b></li>\n",
    "</ol>\n",
    "\n",
    "\n",
    "<font size=4 style=\"background-color:sandybrown;\">\n",
    "    <b>UPDATE (Dec 4, mtg w/ Dani)</b>:  Dani agrees that these variables are mostly\n",
    "    useless due to having nearly no nonZero/nonNull values.  We discussed possibly creating\n",
    "    an overall \"psych\" var that is simply flagged if any of these vars are flagged.  I may\n",
    "    or may not do this... I wonder if it'd be better if she make it for the raw file itself. Either\n",
    "    way, we definitely should remove <b><font color='red'>antianx2, stim2, cantipsych2, aantispych2,\n",
    "    and moodstab2</font></b>\n",
    "</font>\n",
    "\n",
    "\n",
    "### FINAL Code...\n",
    "NOTE: Still have to play w/ 4 other vars she is interested in...\n",
    "\n",
    "---------------------------\n",
    "```python\n",
    "mental_cols = ['patid','aantipsych2','antianx2','anticonv2','antidepress2','cantipsych2',\n",
    "           'moodstab2','ssri2','stim2',]\n",
    "mental = pd.read_csv('../data/raw/Derived Variables of Interest Participants Only.mental_ill_DB.csv',\n",
    "    usecols = mental_cols)\n",
    "mental.fillna(-999999, inplace=True)\n",
    "```\n",
    "------------------------------"
   ]
  },
  {
   "cell_type": "code",
   "execution_count": 15,
   "metadata": {},
   "outputs": [],
   "source": [
    "mental = pd.read_csv('../data/raw/Derived Variables of Interest Participants Only.mental_ill_DB.csv')"
   ]
  },
  {
   "cell_type": "code",
   "execution_count": 16,
   "metadata": {},
   "outputs": [
    {
     "data": {
      "text/plain": [
       "(6923, 25)"
      ]
     },
     "execution_count": 16,
     "metadata": {},
     "output_type": "execute_result"
    }
   ],
   "source": [
    "mental.shape"
   ]
  },
  {
   "cell_type": "code",
   "execution_count": 18,
   "metadata": {},
   "outputs": [
    {
     "data": {
      "text/plain": [
       "Index(['patid', 'center', 'site', 'Hispanic2', 'RACEAI7', 'RACEAI4',\n",
       "       'AnxietyPrior2', 'DepressionPrior2', 'EpilepsyPrior2', 'fedinburgh',\n",
       "       'edinburgh1mo', 'edinburgh1mo_13FL2', 'fedinburgh_13FL2', 'state_anx',\n",
       "       'trait_anx', 'state_anx_40FL2', 'trait_anx_40FL2', 'ssri2',\n",
       "       'antidepress2', 'cantipsych2', 'aantipsych2', 'moodstab2', 'stim2',\n",
       "       'antianx2', 'anticonv2'],\n",
       "      dtype='object')"
      ]
     },
     "execution_count": 18,
     "metadata": {},
     "output_type": "execute_result"
    }
   ],
   "source": [
    "mental.columns"
   ]
  },
  {
   "cell_type": "code",
   "execution_count": 20,
   "metadata": {},
   "outputs": [
    {
     "data": {
      "text/plain": [
       "6923"
      ]
     },
     "execution_count": 20,
     "metadata": {},
     "output_type": "execute_result"
    }
   ],
   "source": [
    "len(mental.patid.unique())"
   ]
  },
  {
   "cell_type": "code",
   "execution_count": 76,
   "metadata": {},
   "outputs": [
    {
     "data": {
      "text/html": [
       "<div>\n",
       "<style scoped>\n",
       "    .dataframe tbody tr th:only-of-type {\n",
       "        vertical-align: middle;\n",
       "    }\n",
       "\n",
       "    .dataframe tbody tr th {\n",
       "        vertical-align: top;\n",
       "    }\n",
       "\n",
       "    .dataframe thead th {\n",
       "        text-align: right;\n",
       "    }\n",
       "</style>\n",
       "<table border=\"1\" class=\"dataframe\">\n",
       "  <thead>\n",
       "    <tr style=\"text-align: right;\">\n",
       "      <th></th>\n",
       "      <th>aantipsych2</th>\n",
       "      <th>antianx2</th>\n",
       "      <th>anticonv2</th>\n",
       "      <th>antidepress2</th>\n",
       "      <th>moodstab2</th>\n",
       "      <th>ssri2</th>\n",
       "      <th>stim2</th>\n",
       "    </tr>\n",
       "  </thead>\n",
       "  <tbody>\n",
       "    <tr>\n",
       "      <th>0</th>\n",
       "      <td>0.0</td>\n",
       "      <td>0.0</td>\n",
       "      <td>0.0</td>\n",
       "      <td>0.0</td>\n",
       "      <td>0.0</td>\n",
       "      <td>0.0</td>\n",
       "      <td>0.0</td>\n",
       "    </tr>\n",
       "    <tr>\n",
       "      <th>1</th>\n",
       "      <td>0.0</td>\n",
       "      <td>0.0</td>\n",
       "      <td>0.0</td>\n",
       "      <td>0.0</td>\n",
       "      <td>0.0</td>\n",
       "      <td>0.0</td>\n",
       "      <td>0.0</td>\n",
       "    </tr>\n",
       "    <tr>\n",
       "      <th>2</th>\n",
       "      <td>0.0</td>\n",
       "      <td>0.0</td>\n",
       "      <td>0.0</td>\n",
       "      <td>0.0</td>\n",
       "      <td>0.0</td>\n",
       "      <td>0.0</td>\n",
       "      <td>0.0</td>\n",
       "    </tr>\n",
       "    <tr>\n",
       "      <th>3</th>\n",
       "      <td>0.0</td>\n",
       "      <td>0.0</td>\n",
       "      <td>0.0</td>\n",
       "      <td>0.0</td>\n",
       "      <td>0.0</td>\n",
       "      <td>0.0</td>\n",
       "      <td>0.0</td>\n",
       "    </tr>\n",
       "    <tr>\n",
       "      <th>4</th>\n",
       "      <td>0.0</td>\n",
       "      <td>0.0</td>\n",
       "      <td>0.0</td>\n",
       "      <td>0.0</td>\n",
       "      <td>0.0</td>\n",
       "      <td>0.0</td>\n",
       "      <td>0.0</td>\n",
       "    </tr>\n",
       "  </tbody>\n",
       "</table>\n",
       "</div>"
      ],
      "text/plain": [
       "   aantipsych2  antianx2  anticonv2  antidepress2  moodstab2  ssri2  stim2\n",
       "0          0.0       0.0        0.0           0.0        0.0    0.0    0.0\n",
       "1          0.0       0.0        0.0           0.0        0.0    0.0    0.0\n",
       "2          0.0       0.0        0.0           0.0        0.0    0.0    0.0\n",
       "3          0.0       0.0        0.0           0.0        0.0    0.0    0.0\n",
       "4          0.0       0.0        0.0           0.0        0.0    0.0    0.0"
      ]
     },
     "execution_count": 76,
     "metadata": {},
     "output_type": "execute_result"
    }
   ],
   "source": [
    "mental_keepers = mental[['aantipsych2','antianx2','anticonv2','antidepress2','moodstab2','ssri2','stim2',]]\n",
    "mental_keepers.head()"
   ]
  },
  {
   "cell_type": "code",
   "execution_count": 77,
   "metadata": {},
   "outputs": [
    {
     "data": {
      "text/html": [
       "<div>\n",
       "<style scoped>\n",
       "    .dataframe tbody tr th:only-of-type {\n",
       "        vertical-align: middle;\n",
       "    }\n",
       "\n",
       "    .dataframe tbody tr th {\n",
       "        vertical-align: top;\n",
       "    }\n",
       "\n",
       "    .dataframe thead th {\n",
       "        text-align: right;\n",
       "    }\n",
       "</style>\n",
       "<table border=\"1\" class=\"dataframe\">\n",
       "  <thead>\n",
       "    <tr style=\"text-align: right;\">\n",
       "      <th></th>\n",
       "      <th>aantipsych2</th>\n",
       "      <th>antianx2</th>\n",
       "      <th>anticonv2</th>\n",
       "      <th>antidepress2</th>\n",
       "      <th>moodstab2</th>\n",
       "      <th>ssri2</th>\n",
       "      <th>stim2</th>\n",
       "    </tr>\n",
       "  </thead>\n",
       "  <tbody>\n",
       "    <tr>\n",
       "      <th>min</th>\n",
       "      <td>-999999.0</td>\n",
       "      <td>-999999.0</td>\n",
       "      <td>-999999.0</td>\n",
       "      <td>-999999.0</td>\n",
       "      <td>-999999.0</td>\n",
       "      <td>-999999.0</td>\n",
       "      <td>-999999.0</td>\n",
       "    </tr>\n",
       "    <tr>\n",
       "      <th>25%</th>\n",
       "      <td>0.0</td>\n",
       "      <td>0.0</td>\n",
       "      <td>0.0</td>\n",
       "      <td>0.0</td>\n",
       "      <td>0.0</td>\n",
       "      <td>0.0</td>\n",
       "      <td>0.0</td>\n",
       "    </tr>\n",
       "    <tr>\n",
       "      <th>50%</th>\n",
       "      <td>0.0</td>\n",
       "      <td>0.0</td>\n",
       "      <td>0.0</td>\n",
       "      <td>0.0</td>\n",
       "      <td>0.0</td>\n",
       "      <td>0.0</td>\n",
       "      <td>0.0</td>\n",
       "    </tr>\n",
       "    <tr>\n",
       "      <th>75%</th>\n",
       "      <td>0.0</td>\n",
       "      <td>0.0</td>\n",
       "      <td>0.0</td>\n",
       "      <td>0.0</td>\n",
       "      <td>0.0</td>\n",
       "      <td>0.0</td>\n",
       "      <td>0.0</td>\n",
       "    </tr>\n",
       "    <tr>\n",
       "      <th>max</th>\n",
       "      <td>1.0</td>\n",
       "      <td>1.0</td>\n",
       "      <td>1.0</td>\n",
       "      <td>1.0</td>\n",
       "      <td>1.0</td>\n",
       "      <td>1.0</td>\n",
       "      <td>1.0</td>\n",
       "    </tr>\n",
       "  </tbody>\n",
       "</table>\n",
       "</div>"
      ],
      "text/plain": [
       "     aantipsych2  antianx2  anticonv2  antidepress2  moodstab2     ssri2  \\\n",
       "min    -999999.0 -999999.0  -999999.0     -999999.0  -999999.0 -999999.0   \n",
       "25%          0.0       0.0        0.0           0.0        0.0       0.0   \n",
       "50%          0.0       0.0        0.0           0.0        0.0       0.0   \n",
       "75%          0.0       0.0        0.0           0.0        0.0       0.0   \n",
       "max          1.0       1.0        1.0           1.0        1.0       1.0   \n",
       "\n",
       "        stim2  \n",
       "min -999999.0  \n",
       "25%       0.0  \n",
       "50%       0.0  \n",
       "75%       0.0  \n",
       "max       1.0  "
      ]
     },
     "execution_count": 77,
     "metadata": {},
     "output_type": "execute_result"
    }
   ],
   "source": [
    "mental_keepers.describe().iloc[3:]"
   ]
  },
  {
   "cell_type": "code",
   "execution_count": 78,
   "metadata": {},
   "outputs": [
    {
     "data": {
      "text/plain": [
       "aantipsych2     0\n",
       "antianx2        0\n",
       "anticonv2       0\n",
       "antidepress2    0\n",
       "moodstab2       1\n",
       "ssri2           0\n",
       "stim2           0\n",
       "dtype: int64"
      ]
     },
     "execution_count": 78,
     "metadata": {},
     "output_type": "execute_result"
    }
   ],
   "source": [
    "mental_keepers.isnull().sum()"
   ]
  },
  {
   "cell_type": "code",
   "execution_count": 79,
   "metadata": {},
   "outputs": [],
   "source": [
    "null_index = mental_keepers.isnull()"
   ]
  },
  {
   "cell_type": "code",
   "execution_count": 93,
   "metadata": {},
   "outputs": [
    {
     "data": {
      "text/html": [
       "<div>\n",
       "<style scoped>\n",
       "    .dataframe tbody tr th:only-of-type {\n",
       "        vertical-align: middle;\n",
       "    }\n",
       "\n",
       "    .dataframe tbody tr th {\n",
       "        vertical-align: top;\n",
       "    }\n",
       "\n",
       "    .dataframe thead th {\n",
       "        text-align: right;\n",
       "    }\n",
       "</style>\n",
       "<table border=\"1\" class=\"dataframe\">\n",
       "  <thead>\n",
       "    <tr style=\"text-align: right;\">\n",
       "      <th></th>\n",
       "      <th>aantipsych2</th>\n",
       "      <th>antianx2</th>\n",
       "      <th>anticonv2</th>\n",
       "      <th>antidepress2</th>\n",
       "      <th>moodstab2</th>\n",
       "      <th>ssri2</th>\n",
       "      <th>stim2</th>\n",
       "    </tr>\n",
       "  </thead>\n",
       "  <tbody>\n",
       "    <tr>\n",
       "      <th>6490</th>\n",
       "      <td>0.0</td>\n",
       "      <td>0.0</td>\n",
       "      <td>0.0</td>\n",
       "      <td>0.0</td>\n",
       "      <td>NaN</td>\n",
       "      <td>0.0</td>\n",
       "      <td>0.0</td>\n",
       "    </tr>\n",
       "  </tbody>\n",
       "</table>\n",
       "</div>"
      ],
      "text/plain": [
       "      aantipsych2  antianx2  anticonv2  antidepress2  moodstab2  ssri2  stim2\n",
       "6490          0.0       0.0        0.0           0.0        NaN    0.0    0.0"
      ]
     },
     "execution_count": 93,
     "metadata": {},
     "output_type": "execute_result"
    }
   ],
   "source": [
    "mental_keepers.query('moodstab2 not in [1,0,-999999]')"
   ]
  },
  {
   "cell_type": "markdown",
   "metadata": {},
   "source": [
    "Just in case, let's look at the rest of the columns in the same manner."
   ]
  },
  {
   "cell_type": "code",
   "execution_count": 95,
   "metadata": {},
   "outputs": [
    {
     "name": "stdout",
     "output_type": "stream",
     "text": [
      "aantipsych2: 0\n",
      "antianx2: 0\n",
      "anticonv2: 0\n",
      "antidepress2: 0\n",
      "ssri2: 0\n",
      "stim2: 0\n"
     ]
    }
   ],
   "source": [
    "print('aantipsych2:',len(mental_keepers.query('aantipsych2 not in [1,0,-999999]')))\n",
    "print('antianx2:',len(mental_keepers.query('antianx2 not in [1,0,-999999]')))\n",
    "print('anticonv2:',len(mental_keepers.query('anticonv2 not in [1,0,-999999]')))\n",
    "print('antidepress2:',len(mental_keepers.query('antidepress2 not in [1,0,-999999]')))\n",
    "print('ssri2:',len(mental_keepers.query('ssri2 not in [1,0,-999999]')))\n",
    "print('stim2:',len(mental_keepers.query('stim2 not in [1,0,-999999]')))"
   ]
  },
  {
   "cell_type": "markdown",
   "metadata": {},
   "source": [
    "Here is how to fix the NaN."
   ]
  },
  {
   "cell_type": "code",
   "execution_count": 99,
   "metadata": {},
   "outputs": [
    {
     "data": {
      "text/html": [
       "<div>\n",
       "<style scoped>\n",
       "    .dataframe tbody tr th:only-of-type {\n",
       "        vertical-align: middle;\n",
       "    }\n",
       "\n",
       "    .dataframe tbody tr th {\n",
       "        vertical-align: top;\n",
       "    }\n",
       "\n",
       "    .dataframe thead th {\n",
       "        text-align: right;\n",
       "    }\n",
       "</style>\n",
       "<table border=\"1\" class=\"dataframe\">\n",
       "  <thead>\n",
       "    <tr style=\"text-align: right;\">\n",
       "      <th></th>\n",
       "      <th>aantipsych2</th>\n",
       "      <th>antianx2</th>\n",
       "      <th>anticonv2</th>\n",
       "      <th>antidepress2</th>\n",
       "      <th>moodstab2</th>\n",
       "      <th>ssri2</th>\n",
       "      <th>stim2</th>\n",
       "    </tr>\n",
       "  </thead>\n",
       "  <tbody>\n",
       "    <tr>\n",
       "      <th>6490</th>\n",
       "      <td>0.0</td>\n",
       "      <td>0.0</td>\n",
       "      <td>0.0</td>\n",
       "      <td>0.0</td>\n",
       "      <td>-999999.0</td>\n",
       "      <td>0.0</td>\n",
       "      <td>0.0</td>\n",
       "    </tr>\n",
       "  </tbody>\n",
       "</table>\n",
       "</div>"
      ],
      "text/plain": [
       "      aantipsych2  antianx2  anticonv2  antidepress2  moodstab2  ssri2  stim2\n",
       "6490          0.0       0.0        0.0           0.0  -999999.0    0.0    0.0"
      ]
     },
     "execution_count": 99,
     "metadata": {},
     "output_type": "execute_result"
    }
   ],
   "source": [
    "mental_keepers.query('moodstab2 not in [1,0,-999999]').fillna(-999999)"
   ]
  },
  {
   "cell_type": "markdown",
   "metadata": {},
   "source": [
    "<font size=4 style=\"background-color:lightgreen;\">\n",
    "    Good! No duplicated PATIDs.\n",
    "</font>"
   ]
  },
  {
   "cell_type": "code",
   "execution_count": 820,
   "metadata": {},
   "outputs": [
    {
     "name": "stdout",
     "output_type": "stream",
     "text": [
      "N Records: 6923\n",
      "N Unique PATIDs: 6923\n"
     ]
    }
   ],
   "source": [
    "print('N Records:', mental.shape[0])\n",
    "print('N Unique PATIDs:', mental.patid.unique().shape[0])"
   ]
  },
  {
   "cell_type": "code",
   "execution_count": 711,
   "metadata": {},
   "outputs": [
    {
     "data": {
      "image/png": "[encoded data removed]",
      "text/plain": [
       "<Figure size 720x720 with 9 Axes>"
      ]
     },
     "metadata": {
      "needs_background": "light"
     },
     "output_type": "display_data"
    }
   ],
   "source": [
    "# Final\n",
    "mental_cols = ['patid','aantipsych2','antianx2','anticonv2','antidepress2','cantipsych2',\n",
    "           'moodstab2','ssri2','stim2',]\n",
    "mental = pd.read_csv('../data/raw/Derived Variables of Interest Participants Only.mental_ill_DB.csv',\n",
    "    usecols = mental_cols)\n",
    "mental.fillna(-999999, inplace=True)\n",
    "# Viz\n",
    "mental.replace(-999999,np.nan).dropna().hist(figsize=(10,10));"
   ]
  },
  {
   "cell_type": "code",
   "execution_count": 723,
   "metadata": {},
   "outputs": [
    {
     "name": "stdout",
     "output_type": "stream",
     "text": [
      "Mental Record Count: 6923\n"
     ]
    },
    {
     "data": {
      "text/plain": [
       "patid           S002-BISH-00001S002-BISH-00002S002-BISH-00003S...\n",
       "ssri2                                                          10\n",
       "antidepress2                                                   23\n",
       "cantipsych2                                                     2\n",
       "aantipsych2                                                     4\n",
       "moodstab2                                                       7\n",
       "stim2                                                           1\n",
       "antianx2                                                        1\n",
       "anticonv2                                                      12\n",
       "dtype: object"
      ]
     },
     "execution_count": 723,
     "metadata": {},
     "output_type": "execute_result"
    }
   ],
   "source": [
    "print('Mental Record Count:',len(mental))\n",
    "mental.replace(-999999,0).sum()"
   ]
  },
  {
   "cell_type": "code",
   "execution_count": 721,
   "metadata": {},
   "outputs": [
    {
     "data": {
      "text/plain": [
       "ssri2           0.14%\n",
       "antidepress2    0.33%\n",
       "cantipsych2     0.03%\n",
       "aantipsych2     0.06%\n",
       "moodstab2        0.1%\n",
       "stim2           0.01%\n",
       "antianx2        0.01%\n",
       "anticonv2       0.17%\n",
       "dtype: object"
      ]
     },
     "execution_count": 721,
     "metadata": {},
     "output_type": "execute_result"
    }
   ],
   "source": [
    "mental.replace(-999999,0).sum()[1:].map(lambda x: round(100*x/len(mental), 2)).map(lambda x: str(x)+'%')"
   ]
  },
  {
   "cell_type": "code",
   "execution_count": null,
   "metadata": {},
   "outputs": [],
   "source": []
  },
  {
   "cell_type": "code",
   "execution_count": null,
   "metadata": {},
   "outputs": [],
   "source": []
  },
  {
   "cell_type": "markdown",
   "metadata": {},
   "source": [
    "----------------------------------\n",
    "\n",
    "<font color='red' size=10>\n",
    "    <b>adafppappa_DB.csv</b>\n",
    "</font>\n",
    "\n",
    "In SharePoint file `mbh001/DemoMetaClinical_DataDictionary/DataDictionary/mbh001_Dictionary-of-Variable-terms_20181119_V2.xlsx` tab 1 (\"Demographic Variables\"), Dani green lights to keep the following vars:\n",
    "* AFPMoM\n",
    "\n",
    "However, in tab 2 (\"Demographic Variables Kept\"), Dani green lights an additional var with\n",
    "a comment (<i>\"check that the GAs are not too late!\"</i>:\n",
    "* AFPGA - GA at AFP Collection\n",
    "\n",
    "In other words, to avoid data leakage, we only want to keep AFPGA if it is measured before the \n",
    "3rd trimester.  Alternatively, we can assume that this measurement would be roughly the\n",
    "same in the 2nd trimester and keep it (for example, the mother's age is a variable where this\n",
    "assumption would hold just fine).  The maximum GA for this table is ~32.5 weeks, which is\n",
    "like halfway into the 3rd trimester... **TODO**: Find out what this variable means, then\n",
    "decide how to proceed.\n",
    "\n",
    "\n",
    "<font style=\"background-color:sandybrown;\">\n",
    "    <b>UPDATE (Dec 4, mtg w/ Dani)</b>: I showed Dani that the maximum GA of this \n",
    "    measurement was 32.5 weeks (min ~18.6 wks).  I argued that this is early enough\n",
    "    to ensure that a prediction can be made at a reasonable time (e.g., at 32-33 weeks) \n",
    "    and that, if we assume this measurement is fairly stable, then we can assume the later\n",
    "    ones would have measured similarly earlier on... She agreed, explaining what this table\n",
    "    measures: AFP (alpha-fetoprotein) and PAPPA (pregnancy associate plasma protein-A).  In\n",
    "    other words, this is a birth defects test (measures things like downs syndrome, placental\n",
    "    issues, and more).  <b>ACTION</b>: we can drop <font style=\"font-family:'Courier New';font-weight:bold;color:red;\">AFPGA</font> if we'd like to.\n",
    "</font>\n",
    "\n",
    "\n",
    "### FINAL Code...\n",
    "-----------------------------------\n",
    "```python\n",
    "adafppappa = pd.read_csv('../data/raw/adafppappa_DB.csv', usecols = ['PATID','AFPMoM'])\n",
    "adafppappa.columns = map(str.lower, adafppappa.columns)\n",
    "# Correct the Missing Value representation (-9999.99 --> -999999)\n",
    "adafppappa.afpmom = adafppappa.afpmom.map(lambda x: -999999 if x == -9999.99 else x)\n",
    "```\n",
    "----------------------------------"
   ]
  },
  {
   "cell_type": "code",
   "execution_count": 958,
   "metadata": {},
   "outputs": [],
   "source": [
    "adafppappa = pd.read_csv('../data/raw/adafppappa_DB.csv')"
   ]
  },
  {
   "cell_type": "code",
   "execution_count": 32,
   "metadata": {},
   "outputs": [
    {
     "data": {
      "text/plain": [
       "(1425, 14)"
      ]
     },
     "execution_count": 32,
     "metadata": {},
     "output_type": "execute_result"
    }
   ],
   "source": [
    "adafppappa.shape"
   ]
  },
  {
   "cell_type": "code",
   "execution_count": 33,
   "metadata": {},
   "outputs": [
    {
     "data": {
      "text/plain": [
       "Index(['PATID', 'Site', 'afpunit', 'AFPGA', 'AFPMoM', 'pappaunit', 'PAPPAGA',\n",
       "       'PAPPAMoM', 'Unnamed: 8', 'Unnamed: 9', 'Unnamed: 10', 'Unnamed: 11',\n",
       "       'Unnamed: 12', 'Unnamed: 13'],\n",
       "      dtype='object')"
      ]
     },
     "execution_count": 33,
     "metadata": {},
     "output_type": "execute_result"
    }
   ],
   "source": [
    "adafppappa.columns  # Unnamed "
   ]
  },
  {
   "cell_type": "code",
   "execution_count": 34,
   "metadata": {},
   "outputs": [
    {
     "data": {
      "text/plain": [
       "1425"
      ]
     },
     "execution_count": 34,
     "metadata": {},
     "output_type": "execute_result"
    }
   ],
   "source": [
    "len(adafppappa.PATID.unique())"
   ]
  },
  {
   "cell_type": "code",
   "execution_count": 35,
   "metadata": {},
   "outputs": [
    {
     "data": {
      "text/html": [
       "<div>\n",
       "<style scoped>\n",
       "    .dataframe tbody tr th:only-of-type {\n",
       "        vertical-align: middle;\n",
       "    }\n",
       "\n",
       "    .dataframe tbody tr th {\n",
       "        vertical-align: top;\n",
       "    }\n",
       "\n",
       "    .dataframe thead th {\n",
       "        text-align: right;\n",
       "    }\n",
       "</style>\n",
       "<table border=\"1\" class=\"dataframe\">\n",
       "  <thead>\n",
       "    <tr style=\"text-align: right;\">\n",
       "      <th></th>\n",
       "      <th>PATID</th>\n",
       "      <th>Site</th>\n",
       "      <th>afpunit</th>\n",
       "      <th>AFPGA</th>\n",
       "      <th>AFPMoM</th>\n",
       "      <th>pappaunit</th>\n",
       "      <th>PAPPAGA</th>\n",
       "      <th>PAPPAMoM</th>\n",
       "      <th>Unnamed: 8</th>\n",
       "      <th>Unnamed: 9</th>\n",
       "      <th>Unnamed: 10</th>\n",
       "      <th>Unnamed: 11</th>\n",
       "      <th>Unnamed: 12</th>\n",
       "      <th>Unnamed: 13</th>\n",
       "    </tr>\n",
       "  </thead>\n",
       "  <tbody>\n",
       "    <tr>\n",
       "      <th>0</th>\n",
       "      <td>S002-BISH-00843</td>\n",
       "      <td>BISH</td>\n",
       "      <td>NaN</td>\n",
       "      <td>-9999.99</td>\n",
       "      <td>-9999.99</td>\n",
       "      <td>IU/L</td>\n",
       "      <td>56.0</td>\n",
       "      <td>-999999.0</td>\n",
       "      <td>NaN</td>\n",
       "      <td>NaN</td>\n",
       "      <td>NaN</td>\n",
       "      <td>NaN</td>\n",
       "      <td>NaN</td>\n",
       "      <td>NaN</td>\n",
       "    </tr>\n",
       "    <tr>\n",
       "      <th>1</th>\n",
       "      <td>S002-BISH-00102</td>\n",
       "      <td>BISH</td>\n",
       "      <td>NaN</td>\n",
       "      <td>-9999.99</td>\n",
       "      <td>-9999.99</td>\n",
       "      <td>IU/L</td>\n",
       "      <td>61.0</td>\n",
       "      <td>-999999.0</td>\n",
       "      <td>NaN</td>\n",
       "      <td>NaN</td>\n",
       "      <td>NaN</td>\n",
       "      <td>NaN</td>\n",
       "      <td>NaN</td>\n",
       "      <td>NaN</td>\n",
       "    </tr>\n",
       "    <tr>\n",
       "      <th>2</th>\n",
       "      <td>S002-BISH-00099</td>\n",
       "      <td>BISH</td>\n",
       "      <td>NaN</td>\n",
       "      <td>-9999.99</td>\n",
       "      <td>-9999.99</td>\n",
       "      <td>IU/L</td>\n",
       "      <td>62.0</td>\n",
       "      <td>-999999.0</td>\n",
       "      <td>NaN</td>\n",
       "      <td>NaN</td>\n",
       "      <td>NaN</td>\n",
       "      <td>NaN</td>\n",
       "      <td>NaN</td>\n",
       "      <td>NaN</td>\n",
       "    </tr>\n",
       "    <tr>\n",
       "      <th>3</th>\n",
       "      <td>S002-BISH-00326</td>\n",
       "      <td>BISH</td>\n",
       "      <td>NaN</td>\n",
       "      <td>-9999.99</td>\n",
       "      <td>-9999.99</td>\n",
       "      <td>IU/L</td>\n",
       "      <td>65.0</td>\n",
       "      <td>-999999.0</td>\n",
       "      <td>NaN</td>\n",
       "      <td>NaN</td>\n",
       "      <td>NaN</td>\n",
       "      <td>NaN</td>\n",
       "      <td>NaN</td>\n",
       "      <td>NaN</td>\n",
       "    </tr>\n",
       "    <tr>\n",
       "      <th>4</th>\n",
       "      <td>S002-BISH-01702</td>\n",
       "      <td>BISH</td>\n",
       "      <td>NaN</td>\n",
       "      <td>-9999.99</td>\n",
       "      <td>-9999.99</td>\n",
       "      <td>IU/L</td>\n",
       "      <td>65.0</td>\n",
       "      <td>-999999.0</td>\n",
       "      <td>NaN</td>\n",
       "      <td>NaN</td>\n",
       "      <td>NaN</td>\n",
       "      <td>NaN</td>\n",
       "      <td>NaN</td>\n",
       "      <td>NaN</td>\n",
       "    </tr>\n",
       "  </tbody>\n",
       "</table>\n",
       "</div>"
      ],
      "text/plain": [
       "             PATID  Site afpunit    AFPGA   AFPMoM pappaunit  PAPPAGA  \\\n",
       "0  S002-BISH-00843  BISH     NaN -9999.99 -9999.99      IU/L     56.0   \n",
       "1  S002-BISH-00102  BISH     NaN -9999.99 -9999.99      IU/L     61.0   \n",
       "2  S002-BISH-00099  BISH     NaN -9999.99 -9999.99      IU/L     62.0   \n",
       "3  S002-BISH-00326  BISH     NaN -9999.99 -9999.99      IU/L     65.0   \n",
       "4  S002-BISH-01702  BISH     NaN -9999.99 -9999.99      IU/L     65.0   \n",
       "\n",
       "   PAPPAMoM  Unnamed: 8 Unnamed: 9 Unnamed: 10  Unnamed: 11  Unnamed: 12  \\\n",
       "0 -999999.0         NaN        NaN         NaN          NaN          NaN   \n",
       "1 -999999.0         NaN        NaN         NaN          NaN          NaN   \n",
       "2 -999999.0         NaN        NaN         NaN          NaN          NaN   \n",
       "3 -999999.0         NaN        NaN         NaN          NaN          NaN   \n",
       "4 -999999.0         NaN        NaN         NaN          NaN          NaN   \n",
       "\n",
       "  Unnamed: 13  \n",
       "0         NaN  \n",
       "1         NaN  \n",
       "2         NaN  \n",
       "3         NaN  \n",
       "4         NaN  "
      ]
     },
     "execution_count": 35,
     "metadata": {},
     "output_type": "execute_result"
    }
   ],
   "source": [
    "adafppappa.head()"
   ]
  },
  {
   "cell_type": "code",
   "execution_count": 50,
   "metadata": {},
   "outputs": [
    {
     "data": {
      "text/html": [
       "<div>\n",
       "<style scoped>\n",
       "    .dataframe tbody tr th:only-of-type {\n",
       "        vertical-align: middle;\n",
       "    }\n",
       "\n",
       "    .dataframe tbody tr th {\n",
       "        vertical-align: top;\n",
       "    }\n",
       "\n",
       "    .dataframe thead th {\n",
       "        text-align: right;\n",
       "    }\n",
       "</style>\n",
       "<table border=\"1\" class=\"dataframe\">\n",
       "  <thead>\n",
       "    <tr style=\"text-align: right;\">\n",
       "      <th></th>\n",
       "      <th>PATID</th>\n",
       "      <th>Site</th>\n",
       "      <th>afpunit</th>\n",
       "      <th>AFPGA</th>\n",
       "      <th>AFPMoM</th>\n",
       "      <th>pappaunit</th>\n",
       "      <th>PAPPAGA</th>\n",
       "      <th>PAPPAMoM</th>\n",
       "    </tr>\n",
       "  </thead>\n",
       "  <tbody>\n",
       "    <tr>\n",
       "      <th>0</th>\n",
       "      <td>S002-BISH-00843</td>\n",
       "      <td>BISH</td>\n",
       "      <td>NaN</td>\n",
       "      <td>-9999.99</td>\n",
       "      <td>-9999.99</td>\n",
       "      <td>IU/L</td>\n",
       "      <td>56.0</td>\n",
       "      <td>-999999.0</td>\n",
       "    </tr>\n",
       "    <tr>\n",
       "      <th>1</th>\n",
       "      <td>S002-BISH-00102</td>\n",
       "      <td>BISH</td>\n",
       "      <td>NaN</td>\n",
       "      <td>-9999.99</td>\n",
       "      <td>-9999.99</td>\n",
       "      <td>IU/L</td>\n",
       "      <td>61.0</td>\n",
       "      <td>-999999.0</td>\n",
       "    </tr>\n",
       "    <tr>\n",
       "      <th>2</th>\n",
       "      <td>S002-BISH-00099</td>\n",
       "      <td>BISH</td>\n",
       "      <td>NaN</td>\n",
       "      <td>-9999.99</td>\n",
       "      <td>-9999.99</td>\n",
       "      <td>IU/L</td>\n",
       "      <td>62.0</td>\n",
       "      <td>-999999.0</td>\n",
       "    </tr>\n",
       "    <tr>\n",
       "      <th>3</th>\n",
       "      <td>S002-BISH-00326</td>\n",
       "      <td>BISH</td>\n",
       "      <td>NaN</td>\n",
       "      <td>-9999.99</td>\n",
       "      <td>-9999.99</td>\n",
       "      <td>IU/L</td>\n",
       "      <td>65.0</td>\n",
       "      <td>-999999.0</td>\n",
       "    </tr>\n",
       "    <tr>\n",
       "      <th>4</th>\n",
       "      <td>S002-BISH-01702</td>\n",
       "      <td>BISH</td>\n",
       "      <td>NaN</td>\n",
       "      <td>-9999.99</td>\n",
       "      <td>-9999.99</td>\n",
       "      <td>IU/L</td>\n",
       "      <td>65.0</td>\n",
       "      <td>-999999.0</td>\n",
       "    </tr>\n",
       "  </tbody>\n",
       "</table>\n",
       "</div>"
      ],
      "text/plain": [
       "             PATID  Site afpunit    AFPGA   AFPMoM pappaunit  PAPPAGA  \\\n",
       "0  S002-BISH-00843  BISH     NaN -9999.99 -9999.99      IU/L     56.0   \n",
       "1  S002-BISH-00102  BISH     NaN -9999.99 -9999.99      IU/L     61.0   \n",
       "2  S002-BISH-00099  BISH     NaN -9999.99 -9999.99      IU/L     62.0   \n",
       "3  S002-BISH-00326  BISH     NaN -9999.99 -9999.99      IU/L     65.0   \n",
       "4  S002-BISH-01702  BISH     NaN -9999.99 -9999.99      IU/L     65.0   \n",
       "\n",
       "   PAPPAMoM  \n",
       "0 -999999.0  \n",
       "1 -999999.0  \n",
       "2 -999999.0  \n",
       "3 -999999.0  \n",
       "4 -999999.0  "
      ]
     },
     "execution_count": 50,
     "metadata": {},
     "output_type": "execute_result"
    }
   ],
   "source": [
    "adafppappa.filter(regex='^[^U]').head()"
   ]
  },
  {
   "cell_type": "code",
   "execution_count": 51,
   "metadata": {},
   "outputs": [
    {
     "data": {
      "text/html": [
       "<div>\n",
       "<style scoped>\n",
       "    .dataframe tbody tr th:only-of-type {\n",
       "        vertical-align: middle;\n",
       "    }\n",
       "\n",
       "    .dataframe tbody tr th {\n",
       "        vertical-align: top;\n",
       "    }\n",
       "\n",
       "    .dataframe thead th {\n",
       "        text-align: right;\n",
       "    }\n",
       "</style>\n",
       "<table border=\"1\" class=\"dataframe\">\n",
       "  <thead>\n",
       "    <tr style=\"text-align: right;\">\n",
       "      <th></th>\n",
       "      <th>AFPGA</th>\n",
       "      <th>AFPMoM</th>\n",
       "      <th>PAPPAGA</th>\n",
       "      <th>PAPPAMoM</th>\n",
       "    </tr>\n",
       "  </thead>\n",
       "  <tbody>\n",
       "    <tr>\n",
       "      <th>min</th>\n",
       "      <td>-9999.99</td>\n",
       "      <td>-9999.99</td>\n",
       "      <td>-999999.0</td>\n",
       "      <td>-999999.0</td>\n",
       "    </tr>\n",
       "    <tr>\n",
       "      <th>25%</th>\n",
       "      <td>151.00</td>\n",
       "      <td>0.67</td>\n",
       "      <td>-999999.0</td>\n",
       "      <td>-999999.0</td>\n",
       "    </tr>\n",
       "    <tr>\n",
       "      <th>50%</th>\n",
       "      <td>159.00</td>\n",
       "      <td>0.88</td>\n",
       "      <td>-999999.0</td>\n",
       "      <td>-999999.0</td>\n",
       "    </tr>\n",
       "    <tr>\n",
       "      <th>75%</th>\n",
       "      <td>163.00</td>\n",
       "      <td>1.13</td>\n",
       "      <td>-999999.0</td>\n",
       "      <td>-999999.0</td>\n",
       "    </tr>\n",
       "    <tr>\n",
       "      <th>max</th>\n",
       "      <td>227.00</td>\n",
       "      <td>7.73</td>\n",
       "      <td>617.0</td>\n",
       "      <td>-999999.0</td>\n",
       "    </tr>\n",
       "  </tbody>\n",
       "</table>\n",
       "</div>"
      ],
      "text/plain": [
       "       AFPGA   AFPMoM   PAPPAGA  PAPPAMoM\n",
       "min -9999.99 -9999.99 -999999.0 -999999.0\n",
       "25%   151.00     0.67 -999999.0 -999999.0\n",
       "50%   159.00     0.88 -999999.0 -999999.0\n",
       "75%   163.00     1.13 -999999.0 -999999.0\n",
       "max   227.00     7.73     617.0 -999999.0"
      ]
     },
     "execution_count": 51,
     "metadata": {},
     "output_type": "execute_result"
    }
   ],
   "source": [
    "adafppappa.filter(regex='^[^U]').describe()[3:]"
   ]
  },
  {
   "cell_type": "code",
   "execution_count": 102,
   "metadata": {},
   "outputs": [],
   "source": [
    "adafppappa_keepers = adafppappa[['AFPMoM']]"
   ]
  },
  {
   "cell_type": "code",
   "execution_count": 104,
   "metadata": {},
   "outputs": [
    {
     "data": {
      "text/plain": [
       "AFPMoM    0\n",
       "dtype: int64"
      ]
     },
     "execution_count": 104,
     "metadata": {},
     "output_type": "execute_result"
    }
   ],
   "source": [
    "adafppappa_keepers.isnull().sum()"
   ]
  },
  {
   "cell_type": "code",
   "execution_count": 324,
   "metadata": {},
   "outputs": [
    {
     "data": {
      "text/plain": [
       "227.0"
      ]
     },
     "execution_count": 324,
     "metadata": {},
     "output_type": "execute_result"
    }
   ],
   "source": [
    "adafppappa.AFPGA.max() # Days"
   ]
  },
  {
   "cell_type": "code",
   "execution_count": 973,
   "metadata": {},
   "outputs": [
    {
     "name": "stdout",
     "output_type": "stream",
     "text": [
      "MAX GA [Wks]: 32.4\n"
     ]
    }
   ],
   "source": [
    "print('MAX GA [Wks]:',round(adafppappa.AFPGA.max()/7, 1)) # Weeks"
   ]
  },
  {
   "cell_type": "code",
   "execution_count": 959,
   "metadata": {},
   "outputs": [
    {
     "data": {
      "text/plain": [
       "-1428.6"
      ]
     },
     "execution_count": 959,
     "metadata": {},
     "output_type": "execute_result"
    }
   ],
   "source": [
    "round(adafppappa.AFPGA.min()/7, 1) # Weeks  (Duh, this is -9999.99/7)"
   ]
  },
  {
   "cell_type": "code",
   "execution_count": 968,
   "metadata": {},
   "outputs": [
    {
     "data": {
      "text/plain": [
       "<matplotlib.axes._subplots.AxesSubplot at 0x138d42b70>"
      ]
     },
     "execution_count": 968,
     "metadata": {},
     "output_type": "execute_result"
    },
    {
     "data": {
      "image/png": "[encoded data removed]",
      "text/plain": [
       "<Figure size 432x288 with 1 Axes>"
      ]
     },
     "metadata": {
      "needs_background": "light"
     },
     "output_type": "display_data"
    }
   ],
   "source": [
    "adafppappa['AFPGA'].replace(-9999.99,np.nan).dropna().map(lambda x: x/7).hist(bins=30)"
   ]
  },
  {
   "cell_type": "code",
   "execution_count": 972,
   "metadata": {},
   "outputs": [
    {
     "name": "stdout",
     "output_type": "stream",
     "text": [
      "MIN GA [Wks]: 18.6\n"
     ]
    }
   ],
   "source": [
    "print('MIN GA [Wks]:',round(adafppappa['AFPGA'].replace(-9999.99,np.nan).min()/7, 1)) # Weeks "
   ]
  },
  {
   "cell_type": "code",
   "execution_count": 708,
   "metadata": {},
   "outputs": [
    {
     "data": {
      "text/plain": [
       "0   -999999.00\n",
       "1   -999999.00\n",
       "2   -999999.00\n",
       "3   -999999.00\n",
       "4   -999999.00\n",
       "5         0.88\n",
       "6   -999999.00\n",
       "7   -999999.00\n",
       "8         0.88\n",
       "9   -999999.00\n",
       "Name: afpmom, dtype: float64"
      ]
     },
     "execution_count": 708,
     "metadata": {},
     "output_type": "execute_result"
    }
   ],
   "source": [
    "# Missing value SHOULD BE -999999 (not -9999.99)\n",
    "adafppappa.afpmom.map(lambda x: -999999 if x == -9999.99 else x)[:10]"
   ]
  },
  {
   "cell_type": "markdown",
   "metadata": {},
   "source": [
    "<font size=4 style=\"background-color:lightgreen;\">\n",
    "    Good! No duplicated PATIDs.\n",
    "</font>"
   ]
  },
  {
   "cell_type": "code",
   "execution_count": 821,
   "metadata": {},
   "outputs": [
    {
     "name": "stdout",
     "output_type": "stream",
     "text": [
      "N Records: 1425\n",
      "N Unique PATIDs: 1425\n"
     ]
    }
   ],
   "source": [
    "print('N Records:', adafppappa.shape[0])\n",
    "print('N Unique PATIDs:', adafppappa.patid.unique().shape[0])"
   ]
  },
  {
   "cell_type": "code",
   "execution_count": 706,
   "metadata": {},
   "outputs": [
    {
     "data": {
      "image/png": "[encoded data removed]",
      "text/plain": [
       "<Figure size 432x288 with 1 Axes>"
      ]
     },
     "metadata": {
      "needs_background": "light"
     },
     "output_type": "display_data"
    }
   ],
   "source": [
    "adafppappa = pd.read_csv('../data/raw/adafppappa_DB.csv', usecols = ['PATID','AFPMoM'])\n",
    "adafppappa.columns = map(str.lower, adafppappa.columns)\n",
    "adafppappa.afpmom = adafppappa.afpmom.map(lambda x: -999999 if x == -9999.99 else x)\n",
    "# Viz\n",
    "adafppappa.replace(-999999,np.nan).dropna().hist();"
   ]
  },
  {
   "cell_type": "code",
   "execution_count": null,
   "metadata": {},
   "outputs": [],
   "source": []
  },
  {
   "cell_type": "code",
   "execution_count": null,
   "metadata": {},
   "outputs": [],
   "source": []
  },
  {
   "cell_type": "markdown",
   "metadata": {},
   "source": [
    "-------------------------\n",
    "\n",
    "<font color='red' size=20>\n",
    "    <b>adalc_patid_DB.csv</b>\n",
    "</font>\n",
    "\n",
    "<br>\n",
    "\n",
    "<font style=\"background-color:sandybrown;\">\n",
    "    <b>UPDATE 1 (Dec 4, mtg w/ Dani)</b>: The \"adalc_patid_DB.csv\" table that this section is based\n",
    "    off of no longer exists.  While going over this section, Dani realized that she copied-and-pasted\n",
    "    the wrong tab of data, which helps explain some of file's oddness (e.g., the analysis section left in\n",
    "    the CSV file).  During the meeting, Dani corrected the file.  To avoid having a bad data file laying\n",
    "    around, we just deleted the old file and replaced it with the new one.  (In other words, the analysis\n",
    "    below can no longer be replicated, so leave those cells alone!)\n",
    "</font><br><br>\n",
    "<font style=\"background-color:sandybrown;\">\n",
    "    <b>UPDATE 2</b>: Given that I misinterpreted the Excel tabs, the variables I put in bold are\n",
    "    NOT the only variables of interest: the whole list is!  That is, the V2 Excel file, the \n",
    "    \"Demographics Variables Kept\" tab was Dani's first attempt at identifying interesting variables\n",
    "    (but which I interpreted as her final ruling in this JNB), while the first tab (\"Demographic Variables\")\n",
    "    was supposed to be her final ruling.  However, we found some inconsistencies in keeping true to\n",
    "    this distinction, so she is making up better, cleaned up version of the Excel file (v3), while I'll\n",
    "    be putting together a companion JNB to this one (02b__KU__2019-Dec-04__...).\n",
    "</font><br><br>\n",
    "<font style=\"background-color:sandybrown;\">\n",
    "    <b>ACTION</b>: tweak the code to respect the lessons learned (keep the larger list of vars, use\n",
    "    the corrected data file, etc).\n",
    "</font>\n",
    "\n",
    "In SharePoint file `mbh001/DemoMetaClinical_DataDictionary/DataDictionary/mbh001_Dictionary-of-Variable-terms_20181119_V2.xlsx`  tab 1 (\"Demographic Variables\"), Dani greenlights the following vars for further\n",
    "inspection:\n",
    "\n",
    "* **patid**\n",
    "* **Binge7T12**\n",
    "* **Binge7T22**\n",
    "* **BingeCountT1** - Total Binge Episodes in Trimester 1 (GA: 0 to 97)\n",
    "* **BingeCountT2** - Total Binge Episodes  in Trimester 2 (GA: 98 to 195)\n",
    "* **DrankAroundLMP2** - Drank Around LMP (GA: -15 to 15)\n",
    "* **MaxConsDDaysT1** - Maximum Number of Consecutive Drinking Days in Trimester 1 (GA: 0 to 97)\n",
    "* **MaxConsDDaysT2** - Maximum Number of Consecutive Drinking Days in Trimester 2 (GA: 98 to 195)\n",
    "* **OneYrPrior6**\n",
    "* **TotalStdDrinksLMP**\n",
    "* **TotalStdDrinksT1**\n",
    "* **TotalStdDrinksT2**\n",
    "* HairLMP2\n",
    "* HairT12\n",
    "* HairT22\n",
    "* Meth1YrPrior6\n",
    "* MethLMP2\n",
    "* MethT12\n",
    "* MethT22\n",
    "* MJLMP2\n",
    "* MJT12\n",
    "* MJT22\n",
    "* Other1YrPrior2\n",
    "* OtherLMP2\n",
    "* OtherT12\n",
    "* OtherT22\n",
    "\n",
    "\n",
    "\n",
    "This var set is reduced in tab 2 of that file (\"Demographic Variables Kept\"); the remaining\n",
    "variables from tab1 are marked in bold above.  \n",
    "\n",
    "**RESOLVE THIS**: Tab2 includes the two `Bing7T*` vars, but only as commented variables \n",
    "(<i>\"Using month data is better but month or week have no GA info\"</i>) -- not greenlit. Point: Do\n",
    "we want to use them or not?<font style=\"background-color:lightgreen;\">No worries... There were quite a few hiccups and everything is being revamped; see various UPDATEs in this section.</font>\n",
    "\n",
    "**NOTE**: this tab also includes an additional \n",
    "greenlit var as well (which is not included in the corresponding CSV file):\n",
    "* **MoreThan1YrPrior2** - Drank More Than 1 Year Prior to Pregnancy\n",
    "    - Honestly, it doesn't seem like this one is worth fretting over, but (**TODO**) I should\n",
    "      still bring it up to Dani for resolution.\n",
    "\n",
    "Only 13 cols are listed in the corresponding CSV file -- the 12 listed in bold above from tab1, plus \n",
    "* **Drank1YrPrior2** - Drank in the Year Prior to Pregnancy  \n",
    "    - this seems to be in place of **MoreThan1YrPrior2**\n",
    "\n",
    "<font style=\"background-color:yellow;\">\n",
    "    <b>IMPORTANT</b>: Follow up w/ Dani about `adalc_patid` var she marked for saving, but which does\n",
    "    not appear in her `adalc_patid` CSV file.\n",
    "</font><font style=\"background-color:lightgreen;\">No worries... There were quite a few hiccups and\n",
    "    everything is being revamped; see various UPDATEs in this section.</font>\n",
    "\n",
    "\n",
    "<br>\n",
    "\n",
    "**WARNING**: if you use `pd.read_csv` defaults, you will see a lot of weird stuff, like over 1000\n",
    "\"Unnamed\" columns, as well as a column with the name \"6.00\".  If you open up the CSV file, \n",
    "you will find this is because the data columns only span columns A - M, housing the variables\n",
    "OneYrPrior6, Drank1YrPrior2, DrankAroundLMP2, BingeCountT1, BingeCountT2, Binge7T12, Binge7T22,\n",
    "MaxConsDDaysT1, MaxConsDDaysT2, TotalStdDrinksLMP, TotalStdDrinksT1, and TotalStdDrinksT2.  After\n",
    "column M, there are several blank columns, then an analysis Dani did (probably forgot to remove\n",
    "it from the final CSV file).<font style=\"background-color:lightgreen;\">No worries... There were quite a few hiccups and everything is being revamped; see various UPDATEs in this section.</font>\n",
    "\n",
    "<br>\n",
    "\n",
    "\n",
    "\n",
    "\n",
    "### Final Code...\n",
    "---------------------------\n",
    "```python\n",
    "adalc = pd.read_csv('../data/raw/adalc_patid_DB.csv', usecols=range(0,12))\n",
    "adalc.columns = map(str.lower, adalc.columns)\n",
    "```\n",
    "--------------------------------"
   ]
  },
  {
   "cell_type": "code",
   "execution_count": 106,
   "metadata": {},
   "outputs": [
    {
     "name": "stderr",
     "output_type": "stream",
     "text": [
      "/Users/kevinurban/miniconda3/lib/python3.7/site-packages/IPython/core/interactiveshell.py:3044: DtypeWarning: Columns (19,20,21,23,24,44,45,1684,1685) have mixed types. Specify dtype option on import or set low_memory=False.\n",
      "  interactivity=interactivity, compiler=compiler, result=result)\n"
     ]
    }
   ],
   "source": [
    "adalc = pd.read_csv('../data/raw/adalc_patid_DB.csv')"
   ]
  },
  {
   "cell_type": "code",
   "execution_count": 110,
   "metadata": {},
   "outputs": [
    {
     "data": {
      "text/plain": [
       "Index(['patid', 'OneYrPrior6', 'Drank1YrPrior2', 'DrankAroundLMP2',\n",
       "       'BingeCountT1', 'BingeCountT2', 'Binge7T12', 'Binge7T22',\n",
       "       'MaxConsDDaysT1', 'MaxConsDDaysT2',\n",
       "       ...\n",
       "       'Unnamed: 1676', 'Unnamed: 1677', 'Unnamed: 1678', 'Unnamed: 1679',\n",
       "       'Unnamed: 1680', 'Unnamed: 1681', 'Unnamed: 1682', 'Unnamed: 1683',\n",
       "       'Unnamed: 1684', 'Unnamed: 1685'],\n",
       "      dtype='object', length=1686)"
      ]
     },
     "execution_count": 110,
     "metadata": {},
     "output_type": "execute_result"
    }
   ],
   "source": [
    "adalc.columns"
   ]
  },
  {
   "cell_type": "code",
   "execution_count": 126,
   "metadata": {},
   "outputs": [
    {
     "data": {
      "text/plain": [
       "['patid',\n",
       " 'OneYrPrior6',\n",
       " 'Drank1YrPrior2',\n",
       " 'DrankAroundLMP2',\n",
       " 'BingeCountT1',\n",
       " 'BingeCountT2',\n",
       " 'Binge7T12',\n",
       " 'Binge7T22',\n",
       " 'MaxConsDDaysT1',\n",
       " 'MaxConsDDaysT2',\n",
       " 'TotalStdDrinksLMP',\n",
       " 'TotalStdDrinksT1',\n",
       " 'TotalStdDrinksT2',\n",
       " 'Unnamed: 13',\n",
       " 'Unnamed: 14',\n",
       " 'Unnamed: 15',\n",
       " 'Unnamed: 16',\n",
       " 'Unnamed: 17',\n",
       " 'Unnamed: 18',\n",
       " 'Unnamed: 19',\n",
       " 'Unnamed: 20',\n",
       " '6.00',\n",
       " 'Unnamed: 22',\n",
       " 'Unnamed: 23',\n",
       " 'Unnamed: 24',\n",
       " 'Unnamed: 25',\n",
       " 'Unnamed: 26',\n",
       " 'Unnamed: 27',\n",
       " 'Unnamed: 28',\n",
       " 'Unnamed: 29']"
      ]
     },
     "execution_count": 126,
     "metadata": {},
     "output_type": "execute_result"
    }
   ],
   "source": [
    "[item for item in adalc.columns][:30]"
   ]
  },
  {
   "cell_type": "code",
   "execution_count": 123,
   "metadata": {},
   "outputs": [
    {
     "data": {
      "text/plain": [
       "Index(['patid', 'OneYrPrior6', 'Drank1YrPrior2', 'DrankAroundLMP2',\n",
       "       'BingeCountT1', 'BingeCountT2', 'Binge7T12', 'Binge7T22',\n",
       "       'MaxConsDDaysT1', 'MaxConsDDaysT2', 'TotalStdDrinksLMP',\n",
       "       'TotalStdDrinksT1', 'TotalStdDrinksT2', '6.00'],\n",
       "      dtype='object')"
      ]
     },
     "execution_count": 123,
     "metadata": {},
     "output_type": "execute_result"
    }
   ],
   "source": [
    "adalc.filter(regex='^[^U]').columns"
   ]
  },
  {
   "cell_type": "code",
   "execution_count": 137,
   "metadata": {},
   "outputs": [],
   "source": [
    "adalc = pd.read_csv('../data/raw/adalc_patid_DB.csv', usecols=range(0,12))"
   ]
  },
  {
   "cell_type": "code",
   "execution_count": 138,
   "metadata": {},
   "outputs": [
    {
     "data": {
      "text/plain": [
       "Index(['patid', 'OneYrPrior6', 'Drank1YrPrior2', 'DrankAroundLMP2',\n",
       "       'BingeCountT1', 'BingeCountT2', 'Binge7T12', 'Binge7T22',\n",
       "       'MaxConsDDaysT1', 'MaxConsDDaysT2', 'TotalStdDrinksLMP',\n",
       "       'TotalStdDrinksT1'],\n",
       "      dtype='object')"
      ]
     },
     "execution_count": 138,
     "metadata": {},
     "output_type": "execute_result"
    }
   ],
   "source": [
    "adalc.columns"
   ]
  },
  {
   "cell_type": "code",
   "execution_count": 139,
   "metadata": {},
   "outputs": [
    {
     "data": {
      "text/plain": [
       "patid                0\n",
       "OneYrPrior6          0\n",
       "Drank1YrPrior2       0\n",
       "DrankAroundLMP2      0\n",
       "BingeCountT1         0\n",
       "BingeCountT2         0\n",
       "Binge7T12            0\n",
       "Binge7T22            0\n",
       "MaxConsDDaysT1       0\n",
       "MaxConsDDaysT2       0\n",
       "TotalStdDrinksLMP    0\n",
       "TotalStdDrinksT1     0\n",
       "dtype: int64"
      ]
     },
     "execution_count": 139,
     "metadata": {},
     "output_type": "execute_result"
    }
   ],
   "source": [
    "adalc.isnull().sum()"
   ]
  },
  {
   "cell_type": "code",
   "execution_count": 141,
   "metadata": {},
   "outputs": [
    {
     "data": {
      "text/html": [
       "<div>\n",
       "<style scoped>\n",
       "    .dataframe tbody tr th:only-of-type {\n",
       "        vertical-align: middle;\n",
       "    }\n",
       "\n",
       "    .dataframe tbody tr th {\n",
       "        vertical-align: top;\n",
       "    }\n",
       "\n",
       "    .dataframe thead th {\n",
       "        text-align: right;\n",
       "    }\n",
       "</style>\n",
       "<table border=\"1\" class=\"dataframe\">\n",
       "  <thead>\n",
       "    <tr style=\"text-align: right;\">\n",
       "      <th></th>\n",
       "      <th>patid</th>\n",
       "      <th>OneYrPrior6</th>\n",
       "      <th>Drank1YrPrior2</th>\n",
       "      <th>DrankAroundLMP2</th>\n",
       "      <th>BingeCountT1</th>\n",
       "      <th>BingeCountT2</th>\n",
       "      <th>Binge7T12</th>\n",
       "      <th>Binge7T22</th>\n",
       "      <th>MaxConsDDaysT1</th>\n",
       "      <th>MaxConsDDaysT2</th>\n",
       "      <th>TotalStdDrinksLMP</th>\n",
       "      <th>TotalStdDrinksT1</th>\n",
       "    </tr>\n",
       "  </thead>\n",
       "  <tbody>\n",
       "    <tr>\n",
       "      <th>0</th>\n",
       "      <td>S002-BISH-03570</td>\n",
       "      <td>0.0</td>\n",
       "      <td>0.0</td>\n",
       "      <td>0.0</td>\n",
       "      <td>0.0</td>\n",
       "      <td>0.0</td>\n",
       "      <td>0.0</td>\n",
       "      <td>0.0</td>\n",
       "      <td>0.0</td>\n",
       "      <td>0.0</td>\n",
       "      <td>0.0</td>\n",
       "      <td>0.0</td>\n",
       "    </tr>\n",
       "    <tr>\n",
       "      <th>1</th>\n",
       "      <td>S002-BISH-04245</td>\n",
       "      <td>0.0</td>\n",
       "      <td>0.0</td>\n",
       "      <td>0.0</td>\n",
       "      <td>0.0</td>\n",
       "      <td>0.0</td>\n",
       "      <td>0.0</td>\n",
       "      <td>0.0</td>\n",
       "      <td>0.0</td>\n",
       "      <td>0.0</td>\n",
       "      <td>0.0</td>\n",
       "      <td>0.0</td>\n",
       "    </tr>\n",
       "    <tr>\n",
       "      <th>2</th>\n",
       "      <td>S002-BISH-05802</td>\n",
       "      <td>0.0</td>\n",
       "      <td>0.0</td>\n",
       "      <td>0.0</td>\n",
       "      <td>0.0</td>\n",
       "      <td>0.0</td>\n",
       "      <td>0.0</td>\n",
       "      <td>0.0</td>\n",
       "      <td>0.0</td>\n",
       "      <td>0.0</td>\n",
       "      <td>0.0</td>\n",
       "      <td>0.0</td>\n",
       "    </tr>\n",
       "    <tr>\n",
       "      <th>3</th>\n",
       "      <td>S002-BISH-00003</td>\n",
       "      <td>1.0</td>\n",
       "      <td>1.0</td>\n",
       "      <td>0.0</td>\n",
       "      <td>0.0</td>\n",
       "      <td>0.0</td>\n",
       "      <td>0.0</td>\n",
       "      <td>0.0</td>\n",
       "      <td>0.0</td>\n",
       "      <td>0.0</td>\n",
       "      <td>0.0</td>\n",
       "      <td>0.0</td>\n",
       "    </tr>\n",
       "    <tr>\n",
       "      <th>4</th>\n",
       "      <td>S002-BISH-00004</td>\n",
       "      <td>1.0</td>\n",
       "      <td>1.0</td>\n",
       "      <td>0.0</td>\n",
       "      <td>0.0</td>\n",
       "      <td>0.0</td>\n",
       "      <td>0.0</td>\n",
       "      <td>0.0</td>\n",
       "      <td>0.0</td>\n",
       "      <td>0.0</td>\n",
       "      <td>0.0</td>\n",
       "      <td>0.0</td>\n",
       "    </tr>\n",
       "  </tbody>\n",
       "</table>\n",
       "</div>"
      ],
      "text/plain": [
       "             patid  OneYrPrior6  Drank1YrPrior2  DrankAroundLMP2  \\\n",
       "0  S002-BISH-03570          0.0             0.0              0.0   \n",
       "1  S002-BISH-04245          0.0             0.0              0.0   \n",
       "2  S002-BISH-05802          0.0             0.0              0.0   \n",
       "3  S002-BISH-00003          1.0             1.0              0.0   \n",
       "4  S002-BISH-00004          1.0             1.0              0.0   \n",
       "\n",
       "   BingeCountT1  BingeCountT2  Binge7T12  Binge7T22  MaxConsDDaysT1  \\\n",
       "0           0.0           0.0        0.0        0.0             0.0   \n",
       "1           0.0           0.0        0.0        0.0             0.0   \n",
       "2           0.0           0.0        0.0        0.0             0.0   \n",
       "3           0.0           0.0        0.0        0.0             0.0   \n",
       "4           0.0           0.0        0.0        0.0             0.0   \n",
       "\n",
       "   MaxConsDDaysT2  TotalStdDrinksLMP  TotalStdDrinksT1  \n",
       "0             0.0                0.0               0.0  \n",
       "1             0.0                0.0               0.0  \n",
       "2             0.0                0.0               0.0  \n",
       "3             0.0                0.0               0.0  \n",
       "4             0.0                0.0               0.0  "
      ]
     },
     "execution_count": 141,
     "metadata": {},
     "output_type": "execute_result"
    }
   ],
   "source": [
    "adalc.head()"
   ]
  },
  {
   "cell_type": "code",
   "execution_count": 140,
   "metadata": {},
   "outputs": [
    {
     "data": {
      "text/html": [
       "<div>\n",
       "<style scoped>\n",
       "    .dataframe tbody tr th:only-of-type {\n",
       "        vertical-align: middle;\n",
       "    }\n",
       "\n",
       "    .dataframe tbody tr th {\n",
       "        vertical-align: top;\n",
       "    }\n",
       "\n",
       "    .dataframe thead th {\n",
       "        text-align: right;\n",
       "    }\n",
       "</style>\n",
       "<table border=\"1\" class=\"dataframe\">\n",
       "  <thead>\n",
       "    <tr style=\"text-align: right;\">\n",
       "      <th></th>\n",
       "      <th>patid</th>\n",
       "      <th>OneYrPrior6</th>\n",
       "      <th>Drank1YrPrior2</th>\n",
       "      <th>DrankAroundLMP2</th>\n",
       "      <th>BingeCountT1</th>\n",
       "      <th>BingeCountT2</th>\n",
       "      <th>Binge7T12</th>\n",
       "      <th>Binge7T22</th>\n",
       "      <th>MaxConsDDaysT1</th>\n",
       "      <th>MaxConsDDaysT2</th>\n",
       "      <th>TotalStdDrinksLMP</th>\n",
       "      <th>TotalStdDrinksT1</th>\n",
       "    </tr>\n",
       "  </thead>\n",
       "  <tbody>\n",
       "    <tr>\n",
       "      <th>6919</th>\n",
       "      <td>S002-BISH-00241</td>\n",
       "      <td>2.0</td>\n",
       "      <td>1.0</td>\n",
       "      <td>1.0</td>\n",
       "      <td>-999999.0</td>\n",
       "      <td>-999999.0</td>\n",
       "      <td>-999999.0</td>\n",
       "      <td>-999999.0</td>\n",
       "      <td>-999999.0</td>\n",
       "      <td>-999999.0</td>\n",
       "      <td>41.91</td>\n",
       "      <td>-999999.0</td>\n",
       "    </tr>\n",
       "    <tr>\n",
       "      <th>6920</th>\n",
       "      <td>S002-BISH-00704</td>\n",
       "      <td>0.0</td>\n",
       "      <td>0.0</td>\n",
       "      <td>-999999.0</td>\n",
       "      <td>-999999.0</td>\n",
       "      <td>-999999.0</td>\n",
       "      <td>-999999.0</td>\n",
       "      <td>-999999.0</td>\n",
       "      <td>-999999.0</td>\n",
       "      <td>-999999.0</td>\n",
       "      <td>-999999.00</td>\n",
       "      <td>-999999.0</td>\n",
       "    </tr>\n",
       "    <tr>\n",
       "      <th>6921</th>\n",
       "      <td>S002-BISH-00526</td>\n",
       "      <td>2.0</td>\n",
       "      <td>1.0</td>\n",
       "      <td>-999999.0</td>\n",
       "      <td>-999999.0</td>\n",
       "      <td>-999999.0</td>\n",
       "      <td>-999999.0</td>\n",
       "      <td>-999999.0</td>\n",
       "      <td>-999999.0</td>\n",
       "      <td>-999999.0</td>\n",
       "      <td>-999999.00</td>\n",
       "      <td>-999999.0</td>\n",
       "    </tr>\n",
       "    <tr>\n",
       "      <th>6922</th>\n",
       "      <td>S002-BISH-05219</td>\n",
       "      <td>3.0</td>\n",
       "      <td>1.0</td>\n",
       "      <td>-999999.0</td>\n",
       "      <td>-999999.0</td>\n",
       "      <td>-999999.0</td>\n",
       "      <td>-999999.0</td>\n",
       "      <td>-999999.0</td>\n",
       "      <td>-999999.0</td>\n",
       "      <td>-999999.0</td>\n",
       "      <td>-999999.00</td>\n",
       "      <td>-999999.0</td>\n",
       "    </tr>\n",
       "    <tr>\n",
       "      <th>6923</th>\n",
       "      <td>S002-BISH-00978</td>\n",
       "      <td>4.0</td>\n",
       "      <td>1.0</td>\n",
       "      <td>-999999.0</td>\n",
       "      <td>-999999.0</td>\n",
       "      <td>-999999.0</td>\n",
       "      <td>-999999.0</td>\n",
       "      <td>-999999.0</td>\n",
       "      <td>-999999.0</td>\n",
       "      <td>-999999.0</td>\n",
       "      <td>-999999.00</td>\n",
       "      <td>-999999.0</td>\n",
       "    </tr>\n",
       "  </tbody>\n",
       "</table>\n",
       "</div>"
      ],
      "text/plain": [
       "                patid  OneYrPrior6  Drank1YrPrior2  DrankAroundLMP2  \\\n",
       "6919  S002-BISH-00241          2.0             1.0              1.0   \n",
       "6920  S002-BISH-00704          0.0             0.0        -999999.0   \n",
       "6921  S002-BISH-00526          2.0             1.0        -999999.0   \n",
       "6922  S002-BISH-05219          3.0             1.0        -999999.0   \n",
       "6923  S002-BISH-00978          4.0             1.0        -999999.0   \n",
       "\n",
       "      BingeCountT1  BingeCountT2  Binge7T12  Binge7T22  MaxConsDDaysT1  \\\n",
       "6919     -999999.0     -999999.0  -999999.0  -999999.0       -999999.0   \n",
       "6920     -999999.0     -999999.0  -999999.0  -999999.0       -999999.0   \n",
       "6921     -999999.0     -999999.0  -999999.0  -999999.0       -999999.0   \n",
       "6922     -999999.0     -999999.0  -999999.0  -999999.0       -999999.0   \n",
       "6923     -999999.0     -999999.0  -999999.0  -999999.0       -999999.0   \n",
       "\n",
       "      MaxConsDDaysT2  TotalStdDrinksLMP  TotalStdDrinksT1  \n",
       "6919       -999999.0              41.91         -999999.0  \n",
       "6920       -999999.0         -999999.00         -999999.0  \n",
       "6921       -999999.0         -999999.00         -999999.0  \n",
       "6922       -999999.0         -999999.00         -999999.0  \n",
       "6923       -999999.0         -999999.00         -999999.0  "
      ]
     },
     "execution_count": 140,
     "metadata": {},
     "output_type": "execute_result"
    }
   ],
   "source": [
    "adalc.tail()"
   ]
  },
  {
   "cell_type": "code",
   "execution_count": 142,
   "metadata": {},
   "outputs": [
    {
     "data": {
      "text/plain": [
       "(6924, 12)"
      ]
     },
     "execution_count": 142,
     "metadata": {},
     "output_type": "execute_result"
    }
   ],
   "source": [
    "adalc.shape"
   ]
  },
  {
   "cell_type": "code",
   "execution_count": 147,
   "metadata": {},
   "outputs": [
    {
     "data": {
      "text/plain": [
       "6924"
      ]
     },
     "execution_count": 147,
     "metadata": {},
     "output_type": "execute_result"
    }
   ],
   "source": [
    "adalc.patid.unique().__len__()"
   ]
  },
  {
   "cell_type": "code",
   "execution_count": 167,
   "metadata": {},
   "outputs": [
    {
     "name": "stdout",
     "output_type": "stream",
     "text": [
      "Index(['patid', 'OneYrPrior6', 'Drank1YrPrior2', 'DrankAroundLMP2',\n",
      "       'BingeCountT1', 'BingeCountT2', 'Binge7T12', 'Binge7T22',\n",
      "       'MaxConsDDaysT1', 'MaxConsDDaysT2', 'TotalStdDrinksLMP',\n",
      "       'TotalStdDrinksT1'],\n",
      "      dtype='object')\n",
      "Index(['patid', 'oneyrprior6', 'drank1yrprior2', 'drankaroundlmp2',\n",
      "       'bingecountt1', 'bingecountt2', 'binge7t12', 'binge7t22',\n",
      "       'maxconsddayst1', 'maxconsddayst2', 'totalstddrinkslmp',\n",
      "       'totalstddrinkst1'],\n",
      "      dtype='object')\n"
     ]
    }
   ],
   "source": [
    "print(adalc.columns)\n",
    "adalc.columns = map(str.lower, adalc.columns)\n",
    "print(adalc.columns)\n"
   ]
  },
  {
   "cell_type": "markdown",
   "metadata": {},
   "source": [
    "<font size=4 style=\"background-color:lightgreen;\">\n",
    "    Good! No duplicated PATIDs.\n",
    "</font>"
   ]
  },
  {
   "cell_type": "code",
   "execution_count": 822,
   "metadata": {},
   "outputs": [
    {
     "name": "stdout",
     "output_type": "stream",
     "text": [
      "N Records: 6924\n",
      "N Unique PATIDs: 6924\n"
     ]
    }
   ],
   "source": [
    "print('N Records:', adalc.shape[0])\n",
    "print('N Unique PATIDs:', adalc.patid.unique().shape[0])"
   ]
  },
  {
   "cell_type": "code",
   "execution_count": 705,
   "metadata": {},
   "outputs": [
    {
     "data": {
      "image/png": "[encoded data removed]",
      "text/plain": [
       "<Figure size 864x936 with 12 Axes>"
      ]
     },
     "metadata": {
      "needs_background": "light"
     },
     "output_type": "display_data"
    }
   ],
   "source": [
    "adalc = pd.read_csv('../data/raw/adalc_patid_DB.csv', usecols=range(0,12))\n",
    "adalc.columns = map(str.lower, adalc.columns)\n",
    "# Viz\n",
    "adalc.replace(-999999,np.nan).dropna().hist(figsize=(12,13));"
   ]
  },
  {
   "cell_type": "code",
   "execution_count": null,
   "metadata": {},
   "outputs": [],
   "source": []
  },
  {
   "cell_type": "code",
   "execution_count": null,
   "metadata": {},
   "outputs": [],
   "source": []
  },
  {
   "cell_type": "markdown",
   "metadata": {},
   "source": [
    "<font color='red' size=10>\n",
    "    <b>adcdrisc_DB.csv</b>\n",
    "</font>\n",
    "\n",
    "In SharePoint file `mbh001/DemoMetaClinical_DataDictionary/DataDictionary/mbh001_Dictionary-of-Variable-terms_20181119_V2.xlsx` tab 1 (\"Demographic Variables\"), Dani specifies to keep only the following vars:\n",
    "* CDRISC_Raw\n",
    "\n",
    "This is the only var specified in tab 2 (\"Demographic Variables Kept\") as well.\n",
    "\n",
    "<br>\n",
    "\n",
    "<font style=\"background-color:yellow;\">\n",
    "    <b>IMPORTANT</b>: Though Dani was mostly successful in removing NaNs/Nulls, it seems some have made it \n",
    "through, e.g., the following code identifies index 1800 as having the value \"#NULL!\" \n",
    "</font>\n",
    "(more about how I discovered it in the analysis section below this summary):\n",
    "\n",
    "```python\n",
    "adcdrisc = pd.read_csv('../data/raw/adcdrisc_DB.csv')\n",
    "null_index = adcdrisc.CDRISC_Raw.str.contains('NULL')\n",
    "adcdrisc.CDRISC_Raw[null_index]\n",
    "```\n",
    "\n",
    "\n",
    "\n",
    "### FINAL Code for this Table\n",
    "-------------------------------\n",
    "```python\n",
    "adcdrisc = pd.read_csv('../data/raw/adcdrisc_DB.csv', usecols=['patid','CDRISC_Raw'], \n",
    "                       na_values='#NULL!')\n",
    "adcdrisc.columns = map(str.lower, adcdrisc.columns)\n",
    "adcdrisc.fillna(-999999, inplace=True)\n",
    "```\n",
    "--------------------------------"
   ]
  },
  {
   "cell_type": "code",
   "execution_count": 170,
   "metadata": {},
   "outputs": [],
   "source": [
    "adcdrisc = pd.read_csv('../data/raw/adcdrisc_DB.csv')"
   ]
  },
  {
   "cell_type": "code",
   "execution_count": 171,
   "metadata": {},
   "outputs": [
    {
     "data": {
      "text/plain": [
       "(1824, 7)"
      ]
     },
     "execution_count": 171,
     "metadata": {},
     "output_type": "execute_result"
    }
   ],
   "source": [
    "adcdrisc.shape"
   ]
  },
  {
   "cell_type": "code",
   "execution_count": 172,
   "metadata": {},
   "outputs": [
    {
     "data": {
      "text/html": [
       "<div>\n",
       "<style scoped>\n",
       "    .dataframe tbody tr th:only-of-type {\n",
       "        vertical-align: middle;\n",
       "    }\n",
       "\n",
       "    .dataframe tbody tr th {\n",
       "        vertical-align: top;\n",
       "    }\n",
       "\n",
       "    .dataframe thead th {\n",
       "        text-align: right;\n",
       "    }\n",
       "</style>\n",
       "<table border=\"1\" class=\"dataframe\">\n",
       "  <thead>\n",
       "    <tr style=\"text-align: right;\">\n",
       "      <th></th>\n",
       "      <th>patid</th>\n",
       "      <th>patid.1</th>\n",
       "      <th>cycleID</th>\n",
       "      <th>ownerTypeID</th>\n",
       "      <th>CDRISC_Date</th>\n",
       "      <th>CDRISC_nmiss</th>\n",
       "      <th>CDRISC_Raw</th>\n",
       "    </tr>\n",
       "  </thead>\n",
       "  <tbody>\n",
       "    <tr>\n",
       "      <th>0</th>\n",
       "      <td>S002-BISH-04055</td>\n",
       "      <td>BISH</td>\n",
       "      <td>15</td>\n",
       "      <td>0</td>\n",
       "      <td>25-May-12</td>\n",
       "      <td>0</td>\n",
       "      <td>0.00</td>\n",
       "    </tr>\n",
       "    <tr>\n",
       "      <th>1</th>\n",
       "      <td>S002-BISH-00373</td>\n",
       "      <td>BISH</td>\n",
       "      <td>15</td>\n",
       "      <td>0</td>\n",
       "      <td>26-May-08</td>\n",
       "      <td>0</td>\n",
       "      <td>20.00</td>\n",
       "    </tr>\n",
       "    <tr>\n",
       "      <th>2</th>\n",
       "      <td>S002-BISH-05524</td>\n",
       "      <td>BISH</td>\n",
       "      <td>15</td>\n",
       "      <td>0</td>\n",
       "      <td>27-Aug-13</td>\n",
       "      <td>0</td>\n",
       "      <td>20.00</td>\n",
       "    </tr>\n",
       "    <tr>\n",
       "      <th>3</th>\n",
       "      <td>S002-BISH-00742</td>\n",
       "      <td>BISH</td>\n",
       "      <td>15</td>\n",
       "      <td>0</td>\n",
       "      <td>11-Dec-08</td>\n",
       "      <td>0</td>\n",
       "      <td>22.00</td>\n",
       "    </tr>\n",
       "    <tr>\n",
       "      <th>4</th>\n",
       "      <td>S002-BISH-00450</td>\n",
       "      <td>BISH</td>\n",
       "      <td>15</td>\n",
       "      <td>0</td>\n",
       "      <td>7-Jul-08</td>\n",
       "      <td>1</td>\n",
       "      <td>22.92</td>\n",
       "    </tr>\n",
       "  </tbody>\n",
       "</table>\n",
       "</div>"
      ],
      "text/plain": [
       "             patid patid.1  cycleID  ownerTypeID CDRISC_Date  CDRISC_nmiss  \\\n",
       "0  S002-BISH-04055    BISH       15            0   25-May-12             0   \n",
       "1  S002-BISH-00373    BISH       15            0   26-May-08             0   \n",
       "2  S002-BISH-05524    BISH       15            0   27-Aug-13             0   \n",
       "3  S002-BISH-00742    BISH       15            0   11-Dec-08             0   \n",
       "4  S002-BISH-00450    BISH       15            0    7-Jul-08             1   \n",
       "\n",
       "  CDRISC_Raw  \n",
       "0       0.00  \n",
       "1      20.00  \n",
       "2      20.00  \n",
       "3      22.00  \n",
       "4      22.92  "
      ]
     },
     "execution_count": 172,
     "metadata": {},
     "output_type": "execute_result"
    }
   ],
   "source": [
    "adcdrisc.head()"
   ]
  },
  {
   "cell_type": "code",
   "execution_count": 173,
   "metadata": {},
   "outputs": [
    {
     "data": {
      "text/html": [
       "<div>\n",
       "<style scoped>\n",
       "    .dataframe tbody tr th:only-of-type {\n",
       "        vertical-align: middle;\n",
       "    }\n",
       "\n",
       "    .dataframe tbody tr th {\n",
       "        vertical-align: top;\n",
       "    }\n",
       "\n",
       "    .dataframe thead th {\n",
       "        text-align: right;\n",
       "    }\n",
       "</style>\n",
       "<table border=\"1\" class=\"dataframe\">\n",
       "  <thead>\n",
       "    <tr style=\"text-align: right;\">\n",
       "      <th></th>\n",
       "      <th>patid</th>\n",
       "      <th>patid.1</th>\n",
       "      <th>cycleID</th>\n",
       "      <th>ownerTypeID</th>\n",
       "      <th>CDRISC_Date</th>\n",
       "      <th>CDRISC_nmiss</th>\n",
       "      <th>CDRISC_Raw</th>\n",
       "    </tr>\n",
       "  </thead>\n",
       "  <tbody>\n",
       "    <tr>\n",
       "      <th>1819</th>\n",
       "      <td>S002-BISH-06124</td>\n",
       "      <td>BISH</td>\n",
       "      <td>20</td>\n",
       "      <td>0</td>\n",
       "      <td>30-Jun-14</td>\n",
       "      <td>0</td>\n",
       "      <td>84.00</td>\n",
       "    </tr>\n",
       "    <tr>\n",
       "      <th>1820</th>\n",
       "      <td>S002-BISH-06628</td>\n",
       "      <td>BISH</td>\n",
       "      <td>20</td>\n",
       "      <td>0</td>\n",
       "      <td>2-Feb-15</td>\n",
       "      <td>0</td>\n",
       "      <td>89.00</td>\n",
       "    </tr>\n",
       "    <tr>\n",
       "      <th>1821</th>\n",
       "      <td>S002-BISH-00815</td>\n",
       "      <td>BISH</td>\n",
       "      <td>20</td>\n",
       "      <td>0</td>\n",
       "      <td>20-Jan-09</td>\n",
       "      <td>0</td>\n",
       "      <td>90.00</td>\n",
       "    </tr>\n",
       "    <tr>\n",
       "      <th>1822</th>\n",
       "      <td>S002-BISH-02437</td>\n",
       "      <td>BISH</td>\n",
       "      <td>20</td>\n",
       "      <td>0</td>\n",
       "      <td>9-Dec-10</td>\n",
       "      <td>0</td>\n",
       "      <td>94.00</td>\n",
       "    </tr>\n",
       "    <tr>\n",
       "      <th>1823</th>\n",
       "      <td>S002-BISH-00097</td>\n",
       "      <td>BISH</td>\n",
       "      <td>20</td>\n",
       "      <td>0</td>\n",
       "      <td>7-Dec-07</td>\n",
       "      <td>0</td>\n",
       "      <td>100.00</td>\n",
       "    </tr>\n",
       "  </tbody>\n",
       "</table>\n",
       "</div>"
      ],
      "text/plain": [
       "                patid patid.1  cycleID  ownerTypeID CDRISC_Date  CDRISC_nmiss  \\\n",
       "1819  S002-BISH-06124    BISH       20            0   30-Jun-14             0   \n",
       "1820  S002-BISH-06628    BISH       20            0    2-Feb-15             0   \n",
       "1821  S002-BISH-00815    BISH       20            0   20-Jan-09             0   \n",
       "1822  S002-BISH-02437    BISH       20            0    9-Dec-10             0   \n",
       "1823  S002-BISH-00097    BISH       20            0    7-Dec-07             0   \n",
       "\n",
       "     CDRISC_Raw  \n",
       "1819      84.00  \n",
       "1820      89.00  \n",
       "1821      90.00  \n",
       "1822      94.00  \n",
       "1823     100.00  "
      ]
     },
     "execution_count": 173,
     "metadata": {},
     "output_type": "execute_result"
    }
   ],
   "source": [
    "adcdrisc.tail()"
   ]
  },
  {
   "cell_type": "code",
   "execution_count": 175,
   "metadata": {},
   "outputs": [
    {
     "data": {
      "text/plain": [
       "patid           0\n",
       "patid.1         0\n",
       "cycleID         0\n",
       "ownerTypeID     0\n",
       "CDRISC_Date     0\n",
       "CDRISC_nmiss    0\n",
       "CDRISC_Raw      0\n",
       "dtype: int64"
      ]
     },
     "execution_count": 175,
     "metadata": {},
     "output_type": "execute_result"
    }
   ],
   "source": [
    "adcdrisc.isnull().sum()"
   ]
  },
  {
   "cell_type": "code",
   "execution_count": 176,
   "metadata": {},
   "outputs": [],
   "source": [
    "adcdrisc = pd.read_csv('../data/raw/adcdrisc_DB.csv', usecols=['patid','CDRISC_Raw'])"
   ]
  },
  {
   "cell_type": "code",
   "execution_count": 180,
   "metadata": {},
   "outputs": [
    {
     "data": {
      "text/plain": [
       "dtype('O')"
      ]
     },
     "execution_count": 180,
     "metadata": {},
     "output_type": "execute_result"
    }
   ],
   "source": [
    "adcdrisc.CDRISC_Raw.dtype"
   ]
  },
  {
   "cell_type": "markdown",
   "metadata": {},
   "source": [
    "When I saw that this was coming in as an object, I tried to coerce it to a float...but got an error:\n",
    "```python\n",
    "adcdrisc = pd.read_csv('../data/raw/adcdrisc_DB.csv', usecols=['patid','CDRISC_Raw'], \n",
    "                       dtype={'CDRISC_Raw': float})\n",
    "\n",
    "    ValueError: could not convert string to float: '#NULL!'\n",
    "```"
   ]
  },
  {
   "cell_type": "code",
   "execution_count": 198,
   "metadata": {},
   "outputs": [],
   "source": [
    "null_index = adcdrisc.CDRISC_Raw.str.contains('NULL')"
   ]
  },
  {
   "cell_type": "code",
   "execution_count": 199,
   "metadata": {},
   "outputs": [
    {
     "data": {
      "text/plain": [
       "1800    #NULL!\n",
       "Name: CDRISC_Raw, dtype: object"
      ]
     },
     "execution_count": 199,
     "metadata": {},
     "output_type": "execute_result"
    }
   ],
   "source": [
    "adcdrisc.CDRISC_Raw[null_index]"
   ]
  },
  {
   "cell_type": "code",
   "execution_count": 208,
   "metadata": {},
   "outputs": [
    {
     "data": {
      "text/plain": [
       "patid         0\n",
       "CDRISC_Raw    1\n",
       "dtype: int64"
      ]
     },
     "execution_count": 208,
     "metadata": {},
     "output_type": "execute_result"
    }
   ],
   "source": [
    "pd.read_csv('../data/raw/adcdrisc_DB.csv', usecols=['patid','CDRISC_Raw'], na_values='#NULL!').isnull().sum()"
   ]
  },
  {
   "cell_type": "code",
   "execution_count": 210,
   "metadata": {},
   "outputs": [
    {
     "data": {
      "text/plain": [
       "patid         0\n",
       "CDRISC_Raw    0\n",
       "dtype: int64"
      ]
     },
     "execution_count": 210,
     "metadata": {},
     "output_type": "execute_result"
    }
   ],
   "source": [
    "pd.read_csv('../data/raw/adcdrisc_DB.csv', usecols=['patid','CDRISC_Raw'], na_values='#NULL!').\\\n",
    "    fillna(-999999).isnull().sum()"
   ]
  },
  {
   "cell_type": "markdown",
   "metadata": {},
   "source": [
    "Ok... So... When we import file noting that there exist a \"#NULL!\" value, CDRISC_Raw\n",
    "now automatically comes in as a float -- as it should be."
   ]
  },
  {
   "cell_type": "code",
   "execution_count": 211,
   "metadata": {},
   "outputs": [],
   "source": [
    "adcdrisc = pd.read_csv('../data/raw/adcdrisc_DB.csv', usecols=['patid','CDRISC_Raw'], \n",
    "                       na_values='#NULL!')\n",
    "adcdrisc.fillna(-999999, inplace=True)"
   ]
  },
  {
   "cell_type": "code",
   "execution_count": 213,
   "metadata": {},
   "outputs": [
    {
     "data": {
      "text/plain": [
       "patid          object\n",
       "CDRISC_Raw    float64\n",
       "dtype: object"
      ]
     },
     "execution_count": 213,
     "metadata": {},
     "output_type": "execute_result"
    }
   ],
   "source": [
    "adcdrisc.dtypes"
   ]
  },
  {
   "cell_type": "markdown",
   "metadata": {},
   "source": [
    "<font size=4 style=\"background-color:lightgreen;\">\n",
    "    Good! No duplicated PATIDs.\n",
    "</font>"
   ]
  },
  {
   "cell_type": "code",
   "execution_count": 823,
   "metadata": {},
   "outputs": [
    {
     "name": "stdout",
     "output_type": "stream",
     "text": [
      "N Records: 1824\n",
      "N Unique PATIDs: 1824\n"
     ]
    }
   ],
   "source": [
    "print('N Records:', adcdrisc.shape[0])\n",
    "print('N Unique PATIDs:', adcdrisc.patid.unique().shape[0])"
   ]
  },
  {
   "cell_type": "code",
   "execution_count": 704,
   "metadata": {},
   "outputs": [
    {
     "data": {
      "image/png": "[encoded data removed]",
      "text/plain": [
       "<Figure size 432x288 with 1 Axes>"
      ]
     },
     "metadata": {
      "needs_background": "light"
     },
     "output_type": "display_data"
    }
   ],
   "source": [
    "adcdrisc = pd.read_csv('../data/raw/adcdrisc_DB.csv', usecols=['patid','CDRISC_Raw'], \n",
    "                       na_values='#NULL!')\n",
    "adcdrisc.columns = map(str.lower, adcdrisc.columns)\n",
    "adcdrisc.fillna(-999999, inplace=True)\n",
    "# Viz\n",
    "adcdrisc.replace(-999999,np.nan).dropna().hist();"
   ]
  },
  {
   "cell_type": "code",
   "execution_count": null,
   "metadata": {},
   "outputs": [],
   "source": []
  },
  {
   "cell_type": "code",
   "execution_count": null,
   "metadata": {},
   "outputs": [],
   "source": []
  },
  {
   "cell_type": "markdown",
   "metadata": {},
   "source": [
    "---------------------\n",
    "\n",
    "<font color='red' size=10>\n",
    "    <b>addrg_patid_DB.csv</b>\n",
    "</font>\n",
    "\n",
    "In SharePoint file `mbh001/DemoMetaClinical_DataDictionary/DataDictionary/mbh001_Dictionary-of-Variable-terms_20181119_V2.xlsx` tab 1 (\"Demographic Variables\"), \n",
    "* Dani does not specify to keep any of the vars from the `ADDRG_WEEK` database\n",
    "* NOTE:  I cannot find any other \"addrg\" databases...\n",
    " \n",
    "**HOWEVER**, many variables are listed in tab2 (\"Demographic Variables Kept\"):\n",
    "* **Hair1YrPrior6**\t-\tHow Much Hairspray Use in the 1 Year Prior to Pregnancy?\n",
    "* **HairLMP2**\t-\tAny Hairspray Use around LMP\n",
    "* **HairT12**\t-\tHairspray Use in Trimester 1 (1 to 14 Weeks)\n",
    "* **HairT22**\t-\tHairspray Use in Trimester 2 (15 to 28 Weeks)\n",
    "* **Hookah1YrPrior6**\t-\tHow Much Hookah Use in the 1 Year Prior to Pregnancy?\n",
    "* **HookahLMP2**\t-\tAny Hookah Use around LMP\n",
    "* **HookahT12**\t-\tHookah Use in Trimester 1 (1 to 14 Weeks)\n",
    "* **HookahT22**\t-\tHookah Use in Trimester 2 (15 to 28 Weeks)\n",
    "* **Meth1YrPrior6**\t-\tHow Much Methamphetamine Use in the 1 Year Prior to Pregnancy?\n",
    "* **MethLMP2**\t-\tAny Methamphetamine Use around LMP\n",
    "* **MethT12**\t-\tMethamphetamine Use in Trimester 1 (1 to 14 Weeks)\n",
    "* **MethT22**\t-\tMethamphetamine Use in Trimester 2 (15 to 28 Weeks)\n",
    "* **MJ1YrPrior6**\t-\tHow Much Marijuana Use in the 1 Year Prior to Pregnancy?\n",
    "* **MJLMP2**\t-\tAny Marijuana Use around LMP\n",
    "* **MJT12**\t-\tMarijuana Use in Trimester 1 (1 to 14 Weeks)\n",
    "* **MJT22**\t-\tMarijuana Use in Trimester 2 (15 to 28 Weeks)\n",
    "* **Other1YrPrior2**\t-\tAny Other Drug Use 1 Year Prior\n",
    "* **OtherLMP2**\t-\tAny Other Drug Use around LMP\n",
    "* **OtherT12**\t-\tOther Drug Use in Trimester 1 (1 to 14 Weeks)\n",
    "* **OtherT22**\t-\tOther Drug Use in Trimester 2 (15 to 28 Weeks)\n",
    "\n",
    "<br>\n",
    "\n",
    "<font style=\"background-color:yellow;\">\n",
    "    <b>IMPORTANT</b>:  Some of these variable have no nonzero/nonnull values.  That is,\n",
    "other than missingness, a few of these vars are essentially constant.  \n",
    "</font>\n",
    "\n",
    "| Highly Imbalanced Feature | % Nonzero/NonNull | Number of Records (Total: 6924) |\n",
    "|---------------------------|-------------------|---|\n",
    "| hair1yrprior6   |     0.0% | 0 |\n",
    "| hairlmp2        |     0.0% | 0 | \n",
    "| hairt12         |     0.0% | 0 |\n",
    "| hairt22         |    0.03% | 2 |\n",
    "| otherlmp2       |     0.1% | 7 |\n",
    "| othert12        |     0.2% | 14|\n",
    "| othert22        |    0.23% | 16|\n",
    "| other1yrprior2  |    0.29% | 20|\n",
    "| methlmp2        |    0.78% | 54|\n",
    "\n",
    "\n",
    "\n",
    "<ol style=\"background-color:yellow;\">\n",
    "    <li>The vars w/o variation should be discarded.</li>\n",
    "    <li>The var w/ only 2 records (hairt22) should be discarded (cannot split it into trn/val/tst).</li>\n",
    "    <li>If we care about the remaining vars, then we need to ensure they are split balanced into\n",
    "        trn/val/tst sets...but not only balanced in number, but in distribution (e.g., it is useless\n",
    "        if we have 4 otherlmp2 values all 0 in training, but have 3 remaining values of 1 split into\n",
    "        val and tst sets.  <b>This might take some finesse and time, which we might not have.</b></li>\n",
    "</ol>\n",
    "    \n",
    "<br>\n",
    "<font style=\"background-color:sandybrown;\">\n",
    "    <b>UPDATE (Dec 4, mtg w/ Dani)</b>: Dani agrees that most, if not all, of these variable can\n",
    "    be dropped.  In fact, she already did drop them by not including them in tab1 of her Excel\n",
    "    file.  As I've explained in other updates elsewhere in this JNB, I misinterpreted the\n",
    "    tabs, thinking tab1 was exploratory and tab2 was the final decision (it was actually the\n",
    "    other way around). <b>ACTION</b>: drop almost all of these vars; if you keep any, plan on\n",
    "    devising an appropriate split-balancing scheme.\n",
    "</font>\n",
    "\n",
    "### FINAL Code\n",
    "-------------------------------------\n",
    "```python\n",
    "addrg_cols = [ 'patid',\n",
    "    'Hair1YrPrior6', 'HairLMP2', 'HairT12', 'HairT22',\n",
    "    'Hookah1YrPrior6', 'HookahLMP2', 'HookahT12', 'HookahT22',\n",
    "    'Meth1YrPrior6', 'MethLMP2', 'MethT12', 'MethT22',\n",
    "    'MJ1YrPrior6', 'MJLMP2', 'MJT12', 'MJT22',\n",
    "    'Other1YrPrior2', 'OtherLMP2', 'OtherT12', 'OtherT22',\n",
    "]\n",
    "addrg = pd.read_csv('../data/raw/addrg_patid_DB.csv',\n",
    "                   usecols = addrg_cols)\n",
    "addrg.columns = map(str.lower, addrg.columns)\n",
    "```\n",
    "--------------------------------"
   ]
  },
  {
   "cell_type": "code",
   "execution_count": 328,
   "metadata": {},
   "outputs": [],
   "source": [
    "addrg = pd.read_csv('../data/raw/addrg_patid_DB.csv')"
   ]
  },
  {
   "cell_type": "code",
   "execution_count": 216,
   "metadata": {},
   "outputs": [
    {
     "data": {
      "text/plain": [
       "(6924, 113)"
      ]
     },
     "execution_count": 216,
     "metadata": {},
     "output_type": "execute_result"
    }
   ],
   "source": [
    "addrg.shape"
   ]
  },
  {
   "cell_type": "code",
   "execution_count": 217,
   "metadata": {},
   "outputs": [
    {
     "data": {
      "text/html": [
       "<div>\n",
       "<style scoped>\n",
       "    .dataframe tbody tr th:only-of-type {\n",
       "        vertical-align: middle;\n",
       "    }\n",
       "\n",
       "    .dataframe tbody tr th {\n",
       "        vertical-align: top;\n",
       "    }\n",
       "\n",
       "    .dataframe thead th {\n",
       "        text-align: right;\n",
       "    }\n",
       "</style>\n",
       "<table border=\"1\" class=\"dataframe\">\n",
       "  <thead>\n",
       "    <tr style=\"text-align: right;\">\n",
       "      <th></th>\n",
       "      <th>patid</th>\n",
       "      <th>patid.1</th>\n",
       "      <th>AnyDrugs2</th>\n",
       "      <th>AnyMJ2</th>\n",
       "      <th>AnyMeth2</th>\n",
       "      <th>AnyHair2</th>\n",
       "      <th>AnyHookah2</th>\n",
       "      <th>AnyOther2</th>\n",
       "      <th>AnyMJMeth2</th>\n",
       "      <th>MJ1YrPrior2</th>\n",
       "      <th>...</th>\n",
       "      <th>TotOtherPreg</th>\n",
       "      <th>TotOtherLMP</th>\n",
       "      <th>TotOtherT1</th>\n",
       "      <th>TotOtherT2</th>\n",
       "      <th>TotOtherT3</th>\n",
       "      <th>TotOtherPost</th>\n",
       "      <th>TotOther12wks</th>\n",
       "      <th>TotOther19wks</th>\n",
       "      <th>TotOther20wks</th>\n",
       "      <th>TotOther28wks</th>\n",
       "    </tr>\n",
       "  </thead>\n",
       "  <tbody>\n",
       "    <tr>\n",
       "      <th>0</th>\n",
       "      <td>S002-BISH-00001</td>\n",
       "      <td>BISH</td>\n",
       "      <td>0.0</td>\n",
       "      <td>0.0</td>\n",
       "      <td>0.0</td>\n",
       "      <td>0.0</td>\n",
       "      <td>-999999.0</td>\n",
       "      <td>0.0</td>\n",
       "      <td>0.0</td>\n",
       "      <td>0.0</td>\n",
       "      <td>...</td>\n",
       "      <td>0.0</td>\n",
       "      <td>0.0</td>\n",
       "      <td>0.0</td>\n",
       "      <td>0.0</td>\n",
       "      <td>0.0</td>\n",
       "      <td>-999999.0</td>\n",
       "      <td>0.0</td>\n",
       "      <td>0.0</td>\n",
       "      <td>0.0</td>\n",
       "      <td>0.0</td>\n",
       "    </tr>\n",
       "    <tr>\n",
       "      <th>1</th>\n",
       "      <td>S002-BISH-00002</td>\n",
       "      <td>BISH</td>\n",
       "      <td>0.0</td>\n",
       "      <td>0.0</td>\n",
       "      <td>0.0</td>\n",
       "      <td>0.0</td>\n",
       "      <td>-999999.0</td>\n",
       "      <td>0.0</td>\n",
       "      <td>0.0</td>\n",
       "      <td>0.0</td>\n",
       "      <td>...</td>\n",
       "      <td>0.0</td>\n",
       "      <td>0.0</td>\n",
       "      <td>0.0</td>\n",
       "      <td>0.0</td>\n",
       "      <td>0.0</td>\n",
       "      <td>0.0</td>\n",
       "      <td>0.0</td>\n",
       "      <td>0.0</td>\n",
       "      <td>0.0</td>\n",
       "      <td>0.0</td>\n",
       "    </tr>\n",
       "    <tr>\n",
       "      <th>2</th>\n",
       "      <td>S002-BISH-00003</td>\n",
       "      <td>BISH</td>\n",
       "      <td>0.0</td>\n",
       "      <td>0.0</td>\n",
       "      <td>0.0</td>\n",
       "      <td>0.0</td>\n",
       "      <td>-999999.0</td>\n",
       "      <td>0.0</td>\n",
       "      <td>0.0</td>\n",
       "      <td>0.0</td>\n",
       "      <td>...</td>\n",
       "      <td>0.0</td>\n",
       "      <td>0.0</td>\n",
       "      <td>0.0</td>\n",
       "      <td>0.0</td>\n",
       "      <td>0.0</td>\n",
       "      <td>0.0</td>\n",
       "      <td>0.0</td>\n",
       "      <td>0.0</td>\n",
       "      <td>0.0</td>\n",
       "      <td>0.0</td>\n",
       "    </tr>\n",
       "    <tr>\n",
       "      <th>3</th>\n",
       "      <td>S002-BISH-00004</td>\n",
       "      <td>BISH</td>\n",
       "      <td>0.0</td>\n",
       "      <td>0.0</td>\n",
       "      <td>0.0</td>\n",
       "      <td>0.0</td>\n",
       "      <td>-999999.0</td>\n",
       "      <td>0.0</td>\n",
       "      <td>0.0</td>\n",
       "      <td>0.0</td>\n",
       "      <td>...</td>\n",
       "      <td>0.0</td>\n",
       "      <td>0.0</td>\n",
       "      <td>0.0</td>\n",
       "      <td>0.0</td>\n",
       "      <td>0.0</td>\n",
       "      <td>0.0</td>\n",
       "      <td>0.0</td>\n",
       "      <td>0.0</td>\n",
       "      <td>0.0</td>\n",
       "      <td>0.0</td>\n",
       "    </tr>\n",
       "    <tr>\n",
       "      <th>4</th>\n",
       "      <td>S002-BISH-00005</td>\n",
       "      <td>BISH</td>\n",
       "      <td>0.0</td>\n",
       "      <td>0.0</td>\n",
       "      <td>0.0</td>\n",
       "      <td>0.0</td>\n",
       "      <td>-999999.0</td>\n",
       "      <td>0.0</td>\n",
       "      <td>0.0</td>\n",
       "      <td>1.0</td>\n",
       "      <td>...</td>\n",
       "      <td>0.0</td>\n",
       "      <td>0.0</td>\n",
       "      <td>0.0</td>\n",
       "      <td>0.0</td>\n",
       "      <td>0.0</td>\n",
       "      <td>0.0</td>\n",
       "      <td>0.0</td>\n",
       "      <td>0.0</td>\n",
       "      <td>0.0</td>\n",
       "      <td>0.0</td>\n",
       "    </tr>\n",
       "  </tbody>\n",
       "</table>\n",
       "<p>5 rows × 113 columns</p>\n",
       "</div>"
      ],
      "text/plain": [
       "             patid patid.1  AnyDrugs2  AnyMJ2  AnyMeth2  AnyHair2  AnyHookah2  \\\n",
       "0  S002-BISH-00001    BISH        0.0     0.0       0.0       0.0   -999999.0   \n",
       "1  S002-BISH-00002    BISH        0.0     0.0       0.0       0.0   -999999.0   \n",
       "2  S002-BISH-00003    BISH        0.0     0.0       0.0       0.0   -999999.0   \n",
       "3  S002-BISH-00004    BISH        0.0     0.0       0.0       0.0   -999999.0   \n",
       "4  S002-BISH-00005    BISH        0.0     0.0       0.0       0.0   -999999.0   \n",
       "\n",
       "   AnyOther2  AnyMJMeth2  MJ1YrPrior2  ...  TotOtherPreg  TotOtherLMP  \\\n",
       "0        0.0         0.0          0.0  ...           0.0          0.0   \n",
       "1        0.0         0.0          0.0  ...           0.0          0.0   \n",
       "2        0.0         0.0          0.0  ...           0.0          0.0   \n",
       "3        0.0         0.0          0.0  ...           0.0          0.0   \n",
       "4        0.0         0.0          1.0  ...           0.0          0.0   \n",
       "\n",
       "   TotOtherT1  TotOtherT2  TotOtherT3  TotOtherPost  TotOther12wks  \\\n",
       "0         0.0         0.0         0.0     -999999.0            0.0   \n",
       "1         0.0         0.0         0.0           0.0            0.0   \n",
       "2         0.0         0.0         0.0           0.0            0.0   \n",
       "3         0.0         0.0         0.0           0.0            0.0   \n",
       "4         0.0         0.0         0.0           0.0            0.0   \n",
       "\n",
       "   TotOther19wks  TotOther20wks  TotOther28wks  \n",
       "0            0.0            0.0            0.0  \n",
       "1            0.0            0.0            0.0  \n",
       "2            0.0            0.0            0.0  \n",
       "3            0.0            0.0            0.0  \n",
       "4            0.0            0.0            0.0  \n",
       "\n",
       "[5 rows x 113 columns]"
      ]
     },
     "execution_count": 217,
     "metadata": {},
     "output_type": "execute_result"
    }
   ],
   "source": [
    "addrg.head()"
   ]
  },
  {
   "cell_type": "code",
   "execution_count": 218,
   "metadata": {},
   "outputs": [
    {
     "data": {
      "text/html": [
       "<div>\n",
       "<style scoped>\n",
       "    .dataframe tbody tr th:only-of-type {\n",
       "        vertical-align: middle;\n",
       "    }\n",
       "\n",
       "    .dataframe tbody tr th {\n",
       "        vertical-align: top;\n",
       "    }\n",
       "\n",
       "    .dataframe thead th {\n",
       "        text-align: right;\n",
       "    }\n",
       "</style>\n",
       "<table border=\"1\" class=\"dataframe\">\n",
       "  <thead>\n",
       "    <tr style=\"text-align: right;\">\n",
       "      <th></th>\n",
       "      <th>patid</th>\n",
       "      <th>patid.1</th>\n",
       "      <th>AnyDrugs2</th>\n",
       "      <th>AnyMJ2</th>\n",
       "      <th>AnyMeth2</th>\n",
       "      <th>AnyHair2</th>\n",
       "      <th>AnyHookah2</th>\n",
       "      <th>AnyOther2</th>\n",
       "      <th>AnyMJMeth2</th>\n",
       "      <th>MJ1YrPrior2</th>\n",
       "      <th>...</th>\n",
       "      <th>TotOtherPreg</th>\n",
       "      <th>TotOtherLMP</th>\n",
       "      <th>TotOtherT1</th>\n",
       "      <th>TotOtherT2</th>\n",
       "      <th>TotOtherT3</th>\n",
       "      <th>TotOtherPost</th>\n",
       "      <th>TotOther12wks</th>\n",
       "      <th>TotOther19wks</th>\n",
       "      <th>TotOther20wks</th>\n",
       "      <th>TotOther28wks</th>\n",
       "    </tr>\n",
       "  </thead>\n",
       "  <tbody>\n",
       "    <tr>\n",
       "      <th>6919</th>\n",
       "      <td>S002-BISH-07058</td>\n",
       "      <td>BISH</td>\n",
       "      <td>0.0</td>\n",
       "      <td>0.0</td>\n",
       "      <td>0.0</td>\n",
       "      <td>0.0</td>\n",
       "      <td>0.0</td>\n",
       "      <td>0.0</td>\n",
       "      <td>0.0</td>\n",
       "      <td>0.0</td>\n",
       "      <td>...</td>\n",
       "      <td>0.0</td>\n",
       "      <td>0.0</td>\n",
       "      <td>0.0</td>\n",
       "      <td>0.0</td>\n",
       "      <td>0.0</td>\n",
       "      <td>0.0</td>\n",
       "      <td>0.0</td>\n",
       "      <td>0.0</td>\n",
       "      <td>0.0</td>\n",
       "      <td>0.0</td>\n",
       "    </tr>\n",
       "    <tr>\n",
       "      <th>6920</th>\n",
       "      <td>S002-BISH-07059</td>\n",
       "      <td>BISH</td>\n",
       "      <td>0.0</td>\n",
       "      <td>0.0</td>\n",
       "      <td>0.0</td>\n",
       "      <td>0.0</td>\n",
       "      <td>0.0</td>\n",
       "      <td>0.0</td>\n",
       "      <td>0.0</td>\n",
       "      <td>0.0</td>\n",
       "      <td>...</td>\n",
       "      <td>0.0</td>\n",
       "      <td>0.0</td>\n",
       "      <td>0.0</td>\n",
       "      <td>0.0</td>\n",
       "      <td>0.0</td>\n",
       "      <td>0.0</td>\n",
       "      <td>0.0</td>\n",
       "      <td>0.0</td>\n",
       "      <td>0.0</td>\n",
       "      <td>0.0</td>\n",
       "    </tr>\n",
       "    <tr>\n",
       "      <th>6921</th>\n",
       "      <td>S002-BISH-07060</td>\n",
       "      <td>BISH</td>\n",
       "      <td>0.0</td>\n",
       "      <td>0.0</td>\n",
       "      <td>0.0</td>\n",
       "      <td>0.0</td>\n",
       "      <td>1.0</td>\n",
       "      <td>0.0</td>\n",
       "      <td>0.0</td>\n",
       "      <td>0.0</td>\n",
       "      <td>...</td>\n",
       "      <td>0.0</td>\n",
       "      <td>0.0</td>\n",
       "      <td>0.0</td>\n",
       "      <td>0.0</td>\n",
       "      <td>0.0</td>\n",
       "      <td>0.0</td>\n",
       "      <td>0.0</td>\n",
       "      <td>0.0</td>\n",
       "      <td>0.0</td>\n",
       "      <td>0.0</td>\n",
       "    </tr>\n",
       "    <tr>\n",
       "      <th>6922</th>\n",
       "      <td>S002-BISH-07061</td>\n",
       "      <td>BISH</td>\n",
       "      <td>0.0</td>\n",
       "      <td>0.0</td>\n",
       "      <td>0.0</td>\n",
       "      <td>0.0</td>\n",
       "      <td>0.0</td>\n",
       "      <td>0.0</td>\n",
       "      <td>0.0</td>\n",
       "      <td>0.0</td>\n",
       "      <td>...</td>\n",
       "      <td>0.0</td>\n",
       "      <td>0.0</td>\n",
       "      <td>0.0</td>\n",
       "      <td>0.0</td>\n",
       "      <td>0.0</td>\n",
       "      <td>0.0</td>\n",
       "      <td>0.0</td>\n",
       "      <td>0.0</td>\n",
       "      <td>0.0</td>\n",
       "      <td>0.0</td>\n",
       "    </tr>\n",
       "    <tr>\n",
       "      <th>6923</th>\n",
       "      <td>S002-BISH-07062</td>\n",
       "      <td>BISH</td>\n",
       "      <td>1.0</td>\n",
       "      <td>1.0</td>\n",
       "      <td>0.0</td>\n",
       "      <td>0.0</td>\n",
       "      <td>0.0</td>\n",
       "      <td>0.0</td>\n",
       "      <td>1.0</td>\n",
       "      <td>1.0</td>\n",
       "      <td>...</td>\n",
       "      <td>0.0</td>\n",
       "      <td>0.0</td>\n",
       "      <td>0.0</td>\n",
       "      <td>0.0</td>\n",
       "      <td>0.0</td>\n",
       "      <td>0.0</td>\n",
       "      <td>0.0</td>\n",
       "      <td>0.0</td>\n",
       "      <td>0.0</td>\n",
       "      <td>0.0</td>\n",
       "    </tr>\n",
       "  </tbody>\n",
       "</table>\n",
       "<p>5 rows × 113 columns</p>\n",
       "</div>"
      ],
      "text/plain": [
       "                patid patid.1  AnyDrugs2  AnyMJ2  AnyMeth2  AnyHair2  \\\n",
       "6919  S002-BISH-07058    BISH        0.0     0.0       0.0       0.0   \n",
       "6920  S002-BISH-07059    BISH        0.0     0.0       0.0       0.0   \n",
       "6921  S002-BISH-07060    BISH        0.0     0.0       0.0       0.0   \n",
       "6922  S002-BISH-07061    BISH        0.0     0.0       0.0       0.0   \n",
       "6923  S002-BISH-07062    BISH        1.0     1.0       0.0       0.0   \n",
       "\n",
       "      AnyHookah2  AnyOther2  AnyMJMeth2  MJ1YrPrior2  ...  TotOtherPreg  \\\n",
       "6919         0.0        0.0         0.0          0.0  ...           0.0   \n",
       "6920         0.0        0.0         0.0          0.0  ...           0.0   \n",
       "6921         1.0        0.0         0.0          0.0  ...           0.0   \n",
       "6922         0.0        0.0         0.0          0.0  ...           0.0   \n",
       "6923         0.0        0.0         1.0          1.0  ...           0.0   \n",
       "\n",
       "      TotOtherLMP  TotOtherT1  TotOtherT2  TotOtherT3  TotOtherPost  \\\n",
       "6919          0.0         0.0         0.0         0.0           0.0   \n",
       "6920          0.0         0.0         0.0         0.0           0.0   \n",
       "6921          0.0         0.0         0.0         0.0           0.0   \n",
       "6922          0.0         0.0         0.0         0.0           0.0   \n",
       "6923          0.0         0.0         0.0         0.0           0.0   \n",
       "\n",
       "      TotOther12wks  TotOther19wks  TotOther20wks  TotOther28wks  \n",
       "6919            0.0            0.0            0.0            0.0  \n",
       "6920            0.0            0.0            0.0            0.0  \n",
       "6921            0.0            0.0            0.0            0.0  \n",
       "6922            0.0            0.0            0.0            0.0  \n",
       "6923            0.0            0.0            0.0            0.0  \n",
       "\n",
       "[5 rows x 113 columns]"
      ]
     },
     "execution_count": 218,
     "metadata": {},
     "output_type": "execute_result"
    }
   ],
   "source": [
    "addrg.tail()"
   ]
  },
  {
   "cell_type": "code",
   "execution_count": 219,
   "metadata": {},
   "outputs": [
    {
     "data": {
      "text/plain": [
       "Index(['patid', 'patid.1', 'AnyDrugs2', 'AnyMJ2', 'AnyMeth2', 'AnyHair2',\n",
       "       'AnyHookah2', 'AnyOther2', 'AnyMJMeth2', 'MJ1YrPrior2',\n",
       "       ...\n",
       "       'TotOtherPreg', 'TotOtherLMP', 'TotOtherT1', 'TotOtherT2', 'TotOtherT3',\n",
       "       'TotOtherPost', 'TotOther12wks', 'TotOther19wks', 'TotOther20wks',\n",
       "       'TotOther28wks'],\n",
       "      dtype='object', length=113)"
      ]
     },
     "execution_count": 219,
     "metadata": {},
     "output_type": "execute_result"
    }
   ],
   "source": [
    "addrg.columns"
   ]
  },
  {
   "cell_type": "code",
   "execution_count": 331,
   "metadata": {},
   "outputs": [
    {
     "data": {
      "text/plain": [
       "['Hair1YrPrior2', 'Hair1YrPrior6']"
      ]
     },
     "execution_count": 331,
     "metadata": {},
     "output_type": "execute_result"
    }
   ],
   "source": [
    "[item for item in addrg.columns if 'hair1y' in item.lower()]"
   ]
  },
  {
   "cell_type": "code",
   "execution_count": 336,
   "metadata": {},
   "outputs": [
    {
     "data": {
      "text/plain": [
       "patid               object\n",
       "MJ1YrPrior6        float64\n",
       "MJLMP2             float64\n",
       "MJT12              float64\n",
       "MJT22              float64\n",
       "Meth1YrPrior6      float64\n",
       "MethLMP2           float64\n",
       "MethT12            float64\n",
       "MethT22            float64\n",
       "Hair1YrPrior6      float64\n",
       "HairLMP2           float64\n",
       "HairT12            float64\n",
       "HairT22            float64\n",
       "Hookah1YrPrior6    float64\n",
       "HookahLMP2         float64\n",
       "HookahT12          float64\n",
       "HookahT22          float64\n",
       "Other1YrPrior2     float64\n",
       "OtherLMP2          float64\n",
       "OtherT12           float64\n",
       "OtherT22           float64\n",
       "dtype: object"
      ]
     },
     "execution_count": 336,
     "metadata": {},
     "output_type": "execute_result"
    }
   ],
   "source": [
    "# Use only cols that are greenlisted\n",
    "addrg_cols = [ 'patid',\n",
    "    'Hair1YrPrior6', 'HairLMP2', 'HairT12', 'HairT22',\n",
    "    'Hookah1YrPrior6', 'HookahLMP2', 'HookahT12', 'HookahT22',\n",
    "    'Meth1YrPrior6', 'MethLMP2', 'MethT12', 'MethT22',\n",
    "    'MJ1YrPrior6', 'MJLMP2', 'MJT12', 'MJT22',\n",
    "    'Other1YrPrior2', 'OtherLMP2', 'OtherT12', 'OtherT22',\n",
    "]\n",
    "\n",
    "addrg = pd.read_csv('../data/raw/addrg_patid_DB.csv',\n",
    "                   usecols = addrg_cols)\n",
    "\n",
    "addrg.dtypes"
   ]
  },
  {
   "cell_type": "code",
   "execution_count": 337,
   "metadata": {},
   "outputs": [
    {
     "data": {
      "text/html": [
       "<div>\n",
       "<style scoped>\n",
       "    .dataframe tbody tr th:only-of-type {\n",
       "        vertical-align: middle;\n",
       "    }\n",
       "\n",
       "    .dataframe tbody tr th {\n",
       "        vertical-align: top;\n",
       "    }\n",
       "\n",
       "    .dataframe thead th {\n",
       "        text-align: right;\n",
       "    }\n",
       "</style>\n",
       "<table border=\"1\" class=\"dataframe\">\n",
       "  <thead>\n",
       "    <tr style=\"text-align: right;\">\n",
       "      <th></th>\n",
       "      <th>MJ1YrPrior6</th>\n",
       "      <th>MJLMP2</th>\n",
       "      <th>MJT12</th>\n",
       "      <th>MJT22</th>\n",
       "      <th>Meth1YrPrior6</th>\n",
       "      <th>MethLMP2</th>\n",
       "      <th>MethT12</th>\n",
       "      <th>MethT22</th>\n",
       "      <th>Hair1YrPrior6</th>\n",
       "      <th>HairLMP2</th>\n",
       "      <th>HairT12</th>\n",
       "      <th>HairT22</th>\n",
       "      <th>Hookah1YrPrior6</th>\n",
       "      <th>HookahLMP2</th>\n",
       "      <th>HookahT12</th>\n",
       "      <th>HookahT22</th>\n",
       "      <th>Other1YrPrior2</th>\n",
       "      <th>OtherLMP2</th>\n",
       "      <th>OtherT12</th>\n",
       "      <th>OtherT22</th>\n",
       "    </tr>\n",
       "  </thead>\n",
       "  <tbody>\n",
       "    <tr>\n",
       "      <th>min</th>\n",
       "      <td>-999999.0</td>\n",
       "      <td>-999999.0</td>\n",
       "      <td>-999999.0</td>\n",
       "      <td>-999999.0</td>\n",
       "      <td>-999999.0</td>\n",
       "      <td>-999999.0</td>\n",
       "      <td>-999999.0</td>\n",
       "      <td>-999999.0</td>\n",
       "      <td>-999999.0</td>\n",
       "      <td>-999999.0</td>\n",
       "      <td>-999999.0</td>\n",
       "      <td>-999999.0</td>\n",
       "      <td>-999999.0</td>\n",
       "      <td>-999999.0</td>\n",
       "      <td>-999999.0</td>\n",
       "      <td>-999999.0</td>\n",
       "      <td>-999999.0</td>\n",
       "      <td>-999999.0</td>\n",
       "      <td>-999999.0</td>\n",
       "      <td>-999999.0</td>\n",
       "    </tr>\n",
       "    <tr>\n",
       "      <th>25%</th>\n",
       "      <td>0.0</td>\n",
       "      <td>0.0</td>\n",
       "      <td>0.0</td>\n",
       "      <td>0.0</td>\n",
       "      <td>0.0</td>\n",
       "      <td>0.0</td>\n",
       "      <td>0.0</td>\n",
       "      <td>0.0</td>\n",
       "      <td>0.0</td>\n",
       "      <td>0.0</td>\n",
       "      <td>0.0</td>\n",
       "      <td>0.0</td>\n",
       "      <td>-999999.0</td>\n",
       "      <td>-999999.0</td>\n",
       "      <td>-999999.0</td>\n",
       "      <td>-999999.0</td>\n",
       "      <td>0.0</td>\n",
       "      <td>0.0</td>\n",
       "      <td>0.0</td>\n",
       "      <td>0.0</td>\n",
       "    </tr>\n",
       "    <tr>\n",
       "      <th>50%</th>\n",
       "      <td>0.0</td>\n",
       "      <td>0.0</td>\n",
       "      <td>0.0</td>\n",
       "      <td>0.0</td>\n",
       "      <td>0.0</td>\n",
       "      <td>0.0</td>\n",
       "      <td>0.0</td>\n",
       "      <td>0.0</td>\n",
       "      <td>0.0</td>\n",
       "      <td>0.0</td>\n",
       "      <td>0.0</td>\n",
       "      <td>0.0</td>\n",
       "      <td>-999999.0</td>\n",
       "      <td>-999999.0</td>\n",
       "      <td>-999999.0</td>\n",
       "      <td>-999999.0</td>\n",
       "      <td>0.0</td>\n",
       "      <td>0.0</td>\n",
       "      <td>0.0</td>\n",
       "      <td>0.0</td>\n",
       "    </tr>\n",
       "    <tr>\n",
       "      <th>75%</th>\n",
       "      <td>0.0</td>\n",
       "      <td>0.0</td>\n",
       "      <td>0.0</td>\n",
       "      <td>0.0</td>\n",
       "      <td>0.0</td>\n",
       "      <td>0.0</td>\n",
       "      <td>0.0</td>\n",
       "      <td>0.0</td>\n",
       "      <td>0.0</td>\n",
       "      <td>0.0</td>\n",
       "      <td>0.0</td>\n",
       "      <td>0.0</td>\n",
       "      <td>0.0</td>\n",
       "      <td>0.0</td>\n",
       "      <td>0.0</td>\n",
       "      <td>0.0</td>\n",
       "      <td>0.0</td>\n",
       "      <td>0.0</td>\n",
       "      <td>0.0</td>\n",
       "      <td>0.0</td>\n",
       "    </tr>\n",
       "    <tr>\n",
       "      <th>max</th>\n",
       "      <td>5.0</td>\n",
       "      <td>1.0</td>\n",
       "      <td>1.0</td>\n",
       "      <td>1.0</td>\n",
       "      <td>5.0</td>\n",
       "      <td>1.0</td>\n",
       "      <td>1.0</td>\n",
       "      <td>1.0</td>\n",
       "      <td>0.0</td>\n",
       "      <td>0.0</td>\n",
       "      <td>0.0</td>\n",
       "      <td>1.0</td>\n",
       "      <td>5.0</td>\n",
       "      <td>1.0</td>\n",
       "      <td>1.0</td>\n",
       "      <td>1.0</td>\n",
       "      <td>1.0</td>\n",
       "      <td>1.0</td>\n",
       "      <td>1.0</td>\n",
       "      <td>1.0</td>\n",
       "    </tr>\n",
       "  </tbody>\n",
       "</table>\n",
       "</div>"
      ],
      "text/plain": [
       "     MJ1YrPrior6    MJLMP2     MJT12     MJT22  Meth1YrPrior6  MethLMP2  \\\n",
       "min    -999999.0 -999999.0 -999999.0 -999999.0      -999999.0 -999999.0   \n",
       "25%          0.0       0.0       0.0       0.0            0.0       0.0   \n",
       "50%          0.0       0.0       0.0       0.0            0.0       0.0   \n",
       "75%          0.0       0.0       0.0       0.0            0.0       0.0   \n",
       "max          5.0       1.0       1.0       1.0            5.0       1.0   \n",
       "\n",
       "      MethT12   MethT22  Hair1YrPrior6  HairLMP2   HairT12   HairT22  \\\n",
       "min -999999.0 -999999.0      -999999.0 -999999.0 -999999.0 -999999.0   \n",
       "25%       0.0       0.0            0.0       0.0       0.0       0.0   \n",
       "50%       0.0       0.0            0.0       0.0       0.0       0.0   \n",
       "75%       0.0       0.0            0.0       0.0       0.0       0.0   \n",
       "max       1.0       1.0            0.0       0.0       0.0       1.0   \n",
       "\n",
       "     Hookah1YrPrior6  HookahLMP2  HookahT12  HookahT22  Other1YrPrior2  \\\n",
       "min        -999999.0   -999999.0  -999999.0  -999999.0       -999999.0   \n",
       "25%        -999999.0   -999999.0  -999999.0  -999999.0             0.0   \n",
       "50%        -999999.0   -999999.0  -999999.0  -999999.0             0.0   \n",
       "75%              0.0         0.0        0.0        0.0             0.0   \n",
       "max              5.0         1.0        1.0        1.0             1.0   \n",
       "\n",
       "     OtherLMP2  OtherT12  OtherT22  \n",
       "min  -999999.0 -999999.0 -999999.0  \n",
       "25%        0.0       0.0       0.0  \n",
       "50%        0.0       0.0       0.0  \n",
       "75%        0.0       0.0       0.0  \n",
       "max        1.0       1.0       1.0  "
      ]
     },
     "execution_count": 337,
     "metadata": {},
     "output_type": "execute_result"
    }
   ],
   "source": [
    "addrg.describe()[3:]"
   ]
  },
  {
   "cell_type": "code",
   "execution_count": 339,
   "metadata": {},
   "outputs": [
    {
     "data": {
      "text/plain": [
       "0"
      ]
     },
     "execution_count": 339,
     "metadata": {},
     "output_type": "execute_result"
    }
   ],
   "source": [
    "addrg.isnull().sum().sum()  # no \"traditional\" nulls"
   ]
  },
  {
   "cell_type": "markdown",
   "metadata": {},
   "source": [
    "<font size=4 style=\"background-color:lightgreen;\">\n",
    "    Good! No duplicated PATIDs.\n",
    "</font>"
   ]
  },
  {
   "cell_type": "code",
   "execution_count": 824,
   "metadata": {},
   "outputs": [
    {
     "name": "stdout",
     "output_type": "stream",
     "text": [
      "N Records: 6924\n",
      "N Unique PATIDs: 6924\n"
     ]
    }
   ],
   "source": [
    "print('N Records:', addrg.shape[0])\n",
    "print('N Unique PATIDs:', addrg.patid.unique().shape[0])"
   ]
  },
  {
   "cell_type": "code",
   "execution_count": 726,
   "metadata": {},
   "outputs": [
    {
     "data": {
      "image/png": "[encoded data removed]",
      "text/plain": [
       "<Figure size 864x936 with 20 Axes>"
      ]
     },
     "metadata": {
      "needs_background": "light"
     },
     "output_type": "display_data"
    }
   ],
   "source": [
    "# Final\n",
    "addrg_cols = [ 'patid',\n",
    "    'Hair1YrPrior6', 'HairLMP2', 'HairT12', 'HairT22',\n",
    "    'Hookah1YrPrior6', 'HookahLMP2', 'HookahT12', 'HookahT22',\n",
    "    'Meth1YrPrior6', 'MethLMP2', 'MethT12', 'MethT22',\n",
    "    'MJ1YrPrior6', 'MJLMP2', 'MJT12', 'MJT22',\n",
    "    'Other1YrPrior2', 'OtherLMP2', 'OtherT12', 'OtherT22',\n",
    "]\n",
    "addrg = pd.read_csv('../data/raw/addrg_patid_DB.csv',\n",
    "                   usecols = addrg_cols)\n",
    "addrg.columns = map(str.lower, addrg.columns)\n",
    "# Viz\n",
    "addrg.replace(-999999,np.nan).dropna().hist(figsize=(12,13));"
   ]
  },
  {
   "cell_type": "markdown",
   "metadata": {},
   "source": [
    "### How many nonzero/nonnull entries per feature?"
   ]
  },
  {
   "cell_type": "code",
   "execution_count": 735,
   "metadata": {},
   "outputs": [
    {
     "name": "stdout",
     "output_type": "stream",
     "text": [
      "Addrg Record Count: 6924\n"
     ]
    },
    {
     "data": {
      "text/plain": [
       "mj1yrprior6        327\n",
       "mjlmp2             167\n",
       "mjt12              321\n",
       "mjt22              335\n",
       "meth1yrprior6      101\n",
       "methlmp2            54\n",
       "metht12            143\n",
       "metht22            200\n",
       "hair1yrprior6        0\n",
       "hairlmp2             0\n",
       "hairt12              0\n",
       "hairt22              2\n",
       "hookah1yrprior6    338\n",
       "hookahlmp2         174\n",
       "hookaht12          329\n",
       "hookaht22          235\n",
       "other1yrprior2      20\n",
       "otherlmp2            7\n",
       "othert12            14\n",
       "othert22            16\n",
       "dtype: int64"
      ]
     },
     "execution_count": 735,
     "metadata": {},
     "output_type": "execute_result"
    }
   ],
   "source": [
    "print('Addrg Record Count:', len(addrg))\n",
    "addrg.drop('patid',axis=1).replace(-999999,0).applymap(lambda x: 1 if x!=0 else 0).sum()"
   ]
  },
  {
   "cell_type": "code",
   "execution_count": 734,
   "metadata": {},
   "outputs": [
    {
     "name": "stdout",
     "output_type": "stream",
     "text": [
      "Percent of Nonzero/Nonnull Values:\n"
     ]
    },
    {
     "data": {
      "text/plain": [
       "mj1yrprior6        4.72%\n",
       "mjlmp2             2.41%\n",
       "mjt12              4.64%\n",
       "mjt22              4.84%\n",
       "meth1yrprior6      1.46%\n",
       "methlmp2           0.78%\n",
       "metht12            2.07%\n",
       "metht22            2.89%\n",
       "hair1yrprior6       0.0%\n",
       "hairlmp2            0.0%\n",
       "hairt12             0.0%\n",
       "hairt22            0.03%\n",
       "hookah1yrprior6    4.88%\n",
       "hookahlmp2         2.51%\n",
       "hookaht12          4.75%\n",
       "hookaht22          3.39%\n",
       "other1yrprior2     0.29%\n",
       "otherlmp2           0.1%\n",
       "othert12            0.2%\n",
       "othert22           0.23%\n",
       "dtype: object"
      ]
     },
     "execution_count": 734,
     "metadata": {},
     "output_type": "execute_result"
    }
   ],
   "source": [
    "print('Percent of Nonzero/Nonnull Values:')\n",
    "addrg.drop('patid',axis=1).replace(-999999,0).applymap(lambda x: 1 if x!=0 else 0).sum().\\\n",
    "    map(lambda x: round(x*100/len(addrg), 2)).map(lambda x: str(x)+'%')"
   ]
  },
  {
   "cell_type": "code",
   "execution_count": null,
   "metadata": {},
   "outputs": [],
   "source": []
  },
  {
   "cell_type": "code",
   "execution_count": null,
   "metadata": {},
   "outputs": [],
   "source": []
  },
  {
   "cell_type": "markdown",
   "metadata": {},
   "source": [
    "---------------------------------------------------\n",
    "\n",
    "<font color='red' size=10>\n",
    "    <b>adedin_merged_edit_bish</b>\n",
    "</font>\n",
    "\n",
    "<br>\n",
    "\n",
    "In SharePoint file `mbh001/DemoMetaClinical_DataDictionary/DataDictionary/mbh001_Dictionary-of-Variable-terms_20181119_V2.xlsx` tab 1 (\"Demographic Variables\") and tab2 (\"Demographic Variables Kept\"), Dani \n",
    "green lights the following vars:\n",
    "* **EDINBURGH_Raw_All-10-15-20** - \"Edinburgh Depression Scale Total Score\"\n",
    "    - <i> renamed EDINBURGH in some of the code below </i>\n",
    "    - NOTE FROM DANI:  \"No outliers - Few missing - Built by DB!\"\n",
    "* **CycleID_All-10-15-20** - cycle ID\n",
    "    - renamed CycleID in some of the code below\n",
    "    - **NOTE**: this var is semi-optional:  (i) Bill Fifer actually said it's likely\n",
    "      an ok approximation to ignore Cycle ID on the mental health vars and treat\n",
    "      the var as applicable over the full term of the pregnanacy (independent of\n",
    "      when they were measured), which means we wouldn't use this varialbe;  however,\n",
    "      (ii) Dani was interested in keeping it as a potential interaction var, where\n",
    "      something like a random forest can make more intelligent decisions based on \n",
    "      it.  \n",
    "\n",
    "\n",
    "\n",
    "<br>\n",
    "<font style=\"background-color:yellow;\">\n",
    "    <b>IMPORTANT</b>: NaN detected, despite Dani's filtering procedures...\n",
    "</font>\n",
    "\n",
    "\n",
    "```python\n",
    "adedin_merged_edit_bish.query(f\"EDINBURGH not in {list(range(0,31)) + [-999999]}\")\n",
    "\n",
    "        patid\t        EDINBURGH\tCycleID\n",
    "4823\tS002-BISH-05186\tNaN\t        10\n",
    "```\n",
    "\n",
    "<br><br>\n",
    "<font style=\"background-color:sandybrown;\">\n",
    "    <b>UPDATE (Dec 4, mtg w/ Dani)</b>:  After playing with the data enough, Dani agrees\n",
    "    with Bill Fifer that Edinburgh measurements are stable enough (at least in distribution)\n",
    "    to assume they are stable enough for an individual over several month to consider\n",
    "    them constant, thus not needing the measurement's GA.  However, if we're using a random\n",
    "    forest and it doesn't hurt, there is no hugely pressing need to drop the var.  Player's\n",
    "    choice!\n",
    "</font>\n",
    "\n",
    "### FINAL Code\n",
    "------------------------------\n",
    "```python\n",
    "adedin_merged_edit_bish = pd.read_csv('../data/raw/adedin_merged_edit_bish_DB.csv')\n",
    "adedin_merged_edit_bish.columns = ['patid', 'edinburgh', 'edinburgh_cycle_id']\n",
    "adedin_merged_edit_bish.fillna(-999999, inplace=True)\n",
    "```\n",
    "------------------------------"
   ]
  },
  {
   "cell_type": "code",
   "execution_count": 236,
   "metadata": {},
   "outputs": [],
   "source": [
    "adedin_merged_edit_bish = pd.read_csv('../data/raw/adedin_merged_edit_bish_DB.csv')"
   ]
  },
  {
   "cell_type": "code",
   "execution_count": 238,
   "metadata": {},
   "outputs": [
    {
     "data": {
      "text/plain": [
       "(6588, 3)"
      ]
     },
     "execution_count": 238,
     "metadata": {},
     "output_type": "execute_result"
    }
   ],
   "source": [
    "adedin_merged_edit_bish.shape"
   ]
  },
  {
   "cell_type": "code",
   "execution_count": 240,
   "metadata": {},
   "outputs": [
    {
     "data": {
      "text/plain": [
       "Index(['patid', 'EDINBURGH_Raw_All-10-15-20_DB', 'CycleID_All-10-15-20_DB'], dtype='object')"
      ]
     },
     "execution_count": 240,
     "metadata": {},
     "output_type": "execute_result"
    }
   ],
   "source": [
    "adedin_merged_edit_bish.columns"
   ]
  },
  {
   "cell_type": "code",
   "execution_count": 283,
   "metadata": {},
   "outputs": [
    {
     "data": {
      "text/plain": [
       "['patid', 'EDINBURGH', 'CycleID']"
      ]
     },
     "execution_count": 283,
     "metadata": {},
     "output_type": "execute_result"
    }
   ],
   "source": [
    "list(map(lambda x: x.split('_')[0], adedin_merged_edit_bish.columns))"
   ]
  },
  {
   "cell_type": "code",
   "execution_count": 284,
   "metadata": {},
   "outputs": [],
   "source": [
    "adedin_merged_edit_bish.columns = map(lambda x: x.split('_')[0], adedin_merged_edit_bish.columns)"
   ]
  },
  {
   "cell_type": "code",
   "execution_count": 285,
   "metadata": {},
   "outputs": [
    {
     "data": {
      "text/html": [
       "<div>\n",
       "<style scoped>\n",
       "    .dataframe tbody tr th:only-of-type {\n",
       "        vertical-align: middle;\n",
       "    }\n",
       "\n",
       "    .dataframe tbody tr th {\n",
       "        vertical-align: top;\n",
       "    }\n",
       "\n",
       "    .dataframe thead th {\n",
       "        text-align: right;\n",
       "    }\n",
       "</style>\n",
       "<table border=\"1\" class=\"dataframe\">\n",
       "  <thead>\n",
       "    <tr style=\"text-align: right;\">\n",
       "      <th></th>\n",
       "      <th>patid</th>\n",
       "      <th>EDINBURGH</th>\n",
       "      <th>CycleID</th>\n",
       "    </tr>\n",
       "  </thead>\n",
       "  <tbody>\n",
       "    <tr>\n",
       "      <th>0</th>\n",
       "      <td>S002-BISH-00001</td>\n",
       "      <td>5.0</td>\n",
       "      <td>10</td>\n",
       "    </tr>\n",
       "    <tr>\n",
       "      <th>1</th>\n",
       "      <td>S002-BISH-00002</td>\n",
       "      <td>25.0</td>\n",
       "      <td>10</td>\n",
       "    </tr>\n",
       "    <tr>\n",
       "      <th>2</th>\n",
       "      <td>S002-BISH-00003</td>\n",
       "      <td>13.0</td>\n",
       "      <td>10</td>\n",
       "    </tr>\n",
       "    <tr>\n",
       "      <th>3</th>\n",
       "      <td>S002-BISH-00004</td>\n",
       "      <td>5.0</td>\n",
       "      <td>10</td>\n",
       "    </tr>\n",
       "    <tr>\n",
       "      <th>4</th>\n",
       "      <td>S002-BISH-00005</td>\n",
       "      <td>13.0</td>\n",
       "      <td>20</td>\n",
       "    </tr>\n",
       "  </tbody>\n",
       "</table>\n",
       "</div>"
      ],
      "text/plain": [
       "             patid  EDINBURGH  CycleID\n",
       "0  S002-BISH-00001        5.0       10\n",
       "1  S002-BISH-00002       25.0       10\n",
       "2  S002-BISH-00003       13.0       10\n",
       "3  S002-BISH-00004        5.0       10\n",
       "4  S002-BISH-00005       13.0       20"
      ]
     },
     "execution_count": 285,
     "metadata": {},
     "output_type": "execute_result"
    }
   ],
   "source": [
    "adedin_merged_edit_bish.head()"
   ]
  },
  {
   "cell_type": "code",
   "execution_count": 286,
   "metadata": {},
   "outputs": [
    {
     "data": {
      "text/html": [
       "<div>\n",
       "<style scoped>\n",
       "    .dataframe tbody tr th:only-of-type {\n",
       "        vertical-align: middle;\n",
       "    }\n",
       "\n",
       "    .dataframe tbody tr th {\n",
       "        vertical-align: top;\n",
       "    }\n",
       "\n",
       "    .dataframe thead th {\n",
       "        text-align: right;\n",
       "    }\n",
       "</style>\n",
       "<table border=\"1\" class=\"dataframe\">\n",
       "  <thead>\n",
       "    <tr style=\"text-align: right;\">\n",
       "      <th></th>\n",
       "      <th>patid</th>\n",
       "      <th>EDINBURGH</th>\n",
       "      <th>CycleID</th>\n",
       "    </tr>\n",
       "  </thead>\n",
       "  <tbody>\n",
       "    <tr>\n",
       "      <th>6583</th>\n",
       "      <td>S002-BISH-07058</td>\n",
       "      <td>18.0</td>\n",
       "      <td>10</td>\n",
       "    </tr>\n",
       "    <tr>\n",
       "      <th>6584</th>\n",
       "      <td>S002-BISH-07059</td>\n",
       "      <td>17.0</td>\n",
       "      <td>20</td>\n",
       "    </tr>\n",
       "    <tr>\n",
       "      <th>6585</th>\n",
       "      <td>S002-BISH-07060</td>\n",
       "      <td>15.0</td>\n",
       "      <td>10</td>\n",
       "    </tr>\n",
       "    <tr>\n",
       "      <th>6586</th>\n",
       "      <td>S002-BISH-07061</td>\n",
       "      <td>8.0</td>\n",
       "      <td>10</td>\n",
       "    </tr>\n",
       "    <tr>\n",
       "      <th>6587</th>\n",
       "      <td>S002-BISH-07062</td>\n",
       "      <td>23.0</td>\n",
       "      <td>20</td>\n",
       "    </tr>\n",
       "  </tbody>\n",
       "</table>\n",
       "</div>"
      ],
      "text/plain": [
       "                patid  EDINBURGH  CycleID\n",
       "6583  S002-BISH-07058       18.0       10\n",
       "6584  S002-BISH-07059       17.0       20\n",
       "6585  S002-BISH-07060       15.0       10\n",
       "6586  S002-BISH-07061        8.0       10\n",
       "6587  S002-BISH-07062       23.0       20"
      ]
     },
     "execution_count": 286,
     "metadata": {},
     "output_type": "execute_result"
    }
   ],
   "source": [
    "adedin_merged_edit_bish.tail()"
   ]
  },
  {
   "cell_type": "code",
   "execution_count": 340,
   "metadata": {},
   "outputs": [
    {
     "data": {
      "text/html": [
       "<div>\n",
       "<style scoped>\n",
       "    .dataframe tbody tr th:only-of-type {\n",
       "        vertical-align: middle;\n",
       "    }\n",
       "\n",
       "    .dataframe tbody tr th {\n",
       "        vertical-align: top;\n",
       "    }\n",
       "\n",
       "    .dataframe thead th {\n",
       "        text-align: right;\n",
       "    }\n",
       "</style>\n",
       "<table border=\"1\" class=\"dataframe\">\n",
       "  <thead>\n",
       "    <tr style=\"text-align: right;\">\n",
       "      <th></th>\n",
       "      <th>EDINBURGH</th>\n",
       "      <th>CycleID</th>\n",
       "    </tr>\n",
       "  </thead>\n",
       "  <tbody>\n",
       "    <tr>\n",
       "      <th>min</th>\n",
       "      <td>-999999.0</td>\n",
       "      <td>-999999.0</td>\n",
       "    </tr>\n",
       "    <tr>\n",
       "      <th>25%</th>\n",
       "      <td>9.0</td>\n",
       "      <td>10.0</td>\n",
       "    </tr>\n",
       "    <tr>\n",
       "      <th>50%</th>\n",
       "      <td>13.0</td>\n",
       "      <td>10.0</td>\n",
       "    </tr>\n",
       "    <tr>\n",
       "      <th>75%</th>\n",
       "      <td>17.0</td>\n",
       "      <td>20.0</td>\n",
       "    </tr>\n",
       "    <tr>\n",
       "      <th>max</th>\n",
       "      <td>30.0</td>\n",
       "      <td>20.0</td>\n",
       "    </tr>\n",
       "  </tbody>\n",
       "</table>\n",
       "</div>"
      ],
      "text/plain": [
       "     EDINBURGH   CycleID\n",
       "min  -999999.0 -999999.0\n",
       "25%        9.0      10.0\n",
       "50%       13.0      10.0\n",
       "75%       17.0      20.0\n",
       "max       30.0      20.0"
      ]
     },
     "execution_count": 340,
     "metadata": {},
     "output_type": "execute_result"
    }
   ],
   "source": [
    "adedin_merged_edit_bish.describe()[3:]"
   ]
  },
  {
   "cell_type": "code",
   "execution_count": 349,
   "metadata": {},
   "outputs": [
    {
     "name": "stdout",
     "output_type": "stream",
     "text": [
      "patid        0\n",
      "EDINBURGH    1\n",
      "CycleID      0\n",
      "dtype: int64\n"
     ]
    }
   ],
   "source": [
    "if adedin_merged_edit_bish.isnull().sum().sum() > 0:\n",
    "    print(adedin_merged_edit_bish.isnull().sum())\n",
    "else:\n",
    "    print(\"Nothing to see here!\")"
   ]
  },
  {
   "cell_type": "code",
   "execution_count": 359,
   "metadata": {},
   "outputs": [
    {
     "data": {
      "text/html": [
       "<div>\n",
       "<style scoped>\n",
       "    .dataframe tbody tr th:only-of-type {\n",
       "        vertical-align: middle;\n",
       "    }\n",
       "\n",
       "    .dataframe tbody tr th {\n",
       "        vertical-align: top;\n",
       "    }\n",
       "\n",
       "    .dataframe thead th {\n",
       "        text-align: right;\n",
       "    }\n",
       "</style>\n",
       "<table border=\"1\" class=\"dataframe\">\n",
       "  <thead>\n",
       "    <tr style=\"text-align: right;\">\n",
       "      <th></th>\n",
       "      <th>patid</th>\n",
       "      <th>EDINBURGH</th>\n",
       "      <th>CycleID</th>\n",
       "    </tr>\n",
       "  </thead>\n",
       "  <tbody>\n",
       "    <tr>\n",
       "      <th>4823</th>\n",
       "      <td>S002-BISH-05186</td>\n",
       "      <td>NaN</td>\n",
       "      <td>10</td>\n",
       "    </tr>\n",
       "  </tbody>\n",
       "</table>\n",
       "</div>"
      ],
      "text/plain": [
       "                patid  EDINBURGH  CycleID\n",
       "4823  S002-BISH-05186        NaN       10"
      ]
     },
     "execution_count": 359,
     "metadata": {},
     "output_type": "execute_result"
    }
   ],
   "source": [
    "adedin_merged_edit_bish.query(\n",
    "    \"EDINBURGH not in [-999999,0,1,2,3,4,5,6,7,8,9,10,11,12,13,14,15,16,17,18,19,20,21,22,23,24,25,26,27,28,29,30]\"\n",
    ")"
   ]
  },
  {
   "cell_type": "code",
   "execution_count": 311,
   "metadata": {},
   "outputs": [
    {
     "data": {
      "text/html": [
       "<div>\n",
       "<style scoped>\n",
       "    .dataframe tbody tr th:only-of-type {\n",
       "        vertical-align: middle;\n",
       "    }\n",
       "\n",
       "    .dataframe tbody tr th {\n",
       "        vertical-align: top;\n",
       "    }\n",
       "\n",
       "    .dataframe thead th {\n",
       "        text-align: right;\n",
       "    }\n",
       "</style>\n",
       "<table border=\"1\" class=\"dataframe\">\n",
       "  <thead>\n",
       "    <tr style=\"text-align: right;\">\n",
       "      <th></th>\n",
       "      <th>patid</th>\n",
       "      <th>EDINBURGH</th>\n",
       "      <th>CycleID</th>\n",
       "    </tr>\n",
       "  </thead>\n",
       "  <tbody>\n",
       "    <tr>\n",
       "      <th>4823</th>\n",
       "      <td>S002-BISH-05186</td>\n",
       "      <td>NaN</td>\n",
       "      <td>10</td>\n",
       "    </tr>\n",
       "  </tbody>\n",
       "</table>\n",
       "</div>"
      ],
      "text/plain": [
       "                patid  EDINBURGH  CycleID\n",
       "4823  S002-BISH-05186        NaN       10"
      ]
     },
     "execution_count": 311,
     "metadata": {},
     "output_type": "execute_result"
    }
   ],
   "source": [
    "adedin_merged_edit_bish.query(f\"EDINBURGH not in {list(range(0,31)) + [-999999]}\")"
   ]
  },
  {
   "cell_type": "code",
   "execution_count": 369,
   "metadata": {},
   "outputs": [
    {
     "data": {
      "text/plain": [
       "0"
      ]
     },
     "execution_count": 369,
     "metadata": {},
     "output_type": "execute_result"
    }
   ],
   "source": [
    "# Check that we removed the one NaN\n",
    "len(adedin_merged_edit_bish.query(f\"edinburgh not in {list(range(0,31)) + [-999999]}\"))"
   ]
  },
  {
   "cell_type": "markdown",
   "metadata": {},
   "source": [
    "<font size=4 style=\"background-color:lightgreen;\">\n",
    "    Good! No duplicated PATIDs.\n",
    "</font>"
   ]
  },
  {
   "cell_type": "code",
   "execution_count": 825,
   "metadata": {},
   "outputs": [
    {
     "name": "stdout",
     "output_type": "stream",
     "text": [
      "N Records: 6588\n",
      "N Unique PATIDs: 6588\n"
     ]
    }
   ],
   "source": [
    "print('N Records:', adedin_merged_edit_bish.shape[0])\n",
    "print('N Unique PATIDs:', adedin_merged_edit_bish.patid.unique().shape[0])"
   ]
  },
  {
   "cell_type": "code",
   "execution_count": 737,
   "metadata": {},
   "outputs": [
    {
     "data": {
      "text/plain": [
       "array([[<matplotlib.axes._subplots.AxesSubplot object at 0x134de6b38>,\n",
       "        <matplotlib.axes._subplots.AxesSubplot object at 0x136092a90>]],\n",
       "      dtype=object)"
      ]
     },
     "execution_count": 737,
     "metadata": {},
     "output_type": "execute_result"
    },
    {
     "data": {
      "image/png": "[encoded data removed]",
      "text/plain": [
       "<Figure size 432x288 with 2 Axes>"
      ]
     },
     "metadata": {
      "needs_background": "light"
     },
     "output_type": "display_data"
    }
   ],
   "source": [
    "# Final\n",
    "adedin_merged_edit_bish = pd.read_csv('../data/raw/adedin_merged_edit_bish_DB.csv')\n",
    "adedin_merged_edit_bish.columns = ['patid', 'edinburgh', 'edinburgh_cycle_id']\n",
    "adedin_merged_edit_bish.fillna(-999999, inplace=True)\n",
    "# Viz\n",
    "adedin_merged_edit_bish.replace(-999999,np.nan).dropna().hist()"
   ]
  },
  {
   "cell_type": "code",
   "execution_count": null,
   "metadata": {},
   "outputs": [],
   "source": []
  },
  {
   "cell_type": "code",
   "execution_count": null,
   "metadata": {},
   "outputs": [],
   "source": []
  },
  {
   "cell_type": "markdown",
   "metadata": {},
   "source": [
    "------------------------------\n",
    "\n",
    "<font color='red' size=10>\n",
    "    <b>adelig_DB.csv</b>\n",
    "</font>\n",
    "\n",
    "<br>\n",
    "<font size=4 style=\"background-color:sandybrown;\">\n",
    "    <b>UPDATE 1 (Dec 4, mtg w/ Dani)</b>: My misinterpretation of the Excel tabs, DV/tab1 and DVK/tab2,\n",
    "    affect this code's logic.  To summarize, DVK/tab2 was exploratory while DV/tab1 was the final say; I\n",
    "    interpreted these tabs oppositely.  Dani already knew <font style=\"font-family:'Courier New';font-weight:bold;\">\n",
    "    hispanic2</font> was a bad variable (constant, no variation).  She actually wanted me to pluck\n",
    "    the vars she listed in tab1, <font style=\"font-family:'Courier New';font-weight:bold;\">raceai4</font>\n",
    "    and <font style=\"font-family:'Courier New';font-weight:bold;\">racenih7</font>\n",
    "</font>\n",
    "\n",
    "<br>\n",
    "<font size=4 style=\"background-color:sandybrown;\">\n",
    "    <b>UPDATE 2</b>:  Here we have <font style=\"font-family:'Courier New';font-weight:bold;\">MAT_AGE</font>\n",
    "    (maternal age), while in the ADSTAI table we have another age variable that records the mother's\n",
    "    age when she completed the anxiety test/questionnaire.  I suspected these two vars were completely\n",
    "    redundant, even if off by up to a year (e.g., mother enrolls in study at 37, has birthday a month\n",
    "    later, then takes anxiety test a month after that at 38).  Dani agreed; there was no special\n",
    "    reason to keep both; just an oversight.  \n",
    "</font>\n",
    "\n",
    "In SharePoint file `mbh001/DemoMetaClinical_DataDictionary/DataDictionary/mbh001_Dictionary-of-Variable-terms_20181119_V2.xlsx` tab 1 (\"Demographic Variables\"), Dani suggests keeping the following vars:\n",
    "* **MAT_AGE** - Maternal Age (years)\n",
    "* **RACEAI4** - Maternal Race (1: \"American Indian or Alaska Native\", 2: \"Mixed Ancestry\",\n",
    "  3: \"White\", 4: \"Other/Unknown\")\n",
    "* **RACENIH7** - \"Maternal Race, NIH Definition (1: \"American Indian or Alaskan Native\",\n",
    "  2: \"Asian\", 3: \"Black or African American\", 4: \"Mixed Ancestry\",\n",
    "  5: \"Native Hawaiian or other Pacific Islander\", 6: \"White\", 7: \"Other/Unknown\")\n",
    "\n",
    "However, in tab 2 (\"Demographic Variables Kept\"), Dani only keeps two of the vars:\n",
    "* **Hispanic2** - Maternal, Hispanic/Latina (binary var)\n",
    "* **MAT_AGE** - Maternal Age (years)\n",
    "\n",
    "\n",
    "<br>\n",
    "<font style=\"background-color:yellow;\">\n",
    "    <b>IMPORTANT</b>: the `hispanic2` var is essentially CONSTANT -- it is either zero or missing.\n",
    "</font>\n",
    "\n",
    "```python\n",
    "adelig.hispanic2.replace(-999999,0).sum()\n",
    "    0\n",
    "```\n",
    "\n",
    "\n",
    "### FINAL Code\n",
    "------------------------\n",
    "```python\n",
    "adelig = pd.read_csv('../data/raw/adelig_DB.csv', \n",
    "                     usecols = ['patid', 'Hispanic2', 'MAT_AGE'])\n",
    "adelig.columns = map(str.lower, adelig.columns)\n",
    "```\n",
    "------------------"
   ]
  },
  {
   "cell_type": "code",
   "execution_count": 983,
   "metadata": {},
   "outputs": [],
   "source": [
    "adelig = pd.read_csv('../data/raw/adelig_DB.csv', \n",
    "                     usecols = ['patid', 'Hispanic2', 'MAT_AGE'])\n",
    "adelig.columns = map(str.lower, adelig.columns)"
   ]
  },
  {
   "cell_type": "code",
   "execution_count": 828,
   "metadata": {},
   "outputs": [
    {
     "data": {
      "text/plain": [
       "(6924, 3)"
      ]
     },
     "execution_count": 828,
     "metadata": {},
     "output_type": "execute_result"
    }
   ],
   "source": [
    "adelig.shape"
   ]
  },
  {
   "cell_type": "code",
   "execution_count": 829,
   "metadata": {},
   "outputs": [
    {
     "data": {
      "text/plain": [
       "Index(['patid', 'mat_age', 'hispanic2'], dtype='object')"
      ]
     },
     "execution_count": 829,
     "metadata": {},
     "output_type": "execute_result"
    }
   ],
   "source": [
    "adelig.columns"
   ]
  },
  {
   "cell_type": "code",
   "execution_count": 830,
   "metadata": {},
   "outputs": [
    {
     "data": {
      "text/html": [
       "<div>\n",
       "<style scoped>\n",
       "    .dataframe tbody tr th:only-of-type {\n",
       "        vertical-align: middle;\n",
       "    }\n",
       "\n",
       "    .dataframe tbody tr th {\n",
       "        vertical-align: top;\n",
       "    }\n",
       "\n",
       "    .dataframe thead th {\n",
       "        text-align: right;\n",
       "    }\n",
       "</style>\n",
       "<table border=\"1\" class=\"dataframe\">\n",
       "  <thead>\n",
       "    <tr style=\"text-align: right;\">\n",
       "      <th></th>\n",
       "      <th>patid</th>\n",
       "      <th>mat_age</th>\n",
       "      <th>hispanic2</th>\n",
       "    </tr>\n",
       "  </thead>\n",
       "  <tbody>\n",
       "    <tr>\n",
       "      <th>0</th>\n",
       "      <td>S002-BISH-00001</td>\n",
       "      <td>24.0</td>\n",
       "      <td>0.0</td>\n",
       "    </tr>\n",
       "    <tr>\n",
       "      <th>1</th>\n",
       "      <td>S002-BISH-00002</td>\n",
       "      <td>26.0</td>\n",
       "      <td>0.0</td>\n",
       "    </tr>\n",
       "    <tr>\n",
       "      <th>2</th>\n",
       "      <td>S002-BISH-00003</td>\n",
       "      <td>17.0</td>\n",
       "      <td>0.0</td>\n",
       "    </tr>\n",
       "    <tr>\n",
       "      <th>3</th>\n",
       "      <td>S002-BISH-00004</td>\n",
       "      <td>24.0</td>\n",
       "      <td>0.0</td>\n",
       "    </tr>\n",
       "    <tr>\n",
       "      <th>4</th>\n",
       "      <td>S002-BISH-00005</td>\n",
       "      <td>22.0</td>\n",
       "      <td>0.0</td>\n",
       "    </tr>\n",
       "  </tbody>\n",
       "</table>\n",
       "</div>"
      ],
      "text/plain": [
       "             patid  mat_age  hispanic2\n",
       "0  S002-BISH-00001     24.0        0.0\n",
       "1  S002-BISH-00002     26.0        0.0\n",
       "2  S002-BISH-00003     17.0        0.0\n",
       "3  S002-BISH-00004     24.0        0.0\n",
       "4  S002-BISH-00005     22.0        0.0"
      ]
     },
     "execution_count": 830,
     "metadata": {},
     "output_type": "execute_result"
    }
   ],
   "source": [
    "adelig.head()"
   ]
  },
  {
   "cell_type": "code",
   "execution_count": 831,
   "metadata": {},
   "outputs": [
    {
     "data": {
      "text/html": [
       "<div>\n",
       "<style scoped>\n",
       "    .dataframe tbody tr th:only-of-type {\n",
       "        vertical-align: middle;\n",
       "    }\n",
       "\n",
       "    .dataframe tbody tr th {\n",
       "        vertical-align: top;\n",
       "    }\n",
       "\n",
       "    .dataframe thead th {\n",
       "        text-align: right;\n",
       "    }\n",
       "</style>\n",
       "<table border=\"1\" class=\"dataframe\">\n",
       "  <thead>\n",
       "    <tr style=\"text-align: right;\">\n",
       "      <th></th>\n",
       "      <th>patid</th>\n",
       "      <th>mat_age</th>\n",
       "      <th>hispanic2</th>\n",
       "    </tr>\n",
       "  </thead>\n",
       "  <tbody>\n",
       "    <tr>\n",
       "      <th>6919</th>\n",
       "      <td>S002-BISH-07058</td>\n",
       "      <td>24.0</td>\n",
       "      <td>0.0</td>\n",
       "    </tr>\n",
       "    <tr>\n",
       "      <th>6920</th>\n",
       "      <td>S002-BISH-07059</td>\n",
       "      <td>19.0</td>\n",
       "      <td>0.0</td>\n",
       "    </tr>\n",
       "    <tr>\n",
       "      <th>6921</th>\n",
       "      <td>S002-BISH-07060</td>\n",
       "      <td>26.0</td>\n",
       "      <td>0.0</td>\n",
       "    </tr>\n",
       "    <tr>\n",
       "      <th>6922</th>\n",
       "      <td>S002-BISH-07061</td>\n",
       "      <td>24.0</td>\n",
       "      <td>0.0</td>\n",
       "    </tr>\n",
       "    <tr>\n",
       "      <th>6923</th>\n",
       "      <td>S002-BISH-07062</td>\n",
       "      <td>17.0</td>\n",
       "      <td>0.0</td>\n",
       "    </tr>\n",
       "  </tbody>\n",
       "</table>\n",
       "</div>"
      ],
      "text/plain": [
       "                patid  mat_age  hispanic2\n",
       "6919  S002-BISH-07058     24.0        0.0\n",
       "6920  S002-BISH-07059     19.0        0.0\n",
       "6921  S002-BISH-07060     26.0        0.0\n",
       "6922  S002-BISH-07061     24.0        0.0\n",
       "6923  S002-BISH-07062     17.0        0.0"
      ]
     },
     "execution_count": 831,
     "metadata": {},
     "output_type": "execute_result"
    }
   ],
   "source": [
    "adelig.tail()"
   ]
  },
  {
   "cell_type": "code",
   "execution_count": 832,
   "metadata": {},
   "outputs": [
    {
     "data": {
      "text/html": [
       "<div>\n",
       "<style scoped>\n",
       "    .dataframe tbody tr th:only-of-type {\n",
       "        vertical-align: middle;\n",
       "    }\n",
       "\n",
       "    .dataframe tbody tr th {\n",
       "        vertical-align: top;\n",
       "    }\n",
       "\n",
       "    .dataframe thead th {\n",
       "        text-align: right;\n",
       "    }\n",
       "</style>\n",
       "<table border=\"1\" class=\"dataframe\">\n",
       "  <thead>\n",
       "    <tr style=\"text-align: right;\">\n",
       "      <th></th>\n",
       "      <th>mat_age</th>\n",
       "      <th>hispanic2</th>\n",
       "    </tr>\n",
       "  </thead>\n",
       "  <tbody>\n",
       "    <tr>\n",
       "      <th>min</th>\n",
       "      <td>15.0</td>\n",
       "      <td>0.0</td>\n",
       "    </tr>\n",
       "    <tr>\n",
       "      <th>25%</th>\n",
       "      <td>20.0</td>\n",
       "      <td>0.0</td>\n",
       "    </tr>\n",
       "    <tr>\n",
       "      <th>50%</th>\n",
       "      <td>24.0</td>\n",
       "      <td>0.0</td>\n",
       "    </tr>\n",
       "    <tr>\n",
       "      <th>75%</th>\n",
       "      <td>29.0</td>\n",
       "      <td>0.0</td>\n",
       "    </tr>\n",
       "    <tr>\n",
       "      <th>max</th>\n",
       "      <td>45.0</td>\n",
       "      <td>0.0</td>\n",
       "    </tr>\n",
       "  </tbody>\n",
       "</table>\n",
       "</div>"
      ],
      "text/plain": [
       "     mat_age  hispanic2\n",
       "min     15.0        0.0\n",
       "25%     20.0        0.0\n",
       "50%     24.0        0.0\n",
       "75%     29.0        0.0\n",
       "max     45.0        0.0"
      ]
     },
     "execution_count": 832,
     "metadata": {},
     "output_type": "execute_result"
    }
   ],
   "source": [
    "adelig.describe()[3:]"
   ]
  },
  {
   "cell_type": "code",
   "execution_count": 833,
   "metadata": {},
   "outputs": [
    {
     "data": {
      "text/plain": [
       "patid        0\n",
       "mat_age      0\n",
       "hispanic2    0\n",
       "dtype: int64"
      ]
     },
     "execution_count": 833,
     "metadata": {},
     "output_type": "execute_result"
    }
   ],
   "source": [
    "adelig.isnull().sum()"
   ]
  },
  {
   "cell_type": "code",
   "execution_count": 834,
   "metadata": {},
   "outputs": [
    {
     "data": {
      "text/plain": [
       "patid         object\n",
       "mat_age      float64\n",
       "hispanic2    float64\n",
       "dtype: object"
      ]
     },
     "execution_count": 834,
     "metadata": {},
     "output_type": "execute_result"
    }
   ],
   "source": [
    "adelig.dtypes"
   ]
  },
  {
   "cell_type": "markdown",
   "metadata": {},
   "source": [
    "<font size=4 style=\"background-color:lightgreen;\">\n",
    "    Good! No duplicated PATIDs.\n",
    "</font>"
   ]
  },
  {
   "cell_type": "code",
   "execution_count": 835,
   "metadata": {},
   "outputs": [
    {
     "name": "stdout",
     "output_type": "stream",
     "text": [
      "N Records: 6924\n",
      "N Unique PATIDs: 6924\n"
     ]
    }
   ],
   "source": [
    "print('N Records:', adelig.shape[0])\n",
    "print('N Unique PATIDs:', adelig.patid.unique().shape[0])"
   ]
  },
  {
   "cell_type": "code",
   "execution_count": 836,
   "metadata": {},
   "outputs": [
    {
     "data": {
      "image/png": "[encoded data removed]",
      "text/plain": [
       "<Figure size 432x288 with 2 Axes>"
      ]
     },
     "metadata": {
      "needs_background": "light"
     },
     "output_type": "display_data"
    }
   ],
   "source": [
    "# Final Code\n",
    "adelig = pd.read_csv('../data/raw/adelig_DB.csv', usecols = ['Hispanic2', 'MAT_AGE'])\n",
    "adelig.columns = map(str.lower, adelig.columns)\n",
    "# Viz\n",
    "adelig.hist();"
   ]
  },
  {
   "cell_type": "code",
   "execution_count": 837,
   "metadata": {},
   "outputs": [
    {
     "data": {
      "text/plain": [
       "0.0"
      ]
     },
     "execution_count": 837,
     "metadata": {},
     "output_type": "execute_result"
    }
   ],
   "source": [
    "# WTF?  the `hispanic2` var is either zero or missing...\n",
    "adelig.hispanic2.replace(-999999,0).sum()"
   ]
  },
  {
   "cell_type": "code",
   "execution_count": null,
   "metadata": {},
   "outputs": [],
   "source": []
  },
  {
   "cell_type": "code",
   "execution_count": null,
   "metadata": {},
   "outputs": [],
   "source": []
  },
  {
   "cell_type": "markdown",
   "metadata": {},
   "source": [
    "-----------------\n",
    "\n",
    "<font color='red' size=6>\n",
    "    <b>adfetalgrowth_BISHCORRECTED_01.24.19_persex_DB.csv</b>\n",
    "</font>\n",
    "\n",
    "<br><br>\n",
    "<font style=\"background-color:sandybrown;\">\n",
    "    <b>UPDATE (Dec 4, mtg w/ Dani)</b>: Despite my misunderstanding of tab1/DemVar and tab2/DemVarKept,\n",
    "    this is one of those tables that breaks the mold and actually fit my understanding.  To be clear,\n",
    "    we do not want the tab1 vars listed here (DB index name, USDT, USGAWeeks); we want the tab2 \n",
    "    vars (sex, deviation index).  This inconsistency is one of the reasons why Dani is creating a \n",
    "    V3 of that Excel file and I'm creating a companion notebook to this JNB (02a__KU__2019-Dec-04__...).\n",
    "</font>\n",
    "\n",
    "\n",
    "In SharePoint file `mbh001/DemoMetaClinical_DataDictionary/DataDictionary/mbh001_Dictionary-of-Variable-terms_20181119_V2.xlsx` tab 1 (\"Demographic Variables\"), Dani greenlights the following vars for\n",
    "further inspection:\n",
    "* **DB index name** - Percentile of standard curve per sex\n",
    "* **USDT** - Date of ultrasound\n",
    "* **USGAWeeks** - Gestational age at ultrasound (full weeks)\n",
    "\n",
    "In tab 2 of that file (\"Demographic Variables Kept\"), she greenlights the same 3 vars... However,\n",
    "she then does quite a bit of cleaning up, leaving me with a CSV file that has 2 main vars:\n",
    "* **sex** (1:M, 2:F, 3:Unknown)\n",
    "* **Deviation Index** -- quantifies how far off the average growth chart \n",
    "  the baby's measurements were throughout the first two terms of the pregnancy\n",
    "\n",
    "<br>\n",
    "\n",
    "**NOTE**: For whatever reason, this file drags in some blank columns with it (\"Unnamed: 3\", \n",
    "\"Unnamed: 4\").  This must have something to do w/ Excel CSV files retaining extra bullshit... Anyway,\n",
    "no big deal to clean up.\n",
    "\n",
    "\n",
    "### FINAL Code\n",
    "------------------------------------\n",
    "```python\n",
    "adfetalgrowth = pd.read_csv('../data/raw/adfetalgrowth_BISHCORRECTED_01.24.19_persex_DB.csv',\n",
    "                           usecols = range(0,3))\n",
    "adfetalgrowth.columns = ['patid', 'sex', 'growth_deviation_index']\n",
    "```\n",
    "----------------------------------------"
   ]
  },
  {
   "cell_type": "code",
   "execution_count": 387,
   "metadata": {},
   "outputs": [],
   "source": [
    "adfetalgrowth = pd.read_csv('../data/raw/adfetalgrowth_BISHCORRECTED_01.24.19_persex_DB.csv')"
   ]
  },
  {
   "cell_type": "code",
   "execution_count": 389,
   "metadata": {},
   "outputs": [
    {
     "data": {
      "text/html": [
       "<div>\n",
       "<style scoped>\n",
       "    .dataframe tbody tr th:only-of-type {\n",
       "        vertical-align: middle;\n",
       "    }\n",
       "\n",
       "    .dataframe tbody tr th {\n",
       "        vertical-align: top;\n",
       "    }\n",
       "\n",
       "    .dataframe thead th {\n",
       "        text-align: right;\n",
       "    }\n",
       "</style>\n",
       "<table border=\"1\" class=\"dataframe\">\n",
       "  <thead>\n",
       "    <tr style=\"text-align: right;\">\n",
       "      <th></th>\n",
       "      <th>patid</th>\n",
       "      <th>Sex (: Male, 2: Female, 3: Unknown)</th>\n",
       "      <th>Deviation Index</th>\n",
       "      <th>Unnamed: 3</th>\n",
       "      <th>Unnamed: 4</th>\n",
       "    </tr>\n",
       "  </thead>\n",
       "  <tbody>\n",
       "    <tr>\n",
       "      <th>0</th>\n",
       "      <td>S002-BISH-00001</td>\n",
       "      <td>2.0</td>\n",
       "      <td>-0.446033</td>\n",
       "      <td>NaN</td>\n",
       "      <td>NaN</td>\n",
       "    </tr>\n",
       "    <tr>\n",
       "      <th>1</th>\n",
       "      <td>S002-BISH-00002</td>\n",
       "      <td>1.0</td>\n",
       "      <td>-999999.000000</td>\n",
       "      <td>NaN</td>\n",
       "      <td>NaN</td>\n",
       "    </tr>\n",
       "    <tr>\n",
       "      <th>2</th>\n",
       "      <td>S002-BISH-00003</td>\n",
       "      <td>1.0</td>\n",
       "      <td>-0.071501</td>\n",
       "      <td>NaN</td>\n",
       "      <td>NaN</td>\n",
       "    </tr>\n",
       "    <tr>\n",
       "      <th>3</th>\n",
       "      <td>S002-BISH-00004</td>\n",
       "      <td>2.0</td>\n",
       "      <td>0.026115</td>\n",
       "      <td>NaN</td>\n",
       "      <td>NaN</td>\n",
       "    </tr>\n",
       "    <tr>\n",
       "      <th>4</th>\n",
       "      <td>S002-BISH-00005</td>\n",
       "      <td>1.0</td>\n",
       "      <td>-999999.000000</td>\n",
       "      <td>NaN</td>\n",
       "      <td>NaN</td>\n",
       "    </tr>\n",
       "  </tbody>\n",
       "</table>\n",
       "</div>"
      ],
      "text/plain": [
       "             patid  Sex (: Male, 2: Female, 3: Unknown)  Deviation Index  \\\n",
       "0  S002-BISH-00001                                  2.0        -0.446033   \n",
       "1  S002-BISH-00002                                  1.0   -999999.000000   \n",
       "2  S002-BISH-00003                                  1.0        -0.071501   \n",
       "3  S002-BISH-00004                                  2.0         0.026115   \n",
       "4  S002-BISH-00005                                  1.0   -999999.000000   \n",
       "\n",
       "   Unnamed: 3  Unnamed: 4  \n",
       "0         NaN         NaN  \n",
       "1         NaN         NaN  \n",
       "2         NaN         NaN  \n",
       "3         NaN         NaN  \n",
       "4         NaN         NaN  "
      ]
     },
     "execution_count": 389,
     "metadata": {},
     "output_type": "execute_result"
    }
   ],
   "source": [
    "adfetalgrowth.head()"
   ]
  },
  {
   "cell_type": "code",
   "execution_count": 400,
   "metadata": {},
   "outputs": [],
   "source": [
    "adfetalgrowth = pd.read_csv('../data/raw/adfetalgrowth_BISHCORRECTED_01.24.19_persex_DB.csv',\n",
    "                           usecols = range(0,3))\n",
    "adfetalgrowth.columns = map(lambda x: x.lower().split()[0], adfetalgrowth.columns)"
   ]
  },
  {
   "cell_type": "code",
   "execution_count": 401,
   "metadata": {},
   "outputs": [
    {
     "data": {
      "text/html": [
       "<div>\n",
       "<style scoped>\n",
       "    .dataframe tbody tr th:only-of-type {\n",
       "        vertical-align: middle;\n",
       "    }\n",
       "\n",
       "    .dataframe tbody tr th {\n",
       "        vertical-align: top;\n",
       "    }\n",
       "\n",
       "    .dataframe thead th {\n",
       "        text-align: right;\n",
       "    }\n",
       "</style>\n",
       "<table border=\"1\" class=\"dataframe\">\n",
       "  <thead>\n",
       "    <tr style=\"text-align: right;\">\n",
       "      <th></th>\n",
       "      <th>patid</th>\n",
       "      <th>sex</th>\n",
       "      <th>deviation</th>\n",
       "    </tr>\n",
       "  </thead>\n",
       "  <tbody>\n",
       "    <tr>\n",
       "      <th>0</th>\n",
       "      <td>S002-BISH-00001</td>\n",
       "      <td>2.0</td>\n",
       "      <td>-0.446033</td>\n",
       "    </tr>\n",
       "    <tr>\n",
       "      <th>1</th>\n",
       "      <td>S002-BISH-00002</td>\n",
       "      <td>1.0</td>\n",
       "      <td>-999999.000000</td>\n",
       "    </tr>\n",
       "    <tr>\n",
       "      <th>2</th>\n",
       "      <td>S002-BISH-00003</td>\n",
       "      <td>1.0</td>\n",
       "      <td>-0.071501</td>\n",
       "    </tr>\n",
       "    <tr>\n",
       "      <th>3</th>\n",
       "      <td>S002-BISH-00004</td>\n",
       "      <td>2.0</td>\n",
       "      <td>0.026115</td>\n",
       "    </tr>\n",
       "    <tr>\n",
       "      <th>4</th>\n",
       "      <td>S002-BISH-00005</td>\n",
       "      <td>1.0</td>\n",
       "      <td>-999999.000000</td>\n",
       "    </tr>\n",
       "  </tbody>\n",
       "</table>\n",
       "</div>"
      ],
      "text/plain": [
       "             patid  sex      deviation\n",
       "0  S002-BISH-00001  2.0      -0.446033\n",
       "1  S002-BISH-00002  1.0 -999999.000000\n",
       "2  S002-BISH-00003  1.0      -0.071501\n",
       "3  S002-BISH-00004  2.0       0.026115\n",
       "4  S002-BISH-00005  1.0 -999999.000000"
      ]
     },
     "execution_count": 401,
     "metadata": {},
     "output_type": "execute_result"
    }
   ],
   "source": [
    "adfetalgrowth.head()"
   ]
  },
  {
   "cell_type": "code",
   "execution_count": 402,
   "metadata": {},
   "outputs": [
    {
     "data": {
      "text/html": [
       "<div>\n",
       "<style scoped>\n",
       "    .dataframe tbody tr th:only-of-type {\n",
       "        vertical-align: middle;\n",
       "    }\n",
       "\n",
       "    .dataframe tbody tr th {\n",
       "        vertical-align: top;\n",
       "    }\n",
       "\n",
       "    .dataframe thead th {\n",
       "        text-align: right;\n",
       "    }\n",
       "</style>\n",
       "<table border=\"1\" class=\"dataframe\">\n",
       "  <thead>\n",
       "    <tr style=\"text-align: right;\">\n",
       "      <th></th>\n",
       "      <th>patid</th>\n",
       "      <th>sex</th>\n",
       "      <th>deviation</th>\n",
       "    </tr>\n",
       "  </thead>\n",
       "  <tbody>\n",
       "    <tr>\n",
       "      <th>6644</th>\n",
       "      <td>S002-BISH-07058</td>\n",
       "      <td>3.0</td>\n",
       "      <td>-0.059187</td>\n",
       "    </tr>\n",
       "    <tr>\n",
       "      <th>6645</th>\n",
       "      <td>S002-BISH-07059</td>\n",
       "      <td>3.0</td>\n",
       "      <td>0.051131</td>\n",
       "    </tr>\n",
       "    <tr>\n",
       "      <th>6646</th>\n",
       "      <td>S002-BISH-07060</td>\n",
       "      <td>3.0</td>\n",
       "      <td>-0.051975</td>\n",
       "    </tr>\n",
       "    <tr>\n",
       "      <th>6647</th>\n",
       "      <td>S002-BISH-07061</td>\n",
       "      <td>3.0</td>\n",
       "      <td>0.181527</td>\n",
       "    </tr>\n",
       "    <tr>\n",
       "      <th>6648</th>\n",
       "      <td>S002-BISH-07062</td>\n",
       "      <td>3.0</td>\n",
       "      <td>-0.276106</td>\n",
       "    </tr>\n",
       "  </tbody>\n",
       "</table>\n",
       "</div>"
      ],
      "text/plain": [
       "                patid  sex  deviation\n",
       "6644  S002-BISH-07058  3.0  -0.059187\n",
       "6645  S002-BISH-07059  3.0   0.051131\n",
       "6646  S002-BISH-07060  3.0  -0.051975\n",
       "6647  S002-BISH-07061  3.0   0.181527\n",
       "6648  S002-BISH-07062  3.0  -0.276106"
      ]
     },
     "execution_count": 402,
     "metadata": {},
     "output_type": "execute_result"
    }
   ],
   "source": [
    "adfetalgrowth.tail()"
   ]
  },
  {
   "cell_type": "code",
   "execution_count": 403,
   "metadata": {},
   "outputs": [
    {
     "data": {
      "text/html": [
       "<div>\n",
       "<style scoped>\n",
       "    .dataframe tbody tr th:only-of-type {\n",
       "        vertical-align: middle;\n",
       "    }\n",
       "\n",
       "    .dataframe tbody tr th {\n",
       "        vertical-align: top;\n",
       "    }\n",
       "\n",
       "    .dataframe thead th {\n",
       "        text-align: right;\n",
       "    }\n",
       "</style>\n",
       "<table border=\"1\" class=\"dataframe\">\n",
       "  <thead>\n",
       "    <tr style=\"text-align: right;\">\n",
       "      <th></th>\n",
       "      <th>sex</th>\n",
       "      <th>deviation</th>\n",
       "    </tr>\n",
       "  </thead>\n",
       "  <tbody>\n",
       "    <tr>\n",
       "      <th>min</th>\n",
       "      <td>1.0</td>\n",
       "      <td>-999999.000000</td>\n",
       "    </tr>\n",
       "    <tr>\n",
       "      <th>25%</th>\n",
       "      <td>1.0</td>\n",
       "      <td>-0.144570</td>\n",
       "    </tr>\n",
       "    <tr>\n",
       "      <th>50%</th>\n",
       "      <td>2.0</td>\n",
       "      <td>-0.045131</td>\n",
       "    </tr>\n",
       "    <tr>\n",
       "      <th>75%</th>\n",
       "      <td>2.0</td>\n",
       "      <td>0.012593</td>\n",
       "    </tr>\n",
       "    <tr>\n",
       "      <th>max</th>\n",
       "      <td>3.0</td>\n",
       "      <td>2.837204</td>\n",
       "    </tr>\n",
       "  </tbody>\n",
       "</table>\n",
       "</div>"
      ],
      "text/plain": [
       "     sex      deviation\n",
       "min  1.0 -999999.000000\n",
       "25%  1.0      -0.144570\n",
       "50%  2.0      -0.045131\n",
       "75%  2.0       0.012593\n",
       "max  3.0       2.837204"
      ]
     },
     "execution_count": 403,
     "metadata": {},
     "output_type": "execute_result"
    }
   ],
   "source": [
    "adfetalgrowth.describe()[3:]"
   ]
  },
  {
   "cell_type": "code",
   "execution_count": 404,
   "metadata": {},
   "outputs": [
    {
     "data": {
      "text/plain": [
       "patid        0\n",
       "sex          0\n",
       "deviation    0\n",
       "dtype: int64"
      ]
     },
     "execution_count": 404,
     "metadata": {},
     "output_type": "execute_result"
    }
   ],
   "source": [
    "adfetalgrowth.isnull().sum()"
   ]
  },
  {
   "cell_type": "markdown",
   "metadata": {},
   "source": [
    "<font size=4 style=\"background-color:lightgreen;\">\n",
    "    Good! No duplicated PATIDs.\n",
    "</font>"
   ]
  },
  {
   "cell_type": "code",
   "execution_count": 840,
   "metadata": {},
   "outputs": [
    {
     "name": "stdout",
     "output_type": "stream",
     "text": [
      "N Records: 6649\n",
      "N Unique PATIDs: 6649\n"
     ]
    }
   ],
   "source": [
    "print('N Records:', adfetalgrowth.shape[0])\n",
    "print('N Unique PATIDs:', adfetalgrowth.patid.unique().shape[0])"
   ]
  },
  {
   "cell_type": "code",
   "execution_count": 954,
   "metadata": {},
   "outputs": [
    {
     "data": {
      "image/png": "[encoded data removed]",
      "text/plain": [
       "<Figure size 432x288 with 2 Axes>"
      ]
     },
     "metadata": {
      "needs_background": "light"
     },
     "output_type": "display_data"
    }
   ],
   "source": [
    "# Final Code\n",
    "adfetalgrowth = pd.read_csv('../data/raw/adfetalgrowth_BISHCORRECTED_01.24.19_persex_DB.csv',\n",
    "                           usecols = range(0,3))\n",
    "adfetalgrowth.columns = ['patid', 'sex', 'growth_deviation_index']\n",
    "# Viz\n",
    "adfetalgrowth.replace(-999999,np.nan).dropna().hist(bins=30);"
   ]
  },
  {
   "cell_type": "code",
   "execution_count": 956,
   "metadata": {},
   "outputs": [
    {
     "data": {
      "text/plain": [
       "min   -999999.000000\n",
       "25%        -0.144570\n",
       "50%        -0.045131\n",
       "75%         0.012593\n",
       "max         2.837204\n",
       "Name: growth_deviation_index, dtype: float64"
      ]
     },
     "execution_count": 956,
     "metadata": {},
     "output_type": "execute_result"
    }
   ],
   "source": [
    "# Q:  Should we be concerned about this outlier (~2.83)?\n",
    "adfetalgrowth.growth_deviation_index.describe()[3:]\n",
    "\n",
    "# Dani will re-check file for other outliers...and leave them in.  Then, if we want,\n",
    "# I'll remove them."
   ]
  },
  {
   "cell_type": "code",
   "execution_count": null,
   "metadata": {},
   "outputs": [],
   "source": []
  },
  {
   "cell_type": "code",
   "execution_count": null,
   "metadata": {},
   "outputs": [],
   "source": []
  },
  {
   "cell_type": "markdown",
   "metadata": {},
   "source": [
    "-------------------\n",
    "\n",
    "<font color='red' size=10>\n",
    "    <b>admh_DB.csv</b>\n",
    "</font>\n",
    "\n",
    "In SharePoint file `mbh001/DemoMetaClinical_DataDictionary/DataDictionary/mbh001_Dictionary-of-Variable-terms_20181119_V2.xlsx` tab 1 (\"Demographic Variables\"), Dani greenlights most of the vars for futher inspection (see Excel file\n",
    "for var definitions):\n",
    "* AbruptionPrior2\n",
    "* AbruptionPriorFP2\n",
    "* ANEMIA3\n",
    "* AnxietyPrior2\n",
    "* APSPrior2\n",
    "* BloodClotPrior2\n",
    "* CancerPrior2\n",
    "* CesareanPrior2\n",
    "* ConnectiveTissueDisorderPrior2\n",
    "* DepressionPrior2\n",
    "* DiabetesPrior2\n",
    "* EpilepsyPrior2\n",
    "* GDMPrior2\n",
    "* GDMPriorFP2\n",
    "* HeartDisPrior2\n",
    "* HepatitisPrior2\n",
    "* HTNNotPregPrior2\n",
    "* HTNPregPrior2\n",
    "* HTNPregPriorFP2\n",
    "* HX_Baby_Cleft2\n",
    "* HX_Baby_Down2\n",
    "* HX_Baby_fas2\n",
    "* HX_Baby_Heart2\n",
    "* HX_Baby_HypoxiaEncep2\n",
    "* HX_Baby_IUGRSGA2\n",
    "* HX_Baby_Jaundice2\n",
    "* HX_Baby_NeuralTube2\n",
    "* HX_Baby_NICU2\n",
    "* HX_Baby_pfas2\n",
    "* HX_Baby_PoorWeight2\n",
    "* HX_Baby_Retard2\n",
    "* HX_Baby_Shoulder2\n",
    "* HXAB2\n",
    "* HXFT2\n",
    "* HXID2\n",
    "* HXLB2\n",
    "* HXMC2\n",
    "* HXNT2\n",
    "* HXPT2\n",
    "* HXSB2\n",
    "* HXSIDS2\n",
    "* HXSIDSSUID2\n",
    "* HXSUID2\n",
    "* HyperthyroidPrior2\n",
    "* HypothyroidPrior2\n",
    "* LupusPrior2\n",
    "* PlacentaPreviaPrior2\n",
    "* PlacentaPreviaPriorFP2\n",
    "* PPROMPrior2\n",
    "* PPROMPriorFP2\n",
    "* RAPrior2\n",
    "* RenalDisPrior2\n",
    "* SickleCellAnemiaPrior2\n",
    "* tbprior2\n",
    "* ThromboembolicDiseasePrior2\n",
    "\n",
    "\n",
    "Similarly, in tab 2 (\"Demographic Variables Kept\"), there are a lot of\n",
    "vars... So many that I cannot eyeball it!  The same is true for the vars that\n",
    "are actually in the associated CSV file.  \n",
    "\n",
    "For all the gory details, see the set analysis below.\n",
    "\n",
    "For a quick summary, note that\n",
    "* tab2 contains one more var than tab1 (`ANEMIA2`)\n",
    "* the CSV file contains 4 more vars than tab2 (`AnemiaPriorFP2`, `ANEMIAacute2`, `ANEMIAchronic2`, `AnemiaPrior2`)\n",
    "\n",
    "<font style=\"background-color:yellow;\">\n",
    "<b>GOING FORWARD</b>: I am pretty sure that I am supposed to only take vars that are\n",
    "listed in tab2, so I will ignore the 4 extra vars in the CSV file (<b>follow up w/ Dani</b>).\n",
    "</font><font style=\"background-color:sandybrown;\"><b>UPDATE (Dec4)</b>: No, I was technically\n",
    "    wrong here.  It was the tab1 vars that mattered (see various updates throughout notebook).</font>\n",
    "\n",
    "<br><br>\n",
    "<font size=4 style=\"background-color:lightcoral;\">\n",
    "    <b>IMPORTANT</b>: Many of these vars should likely be dropped, e.g., see histograms\n",
    "    at end of this analysis section.  Each of the var listed below have less than\n",
    "    50 nonZero/nonNull instances (out of nearly 7k records):\n",
    "</font>\n",
    "```\n",
    "       'hxsuid2', 'hxsids2', 'hxsidssuid2', 'hx_baby_cleft2', 'hx_baby_down2',\n",
    "       'hx_baby_fas2', 'hx_baby_pfas2', 'hx_baby_heart2',\n",
    "       'hx_baby_hypoxiaencep2', 'hx_baby_iugrsga2', 'hx_baby_retard2',\n",
    "       'hx_baby_neuraltube2', 'hx_baby_poorweight2', 'hx_baby_shoulder2',\n",
    "       'sicklecellanemiaprior2', 'apsprior2', 'anxietyprior2',\n",
    "       'bloodclotprior2', 'cancerprior2', 'connectivetissuedisorderprior2',\n",
    "       'gdmprior2', 'gdmpriorfp2', 'hyperthyroidprior2', 'hypothyroidprior2',\n",
    "       'lupusprior2', 'abruptionprior2', 'abruptionpriorfp2',\n",
    "       'placentapreviaprior2', 'placentapreviapriorfp2', 'ppromprior2',\n",
    "       'pprompriorfp2', 'raprior2', 'thromboembolicdiseaseprior2'\n",
    "```\n",
    "\n",
    "### FINAL Code\n",
    "-------------------------\n",
    "```python\n",
    "drop_vars = ['patid.1', 'AnemiaPriorFP2', 'ANEMIAacute2', 'ANEMIAchronic2', 'AnemiaPrior2']\n",
    "admh = pd.read_csv('../data/raw/admh_DB.csv')\n",
    "admh.drop(drop_vars, axis=1, inplace=True)\n",
    "admh.columns = map(str.lower, admh.columns)\n",
    "```\n",
    "--------------------------"
   ]
  },
  {
   "cell_type": "code",
   "execution_count": 420,
   "metadata": {},
   "outputs": [
    {
     "name": "stdout",
     "output_type": "stream",
     "text": [
      "Vars in Tab1 that are not in Tab2: set()\n",
      "Vars in Tab2 that are not in Tab1: {'ANEMIA2'}\n"
     ]
    }
   ],
   "source": [
    "tab1vars = {'AbruptionPrior2', 'AbruptionPriorFP2', 'ANEMIA3', 'AnxietyPrior2',\n",
    "    'APSPrior2', 'BloodClotPrior2', 'CancerPrior2', 'CesareanPrior2',\n",
    "    'ConnectiveTissueDisorderPrior2', 'DepressionPrior2', 'DiabetesPrior2',\n",
    "    'EpilepsyPrior2', 'GDMPrior2', 'GDMPriorFP2', 'HeartDisPrior2',\n",
    "    'HepatitisPrior2', 'HTNNotPregPrior2', 'HTNPregPrior2', 'HTNPregPriorFP2',\n",
    "    'HX_Baby_Cleft2', 'HX_Baby_Down2', 'HX_Baby_fas2', 'HX_Baby_Heart2',\n",
    "    'HX_Baby_HypoxiaEncep2', 'HX_Baby_IUGRSGA2', 'HX_Baby_Jaundice2',\n",
    "    'HX_Baby_NeuralTube2', 'HX_Baby_NICU2', 'HX_Baby_pfas2',\n",
    "    'HX_Baby_PoorWeight2', 'HX_Baby_Retard2', 'HX_Baby_Shoulder2',\n",
    "    'HXAB2', 'HXFT2', 'HXID2', 'HXLB2', 'HXMC2', 'HXNT2', 'HXPT2',\n",
    "    'HXSB2', 'HXSIDS2', 'HXSIDSSUID2', 'HXSUID2', 'HyperthyroidPrior2',\n",
    "    'HypothyroidPrior2', 'LupusPrior2', 'PlacentaPreviaPrior2',\n",
    "    'PlacentaPreviaPriorFP2', 'PPROMPrior2', 'PPROMPriorFP2', 'RAPrior2',\n",
    "    'RenalDisPrior2', 'SickleCellAnemiaPrior2', 'tbprior2',\n",
    "    'ThromboembolicDiseasePrior2',\n",
    "}\n",
    "tab2vars = {'AbruptionPrior2', 'AbruptionPriorFP2', 'ANEMIA2', 'ANEMIA3',\n",
    "    'AnxietyPrior2', 'APSPrior2', 'BloodClotPrior2', 'CancerPrior2',\n",
    "    'CesareanPrior2', 'ConnectiveTissueDisorderPrior2', 'DepressionPrior2',\n",
    "    'DiabetesPrior2', 'EpilepsyPrior2', 'GDMPrior2', 'GDMPriorFP2',\n",
    "    'HeartDisPrior2', 'HepatitisPrior2', 'HTNNotPregPrior2',\n",
    "    'HTNPregPrior2', 'HTNPregPriorFP2', 'HX_Baby_Cleft2', 'HX_Baby_Down2',\n",
    "    'HX_Baby_fas2', 'HX_Baby_Heart2', 'HX_Baby_HypoxiaEncep2',\n",
    "    'HX_Baby_IUGRSGA2', 'HX_Baby_Jaundice2', 'HX_Baby_NeuralTube2',\n",
    "    'HX_Baby_NICU2', 'HX_Baby_pfas2', 'HX_Baby_PoorWeight2', 'HX_Baby_Retard2',\n",
    "    'HX_Baby_Shoulder2', 'HXAB2', 'HXFT2', 'HXID2', 'HXLB2', 'HXMC2',\n",
    "    'HXNT2', 'HXPT2', 'HXSB2', 'HXSIDS2', 'HXSIDSSUID2', 'HXSUID2',\n",
    "    'HyperthyroidPrior2', 'HypothyroidPrior2', 'LupusPrior2',\n",
    "    'PlacentaPreviaPrior2', 'PlacentaPreviaPriorFP2', 'PPROMPrior2',\n",
    "    'PPROMPriorFP2', 'RAPrior2', 'RenalDisPrior2', 'SickleCellAnemiaPrior2',\n",
    "    'tbprior2', 'ThromboembolicDiseasePrior2',\n",
    "}\n",
    "print('Vars in Tab1 that are not in Tab2:', tab1vars.difference(tab2vars))\n",
    "print('Vars in Tab2 that are not in Tab1:', tab2vars.difference(tab1vars))"
   ]
  },
  {
   "cell_type": "markdown",
   "metadata": {},
   "source": [
    "So the \"kept\" vars include all of the ones greenlit for further inspection, plus\n",
    "`ANEMIA2`.\n",
    "\n",
    "<font style=\"background-color:lightyellow;\">\n",
    "    <b>NOTE</b> that the game is not over.  The associated CSV file also has a ton\n",
    "    of variables, but are they all the same as `tab2vars`? \n",
    "    <b>Answer</b>: no they are not!\n",
    "</font>"
   ]
  },
  {
   "cell_type": "code",
   "execution_count": 450,
   "metadata": {},
   "outputs": [
    {
     "name": "stdout",
     "output_type": "stream",
     "text": [
      "Vars in CSV that are not in Tab2:\n",
      "\t {'ConnectivetissuedisorderPrior2', 'AnemiaPriorFP2', 'ANEMIAacute2', 'ANEMIAchronic2', 'AnemiaPrior2'}\n",
      "\n",
      "Vars in Tab2 that are not in CSV:\n",
      "\t {'ConnectiveTissueDisorderPrior2'}\n"
     ]
    }
   ],
   "source": [
    "admh = pd.read_csv('../data/raw/admh_DB.csv')\n",
    "csv_vars = set(admh.drop(['patid','patid.1'], axis=1).columns)\n",
    "print('Vars in CSV that are not in Tab2:\\n\\t', csv_vars.difference(tab2vars))\n",
    "print('\\nVars in Tab2 that are not in CSV:\\n\\t', tab2vars.difference(csv_vars))"
   ]
  },
  {
   "cell_type": "markdown",
   "metadata": {},
   "source": [
    "<font style=\"background-color:lightyellow;\">\n",
    "    Notice that \"connect tissue disorder prior 2\" is actually in both sets, but differ\n",
    "in terms of what letters are capitatlized...so let's do this one more time, but with all\n",
    "varnames in lower case.\n",
    "</font>"
   ]
  },
  {
   "cell_type": "code",
   "execution_count": 453,
   "metadata": {},
   "outputs": [
    {
     "name": "stdout",
     "output_type": "stream",
     "text": [
      "Vars in CSV that are not in Tab2:\n",
      "\t {'anemiapriorfp2', 'anemiaacute2', 'anemiaprior2', 'anemiachronic2'}\n",
      "\n",
      "Vars in Tab2 that are not in CSV:\n",
      "\t set()\n"
     ]
    }
   ],
   "source": [
    "tab2vars_lc = set(pd.DataFrame(tab2vars, columns=['vars']).vars.str.lower().values.tolist())\n",
    "csv_vars_lc = set(pd.DataFrame(csv_vars, columns=['vars']).vars.str.lower().values.tolist())\n",
    "print('Vars in CSV that are not in Tab2:\\n\\t', csv_vars_lc.difference(tab1vars_lc))\n",
    "print('\\nVars in Tab2 that are not in CSV:\\n\\t', tab2vars_lc.difference(csv_vars_lc))"
   ]
  },
  {
   "cell_type": "code",
   "execution_count": 458,
   "metadata": {},
   "outputs": [
    {
     "data": {
      "text/plain": [
       "array(['BISH'], dtype=object)"
      ]
     },
     "execution_count": 458,
     "metadata": {},
     "output_type": "execute_result"
    }
   ],
   "source": [
    "admh['patid.1'].unique()  # should also drop this var"
   ]
  },
  {
   "cell_type": "code",
   "execution_count": 463,
   "metadata": {},
   "outputs": [],
   "source": [
    "drop_vars = ['patid.1', 'AnemiaPriorFP2', 'ANEMIAacute2', 'ANEMIAchronic2', 'AnemiaPrior2']\n",
    "admh = pd.read_csv('../data/raw/admh_DB.csv')\n",
    "admh.drop(drop_vars, axis=1, inplace=True)\n",
    "admh.columns = map(str.lower, admh.columns)"
   ]
  },
  {
   "cell_type": "code",
   "execution_count": 464,
   "metadata": {},
   "outputs": [
    {
     "data": {
      "text/plain": [
       "Index(['patid', 'hxft2', 'hxnt2', 'hxpt2', 'hxlb2', 'hxsb2', 'hxmc2', 'hxab2',\n",
       "       'hxid2', 'hxsuid2', 'hxsids2', 'hxsidssuid2', 'hx_baby_cleft2',\n",
       "       'hx_baby_down2', 'hx_baby_fas2', 'hx_baby_pfas2', 'hx_baby_heart2',\n",
       "       'hx_baby_hypoxiaencep2', 'hx_baby_iugrsga2', 'hx_baby_jaundice2',\n",
       "       'hx_baby_retard2', 'hx_baby_nicu2', 'hx_baby_neuraltube2',\n",
       "       'hx_baby_poorweight2', 'hx_baby_shoulder2', 'anemia2', 'anemia3',\n",
       "       'sicklecellanemiaprior2', 'apsprior2', 'anxietyprior2',\n",
       "       'bloodclotprior2', 'cancerprior2', 'cesareanprior2',\n",
       "       'connectivetissuedisorderprior2', 'depressionprior2', 'diabetesprior2',\n",
       "       'epilepsyprior2', 'gdmprior2', 'gdmpriorfp2', 'heartdisprior2',\n",
       "       'hepatitisprior2', 'htnnotpregprior2', 'htnpregprior2',\n",
       "       'htnpregpriorfp2', 'hyperthyroidprior2', 'hypothyroidprior2',\n",
       "       'lupusprior2', 'abruptionprior2', 'abruptionpriorfp2',\n",
       "       'placentapreviaprior2', 'placentapreviapriorfp2', 'ppromprior2',\n",
       "       'pprompriorfp2', 'raprior2', 'renaldisprior2',\n",
       "       'thromboembolicdiseaseprior2', 'tbprior2'],\n",
       "      dtype='object')"
      ]
     },
     "execution_count": 464,
     "metadata": {},
     "output_type": "execute_result"
    }
   ],
   "source": [
    "admh.columns"
   ]
  },
  {
   "cell_type": "code",
   "execution_count": 467,
   "metadata": {},
   "outputs": [
    {
     "data": {
      "text/html": [
       "<div>\n",
       "<style scoped>\n",
       "    .dataframe tbody tr th:only-of-type {\n",
       "        vertical-align: middle;\n",
       "    }\n",
       "\n",
       "    .dataframe tbody tr th {\n",
       "        vertical-align: top;\n",
       "    }\n",
       "\n",
       "    .dataframe thead th {\n",
       "        text-align: right;\n",
       "    }\n",
       "</style>\n",
       "<table border=\"1\" class=\"dataframe\">\n",
       "  <thead>\n",
       "    <tr style=\"text-align: right;\">\n",
       "      <th></th>\n",
       "      <th>patid</th>\n",
       "      <th>hxft2</th>\n",
       "      <th>hxnt2</th>\n",
       "      <th>hxpt2</th>\n",
       "      <th>hxlb2</th>\n",
       "      <th>hxsb2</th>\n",
       "      <th>hxmc2</th>\n",
       "      <th>hxab2</th>\n",
       "      <th>hxid2</th>\n",
       "      <th>hxsuid2</th>\n",
       "      <th>...</th>\n",
       "      <th>abruptionprior2</th>\n",
       "      <th>abruptionpriorfp2</th>\n",
       "      <th>placentapreviaprior2</th>\n",
       "      <th>placentapreviapriorfp2</th>\n",
       "      <th>ppromprior2</th>\n",
       "      <th>pprompriorfp2</th>\n",
       "      <th>raprior2</th>\n",
       "      <th>renaldisprior2</th>\n",
       "      <th>thromboembolicdiseaseprior2</th>\n",
       "      <th>tbprior2</th>\n",
       "    </tr>\n",
       "  </thead>\n",
       "  <tbody>\n",
       "    <tr>\n",
       "      <th>0</th>\n",
       "      <td>S002-BISH-00001</td>\n",
       "      <td>0.0</td>\n",
       "      <td>1.0</td>\n",
       "      <td>0.0</td>\n",
       "      <td>1.0</td>\n",
       "      <td>0.0</td>\n",
       "      <td>0.0</td>\n",
       "      <td>0.0</td>\n",
       "      <td>0.0</td>\n",
       "      <td>0.0</td>\n",
       "      <td>...</td>\n",
       "      <td>0.0</td>\n",
       "      <td>0.0</td>\n",
       "      <td>0.0</td>\n",
       "      <td>0.0</td>\n",
       "      <td>0.0</td>\n",
       "      <td>0.0</td>\n",
       "      <td>0.0</td>\n",
       "      <td>0.0</td>\n",
       "      <td>0.0</td>\n",
       "      <td>0.0</td>\n",
       "    </tr>\n",
       "    <tr>\n",
       "      <th>1</th>\n",
       "      <td>S002-BISH-00036</td>\n",
       "      <td>0.0</td>\n",
       "      <td>0.0</td>\n",
       "      <td>0.0</td>\n",
       "      <td>0.0</td>\n",
       "      <td>0.0</td>\n",
       "      <td>1.0</td>\n",
       "      <td>0.0</td>\n",
       "      <td>0.0</td>\n",
       "      <td>0.0</td>\n",
       "      <td>...</td>\n",
       "      <td>0.0</td>\n",
       "      <td>0.0</td>\n",
       "      <td>0.0</td>\n",
       "      <td>0.0</td>\n",
       "      <td>0.0</td>\n",
       "      <td>0.0</td>\n",
       "      <td>0.0</td>\n",
       "      <td>0.0</td>\n",
       "      <td>0.0</td>\n",
       "      <td>0.0</td>\n",
       "    </tr>\n",
       "    <tr>\n",
       "      <th>2</th>\n",
       "      <td>S002-BISH-00040</td>\n",
       "      <td>0.0</td>\n",
       "      <td>1.0</td>\n",
       "      <td>0.0</td>\n",
       "      <td>1.0</td>\n",
       "      <td>0.0</td>\n",
       "      <td>0.0</td>\n",
       "      <td>0.0</td>\n",
       "      <td>0.0</td>\n",
       "      <td>0.0</td>\n",
       "      <td>...</td>\n",
       "      <td>0.0</td>\n",
       "      <td>0.0</td>\n",
       "      <td>0.0</td>\n",
       "      <td>0.0</td>\n",
       "      <td>0.0</td>\n",
       "      <td>0.0</td>\n",
       "      <td>0.0</td>\n",
       "      <td>0.0</td>\n",
       "      <td>0.0</td>\n",
       "      <td>0.0</td>\n",
       "    </tr>\n",
       "  </tbody>\n",
       "</table>\n",
       "<p>3 rows × 57 columns</p>\n",
       "</div>"
      ],
      "text/plain": [
       "             patid  hxft2  hxnt2  hxpt2  hxlb2  hxsb2  hxmc2  hxab2  hxid2  \\\n",
       "0  S002-BISH-00001    0.0    1.0    0.0    1.0    0.0    0.0    0.0    0.0   \n",
       "1  S002-BISH-00036    0.0    0.0    0.0    0.0    0.0    1.0    0.0    0.0   \n",
       "2  S002-BISH-00040    0.0    1.0    0.0    1.0    0.0    0.0    0.0    0.0   \n",
       "\n",
       "   hxsuid2  ...  abruptionprior2  abruptionpriorfp2  placentapreviaprior2  \\\n",
       "0      0.0  ...              0.0                0.0                   0.0   \n",
       "1      0.0  ...              0.0                0.0                   0.0   \n",
       "2      0.0  ...              0.0                0.0                   0.0   \n",
       "\n",
       "   placentapreviapriorfp2  ppromprior2  pprompriorfp2  raprior2  \\\n",
       "0                     0.0          0.0            0.0       0.0   \n",
       "1                     0.0          0.0            0.0       0.0   \n",
       "2                     0.0          0.0            0.0       0.0   \n",
       "\n",
       "   renaldisprior2  thromboembolicdiseaseprior2  tbprior2  \n",
       "0             0.0                          0.0       0.0  \n",
       "1             0.0                          0.0       0.0  \n",
       "2             0.0                          0.0       0.0  \n",
       "\n",
       "[3 rows x 57 columns]"
      ]
     },
     "execution_count": 467,
     "metadata": {},
     "output_type": "execute_result"
    }
   ],
   "source": [
    "admh.head(3)"
   ]
  },
  {
   "cell_type": "code",
   "execution_count": 468,
   "metadata": {},
   "outputs": [
    {
     "data": {
      "text/html": [
       "<div>\n",
       "<style scoped>\n",
       "    .dataframe tbody tr th:only-of-type {\n",
       "        vertical-align: middle;\n",
       "    }\n",
       "\n",
       "    .dataframe tbody tr th {\n",
       "        vertical-align: top;\n",
       "    }\n",
       "\n",
       "    .dataframe thead th {\n",
       "        text-align: right;\n",
       "    }\n",
       "</style>\n",
       "<table border=\"1\" class=\"dataframe\">\n",
       "  <thead>\n",
       "    <tr style=\"text-align: right;\">\n",
       "      <th></th>\n",
       "      <th>patid</th>\n",
       "      <th>hxft2</th>\n",
       "      <th>hxnt2</th>\n",
       "      <th>hxpt2</th>\n",
       "      <th>hxlb2</th>\n",
       "      <th>hxsb2</th>\n",
       "      <th>hxmc2</th>\n",
       "      <th>hxab2</th>\n",
       "      <th>hxid2</th>\n",
       "      <th>hxsuid2</th>\n",
       "      <th>...</th>\n",
       "      <th>abruptionprior2</th>\n",
       "      <th>abruptionpriorfp2</th>\n",
       "      <th>placentapreviaprior2</th>\n",
       "      <th>placentapreviapriorfp2</th>\n",
       "      <th>ppromprior2</th>\n",
       "      <th>pprompriorfp2</th>\n",
       "      <th>raprior2</th>\n",
       "      <th>renaldisprior2</th>\n",
       "      <th>thromboembolicdiseaseprior2</th>\n",
       "      <th>tbprior2</th>\n",
       "    </tr>\n",
       "  </thead>\n",
       "  <tbody>\n",
       "    <tr>\n",
       "      <th>6921</th>\n",
       "      <td>S002-BISH-00720</td>\n",
       "      <td>-999999.0</td>\n",
       "      <td>-999999.0</td>\n",
       "      <td>-999999.0</td>\n",
       "      <td>-999999.0</td>\n",
       "      <td>-999999.0</td>\n",
       "      <td>-999999.0</td>\n",
       "      <td>-999999.0</td>\n",
       "      <td>-999999.0</td>\n",
       "      <td>-999999.0</td>\n",
       "      <td>...</td>\n",
       "      <td>-999999.0</td>\n",
       "      <td>-999999.0</td>\n",
       "      <td>-999999.0</td>\n",
       "      <td>-999999.0</td>\n",
       "      <td>-999999.0</td>\n",
       "      <td>-999999.0</td>\n",
       "      <td>-999999.0</td>\n",
       "      <td>-999999.0</td>\n",
       "      <td>-999999.0</td>\n",
       "      <td>-999999.0</td>\n",
       "    </tr>\n",
       "    <tr>\n",
       "      <th>6922</th>\n",
       "      <td>S002-BISH-06240</td>\n",
       "      <td>-999999.0</td>\n",
       "      <td>-999999.0</td>\n",
       "      <td>-999999.0</td>\n",
       "      <td>-999999.0</td>\n",
       "      <td>-999999.0</td>\n",
       "      <td>-999999.0</td>\n",
       "      <td>-999999.0</td>\n",
       "      <td>-999999.0</td>\n",
       "      <td>-999999.0</td>\n",
       "      <td>...</td>\n",
       "      <td>-999999.0</td>\n",
       "      <td>-999999.0</td>\n",
       "      <td>-999999.0</td>\n",
       "      <td>-999999.0</td>\n",
       "      <td>-999999.0</td>\n",
       "      <td>-999999.0</td>\n",
       "      <td>-999999.0</td>\n",
       "      <td>-999999.0</td>\n",
       "      <td>-999999.0</td>\n",
       "      <td>-999999.0</td>\n",
       "    </tr>\n",
       "    <tr>\n",
       "      <th>6923</th>\n",
       "      <td>S002-BISH-07012</td>\n",
       "      <td>-999999.0</td>\n",
       "      <td>-999999.0</td>\n",
       "      <td>-999999.0</td>\n",
       "      <td>-999999.0</td>\n",
       "      <td>-999999.0</td>\n",
       "      <td>-999999.0</td>\n",
       "      <td>-999999.0</td>\n",
       "      <td>-999999.0</td>\n",
       "      <td>-999999.0</td>\n",
       "      <td>...</td>\n",
       "      <td>-999999.0</td>\n",
       "      <td>-999999.0</td>\n",
       "      <td>-999999.0</td>\n",
       "      <td>-999999.0</td>\n",
       "      <td>-999999.0</td>\n",
       "      <td>-999999.0</td>\n",
       "      <td>-999999.0</td>\n",
       "      <td>-999999.0</td>\n",
       "      <td>-999999.0</td>\n",
       "      <td>-999999.0</td>\n",
       "    </tr>\n",
       "  </tbody>\n",
       "</table>\n",
       "<p>3 rows × 57 columns</p>\n",
       "</div>"
      ],
      "text/plain": [
       "                patid     hxft2     hxnt2     hxpt2     hxlb2     hxsb2  \\\n",
       "6921  S002-BISH-00720 -999999.0 -999999.0 -999999.0 -999999.0 -999999.0   \n",
       "6922  S002-BISH-06240 -999999.0 -999999.0 -999999.0 -999999.0 -999999.0   \n",
       "6923  S002-BISH-07012 -999999.0 -999999.0 -999999.0 -999999.0 -999999.0   \n",
       "\n",
       "         hxmc2     hxab2     hxid2   hxsuid2  ...  abruptionprior2  \\\n",
       "6921 -999999.0 -999999.0 -999999.0 -999999.0  ...        -999999.0   \n",
       "6922 -999999.0 -999999.0 -999999.0 -999999.0  ...        -999999.0   \n",
       "6923 -999999.0 -999999.0 -999999.0 -999999.0  ...        -999999.0   \n",
       "\n",
       "      abruptionpriorfp2  placentapreviaprior2  placentapreviapriorfp2  \\\n",
       "6921          -999999.0             -999999.0               -999999.0   \n",
       "6922          -999999.0             -999999.0               -999999.0   \n",
       "6923          -999999.0             -999999.0               -999999.0   \n",
       "\n",
       "      ppromprior2  pprompriorfp2  raprior2  renaldisprior2  \\\n",
       "6921    -999999.0      -999999.0 -999999.0       -999999.0   \n",
       "6922    -999999.0      -999999.0 -999999.0       -999999.0   \n",
       "6923    -999999.0      -999999.0 -999999.0       -999999.0   \n",
       "\n",
       "      thromboembolicdiseaseprior2  tbprior2  \n",
       "6921                    -999999.0 -999999.0  \n",
       "6922                    -999999.0 -999999.0  \n",
       "6923                    -999999.0 -999999.0  \n",
       "\n",
       "[3 rows x 57 columns]"
      ]
     },
     "execution_count": 468,
     "metadata": {},
     "output_type": "execute_result"
    }
   ],
   "source": [
    "admh.tail(3)"
   ]
  },
  {
   "cell_type": "code",
   "execution_count": 469,
   "metadata": {},
   "outputs": [
    {
     "data": {
      "text/html": [
       "<div>\n",
       "<style scoped>\n",
       "    .dataframe tbody tr th:only-of-type {\n",
       "        vertical-align: middle;\n",
       "    }\n",
       "\n",
       "    .dataframe tbody tr th {\n",
       "        vertical-align: top;\n",
       "    }\n",
       "\n",
       "    .dataframe thead th {\n",
       "        text-align: right;\n",
       "    }\n",
       "</style>\n",
       "<table border=\"1\" class=\"dataframe\">\n",
       "  <thead>\n",
       "    <tr style=\"text-align: right;\">\n",
       "      <th></th>\n",
       "      <th>hxft2</th>\n",
       "      <th>hxnt2</th>\n",
       "      <th>hxpt2</th>\n",
       "      <th>hxlb2</th>\n",
       "      <th>hxsb2</th>\n",
       "      <th>hxmc2</th>\n",
       "      <th>hxab2</th>\n",
       "      <th>hxid2</th>\n",
       "      <th>hxsuid2</th>\n",
       "      <th>hxsids2</th>\n",
       "      <th>...</th>\n",
       "      <th>abruptionprior2</th>\n",
       "      <th>abruptionpriorfp2</th>\n",
       "      <th>placentapreviaprior2</th>\n",
       "      <th>placentapreviapriorfp2</th>\n",
       "      <th>ppromprior2</th>\n",
       "      <th>pprompriorfp2</th>\n",
       "      <th>raprior2</th>\n",
       "      <th>renaldisprior2</th>\n",
       "      <th>thromboembolicdiseaseprior2</th>\n",
       "      <th>tbprior2</th>\n",
       "    </tr>\n",
       "  </thead>\n",
       "  <tbody>\n",
       "    <tr>\n",
       "      <th>min</th>\n",
       "      <td>-999999.0</td>\n",
       "      <td>-999999.0</td>\n",
       "      <td>-999999.0</td>\n",
       "      <td>-999999.0</td>\n",
       "      <td>-999999.0</td>\n",
       "      <td>-999999.0</td>\n",
       "      <td>-999999.0</td>\n",
       "      <td>-999999.0</td>\n",
       "      <td>-999999.0</td>\n",
       "      <td>-999999.0</td>\n",
       "      <td>...</td>\n",
       "      <td>-999999.0</td>\n",
       "      <td>-999999.0</td>\n",
       "      <td>-999999.0</td>\n",
       "      <td>-999999.0</td>\n",
       "      <td>-999999.0</td>\n",
       "      <td>-999999.0</td>\n",
       "      <td>-999999.0</td>\n",
       "      <td>-999999.0</td>\n",
       "      <td>-999999.0</td>\n",
       "      <td>-999999.0</td>\n",
       "    </tr>\n",
       "    <tr>\n",
       "      <th>25%</th>\n",
       "      <td>-999999.0</td>\n",
       "      <td>-999999.0</td>\n",
       "      <td>-999999.0</td>\n",
       "      <td>-999999.0</td>\n",
       "      <td>-999999.0</td>\n",
       "      <td>-999999.0</td>\n",
       "      <td>-999999.0</td>\n",
       "      <td>-999999.0</td>\n",
       "      <td>-999999.0</td>\n",
       "      <td>-999999.0</td>\n",
       "      <td>...</td>\n",
       "      <td>-999999.0</td>\n",
       "      <td>0.0</td>\n",
       "      <td>-999999.0</td>\n",
       "      <td>0.0</td>\n",
       "      <td>-999999.0</td>\n",
       "      <td>0.0</td>\n",
       "      <td>0.0</td>\n",
       "      <td>0.0</td>\n",
       "      <td>0.0</td>\n",
       "      <td>0.0</td>\n",
       "    </tr>\n",
       "    <tr>\n",
       "      <th>50%</th>\n",
       "      <td>1.0</td>\n",
       "      <td>0.0</td>\n",
       "      <td>0.0</td>\n",
       "      <td>1.0</td>\n",
       "      <td>0.0</td>\n",
       "      <td>0.0</td>\n",
       "      <td>0.0</td>\n",
       "      <td>0.0</td>\n",
       "      <td>0.0</td>\n",
       "      <td>0.0</td>\n",
       "      <td>...</td>\n",
       "      <td>0.0</td>\n",
       "      <td>0.0</td>\n",
       "      <td>0.0</td>\n",
       "      <td>0.0</td>\n",
       "      <td>0.0</td>\n",
       "      <td>0.0</td>\n",
       "      <td>0.0</td>\n",
       "      <td>0.0</td>\n",
       "      <td>0.0</td>\n",
       "      <td>0.0</td>\n",
       "    </tr>\n",
       "    <tr>\n",
       "      <th>75%</th>\n",
       "      <td>1.0</td>\n",
       "      <td>0.0</td>\n",
       "      <td>0.0</td>\n",
       "      <td>1.0</td>\n",
       "      <td>0.0</td>\n",
       "      <td>0.0</td>\n",
       "      <td>0.0</td>\n",
       "      <td>0.0</td>\n",
       "      <td>0.0</td>\n",
       "      <td>0.0</td>\n",
       "      <td>...</td>\n",
       "      <td>0.0</td>\n",
       "      <td>0.0</td>\n",
       "      <td>0.0</td>\n",
       "      <td>0.0</td>\n",
       "      <td>0.0</td>\n",
       "      <td>0.0</td>\n",
       "      <td>0.0</td>\n",
       "      <td>0.0</td>\n",
       "      <td>0.0</td>\n",
       "      <td>0.0</td>\n",
       "    </tr>\n",
       "    <tr>\n",
       "      <th>max</th>\n",
       "      <td>1.0</td>\n",
       "      <td>1.0</td>\n",
       "      <td>1.0</td>\n",
       "      <td>1.0</td>\n",
       "      <td>1.0</td>\n",
       "      <td>1.0</td>\n",
       "      <td>1.0</td>\n",
       "      <td>1.0</td>\n",
       "      <td>1.0</td>\n",
       "      <td>1.0</td>\n",
       "      <td>...</td>\n",
       "      <td>1.0</td>\n",
       "      <td>1.0</td>\n",
       "      <td>1.0</td>\n",
       "      <td>1.0</td>\n",
       "      <td>1.0</td>\n",
       "      <td>1.0</td>\n",
       "      <td>1.0</td>\n",
       "      <td>1.0</td>\n",
       "      <td>1.0</td>\n",
       "      <td>1.0</td>\n",
       "    </tr>\n",
       "  </tbody>\n",
       "</table>\n",
       "<p>5 rows × 56 columns</p>\n",
       "</div>"
      ],
      "text/plain": [
       "        hxft2     hxnt2     hxpt2     hxlb2     hxsb2     hxmc2     hxab2  \\\n",
       "min -999999.0 -999999.0 -999999.0 -999999.0 -999999.0 -999999.0 -999999.0   \n",
       "25% -999999.0 -999999.0 -999999.0 -999999.0 -999999.0 -999999.0 -999999.0   \n",
       "50%       1.0       0.0       0.0       1.0       0.0       0.0       0.0   \n",
       "75%       1.0       0.0       0.0       1.0       0.0       0.0       0.0   \n",
       "max       1.0       1.0       1.0       1.0       1.0       1.0       1.0   \n",
       "\n",
       "        hxid2   hxsuid2   hxsids2  ...  abruptionprior2  abruptionpriorfp2  \\\n",
       "min -999999.0 -999999.0 -999999.0  ...        -999999.0          -999999.0   \n",
       "25% -999999.0 -999999.0 -999999.0  ...        -999999.0                0.0   \n",
       "50%       0.0       0.0       0.0  ...              0.0                0.0   \n",
       "75%       0.0       0.0       0.0  ...              0.0                0.0   \n",
       "max       1.0       1.0       1.0  ...              1.0                1.0   \n",
       "\n",
       "     placentapreviaprior2  placentapreviapriorfp2  ppromprior2  pprompriorfp2  \\\n",
       "min             -999999.0               -999999.0    -999999.0      -999999.0   \n",
       "25%             -999999.0                     0.0    -999999.0            0.0   \n",
       "50%                   0.0                     0.0          0.0            0.0   \n",
       "75%                   0.0                     0.0          0.0            0.0   \n",
       "max                   1.0                     1.0          1.0            1.0   \n",
       "\n",
       "     raprior2  renaldisprior2  thromboembolicdiseaseprior2  tbprior2  \n",
       "min -999999.0       -999999.0                    -999999.0 -999999.0  \n",
       "25%       0.0             0.0                          0.0       0.0  \n",
       "50%       0.0             0.0                          0.0       0.0  \n",
       "75%       0.0             0.0                          0.0       0.0  \n",
       "max       1.0             1.0                          1.0       1.0  \n",
       "\n",
       "[5 rows x 56 columns]"
      ]
     },
     "execution_count": 469,
     "metadata": {},
     "output_type": "execute_result"
    }
   ],
   "source": [
    "admh.describe()[3:]"
   ]
  },
  {
   "cell_type": "code",
   "execution_count": 471,
   "metadata": {},
   "outputs": [
    {
     "data": {
      "text/plain": [
       "0"
      ]
     },
     "execution_count": 471,
     "metadata": {},
     "output_type": "execute_result"
    }
   ],
   "source": [
    "admh.isnull().sum().sum()  # no \"traditional\" nulls"
   ]
  },
  {
   "cell_type": "code",
   "execution_count": 487,
   "metadata": {},
   "outputs": [
    {
     "data": {
      "text/plain": [
       "[('patid', dtype('O'))]"
      ]
     },
     "execution_count": 487,
     "metadata": {},
     "output_type": "execute_result"
    }
   ],
   "source": [
    "# No funny business w/ vars that should be floats (like the \"#NULL!\" thing that happened before)\n",
    "[item for item in zip(admh.dtypes.index, admh.dtypes) if item[1] != float]"
   ]
  },
  {
   "cell_type": "markdown",
   "metadata": {},
   "source": [
    "<font size=4 style=\"background-color:lightgreen;\">\n",
    "    Good! No duplicated PATIDs.\n",
    "</font>"
   ]
  },
  {
   "cell_type": "code",
   "execution_count": 841,
   "metadata": {},
   "outputs": [
    {
     "name": "stdout",
     "output_type": "stream",
     "text": [
      "N Records: 6924\n",
      "N Unique PATIDs: 6924\n"
     ]
    }
   ],
   "source": [
    "print('N Records:', admh.shape[0])\n",
    "print('N Unique PATIDs:', admh.patid.unique().shape[0])"
   ]
  },
  {
   "cell_type": "code",
   "execution_count": 845,
   "metadata": {},
   "outputs": [
    {
     "data": {
      "image/png": "[encoded data removed]",
      "text/plain": [
       "<Figure size 1296x1440 with 56 Axes>"
      ]
     },
     "metadata": {
      "needs_background": "light"
     },
     "output_type": "display_data"
    }
   ],
   "source": [
    "# Final Code\n",
    "drop_vars = ['patid.1', 'AnemiaPriorFP2', 'ANEMIAacute2', 'ANEMIAchronic2', 'AnemiaPrior2']\n",
    "admh = pd.read_csv('../data/raw/admh_DB.csv')\n",
    "admh.drop(drop_vars, axis=1, inplace=True)\n",
    "admh.columns = map(str.lower, admh.columns)\n",
    "# Viz\n",
    "admh.replace(-999999,np.nan).dropna().hist(figsize=(18,20));"
   ]
  },
  {
   "cell_type": "code",
   "execution_count": 856,
   "metadata": {},
   "outputs": [
    {
     "name": "stdout",
     "output_type": "stream",
     "text": [
      "ADMH Record Count: 6924\n"
     ]
    },
    {
     "data": {
      "text/plain": [
       "hxft2                             3677\n",
       "hxnt2                             1090\n",
       "hxpt2                              195\n",
       "hxlb2                             3928\n",
       "hxsb2                              155\n",
       "hxmc2                              636\n",
       "hxab2                              251\n",
       "hxid2                              175\n",
       "hxsuid2                              5\n",
       "hxsids2                             39\n",
       "hxsidssuid2                         44\n",
       "hx_baby_cleft2                       8\n",
       "hx_baby_down2                       11\n",
       "hx_baby_fas2                         3\n",
       "hx_baby_pfas2                        1\n",
       "hx_baby_heart2                      32\n",
       "hx_baby_hypoxiaencep2               10\n",
       "hx_baby_iugrsga2                    22\n",
       "hx_baby_jaundice2                  455\n",
       "hx_baby_retard2                      6\n",
       "hx_baby_nicu2                      107\n",
       "hx_baby_neuraltube2                  3\n",
       "hx_baby_poorweight2                 12\n",
       "hx_baby_shoulder2                    2\n",
       "anemia2                           1212\n",
       "anemia3                           2692\n",
       "sicklecellanemiaprior2               1\n",
       "apsprior2                            0\n",
       "anxietyprior2                       19\n",
       "bloodclotprior2                     44\n",
       "cancerprior2                         2\n",
       "cesareanprior2                     443\n",
       "connectivetissuedisorderprior2       0\n",
       "depressionprior2                   221\n",
       "diabetesprior2                      63\n",
       "epilepsyprior2                      82\n",
       "gdmprior2                           16\n",
       "gdmpriorfp2                         16\n",
       "heartdisprior2                      55\n",
       "hepatitisprior2                     58\n",
       "htnnotpregprior2                   262\n",
       "htnpregprior2                      257\n",
       "htnpregpriorfp2                    257\n",
       "hyperthyroidprior2                   9\n",
       "hypothyroidprior2                    6\n",
       "lupusprior2                          3\n",
       "abruptionprior2                     18\n",
       "abruptionpriorfp2                   18\n",
       "placentapreviaprior2                15\n",
       "placentapreviapriorfp2              15\n",
       "ppromprior2                         28\n",
       "pprompriorfp2                       28\n",
       "raprior2                             1\n",
       "renaldisprior2                     197\n",
       "thromboembolicdiseaseprior2          2\n",
       "tbprior2                           495\n",
       "dtype: int64"
      ]
     },
     "execution_count": 856,
     "metadata": {},
     "output_type": "execute_result"
    }
   ],
   "source": [
    "print('ADMH Record Count:', len(admh))\n",
    "admh_nznn = admh.drop('patid',axis=1).replace(-999999,0).applymap(lambda x: 1 if x!=0 else 0).sum()\n",
    "admh_nznn"
   ]
  },
  {
   "cell_type": "code",
   "execution_count": 847,
   "metadata": {},
   "outputs": [
    {
     "name": "stdout",
     "output_type": "stream",
     "text": [
      "Percent of Nonzero/Nonnull Values:\n"
     ]
    },
    {
     "data": {
      "text/plain": [
       "hxft2                             53.11%\n",
       "hxnt2                             15.74%\n",
       "hxpt2                              2.82%\n",
       "hxlb2                             56.73%\n",
       "hxsb2                              2.24%\n",
       "hxmc2                              9.19%\n",
       "hxab2                              3.63%\n",
       "hxid2                              2.53%\n",
       "hxsuid2                            0.07%\n",
       "hxsids2                            0.56%\n",
       "hxsidssuid2                        0.64%\n",
       "hx_baby_cleft2                     0.12%\n",
       "hx_baby_down2                      0.16%\n",
       "hx_baby_fas2                       0.04%\n",
       "hx_baby_pfas2                      0.01%\n",
       "hx_baby_heart2                     0.46%\n",
       "hx_baby_hypoxiaencep2              0.14%\n",
       "hx_baby_iugrsga2                   0.32%\n",
       "hx_baby_jaundice2                  6.57%\n",
       "hx_baby_retard2                    0.09%\n",
       "hx_baby_nicu2                      1.55%\n",
       "hx_baby_neuraltube2                0.04%\n",
       "hx_baby_poorweight2                0.17%\n",
       "hx_baby_shoulder2                  0.03%\n",
       "anemia2                            17.5%\n",
       "anemia3                           38.88%\n",
       "sicklecellanemiaprior2             0.01%\n",
       "apsprior2                           0.0%\n",
       "anxietyprior2                      0.27%\n",
       "bloodclotprior2                    0.64%\n",
       "cancerprior2                       0.03%\n",
       "cesareanprior2                      6.4%\n",
       "connectivetissuedisorderprior2      0.0%\n",
       "depressionprior2                   3.19%\n",
       "diabetesprior2                     0.91%\n",
       "epilepsyprior2                     1.18%\n",
       "gdmprior2                          0.23%\n",
       "gdmpriorfp2                        0.23%\n",
       "heartdisprior2                     0.79%\n",
       "hepatitisprior2                    0.84%\n",
       "htnnotpregprior2                   3.78%\n",
       "htnpregprior2                      3.71%\n",
       "htnpregpriorfp2                    3.71%\n",
       "hyperthyroidprior2                 0.13%\n",
       "hypothyroidprior2                  0.09%\n",
       "lupusprior2                        0.04%\n",
       "abruptionprior2                    0.26%\n",
       "abruptionpriorfp2                  0.26%\n",
       "placentapreviaprior2               0.22%\n",
       "placentapreviapriorfp2             0.22%\n",
       "ppromprior2                         0.4%\n",
       "pprompriorfp2                       0.4%\n",
       "raprior2                           0.01%\n",
       "renaldisprior2                     2.85%\n",
       "thromboembolicdiseaseprior2        0.03%\n",
       "tbprior2                           7.15%\n",
       "dtype: object"
      ]
     },
     "execution_count": 847,
     "metadata": {},
     "output_type": "execute_result"
    }
   ],
   "source": [
    "print('Percent of Nonzero/Nonnull Values:')\n",
    "admh.drop('patid',axis=1).replace(-999999,0).applymap(lambda x: 1 if x!=0 else 0).sum().\\\n",
    "    map(lambda x: round(x*100/len(addrg), 2)).map(lambda x: str(x)+'%')"
   ]
  },
  {
   "cell_type": "code",
   "execution_count": 860,
   "metadata": {},
   "outputs": [
    {
     "data": {
      "text/plain": [
       "Index(['hxsuid2', 'hxsids2', 'hxsidssuid2', 'hx_baby_cleft2', 'hx_baby_down2',\n",
       "       'hx_baby_fas2', 'hx_baby_pfas2', 'hx_baby_heart2',\n",
       "       'hx_baby_hypoxiaencep2', 'hx_baby_iugrsga2', 'hx_baby_retard2',\n",
       "       'hx_baby_neuraltube2', 'hx_baby_poorweight2', 'hx_baby_shoulder2',\n",
       "       'sicklecellanemiaprior2', 'apsprior2', 'anxietyprior2',\n",
       "       'bloodclotprior2', 'cancerprior2', 'connectivetissuedisorderprior2',\n",
       "       'gdmprior2', 'gdmpriorfp2', 'hyperthyroidprior2', 'hypothyroidprior2',\n",
       "       'lupusprior2', 'abruptionprior2', 'abruptionpriorfp2',\n",
       "       'placentapreviaprior2', 'placentapreviapriorfp2', 'ppromprior2',\n",
       "       'pprompriorfp2', 'raprior2', 'thromboembolicdiseaseprior2'],\n",
       "      dtype='object')"
      ]
     },
     "execution_count": 860,
     "metadata": {},
     "output_type": "execute_result"
    }
   ],
   "source": [
    "admh_nznn.to_frame('num').query('num < 50').index"
   ]
  },
  {
   "cell_type": "markdown",
   "metadata": {},
   "source": [
    "<font size=4 style=\"background-color:sandybrown;\">\n",
    "    <b>UPDATE (Dec 4)</b>:Dani and I agree that we can drop some of the vars that have no variation,etc.\n",
    "</font>"
   ]
  },
  {
   "cell_type": "code",
   "execution_count": null,
   "metadata": {},
   "outputs": [],
   "source": []
  },
  {
   "cell_type": "code",
   "execution_count": null,
   "metadata": {},
   "outputs": [],
   "source": []
  },
  {
   "cell_type": "markdown",
   "metadata": {},
   "source": [
    "---------------------\n",
    "\n",
    "<font color='red' size=10>\n",
    "    <b>adptsd_DB.csv</b>\n",
    "</font>\n",
    "\n",
    "<br><br>\n",
    "<font size=4 style=\"background-color:sandybrown;\">\n",
    "    <b>UPDATE (Dec 4, mtg w/ Dani)</b>:\n",
    "We might still try using LEC in a random forest -- see if it helps anything (would probably\n",
    "have to use LIME or SHAP to know).  Importantly, Dani wants me to keep these vars in\n",
    "    the final data file I send her, independent of whether I use them in my models or not.\n",
    "</font>\n",
    "\n",
    "\n",
    "In SharePoint file `mbh001/DemoMetaClinical_DataDictionary/DataDictionary/mbh001_Dictionary-of-Variable-terms_20181119_V2.xlsx` tab 1 (\"Demographic Variables\"), Dani greenlights the following vars\n",
    "for further inspection:\n",
    "* **HTQ_Total_Raw** - HTQ Total Raw Score (Q1-30)\n",
    "* **LEC_Events** - LEC Total Events\n",
    "* **LEC_Exp** - LEC Total Number of Events Experienced\n",
    "\n",
    "In tab2, `LEC_Exp` is no longer listed, but a new var is (though only `HTQ_Total_Raw`\n",
    "and `LEC_Events` are greenlit for use):\n",
    "* **PTSDSymptomatic** - Symptomatic for PTSD\n",
    "\n",
    "### FINAL Code... Do Not Use\n",
    "<font style=\"background-color:yellow;\">\n",
    "    <font color='red'><b>WARNING</b></font>: This table has `2682` records, `1824` of \n",
    "which are BISH records (the only ones\n",
    "we are looking at in this study).  Of the `1824`, only `24` of the BISH records\n",
    "have at least one non-null value in the 2 vars of interest: all `24` of these \n",
    "records have non-null `LEC_Events`, but only `7` of them also have \n",
    "a non-null `HTQ_Total_Raw` value.\n",
    "</font>\n",
    "\n",
    "```python\n",
    "adptsd = pd.read_csv('../data/raw/adptsd_DB.csv', usecols = ['patid', 'HTQ_Total_Raw', 'LEC_Events'])\n",
    "bish_index = adptsd.patid.str.split('-').map(lambda x: x[1]) == 'BISH'\n",
    "adptsd = adptsd[bish_index].reset_index(drop=True).dropna()\n",
    "```"
   ]
  },
  {
   "cell_type": "code",
   "execution_count": 489,
   "metadata": {},
   "outputs": [],
   "source": [
    "adptsd = pd.read_csv('../data/raw/adptsd_DB.csv')"
   ]
  },
  {
   "cell_type": "code",
   "execution_count": 490,
   "metadata": {},
   "outputs": [
    {
     "data": {
      "text/plain": [
       "Index(['patid', 'cycleID', 'HTQ_Total_Raw_CID15', 'HTQ_DSM_IV_Raw_CID15',\n",
       "       'HTQ_Functioning_Raw_CID15', 'LEC_Exp_CID15', 'LEC_Exp_nmiss_CID15',\n",
       "       'LEC_Events_CID15', 'PTSDSymptomatic2_CID15', 'patid +', 'cycleID.1',\n",
       "       'HTQ_Total_Raw', 'HTQ_DSM_IV_Raw', 'HTQ_Functioning_Raw', 'LEC_Exp',\n",
       "       'LEC_Exp_nmiss', 'LEC_Events', 'PTSDSymptomatic2', 'cycleID_sum',\n",
       "       'HTQ_Total_Raw_CIDs', 'HTQ_DSM_IV_Raw_CIDs', 'HTQ_Functioning_Raw_CIDs',\n",
       "       'LEC_Exp_CIDs', 'LEC_Exp_nmiss_CIDs', 'LEC_Events_CIDs',\n",
       "       'PTSDSymptomatic2_CIDs'],\n",
       "      dtype='object')"
      ]
     },
     "execution_count": 490,
     "metadata": {},
     "output_type": "execute_result"
    }
   ],
   "source": [
    "adptsd.columns"
   ]
  },
  {
   "cell_type": "code",
   "execution_count": 496,
   "metadata": {},
   "outputs": [
    {
     "data": {
      "text/plain": [
       "0    S002-ALTR-00007\n",
       "1    S002-ALTR-00014\n",
       "2    S002-ALTR-00102\n",
       "3    S002-ALTR-00222\n",
       "4    S002-BISH-00037\n",
       "Name: patid, dtype: object"
      ]
     },
     "execution_count": 496,
     "metadata": {},
     "output_type": "execute_result"
    }
   ],
   "source": [
    "adptsd.patid.head()"
   ]
  },
  {
   "cell_type": "code",
   "execution_count": 506,
   "metadata": {},
   "outputs": [
    {
     "data": {
      "text/plain": [
       "array(['ALTR', 'BISH', 'PINE', 'RAPD', 'SANF'], dtype=object)"
      ]
     },
     "execution_count": 506,
     "metadata": {},
     "output_type": "execute_result"
    }
   ],
   "source": [
    "adptsd.patid.str.split('-').map(lambda x: x[1]).unique()"
   ]
  },
  {
   "cell_type": "markdown",
   "metadata": {},
   "source": [
    "<font style=\"background-color:lightyellow;\">Dani sent Bill Fifer an email about this on Nov 23, 2019.  He said to ignore any\n",
    "record that is not 'BISH'.</font>"
   ]
  },
  {
   "cell_type": "code",
   "execution_count": 515,
   "metadata": {},
   "outputs": [
    {
     "name": "stdout",
     "output_type": "stream",
     "text": [
      "Total Number of PTSD Records: 2682\n",
      "Total Number of BISH Records: 1824\n"
     ]
    }
   ],
   "source": [
    "bish_index = adptsd.patid.str.split('-').map(lambda x: x[1]) == 'BISH'\n",
    "print('Total Number of PTSD Records:', len(adptsd))\n",
    "print('Total Number of BISH Records:', bish_index.sum())"
   ]
  },
  {
   "cell_type": "code",
   "execution_count": 525,
   "metadata": {},
   "outputs": [
    {
     "data": {
      "text/html": [
       "<div>\n",
       "<style scoped>\n",
       "    .dataframe tbody tr th:only-of-type {\n",
       "        vertical-align: middle;\n",
       "    }\n",
       "\n",
       "    .dataframe tbody tr th {\n",
       "        vertical-align: top;\n",
       "    }\n",
       "\n",
       "    .dataframe thead th {\n",
       "        text-align: right;\n",
       "    }\n",
       "</style>\n",
       "<table border=\"1\" class=\"dataframe\">\n",
       "  <thead>\n",
       "    <tr style=\"text-align: right;\">\n",
       "      <th></th>\n",
       "      <th>patid</th>\n",
       "      <th>HTQ_Total_Raw</th>\n",
       "      <th>LEC_Events</th>\n",
       "    </tr>\n",
       "  </thead>\n",
       "  <tbody>\n",
       "    <tr>\n",
       "      <th>0</th>\n",
       "      <td>S002-BISH-00037</td>\n",
       "      <td>NaN</td>\n",
       "      <td>NaN</td>\n",
       "    </tr>\n",
       "    <tr>\n",
       "      <th>1</th>\n",
       "      <td>S002-BISH-00039</td>\n",
       "      <td>NaN</td>\n",
       "      <td>NaN</td>\n",
       "    </tr>\n",
       "    <tr>\n",
       "      <th>2</th>\n",
       "      <td>S002-BISH-00251</td>\n",
       "      <td>NaN</td>\n",
       "      <td>NaN</td>\n",
       "    </tr>\n",
       "    <tr>\n",
       "      <th>3</th>\n",
       "      <td>S002-BISH-00257</td>\n",
       "      <td>NaN</td>\n",
       "      <td>NaN</td>\n",
       "    </tr>\n",
       "    <tr>\n",
       "      <th>4</th>\n",
       "      <td>S002-BISH-00310</td>\n",
       "      <td>NaN</td>\n",
       "      <td>NaN</td>\n",
       "    </tr>\n",
       "    <tr>\n",
       "      <th>5</th>\n",
       "      <td>S002-BISH-00998</td>\n",
       "      <td>NaN</td>\n",
       "      <td>NaN</td>\n",
       "    </tr>\n",
       "    <tr>\n",
       "      <th>6</th>\n",
       "      <td>S002-BISH-01226</td>\n",
       "      <td>NaN</td>\n",
       "      <td>NaN</td>\n",
       "    </tr>\n",
       "    <tr>\n",
       "      <th>7</th>\n",
       "      <td>S002-BISH-01235</td>\n",
       "      <td>NaN</td>\n",
       "      <td>NaN</td>\n",
       "    </tr>\n",
       "    <tr>\n",
       "      <th>8</th>\n",
       "      <td>S002-BISH-01776</td>\n",
       "      <td>NaN</td>\n",
       "      <td>NaN</td>\n",
       "    </tr>\n",
       "    <tr>\n",
       "      <th>9</th>\n",
       "      <td>S002-BISH-01955</td>\n",
       "      <td>NaN</td>\n",
       "      <td>NaN</td>\n",
       "    </tr>\n",
       "    <tr>\n",
       "      <th>10</th>\n",
       "      <td>S002-BISH-01984</td>\n",
       "      <td>NaN</td>\n",
       "      <td>NaN</td>\n",
       "    </tr>\n",
       "    <tr>\n",
       "      <th>11</th>\n",
       "      <td>S002-BISH-03937</td>\n",
       "      <td>NaN</td>\n",
       "      <td>NaN</td>\n",
       "    </tr>\n",
       "    <tr>\n",
       "      <th>12</th>\n",
       "      <td>S002-BISH-04365</td>\n",
       "      <td>NaN</td>\n",
       "      <td>NaN</td>\n",
       "    </tr>\n",
       "    <tr>\n",
       "      <th>13</th>\n",
       "      <td>S002-BISH-00287</td>\n",
       "      <td>1.0</td>\n",
       "      <td>13.0</td>\n",
       "    </tr>\n",
       "    <tr>\n",
       "      <th>14</th>\n",
       "      <td>S002-BISH-00083</td>\n",
       "      <td>NaN</td>\n",
       "      <td>NaN</td>\n",
       "    </tr>\n",
       "    <tr>\n",
       "      <th>15</th>\n",
       "      <td>S002-BISH-00284</td>\n",
       "      <td>NaN</td>\n",
       "      <td>NaN</td>\n",
       "    </tr>\n",
       "    <tr>\n",
       "      <th>16</th>\n",
       "      <td>S002-BISH-00566</td>\n",
       "      <td>NaN</td>\n",
       "      <td>NaN</td>\n",
       "    </tr>\n",
       "    <tr>\n",
       "      <th>17</th>\n",
       "      <td>S002-BISH-01186</td>\n",
       "      <td>NaN</td>\n",
       "      <td>NaN</td>\n",
       "    </tr>\n",
       "    <tr>\n",
       "      <th>18</th>\n",
       "      <td>S002-BISH-01309</td>\n",
       "      <td>NaN</td>\n",
       "      <td>NaN</td>\n",
       "    </tr>\n",
       "    <tr>\n",
       "      <th>19</th>\n",
       "      <td>S002-BISH-01518</td>\n",
       "      <td>NaN</td>\n",
       "      <td>NaN</td>\n",
       "    </tr>\n",
       "    <tr>\n",
       "      <th>20</th>\n",
       "      <td>S002-BISH-04689</td>\n",
       "      <td>NaN</td>\n",
       "      <td>NaN</td>\n",
       "    </tr>\n",
       "    <tr>\n",
       "      <th>21</th>\n",
       "      <td>S002-BISH-00045</td>\n",
       "      <td>NaN</td>\n",
       "      <td>NaN</td>\n",
       "    </tr>\n",
       "    <tr>\n",
       "      <th>22</th>\n",
       "      <td>S002-BISH-01199</td>\n",
       "      <td>NaN</td>\n",
       "      <td>NaN</td>\n",
       "    </tr>\n",
       "    <tr>\n",
       "      <th>23</th>\n",
       "      <td>S002-BISH-01608</td>\n",
       "      <td>NaN</td>\n",
       "      <td>NaN</td>\n",
       "    </tr>\n",
       "    <tr>\n",
       "      <th>24</th>\n",
       "      <td>S002-BISH-01730</td>\n",
       "      <td>NaN</td>\n",
       "      <td>NaN</td>\n",
       "    </tr>\n",
       "    <tr>\n",
       "      <th>25</th>\n",
       "      <td>S002-BISH-04606</td>\n",
       "      <td>NaN</td>\n",
       "      <td>NaN</td>\n",
       "    </tr>\n",
       "    <tr>\n",
       "      <th>26</th>\n",
       "      <td>S002-BISH-06318</td>\n",
       "      <td>NaN</td>\n",
       "      <td>NaN</td>\n",
       "    </tr>\n",
       "    <tr>\n",
       "      <th>27</th>\n",
       "      <td>S002-BISH-00760</td>\n",
       "      <td>NaN</td>\n",
       "      <td>NaN</td>\n",
       "    </tr>\n",
       "    <tr>\n",
       "      <th>28</th>\n",
       "      <td>S002-BISH-01305</td>\n",
       "      <td>NaN</td>\n",
       "      <td>NaN</td>\n",
       "    </tr>\n",
       "    <tr>\n",
       "      <th>29</th>\n",
       "      <td>S002-BISH-01979</td>\n",
       "      <td>NaN</td>\n",
       "      <td>NaN</td>\n",
       "    </tr>\n",
       "    <tr>\n",
       "      <th>...</th>\n",
       "      <td>...</td>\n",
       "      <td>...</td>\n",
       "      <td>...</td>\n",
       "    </tr>\n",
       "    <tr>\n",
       "      <th>1794</th>\n",
       "      <td>S002-BISH-07011</td>\n",
       "      <td>NaN</td>\n",
       "      <td>NaN</td>\n",
       "    </tr>\n",
       "    <tr>\n",
       "      <th>1795</th>\n",
       "      <td>S002-BISH-07021</td>\n",
       "      <td>NaN</td>\n",
       "      <td>NaN</td>\n",
       "    </tr>\n",
       "    <tr>\n",
       "      <th>1796</th>\n",
       "      <td>S002-BISH-07022</td>\n",
       "      <td>NaN</td>\n",
       "      <td>NaN</td>\n",
       "    </tr>\n",
       "    <tr>\n",
       "      <th>1797</th>\n",
       "      <td>S002-BISH-07024</td>\n",
       "      <td>NaN</td>\n",
       "      <td>NaN</td>\n",
       "    </tr>\n",
       "    <tr>\n",
       "      <th>1798</th>\n",
       "      <td>S002-BISH-07025</td>\n",
       "      <td>NaN</td>\n",
       "      <td>NaN</td>\n",
       "    </tr>\n",
       "    <tr>\n",
       "      <th>1799</th>\n",
       "      <td>S002-BISH-07029</td>\n",
       "      <td>NaN</td>\n",
       "      <td>NaN</td>\n",
       "    </tr>\n",
       "    <tr>\n",
       "      <th>1800</th>\n",
       "      <td>S002-BISH-07031</td>\n",
       "      <td>NaN</td>\n",
       "      <td>NaN</td>\n",
       "    </tr>\n",
       "    <tr>\n",
       "      <th>1801</th>\n",
       "      <td>S002-BISH-07036</td>\n",
       "      <td>NaN</td>\n",
       "      <td>NaN</td>\n",
       "    </tr>\n",
       "    <tr>\n",
       "      <th>1802</th>\n",
       "      <td>S002-BISH-07038</td>\n",
       "      <td>NaN</td>\n",
       "      <td>NaN</td>\n",
       "    </tr>\n",
       "    <tr>\n",
       "      <th>1803</th>\n",
       "      <td>S002-BISH-07042</td>\n",
       "      <td>NaN</td>\n",
       "      <td>NaN</td>\n",
       "    </tr>\n",
       "    <tr>\n",
       "      <th>1804</th>\n",
       "      <td>S002-BISH-07045</td>\n",
       "      <td>NaN</td>\n",
       "      <td>NaN</td>\n",
       "    </tr>\n",
       "    <tr>\n",
       "      <th>1805</th>\n",
       "      <td>S002-BISH-07054</td>\n",
       "      <td>NaN</td>\n",
       "      <td>NaN</td>\n",
       "    </tr>\n",
       "    <tr>\n",
       "      <th>1806</th>\n",
       "      <td>S002-BISH-07060</td>\n",
       "      <td>NaN</td>\n",
       "      <td>NaN</td>\n",
       "    </tr>\n",
       "    <tr>\n",
       "      <th>1807</th>\n",
       "      <td>S002-BISH-00097</td>\n",
       "      <td>-999999.0</td>\n",
       "      <td>14.0</td>\n",
       "    </tr>\n",
       "    <tr>\n",
       "      <th>1808</th>\n",
       "      <td>S002-BISH-00405</td>\n",
       "      <td>-999999.0</td>\n",
       "      <td>5.0</td>\n",
       "    </tr>\n",
       "    <tr>\n",
       "      <th>1809</th>\n",
       "      <td>S002-BISH-00433</td>\n",
       "      <td>-999999.0</td>\n",
       "      <td>13.0</td>\n",
       "    </tr>\n",
       "    <tr>\n",
       "      <th>1810</th>\n",
       "      <td>S002-BISH-00461</td>\n",
       "      <td>-999999.0</td>\n",
       "      <td>13.0</td>\n",
       "    </tr>\n",
       "    <tr>\n",
       "      <th>1811</th>\n",
       "      <td>S002-BISH-00815</td>\n",
       "      <td>-999999.0</td>\n",
       "      <td>6.0</td>\n",
       "    </tr>\n",
       "    <tr>\n",
       "      <th>1812</th>\n",
       "      <td>S002-BISH-01213</td>\n",
       "      <td>-999999.0</td>\n",
       "      <td>13.0</td>\n",
       "    </tr>\n",
       "    <tr>\n",
       "      <th>1813</th>\n",
       "      <td>S002-BISH-01712</td>\n",
       "      <td>-999999.0</td>\n",
       "      <td>9.0</td>\n",
       "    </tr>\n",
       "    <tr>\n",
       "      <th>1814</th>\n",
       "      <td>S002-BISH-02060</td>\n",
       "      <td>-999999.0</td>\n",
       "      <td>10.0</td>\n",
       "    </tr>\n",
       "    <tr>\n",
       "      <th>1815</th>\n",
       "      <td>S002-BISH-02437</td>\n",
       "      <td>-999999.0</td>\n",
       "      <td>10.0</td>\n",
       "    </tr>\n",
       "    <tr>\n",
       "      <th>1816</th>\n",
       "      <td>S002-BISH-02775</td>\n",
       "      <td>-999999.0</td>\n",
       "      <td>12.0</td>\n",
       "    </tr>\n",
       "    <tr>\n",
       "      <th>1817</th>\n",
       "      <td>S002-BISH-03457</td>\n",
       "      <td>-999999.0</td>\n",
       "      <td>9.0</td>\n",
       "    </tr>\n",
       "    <tr>\n",
       "      <th>1818</th>\n",
       "      <td>S002-BISH-03794</td>\n",
       "      <td>-999999.0</td>\n",
       "      <td>11.0</td>\n",
       "    </tr>\n",
       "    <tr>\n",
       "      <th>1819</th>\n",
       "      <td>S002-BISH-04217</td>\n",
       "      <td>-999999.0</td>\n",
       "      <td>13.0</td>\n",
       "    </tr>\n",
       "    <tr>\n",
       "      <th>1820</th>\n",
       "      <td>S002-BISH-05583</td>\n",
       "      <td>-999999.0</td>\n",
       "      <td>8.0</td>\n",
       "    </tr>\n",
       "    <tr>\n",
       "      <th>1821</th>\n",
       "      <td>S002-BISH-06124</td>\n",
       "      <td>-999999.0</td>\n",
       "      <td>6.0</td>\n",
       "    </tr>\n",
       "    <tr>\n",
       "      <th>1822</th>\n",
       "      <td>S002-BISH-06628</td>\n",
       "      <td>-999999.0</td>\n",
       "      <td>8.0</td>\n",
       "    </tr>\n",
       "    <tr>\n",
       "      <th>1823</th>\n",
       "      <td>S002-BISH-06891</td>\n",
       "      <td>-999999.0</td>\n",
       "      <td>14.0</td>\n",
       "    </tr>\n",
       "  </tbody>\n",
       "</table>\n",
       "<p>1824 rows × 3 columns</p>\n",
       "</div>"
      ],
      "text/plain": [
       "                patid  HTQ_Total_Raw  LEC_Events\n",
       "0     S002-BISH-00037            NaN         NaN\n",
       "1     S002-BISH-00039            NaN         NaN\n",
       "2     S002-BISH-00251            NaN         NaN\n",
       "3     S002-BISH-00257            NaN         NaN\n",
       "4     S002-BISH-00310            NaN         NaN\n",
       "5     S002-BISH-00998            NaN         NaN\n",
       "6     S002-BISH-01226            NaN         NaN\n",
       "7     S002-BISH-01235            NaN         NaN\n",
       "8     S002-BISH-01776            NaN         NaN\n",
       "9     S002-BISH-01955            NaN         NaN\n",
       "10    S002-BISH-01984            NaN         NaN\n",
       "11    S002-BISH-03937            NaN         NaN\n",
       "12    S002-BISH-04365            NaN         NaN\n",
       "13    S002-BISH-00287            1.0        13.0\n",
       "14    S002-BISH-00083            NaN         NaN\n",
       "15    S002-BISH-00284            NaN         NaN\n",
       "16    S002-BISH-00566            NaN         NaN\n",
       "17    S002-BISH-01186            NaN         NaN\n",
       "18    S002-BISH-01309            NaN         NaN\n",
       "19    S002-BISH-01518            NaN         NaN\n",
       "20    S002-BISH-04689            NaN         NaN\n",
       "21    S002-BISH-00045            NaN         NaN\n",
       "22    S002-BISH-01199            NaN         NaN\n",
       "23    S002-BISH-01608            NaN         NaN\n",
       "24    S002-BISH-01730            NaN         NaN\n",
       "25    S002-BISH-04606            NaN         NaN\n",
       "26    S002-BISH-06318            NaN         NaN\n",
       "27    S002-BISH-00760            NaN         NaN\n",
       "28    S002-BISH-01305            NaN         NaN\n",
       "29    S002-BISH-01979            NaN         NaN\n",
       "...               ...            ...         ...\n",
       "1794  S002-BISH-07011            NaN         NaN\n",
       "1795  S002-BISH-07021            NaN         NaN\n",
       "1796  S002-BISH-07022            NaN         NaN\n",
       "1797  S002-BISH-07024            NaN         NaN\n",
       "1798  S002-BISH-07025            NaN         NaN\n",
       "1799  S002-BISH-07029            NaN         NaN\n",
       "1800  S002-BISH-07031            NaN         NaN\n",
       "1801  S002-BISH-07036            NaN         NaN\n",
       "1802  S002-BISH-07038            NaN         NaN\n",
       "1803  S002-BISH-07042            NaN         NaN\n",
       "1804  S002-BISH-07045            NaN         NaN\n",
       "1805  S002-BISH-07054            NaN         NaN\n",
       "1806  S002-BISH-07060            NaN         NaN\n",
       "1807  S002-BISH-00097      -999999.0        14.0\n",
       "1808  S002-BISH-00405      -999999.0         5.0\n",
       "1809  S002-BISH-00433      -999999.0        13.0\n",
       "1810  S002-BISH-00461      -999999.0        13.0\n",
       "1811  S002-BISH-00815      -999999.0         6.0\n",
       "1812  S002-BISH-01213      -999999.0        13.0\n",
       "1813  S002-BISH-01712      -999999.0         9.0\n",
       "1814  S002-BISH-02060      -999999.0        10.0\n",
       "1815  S002-BISH-02437      -999999.0        10.0\n",
       "1816  S002-BISH-02775      -999999.0        12.0\n",
       "1817  S002-BISH-03457      -999999.0         9.0\n",
       "1818  S002-BISH-03794      -999999.0        11.0\n",
       "1819  S002-BISH-04217      -999999.0        13.0\n",
       "1820  S002-BISH-05583      -999999.0         8.0\n",
       "1821  S002-BISH-06124      -999999.0         6.0\n",
       "1822  S002-BISH-06628      -999999.0         8.0\n",
       "1823  S002-BISH-06891      -999999.0        14.0\n",
       "\n",
       "[1824 rows x 3 columns]"
      ]
     },
     "execution_count": 525,
     "metadata": {},
     "output_type": "execute_result"
    }
   ],
   "source": [
    "adptsd = pd.read_csv('../data/raw/adptsd_DB.csv', usecols = ['patid', 'HTQ_Total_Raw', 'LEC_Events'])\n",
    "bish_index = adptsd.patid.str.split('-').map(lambda x: x[1]) == 'BISH'\n",
    "adptsd = adptsd[bish_index].reset_index(drop=True)\n",
    "adptsd"
   ]
  },
  {
   "cell_type": "code",
   "execution_count": 524,
   "metadata": {},
   "outputs": [
    {
     "data": {
      "text/plain": [
       "patid               0\n",
       "HTQ_Total_Raw    1800\n",
       "LEC_Events       1800\n",
       "dtype: int64"
      ]
     },
     "execution_count": 524,
     "metadata": {},
     "output_type": "execute_result"
    }
   ],
   "source": [
    "adptsd.isnull().sum()"
   ]
  },
  {
   "cell_type": "code",
   "execution_count": 527,
   "metadata": {},
   "outputs": [
    {
     "data": {
      "text/html": [
       "<div>\n",
       "<style scoped>\n",
       "    .dataframe tbody tr th:only-of-type {\n",
       "        vertical-align: middle;\n",
       "    }\n",
       "\n",
       "    .dataframe tbody tr th {\n",
       "        vertical-align: top;\n",
       "    }\n",
       "\n",
       "    .dataframe thead th {\n",
       "        text-align: right;\n",
       "    }\n",
       "</style>\n",
       "<table border=\"1\" class=\"dataframe\">\n",
       "  <thead>\n",
       "    <tr style=\"text-align: right;\">\n",
       "      <th></th>\n",
       "      <th>patid</th>\n",
       "      <th>HTQ_Total_Raw</th>\n",
       "      <th>LEC_Events</th>\n",
       "    </tr>\n",
       "  </thead>\n",
       "  <tbody>\n",
       "    <tr>\n",
       "      <th>13</th>\n",
       "      <td>S002-BISH-00287</td>\n",
       "      <td>1.00</td>\n",
       "      <td>13.0</td>\n",
       "    </tr>\n",
       "    <tr>\n",
       "      <th>149</th>\n",
       "      <td>S002-BISH-04082</td>\n",
       "      <td>1.50</td>\n",
       "      <td>3.0</td>\n",
       "    </tr>\n",
       "    <tr>\n",
       "      <th>233</th>\n",
       "      <td>S002-BISH-00769</td>\n",
       "      <td>1.83</td>\n",
       "      <td>12.0</td>\n",
       "    </tr>\n",
       "    <tr>\n",
       "      <th>305</th>\n",
       "      <td>S002-BISH-00105</td>\n",
       "      <td>2.17</td>\n",
       "      <td>15.0</td>\n",
       "    </tr>\n",
       "    <tr>\n",
       "      <th>349</th>\n",
       "      <td>S002-BISH-05146</td>\n",
       "      <td>2.63</td>\n",
       "      <td>10.0</td>\n",
       "    </tr>\n",
       "    <tr>\n",
       "      <th>356</th>\n",
       "      <td>S002-BISH-02994</td>\n",
       "      <td>2.37</td>\n",
       "      <td>10.0</td>\n",
       "    </tr>\n",
       "    <tr>\n",
       "      <th>378</th>\n",
       "      <td>S002-BISH-00697</td>\n",
       "      <td>2.57</td>\n",
       "      <td>11.0</td>\n",
       "    </tr>\n",
       "    <tr>\n",
       "      <th>1807</th>\n",
       "      <td>S002-BISH-00097</td>\n",
       "      <td>-999999.00</td>\n",
       "      <td>14.0</td>\n",
       "    </tr>\n",
       "    <tr>\n",
       "      <th>1808</th>\n",
       "      <td>S002-BISH-00405</td>\n",
       "      <td>-999999.00</td>\n",
       "      <td>5.0</td>\n",
       "    </tr>\n",
       "    <tr>\n",
       "      <th>1809</th>\n",
       "      <td>S002-BISH-00433</td>\n",
       "      <td>-999999.00</td>\n",
       "      <td>13.0</td>\n",
       "    </tr>\n",
       "    <tr>\n",
       "      <th>1810</th>\n",
       "      <td>S002-BISH-00461</td>\n",
       "      <td>-999999.00</td>\n",
       "      <td>13.0</td>\n",
       "    </tr>\n",
       "    <tr>\n",
       "      <th>1811</th>\n",
       "      <td>S002-BISH-00815</td>\n",
       "      <td>-999999.00</td>\n",
       "      <td>6.0</td>\n",
       "    </tr>\n",
       "    <tr>\n",
       "      <th>1812</th>\n",
       "      <td>S002-BISH-01213</td>\n",
       "      <td>-999999.00</td>\n",
       "      <td>13.0</td>\n",
       "    </tr>\n",
       "    <tr>\n",
       "      <th>1813</th>\n",
       "      <td>S002-BISH-01712</td>\n",
       "      <td>-999999.00</td>\n",
       "      <td>9.0</td>\n",
       "    </tr>\n",
       "    <tr>\n",
       "      <th>1814</th>\n",
       "      <td>S002-BISH-02060</td>\n",
       "      <td>-999999.00</td>\n",
       "      <td>10.0</td>\n",
       "    </tr>\n",
       "    <tr>\n",
       "      <th>1815</th>\n",
       "      <td>S002-BISH-02437</td>\n",
       "      <td>-999999.00</td>\n",
       "      <td>10.0</td>\n",
       "    </tr>\n",
       "    <tr>\n",
       "      <th>1816</th>\n",
       "      <td>S002-BISH-02775</td>\n",
       "      <td>-999999.00</td>\n",
       "      <td>12.0</td>\n",
       "    </tr>\n",
       "    <tr>\n",
       "      <th>1817</th>\n",
       "      <td>S002-BISH-03457</td>\n",
       "      <td>-999999.00</td>\n",
       "      <td>9.0</td>\n",
       "    </tr>\n",
       "    <tr>\n",
       "      <th>1818</th>\n",
       "      <td>S002-BISH-03794</td>\n",
       "      <td>-999999.00</td>\n",
       "      <td>11.0</td>\n",
       "    </tr>\n",
       "    <tr>\n",
       "      <th>1819</th>\n",
       "      <td>S002-BISH-04217</td>\n",
       "      <td>-999999.00</td>\n",
       "      <td>13.0</td>\n",
       "    </tr>\n",
       "    <tr>\n",
       "      <th>1820</th>\n",
       "      <td>S002-BISH-05583</td>\n",
       "      <td>-999999.00</td>\n",
       "      <td>8.0</td>\n",
       "    </tr>\n",
       "    <tr>\n",
       "      <th>1821</th>\n",
       "      <td>S002-BISH-06124</td>\n",
       "      <td>-999999.00</td>\n",
       "      <td>6.0</td>\n",
       "    </tr>\n",
       "    <tr>\n",
       "      <th>1822</th>\n",
       "      <td>S002-BISH-06628</td>\n",
       "      <td>-999999.00</td>\n",
       "      <td>8.0</td>\n",
       "    </tr>\n",
       "    <tr>\n",
       "      <th>1823</th>\n",
       "      <td>S002-BISH-06891</td>\n",
       "      <td>-999999.00</td>\n",
       "      <td>14.0</td>\n",
       "    </tr>\n",
       "  </tbody>\n",
       "</table>\n",
       "</div>"
      ],
      "text/plain": [
       "                patid  HTQ_Total_Raw  LEC_Events\n",
       "13    S002-BISH-00287           1.00        13.0\n",
       "149   S002-BISH-04082           1.50         3.0\n",
       "233   S002-BISH-00769           1.83        12.0\n",
       "305   S002-BISH-00105           2.17        15.0\n",
       "349   S002-BISH-05146           2.63        10.0\n",
       "356   S002-BISH-02994           2.37        10.0\n",
       "378   S002-BISH-00697           2.57        11.0\n",
       "1807  S002-BISH-00097     -999999.00        14.0\n",
       "1808  S002-BISH-00405     -999999.00         5.0\n",
       "1809  S002-BISH-00433     -999999.00        13.0\n",
       "1810  S002-BISH-00461     -999999.00        13.0\n",
       "1811  S002-BISH-00815     -999999.00         6.0\n",
       "1812  S002-BISH-01213     -999999.00        13.0\n",
       "1813  S002-BISH-01712     -999999.00         9.0\n",
       "1814  S002-BISH-02060     -999999.00        10.0\n",
       "1815  S002-BISH-02437     -999999.00        10.0\n",
       "1816  S002-BISH-02775     -999999.00        12.0\n",
       "1817  S002-BISH-03457     -999999.00         9.0\n",
       "1818  S002-BISH-03794     -999999.00        11.0\n",
       "1819  S002-BISH-04217     -999999.00        13.0\n",
       "1820  S002-BISH-05583     -999999.00         8.0\n",
       "1821  S002-BISH-06124     -999999.00         6.0\n",
       "1822  S002-BISH-06628     -999999.00         8.0\n",
       "1823  S002-BISH-06891     -999999.00        14.0"
      ]
     },
     "execution_count": 527,
     "metadata": {},
     "output_type": "execute_result"
    }
   ],
   "source": [
    "adptsd = adptsd.dropna()\n",
    "adptsd"
   ]
  },
  {
   "cell_type": "code",
   "execution_count": 528,
   "metadata": {},
   "outputs": [
    {
     "data": {
      "text/plain": [
       "24"
      ]
     },
     "execution_count": 528,
     "metadata": {},
     "output_type": "execute_result"
    }
   ],
   "source": [
    "len(adptsd)"
   ]
  },
  {
   "cell_type": "code",
   "execution_count": 530,
   "metadata": {},
   "outputs": [
    {
     "data": {
      "text/plain": [
       "7"
      ]
     },
     "execution_count": 530,
     "metadata": {},
     "output_type": "execute_result"
    }
   ],
   "source": [
    "(adptsd.HTQ_Total_Raw >= 0).sum()"
   ]
  },
  {
   "cell_type": "markdown",
   "metadata": {},
   "source": [
    "<font size=4 style=\"background-color:lightgreen;\">\n",
    "    Good! No duplicated PATIDs.\n",
    "</font>"
   ]
  },
  {
   "cell_type": "code",
   "execution_count": 864,
   "metadata": {},
   "outputs": [
    {
     "name": "stdout",
     "output_type": "stream",
     "text": [
      "N Records: 24\n",
      "N Unique PATIDs: 24\n"
     ]
    }
   ],
   "source": [
    "print('N Records:', adptsd.shape[0])\n",
    "print('N Unique PATIDs:', adptsd.patid.unique().shape[0])"
   ]
  },
  {
   "cell_type": "code",
   "execution_count": 866,
   "metadata": {},
   "outputs": [
    {
     "data": {
      "image/png": "[encoded data removed]",
      "text/plain": [
       "<Figure size 432x288 with 2 Axes>"
      ]
     },
     "metadata": {
      "needs_background": "light"
     },
     "output_type": "display_data"
    }
   ],
   "source": [
    "adptsd.hist();"
   ]
  },
  {
   "cell_type": "code",
   "execution_count": null,
   "metadata": {},
   "outputs": [],
   "source": []
  },
  {
   "cell_type": "code",
   "execution_count": null,
   "metadata": {},
   "outputs": [],
   "source": []
  },
  {
   "cell_type": "markdown",
   "metadata": {},
   "source": [
    "---------------------\n",
    "\n",
    "<font color='red' size=10>\n",
    "    <b>adsc_DB.csv</b>\n",
    "</font>\n",
    "\n",
    "<br><br>\n",
    "<font size=4 style=\"background-color:sandybrown;\">\n",
    "    <b>UPDATE (Dec 4, mtg w/ Dani)</b>:  Dani agrees:  do not use twins in analysis, for\n",
    "    several reasons.  For example, at best, it generates 99%-100% repeated rows of data.  Worse,\n",
    "    the sensor data for twins is terrible, so we have repeated rows of crappy data.\n",
    "</font>\n",
    "\n",
    "\n",
    "There are many vars in this table, but in SharePoint file \n",
    "`mbh001/DemoMetaClinical_DataDictionary/DataDictionary/mbh001_Dictionary-of-Variable-terms_20181119_V2.xlsx` \n",
    "tab 1 (\"Demographic Variables\"), Dani\n",
    "only greenlights two for further inspection:\n",
    "* GENDER2\n",
    "* TWIN2\n",
    "\n",
    "These same 2 vars are greenlit in tab2 as well.\n",
    "\n",
    "Vars that Dani did not include, but which could be EXCELLENT target vars:\n",
    "* DLVRYGA_DYS (essentially Udi's target)\n",
    "* Preterm2\n",
    "* DLVRYBefore34Wks\n",
    "* DLVRYBefore28wks\n",
    "\n",
    "\n",
    "\n",
    "### FINAL Code...\n",
    "-------------------\n",
    "```python\n",
    "# Drop twins... No point in keeping them right now (doubling up data points)\n",
    "adsc_cols = ['patid', 'gender2','twin2',\n",
    "    'DLVRYGA_DYS', 'Preterm2', 'DLVRYBefore34Wks', 'DLVRYBefore28wks']\n",
    "adsc = pd.read_csv('../data/raw/adsc_DB.csv', usecols=adsc_cols)\n",
    "adsc.drop(adsc.index[adsc.twin2 > 0], inplace=True)\n",
    "adsc.columns = map(str.lower, adsc.columns)\n",
    "adsc.drop('twin2', axis=1, inplace=True)\n",
    "```\n",
    "---------------------"
   ]
  },
  {
   "cell_type": "code",
   "execution_count": 951,
   "metadata": {},
   "outputs": [],
   "source": [
    "adsc = pd.read_csv('../data/raw/adsc_DB.csv')#, usecols=['GENDER2','TWIN2'])"
   ]
  },
  {
   "cell_type": "code",
   "execution_count": 953,
   "metadata": {},
   "outputs": [
    {
     "data": {
      "text/plain": [
       "Index(['patid', 'Site', 'M_Delivery_Maternal', 'M_1_Month_Maternal',\n",
       "       'M_12_Month_Maternal', 'M_Newborn_1', 'M_Newborn_2', 'WDRW_CYCLE',\n",
       "       'ownertypeID', 'twin2', 'VagSpDel2', 'VagOPDel2', 'Cesarean2',\n",
       "       'DLVRY_DT', 'DLVRYGA_DYS', 'DLVRYGA_WKS', 'Preterm2',\n",
       "       'DLVRYBefore34Wks', 'DLVRYBefore28wks', 'TDY_INFTAGE', 'TDY_INFTADJAGE',\n",
       "       'INFRACENIH7', 'INFRACENIH4', 'INFRACEAI7', 'INFRACEAI4', 'EDC',\n",
       "       'DELIVERY2', 'OUTCOME2', 'DEMISE_DT', 'DEMISE_GA', 'DEMISE_INFAGE',\n",
       "       'MISCAR2', 'SB2', 'LB2', 'INFDEMISE2', 'INFDEMISEAFT1YR2',\n",
       "       'Pregterm20wks2', 'MISCARadj2', 'MiscarRetainedAdj2', 'SBAdj2',\n",
       "       'SBRetainedMiscarAdj2', 'FetalPrimaryCODBoyd5',\n",
       "       'FetalAllPrimaryCODBoyd5', 'FetalAllPrimaryCODBoyd8',\n",
       "       'FetalPrimaryCODBoydSub11', 'FetalCODBoydNoInfo2',\n",
       "       'FetalPrimaryCODGard9', 'COD9', 'DLVRYGA_DYS_SBadj', 'DEMISE_GAadj5',\n",
       "       'DLVRYGA_DYS_SBadj5', 'AprAtpsyCons2', 'AtpsyCons2', 'AtpsyCompl2',\n",
       "       'AtpsyEntered2', 'STATUS4', 'ACTIVESTAT2', 'SCSTAT4', 'SCINFSTAT4',\n",
       "       'SCCHART2', 'WDRW_CYCLE2', 'EXP_45WKGA2', 'EXP_12MON2', 'EXP_6MON2',\n",
       "       'OUTKNOWN_12MON2', 'ALIVE_12MON2', 'OUTAPPROX_12MON2', 'DEMISE_GA4',\n",
       "       'DEMISE_GA5', 'MC_DEMISEGAGRP', 'CongenitalAnomalies2',\n",
       "       'DelPresentation5', 'gender2', 'SIDS2', 'KnownInfCOD2', 'AllInfDemise2',\n",
       "       'UnexpWconInfdemise2', 'PCA', 'PMI_hrs', 'EndOfPreg_GA', 'EndOfPreg_DT',\n",
       "       'from ADSCMAT>>>'],\n",
       "      dtype='object')"
      ]
     },
     "execution_count": 953,
     "metadata": {},
     "output_type": "execute_result"
    }
   ],
   "source": [
    "adsc.columns adsc.dlvryga_dys"
   ]
  },
  {
   "cell_type": "code",
   "execution_count": 537,
   "metadata": {},
   "outputs": [
    {
     "data": {
      "text/plain": [
       "['twin2', 'gender2']"
      ]
     },
     "execution_count": 537,
     "metadata": {},
     "output_type": "execute_result"
    }
   ],
   "source": [
    "[item for item in adsc.columns if 'gender' in item.lower() or 'twin' in item.lower()]"
   ]
  },
  {
   "cell_type": "code",
   "execution_count": 544,
   "metadata": {},
   "outputs": [],
   "source": [
    "adsc = pd.read_csv('../data/raw/adsc_DB.csv', usecols=['patid', 'gender2','twin2'])"
   ]
  },
  {
   "cell_type": "code",
   "execution_count": 545,
   "metadata": {},
   "outputs": [
    {
     "data": {
      "text/html": [
       "<div>\n",
       "<style scoped>\n",
       "    .dataframe tbody tr th:only-of-type {\n",
       "        vertical-align: middle;\n",
       "    }\n",
       "\n",
       "    .dataframe tbody tr th {\n",
       "        vertical-align: top;\n",
       "    }\n",
       "\n",
       "    .dataframe thead th {\n",
       "        text-align: right;\n",
       "    }\n",
       "</style>\n",
       "<table border=\"1\" class=\"dataframe\">\n",
       "  <thead>\n",
       "    <tr style=\"text-align: right;\">\n",
       "      <th></th>\n",
       "      <th>patid</th>\n",
       "      <th>twin2</th>\n",
       "      <th>gender2</th>\n",
       "    </tr>\n",
       "  </thead>\n",
       "  <tbody>\n",
       "    <tr>\n",
       "      <th>0</th>\n",
       "      <td>S002-BISH-00001</td>\n",
       "      <td>0.0</td>\n",
       "      <td>2.0</td>\n",
       "    </tr>\n",
       "    <tr>\n",
       "      <th>1</th>\n",
       "      <td>S002-BISH-00002</td>\n",
       "      <td>0.0</td>\n",
       "      <td>1.0</td>\n",
       "    </tr>\n",
       "    <tr>\n",
       "      <th>2</th>\n",
       "      <td>S002-BISH-00003</td>\n",
       "      <td>0.0</td>\n",
       "      <td>1.0</td>\n",
       "    </tr>\n",
       "    <tr>\n",
       "      <th>3</th>\n",
       "      <td>S002-BISH-00004</td>\n",
       "      <td>0.0</td>\n",
       "      <td>2.0</td>\n",
       "    </tr>\n",
       "    <tr>\n",
       "      <th>4</th>\n",
       "      <td>S002-BISH-00005</td>\n",
       "      <td>0.0</td>\n",
       "      <td>1.0</td>\n",
       "    </tr>\n",
       "  </tbody>\n",
       "</table>\n",
       "</div>"
      ],
      "text/plain": [
       "             patid  twin2  gender2\n",
       "0  S002-BISH-00001    0.0      2.0\n",
       "1  S002-BISH-00002    0.0      1.0\n",
       "2  S002-BISH-00003    0.0      1.0\n",
       "3  S002-BISH-00004    0.0      2.0\n",
       "4  S002-BISH-00005    0.0      1.0"
      ]
     },
     "execution_count": 545,
     "metadata": {},
     "output_type": "execute_result"
    }
   ],
   "source": [
    "adsc.head()"
   ]
  },
  {
   "cell_type": "code",
   "execution_count": 546,
   "metadata": {},
   "outputs": [
    {
     "data": {
      "text/html": [
       "<div>\n",
       "<style scoped>\n",
       "    .dataframe tbody tr th:only-of-type {\n",
       "        vertical-align: middle;\n",
       "    }\n",
       "\n",
       "    .dataframe tbody tr th {\n",
       "        vertical-align: top;\n",
       "    }\n",
       "\n",
       "    .dataframe thead th {\n",
       "        text-align: right;\n",
       "    }\n",
       "</style>\n",
       "<table border=\"1\" class=\"dataframe\">\n",
       "  <thead>\n",
       "    <tr style=\"text-align: right;\">\n",
       "      <th></th>\n",
       "      <th>patid</th>\n",
       "      <th>twin2</th>\n",
       "      <th>gender2</th>\n",
       "    </tr>\n",
       "  </thead>\n",
       "  <tbody>\n",
       "    <tr>\n",
       "      <th>6969</th>\n",
       "      <td>S002-BISH-07058</td>\n",
       "      <td>0.0</td>\n",
       "      <td>2.0</td>\n",
       "    </tr>\n",
       "    <tr>\n",
       "      <th>6970</th>\n",
       "      <td>S002-BISH-07059</td>\n",
       "      <td>0.0</td>\n",
       "      <td>1.0</td>\n",
       "    </tr>\n",
       "    <tr>\n",
       "      <th>6971</th>\n",
       "      <td>S002-BISH-07060</td>\n",
       "      <td>0.0</td>\n",
       "      <td>2.0</td>\n",
       "    </tr>\n",
       "    <tr>\n",
       "      <th>6972</th>\n",
       "      <td>S002-BISH-07061</td>\n",
       "      <td>0.0</td>\n",
       "      <td>1.0</td>\n",
       "    </tr>\n",
       "    <tr>\n",
       "      <th>6973</th>\n",
       "      <td>S002-BISH-07062</td>\n",
       "      <td>0.0</td>\n",
       "      <td>1.0</td>\n",
       "    </tr>\n",
       "  </tbody>\n",
       "</table>\n",
       "</div>"
      ],
      "text/plain": [
       "                patid  twin2  gender2\n",
       "6969  S002-BISH-07058    0.0      2.0\n",
       "6970  S002-BISH-07059    0.0      1.0\n",
       "6971  S002-BISH-07060    0.0      2.0\n",
       "6972  S002-BISH-07061    0.0      1.0\n",
       "6973  S002-BISH-07062    0.0      1.0"
      ]
     },
     "execution_count": 546,
     "metadata": {},
     "output_type": "execute_result"
    }
   ],
   "source": [
    "adsc.tail()"
   ]
  },
  {
   "cell_type": "code",
   "execution_count": 547,
   "metadata": {},
   "outputs": [
    {
     "data": {
      "text/html": [
       "<div>\n",
       "<style scoped>\n",
       "    .dataframe tbody tr th:only-of-type {\n",
       "        vertical-align: middle;\n",
       "    }\n",
       "\n",
       "    .dataframe tbody tr th {\n",
       "        vertical-align: top;\n",
       "    }\n",
       "\n",
       "    .dataframe thead th {\n",
       "        text-align: right;\n",
       "    }\n",
       "</style>\n",
       "<table border=\"1\" class=\"dataframe\">\n",
       "  <thead>\n",
       "    <tr style=\"text-align: right;\">\n",
       "      <th></th>\n",
       "      <th>twin2</th>\n",
       "      <th>gender2</th>\n",
       "    </tr>\n",
       "  </thead>\n",
       "  <tbody>\n",
       "    <tr>\n",
       "      <th>min</th>\n",
       "      <td>0.0</td>\n",
       "      <td>-999999.0</td>\n",
       "    </tr>\n",
       "    <tr>\n",
       "      <th>25%</th>\n",
       "      <td>0.0</td>\n",
       "      <td>1.0</td>\n",
       "    </tr>\n",
       "    <tr>\n",
       "      <th>50%</th>\n",
       "      <td>0.0</td>\n",
       "      <td>1.0</td>\n",
       "    </tr>\n",
       "    <tr>\n",
       "      <th>75%</th>\n",
       "      <td>0.0</td>\n",
       "      <td>2.0</td>\n",
       "    </tr>\n",
       "    <tr>\n",
       "      <th>max</th>\n",
       "      <td>1.0</td>\n",
       "      <td>2.0</td>\n",
       "    </tr>\n",
       "  </tbody>\n",
       "</table>\n",
       "</div>"
      ],
      "text/plain": [
       "     twin2   gender2\n",
       "min    0.0 -999999.0\n",
       "25%    0.0       1.0\n",
       "50%    0.0       1.0\n",
       "75%    0.0       2.0\n",
       "max    1.0       2.0"
      ]
     },
     "execution_count": 547,
     "metadata": {},
     "output_type": "execute_result"
    }
   ],
   "source": [
    "adsc.describe()[3:]"
   ]
  },
  {
   "cell_type": "code",
   "execution_count": 548,
   "metadata": {},
   "outputs": [
    {
     "data": {
      "text/plain": [
       "0"
      ]
     },
     "execution_count": 548,
     "metadata": {},
     "output_type": "execute_result"
    }
   ],
   "source": [
    "adsc.isnull().sum().sum()"
   ]
  },
  {
   "cell_type": "code",
   "execution_count": 549,
   "metadata": {},
   "outputs": [
    {
     "data": {
      "text/plain": [
       "patid       object\n",
       "twin2      float64\n",
       "gender2    float64\n",
       "dtype: object"
      ]
     },
     "execution_count": 549,
     "metadata": {},
     "output_type": "execute_result"
    }
   ],
   "source": [
    "adsc.dtypes"
   ]
  },
  {
   "cell_type": "markdown",
   "metadata": {},
   "source": [
    "<font size=4 style=\"background-color:salmon;\">\n",
    "    Crap!  This is a file where there are repeated PATIDs...which will mess up\n",
    "    the table joins in the next Jupyter Notebook...\n",
    "</font>"
   ]
  },
  {
   "cell_type": "code",
   "execution_count": 861,
   "metadata": {},
   "outputs": [
    {
     "name": "stdout",
     "output_type": "stream",
     "text": [
      "N Records: 6974\n",
      "N Unique PATIDs: 6924\n"
     ]
    }
   ],
   "source": [
    "print('N Records:', adsc.shape[0])\n",
    "print('N Unique PATIDs:', adsc.patid.unique().shape[0])"
   ]
  },
  {
   "cell_type": "code",
   "execution_count": 863,
   "metadata": {},
   "outputs": [
    {
     "data": {
      "image/png": "[encoded data removed]",
      "text/plain": [
       "<Figure size 432x288 with 2 Axes>"
      ]
     },
     "metadata": {
      "needs_background": "light"
     },
     "output_type": "display_data"
    }
   ],
   "source": [
    "adsc.replace(-999999,np.nan).dropna().hist();"
   ]
  },
  {
   "cell_type": "code",
   "execution_count": 877,
   "metadata": {},
   "outputs": [
    {
     "data": {
      "text/html": [
       "<div>\n",
       "<style scoped>\n",
       "    .dataframe tbody tr th:only-of-type {\n",
       "        vertical-align: middle;\n",
       "    }\n",
       "\n",
       "    .dataframe tbody tr th {\n",
       "        vertical-align: top;\n",
       "    }\n",
       "\n",
       "    .dataframe thead th {\n",
       "        text-align: right;\n",
       "    }\n",
       "</style>\n",
       "<table border=\"1\" class=\"dataframe\">\n",
       "  <thead>\n",
       "    <tr style=\"text-align: right;\">\n",
       "      <th></th>\n",
       "      <th>patid</th>\n",
       "      <th>twin2</th>\n",
       "      <th>gender2</th>\n",
       "    </tr>\n",
       "  </thead>\n",
       "  <tbody>\n",
       "    <tr>\n",
       "      <th>0</th>\n",
       "      <td>S002-BISH-00001</td>\n",
       "      <td>0.0</td>\n",
       "      <td>2.0</td>\n",
       "    </tr>\n",
       "    <tr>\n",
       "      <th>1</th>\n",
       "      <td>S002-BISH-00002</td>\n",
       "      <td>0.0</td>\n",
       "      <td>1.0</td>\n",
       "    </tr>\n",
       "    <tr>\n",
       "      <th>2</th>\n",
       "      <td>S002-BISH-00003</td>\n",
       "      <td>0.0</td>\n",
       "      <td>1.0</td>\n",
       "    </tr>\n",
       "    <tr>\n",
       "      <th>3</th>\n",
       "      <td>S002-BISH-00004</td>\n",
       "      <td>0.0</td>\n",
       "      <td>2.0</td>\n",
       "    </tr>\n",
       "    <tr>\n",
       "      <th>4</th>\n",
       "      <td>S002-BISH-00005</td>\n",
       "      <td>0.0</td>\n",
       "      <td>1.0</td>\n",
       "    </tr>\n",
       "  </tbody>\n",
       "</table>\n",
       "</div>"
      ],
      "text/plain": [
       "             patid  twin2  gender2\n",
       "0  S002-BISH-00001    0.0      2.0\n",
       "1  S002-BISH-00002    0.0      1.0\n",
       "2  S002-BISH-00003    0.0      1.0\n",
       "3  S002-BISH-00004    0.0      2.0\n",
       "4  S002-BISH-00005    0.0      1.0"
      ]
     },
     "execution_count": 877,
     "metadata": {},
     "output_type": "execute_result"
    }
   ],
   "source": [
    "# Drop Twins\n",
    "adsc_no_twins = adsc.drop(adsc.index[adsc.twin2 > 0])\n",
    "adsc_no_twins.head()"
   ]
  },
  {
   "cell_type": "code",
   "execution_count": 878,
   "metadata": {},
   "outputs": [
    {
     "data": {
      "image/png": "[encoded data removed]",
      "text/plain": [
       "<Figure size 432x288 with 2 Axes>"
      ]
     },
     "metadata": {
      "needs_background": "light"
     },
     "output_type": "display_data"
    }
   ],
   "source": [
    "adsc_no_twins.replace(-999999,np.nan).dropna().hist();"
   ]
  },
  {
   "cell_type": "code",
   "execution_count": 881,
   "metadata": {},
   "outputs": [],
   "source": [
    "adsc = pd.read_csv('../data/raw/adsc_DB.csv', usecols=['patid', 'gender2','twin2'])\n",
    "adsc.drop(adsc.index[adsc.twin2 > 0], inplace=True)\n",
    "adsc.drop('twin2', axis=1, inplace=True)"
   ]
  },
  {
   "cell_type": "code",
   "execution_count": null,
   "metadata": {},
   "outputs": [],
   "source": []
  },
  {
   "cell_type": "code",
   "execution_count": null,
   "metadata": {},
   "outputs": [],
   "source": []
  },
  {
   "cell_type": "markdown",
   "metadata": {},
   "source": [
    "---------------\n",
    "\n",
    "<font color='red' size=10>\n",
    "    <b>adscmat_DB.csv</b>\n",
    "</font>\n",
    "\n",
    "In SharePoint file `mbh001/DemoMetaClinical_DataDictionary/DataDictionary/mbh001_Dictionary-of-Variable-terms_20181119_V2.xlsx` tab 1 (\"Demographic Variables\"), Dani greenlights the following vars for\n",
    "further inspection:\n",
    "* LaborType_SpontaneousOrAugmented_DB\n",
    "* EDUC_COMBOHS4\n",
    "* EMPL\n",
    "* EMPL_COMB4\n",
    "* Fertility2\n",
    "* GrossIncome7\n",
    "* NULLIPAROUS2\n",
    "* PARITY\n",
    "* PreCareFirstGA\n",
    "* PreCareT1_2\n",
    "* ToiletWater2\n",
    "\n",
    "In Tab2 (\"Demographic Variables Kept\"), we do not have `LaborType_SpontaneousOrAugmented_DB`, but we do\n",
    "have 3 in its place:\n",
    "* AugmentedLabor2\n",
    "* CesareanNoLabor2\n",
    "* InducedLabor2\n",
    "\n",
    "<font size=4 style=\"background-color:sandybrown;\">\n",
    "    <b>UPDATE (Dec 4, mtg w/ Dani)</b>:  Dani is going to include the target vars in her V3\n",
    "    Excel file.  This file will have the final say on what vars to include.  Updates will\n",
    "    be documented in the companion notebook to this JNB (02b__2019-Dec-04__...).  Also, the\n",
    "    new file will have better cleaned data, so I likely will not have to fix the \n",
    "    missing values, etc.\n",
    "</font>\n",
    "\n",
    "\n",
    "<br><br>\n",
    "<font style=\"background-color:yellow;\" size=4>\n",
    "    <b>WARNING</b>: Null values in this values are strings set to `\"-99999900.0\"`\n",
    "    instead of ints set to `-999999`\n",
    "</font>\n",
    "\n",
    "\n",
    "### FINAL Code...\n",
    "\n",
    "--------------------\n",
    "```python\n",
    "adscmat_cols = [ 'patid',\n",
    "    'AugmentedLabor2', 'CesareanNoLabor2', 'InducedLabor2',\n",
    "    'EDUC_COMBOHS4', 'EMPL', 'EMPL_COMB4', 'Fertility2',\n",
    "    'GrossIncome7', 'Nulliparous2', 'PARITY', 'PreCareFirstGA',\n",
    "    'PreCareT1_2', 'ToiletWater2',\n",
    "]\n",
    "\n",
    "adscmat = pd.read_csv('../data/raw/adscmat_DB.csv', usecols=adscmat_cols)\n",
    "\n",
    "fix = list(set(adscmat_cols).difference(['patid']))\n",
    "adscmat[fix] = adscmat[fix].applymap(lambda x: x.split('.')[0]).astype(int).\\\n",
    "                  applymap(lambda x: int(x/100) if x < 0 else x)\n",
    "\n",
    "adscmat.columns = map(str.lower, adscmat.columns)\n",
    "```\n",
    "------------------"
   ]
  },
  {
   "cell_type": "code",
   "execution_count": 796,
   "metadata": {},
   "outputs": [],
   "source": [
    "adscmat_cols = [ 'patid',\n",
    "    'AugmentedLabor2', 'CesareanNoLabor2', 'InducedLabor2',\n",
    "    'EDUC_COMBOHS4', 'EMPL', 'EMPL_COMB4', 'Fertility2',\n",
    "    'GrossIncome7', 'NULLIPAROUS2', 'PARITY', 'PreCareFirstGA',\n",
    "    'PreCareT1_2', 'ToiletWater2',\n",
    "]\n",
    "\n",
    "adscmat = pd.read_csv('../data/raw/adscmat_DB.csv')#, usecols=adscmat_cols)"
   ]
  },
  {
   "cell_type": "code",
   "execution_count": 797,
   "metadata": {},
   "outputs": [
    {
     "data": {
      "text/plain": [
       "['Nulliparous2']"
      ]
     },
     "execution_count": 797,
     "metadata": {},
     "output_type": "execute_result"
    }
   ],
   "source": [
    "[item for item in adscmat.columns if 'null' in item.lower()]"
   ]
  },
  {
   "cell_type": "code",
   "execution_count": 885,
   "metadata": {},
   "outputs": [],
   "source": [
    "adscmat_cols = [ 'patid',\n",
    "    'AugmentedLabor2', 'CesareanNoLabor2', 'InducedLabor2',\n",
    "    'EDUC_COMBOHS4', 'EMPL', 'EMPL_COMB4', 'Fertility2',\n",
    "    'GrossIncome7', 'Nulliparous2', 'PARITY', 'PreCareFirstGA',\n",
    "    'PreCareT1_2', 'ToiletWater2',\n",
    "]\n",
    "adscmat = pd.read_csv('../data/raw/adscmat_DB.csv', usecols=adscmat_cols)"
   ]
  },
  {
   "cell_type": "code",
   "execution_count": 799,
   "metadata": {},
   "outputs": [
    {
     "data": {
      "text/plain": [
       "(6924, 14)"
      ]
     },
     "execution_count": 799,
     "metadata": {},
     "output_type": "execute_result"
    }
   ],
   "source": [
    "adscmat.shape"
   ]
  },
  {
   "cell_type": "code",
   "execution_count": 800,
   "metadata": {},
   "outputs": [
    {
     "data": {
      "text/html": [
       "<div>\n",
       "<style scoped>\n",
       "    .dataframe tbody tr th:only-of-type {\n",
       "        vertical-align: middle;\n",
       "    }\n",
       "\n",
       "    .dataframe tbody tr th {\n",
       "        vertical-align: top;\n",
       "    }\n",
       "\n",
       "    .dataframe thead th {\n",
       "        text-align: right;\n",
       "    }\n",
       "</style>\n",
       "<table border=\"1\" class=\"dataframe\">\n",
       "  <thead>\n",
       "    <tr style=\"text-align: right;\">\n",
       "      <th></th>\n",
       "      <th>patid</th>\n",
       "      <th>PreCareT1_2</th>\n",
       "      <th>PreCareFirstGA</th>\n",
       "      <th>ToiletWater2</th>\n",
       "      <th>EDUC_COMBOHS4</th>\n",
       "      <th>EMPL</th>\n",
       "      <th>EMPL_COMB4</th>\n",
       "      <th>Fertility2</th>\n",
       "      <th>GrossIncome7</th>\n",
       "      <th>PARITY</th>\n",
       "      <th>Nulliparous2</th>\n",
       "      <th>AugmentedLabor2</th>\n",
       "      <th>InducedLabor2</th>\n",
       "      <th>CesareanNoLabor2</th>\n",
       "    </tr>\n",
       "  </thead>\n",
       "  <tbody>\n",
       "    <tr>\n",
       "      <th>0</th>\n",
       "      <td>S002-BISH-00001</td>\n",
       "      <td>1</td>\n",
       "      <td>49</td>\n",
       "      <td>1</td>\n",
       "      <td>0</td>\n",
       "      <td>-99999900.00%</td>\n",
       "      <td>-99999900.00%</td>\n",
       "      <td>0</td>\n",
       "      <td>-99999900.00%</td>\n",
       "      <td>1</td>\n",
       "      <td>0</td>\n",
       "      <td>0</td>\n",
       "      <td>0</td>\n",
       "      <td>0</td>\n",
       "    </tr>\n",
       "    <tr>\n",
       "      <th>1</th>\n",
       "      <td>S002-BISH-00002</td>\n",
       "      <td>0</td>\n",
       "      <td>146</td>\n",
       "      <td>4</td>\n",
       "      <td>-99999900.00%</td>\n",
       "      <td>-99999900.00%</td>\n",
       "      <td>-99999900.00%</td>\n",
       "      <td>0</td>\n",
       "      <td>750</td>\n",
       "      <td>1</td>\n",
       "      <td>0</td>\n",
       "      <td>0</td>\n",
       "      <td>0</td>\n",
       "      <td>0</td>\n",
       "    </tr>\n",
       "    <tr>\n",
       "      <th>2</th>\n",
       "      <td>S002-BISH-00003</td>\n",
       "      <td>0</td>\n",
       "      <td>142</td>\n",
       "      <td>4</td>\n",
       "      <td>0</td>\n",
       "      <td>-99999900.00%</td>\n",
       "      <td>2</td>\n",
       "      <td>0</td>\n",
       "      <td>-99999900.00%</td>\n",
       "      <td>0</td>\n",
       "      <td>1</td>\n",
       "      <td>0</td>\n",
       "      <td>0</td>\n",
       "      <td>0</td>\n",
       "    </tr>\n",
       "    <tr>\n",
       "      <th>3</th>\n",
       "      <td>S002-BISH-00004</td>\n",
       "      <td>0</td>\n",
       "      <td>156</td>\n",
       "      <td>4</td>\n",
       "      <td>0</td>\n",
       "      <td>-99999900.00%</td>\n",
       "      <td>2</td>\n",
       "      <td>0</td>\n",
       "      <td>3500</td>\n",
       "      <td>1</td>\n",
       "      <td>0</td>\n",
       "      <td>0</td>\n",
       "      <td>0</td>\n",
       "      <td>0</td>\n",
       "    </tr>\n",
       "    <tr>\n",
       "      <th>4</th>\n",
       "      <td>S002-BISH-00005</td>\n",
       "      <td>0</td>\n",
       "      <td>167</td>\n",
       "      <td>4</td>\n",
       "      <td>-99999900.00%</td>\n",
       "      <td>-99999900.00%</td>\n",
       "      <td>0</td>\n",
       "      <td>0</td>\n",
       "      <td>1500</td>\n",
       "      <td>1</td>\n",
       "      <td>0</td>\n",
       "      <td>0</td>\n",
       "      <td>0</td>\n",
       "      <td>0</td>\n",
       "    </tr>\n",
       "  </tbody>\n",
       "</table>\n",
       "</div>"
      ],
      "text/plain": [
       "             patid PreCareT1_2 PreCareFirstGA ToiletWater2  EDUC_COMBOHS4  \\\n",
       "0  S002-BISH-00001           1             49            1              0   \n",
       "1  S002-BISH-00002           0            146            4  -99999900.00%   \n",
       "2  S002-BISH-00003           0            142            4              0   \n",
       "3  S002-BISH-00004           0            156            4              0   \n",
       "4  S002-BISH-00005           0            167            4  -99999900.00%   \n",
       "\n",
       "            EMPL     EMPL_COMB4 Fertility2   GrossIncome7 PARITY Nulliparous2  \\\n",
       "0  -99999900.00%  -99999900.00%          0  -99999900.00%      1            0   \n",
       "1  -99999900.00%  -99999900.00%          0            750      1            0   \n",
       "2  -99999900.00%              2          0  -99999900.00%      0            1   \n",
       "3  -99999900.00%              2          0           3500      1            0   \n",
       "4  -99999900.00%              0          0           1500      1            0   \n",
       "\n",
       "  AugmentedLabor2 InducedLabor2 CesareanNoLabor2  \n",
       "0               0             0                0  \n",
       "1               0             0                0  \n",
       "2               0             0                0  \n",
       "3               0             0                0  \n",
       "4               0             0                0  "
      ]
     },
     "execution_count": 800,
     "metadata": {},
     "output_type": "execute_result"
    }
   ],
   "source": [
    "adscmat.head()"
   ]
  },
  {
   "cell_type": "code",
   "execution_count": 801,
   "metadata": {},
   "outputs": [
    {
     "data": {
      "text/plain": [
       "dtype('O')"
      ]
     },
     "execution_count": 801,
     "metadata": {},
     "output_type": "execute_result"
    }
   ],
   "source": [
    "adscmat.EMPL.dtype"
   ]
  },
  {
   "cell_type": "code",
   "execution_count": 802,
   "metadata": {},
   "outputs": [
    {
     "data": {
      "text/plain": [
       "0     -99999900.00%\n",
       "1     -99999900.00%\n",
       "2     -99999900.00%\n",
       "3     -99999900.00%\n",
       "4     -99999900.00%\n",
       "5     -99999900.00%\n",
       "6     -99999900.00%\n",
       "7     -99999900.00%\n",
       "8             40.00\n",
       "9     -99999900.00%\n",
       "10            24.00\n",
       "11            45.00\n",
       "12    -99999900.00%\n",
       "13    -99999900.00%\n",
       "14            40.00\n",
       "Name: EMPL, dtype: object"
      ]
     },
     "execution_count": 802,
     "metadata": {},
     "output_type": "execute_result"
    }
   ],
   "source": [
    "adscmat.EMPL.head(15)"
   ]
  },
  {
   "cell_type": "code",
   "execution_count": 594,
   "metadata": {},
   "outputs": [
    {
     "data": {
      "text/plain": [
       "array(['-99999900', '0', '1', '10', '11', '12', '13', '14', '15', '16',\n",
       "       '17', '18', '2', '20', '21', '22', '23', '24', '25', '26', '27',\n",
       "       '28', '3', '30', '31', '32', '33', '34', '35', '36', '37', '38',\n",
       "       '39', '4', '40', '41', '42', '43', '44', '45', '46', '47', '48',\n",
       "       '49', '5', '50', '51', '52', '53', '54', '55', '56', '57', '58',\n",
       "       '59', '6', '60', '61', '62', '63', '64', '65', '66', '69', '70',\n",
       "       '72', '76', '8', '82', '86', '88', '9'], dtype='<U9')"
      ]
     },
     "execution_count": 594,
     "metadata": {},
     "output_type": "execute_result"
    }
   ],
   "source": [
    "np.unique(list(adscmat.EMPL.map(lambda x: x.split('.')[0]).to_dict().values()))"
   ]
  },
  {
   "cell_type": "code",
   "execution_count": 600,
   "metadata": {},
   "outputs": [
    {
     "data": {
      "text/plain": [
       "0    -999999.0\n",
       "1    -999999.0\n",
       "2    -999999.0\n",
       "3    -999999.0\n",
       "4    -999999.0\n",
       "5    -999999.0\n",
       "6    -999999.0\n",
       "7    -999999.0\n",
       "8         40.0\n",
       "9    -999999.0\n",
       "10        24.0\n",
       "11        45.0\n",
       "12   -999999.0\n",
       "13   -999999.0\n",
       "14        40.0\n",
       "Name: EMPL, dtype: float64"
      ]
     },
     "execution_count": 600,
     "metadata": {},
     "output_type": "execute_result"
    }
   ],
   "source": [
    "adscmat.EMPL.map(lambda x: x.split('.')[0]).astype(float).map(lambda x: x/100 if x < 0 else x).head(15)"
   ]
  },
  {
   "cell_type": "markdown",
   "metadata": {},
   "source": [
    "<font style=\"background-color:lightyellow;\">\n",
    "    The above error correction needs to be done for:\n",
    "<ul style=\"background-color:lightyellow;\">\n",
    "    <li>EMPL</li>\n",
    "    <li>EDUC_COMBOHS4</li>\n",
    "    <li>EMPL_COMB4</li>\n",
    "    <li>GrossIncome7</li>\n",
    "</font>"
   ]
  },
  {
   "cell_type": "code",
   "execution_count": 602,
   "metadata": {},
   "outputs": [
    {
     "name": "stdout",
     "output_type": "stream",
     "text": [
      "EDUC_COMBOHS4: ['-99999900' '0' '1' '2' '3']\n",
      "EMPL_COMB4: ['-99999900' '0' '1' '2' '3']\n",
      "GrossIncome7: ['-99999900' '1500' '250' '2500' '3500' '4500' '5000' '750']\n"
     ]
    }
   ],
   "source": [
    "print('EDUC_COMBOHS4:',np.unique(list(adscmat.EDUC_COMBOHS4.map(lambda x: x.split('.')[0]).to_dict().values())))\n",
    "print('EMPL_COMB4:',np.unique(list(adscmat.EMPL_COMB4.map(lambda x: x.split('.')[0]).to_dict().values())))\n",
    "print('GrossIncome7:',np.unique(list(adscmat.GrossIncome7.map(lambda x: x.split('.')[0]).to_dict().values())))"
   ]
  },
  {
   "cell_type": "markdown",
   "metadata": {},
   "source": [
    "Wow... I really overkilled it w/ all those lambda mappings!!\n",
    "\n",
    "<font style=\"background-color:yellow;\">\n",
    "    <b>ALSO</b>, note from the future:  I found out way later on that this\n",
    "    correction needed to occur for all of the columns.\n",
    "</font>"
   ]
  },
  {
   "cell_type": "code",
   "execution_count": 889,
   "metadata": {},
   "outputs": [
    {
     "name": "stdout",
     "output_type": "stream",
     "text": [
      "patid\t\t False\n",
      "PreCareT1_2\t\t True\n",
      "PreCareFirstGA\t\t True\n",
      "ToiletWater2\t\t True\n",
      "EDUC_COMBOHS4\t\t True\n",
      "EMPL\t\t True\n",
      "EMPL_COMB4\t\t True\n",
      "Fertility2\t\t True\n",
      "GrossIncome7\t\t True\n",
      "PARITY\t\t True\n",
      "Nulliparous2\t\t True\n",
      "AugmentedLabor2\t\t True\n",
      "InducedLabor2\t\t True\n",
      "CesareanNoLabor2\t\t True\n"
     ]
    }
   ],
   "source": [
    "for col in adscmat.columns:\n",
    "    print( col+'\\t\\t', '-99999900.00%' in adscmat[col].unique() )"
   ]
  },
  {
   "cell_type": "code",
   "execution_count": 884,
   "metadata": {},
   "outputs": [
    {
     "data": {
      "text/plain": [
       "array(['0', '-99999900.00%', '1'], dtype=object)"
      ]
     },
     "execution_count": 884,
     "metadata": {},
     "output_type": "execute_result"
    }
   ],
   "source": [
    "adscmat.AugmentedLabor2.unique()"
   ]
  },
  {
   "cell_type": "code",
   "execution_count": 608,
   "metadata": {},
   "outputs": [
    {
     "data": {
      "text/html": [
       "<div>\n",
       "<style scoped>\n",
       "    .dataframe tbody tr th:only-of-type {\n",
       "        vertical-align: middle;\n",
       "    }\n",
       "\n",
       "    .dataframe tbody tr th {\n",
       "        vertical-align: top;\n",
       "    }\n",
       "\n",
       "    .dataframe thead th {\n",
       "        text-align: right;\n",
       "    }\n",
       "</style>\n",
       "<table border=\"1\" class=\"dataframe\">\n",
       "  <thead>\n",
       "    <tr style=\"text-align: right;\">\n",
       "      <th></th>\n",
       "      <th>EDUC_COMBOHS4</th>\n",
       "      <th>EMPL</th>\n",
       "      <th>EMPL_COMB4</th>\n",
       "      <th>GrossIncome7</th>\n",
       "    </tr>\n",
       "  </thead>\n",
       "  <tbody>\n",
       "    <tr>\n",
       "      <th>0</th>\n",
       "      <td>0</td>\n",
       "      <td>-99999900.00%</td>\n",
       "      <td>-99999900.00%</td>\n",
       "      <td>-99999900.00%</td>\n",
       "    </tr>\n",
       "    <tr>\n",
       "      <th>1</th>\n",
       "      <td>-99999900.00%</td>\n",
       "      <td>-99999900.00%</td>\n",
       "      <td>-99999900.00%</td>\n",
       "      <td>750</td>\n",
       "    </tr>\n",
       "    <tr>\n",
       "      <th>2</th>\n",
       "      <td>0</td>\n",
       "      <td>-99999900.00%</td>\n",
       "      <td>2</td>\n",
       "      <td>-99999900.00%</td>\n",
       "    </tr>\n",
       "    <tr>\n",
       "      <th>3</th>\n",
       "      <td>0</td>\n",
       "      <td>-99999900.00%</td>\n",
       "      <td>2</td>\n",
       "      <td>3500</td>\n",
       "    </tr>\n",
       "    <tr>\n",
       "      <th>4</th>\n",
       "      <td>-99999900.00%</td>\n",
       "      <td>-99999900.00%</td>\n",
       "      <td>0</td>\n",
       "      <td>1500</td>\n",
       "    </tr>\n",
       "    <tr>\n",
       "      <th>5</th>\n",
       "      <td>-99999900.00%</td>\n",
       "      <td>-99999900.00%</td>\n",
       "      <td>-99999900.00%</td>\n",
       "      <td>-99999900.00%</td>\n",
       "    </tr>\n",
       "    <tr>\n",
       "      <th>6</th>\n",
       "      <td>0</td>\n",
       "      <td>-99999900.00%</td>\n",
       "      <td>0</td>\n",
       "      <td>250</td>\n",
       "    </tr>\n",
       "  </tbody>\n",
       "</table>\n",
       "</div>"
      ],
      "text/plain": [
       "   EDUC_COMBOHS4           EMPL     EMPL_COMB4   GrossIncome7\n",
       "0              0  -99999900.00%  -99999900.00%  -99999900.00%\n",
       "1  -99999900.00%  -99999900.00%  -99999900.00%            750\n",
       "2              0  -99999900.00%              2  -99999900.00%\n",
       "3              0  -99999900.00%              2           3500\n",
       "4  -99999900.00%  -99999900.00%              0           1500\n",
       "5  -99999900.00%  -99999900.00%  -99999900.00%  -99999900.00%\n",
       "6              0  -99999900.00%              0            250"
      ]
     },
     "execution_count": 608,
     "metadata": {},
     "output_type": "execute_result"
    }
   ],
   "source": [
    "adscmat[['EDUC_COMBOHS4','EMPL','EMPL_COMB4','GrossIncome7']].head(7)"
   ]
  },
  {
   "cell_type": "code",
   "execution_count": 611,
   "metadata": {},
   "outputs": [
    {
     "data": {
      "text/html": [
       "<div>\n",
       "<style scoped>\n",
       "    .dataframe tbody tr th:only-of-type {\n",
       "        vertical-align: middle;\n",
       "    }\n",
       "\n",
       "    .dataframe tbody tr th {\n",
       "        vertical-align: top;\n",
       "    }\n",
       "\n",
       "    .dataframe thead th {\n",
       "        text-align: right;\n",
       "    }\n",
       "</style>\n",
       "<table border=\"1\" class=\"dataframe\">\n",
       "  <thead>\n",
       "    <tr style=\"text-align: right;\">\n",
       "      <th></th>\n",
       "      <th>EDUC_COMBOHS4</th>\n",
       "      <th>EMPL</th>\n",
       "      <th>EMPL_COMB4</th>\n",
       "      <th>GrossIncome7</th>\n",
       "    </tr>\n",
       "  </thead>\n",
       "  <tbody>\n",
       "    <tr>\n",
       "      <th>0</th>\n",
       "      <td>0</td>\n",
       "      <td>-999999</td>\n",
       "      <td>-999999</td>\n",
       "      <td>-999999</td>\n",
       "    </tr>\n",
       "    <tr>\n",
       "      <th>1</th>\n",
       "      <td>-999999</td>\n",
       "      <td>-999999</td>\n",
       "      <td>-999999</td>\n",
       "      <td>750</td>\n",
       "    </tr>\n",
       "    <tr>\n",
       "      <th>2</th>\n",
       "      <td>0</td>\n",
       "      <td>-999999</td>\n",
       "      <td>2</td>\n",
       "      <td>-999999</td>\n",
       "    </tr>\n",
       "    <tr>\n",
       "      <th>3</th>\n",
       "      <td>0</td>\n",
       "      <td>-999999</td>\n",
       "      <td>2</td>\n",
       "      <td>3500</td>\n",
       "    </tr>\n",
       "    <tr>\n",
       "      <th>4</th>\n",
       "      <td>-999999</td>\n",
       "      <td>-999999</td>\n",
       "      <td>0</td>\n",
       "      <td>1500</td>\n",
       "    </tr>\n",
       "    <tr>\n",
       "      <th>5</th>\n",
       "      <td>-999999</td>\n",
       "      <td>-999999</td>\n",
       "      <td>-999999</td>\n",
       "      <td>-999999</td>\n",
       "    </tr>\n",
       "    <tr>\n",
       "      <th>6</th>\n",
       "      <td>0</td>\n",
       "      <td>-999999</td>\n",
       "      <td>0</td>\n",
       "      <td>250</td>\n",
       "    </tr>\n",
       "  </tbody>\n",
       "</table>\n",
       "</div>"
      ],
      "text/plain": [
       "   EDUC_COMBOHS4    EMPL  EMPL_COMB4  GrossIncome7\n",
       "0              0 -999999     -999999       -999999\n",
       "1        -999999 -999999     -999999           750\n",
       "2              0 -999999           2       -999999\n",
       "3              0 -999999           2          3500\n",
       "4        -999999 -999999           0          1500\n",
       "5        -999999 -999999     -999999       -999999\n",
       "6              0 -999999           0           250"
      ]
     },
     "execution_count": 611,
     "metadata": {},
     "output_type": "execute_result"
    }
   ],
   "source": [
    "adscmat[['EDUC_COMBOHS4','EMPL','EMPL_COMB4','GrossIncome7']].\\\n",
    "    applymap(lambda x: x.split('.')[0]).astype(int).applymap(lambda x: int(x/100) if x < 0 else x).head(7)"
   ]
  },
  {
   "cell_type": "code",
   "execution_count": 948,
   "metadata": {},
   "outputs": [],
   "source": [
    "adscmat_cols = [ 'patid',\n",
    "    'AugmentedLabor2', 'CesareanNoLabor2', 'InducedLabor2',\n",
    "    'EDUC_COMBOHS4', 'EMPL', 'EMPL_COMB4', 'Fertility2',\n",
    "    'GrossIncome7', 'Nulliparous2', 'PARITY', 'PreCareFirstGA',\n",
    "    'PreCareT1_2', 'ToiletWater2',\n",
    "]\n",
    "\n",
    "adscmat = pd.read_csv('../data/raw/adscmat_DB.csv', usecols=adscmat_cols)\n",
    "\n",
    "# OLD CODE -- originally thought problem was isolated to 4 vars\n",
    "#adscmat[['EDUC_COMBOHS4','EMPL','EMPL_COMB4','GrossIncome7']] = \\\n",
    "#    adscmat[['EDUC_COMBOHS4','EMPL','EMPL_COMB4','GrossIncome7']].\\\n",
    "#    applymap(lambda x: x.split('.')[0]).astype(int).applymap(lambda x: int(x/100) if x < 0 else x)\n",
    "fix = list(set(adscmat_cols).difference(['patid']))\n",
    "adscmat[fix] = adscmat[fix].applymap(lambda x: x.split('.')[0]).astype(int).\\\n",
    "                  applymap(lambda x: int(x/100) if x < 0 else x)"
   ]
  },
  {
   "cell_type": "code",
   "execution_count": null,
   "metadata": {},
   "outputs": [],
   "source": []
  },
  {
   "cell_type": "code",
   "execution_count": 930,
   "metadata": {},
   "outputs": [
    {
     "data": {
      "text/html": [
       "<div>\n",
       "<style scoped>\n",
       "    .dataframe tbody tr th:only-of-type {\n",
       "        vertical-align: middle;\n",
       "    }\n",
       "\n",
       "    .dataframe tbody tr th {\n",
       "        vertical-align: top;\n",
       "    }\n",
       "\n",
       "    .dataframe thead th {\n",
       "        text-align: right;\n",
       "    }\n",
       "</style>\n",
       "<table border=\"1\" class=\"dataframe\">\n",
       "  <thead>\n",
       "    <tr style=\"text-align: right;\">\n",
       "      <th></th>\n",
       "      <th>patid</th>\n",
       "      <th>PreCareT1_2</th>\n",
       "      <th>PreCareFirstGA</th>\n",
       "      <th>ToiletWater2</th>\n",
       "      <th>EDUC_COMBOHS4</th>\n",
       "      <th>EMPL</th>\n",
       "      <th>EMPL_COMB4</th>\n",
       "      <th>Fertility2</th>\n",
       "      <th>GrossIncome7</th>\n",
       "      <th>PARITY</th>\n",
       "      <th>Nulliparous2</th>\n",
       "      <th>AugmentedLabor2</th>\n",
       "      <th>InducedLabor2</th>\n",
       "      <th>CesareanNoLabor2</th>\n",
       "    </tr>\n",
       "  </thead>\n",
       "  <tbody>\n",
       "    <tr>\n",
       "      <th>0</th>\n",
       "      <td>S002-BISH-00001</td>\n",
       "      <td>1</td>\n",
       "      <td>49</td>\n",
       "      <td>1</td>\n",
       "      <td>0</td>\n",
       "      <td>-999999</td>\n",
       "      <td>-999999</td>\n",
       "      <td>0</td>\n",
       "      <td>-999999</td>\n",
       "      <td>1</td>\n",
       "      <td>0</td>\n",
       "      <td>0</td>\n",
       "      <td>0</td>\n",
       "      <td>0</td>\n",
       "    </tr>\n",
       "    <tr>\n",
       "      <th>1</th>\n",
       "      <td>S002-BISH-00002</td>\n",
       "      <td>0</td>\n",
       "      <td>146</td>\n",
       "      <td>4</td>\n",
       "      <td>-999999</td>\n",
       "      <td>-999999</td>\n",
       "      <td>-999999</td>\n",
       "      <td>0</td>\n",
       "      <td>750</td>\n",
       "      <td>1</td>\n",
       "      <td>0</td>\n",
       "      <td>0</td>\n",
       "      <td>0</td>\n",
       "      <td>0</td>\n",
       "    </tr>\n",
       "    <tr>\n",
       "      <th>2</th>\n",
       "      <td>S002-BISH-00003</td>\n",
       "      <td>0</td>\n",
       "      <td>142</td>\n",
       "      <td>4</td>\n",
       "      <td>0</td>\n",
       "      <td>-999999</td>\n",
       "      <td>2</td>\n",
       "      <td>0</td>\n",
       "      <td>-999999</td>\n",
       "      <td>0</td>\n",
       "      <td>1</td>\n",
       "      <td>0</td>\n",
       "      <td>0</td>\n",
       "      <td>0</td>\n",
       "    </tr>\n",
       "    <tr>\n",
       "      <th>3</th>\n",
       "      <td>S002-BISH-00004</td>\n",
       "      <td>0</td>\n",
       "      <td>156</td>\n",
       "      <td>4</td>\n",
       "      <td>0</td>\n",
       "      <td>-999999</td>\n",
       "      <td>2</td>\n",
       "      <td>0</td>\n",
       "      <td>3500</td>\n",
       "      <td>1</td>\n",
       "      <td>0</td>\n",
       "      <td>0</td>\n",
       "      <td>0</td>\n",
       "      <td>0</td>\n",
       "    </tr>\n",
       "    <tr>\n",
       "      <th>4</th>\n",
       "      <td>S002-BISH-00005</td>\n",
       "      <td>0</td>\n",
       "      <td>167</td>\n",
       "      <td>4</td>\n",
       "      <td>-999999</td>\n",
       "      <td>-999999</td>\n",
       "      <td>0</td>\n",
       "      <td>0</td>\n",
       "      <td>1500</td>\n",
       "      <td>1</td>\n",
       "      <td>0</td>\n",
       "      <td>0</td>\n",
       "      <td>0</td>\n",
       "      <td>0</td>\n",
       "    </tr>\n",
       "  </tbody>\n",
       "</table>\n",
       "</div>"
      ],
      "text/plain": [
       "             patid  PreCareT1_2  PreCareFirstGA  ToiletWater2  EDUC_COMBOHS4  \\\n",
       "0  S002-BISH-00001            1              49             1              0   \n",
       "1  S002-BISH-00002            0             146             4        -999999   \n",
       "2  S002-BISH-00003            0             142             4              0   \n",
       "3  S002-BISH-00004            0             156             4              0   \n",
       "4  S002-BISH-00005            0             167             4        -999999   \n",
       "\n",
       "     EMPL  EMPL_COMB4  Fertility2  GrossIncome7  PARITY  Nulliparous2  \\\n",
       "0 -999999     -999999           0       -999999       1             0   \n",
       "1 -999999     -999999           0           750       1             0   \n",
       "2 -999999           2           0       -999999       0             1   \n",
       "3 -999999           2           0          3500       1             0   \n",
       "4 -999999           0           0          1500       1             0   \n",
       "\n",
       "   AugmentedLabor2  InducedLabor2  CesareanNoLabor2  \n",
       "0                0              0                 0  \n",
       "1                0              0                 0  \n",
       "2                0              0                 0  \n",
       "3                0              0                 0  \n",
       "4                0              0                 0  "
      ]
     },
     "execution_count": 930,
     "metadata": {},
     "output_type": "execute_result"
    }
   ],
   "source": [
    "adscmat.head()"
   ]
  },
  {
   "cell_type": "code",
   "execution_count": 931,
   "metadata": {},
   "outputs": [
    {
     "data": {
      "text/plain": [
       "0"
      ]
     },
     "execution_count": 931,
     "metadata": {},
     "output_type": "execute_result"
    }
   ],
   "source": [
    "adscmat.isnull().sum().sum() "
   ]
  },
  {
   "cell_type": "code",
   "execution_count": 932,
   "metadata": {},
   "outputs": [
    {
     "data": {
      "text/plain": [
       "patid               0\n",
       "PreCareT1_2         0\n",
       "PreCareFirstGA      0\n",
       "ToiletWater2        0\n",
       "EDUC_COMBOHS4       0\n",
       "EMPL                0\n",
       "EMPL_COMB4          0\n",
       "Fertility2          0\n",
       "GrossIncome7        0\n",
       "PARITY              0\n",
       "Nulliparous2        0\n",
       "AugmentedLabor2     0\n",
       "InducedLabor2       0\n",
       "CesareanNoLabor2    0\n",
       "dtype: int64"
      ]
     },
     "execution_count": 932,
     "metadata": {},
     "output_type": "execute_result"
    }
   ],
   "source": [
    "adscmat.isnull().sum()"
   ]
  },
  {
   "cell_type": "code",
   "execution_count": 950,
   "metadata": {},
   "outputs": [
    {
     "data": {
      "text/plain": [
       "[1, 2, 3, 4]"
      ]
     },
     "execution_count": 950,
     "metadata": {},
     "output_type": "execute_result"
    }
   ],
   "source": [
    "a"
   ]
  },
  {
   "cell_type": "code",
   "execution_count": 933,
   "metadata": {},
   "outputs": [
    {
     "data": {
      "text/plain": [
       "dtype('int64')"
      ]
     },
     "execution_count": 933,
     "metadata": {},
     "output_type": "execute_result"
    }
   ],
   "source": [
    "adscmat.PreCareFirstGA.dtype"
   ]
  },
  {
   "cell_type": "code",
   "execution_count": 934,
   "metadata": {},
   "outputs": [
    {
     "data": {
      "text/html": [
       "<div>\n",
       "<style scoped>\n",
       "    .dataframe tbody tr th:only-of-type {\n",
       "        vertical-align: middle;\n",
       "    }\n",
       "\n",
       "    .dataframe tbody tr th {\n",
       "        vertical-align: top;\n",
       "    }\n",
       "\n",
       "    .dataframe thead th {\n",
       "        text-align: right;\n",
       "    }\n",
       "</style>\n",
       "<table border=\"1\" class=\"dataframe\">\n",
       "  <thead>\n",
       "    <tr style=\"text-align: right;\">\n",
       "      <th></th>\n",
       "      <th>PreCareT1_2</th>\n",
       "      <th>PreCareFirstGA</th>\n",
       "      <th>ToiletWater2</th>\n",
       "      <th>EDUC_COMBOHS4</th>\n",
       "      <th>EMPL</th>\n",
       "      <th>EMPL_COMB4</th>\n",
       "      <th>Fertility2</th>\n",
       "      <th>GrossIncome7</th>\n",
       "      <th>PARITY</th>\n",
       "      <th>Nulliparous2</th>\n",
       "      <th>AugmentedLabor2</th>\n",
       "      <th>InducedLabor2</th>\n",
       "      <th>CesareanNoLabor2</th>\n",
       "    </tr>\n",
       "  </thead>\n",
       "  <tbody>\n",
       "    <tr>\n",
       "      <th>min</th>\n",
       "      <td>-999999.0</td>\n",
       "      <td>-999999.0</td>\n",
       "      <td>-999999.0</td>\n",
       "      <td>-999999.0</td>\n",
       "      <td>-999999.00</td>\n",
       "      <td>-999999.0</td>\n",
       "      <td>-999999.0</td>\n",
       "      <td>-999999.0</td>\n",
       "      <td>-999999.0</td>\n",
       "      <td>-999999.0</td>\n",
       "      <td>-999999.0</td>\n",
       "      <td>-999999.0</td>\n",
       "      <td>-999999.0</td>\n",
       "    </tr>\n",
       "    <tr>\n",
       "      <th>25%</th>\n",
       "      <td>0.0</td>\n",
       "      <td>70.0</td>\n",
       "      <td>2.0</td>\n",
       "      <td>0.0</td>\n",
       "      <td>-999999.00</td>\n",
       "      <td>0.0</td>\n",
       "      <td>0.0</td>\n",
       "      <td>-999999.0</td>\n",
       "      <td>0.0</td>\n",
       "      <td>0.0</td>\n",
       "      <td>0.0</td>\n",
       "      <td>0.0</td>\n",
       "      <td>0.0</td>\n",
       "    </tr>\n",
       "    <tr>\n",
       "      <th>50%</th>\n",
       "      <td>0.0</td>\n",
       "      <td>107.0</td>\n",
       "      <td>4.0</td>\n",
       "      <td>0.0</td>\n",
       "      <td>-999999.00</td>\n",
       "      <td>2.0</td>\n",
       "      <td>0.0</td>\n",
       "      <td>2500.0</td>\n",
       "      <td>1.0</td>\n",
       "      <td>0.0</td>\n",
       "      <td>0.0</td>\n",
       "      <td>0.0</td>\n",
       "      <td>0.0</td>\n",
       "    </tr>\n",
       "    <tr>\n",
       "      <th>75%</th>\n",
       "      <td>1.0</td>\n",
       "      <td>146.0</td>\n",
       "      <td>4.0</td>\n",
       "      <td>1.0</td>\n",
       "      <td>26.25</td>\n",
       "      <td>2.0</td>\n",
       "      <td>0.0</td>\n",
       "      <td>4500.0</td>\n",
       "      <td>2.0</td>\n",
       "      <td>1.0</td>\n",
       "      <td>0.0</td>\n",
       "      <td>0.0</td>\n",
       "      <td>0.0</td>\n",
       "    </tr>\n",
       "    <tr>\n",
       "      <th>max</th>\n",
       "      <td>1.0</td>\n",
       "      <td>300.0</td>\n",
       "      <td>4.0</td>\n",
       "      <td>3.0</td>\n",
       "      <td>88.00</td>\n",
       "      <td>3.0</td>\n",
       "      <td>1.0</td>\n",
       "      <td>5000.0</td>\n",
       "      <td>8.0</td>\n",
       "      <td>1.0</td>\n",
       "      <td>1.0</td>\n",
       "      <td>1.0</td>\n",
       "      <td>1.0</td>\n",
       "    </tr>\n",
       "  </tbody>\n",
       "</table>\n",
       "</div>"
      ],
      "text/plain": [
       "     PreCareT1_2  PreCareFirstGA  ToiletWater2  EDUC_COMBOHS4       EMPL  \\\n",
       "min    -999999.0       -999999.0     -999999.0      -999999.0 -999999.00   \n",
       "25%          0.0            70.0           2.0            0.0 -999999.00   \n",
       "50%          0.0           107.0           4.0            0.0 -999999.00   \n",
       "75%          1.0           146.0           4.0            1.0      26.25   \n",
       "max          1.0           300.0           4.0            3.0      88.00   \n",
       "\n",
       "     EMPL_COMB4  Fertility2  GrossIncome7    PARITY  Nulliparous2  \\\n",
       "min   -999999.0   -999999.0     -999999.0 -999999.0     -999999.0   \n",
       "25%         0.0         0.0     -999999.0       0.0           0.0   \n",
       "50%         2.0         0.0        2500.0       1.0           0.0   \n",
       "75%         2.0         0.0        4500.0       2.0           1.0   \n",
       "max         3.0         1.0        5000.0       8.0           1.0   \n",
       "\n",
       "     AugmentedLabor2  InducedLabor2  CesareanNoLabor2  \n",
       "min        -999999.0      -999999.0         -999999.0  \n",
       "25%              0.0            0.0               0.0  \n",
       "50%              0.0            0.0               0.0  \n",
       "75%              0.0            0.0               0.0  \n",
       "max              1.0            1.0               1.0  "
      ]
     },
     "execution_count": 934,
     "metadata": {},
     "output_type": "execute_result"
    }
   ],
   "source": [
    "adscmat.describe()[3:]"
   ]
  },
  {
   "cell_type": "markdown",
   "metadata": {},
   "source": [
    "<font size=4 style=\"background-color:lightgreen;\">\n",
    "    Good! No duplicated PATIDs.\n",
    "</font>"
   ]
  },
  {
   "cell_type": "code",
   "execution_count": 935,
   "metadata": {},
   "outputs": [
    {
     "name": "stdout",
     "output_type": "stream",
     "text": [
      "N Records: 6924\n",
      "N Unique PATIDs: 6924\n"
     ]
    }
   ],
   "source": [
    "print('N Records:', adscmat.shape[0])\n",
    "print('N Unique PATIDs:', adscmat.patid.unique().shape[0])"
   ]
  },
  {
   "cell_type": "code",
   "execution_count": 938,
   "metadata": {},
   "outputs": [
    {
     "data": {
      "image/png": "[encoded data removed]",
      "text/plain": [
       "<Figure size 720x720 with 16 Axes>"
      ]
     },
     "metadata": {
      "needs_background": "light"
     },
     "output_type": "display_data"
    }
   ],
   "source": [
    "adscmat.replace(-999999,np.nan).dropna().hist(figsize=(10,10));"
   ]
  },
  {
   "cell_type": "markdown",
   "metadata": {},
   "source": [
    "### Update (Dec 04)\n",
    "Dani will be fixing this data file...so code will have to change.  "
   ]
  },
  {
   "cell_type": "code",
   "execution_count": null,
   "metadata": {},
   "outputs": [],
   "source": []
  },
  {
   "cell_type": "code",
   "execution_count": null,
   "metadata": {},
   "outputs": [],
   "source": []
  },
  {
   "cell_type": "markdown",
   "metadata": {},
   "source": [
    "--------------------------\n",
    "\n",
    "<font color='red' size=10>\n",
    "    <b>adsmk_patid_DB.csv</b>\n",
    "</font>\n",
    "\n",
    "In SharePoint file `mbh001/DemoMetaClinical_DataDictionary/DataDictionary/mbh001_Dictionary-of-Variable-terms_20181119_V2.xlsx` tab 1 (\"Demographic Variables\"), Dani greenlights the following vars for further inspection:\n",
    "* AvgNumCigHome\n",
    "\n",
    "Note that this is just one smoking var among over 60 vars, yet tab2 (\"Demographic Variables Kept\") \n",
    "confirms that this is the sole variable of interest from this table.\n",
    "\n",
    "### FINAL Code...\n",
    "---------\n",
    "```python\n",
    "adsmk = pd.read_csv('../data/raw/adsmk_patid_DB.csv', \n",
    "                    usecols=['patid','AvgNumCigHome'])\n",
    "adsmk.columns = map(str.lower, adsmk.columns)\n",
    "```\n",
    "--------------\n"
   ]
  },
  {
   "cell_type": "code",
   "execution_count": 632,
   "metadata": {},
   "outputs": [],
   "source": [
    "adsmk = pd.read_csv('../data/raw/adsmk_patid_DB.csv', usecols=['patid','AvgNumCigHome'])"
   ]
  },
  {
   "cell_type": "code",
   "execution_count": 789,
   "metadata": {},
   "outputs": [
    {
     "data": {
      "text/plain": [
       "(6924, 2)"
      ]
     },
     "execution_count": 789,
     "metadata": {},
     "output_type": "execute_result"
    }
   ],
   "source": [
    "adsmk.shape"
   ]
  },
  {
   "cell_type": "code",
   "execution_count": 790,
   "metadata": {},
   "outputs": [
    {
     "data": {
      "text/html": [
       "<div>\n",
       "<style scoped>\n",
       "    .dataframe tbody tr th:only-of-type {\n",
       "        vertical-align: middle;\n",
       "    }\n",
       "\n",
       "    .dataframe tbody tr th {\n",
       "        vertical-align: top;\n",
       "    }\n",
       "\n",
       "    .dataframe thead th {\n",
       "        text-align: right;\n",
       "    }\n",
       "</style>\n",
       "<table border=\"1\" class=\"dataframe\">\n",
       "  <thead>\n",
       "    <tr style=\"text-align: right;\">\n",
       "      <th></th>\n",
       "      <th>patid</th>\n",
       "      <th>avgnumcighome</th>\n",
       "    </tr>\n",
       "  </thead>\n",
       "  <tbody>\n",
       "    <tr>\n",
       "      <th>0</th>\n",
       "      <td>S002-BISH-00001</td>\n",
       "      <td>1.0</td>\n",
       "    </tr>\n",
       "    <tr>\n",
       "      <th>1</th>\n",
       "      <td>S002-BISH-00002</td>\n",
       "      <td>1.0</td>\n",
       "    </tr>\n",
       "    <tr>\n",
       "      <th>2</th>\n",
       "      <td>S002-BISH-00003</td>\n",
       "      <td>2.5</td>\n",
       "    </tr>\n",
       "    <tr>\n",
       "      <th>3</th>\n",
       "      <td>S002-BISH-00004</td>\n",
       "      <td>2.0</td>\n",
       "    </tr>\n",
       "    <tr>\n",
       "      <th>4</th>\n",
       "      <td>S002-BISH-00005</td>\n",
       "      <td>2.0</td>\n",
       "    </tr>\n",
       "  </tbody>\n",
       "</table>\n",
       "</div>"
      ],
      "text/plain": [
       "             patid  avgnumcighome\n",
       "0  S002-BISH-00001            1.0\n",
       "1  S002-BISH-00002            1.0\n",
       "2  S002-BISH-00003            2.5\n",
       "3  S002-BISH-00004            2.0\n",
       "4  S002-BISH-00005            2.0"
      ]
     },
     "execution_count": 790,
     "metadata": {},
     "output_type": "execute_result"
    }
   ],
   "source": [
    "adsmk.head()"
   ]
  },
  {
   "cell_type": "code",
   "execution_count": 791,
   "metadata": {},
   "outputs": [
    {
     "data": {
      "text/html": [
       "<div>\n",
       "<style scoped>\n",
       "    .dataframe tbody tr th:only-of-type {\n",
       "        vertical-align: middle;\n",
       "    }\n",
       "\n",
       "    .dataframe tbody tr th {\n",
       "        vertical-align: top;\n",
       "    }\n",
       "\n",
       "    .dataframe thead th {\n",
       "        text-align: right;\n",
       "    }\n",
       "</style>\n",
       "<table border=\"1\" class=\"dataframe\">\n",
       "  <thead>\n",
       "    <tr style=\"text-align: right;\">\n",
       "      <th></th>\n",
       "      <th>patid</th>\n",
       "      <th>avgnumcighome</th>\n",
       "    </tr>\n",
       "  </thead>\n",
       "  <tbody>\n",
       "    <tr>\n",
       "      <th>6919</th>\n",
       "      <td>S002-BISH-07058</td>\n",
       "      <td>1.50</td>\n",
       "    </tr>\n",
       "    <tr>\n",
       "      <th>6920</th>\n",
       "      <td>S002-BISH-07059</td>\n",
       "      <td>1.00</td>\n",
       "    </tr>\n",
       "    <tr>\n",
       "      <th>6921</th>\n",
       "      <td>S002-BISH-07060</td>\n",
       "      <td>1.67</td>\n",
       "    </tr>\n",
       "    <tr>\n",
       "      <th>6922</th>\n",
       "      <td>S002-BISH-07061</td>\n",
       "      <td>1.67</td>\n",
       "    </tr>\n",
       "    <tr>\n",
       "      <th>6923</th>\n",
       "      <td>S002-BISH-07062</td>\n",
       "      <td>6.00</td>\n",
       "    </tr>\n",
       "  </tbody>\n",
       "</table>\n",
       "</div>"
      ],
      "text/plain": [
       "                patid  avgnumcighome\n",
       "6919  S002-BISH-07058           1.50\n",
       "6920  S002-BISH-07059           1.00\n",
       "6921  S002-BISH-07060           1.67\n",
       "6922  S002-BISH-07061           1.67\n",
       "6923  S002-BISH-07062           6.00"
      ]
     },
     "execution_count": 791,
     "metadata": {},
     "output_type": "execute_result"
    }
   ],
   "source": [
    "adsmk.tail()"
   ]
  },
  {
   "cell_type": "code",
   "execution_count": 792,
   "metadata": {},
   "outputs": [
    {
     "data": {
      "text/html": [
       "<div>\n",
       "<style scoped>\n",
       "    .dataframe tbody tr th:only-of-type {\n",
       "        vertical-align: middle;\n",
       "    }\n",
       "\n",
       "    .dataframe tbody tr th {\n",
       "        vertical-align: top;\n",
       "    }\n",
       "\n",
       "    .dataframe thead th {\n",
       "        text-align: right;\n",
       "    }\n",
       "</style>\n",
       "<table border=\"1\" class=\"dataframe\">\n",
       "  <thead>\n",
       "    <tr style=\"text-align: right;\">\n",
       "      <th></th>\n",
       "      <th>avgnumcighome</th>\n",
       "    </tr>\n",
       "  </thead>\n",
       "  <tbody>\n",
       "    <tr>\n",
       "      <th>min</th>\n",
       "      <td>-999999.0</td>\n",
       "    </tr>\n",
       "    <tr>\n",
       "      <th>25%</th>\n",
       "      <td>1.0</td>\n",
       "    </tr>\n",
       "    <tr>\n",
       "      <th>50%</th>\n",
       "      <td>1.5</td>\n",
       "    </tr>\n",
       "    <tr>\n",
       "      <th>75%</th>\n",
       "      <td>2.5</td>\n",
       "    </tr>\n",
       "    <tr>\n",
       "      <th>max</th>\n",
       "      <td>18.0</td>\n",
       "    </tr>\n",
       "  </tbody>\n",
       "</table>\n",
       "</div>"
      ],
      "text/plain": [
       "     avgnumcighome\n",
       "min      -999999.0\n",
       "25%            1.0\n",
       "50%            1.5\n",
       "75%            2.5\n",
       "max           18.0"
      ]
     },
     "execution_count": 792,
     "metadata": {},
     "output_type": "execute_result"
    }
   ],
   "source": [
    "adsmk.describe()[3:]"
   ]
  },
  {
   "cell_type": "code",
   "execution_count": 793,
   "metadata": {},
   "outputs": [
    {
     "data": {
      "text/plain": [
       "patid            0\n",
       "avgnumcighome    0\n",
       "dtype: int64"
      ]
     },
     "execution_count": 793,
     "metadata": {},
     "output_type": "execute_result"
    }
   ],
   "source": [
    "adsmk.isnull().sum()"
   ]
  },
  {
   "cell_type": "markdown",
   "metadata": {},
   "source": [
    "<font size=4 style=\"background-color:lightgreen;\">\n",
    "    Good! No duplicated PATIDs.\n",
    "</font>"
   ]
  },
  {
   "cell_type": "code",
   "execution_count": 788,
   "metadata": {},
   "outputs": [
    {
     "name": "stdout",
     "output_type": "stream",
     "text": [
      "N Records: 6924\n",
      "N Unique PATIDs: 6924\n"
     ]
    }
   ],
   "source": [
    "print('N Records:', adsmk.shape[0])\n",
    "print('N Unique PATIDs:', adsmk.patid.unique().shape[0])"
   ]
  },
  {
   "cell_type": "code",
   "execution_count": 787,
   "metadata": {},
   "outputs": [
    {
     "data": {
      "image/png": "[encoded data removed]",
      "text/plain": [
       "<Figure size 432x288 with 1 Axes>"
      ]
     },
     "metadata": {
      "needs_background": "light"
     },
     "output_type": "display_data"
    }
   ],
   "source": [
    "# Final Code\n",
    "adsmk = pd.read_csv('../data/raw/adsmk_patid_DB.csv', usecols=['patid','AvgNumCigHome'])\n",
    "adsmk.columns = map(str.lower, adsmk.columns)\n",
    "# Viz\n",
    "adsmk.query('avgnumcighome >= 0').hist();"
   ]
  },
  {
   "cell_type": "code",
   "execution_count": null,
   "metadata": {},
   "outputs": [],
   "source": []
  },
  {
   "cell_type": "code",
   "execution_count": null,
   "metadata": {},
   "outputs": [],
   "source": []
  },
  {
   "cell_type": "markdown",
   "metadata": {},
   "source": [
    "---------------------------------------\n",
    "\n",
    "<font color='red' size=10>\n",
    "    <b>adstai_DB.csv</b>\n",
    "</font>\n",
    "\n",
    "<br><br>\n",
    "<font size=4 style=\"background-color:sandybrown;\">\n",
    "    <b>UPDATE (Dec 4, mtg w/ Dani)</b>:  Here we have <font style=\"font-family:'Courier New';font-weight:bold;\">MAT_AGE</font>\n",
    "    (maternal age), while in the ADSTAI table we have another age variable that records the mother's\n",
    "    age when she completed the anxiety test/questionnaire.  I suspected these two vars were completely\n",
    "    redundant, even if off by up to a year (e.g., mother enrolls in study at 37, has birthday a month\n",
    "    later, then takes anxiety test a month after that at 38).  Dani agreed; there was no special\n",
    "    reason to keep both; just an oversight.  From below analysis:\n",
    "</font>\n",
    "    <ul style=\"background-color:sandybrown;\">\n",
    "        <li> STAI_AGE is fractional (e.g., 24.15), while mat_age is integer (e.g., 24) </li>\n",
    "        <li> for 75% of the data, STAI_AGE - mat_age &lt;= 0.18 (65 days, or 2 months difference) </li>\n",
    "        <li>if you round STAI_AGE, only 5 records (from over 6000) have different integer ages, likely\n",
    "            due to a mother's bday passing in between time at enrollment and time at anxiety measurement </li>\n",
    "    </ul>\n",
    "<font size=4 style=\"background-color:sandybrown;\">\n",
    "    <b>ACTION</b>: toss STAI_AGE to the weeds!\n",
    "</font>\n",
    "\n",
    "\n",
    "In SharePoint file `mbh001/DemoMetaClinical_DataDictionary/DataDictionary/mbh001_Dictionary-of-Variable-terms_20181119_V2.xlsx` tab 1 (\"Demographic Variables\"), Dani greenlights the following vars for further inspection:\n",
    "* **S_ANXIETY** - STAI Raw State Score\n",
    "* **STAI_AGE** - Participant Age at the Time of the Spielberger State Trait Anxiety Scale Interview\n",
    "* **T_ANXIETY** - STAI Raw Trait Score\n",
    "\n",
    "These same variable are greenlit in tab2 as well (\"Demographic Variables Kept\")\n",
    "\n",
    "Note that in the CSV file, these vars are not all capitalized, but instead appear as:\n",
    "* S_Anxiety\n",
    "* T_Anxiety\n",
    "* STAI_AGE (all capitals)\n",
    "\n",
    "<br>\n",
    "<font style=\"background-color:yellow;\">\n",
    "    <b>NOTE</b>: We already have an age variable: MAT_AGE from adelig_DB.csv. Is\n",
    "    this just redundant?\n",
    "</font>\n",
    "\n",
    "\n",
    "\n",
    "### FINAL Code...\n",
    "----------------\n",
    "```python\n",
    "adstai = pd.read_csv('../data/raw/adstai_DB.csv', \n",
    "                     usecols=['patid','S_Anxiety','STAI_AGE','T_Anxiety'])\n",
    "adstai.columns = map(str.lower, adstai.columns)\n",
    "```\n",
    "--------"
   ]
  },
  {
   "cell_type": "code",
   "execution_count": 777,
   "metadata": {},
   "outputs": [],
   "source": [
    "adstai = pd.read_csv('../data/raw/adstai_DB.csv', usecols=['patid','S_Anxiety','STAI_AGE','T_Anxiety'])"
   ]
  },
  {
   "cell_type": "code",
   "execution_count": 650,
   "metadata": {},
   "outputs": [
    {
     "data": {
      "text/plain": [
       "Index(['S_Anxiety', 'T_Anxiety', 'STAI_AGE'], dtype='object')"
      ]
     },
     "execution_count": 650,
     "metadata": {},
     "output_type": "execute_result"
    }
   ],
   "source": [
    "adstai.columns"
   ]
  },
  {
   "cell_type": "code",
   "execution_count": 651,
   "metadata": {},
   "outputs": [
    {
     "data": {
      "text/html": [
       "<div>\n",
       "<style scoped>\n",
       "    .dataframe tbody tr th:only-of-type {\n",
       "        vertical-align: middle;\n",
       "    }\n",
       "\n",
       "    .dataframe tbody tr th {\n",
       "        vertical-align: top;\n",
       "    }\n",
       "\n",
       "    .dataframe thead th {\n",
       "        text-align: right;\n",
       "    }\n",
       "</style>\n",
       "<table border=\"1\" class=\"dataframe\">\n",
       "  <thead>\n",
       "    <tr style=\"text-align: right;\">\n",
       "      <th></th>\n",
       "      <th>S_Anxiety</th>\n",
       "      <th>T_Anxiety</th>\n",
       "      <th>STAI_AGE</th>\n",
       "    </tr>\n",
       "  </thead>\n",
       "  <tbody>\n",
       "    <tr>\n",
       "      <th>0</th>\n",
       "      <td>23.0</td>\n",
       "      <td>32.0</td>\n",
       "      <td>24.15</td>\n",
       "    </tr>\n",
       "    <tr>\n",
       "      <th>1</th>\n",
       "      <td>58.0</td>\n",
       "      <td>63.0</td>\n",
       "      <td>26.01</td>\n",
       "    </tr>\n",
       "    <tr>\n",
       "      <th>2</th>\n",
       "      <td>30.0</td>\n",
       "      <td>52.0</td>\n",
       "      <td>17.02</td>\n",
       "    </tr>\n",
       "    <tr>\n",
       "      <th>3</th>\n",
       "      <td>31.0</td>\n",
       "      <td>37.0</td>\n",
       "      <td>24.01</td>\n",
       "    </tr>\n",
       "    <tr>\n",
       "      <th>4</th>\n",
       "      <td>26.0</td>\n",
       "      <td>43.0</td>\n",
       "      <td>22.19</td>\n",
       "    </tr>\n",
       "  </tbody>\n",
       "</table>\n",
       "</div>"
      ],
      "text/plain": [
       "   S_Anxiety  T_Anxiety  STAI_AGE\n",
       "0       23.0       32.0     24.15\n",
       "1       58.0       63.0     26.01\n",
       "2       30.0       52.0     17.02\n",
       "3       31.0       37.0     24.01\n",
       "4       26.0       43.0     22.19"
      ]
     },
     "execution_count": 651,
     "metadata": {},
     "output_type": "execute_result"
    }
   ],
   "source": [
    "adstai.head()"
   ]
  },
  {
   "cell_type": "code",
   "execution_count": 652,
   "metadata": {},
   "outputs": [
    {
     "data": {
      "text/html": [
       "<div>\n",
       "<style scoped>\n",
       "    .dataframe tbody tr th:only-of-type {\n",
       "        vertical-align: middle;\n",
       "    }\n",
       "\n",
       "    .dataframe tbody tr th {\n",
       "        vertical-align: top;\n",
       "    }\n",
       "\n",
       "    .dataframe thead th {\n",
       "        text-align: right;\n",
       "    }\n",
       "</style>\n",
       "<table border=\"1\" class=\"dataframe\">\n",
       "  <thead>\n",
       "    <tr style=\"text-align: right;\">\n",
       "      <th></th>\n",
       "      <th>S_Anxiety</th>\n",
       "      <th>T_Anxiety</th>\n",
       "      <th>STAI_AGE</th>\n",
       "    </tr>\n",
       "  </thead>\n",
       "  <tbody>\n",
       "    <tr>\n",
       "      <th>6574</th>\n",
       "      <td>57.0</td>\n",
       "      <td>51.0</td>\n",
       "      <td>24.08</td>\n",
       "    </tr>\n",
       "    <tr>\n",
       "      <th>6575</th>\n",
       "      <td>34.0</td>\n",
       "      <td>26.0</td>\n",
       "      <td>19.10</td>\n",
       "    </tr>\n",
       "    <tr>\n",
       "      <th>6576</th>\n",
       "      <td>33.0</td>\n",
       "      <td>45.0</td>\n",
       "      <td>26.10</td>\n",
       "    </tr>\n",
       "    <tr>\n",
       "      <th>6577</th>\n",
       "      <td>23.0</td>\n",
       "      <td>23.0</td>\n",
       "      <td>24.17</td>\n",
       "    </tr>\n",
       "    <tr>\n",
       "      <th>6578</th>\n",
       "      <td>44.0</td>\n",
       "      <td>62.0</td>\n",
       "      <td>17.11</td>\n",
       "    </tr>\n",
       "  </tbody>\n",
       "</table>\n",
       "</div>"
      ],
      "text/plain": [
       "      S_Anxiety  T_Anxiety  STAI_AGE\n",
       "6574       57.0       51.0     24.08\n",
       "6575       34.0       26.0     19.10\n",
       "6576       33.0       45.0     26.10\n",
       "6577       23.0       23.0     24.17\n",
       "6578       44.0       62.0     17.11"
      ]
     },
     "execution_count": 652,
     "metadata": {},
     "output_type": "execute_result"
    }
   ],
   "source": [
    "adstai.tail()"
   ]
  },
  {
   "cell_type": "code",
   "execution_count": 653,
   "metadata": {},
   "outputs": [
    {
     "data": {
      "text/html": [
       "<div>\n",
       "<style scoped>\n",
       "    .dataframe tbody tr th:only-of-type {\n",
       "        vertical-align: middle;\n",
       "    }\n",
       "\n",
       "    .dataframe tbody tr th {\n",
       "        vertical-align: top;\n",
       "    }\n",
       "\n",
       "    .dataframe thead th {\n",
       "        text-align: right;\n",
       "    }\n",
       "</style>\n",
       "<table border=\"1\" class=\"dataframe\">\n",
       "  <thead>\n",
       "    <tr style=\"text-align: right;\">\n",
       "      <th></th>\n",
       "      <th>S_Anxiety</th>\n",
       "      <th>T_Anxiety</th>\n",
       "      <th>STAI_AGE</th>\n",
       "    </tr>\n",
       "  </thead>\n",
       "  <tbody>\n",
       "    <tr>\n",
       "      <th>min</th>\n",
       "      <td>-999999.0</td>\n",
       "      <td>-999999.0</td>\n",
       "      <td>15.190</td>\n",
       "    </tr>\n",
       "    <tr>\n",
       "      <th>25%</th>\n",
       "      <td>23.0</td>\n",
       "      <td>33.0</td>\n",
       "      <td>20.155</td>\n",
       "    </tr>\n",
       "    <tr>\n",
       "      <th>50%</th>\n",
       "      <td>28.0</td>\n",
       "      <td>40.0</td>\n",
       "      <td>24.100</td>\n",
       "    </tr>\n",
       "    <tr>\n",
       "      <th>75%</th>\n",
       "      <td>36.0</td>\n",
       "      <td>49.0</td>\n",
       "      <td>29.020</td>\n",
       "    </tr>\n",
       "    <tr>\n",
       "      <th>max</th>\n",
       "      <td>79.0</td>\n",
       "      <td>79.0</td>\n",
       "      <td>45.070</td>\n",
       "    </tr>\n",
       "  </tbody>\n",
       "</table>\n",
       "</div>"
      ],
      "text/plain": [
       "     S_Anxiety  T_Anxiety  STAI_AGE\n",
       "min  -999999.0  -999999.0    15.190\n",
       "25%       23.0       33.0    20.155\n",
       "50%       28.0       40.0    24.100\n",
       "75%       36.0       49.0    29.020\n",
       "max       79.0       79.0    45.070"
      ]
     },
     "execution_count": 653,
     "metadata": {},
     "output_type": "execute_result"
    }
   ],
   "source": [
    "adstai.describe()[3:]"
   ]
  },
  {
   "cell_type": "code",
   "execution_count": 654,
   "metadata": {},
   "outputs": [
    {
     "data": {
      "text/plain": [
       "S_Anxiety    0\n",
       "T_Anxiety    0\n",
       "STAI_AGE     0\n",
       "dtype: int64"
      ]
     },
     "execution_count": 654,
     "metadata": {},
     "output_type": "execute_result"
    }
   ],
   "source": [
    "adstai.isnull().sum()"
   ]
  },
  {
   "cell_type": "markdown",
   "metadata": {},
   "source": [
    "<font size=4 style=\"background-color:lightgreen;\">\n",
    "    Good! No duplicated PATIDs.\n",
    "</font>"
   ]
  },
  {
   "cell_type": "code",
   "execution_count": 778,
   "metadata": {},
   "outputs": [
    {
     "name": "stdout",
     "output_type": "stream",
     "text": [
      "N Records: 6579\n",
      "N Unique PATIDs: 6579\n"
     ]
    }
   ],
   "source": [
    "print('N Records:', adstai.shape[0])\n",
    "print('N Unique PATIDs:', adstai.patid.unique().shape[0])"
   ]
  },
  {
   "cell_type": "code",
   "execution_count": 776,
   "metadata": {},
   "outputs": [
    {
     "data": {
      "image/png": "[encoded data removed]",
      "text/plain": [
       "<Figure size 504x504 with 4 Axes>"
      ]
     },
     "metadata": {
      "needs_background": "light"
     },
     "output_type": "display_data"
    }
   ],
   "source": [
    "# Final Code\n",
    "adstai = pd.read_csv('../data/raw/adstai_DB.csv', usecols=['patid','S_Anxiety','STAI_AGE','T_Anxiety'])\n",
    "adstai.columns = map(str.lower, adstai.columns)\n",
    "# Viz\n",
    "adstai.replace(-999999,np.nan).dropna().hist(figsize=(7,7));"
   ]
  },
  {
   "cell_type": "markdown",
   "metadata": {},
   "source": [
    "### Update (Dec 4, mtg w/ Dani)\n",
    "\n",
    "<font style=\"background-color:sandybrown;\">\n",
    "Dani agrees that the age var is redundant.  Below, I show in full detail just how\n",
    "redundant it is\n",
    "</font>\n",
    "\n",
    "* STAI_AGE is fractional (e.g., 24.15), while mat_age is integer (e.g., 24)\n",
    "* for 75% of the data, STAI_AGE - mat_age <= 0.18 (65 days, or ~2 months difference)\n",
    "* if you round STAI_AGE, only 5 records (from over 6000) have different integer ages, likely\n",
    "  due to a mother's bday passing in between time at enrollment and time at anxiety measurement\n",
    "  \n",
    "Point is, toss STAI_AGE to the weeds!"
   ]
  },
  {
   "cell_type": "code",
   "execution_count": 1000,
   "metadata": {},
   "outputs": [
    {
     "data": {
      "text/html": [
       "<div>\n",
       "<style scoped>\n",
       "    .dataframe tbody tr th:only-of-type {\n",
       "        vertical-align: middle;\n",
       "    }\n",
       "\n",
       "    .dataframe tbody tr th {\n",
       "        vertical-align: top;\n",
       "    }\n",
       "\n",
       "    .dataframe thead th {\n",
       "        text-align: right;\n",
       "    }\n",
       "</style>\n",
       "<table border=\"1\" class=\"dataframe\">\n",
       "  <thead>\n",
       "    <tr style=\"text-align: right;\">\n",
       "      <th></th>\n",
       "      <th>STAI_AGE</th>\n",
       "      <th>mat_age</th>\n",
       "    </tr>\n",
       "    <tr>\n",
       "      <th>patid</th>\n",
       "      <th></th>\n",
       "      <th></th>\n",
       "    </tr>\n",
       "  </thead>\n",
       "  <tbody>\n",
       "    <tr>\n",
       "      <th>S002-BISH-00001</th>\n",
       "      <td>24.15</td>\n",
       "      <td>24.0</td>\n",
       "    </tr>\n",
       "    <tr>\n",
       "      <th>S002-BISH-00002</th>\n",
       "      <td>26.01</td>\n",
       "      <td>26.0</td>\n",
       "    </tr>\n",
       "    <tr>\n",
       "      <th>S002-BISH-00003</th>\n",
       "      <td>17.02</td>\n",
       "      <td>17.0</td>\n",
       "    </tr>\n",
       "    <tr>\n",
       "      <th>S002-BISH-00004</th>\n",
       "      <td>24.01</td>\n",
       "      <td>24.0</td>\n",
       "    </tr>\n",
       "    <tr>\n",
       "      <th>S002-BISH-00005</th>\n",
       "      <td>22.19</td>\n",
       "      <td>22.0</td>\n",
       "    </tr>\n",
       "    <tr>\n",
       "      <th>S002-BISH-00006</th>\n",
       "      <td>NaN</td>\n",
       "      <td>33.0</td>\n",
       "    </tr>\n",
       "    <tr>\n",
       "      <th>S002-BISH-00007</th>\n",
       "      <td>25.11</td>\n",
       "      <td>25.0</td>\n",
       "    </tr>\n",
       "  </tbody>\n",
       "</table>\n",
       "</div>"
      ],
      "text/plain": [
       "                 STAI_AGE  mat_age\n",
       "patid                             \n",
       "S002-BISH-00001     24.15     24.0\n",
       "S002-BISH-00002     26.01     26.0\n",
       "S002-BISH-00003     17.02     17.0\n",
       "S002-BISH-00004     24.01     24.0\n",
       "S002-BISH-00005     22.19     22.0\n",
       "S002-BISH-00006       NaN     33.0\n",
       "S002-BISH-00007     25.11     25.0"
      ]
     },
     "execution_count": 1000,
     "metadata": {},
     "output_type": "execute_result"
    }
   ],
   "source": [
    "ages = adstai.set_index('patid')[['STAI_AGE']].join(adelig.set_index('patid')[['mat_age']], how='outer')\n",
    "ages.head(7)"
   ]
  },
  {
   "cell_type": "code",
   "execution_count": 1002,
   "metadata": {},
   "outputs": [
    {
     "data": {
      "text/plain": [
       "min    0.00\n",
       "25%    0.06\n",
       "50%    0.12\n",
       "75%    0.18\n",
       "max    1.06\n",
       "dtype: float64"
      ]
     },
     "execution_count": 1002,
     "metadata": {},
     "output_type": "execute_result"
    }
   ],
   "source": [
    "(ages.STAI_AGE - ages.mat_age).describe()[3:]"
   ]
  },
  {
   "cell_type": "code",
   "execution_count": 992,
   "metadata": {},
   "outputs": [
    {
     "data": {
      "text/html": [
       "<div>\n",
       "<style scoped>\n",
       "    .dataframe tbody tr th:only-of-type {\n",
       "        vertical-align: middle;\n",
       "    }\n",
       "\n",
       "    .dataframe tbody tr th {\n",
       "        vertical-align: top;\n",
       "    }\n",
       "\n",
       "    .dataframe thead th {\n",
       "        text-align: right;\n",
       "    }\n",
       "</style>\n",
       "<table border=\"1\" class=\"dataframe\">\n",
       "  <thead>\n",
       "    <tr style=\"text-align: right;\">\n",
       "      <th></th>\n",
       "      <th>STAI_AGE</th>\n",
       "      <th>mat_age</th>\n",
       "    </tr>\n",
       "    <tr>\n",
       "      <th>patid</th>\n",
       "      <th></th>\n",
       "      <th></th>\n",
       "    </tr>\n",
       "  </thead>\n",
       "  <tbody>\n",
       "    <tr>\n",
       "      <th>S002-BISH-00001</th>\n",
       "      <td>24</td>\n",
       "      <td>24</td>\n",
       "    </tr>\n",
       "    <tr>\n",
       "      <th>S002-BISH-00002</th>\n",
       "      <td>26</td>\n",
       "      <td>26</td>\n",
       "    </tr>\n",
       "    <tr>\n",
       "      <th>S002-BISH-00003</th>\n",
       "      <td>17</td>\n",
       "      <td>17</td>\n",
       "    </tr>\n",
       "    <tr>\n",
       "      <th>S002-BISH-00004</th>\n",
       "      <td>24</td>\n",
       "      <td>24</td>\n",
       "    </tr>\n",
       "    <tr>\n",
       "      <th>S002-BISH-00005</th>\n",
       "      <td>22</td>\n",
       "      <td>22</td>\n",
       "    </tr>\n",
       "    <tr>\n",
       "      <th>S002-BISH-00007</th>\n",
       "      <td>25</td>\n",
       "      <td>25</td>\n",
       "    </tr>\n",
       "    <tr>\n",
       "      <th>S002-BISH-00008</th>\n",
       "      <td>19</td>\n",
       "      <td>19</td>\n",
       "    </tr>\n",
       "  </tbody>\n",
       "</table>\n",
       "</div>"
      ],
      "text/plain": [
       "                 STAI_AGE  mat_age\n",
       "patid                             \n",
       "S002-BISH-00001        24       24\n",
       "S002-BISH-00002        26       26\n",
       "S002-BISH-00003        17       17\n",
       "S002-BISH-00004        24       24\n",
       "S002-BISH-00005        22       22\n",
       "S002-BISH-00007        25       25\n",
       "S002-BISH-00008        19       19"
      ]
     },
     "execution_count": 992,
     "metadata": {},
     "output_type": "execute_result"
    }
   ],
   "source": [
    "ages = ages.dropna().applymap(lambda x: round(x))\n",
    "ages.head(7)"
   ]
  },
  {
   "cell_type": "code",
   "execution_count": 993,
   "metadata": {},
   "outputs": [
    {
     "data": {
      "text/html": [
       "<div>\n",
       "<style scoped>\n",
       "    .dataframe tbody tr th:only-of-type {\n",
       "        vertical-align: middle;\n",
       "    }\n",
       "\n",
       "    .dataframe tbody tr th {\n",
       "        vertical-align: top;\n",
       "    }\n",
       "\n",
       "    .dataframe thead th {\n",
       "        text-align: right;\n",
       "    }\n",
       "</style>\n",
       "<table border=\"1\" class=\"dataframe\">\n",
       "  <thead>\n",
       "    <tr style=\"text-align: right;\">\n",
       "      <th></th>\n",
       "      <th>STAI_AGE</th>\n",
       "      <th>mat_age</th>\n",
       "    </tr>\n",
       "    <tr>\n",
       "      <th>patid</th>\n",
       "      <th></th>\n",
       "      <th></th>\n",
       "    </tr>\n",
       "  </thead>\n",
       "  <tbody>\n",
       "    <tr>\n",
       "      <th>S002-BISH-00549</th>\n",
       "      <td>29</td>\n",
       "      <td>28</td>\n",
       "    </tr>\n",
       "    <tr>\n",
       "      <th>S002-BISH-00683</th>\n",
       "      <td>27</td>\n",
       "      <td>26</td>\n",
       "    </tr>\n",
       "    <tr>\n",
       "      <th>S002-BISH-02398</th>\n",
       "      <td>20</td>\n",
       "      <td>19</td>\n",
       "    </tr>\n",
       "    <tr>\n",
       "      <th>S002-BISH-04280</th>\n",
       "      <td>20</td>\n",
       "      <td>19</td>\n",
       "    </tr>\n",
       "    <tr>\n",
       "      <th>S002-BISH-04320</th>\n",
       "      <td>38</td>\n",
       "      <td>37</td>\n",
       "    </tr>\n",
       "  </tbody>\n",
       "</table>\n",
       "</div>"
      ],
      "text/plain": [
       "                 STAI_AGE  mat_age\n",
       "patid                             \n",
       "S002-BISH-00549        29       28\n",
       "S002-BISH-00683        27       26\n",
       "S002-BISH-02398        20       19\n",
       "S002-BISH-04280        20       19\n",
       "S002-BISH-04320        38       37"
      ]
     },
     "execution_count": 993,
     "metadata": {},
     "output_type": "execute_result"
    }
   ],
   "source": [
    "ages.query('STAI_AGE != mat_age')"
   ]
  },
  {
   "cell_type": "code",
   "execution_count": null,
   "metadata": {},
   "outputs": [],
   "source": []
  },
  {
   "cell_type": "code",
   "execution_count": null,
   "metadata": {},
   "outputs": [],
   "source": []
  },
  {
   "cell_type": "markdown",
   "metadata": {},
   "source": [
    "------------------------------\n",
    "\n",
    "<font color='red' size=10>\n",
    "    <b>advs_DB.csv</b>\n",
    "</font>\n",
    "\n",
    "In SharePoint file `mbh001/DemoMetaClinical_DataDictionary/DataDictionary/mbh001_Dictionary-of-Variable-terms_20181119_V2.xlsx` tab 1 (\"Demographic Variables\"), Dani greenlights the following vars for further inspection:\n",
    "* **ARMCIRMM** - Arm Circumference at Recruitment (mm)\n",
    "* **BMIRI** - BMI at Recruitment\n",
    "* **HEIGHT** - Maternal Height (inches)\n",
    "* **PrePregBMI** - Pre-Pregnancy BMI\n",
    "* **PREPREGWEIGHT** - Pre-Pregnancy Weight (pounds)\n",
    "\n",
    "These same vars are the only ones listed in tab2 as well (\"Demographic Variables Kept\").\n",
    "\n",
    "One **note**, however: in the CSV file:\n",
    "* PrePregBMI --> PREPREGBMI\n",
    "\n",
    "\n",
    "### FINAL Code...\n",
    "------------\n",
    "```python\n",
    "advs = pd.read_csv('../data/raw/advs_DB.csv', \n",
    "                   usecols=['patid','ARMCIRMM','BMIRI','HEIGHT','PREPREGBMI','PREPREGWEIGHT'])\n",
    "advs.columns = map(str.lower, advs.columns)\n",
    "```\n",
    "---------"
   ]
  },
  {
   "cell_type": "code",
   "execution_count": null,
   "metadata": {},
   "outputs": [],
   "source": [
    "advs = pd.read_csv('../data/raw/advs_DB.csv', \n",
    "                   usecols=['patid','ARMCIRMM','BMIRI','HEIGHT','PREPREGBMI','PREPREGWEIGHT'])"
   ]
  },
  {
   "cell_type": "code",
   "execution_count": 664,
   "metadata": {},
   "outputs": [
    {
     "data": {
      "text/plain": [
       "Index(['HEIGHT', 'BMIRI', 'PREPREGWEIGHT', 'PREPREGBMI', 'ARMCIRMM'], dtype='object')"
      ]
     },
     "execution_count": 664,
     "metadata": {},
     "output_type": "execute_result"
    }
   ],
   "source": [
    "advs.columns"
   ]
  },
  {
   "cell_type": "code",
   "execution_count": 666,
   "metadata": {},
   "outputs": [
    {
     "data": {
      "text/html": [
       "<div>\n",
       "<style scoped>\n",
       "    .dataframe tbody tr th:only-of-type {\n",
       "        vertical-align: middle;\n",
       "    }\n",
       "\n",
       "    .dataframe tbody tr th {\n",
       "        vertical-align: top;\n",
       "    }\n",
       "\n",
       "    .dataframe thead th {\n",
       "        text-align: right;\n",
       "    }\n",
       "</style>\n",
       "<table border=\"1\" class=\"dataframe\">\n",
       "  <thead>\n",
       "    <tr style=\"text-align: right;\">\n",
       "      <th></th>\n",
       "      <th>HEIGHT</th>\n",
       "      <th>BMIRI</th>\n",
       "      <th>PREPREGWEIGHT</th>\n",
       "      <th>PREPREGBMI</th>\n",
       "      <th>ARMCIRMM</th>\n",
       "    </tr>\n",
       "  </thead>\n",
       "  <tbody>\n",
       "    <tr>\n",
       "      <th>0</th>\n",
       "      <td>64.00</td>\n",
       "      <td>21.57</td>\n",
       "      <td>121.25</td>\n",
       "      <td>20.81</td>\n",
       "      <td>245.67</td>\n",
       "    </tr>\n",
       "    <tr>\n",
       "      <th>1</th>\n",
       "      <td>64.61</td>\n",
       "      <td>21.57</td>\n",
       "      <td>110.23</td>\n",
       "      <td>18.57</td>\n",
       "      <td>255.33</td>\n",
       "    </tr>\n",
       "    <tr>\n",
       "      <th>2</th>\n",
       "      <td>62.61</td>\n",
       "      <td>20.87</td>\n",
       "      <td>-999999.00</td>\n",
       "      <td>-999999.00</td>\n",
       "      <td>228.00</td>\n",
       "    </tr>\n",
       "    <tr>\n",
       "      <th>3</th>\n",
       "      <td>61.94</td>\n",
       "      <td>37.30</td>\n",
       "      <td>191.80</td>\n",
       "      <td>35.14</td>\n",
       "      <td>379.00</td>\n",
       "    </tr>\n",
       "    <tr>\n",
       "      <th>4</th>\n",
       "      <td>65.38</td>\n",
       "      <td>22.12</td>\n",
       "      <td>-999999.00</td>\n",
       "      <td>-999999.00</td>\n",
       "      <td>263.50</td>\n",
       "    </tr>\n",
       "  </tbody>\n",
       "</table>\n",
       "</div>"
      ],
      "text/plain": [
       "   HEIGHT  BMIRI  PREPREGWEIGHT  PREPREGBMI  ARMCIRMM\n",
       "0   64.00  21.57         121.25       20.81    245.67\n",
       "1   64.61  21.57         110.23       18.57    255.33\n",
       "2   62.61  20.87     -999999.00  -999999.00    228.00\n",
       "3   61.94  37.30         191.80       35.14    379.00\n",
       "4   65.38  22.12     -999999.00  -999999.00    263.50"
      ]
     },
     "execution_count": 666,
     "metadata": {},
     "output_type": "execute_result"
    }
   ],
   "source": [
    "advs.head()"
   ]
  },
  {
   "cell_type": "code",
   "execution_count": 667,
   "metadata": {},
   "outputs": [
    {
     "data": {
      "text/html": [
       "<div>\n",
       "<style scoped>\n",
       "    .dataframe tbody tr th:only-of-type {\n",
       "        vertical-align: middle;\n",
       "    }\n",
       "\n",
       "    .dataframe tbody tr th {\n",
       "        vertical-align: top;\n",
       "    }\n",
       "\n",
       "    .dataframe thead th {\n",
       "        text-align: right;\n",
       "    }\n",
       "</style>\n",
       "<table border=\"1\" class=\"dataframe\">\n",
       "  <thead>\n",
       "    <tr style=\"text-align: right;\">\n",
       "      <th></th>\n",
       "      <th>HEIGHT</th>\n",
       "      <th>BMIRI</th>\n",
       "      <th>PREPREGWEIGHT</th>\n",
       "      <th>PREPREGBMI</th>\n",
       "      <th>ARMCIRMM</th>\n",
       "    </tr>\n",
       "  </thead>\n",
       "  <tbody>\n",
       "    <tr>\n",
       "      <th>6919</th>\n",
       "      <td>62.22</td>\n",
       "      <td>18.97</td>\n",
       "      <td>77.16</td>\n",
       "      <td>14.01</td>\n",
       "      <td>233.5</td>\n",
       "    </tr>\n",
       "    <tr>\n",
       "      <th>6920</th>\n",
       "      <td>61.73</td>\n",
       "      <td>22.41</td>\n",
       "      <td>-999999.00</td>\n",
       "      <td>-999999.00</td>\n",
       "      <td>222.0</td>\n",
       "    </tr>\n",
       "    <tr>\n",
       "      <th>6921</th>\n",
       "      <td>64.07</td>\n",
       "      <td>21.03</td>\n",
       "      <td>-999999.00</td>\n",
       "      <td>-999999.00</td>\n",
       "      <td>250.0</td>\n",
       "    </tr>\n",
       "    <tr>\n",
       "      <th>6922</th>\n",
       "      <td>65.61</td>\n",
       "      <td>22.72</td>\n",
       "      <td>134.48</td>\n",
       "      <td>21.96</td>\n",
       "      <td>260.0</td>\n",
       "    </tr>\n",
       "    <tr>\n",
       "      <th>6923</th>\n",
       "      <td>59.61</td>\n",
       "      <td>20.02</td>\n",
       "      <td>-999999.00</td>\n",
       "      <td>-999999.00</td>\n",
       "      <td>220.0</td>\n",
       "    </tr>\n",
       "  </tbody>\n",
       "</table>\n",
       "</div>"
      ],
      "text/plain": [
       "      HEIGHT  BMIRI  PREPREGWEIGHT  PREPREGBMI  ARMCIRMM\n",
       "6919   62.22  18.97          77.16       14.01     233.5\n",
       "6920   61.73  22.41     -999999.00  -999999.00     222.0\n",
       "6921   64.07  21.03     -999999.00  -999999.00     250.0\n",
       "6922   65.61  22.72         134.48       21.96     260.0\n",
       "6923   59.61  20.02     -999999.00  -999999.00     220.0"
      ]
     },
     "execution_count": 667,
     "metadata": {},
     "output_type": "execute_result"
    }
   ],
   "source": [
    "advs.tail()"
   ]
  },
  {
   "cell_type": "code",
   "execution_count": 668,
   "metadata": {},
   "outputs": [
    {
     "data": {
      "text/html": [
       "<div>\n",
       "<style scoped>\n",
       "    .dataframe tbody tr th:only-of-type {\n",
       "        vertical-align: middle;\n",
       "    }\n",
       "\n",
       "    .dataframe tbody tr th {\n",
       "        vertical-align: top;\n",
       "    }\n",
       "\n",
       "    .dataframe thead th {\n",
       "        text-align: right;\n",
       "    }\n",
       "</style>\n",
       "<table border=\"1\" class=\"dataframe\">\n",
       "  <thead>\n",
       "    <tr style=\"text-align: right;\">\n",
       "      <th></th>\n",
       "      <th>HEIGHT</th>\n",
       "      <th>BMIRI</th>\n",
       "      <th>PREPREGWEIGHT</th>\n",
       "      <th>PREPREGBMI</th>\n",
       "      <th>ARMCIRMM</th>\n",
       "    </tr>\n",
       "  </thead>\n",
       "  <tbody>\n",
       "    <tr>\n",
       "      <th>min</th>\n",
       "      <td>-999999.00</td>\n",
       "      <td>-999999.00</td>\n",
       "      <td>-999999.00</td>\n",
       "      <td>-999999.00</td>\n",
       "      <td>-999999.000</td>\n",
       "    </tr>\n",
       "    <tr>\n",
       "      <th>25%</th>\n",
       "      <td>60.75</td>\n",
       "      <td>21.09</td>\n",
       "      <td>-999999.00</td>\n",
       "      <td>-999999.00</td>\n",
       "      <td>240.000</td>\n",
       "    </tr>\n",
       "    <tr>\n",
       "      <th>50%</th>\n",
       "      <td>62.42</td>\n",
       "      <td>24.02</td>\n",
       "      <td>-999999.00</td>\n",
       "      <td>-999999.00</td>\n",
       "      <td>265.500</td>\n",
       "    </tr>\n",
       "    <tr>\n",
       "      <th>75%</th>\n",
       "      <td>64.11</td>\n",
       "      <td>28.62</td>\n",
       "      <td>121.25</td>\n",
       "      <td>21.97</td>\n",
       "      <td>300.625</td>\n",
       "    </tr>\n",
       "    <tr>\n",
       "      <th>max</th>\n",
       "      <td>72.24</td>\n",
       "      <td>55.88</td>\n",
       "      <td>299.83</td>\n",
       "      <td>53.12</td>\n",
       "      <td>535.000</td>\n",
       "    </tr>\n",
       "  </tbody>\n",
       "</table>\n",
       "</div>"
      ],
      "text/plain": [
       "        HEIGHT      BMIRI  PREPREGWEIGHT  PREPREGBMI    ARMCIRMM\n",
       "min -999999.00 -999999.00     -999999.00  -999999.00 -999999.000\n",
       "25%      60.75      21.09     -999999.00  -999999.00     240.000\n",
       "50%      62.42      24.02     -999999.00  -999999.00     265.500\n",
       "75%      64.11      28.62         121.25       21.97     300.625\n",
       "max      72.24      55.88         299.83       53.12     535.000"
      ]
     },
     "execution_count": 668,
     "metadata": {},
     "output_type": "execute_result"
    }
   ],
   "source": [
    "advs.describe()[3:]"
   ]
  },
  {
   "cell_type": "code",
   "execution_count": 669,
   "metadata": {},
   "outputs": [
    {
     "data": {
      "text/plain": [
       "HEIGHT           0\n",
       "BMIRI            0\n",
       "PREPREGWEIGHT    0\n",
       "PREPREGBMI       0\n",
       "ARMCIRMM         0\n",
       "dtype: int64"
      ]
     },
     "execution_count": 669,
     "metadata": {},
     "output_type": "execute_result"
    }
   ],
   "source": [
    "advs.isnull().sum()"
   ]
  },
  {
   "cell_type": "markdown",
   "metadata": {},
   "source": [
    "<font size=4 style=\"background-color:lightgreen;\">\n",
    "    Good! No duplicated PATIDs.\n",
    "</font>"
   ]
  },
  {
   "cell_type": "code",
   "execution_count": 775,
   "metadata": {},
   "outputs": [
    {
     "name": "stdout",
     "output_type": "stream",
     "text": [
      "N Records: 6924\n",
      "N Unique PATIDs: 6924\n"
     ]
    }
   ],
   "source": [
    "print('N Records:', advs.shape[0])\n",
    "print('N Unique PATIDs:', advs.patid.unique().shape[0])"
   ]
  },
  {
   "cell_type": "code",
   "execution_count": 769,
   "metadata": {},
   "outputs": [
    {
     "data": {
      "image/png": "[encoded data removed]",
      "text/plain": [
       "<Figure size 720x720 with 6 Axes>"
      ]
     },
     "metadata": {
      "needs_background": "light"
     },
     "output_type": "display_data"
    }
   ],
   "source": [
    "# Final Code\n",
    "advs = pd.read_csv('../data/raw/advs_DB.csv', \n",
    "                   usecols=['patid','ARMCIRMM','BMIRI','HEIGHT','PREPREGBMI','PREPREGWEIGHT'])\n",
    "advs.columns = map(str.lower, advs.columns)\n",
    "# Viz\n",
    "advs.replace(-999999,np.nan).dropna().hist(figsize=(10,10));"
   ]
  },
  {
   "cell_type": "markdown",
   "metadata": {},
   "source": [
    "# Join all the Demo/Clinical Tables\n",
    "**Dec 3, 2019**"
   ]
  },
  {
   "cell_type": "code",
   "execution_count": 10,
   "metadata": {},
   "outputs": [],
   "source": [
    "import pandas as pd\n",
    "import numpy as np\n",
    "from matplotlib import pyplot as plt\n",
    "%matplotlib inline"
   ]
  },
  {
   "cell_type": "code",
   "execution_count": 21,
   "metadata": {},
   "outputs": [],
   "source": [
    "data = dict()\n",
    "\n",
    "# MENTAL\n",
    "#  -- NOTE: May have to drop all these vars (they are nearly constant)\n",
    "mental_cols = ['patid','aantipsych2','antianx2','anticonv2','antidepress2','cantipsych2',\n",
    "           'moodstab2','ssri2','stim2',]\n",
    "mental = pd.read_csv('../data/raw/Derived Variables of Interest Participants Only.mental_ill_DB.csv',\n",
    "    usecols = mental_cols)\n",
    "mental.fillna(-999999, inplace=True)\n",
    "mental.set_index('patid', inplace=True)\n",
    "data['mental'] = mental\n",
    "\n",
    "\n",
    "# ADAFPPAPPA\n",
    "adafppappa = pd.read_csv('../data/raw/adafppappa_DB.csv', usecols = ['PATID','AFPMoM'])\n",
    "adafppappa.columns = map(str.lower, adafppappa.columns)\n",
    "# Correct the Missing Value representation (-9999.99 --> -999999)\n",
    "adafppappa.afpmom = adafppappa.afpmom.map(lambda x: -999999 if x == -9999.99 else x)\n",
    "adafppappa.set_index('patid', inplace=True)\n",
    "data['adafppappa'] = adafppappa\n",
    "\n",
    "\n",
    "# ADALC \n",
    "#  -- Do we want to keep the Bing7T* vars?\n",
    "#  -- Do we want to also include MoreThan1YrPrior2? (Not currently in CSV file.)\n",
    "adalc = pd.read_csv('../data/raw/adalc_patid_DB.csv', usecols=range(0,12))\n",
    "adalc.columns = map(str.lower, adalc.columns)\n",
    "adalc.set_index('patid', inplace=True)\n",
    "data['adalc'] = adalc\n",
    "\n",
    "\n",
    "# ADCDRISC\n",
    "adcdrisc = pd.read_csv('../data/raw/adcdrisc_DB.csv', usecols=['patid','CDRISC_Raw'], \n",
    "                       na_values='#NULL!')\n",
    "adcdrisc.columns = map(str.lower, adcdrisc.columns)\n",
    "adcdrisc.fillna(-999999, inplace=True)\n",
    "adcdrisc.set_index('patid', inplace=True)\n",
    "data['adcdrisc'] = adcdrisc\n",
    "\n",
    "\n",
    "# ADDRG \n",
    "# It is essentially necessary to drop: \n",
    "#     hair1yrprior6 (0 nznn), hairlmp2 (0 nznn), hairt12 (0), hairt22 (2)\n",
    "# It is likely necessary to drop: \n",
    "#     otherlmp2 (2 nznn instances)\n",
    "# It might be worth dropping:\n",
    "#     othert12 (14 nznn), othert22 (16), other1yrprior2 (20), methlmp2 (54)\n",
    "# NOTE: nznn := nonzero/nonNull values\n",
    "addrg_cols = [ 'patid',\n",
    "    'Hair1YrPrior6', 'HairLMP2', 'HairT12', 'HairT22',\n",
    "    'Hookah1YrPrior6', 'HookahLMP2', 'HookahT12', 'HookahT22',\n",
    "    'Meth1YrPrior6', 'MethLMP2', 'MethT12', 'MethT22',\n",
    "    'MJ1YrPrior6', 'MJLMP2', 'MJT12', 'MJT22',\n",
    "    'Other1YrPrior2', 'OtherLMP2', 'OtherT12', 'OtherT22',\n",
    "]\n",
    "addrg_drop_cols = ['hair1yrprior6','hairlmp2','hairt12','hairt22','otherlmp2',\n",
    "                              'othert12','othert22','other1yrprior2','methlmp2']\n",
    "addrg_drop=False\n",
    "if addrg_drop:\n",
    "    addrg_cols = [item for item in addrg_cols if item not in addrg_drop_cols]\n",
    "addrg = pd.read_csv('../data/raw/addrg_patid_DB.csv', usecols = addrg_cols)\n",
    "addrg.columns = map(str.lower, addrg.columns)\n",
    "addrg.set_index('patid', inplace=True)\n",
    "data['addrg'] = addrg\n",
    "\n",
    "\n",
    "# ADEDIN (merged edit bish)\n",
    "#  -- Do we want to keep the Endinburgh CycleID? (Bill recommneds not to, while\n",
    "#     Dani thinks it can serve as a source of interaction information, e.g., within\n",
    "#     a RF)\n",
    "adedin_merged_edit_bish = pd.read_csv('../data/raw/adedin_merged_edit_bish_DB.csv')\n",
    "adedin_merged_edit_bish.columns = ['patid', 'edinburgh', 'edinburgh_cycle_id']\n",
    "adedin_merged_edit_bish.fillna(-999999, inplace=True)\n",
    "adedin_merged_edit_bish.set_index('patid', inplace=True)\n",
    "data['adedin'] = adedin_merged_edit_bish\n",
    "\n",
    "\n",
    "# ADELIG\n",
    "#  -- Do We want to keep the `hispanic2` var? (It is essentially CONSTANT --  either zero \n",
    "#     or missing.)\n",
    "adelig = pd.read_csv('../data/raw/adelig_DB.csv', \n",
    "                     usecols = ['patid', 'Hispanic2', 'MAT_AGE'])\n",
    "adelig.columns = map(str.lower, adelig.columns)\n",
    "adelig.set_index('patid', inplace=True)\n",
    "data['adelig'] = adelig\n",
    "\n",
    "\n",
    "# ADFETALGROWTH\n",
    "adfetalgrowth = pd.read_csv('../data/raw/adfetalgrowth_BISHCORRECTED_01.24.19_persex_DB.csv',\n",
    "                           usecols = range(0,3))\n",
    "adfetalgrowth.columns = ['patid', 'sex', 'growth_deviation_index']\n",
    "adfetalgrowth.set_index('patid', inplace=True)\n",
    "data['adfetalgrowth'] = adfetalgrowth\n",
    "\n",
    "\n",
    "# ADMH\n",
    "#  -- NOTE:  Each of the var listed below have less than 50 nonZero/nonNull instances (out of nearly 7k records):\n",
    "#       'hxsuid2', 'hxsids2', 'hxsidssuid2', 'hx_baby_cleft2', 'hx_baby_down2',\n",
    "#       'hx_baby_fas2', 'hx_baby_pfas2', 'hx_baby_heart2',\n",
    "#       'hx_baby_hypoxiaencep2', 'hx_baby_iugrsga2', 'hx_baby_retard2',\n",
    "#       'hx_baby_neuraltube2', 'hx_baby_poorweight2', 'hx_baby_shoulder2',\n",
    "#       'sicklecellanemiaprior2', 'apsprior2', 'anxietyprior2',\n",
    "#       'bloodclotprior2', 'cancerprior2', 'connectivetissuedisorderprior2',\n",
    "#       'gdmprior2', 'gdmpriorfp2', 'hyperthyroidprior2', 'hypothyroidprior2',\n",
    "#       'lupusprior2', 'abruptionprior2', 'abruptionpriorfp2',\n",
    "#       'placentapreviaprior2', 'placentapreviapriorfp2', 'ppromprior2',\n",
    "#       'pprompriorfp2', 'raprior2', 'thromboembolicdiseaseprior2'\n",
    "#  -- most of the vars have less than 10% (~700) nznn values\n",
    "drop_vars = ['patid.1', 'AnemiaPriorFP2', 'ANEMIAacute2', 'ANEMIAchronic2', 'AnemiaPrior2']\n",
    "admh = pd.read_csv('../data/raw/admh_DB.csv')\n",
    "admh.drop(drop_vars, axis=1, inplace=True)\n",
    "admh.columns = map(str.lower, admh.columns)\n",
    "admh.set_index('patid', inplace=True)\n",
    "data['admh'] = admh\n",
    "\n",
    "\n",
    "# ADPTSD\n",
    "#  -- MY REC:  DO NOT USE THIS STUFF AT ALL (here just in case we decide to)\n",
    "adptsd = pd.read_csv('../data/raw/adptsd_DB.csv', usecols = ['patid', 'HTQ_Total_Raw', 'LEC_Events'])\n",
    "bish_index = adptsd.patid.str.split('-').map(lambda x: x[1]) == 'BISH'\n",
    "adptsd = adptsd[bish_index].reset_index(drop=True).dropna()\n",
    "adptsd.set_index('patid', inplace=True)\n",
    "data['adptsd'] = adptsd\n",
    "\n",
    "\n",
    "# ADSC\n",
    "#  -- THIS HAS 50 DUPLICATED PATIDs due to twins...\n",
    "#  -- Udi dropped these...and for the time being, I suggest we do the same, since\n",
    "#     it basically serves as doubling up data points (there is no twin-tuned sensor\n",
    "#     data for example;  the only var that might change is gender).\n",
    "#  -- NOTE: I added a few potential target vars that Dani didn't include in\n",
    "#     her greenlit vars, namely: 'DLVRYGA_DYS', 'Preterm2', 'DLVRYBefore34Wks', \n",
    "#     and 'DLVRYBefore28wks'\n",
    "adsc_cols = ['patid', 'gender2','twin2',\n",
    "    'DLVRYGA_DYS', 'Preterm2', 'DLVRYBefore34Wks', 'DLVRYBefore28wks']\n",
    "adsc = pd.read_csv('../data/raw/adsc_DB.csv', usecols=adsc_cols)\n",
    "adsc.drop(adsc.index[adsc.twin2 > 0], inplace=True)\n",
    "adsc.columns = map(str.lower, adsc.columns)\n",
    "adsc.drop('twin2', axis=1, inplace=True)\n",
    "adsc.set_index('patid', inplace=True)\n",
    "data['adsc'] = adsc\n",
    "\n",
    "\n",
    "# ADSCMAT\n",
    "adscmat_cols = [ 'patid',\n",
    "    'AugmentedLabor2', 'CesareanNoLabor2', 'InducedLabor2',\n",
    "    'EDUC_COMBOHS4', 'EMPL', 'EMPL_COMB4', 'Fertility2',\n",
    "    'GrossIncome7', 'Nulliparous2', 'PARITY', 'PreCareFirstGA',\n",
    "    'PreCareT1_2', 'ToiletWater2',\n",
    "]\n",
    "adscmat = pd.read_csv('../data/raw/adscmat_DB.csv', usecols=adscmat_cols)\n",
    "fix = list(set(adscmat_cols).difference(['patid']))\n",
    "adscmat[fix] = adscmat[fix].applymap(lambda x: x.split('.')[0]).astype(int).\\\n",
    "                  applymap(lambda x: int(x/100) if x < 0 else x)\n",
    "adscmat.columns = map(str.lower, adscmat.columns)\n",
    "adscmat.set_index('patid', inplace=True)\n",
    "data['adscmat'] = adscmat\n",
    "\n",
    "\n",
    "# ADSMK\n",
    "adsmk = pd.read_csv('../data/raw/adsmk_patid_DB.csv', \n",
    "                    usecols=['patid','AvgNumCigHome'])\n",
    "adsmk.columns = map(str.lower, adsmk.columns)\n",
    "adsmk.set_index('patid', inplace=True)\n",
    "data['adsmk'] = adsmk\n",
    "\n",
    "\n",
    "# ADSTAI\n",
    "#  -- Do we want to keep STAI_AGE (mother's age at time of test)?  We already have\n",
    "#     an age variable (MAT_AGE from adelig_DB.csv).  Assuming this test is administered\n",
    "#     within several months of when MAG_AGE was recorded, it would be fairly redundant\n",
    "#     info (even up to a year in separation, if you ask me).\n",
    "adstai = pd.read_csv('../data/raw/adstai_DB.csv', \n",
    "                     usecols=['patid','S_Anxiety','STAI_AGE','T_Anxiety'])\n",
    "adstai.columns = map(str.lower, adstai.columns)\n",
    "adstai.set_index('patid', inplace=True)\n",
    "data['adstai'] = adstai\n",
    "\n",
    "\n",
    "# ADVS\n",
    "advs = pd.read_csv('../data/raw/advs_DB.csv', \n",
    "                   usecols=['patid','ARMCIRMM','BMIRI','HEIGHT','PREPREGBMI','PREPREGWEIGHT'])\n",
    "advs.columns = map(str.lower, advs.columns)\n",
    "advs.set_index('patid', inplace=True)\n",
    "data['advs'] = advs\n",
    "\n",
    "#--------------------------------------\n",
    "\n",
    "# Including this here so that all the important code is in one place.\n",
    "def join_all_tables():\n",
    "    tbl1 = pd.DataFrame()\n",
    "    for tbl2 in data.keys():\n",
    "        tbl1 = tbl1.join(data[tbl2], how='outer')\n",
    "    return tbl1\n",
    "      \n",
    "#--------------------------------------\n",
    "\n",
    "democlinical = join_all_tables()\n",
    "\n",
    "#---------------------------------"
   ]
  },
  {
   "cell_type": "code",
   "execution_count": 22,
   "metadata": {},
   "outputs": [
    {
     "data": {
      "text/html": [
       "<div>\n",
       "<style scoped>\n",
       "    .dataframe tbody tr th:only-of-type {\n",
       "        vertical-align: middle;\n",
       "    }\n",
       "\n",
       "    .dataframe tbody tr th {\n",
       "        vertical-align: top;\n",
       "    }\n",
       "\n",
       "    .dataframe thead th {\n",
       "        text-align: right;\n",
       "    }\n",
       "</style>\n",
       "<table border=\"1\" class=\"dataframe\">\n",
       "  <thead>\n",
       "    <tr style=\"text-align: right;\">\n",
       "      <th></th>\n",
       "      <th>ssri2</th>\n",
       "      <th>antidepress2</th>\n",
       "      <th>cantipsych2</th>\n",
       "      <th>aantipsych2</th>\n",
       "      <th>moodstab2</th>\n",
       "      <th>stim2</th>\n",
       "      <th>antianx2</th>\n",
       "      <th>anticonv2</th>\n",
       "      <th>afpmom</th>\n",
       "      <th>patid.1</th>\n",
       "      <th>...</th>\n",
       "      <th>cesareannolabor2</th>\n",
       "      <th>avgnumcighome</th>\n",
       "      <th>s_anxiety</th>\n",
       "      <th>t_anxiety</th>\n",
       "      <th>stai_age</th>\n",
       "      <th>height</th>\n",
       "      <th>bmiri</th>\n",
       "      <th>prepregweight</th>\n",
       "      <th>prepregbmi</th>\n",
       "      <th>armcirmm</th>\n",
       "    </tr>\n",
       "    <tr>\n",
       "      <th>patid</th>\n",
       "      <th></th>\n",
       "      <th></th>\n",
       "      <th></th>\n",
       "      <th></th>\n",
       "      <th></th>\n",
       "      <th></th>\n",
       "      <th></th>\n",
       "      <th></th>\n",
       "      <th></th>\n",
       "      <th></th>\n",
       "      <th></th>\n",
       "      <th></th>\n",
       "      <th></th>\n",
       "      <th></th>\n",
       "      <th></th>\n",
       "      <th></th>\n",
       "      <th></th>\n",
       "      <th></th>\n",
       "      <th></th>\n",
       "      <th></th>\n",
       "      <th></th>\n",
       "    </tr>\n",
       "  </thead>\n",
       "  <tbody>\n",
       "    <tr>\n",
       "      <th>S002-BISH-00001</th>\n",
       "      <td>0.0</td>\n",
       "      <td>0.0</td>\n",
       "      <td>0.0</td>\n",
       "      <td>0.0</td>\n",
       "      <td>0.0</td>\n",
       "      <td>0.0</td>\n",
       "      <td>0.0</td>\n",
       "      <td>0.0</td>\n",
       "      <td>-999999.00</td>\n",
       "      <td>BISH</td>\n",
       "      <td>...</td>\n",
       "      <td>0.0</td>\n",
       "      <td>1.0</td>\n",
       "      <td>23.0</td>\n",
       "      <td>32.0</td>\n",
       "      <td>24.15</td>\n",
       "      <td>64.00</td>\n",
       "      <td>21.57</td>\n",
       "      <td>121.25</td>\n",
       "      <td>20.81</td>\n",
       "      <td>245.67</td>\n",
       "    </tr>\n",
       "    <tr>\n",
       "      <th>S002-BISH-00002</th>\n",
       "      <td>0.0</td>\n",
       "      <td>0.0</td>\n",
       "      <td>0.0</td>\n",
       "      <td>0.0</td>\n",
       "      <td>0.0</td>\n",
       "      <td>0.0</td>\n",
       "      <td>0.0</td>\n",
       "      <td>0.0</td>\n",
       "      <td>1.17</td>\n",
       "      <td>BISH</td>\n",
       "      <td>...</td>\n",
       "      <td>0.0</td>\n",
       "      <td>1.0</td>\n",
       "      <td>58.0</td>\n",
       "      <td>63.0</td>\n",
       "      <td>26.01</td>\n",
       "      <td>64.61</td>\n",
       "      <td>21.57</td>\n",
       "      <td>110.23</td>\n",
       "      <td>18.57</td>\n",
       "      <td>255.33</td>\n",
       "    </tr>\n",
       "    <tr>\n",
       "      <th>S002-BISH-00003</th>\n",
       "      <td>0.0</td>\n",
       "      <td>0.0</td>\n",
       "      <td>0.0</td>\n",
       "      <td>0.0</td>\n",
       "      <td>0.0</td>\n",
       "      <td>0.0</td>\n",
       "      <td>0.0</td>\n",
       "      <td>0.0</td>\n",
       "      <td>NaN</td>\n",
       "      <td>BISH</td>\n",
       "      <td>...</td>\n",
       "      <td>0.0</td>\n",
       "      <td>2.5</td>\n",
       "      <td>30.0</td>\n",
       "      <td>52.0</td>\n",
       "      <td>17.02</td>\n",
       "      <td>62.61</td>\n",
       "      <td>20.87</td>\n",
       "      <td>-999999.00</td>\n",
       "      <td>-999999.00</td>\n",
       "      <td>228.00</td>\n",
       "    </tr>\n",
       "    <tr>\n",
       "      <th>S002-BISH-00004</th>\n",
       "      <td>0.0</td>\n",
       "      <td>0.0</td>\n",
       "      <td>0.0</td>\n",
       "      <td>0.0</td>\n",
       "      <td>0.0</td>\n",
       "      <td>0.0</td>\n",
       "      <td>0.0</td>\n",
       "      <td>0.0</td>\n",
       "      <td>NaN</td>\n",
       "      <td>BISH</td>\n",
       "      <td>...</td>\n",
       "      <td>0.0</td>\n",
       "      <td>2.0</td>\n",
       "      <td>31.0</td>\n",
       "      <td>37.0</td>\n",
       "      <td>24.01</td>\n",
       "      <td>61.94</td>\n",
       "      <td>37.30</td>\n",
       "      <td>191.80</td>\n",
       "      <td>35.14</td>\n",
       "      <td>379.00</td>\n",
       "    </tr>\n",
       "    <tr>\n",
       "      <th>S002-BISH-00005</th>\n",
       "      <td>0.0</td>\n",
       "      <td>0.0</td>\n",
       "      <td>0.0</td>\n",
       "      <td>0.0</td>\n",
       "      <td>0.0</td>\n",
       "      <td>0.0</td>\n",
       "      <td>0.0</td>\n",
       "      <td>0.0</td>\n",
       "      <td>NaN</td>\n",
       "      <td>BISH</td>\n",
       "      <td>...</td>\n",
       "      <td>0.0</td>\n",
       "      <td>2.0</td>\n",
       "      <td>26.0</td>\n",
       "      <td>43.0</td>\n",
       "      <td>22.19</td>\n",
       "      <td>65.38</td>\n",
       "      <td>22.12</td>\n",
       "      <td>-999999.00</td>\n",
       "      <td>-999999.00</td>\n",
       "      <td>263.50</td>\n",
       "    </tr>\n",
       "  </tbody>\n",
       "</table>\n",
       "<p>5 rows × 132 columns</p>\n",
       "</div>"
      ],
      "text/plain": [
       "                 ssri2  antidepress2  cantipsych2  aantipsych2  moodstab2  \\\n",
       "patid                                                                       \n",
       "S002-BISH-00001    0.0           0.0          0.0          0.0        0.0   \n",
       "S002-BISH-00002    0.0           0.0          0.0          0.0        0.0   \n",
       "S002-BISH-00003    0.0           0.0          0.0          0.0        0.0   \n",
       "S002-BISH-00004    0.0           0.0          0.0          0.0        0.0   \n",
       "S002-BISH-00005    0.0           0.0          0.0          0.0        0.0   \n",
       "\n",
       "                 stim2  antianx2  anticonv2     afpmom patid.1  ...  \\\n",
       "patid                                                           ...   \n",
       "S002-BISH-00001    0.0       0.0        0.0 -999999.00    BISH  ...   \n",
       "S002-BISH-00002    0.0       0.0        0.0       1.17    BISH  ...   \n",
       "S002-BISH-00003    0.0       0.0        0.0        NaN    BISH  ...   \n",
       "S002-BISH-00004    0.0       0.0        0.0        NaN    BISH  ...   \n",
       "S002-BISH-00005    0.0       0.0        0.0        NaN    BISH  ...   \n",
       "\n",
       "                 cesareannolabor2  avgnumcighome  s_anxiety  t_anxiety  \\\n",
       "patid                                                                    \n",
       "S002-BISH-00001               0.0            1.0       23.0       32.0   \n",
       "S002-BISH-00002               0.0            1.0       58.0       63.0   \n",
       "S002-BISH-00003               0.0            2.5       30.0       52.0   \n",
       "S002-BISH-00004               0.0            2.0       31.0       37.0   \n",
       "S002-BISH-00005               0.0            2.0       26.0       43.0   \n",
       "\n",
       "                 stai_age  height  bmiri  prepregweight  prepregbmi  armcirmm  \n",
       "patid                                                                          \n",
       "S002-BISH-00001     24.15   64.00  21.57         121.25       20.81    245.67  \n",
       "S002-BISH-00002     26.01   64.61  21.57         110.23       18.57    255.33  \n",
       "S002-BISH-00003     17.02   62.61  20.87     -999999.00  -999999.00    228.00  \n",
       "S002-BISH-00004     24.01   61.94  37.30         191.80       35.14    379.00  \n",
       "S002-BISH-00005     22.19   65.38  22.12     -999999.00  -999999.00    263.50  \n",
       "\n",
       "[5 rows x 132 columns]"
      ]
     },
     "execution_count": 22,
     "metadata": {},
     "output_type": "execute_result"
    }
   ],
   "source": [
    "democlinical.head()"
   ]
  },
  {
   "cell_type": "code",
   "execution_count": 23,
   "metadata": {},
   "outputs": [
    {
     "data": {
      "text/plain": [
       "dict_keys(['mental', 'adafppappa', 'adalc', 'adcdrisc', 'addrg', 'adedin', 'adelig', 'adfetalgrowth', 'admh', 'adptsd', 'adsc', 'adscmat', 'adsmk', 'adstai', 'advs'])"
      ]
     },
     "execution_count": 23,
     "metadata": {},
     "output_type": "execute_result"
    }
   ],
   "source": [
    "data.keys()"
   ]
  },
  {
   "cell_type": "code",
   "execution_count": 26,
   "metadata": {},
   "outputs": [],
   "source": [
    "dc_check = data['mental'].\\\n",
    "    join(data['adafppappa'], how='outer').\\\n",
    "    join(data['adalc'], how='outer').\\\n",
    "    join(data['adcdrisc'], how='outer').\\\n",
    "    join(data['addrg'], how='outer').\\\n",
    "    join(data['adedin'], how='outer').\\\n",
    "    join(data['adelig'], how='outer').\\\n",
    "    join(data['adfetalgrowth'], how='outer').\\\n",
    "    join(data['admh'], how='outer').\\\n",
    "    join(data['adptsd'], how='outer').\\\n",
    "    join(data['adsc'], how='outer').\\\n",
    "    join(data['adscmat'], how='outer').\\\n",
    "    join(data['adsmk'], how='outer').\\\n",
    "    join(data['adstai'], how='outer').\\\n",
    "    join(data['advs'], how='outer')"
   ]
  },
  {
   "cell_type": "code",
   "execution_count": 39,
   "metadata": {},
   "outputs": [
    {
     "name": "stdout",
     "output_type": "stream",
     "text": [
      "Equality should sum to: 6925\n"
     ]
    },
    {
     "data": {
      "text/plain": [
       "ssri2           6923\n",
       "antidepress2    6923\n",
       "cantipsych2     6923\n",
       "aantipsych2     6923\n",
       "moodstab2       6923\n",
       "stim2           6923\n",
       "antianx2        6923\n",
       "anticonv2       6923\n",
       "afpmom          1425\n",
       "patid.1         6924\n",
       "dtype: int64"
      ]
     },
     "execution_count": 39,
     "metadata": {},
     "output_type": "execute_result"
    }
   ],
   "source": [
    "equality_check = (dc_check == democlinical).sum()\n",
    "print('Equality should sum to:', len(dc_check))\n",
    "equality_check.head(10)"
   ]
  },
  {
   "cell_type": "code",
   "execution_count": 38,
   "metadata": {},
   "outputs": [
    {
     "data": {
      "text/plain": [
       "ssri2           6923\n",
       "antidepress2    6923\n",
       "cantipsych2     6923\n",
       "aantipsych2     6923\n",
       "moodstab2       6923\n",
       "stim2           6923\n",
       "antianx2        6923\n",
       "anticonv2       6923\n",
       "afpmom          1425\n",
       "patid.1         6924\n",
       "dtype: int64"
      ]
     },
     "execution_count": 38,
     "metadata": {},
     "output_type": "execute_result"
    }
   ],
   "source": [
    "# My guess: equality does not sum to 6925 based on nullity\n",
    "equality_check = (dc_check == democlinical).sum()\n",
    "nullity_check = (6925 - dc_check.isnull().sum())\n",
    "nullity_check.head(10)"
   ]
  },
  {
   "cell_type": "code",
   "execution_count": 42,
   "metadata": {},
   "outputs": [
    {
     "name": "stdout",
     "output_type": "stream",
     "text": [
      "Equality should sum to: 132\n",
      "Test Result: 132\n",
      "If condition met, then the two tables are equal.\n"
     ]
    }
   ],
   "source": [
    "print('Equality should sum to:', len(equality_check))\n",
    "print('Test Result:',(equality_check == nullity_check).sum())\n",
    "\n",
    "print('If condition met, then the two tables are equal.')"
   ]
  },
  {
   "cell_type": "markdown",
   "metadata": {},
   "source": [
    "# Some Scratch Paper\n",
    "**Dec 3, 2009**\n",
    "\n",
    "Here, I'm just looking at set intesections and set difference of PATIDs, getting\n",
    "a feel for things."
   ]
  },
  {
   "cell_type": "code",
   "execution_count": 4,
   "metadata": {},
   "outputs": [],
   "source": [
    "import pandas as pd"
   ]
  },
  {
   "cell_type": "code",
   "execution_count": 43,
   "metadata": {},
   "outputs": [],
   "source": [
    "def compare_patid(\n",
    "    tbl1,\n",
    "    tbl2,\n",
    "    num_diff = False,\n",
    "):\n",
    "    print(f'{tbl1} Record Count:', data[tbl1].__len__())\n",
    "    print(f'{tbl2} Record Count:', data[tbl2].__len__())\n",
    "    print('Intersection:', set(data[tbl1].index).intersection(data[tbl2].index).__len__())\n",
    "    diff_set = set(data[tbl2].index).difference(data[tbl1].index)\n",
    "    if num_diff:\n",
    "        print('tb2\\\\tbl1:', len(diff_set))\n",
    "    else:\n",
    "        print('tb2\\\\tbl1:', diff_set)\n",
    "\n",
    "        \n",
    "def loop_compare_patid(\n",
    "    tbl1,\n",
    "    num_diff = False,\n",
    "    skip = 0,\n",
    "):\n",
    "    tbl2_list = list(data.keys())\n",
    "    tbl2_list.remove(tbl1)\n",
    "    for tbl2 in tbl2_list:\n",
    "        if skip:\n",
    "            skip-=1\n",
    "        else:\n",
    "            compare_patid(tbl1, tbl2, num_diff = num_diff)\n",
    "            print('\\n--------------------------------\\n')"
   ]
  },
  {
   "cell_type": "code",
   "execution_count": 44,
   "metadata": {},
   "outputs": [
    {
     "data": {
      "text/plain": [
       "dict_keys(['mental', 'adafppappa', 'adalc', 'adcdrisc', 'addrg', 'adedin', 'adelig', 'adfetalgrowth', 'admh', 'adptsd', 'adsc', 'adscmat', 'adsmk', 'adstai', 'advs'])"
      ]
     },
     "execution_count": 44,
     "metadata": {},
     "output_type": "execute_result"
    }
   ],
   "source": [
    "data.keys()"
   ]
  },
  {
   "cell_type": "code",
   "execution_count": 45,
   "metadata": {},
   "outputs": [
    {
     "name": "stdout",
     "output_type": "stream",
     "text": [
      "mental Record Count: 6923\n",
      "adafppappa Record Count: 1425\n",
      "Intersection: 1424\n",
      "tb2\\tbl1: {'S002-BISH-01019'}\n",
      "\n",
      "--------------------------------\n",
      "\n",
      "mental Record Count: 6923\n",
      "adalc Record Count: 6924\n",
      "Intersection: 6923\n",
      "tb2\\tbl1: {'S002-BISH-01998'}\n",
      "\n",
      "--------------------------------\n",
      "\n",
      "mental Record Count: 6923\n",
      "adcdrisc Record Count: 1824\n",
      "Intersection: 1823\n",
      "tb2\\tbl1: {'S002-BISH-01998'}\n",
      "\n",
      "--------------------------------\n",
      "\n",
      "mental Record Count: 6923\n",
      "addrg Record Count: 6924\n",
      "Intersection: 6923\n",
      "tb2\\tbl1: {'S002-BISH-01998'}\n",
      "\n",
      "--------------------------------\n",
      "\n",
      "mental Record Count: 6923\n",
      "adedin Record Count: 6588\n",
      "Intersection: 6587\n",
      "tb2\\tbl1: {'S002-BISH-01998'}\n",
      "\n",
      "--------------------------------\n",
      "\n",
      "mental Record Count: 6923\n",
      "adelig Record Count: 6924\n",
      "Intersection: 6923\n",
      "tb2\\tbl1: {'S002-BISH-01998'}\n",
      "\n",
      "--------------------------------\n",
      "\n",
      "mental Record Count: 6923\n",
      "adfetalgrowth Record Count: 6649\n",
      "Intersection: 6648\n",
      "tb2\\tbl1: {'S002-BISH-01998'}\n",
      "\n",
      "--------------------------------\n",
      "\n",
      "mental Record Count: 6923\n",
      "admh Record Count: 6924\n",
      "Intersection: 6923\n",
      "tb2\\tbl1: {'S002-BISH-01998'}\n",
      "\n",
      "--------------------------------\n",
      "\n",
      "mental Record Count: 6923\n",
      "adptsd Record Count: 24\n",
      "Intersection: 24\n",
      "tb2\\tbl1: set()\n",
      "\n",
      "--------------------------------\n",
      "\n",
      "mental Record Count: 6923\n",
      "adsc Record Count: 6874\n",
      "Intersection: 6873\n",
      "tb2\\tbl1: {'S002-BISH-01998'}\n",
      "\n",
      "--------------------------------\n",
      "\n",
      "mental Record Count: 6923\n",
      "adscmat Record Count: 6924\n",
      "Intersection: 6923\n",
      "tb2\\tbl1: {'S002-BISH-01998'}\n",
      "\n",
      "--------------------------------\n",
      "\n",
      "mental Record Count: 6923\n",
      "adsmk Record Count: 6924\n",
      "Intersection: 6923\n",
      "tb2\\tbl1: {'S002-BISH-01998'}\n",
      "\n",
      "--------------------------------\n",
      "\n",
      "mental Record Count: 6923\n",
      "adstai Record Count: 6579\n",
      "Intersection: 6578\n",
      "tb2\\tbl1: {'S002-BISH-01998'}\n",
      "\n",
      "--------------------------------\n",
      "\n",
      "mental Record Count: 6923\n",
      "advs Record Count: 6924\n",
      "Intersection: 6923\n",
      "tb2\\tbl1: {'S002-BISH-01998'}\n",
      "\n",
      "--------------------------------\n",
      "\n"
     ]
    }
   ],
   "source": [
    "loop_compare_patid('mental')"
   ]
  },
  {
   "cell_type": "code",
   "execution_count": 46,
   "metadata": {},
   "outputs": [
    {
     "name": "stdout",
     "output_type": "stream",
     "text": [
      "adafppappa Record Count: 1425\n",
      "adalc Record Count: 6924\n",
      "Intersection: 1424\n",
      "tb2\\tbl1: 5500\n",
      "\n",
      "--------------------------------\n",
      "\n",
      "adafppappa Record Count: 1425\n",
      "adcdrisc Record Count: 1824\n",
      "Intersection: 628\n",
      "tb2\\tbl1: 1196\n",
      "\n",
      "--------------------------------\n",
      "\n",
      "adafppappa Record Count: 1425\n",
      "addrg Record Count: 6924\n",
      "Intersection: 1424\n",
      "tb2\\tbl1: 5500\n",
      "\n",
      "--------------------------------\n",
      "\n",
      "adafppappa Record Count: 1425\n",
      "adedin Record Count: 6588\n",
      "Intersection: 1417\n",
      "tb2\\tbl1: 5171\n",
      "\n",
      "--------------------------------\n",
      "\n",
      "adafppappa Record Count: 1425\n",
      "adelig Record Count: 6924\n",
      "Intersection: 1424\n",
      "tb2\\tbl1: 5500\n",
      "\n",
      "--------------------------------\n",
      "\n",
      "adafppappa Record Count: 1425\n",
      "adfetalgrowth Record Count: 6649\n",
      "Intersection: 1350\n",
      "tb2\\tbl1: 5299\n",
      "\n",
      "--------------------------------\n",
      "\n",
      "adafppappa Record Count: 1425\n",
      "admh Record Count: 6924\n",
      "Intersection: 1424\n",
      "tb2\\tbl1: 5500\n",
      "\n",
      "--------------------------------\n",
      "\n",
      "adafppappa Record Count: 1425\n",
      "adptsd Record Count: 24\n",
      "Intersection: 6\n",
      "tb2\\tbl1: 18\n",
      "\n",
      "--------------------------------\n",
      "\n",
      "adafppappa Record Count: 1425\n",
      "adsc Record Count: 6874\n",
      "Intersection: 1413\n",
      "tb2\\tbl1: 5461\n",
      "\n",
      "--------------------------------\n",
      "\n",
      "adafppappa Record Count: 1425\n",
      "adscmat Record Count: 6924\n",
      "Intersection: 1424\n",
      "tb2\\tbl1: 5500\n",
      "\n",
      "--------------------------------\n",
      "\n",
      "adafppappa Record Count: 1425\n",
      "adsmk Record Count: 6924\n",
      "Intersection: 1424\n",
      "tb2\\tbl1: 5500\n",
      "\n",
      "--------------------------------\n",
      "\n",
      "adafppappa Record Count: 1425\n",
      "adstai Record Count: 6579\n",
      "Intersection: 1416\n",
      "tb2\\tbl1: 5163\n",
      "\n",
      "--------------------------------\n",
      "\n",
      "adafppappa Record Count: 1425\n",
      "advs Record Count: 6924\n",
      "Intersection: 1424\n",
      "tb2\\tbl1: 5500\n",
      "\n",
      "--------------------------------\n",
      "\n"
     ]
    }
   ],
   "source": [
    "loop_compare_patid('adafppappa', num_diff=True, skip=1)"
   ]
  },
  {
   "cell_type": "markdown",
   "metadata": {},
   "source": [
    "<font class=update size=6 style=\"font-weight:bold;\">UPDATE: Final Demographic/Clincal Files and Dictionary</font>\n",
    "\n",
    "<br>\n",
    "<font class=update>\n",
    "Dani has finished preparing the updated data dictionary and data files.  \n",
    "\n",
    "I must tweak the ingestion/processing code to reflect final variable choices, etc.\n",
    "</font>\n",
    "\n",
    "New data dictionary in SharePoint:\n",
    "* EaSi SharePoint Directory: MBH_Maternal-Health/mbh001/DemoMetaClinical_DataDictionary/DataDictionary/\n",
    "* File Name: `mbh001_Dictionary-of-Variable-terms_20191209_V3.xlsx`"
   ]
  },
  {
   "cell_type": "code",
   "execution_count": 2,
   "metadata": {},
   "outputs": [],
   "source": [
    "import pandas as pd"
   ]
  },
  {
   "cell_type": "code",
   "execution_count": null,
   "metadata": {},
   "outputs": [],
   "source": [
    "data = dict()"
   ]
  },
  {
   "cell_type": "code",
   "execution_count": null,
   "metadata": {},
   "outputs": [],
   "source": [
    "# MENTAL\n",
    "# V3 Update: \n",
    "#   * all vars the same\n",
    "#   * a single NaN still exists\n",
    "#  -- NOTE: May have to drop all these vars (they are nearly constant)\n",
    "v3_mental_cols = ['patid',\n",
    "    'aantipsych2','antianx2','anticonv2','antidepress2','cantipsych2',\n",
    "    'moodstab2','ssri2','stim2',]\n",
    "mental = pd.read_csv('../data/raw/Derived Variables of Interest Participants Only.mental_ill_DB.csv',\n",
    "    usecols = v3_mental_cols)\n",
    "mental.fillna(-999999, inplace=True)\n",
    "mental.set_index('patid', inplace=True)\n",
    "data['mental'] = mental"
   ]
  },
  {
   "cell_type": "code",
   "execution_count": 144,
   "metadata": {},
   "outputs": [],
   "source": [
    "# ADAFPPAPPA\n",
    "# V3 Update:  \n",
    "#   * all vars the same\n",
    "#   * Dani fixed missing value representation (-9999.99 --> -999999)\n",
    "#     - no longer need: \n",
    "#       adafppappa.afpmom = adafppappa.afpmom.\\\n",
    "#           map(lambda x: -999999 if x == -9999.99 else x)\n",
    "\n",
    "v3_adalc_cols = ['PATID','AFPMoM']\n",
    "adafppappa = pd.read_csv('../data/raw/adafppappa_DB.csv', usecols = v3_adalc_cols)\n",
    "adafppappa.columns = map(str.lower, adafppappa.columns)\n",
    "adafppappa.set_index('patid', inplace=True)\n",
    "data['adafppappa'] = adafppappa"
   ]
  },
  {
   "cell_type": "code",
   "execution_count": 150,
   "metadata": {},
   "outputs": [],
   "source": [
    "# ADALC \n",
    "# V3 Update: \n",
    "#   * use_cols: range(0,12) --> v3_adalc_vars\n",
    "v3_adalc_vars = ['patid', \n",
    "    'Binge7T12', 'Binge7T22', 'BingeCountT1',\n",
    "    'BingeCountT2', 'DrankAroundLMP2', 'MaxConsDDaysT1', 'MaxConsDDaysT2',\n",
    "    'OneYrPrior6', 'TotalStdDrinksLMP', 'TotalStdDrinksT1',\n",
    "    'TotalStdDrinksT2',]\n",
    "adalc = pd.read_csv('../data/raw/adalc_patid_DB.csv', usecols=v3_adalc_vars)\n",
    "adalc.columns = map(str.lower, adalc.columns)\n",
    "adalc.set_index('patid', inplace=True)\n",
    "data['adalc'] = adalc"
   ]
  },
  {
   "cell_type": "code",
   "execution_count": 152,
   "metadata": {},
   "outputs": [],
   "source": [
    "# ADCDRISC\n",
    "# V3 Update:\n",
    "#   * no longer need to set na_values='#NULL!' in read_csv (Dani fixed file)\n",
    "#     - the file formerly contained on bad value like this; now it doesn't\n",
    "#     - this obviates the need for the adcdrisc.fillna() command as well\n",
    "#   * all vars the same though\n",
    "v3_adcdrisc_cols = ['patid','CDRISC_Raw']\n",
    "adcdrisc = pd.read_csv('../data/raw/adcdrisc_DB.csv', usecols=v3_adcdrisc_cols)\n",
    "adcdrisc.columns = map(str.lower, adcdrisc.columns)\n",
    "adcdrisc.set_index('patid', inplace=True)\n",
    "data['adcdrisc'] = adcdrisc"
   ]
  },
  {
   "cell_type": "code",
   "execution_count": 153,
   "metadata": {},
   "outputs": [],
   "source": [
    "# ADDRG \n",
    "# V3 Update:\n",
    "#   * following vars no longer included from the outset:\n",
    "#     - 'Hair1YrPrior6', 'HairLMP2', 'HairT12', 'HairT22',\n",
    "#       'Hookah1YrPrior6', 'HookahLMP2', 'HookahT12', 'HookahT22',\n",
    "#       'MJ1YrPrior6'\n",
    "#    * this means the \"drop cols\" list is slightly smaller as well\n",
    "#-----\n",
    "# It is essentially necessary to drop: \n",
    "#     hair1yrprior6 (0 nznn), hairlmp2 (0 nznn), hairt12 (0), hairt22 (2)\n",
    "# It is likely necessary to drop: \n",
    "#     otherlmp2 (2 nznn instances)\n",
    "# It might be worth dropping:\n",
    "#     othert12 (14 nznn), othert22 (16), other1yrprior2 (20), methlmp2 (54)\n",
    "# NOTE: nznn := nonzero/nonNull values\n",
    "v3_addrg_cols = [ 'patid',\n",
    "    'Meth1YrPrior6', 'MethLMP2', 'MethT12', 'MethT22',\n",
    "    'MJLMP2', 'MJT12', 'MJT22', 'Other1YrPrior2', \n",
    "    'OtherLMP2', 'OtherT12', 'OtherT22',\n",
    "]\n",
    "addrg = pd.read_csv('../data/raw/addrg_patid_DB.csv', usecols=v3_addrg_cols)\n",
    "addrg.columns = map(str.lower, addrg.columns)\n",
    "addrg_drop=False\n",
    "if addrg_drop:\n",
    "    addrg_drop_cols = ['otherlmp2','othert12','othert22','other1yrprior2','methlmp2']\n",
    "    addrg.drop(addrg_drop_cols, axis=1, inplace=True)\n",
    "addrg.set_index('patid', inplace=True)\n",
    "data['addrg'] = addrg"
   ]
  },
  {
   "cell_type": "code",
   "execution_count": 154,
   "metadata": {},
   "outputs": [],
   "source": [
    "# ADEDIN (merged edit bish)\n",
    "# V3 Update:\n",
    "#   * no updates necessary (same vars, same code)\n",
    "#     - this means that Dani did not find and fix the single NaN in the file\n",
    "#-----------\n",
    "#  -- Do we want to keep the Endinburgh CycleID? (Bill recommneds not to, while\n",
    "#     Dani thinks it can serve as a source of interaction information, e.g., within\n",
    "#     a RF)\n",
    "adedin_merged_edit_bish = pd.read_csv('../data/raw/adedin_merged_edit_bish_DB.csv')\n",
    "adedin_merged_edit_bish.columns = ['patid', 'edinburgh', 'edinburgh_cycle_id']\n",
    "adedin_merged_edit_bish.fillna(-999999, inplace=True)\n",
    "adedin_merged_edit_bish.set_index('patid', inplace=True)\n",
    "data['adedin'] = adedin_merged_edit_bish"
   ]
  },
  {
   "cell_type": "code",
   "execution_count": 155,
   "metadata": {},
   "outputs": [],
   "source": [
    "# ADELIG\n",
    "# V3 Update:\n",
    "#   * Vars: MAT_AGE, RACEAI4, RACENIH7\n",
    "#     - i.e., no hispanic2 var, etc\n",
    "#------\n",
    "v3_adelig_cols = ['patid', 'MAT_AGE', 'RACEAI4', 'RACENIH7']\n",
    "adelig = pd.read_csv('../data/raw/adelig_DB.csv', \n",
    "                     usecols=v3_adelig_cols)\n",
    "adelig.columns = map(str.lower, adelig.columns)\n",
    "adelig.set_index('patid', inplace=True)\n",
    "data['adelig'] = adelig"
   ]
  },
  {
   "cell_type": "code",
   "execution_count": 156,
   "metadata": {},
   "outputs": [],
   "source": [
    "# ADFETALGROWTH\n",
    "# V3 Update:\n",
    "#   * No changes necessary (same vars)\n",
    "v3_adfetalgrowth_cols = ['patid', 'FetusSex', 'DeviationIndex']\n",
    "adfetalgrowth = pd.read_csv('../data/raw/adfetalgrowth_BISHCORRECTED_01.24.19_persex_DB.csv',\n",
    "                           usecols = v3_adfetalgrowth_cols)\n",
    "adfetalgrowth.columns = ['patid', 'fetussex', 'growth_deviation_index']\n",
    "adfetalgrowth.set_index('patid', inplace=True)\n",
    "data['adfetalgrowth'] = adfetalgrowth\n",
    "\n",
    "\n",
    "# ADMH\n",
    "# V3 Update:\n",
    "#   * added final list of vars and use `usecols` parameters in `read_csv`, \n",
    "#     obviating need for dropping any cols\n",
    "#-----------\n",
    "#  -- NOTE:  Each of the var listed below have less than 50 nonZero/nonNull instances (out of nearly 7k records):\n",
    "#       'hxsuid2', 'hxsids2', 'hxsidssuid2', 'hx_baby_cleft2', 'hx_baby_down2',\n",
    "#       'hx_baby_fas2', 'hx_baby_pfas2', 'hx_baby_heart2',\n",
    "#       'hx_baby_hypoxiaencep2', 'hx_baby_iugrsga2', 'hx_baby_retard2',\n",
    "#       'hx_baby_neuraltube2', 'hx_baby_poorweight2', 'hx_baby_shoulder2',\n",
    "#       'sicklecellanemiaprior2', 'apsprior2', 'anxietyprior2',\n",
    "#       'bloodclotprior2', 'cancerprior2', 'connectivetissuedisorderprior2',\n",
    "#       'gdmprior2', 'gdmpriorfp2', 'hyperthyroidprior2', 'hypothyroidprior2',\n",
    "#       'lupusprior2', 'abruptionprior2', 'abruptionpriorfp2',\n",
    "#       'placentapreviaprior2', 'placentapreviapriorfp2', 'ppromprior2',\n",
    "#       'pprompriorfp2', 'raprior2', 'thromboembolicdiseaseprior2'\n",
    "#  -- most of the vars have less than 10% (~700) nznn values\n",
    "#--------\n",
    "# Note that Dani write ConnectiveTissueDisorderPrior2, but the var name in the file\n",
    "#     is actually ConnectivetissuedisorderPrior2 (fewer capitals)\n",
    "v3_admh_cols = ['patid',\n",
    "    'AbruptionPrior2', 'AbruptionPriorFP2', 'ANEMIA3', 'AnxietyPrior2',\n",
    "    'APSPrior2', 'BloodClotPrior2', 'CancerPrior2', 'CesareanPrior2', \n",
    "    'ConnectivetissuedisorderPrior2', 'DepressionPrior2', 'DiabetesPrior2',\n",
    "    'EpilepsyPrior2', 'GDMPrior2', 'GDMPriorFP2', 'HeartDisPrior2',\n",
    "    'HepatitisPrior2', 'HTNNotPregPrior2', 'HTNPregPrior2', 'HTNPregPriorFP2',\n",
    "    'HX_Baby_Cleft2', 'HX_Baby_Down2', 'HX_Baby_fas2', 'HX_Baby_Heart2', \n",
    "    'HX_Baby_HypoxiaEncep2', 'HX_Baby_IUGRSGA2', 'HX_Baby_Jaundice2',\n",
    "    'HX_Baby_NeuralTube2', 'HX_Baby_NICU2', 'HX_Baby_pfas2', 'HX_Baby_PoorWeight2',\n",
    "    'HX_Baby_Retard2', 'HX_Baby_Shoulder2', 'HXAB2', 'HXFT2', 'HXID2', \n",
    "    'HXLB2', 'HXMC2', 'HXNT2', 'HXPT2', 'HXSB2', 'HXSIDS2', 'HXSIDSSUID2',\n",
    "    'HXSUID2', 'HyperthyroidPrior2', 'HypothyroidPrior2', 'LupusPrior2',\n",
    "    'PlacentaPreviaPrior2', 'PlacentaPreviaPriorFP2', 'PPROMPrior2',\n",
    "    'PPROMPriorFP2', 'RAPrior2', 'RenalDisPrior2', 'SickleCellAnemiaPrior2',\n",
    "    'tbprior2', 'ThromboembolicDiseasePrior2']\n",
    "admh = pd.read_csv('../data/raw/admh_DB.csv', usecols=v3_admh_cols)\n",
    "admh.columns = map(str.lower, admh.columns)\n",
    "admh.set_index('patid', inplace=True)\n",
    "data['admh'] = admh\n",
    "\n",
    "\n",
    "# ADPTSD\n",
    "# V3 Update:\n",
    "#   * cols changed a bit\n",
    "#   * Dani removed all non-BISH patients from file, so it is no\n",
    "#     longer necessary to do so here\n",
    "#   ** removed corresponding code:\n",
    "#         bish_index = adptsd.patid.str.\\\n",
    "#             split('-').map(lambda x: x[1]) == 'BISH'\n",
    "#         adptsd = adptsd[bish_index].reset_index(drop=True).dropna()\n",
    "#----------------\n",
    "#  -- MY REC:  DO NOT USE THIS STUFF AT ALL (here just in case we decide to)\n",
    "v3_adptsd_cols = ['patid',\n",
    "    'HTQ_Total_Raw_CID15-20', 'LEC_Events_CID15-20', 'LEC_Exp_CID15-20']\n",
    "adptsd = pd.read_csv('../data/raw/adptsd_DB.csv', usecols=v3_adptsd_cols)\n",
    "adptsd.set_index('patid', inplace=True)\n",
    "data['adptsd'] = adptsd\n",
    "\n",
    "\n",
    "# ADSC\n",
    "# V3 Update:\n",
    "#   * a few additional targets were added (Cesarean2, DLVRY_DT, DLVRYGA_DYS_SBadj)\n",
    "#   * code: twin removal is no longer done here; turns out that the outer\n",
    "#       joins we do later just add them back in.  Moral: remove twins after all\n",
    "#       outer joins take place.\n",
    "#-----------------\n",
    "#  -- THIS HAS 50 DUPLICATED PATIDs due to twins...\n",
    "#  -- Udi dropped these...and for the time being, I suggest we do the same, since\n",
    "#     it basically serves as doubling up data points (there is no twin-tuned sensor\n",
    "#     data for example;  the only var that might change is gender).\n",
    "#  -- NOTE: I added a few potential target vars that Dani didn't include in\n",
    "#     her greenlit vars, namely: 'DLVRYGA_DYS', 'Preterm2', 'DLVRYBefore34Wks', \n",
    "#     and 'DLVRYBefore28wks'\n",
    "#------------------------\n",
    "# NOTE: When modeling, make sure to remove all targets from input set:\n",
    "#     'LaborType_SpontaneousOrAugmented_DB', 'Cesarean2', 'DLVRY_DT', \n",
    "#     'DLVRYGA_DYS_SBadj', 'DLVRYBefore28wks', 'DLVRYBefore34Wks', \n",
    "#     'DLVRYGA_DYS'\n",
    "#------------------------\n",
    "# NOTE: in Dictionary, Dani lists TWIN2 and GENDER2; in the table these\n",
    "#     are twin2 and gender2 (lowercase)\n",
    "#------------------------\n",
    "# IMPORTANT: TWINS must be dropped after all tables are OUTER joined\n",
    "v3_adsc_cols = ['patid',\n",
    "    'gender2', 'twin2', 'Cesarean2', 'DLVRY_DT', 'DLVRYBefore28wks',\n",
    "    'DLVRYBefore34Wks', 'DLVRYGA_DYS', 'DLVRYGA_DYS_SBadj']\n",
    "adsc = pd.read_csv('../data/raw/adsc_DB.csv', usecols=v3_adsc_cols)\n",
    "adsc.columns = map(str.lower, adsc.columns)\n",
    "adsc.set_index('patid', inplace=True)\n",
    "data['adsc'] = adsc\n",
    "\n",
    "\n",
    "# ADSCMAT\n",
    "# V3 Update:\n",
    "#   * Removed: AugmentedLabor2, CesareanNoLabor2, InducedLabor2\n",
    "#   * Added: LaborType_SpontaneousOrAugmented_DB\n",
    "#   * Dani fixed missing value representation (string percentages, \"-9999.99%\",\n",
    "#     to integer -999999), so no longer need to do so here\n",
    "#   **Removed corresponding code:\n",
    "#         fix = list(set(v3_adscmat_cols).difference(['patid']))\n",
    "#         adscmat[fix] = adscmat[fix].\\\n",
    "#             applymap(lambda x: x.split('.')[0]).astype(int).\\\n",
    "#             applymap(lambda x: int(x/100) if x < 0 else x)\n",
    "#------------------------\n",
    "# NOTE: When modeling, make sure to remove all targets from input set:\n",
    "#     'LaborType_SpontaneousOrAugmented_DB', 'Cesarean2', 'DLVRY_DT', \n",
    "#     'DLVRYGA_DYS_SBadj', 'DLVRYBefore28wks', 'DLVRYBefore34Wks', \n",
    "#     'DLVRYGA_DYS'\n",
    "#------------------------\n",
    "# NOTE: what Dani calls 'NULLIPAROUS2' is listed as 'Nulliparous2' \n",
    "#       in the CSV table\n",
    "v3_adscmat_cols = [ 'patid',\n",
    "    'LaborType_SpontaneousOrAugmented_DB',\n",
    "    'EDUC_COMBOHS4', 'EMPL', 'EMPL_COMB4', 'Fertility2',\n",
    "    'GrossIncome7', 'Nulliparous2', 'PARITY', 'PreCareFirstGA',\n",
    "    'PreCareT1_2', 'ToiletWater2',\n",
    "]\n",
    "adscmat = pd.read_csv('../data/raw/adscmat_DB.csv', usecols=v3_adscmat_cols)\n",
    "adscmat.columns = map(str.lower, adscmat.columns)\n",
    "adscmat.set_index('patid', inplace=True)\n",
    "data['adscmat'] = adscmat\n",
    "\n",
    "\n",
    "# ADSMK \n",
    "# V3 Update:\n",
    "#   * No changes necessary\n",
    "v3_adsmk_cols = ['patid','AvgNumCigHome']\n",
    "adsmk = pd.read_csv('../data/raw/adsmk_patid_DB.csv', \n",
    "                    usecols=v3_adsmk_cols)\n",
    "adsmk.columns = map(str.lower, adsmk.columns)\n",
    "adsmk.set_index('patid', inplace=True)\n",
    "data['adsmk'] = adsmk\n",
    "\n",
    "\n",
    "# ADSTAI\n",
    "# V3 Update:\n",
    "#   * no changes necessary\n",
    "#----------------\n",
    "#  -- Do we want to keep STAI_AGE (mother's age at time of test)?  We already have\n",
    "#     an age variable (MAT_AGE from adelig_DB.csv).  Assuming this test is administered\n",
    "#     within several months of when MAT_AGE was recorded, it would be fairly redundant\n",
    "#     info (even up to a year in separation, if you ask me).\n",
    "#----------------\n",
    "#  -- UPDATE:  we drop STAI_AGE below, when we join all tables.\n",
    "adstai = pd.read_csv('../data/raw/adstai_DB.csv', \n",
    "                     usecols=['patid','S_Anxiety','STAI_AGE','T_Anxiety'])\n",
    "adstai.columns = map(str.lower, adstai.columns)\n",
    "adstai.set_index('patid', inplace=True)\n",
    "data['adstai'] = adstai\n",
    "\n",
    "\n",
    "# ADVS\n",
    "# V3 Update:\n",
    "#   * no changes necessary\n",
    "#--------------------\n",
    "# NOTE: what Dani calls \"PrePregBMI\" in the data dictionary is actually\n",
    "#     \"PREPREGBMI\" in the CSV table\n",
    "v3_advs_cols = ['patid','ARMCIRMM','BMIRI','HEIGHT','PREPREGBMI','PREPREGWEIGHT']\n",
    "advs = pd.read_csv('../data/raw/advs_DB.csv', \n",
    "                   usecols=v3_advs_cols)\n",
    "advs.columns = map(str.lower, advs.columns)\n",
    "advs.set_index('patid', inplace=True)\n",
    "data['advs'] = advs\n",
    "\n"
   ]
  },
  {
   "cell_type": "code",
   "execution_count": 175,
   "metadata": {},
   "outputs": [],
   "source": [
    "#--------------------\n",
    "# V3 Update:  \n",
    "#  * this is now where we remove twins\n",
    "#  * we choose one of two maternal age vars here, and\n",
    "#    one of two fetal sex vars\n",
    "#-------------------------\n",
    "def join_all_tables(\n",
    "    sex='gender2',\n",
    "    age='mat_age',\n",
    "):\n",
    "    tbl1 = pd.DataFrame()\n",
    "    for tbl2 in data.keys():\n",
    "        tbl1 = tbl1.join(data[tbl2], how='outer')\n",
    "    tbl1.drop(tbl1.index[tbl1.twin2 > 0], inplace=True)\n",
    "    tbl1.drop('twin2', axis=1, inplace=True)\n",
    "    if sex.lower() != 'fetussex':\n",
    "        # * we have two fetal sex vars, gender2 and fetussex\n",
    "        # * gender2 seems to be more populated and better quality,\n",
    "        #   so we drop fetussex by default\n",
    "        tbl1.drop('fetussex', axis=1, inplace=True)\n",
    "    if age.lower() != 'stai_age':\n",
    "        # * we have two maternal age vars, mat_age and stai_age\n",
    "        # * both are basically the same, except taken a few months\n",
    "        #   a part (and stai_age is fractional while mat_age only\n",
    "        #   integer)\n",
    "        # * we use mat_age by default\n",
    "        tbl1.drop('stai_age', axis=1, inplace=True)\n",
    "    tbl1.fillna(-999999, inplace=True)\n",
    "    return tbl1\n",
    "      \n",
    "#---------------------------------------------------------------------\n",
    "# NOTE: When modeling, make sure to remove all targets from input set:\n",
    "#     'LaborType_SpontaneousOrAugmented_DB', 'Cesarean2', 'DLVRY_DT', \n",
    "#     'DLVRYGA_DYS_SBadj', 'DLVRYBefore28wks', 'DLVRYBefore34Wks', \n",
    "#     'DLVRYGA_DYS'\n",
    "#---------------------------------------------------------------------"
   ]
  },
  {
   "cell_type": "code",
   "execution_count": 176,
   "metadata": {},
   "outputs": [],
   "source": [
    "democlinical = join_all_tables()"
   ]
  },
  {
   "cell_type": "code",
   "execution_count": 177,
   "metadata": {},
   "outputs": [
    {
     "data": {
      "text/plain": [
       "(6875, 122)"
      ]
     },
     "execution_count": 177,
     "metadata": {},
     "output_type": "execute_result"
    }
   ],
   "source": [
    "democlinical.shape"
   ]
  },
  {
   "cell_type": "code",
   "execution_count": 178,
   "metadata": {},
   "outputs": [
    {
     "data": {
      "text/html": [
       "<div>\n",
       "<style scoped>\n",
       "    .dataframe tbody tr th:only-of-type {\n",
       "        vertical-align: middle;\n",
       "    }\n",
       "\n",
       "    .dataframe tbody tr th {\n",
       "        vertical-align: top;\n",
       "    }\n",
       "\n",
       "    .dataframe thead th {\n",
       "        text-align: right;\n",
       "    }\n",
       "</style>\n",
       "<table border=\"1\" class=\"dataframe\">\n",
       "  <thead>\n",
       "    <tr style=\"text-align: right;\">\n",
       "      <th></th>\n",
       "      <th>ssri2</th>\n",
       "      <th>antidepress2</th>\n",
       "      <th>cantipsych2</th>\n",
       "      <th>aantipsych2</th>\n",
       "      <th>moodstab2</th>\n",
       "      <th>stim2</th>\n",
       "      <th>antianx2</th>\n",
       "      <th>anticonv2</th>\n",
       "      <th>afpmom</th>\n",
       "      <th>oneyrprior6</th>\n",
       "      <th>...</th>\n",
       "      <th>nulliparous2</th>\n",
       "      <th>labortype_spontaneousoraugmented_db</th>\n",
       "      <th>avgnumcighome</th>\n",
       "      <th>s_anxiety</th>\n",
       "      <th>t_anxiety</th>\n",
       "      <th>height</th>\n",
       "      <th>bmiri</th>\n",
       "      <th>prepregweight</th>\n",
       "      <th>prepregbmi</th>\n",
       "      <th>armcirmm</th>\n",
       "    </tr>\n",
       "    <tr>\n",
       "      <th>patid</th>\n",
       "      <th></th>\n",
       "      <th></th>\n",
       "      <th></th>\n",
       "      <th></th>\n",
       "      <th></th>\n",
       "      <th></th>\n",
       "      <th></th>\n",
       "      <th></th>\n",
       "      <th></th>\n",
       "      <th></th>\n",
       "      <th></th>\n",
       "      <th></th>\n",
       "      <th></th>\n",
       "      <th></th>\n",
       "      <th></th>\n",
       "      <th></th>\n",
       "      <th></th>\n",
       "      <th></th>\n",
       "      <th></th>\n",
       "      <th></th>\n",
       "      <th></th>\n",
       "    </tr>\n",
       "  </thead>\n",
       "  <tbody>\n",
       "    <tr>\n",
       "      <th>S002-BISH-00001</th>\n",
       "      <td>0.0</td>\n",
       "      <td>0.0</td>\n",
       "      <td>0.0</td>\n",
       "      <td>0.0</td>\n",
       "      <td>0.0</td>\n",
       "      <td>0.0</td>\n",
       "      <td>0.0</td>\n",
       "      <td>0.0</td>\n",
       "      <td>-999999.00</td>\n",
       "      <td>2.0</td>\n",
       "      <td>...</td>\n",
       "      <td>0.0</td>\n",
       "      <td>1.0</td>\n",
       "      <td>1.0</td>\n",
       "      <td>23.0</td>\n",
       "      <td>32.0</td>\n",
       "      <td>64.00</td>\n",
       "      <td>21.57</td>\n",
       "      <td>121.25</td>\n",
       "      <td>20.81</td>\n",
       "      <td>245.67</td>\n",
       "    </tr>\n",
       "    <tr>\n",
       "      <th>S002-BISH-00002</th>\n",
       "      <td>0.0</td>\n",
       "      <td>0.0</td>\n",
       "      <td>0.0</td>\n",
       "      <td>0.0</td>\n",
       "      <td>0.0</td>\n",
       "      <td>0.0</td>\n",
       "      <td>0.0</td>\n",
       "      <td>0.0</td>\n",
       "      <td>1.17</td>\n",
       "      <td>2.0</td>\n",
       "      <td>...</td>\n",
       "      <td>0.0</td>\n",
       "      <td>1.0</td>\n",
       "      <td>1.0</td>\n",
       "      <td>58.0</td>\n",
       "      <td>63.0</td>\n",
       "      <td>64.61</td>\n",
       "      <td>21.57</td>\n",
       "      <td>110.23</td>\n",
       "      <td>18.57</td>\n",
       "      <td>255.33</td>\n",
       "    </tr>\n",
       "    <tr>\n",
       "      <th>S002-BISH-00003</th>\n",
       "      <td>0.0</td>\n",
       "      <td>0.0</td>\n",
       "      <td>0.0</td>\n",
       "      <td>0.0</td>\n",
       "      <td>0.0</td>\n",
       "      <td>0.0</td>\n",
       "      <td>0.0</td>\n",
       "      <td>0.0</td>\n",
       "      <td>-999999.00</td>\n",
       "      <td>1.0</td>\n",
       "      <td>...</td>\n",
       "      <td>1.0</td>\n",
       "      <td>1.0</td>\n",
       "      <td>2.5</td>\n",
       "      <td>30.0</td>\n",
       "      <td>52.0</td>\n",
       "      <td>62.61</td>\n",
       "      <td>20.87</td>\n",
       "      <td>-999999.00</td>\n",
       "      <td>-999999.00</td>\n",
       "      <td>228.00</td>\n",
       "    </tr>\n",
       "    <tr>\n",
       "      <th>S002-BISH-00004</th>\n",
       "      <td>0.0</td>\n",
       "      <td>0.0</td>\n",
       "      <td>0.0</td>\n",
       "      <td>0.0</td>\n",
       "      <td>0.0</td>\n",
       "      <td>0.0</td>\n",
       "      <td>0.0</td>\n",
       "      <td>0.0</td>\n",
       "      <td>-999999.00</td>\n",
       "      <td>1.0</td>\n",
       "      <td>...</td>\n",
       "      <td>0.0</td>\n",
       "      <td>1.0</td>\n",
       "      <td>2.0</td>\n",
       "      <td>31.0</td>\n",
       "      <td>37.0</td>\n",
       "      <td>61.94</td>\n",
       "      <td>37.30</td>\n",
       "      <td>191.80</td>\n",
       "      <td>35.14</td>\n",
       "      <td>379.00</td>\n",
       "    </tr>\n",
       "    <tr>\n",
       "      <th>S002-BISH-00005</th>\n",
       "      <td>0.0</td>\n",
       "      <td>0.0</td>\n",
       "      <td>0.0</td>\n",
       "      <td>0.0</td>\n",
       "      <td>0.0</td>\n",
       "      <td>0.0</td>\n",
       "      <td>0.0</td>\n",
       "      <td>0.0</td>\n",
       "      <td>-999999.00</td>\n",
       "      <td>-999999.0</td>\n",
       "      <td>...</td>\n",
       "      <td>0.0</td>\n",
       "      <td>1.0</td>\n",
       "      <td>2.0</td>\n",
       "      <td>26.0</td>\n",
       "      <td>43.0</td>\n",
       "      <td>65.38</td>\n",
       "      <td>22.12</td>\n",
       "      <td>-999999.00</td>\n",
       "      <td>-999999.00</td>\n",
       "      <td>263.50</td>\n",
       "    </tr>\n",
       "  </tbody>\n",
       "</table>\n",
       "<p>5 rows × 122 columns</p>\n",
       "</div>"
      ],
      "text/plain": [
       "                 ssri2  antidepress2  cantipsych2  aantipsych2  moodstab2  \\\n",
       "patid                                                                       \n",
       "S002-BISH-00001    0.0           0.0          0.0          0.0        0.0   \n",
       "S002-BISH-00002    0.0           0.0          0.0          0.0        0.0   \n",
       "S002-BISH-00003    0.0           0.0          0.0          0.0        0.0   \n",
       "S002-BISH-00004    0.0           0.0          0.0          0.0        0.0   \n",
       "S002-BISH-00005    0.0           0.0          0.0          0.0        0.0   \n",
       "\n",
       "                 stim2  antianx2  anticonv2     afpmom  oneyrprior6  ...  \\\n",
       "patid                                                                ...   \n",
       "S002-BISH-00001    0.0       0.0        0.0 -999999.00          2.0  ...   \n",
       "S002-BISH-00002    0.0       0.0        0.0       1.17          2.0  ...   \n",
       "S002-BISH-00003    0.0       0.0        0.0 -999999.00          1.0  ...   \n",
       "S002-BISH-00004    0.0       0.0        0.0 -999999.00          1.0  ...   \n",
       "S002-BISH-00005    0.0       0.0        0.0 -999999.00    -999999.0  ...   \n",
       "\n",
       "                 nulliparous2  labortype_spontaneousoraugmented_db  \\\n",
       "patid                                                                \n",
       "S002-BISH-00001           0.0                                  1.0   \n",
       "S002-BISH-00002           0.0                                  1.0   \n",
       "S002-BISH-00003           1.0                                  1.0   \n",
       "S002-BISH-00004           0.0                                  1.0   \n",
       "S002-BISH-00005           0.0                                  1.0   \n",
       "\n",
       "                 avgnumcighome  s_anxiety  t_anxiety  height  bmiri  \\\n",
       "patid                                                                 \n",
       "S002-BISH-00001            1.0       23.0       32.0   64.00  21.57   \n",
       "S002-BISH-00002            1.0       58.0       63.0   64.61  21.57   \n",
       "S002-BISH-00003            2.5       30.0       52.0   62.61  20.87   \n",
       "S002-BISH-00004            2.0       31.0       37.0   61.94  37.30   \n",
       "S002-BISH-00005            2.0       26.0       43.0   65.38  22.12   \n",
       "\n",
       "                 prepregweight  prepregbmi  armcirmm  \n",
       "patid                                                 \n",
       "S002-BISH-00001         121.25       20.81    245.67  \n",
       "S002-BISH-00002         110.23       18.57    255.33  \n",
       "S002-BISH-00003     -999999.00  -999999.00    228.00  \n",
       "S002-BISH-00004         191.80       35.14    379.00  \n",
       "S002-BISH-00005     -999999.00  -999999.00    263.50  \n",
       "\n",
       "[5 rows x 122 columns]"
      ]
     },
     "execution_count": 178,
     "metadata": {},
     "output_type": "execute_result"
    }
   ],
   "source": [
    "democlinical.fillna(-999999).head()"
   ]
  },
  {
   "cell_type": "code",
   "execution_count": 180,
   "metadata": {},
   "outputs": [],
   "source": [
    "democlinical.to_csv('../data/interim/democlinical_20191210_KU.csv')"
   ]
  },
  {
   "cell_type": "markdown",
   "metadata": {},
   "source": []
  }
 ],
 "metadata": {
  "kernelspec": {
   "display_name": "Python 3",
   "language": "python",
   "name": "python3"
  },
  "language_info": {
   "codemirror_mode": {
    "name": "ipython",
    "version": 3
   },
   "file_extension": ".py",
   "mimetype": "text/x-python",
   "name": "python",
   "nbconvert_exporter": "python",
   "pygments_lexer": "ipython3",
   "version": "3.7.2"
  }
 },
 "nbformat": 4,
 "nbformat_minor": 2
}
