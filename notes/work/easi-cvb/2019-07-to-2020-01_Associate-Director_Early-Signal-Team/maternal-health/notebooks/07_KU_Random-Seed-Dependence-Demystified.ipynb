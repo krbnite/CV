{
 "cells": [
  {
   "cell_type": "code",
   "execution_count": null,
   "metadata": {},
   "outputs": [],
   "source": []
  },
  {
   "cell_type": "code",
   "execution_count": null,
   "metadata": {},
   "outputs": [],
   "source": []
  },
  {
   "cell_type": "code",
   "execution_count": 1,
   "metadata": {},
   "outputs": [
    {
     "name": "stderr",
     "output_type": "stream",
     "text": [
      "Using TensorFlow backend.\n",
      "/Users/kevinurban/miniconda3/lib/python3.7/site-packages/tensorflow/python/framework/dtypes.py:526: FutureWarning: Passing (type, 1) or '1type' as a synonym of type is deprecated; in a future version of numpy, it will be understood as (type, (1,)) / '(1,)type'.\n",
      "  _np_qint8 = np.dtype([(\"qint8\", np.int8, 1)])\n",
      "/Users/kevinurban/miniconda3/lib/python3.7/site-packages/tensorflow/python/framework/dtypes.py:527: FutureWarning: Passing (type, 1) or '1type' as a synonym of type is deprecated; in a future version of numpy, it will be understood as (type, (1,)) / '(1,)type'.\n",
      "  _np_quint8 = np.dtype([(\"quint8\", np.uint8, 1)])\n",
      "/Users/kevinurban/miniconda3/lib/python3.7/site-packages/tensorflow/python/framework/dtypes.py:528: FutureWarning: Passing (type, 1) or '1type' as a synonym of type is deprecated; in a future version of numpy, it will be understood as (type, (1,)) / '(1,)type'.\n",
      "  _np_qint16 = np.dtype([(\"qint16\", np.int16, 1)])\n",
      "/Users/kevinurban/miniconda3/lib/python3.7/site-packages/tensorflow/python/framework/dtypes.py:529: FutureWarning: Passing (type, 1) or '1type' as a synonym of type is deprecated; in a future version of numpy, it will be understood as (type, (1,)) / '(1,)type'.\n",
      "  _np_quint16 = np.dtype([(\"quint16\", np.uint16, 1)])\n",
      "/Users/kevinurban/miniconda3/lib/python3.7/site-packages/tensorflow/python/framework/dtypes.py:530: FutureWarning: Passing (type, 1) or '1type' as a synonym of type is deprecated; in a future version of numpy, it will be understood as (type, (1,)) / '(1,)type'.\n",
      "  _np_qint32 = np.dtype([(\"qint32\", np.int32, 1)])\n",
      "/Users/kevinurban/miniconda3/lib/python3.7/site-packages/tensorflow/python/framework/dtypes.py:535: FutureWarning: Passing (type, 1) or '1type' as a synonym of type is deprecated; in a future version of numpy, it will be understood as (type, (1,)) / '(1,)type'.\n",
      "  np_resource = np.dtype([(\"resource\", np.ubyte, 1)])\n"
     ]
    }
   ],
   "source": [
    "import pandas as pd \n",
    "import numpy as np\n",
    "\n",
    "# Processing\n",
    "from imblearn.over_sampling import SMOTE, ADASYN, SMOTENC\n",
    "from sklearn.model_selection import train_test_split\n",
    "\n",
    "# Models\n",
    "from sklearn.ensemble import RandomForestRegressor, RandomForestClassifier\n",
    "from sklearn.linear_model import Lasso, ElasticNet, LogisticRegression\n",
    "\n",
    "# Merics\n",
    "from sklearn.metrics import mean_absolute_error, mean_squared_error, r2_score\n",
    "from sklearn.metrics import auc, roc_auc_score, precision_score, average_precision_score, \\\n",
    "    accuracy_score, balanced_accuracy_score, recall_score, confusion_matrix\n",
    "from scipy.stats import pearsonr, spearmanr\n",
    "\n",
    "# Viz\n",
    "from matplotlib import pyplot as plt\n",
    "%matplotlib inline"
   ]
  },
  {
   "cell_type": "markdown",
   "metadata": {},
   "source": [
    "# Create the Data"
   ]
  },
  {
   "cell_type": "code",
   "execution_count": 2,
   "metadata": {},
   "outputs": [],
   "source": [
    "target_cols = [\n",
    "    'adscmat_labortype_spontaneousoraugmented_db', \n",
    "    'adsc_dlvry_dt', \n",
    "    'adsc_dlvrybefore28wks', \n",
    "    'adsc_dlvrybefore34wks', \n",
    "    'adsc_dlvryga_dys', \n",
    "    'adsc_dlvryga_dys_sbadj']\n",
    "\n",
    "# Get Full Dataset\n",
    "dff = pd.read_csv('../data/processed/full_set_v4_20200110_KU.csv')\n",
    "\n",
    "# Set PatId Index\n",
    "dff.set_index('patid', inplace=True)\n",
    "\n",
    "# Remove Cesareans/Inductions\n",
    "dff.query('adscmat_labortype_spontaneousoraugmented_db == 1', inplace=True)\n",
    "\n",
    "# Remove records w/ GA@Birth < 25 wks (168 days is last day of week 24, so let's do 170 for clean cut off)\n",
    "dff.query('adsc_dlvryga_dys >= 170', inplace=True)\n",
    "\n",
    "# NEW: Remove records w/ GA@Recruitment > 25 weeks\n",
    "dff.query('adelig_ccga <= 170', inplace=True)\n",
    "dff.drop('adelig_ccga', axis=1, inplace=True)\n",
    "\n",
    "\n",
    "# Feature Subsets\n",
    "#  -- Sensor Cols:       Monica and Toitu Cols (usually; we dropped Monica above)\n",
    "#  -- Toitu Cols:        Toitu Cols\n",
    "#  -- Toitu F1 Cols:     Toitu F1 Cols\n",
    "#  -- Toitu F1 Pwr Cols: Toitu F1 Power Cols (band21, band31, band41)\n",
    "democlinical_cols = [col for col in dff.columns if 'sensor' not in col]\n",
    "sensor_cols = [col for col in dff.columns if 'sensor' in col]\n",
    "monica_cols = [col for col in sensor_cols if 'mon' in col]\n",
    "toitu_cols = [col for col in sensor_cols if 'toi' in col]\n",
    "toitu_f1_cols = [col for col in toitu_cols if 'f1' in col]\n",
    "toitu_f1_pwr_cols = [col for col in toitu_f1_cols if 'pwr' in col]\n",
    "toitu_f1_orthog_pwr_cols = [col for col in toitu_f1_pwr_cols if '41' not in col]\n",
    "toitu_f3_cols = [col for col in toitu_cols if 'f3' in col]\n",
    "toitu_f3_pwr_cols = [col for col in toitu_f3_cols if 'pwr' in col]\n",
    "\n",
    "\n",
    "# NOTE: We are simply dropping all Monica Cols for this analysis\n",
    "#rmssd_data_quality = [col for col in monica_cols \n",
    "#                     if 'rwaves' in col or 'perc' in col or 'epoch' in col]\n",
    "#dff.drop(rmssd_data_quality, axis=1, inplace=True)\n",
    "dff.drop(monica_cols, axis=1, inplace=True)\n",
    "\n",
    "\n",
    "# Patient Subsets\n",
    "#  -- Toitu F1 (906): patients with all 8 Toitu F1 vars\n",
    "#  -- Toitu F1 Pwr (1853):  patients with all 3 Toitu F1 Power vars\n",
    "#  -- Toitu F1 Orthog Power (1853):  patients with power bands 21 and 31\n",
    "#  -- Toitu F1F3 (389): patients with all F1 and F3 vars\n",
    "#  -- Toitu F1F3 Pwr (389):  patients with all F1 and F3 Power vars\n",
    "toitu_f1_population = \\\n",
    "    dff[toitu_f1_cols].replace(-999999,np.nan).isnull().sum(axis=1).map(lambda x: x==0)\n",
    "toitu_f1_pwr_population = \\\n",
    "    dff[toitu_f1_pwr_cols].replace(-999999,np.nan).isnull().sum(axis=1).map(lambda x: x==0)\n",
    "toitu_f1_orthog_pwr_population = \\\n",
    "    dff[toitu_f1_orthog_pwr_cols].replace(-999999,np.nan).isnull().sum(axis=1).map(lambda x: x==0)\n",
    "toitu_f1f3_population = \\\n",
    "    dff[toitu_f1_cols+toitu_f3_cols].replace(-999999,np.nan).isnull().sum(axis=1).map(lambda x: x==0)\n",
    "toitu_f1f3_pwr_population = \\\n",
    "    dff[toitu_f1_cols+toitu_f3_cols].replace(-999999,np.nan).isnull().sum(axis=1).map(lambda x: x==0)\n",
    "\n",
    "\n",
    "# Data Subsets (rows_cols_df)\n",
    "##1\n",
    "toif1_demo_df = dff.copy().loc[toitu_f1_pwr_population, democlinical_cols]\n",
    "##2\n",
    "toif1pwr_toif1pwr_df = dff.copy().loc[toitu_f1_pwr_population, target_cols + toitu_f1_pwr_cols]\n",
    "##3\n",
    "toif1pwr_demotoif1pwr_df = dff.copy().\\\n",
    "    loc[toitu_f1_pwr_population, democlinical_cols + toitu_f1_pwr_cols]\n",
    "\n",
    "\n",
    "### EXTRAS: Only worth checking out if 3 pwr cols do well\n",
    "toif1orthog_toif1orthog_df = dff.copy().\\\n",
    "    loc[toitu_f1_orthog_pwr_population, target_cols + toitu_f1_orthog_pwr_cols]\n",
    "toif1orthog_demotoif1orthog_df = dff.copy().\\\n",
    "    loc[toitu_f1_orthog_pwr_population, democlinical_cols + toitu_f1_orthog_pwr_cols]\n",
    "\n",
    "target_cols = [\n",
    "    'adscmat_labortype_spontaneousoraugmented_db', \n",
    "    'adsc_dlvry_dt', \n",
    "    'adsc_dlvrybefore28wks', \n",
    "    'adsc_dlvrybefore34wks', \n",
    "    'adsc_dlvryga_dys', \n",
    "    'adsc_dlvryga_dys_sbadj'\n",
    "]"
   ]
  },
  {
   "cell_type": "markdown",
   "metadata": {},
   "source": [
    "# Experiments\n",
    "\n",
    "Ok, make this all more deterministic...\n",
    "\n",
    "* Add `random_state` to logistic regression and pass it the seed that everything\n",
    "else gets passed\n",
    "* Find a seed that produces AUC 0.99\n",
    "* Find another seed that produces AUC 0.83\n",
    "\n",
    "# Sanity Check:  Test Seed 83 (0.5 AUC?)\n",
    "First thing I want to do is make sure I really have all the `random_state` instances\n",
    "covered throughout the code.  If I do, then `seed=83` should result in `0.5 AUC`."
   ]
  },
  {
   "cell_type": "code",
   "execution_count": 4,
   "metadata": {},
   "outputs": [
    {
     "name": "stderr",
     "output_type": "stream",
     "text": [
      "/Users/kevinurban/miniconda3/lib/python3.7/site-packages/scipy/sparse/lil.py:512: FutureWarning: future versions will not create a writeable array from broadcast_array. Set the writable flag explicitly to avoid this warning.\n",
      "  if not i.flags.writeable or i.dtype not in (np.int32, np.int64):\n",
      "/Users/kevinurban/miniconda3/lib/python3.7/site-packages/scipy/sparse/lil.py:514: FutureWarning: future versions will not create a writeable array from broadcast_array. Set the writable flag explicitly to avoid this warning.\n",
      "  if not j.flags.writeable or j.dtype not in (np.int32, np.int64):\n",
      "/Users/kevinurban/miniconda3/lib/python3.7/site-packages/scipy/sparse/lil.py:518: FutureWarning: future versions will not create a writeable array from broadcast_array. Set the writable flag explicitly to avoid this warning.\n",
      "  if not x.flags.writeable:\n"
     ]
    },
    {
     "name": "stdout",
     "output_type": "stream",
     "text": [
      "AUC: 0.4972875226039783\n"
     ]
    }
   ],
   "source": [
    "# INPUTS\n",
    "target = 'adsc_dlvrybefore28wks'\n",
    "data = toif1pwr_demotoif1pwr_df\n",
    "seed=83\n",
    "# AUC 50: 83\n",
    "# AUC 66: 5, 17, 53, 61, 67, 73, 79, 89, 127\n",
    "# AUC 83: 2, 11, 19, 31, 37, 41, 43, 71, 97, 101, 103, 107, 109\n",
    "# AUC 99: 3, 7, 13, 23, 29, 47, 59, 113, 131\n",
    "#------------------------------------------------------\n",
    "\n",
    "# Define Scenario Data (only Demo/Clinical)\n",
    "x = data.drop(target_cols+['sensor_toi_f1_mvt_pwr_mvt41'], axis=1).copy()\n",
    "y = data[[target]].copy()\n",
    "\n",
    "# Only keep records with non-missing target value\n",
    "valid_target_index = y[target].replace(-999999, np.nan).dropna().index\n",
    "x = x.loc[valid_target_index,:]\n",
    "y = y.loc[valid_target_index,:]\n",
    "\n",
    "\n",
    "# Employ Missing Indicator Method\n",
    "missing_cols = [\n",
    "    item for item in \n",
    "    x.replace(-999999,np.nan).isna().sum().to_frame('missing').query('missing > 0').index.tolist()\n",
    "]\n",
    "for col in missing_cols:\n",
    "    x[col+'_missing'] = [1  if item==-999999 else 0 for item in x[col]]\n",
    "    x[col] = x[col].replace(-999999, 0)\n",
    "\n",
    "    \n",
    "# Split Data\n",
    "x_trn, x_val, y_trn, y_val = train_test_split(x, y, train_size=0.7, stratify=y, random_state=seed)\n",
    "\n",
    "# SMOTE the training data\n",
    "cats = [idx for idx,col in enumerate(x_trn.columns) if len(x[col].unique()) < 10]\n",
    "sm = SMOTENC(cats, random_state=seed)\n",
    "x_trn, y_trn = sm.fit_resample(x_trn.values, y_trn.values.ravel())\n",
    "\n",
    "# Fit Model\n",
    "model = LogisticRegression(penalty='l1', solver='liblinear', \n",
    "                          random_state=seed)\n",
    "model.fit(x_trn, y_trn)\n",
    "\n",
    "# Make Predictions\n",
    "yp_trn = model.predict(x_trn)\n",
    "yp_val = model.predict(x_val)\n",
    "\n",
    "\n",
    "print('AUC:', roc_auc_score(y_val, yp_val))"
   ]
  },
  {
   "cell_type": "markdown",
   "metadata": {},
   "source": [
    "# Classify Seed Behaviors\n",
    "**2020-Jan-28**\n",
    "\n",
    "One of the things I found after going through 30 or so (prime number) seeds is\n",
    "that we do not only have the `AUC83` and `AUC99` classes:  there also exists\n",
    "the `AUC50` and `AUC66` classes.  It seems that `AUC50` is pretty rare, having only\n",
    "found one instance, but that `AUC66` is actually about as common as `AUC99`.  \n",
    "\n",
    "What I want to do is find the class for all seed in the range \\[0,250)."
   ]
  },
  {
   "cell_type": "code",
   "execution_count": 3,
   "metadata": {},
   "outputs": [],
   "source": [
    "running_this_again_is_a_good_idea=False\n",
    "\n",
    "if running_this_again_is_a_good_idea:\n",
    "    import warnings\n",
    "    warnings.filterwarnings(action='ignore') # so many annoying warnings for this cell\n",
    "\n",
    "    target = 'adsc_dlvrybefore28wks'\n",
    "    data = toif1pwr_demotoif1pwr_df\n",
    "\n",
    "    #---------------\n",
    "    # Define Scenario Data (only Demo/Clinical)\n",
    "    x = data.drop(target_cols+['sensor_toi_f1_mvt_pwr_mvt41'], axis=1).copy()\n",
    "    y = data[[target]].copy()\n",
    "\n",
    "    # Only keep records with non-missing target value\n",
    "    valid_target_index = y[target].replace(-999999, np.nan).dropna().index\n",
    "    x = x.loc[valid_target_index,:]\n",
    "    y = y.loc[valid_target_index,:]\n",
    "\n",
    "\n",
    "    # Employ Missing Indicator Method\n",
    "    missing_cols = [\n",
    "        item for item in \n",
    "        x.replace(-999999,np.nan).isna().sum().to_frame('missing').query('missing > 0').index.tolist()\n",
    "    ]\n",
    "    for col in missing_cols:\n",
    "        x[col+'_missing'] = [1  if item==-999999 else 0 for item in x[col]]\n",
    "        x[col] = x[col].replace(-999999, 0)\n",
    "    #---------\n",
    "\n",
    "\n",
    "    auc50 = list()\n",
    "    auc66 = list()\n",
    "    auc83 = list()\n",
    "    auc99 = list()\n",
    "    seed = 0\n",
    "    for seed in range(250):\n",
    "        # Split Data\n",
    "        x_trn, x_val, y_trn, y_val = train_test_split(x, y, train_size=0.7, stratify=y, random_state=seed)\n",
    "\n",
    "        # SMOTE the training data\n",
    "        cats = [idx for idx,col in enumerate(x_trn.columns) if len(x[col].unique()) < 10]\n",
    "        sm = SMOTENC(cats, random_state=seed)\n",
    "        x_trn, y_trn = sm.fit_resample(x_trn.values, y_trn.values.ravel())\n",
    "\n",
    "        # Fit Model\n",
    "        model = LogisticRegression(penalty='l1', solver='liblinear', \n",
    "                          random_state=seed)\n",
    "        model.fit(x_trn, y_trn)\n",
    "\n",
    "        # Make Predictions\n",
    "        yp_trn = model.predict(x_trn)\n",
    "        yp_val = model.predict(x_val)\n",
    "\n",
    "        auc = roc_auc_score(y_val, yp_val)\n",
    "        if auc < 0.52:\n",
    "            auc50.append(seed)\n",
    "            #print('50:', auc50)\n",
    "        elif 0.65 < auc and auc < 0.67:\n",
    "            auc66.append(seed)\n",
    "            #print('66:', auc66)\n",
    "        elif 0.82 < auc and auc < 0.84:\n",
    "            auc83.append(seed)\n",
    "            #print('83:', auc83)\n",
    "        elif 0.989 < auc: \n",
    "            auc99.append(seed)\n",
    "            #print('99:', auc99)\n",
    "else:\n",
    "    # These are the lists I captured from running the loop the first time\n",
    "    auc50 = [42, 83, 117, 161, 163, 213, 232, 235, 242, 244]\n",
    "    auc66 = [0, 4, 5, 6, 17, 22, 26, 33, 38, 45, 49, 51, 52, 53, \n",
    "             54, 55, 61, 62, 67, 72, 73, 79, 84, 87, 89, 91, 95, \n",
    "             100, 120, 125, 127, 128, 129, 130, 133, 134, 138, 140, \n",
    "             141, 143, 144, 147, 148, 149, 153, 157, 165, 167, 170, \n",
    "             174, 178, 182, 186, 192, 197, 209, 210, 215, 218, 220, \n",
    "             222, 229, 230, 236, 243, 248]\n",
    "    auc83 = [1, 2, 8, 11, 12, 15, 16, 18, 19, 20, 24, 25, 27, 28, \n",
    "             30, 31, 32, 34, 35, 36, 37, 39, 40, 41, 43, 46, 48, \n",
    "             50, 56, 57, 58, 63, 64, 68, 69, 70, 71, 75, 78, 82, \n",
    "             86, 88, 90, 92, 93, 94, 96, 97, 98, 101, 102, 103, \n",
    "             104, 105, 106, 107, 108, 109, 110, 111, 112, 114, \n",
    "             115, 116, 118, 119, 121, 126, 132, 135, 137, 142, \n",
    "             145, 150, 151, 152, 154, 155, 158, 159, 160, 162, \n",
    "             164, 168, 171, 173, 175, 176, 177, 179, 180, 183, \n",
    "             184, 187, 188, 189, 195, 196, 198, 199, 200, 205, \n",
    "             206, 207, 214, 217, 223, 227, 228, 231, 233, 234, \n",
    "             238, 240, 245, 246, 249]\n",
    "    auc99 = [3, 7, 9, 10, 13, 14, 21, 23, 29, 44, 47, 59, 60, 65, \n",
    "             66, 74, 76, 77, 80, 81, 85, 99, 113, 122, 123, 124, \n",
    "             131, 136, 139, 146, 156, 166, 169, 172, 181, 185, \n",
    "             190, 191, 193, 194, 201, 202, 203, 204, 208, 211, \n",
    "             212, 216, 219, 221, 224, 225, 226, 237, 239, 241, 247]\n",
    "    "
   ]
  },
  {
   "cell_type": "markdown",
   "metadata": {},
   "source": [
    "\n",
    "### RESULTS\n",
    "I record the results of the 250 random seeds here so that they persist after this\n",
    "notebook is shutdown.  (Could also save them too, ya know.  \"Shut up, brain!\")\n",
    "\n",
    "\n",
    "* **AUC 50**: \\[42, 83, 117, 161, 163, 213, 232, 235, 242, 244\\]\n",
    "* **AUC 66**: \\[0, 4, 5, 6, 17, 22, 26, 33, 38, 45, 49, 51, 52, 53, 54, 55, 61, 62, 67, 72, 73, 79, 84, 87, 89, 91, 95, 100, 120, 125, 127, 128, 129, 130, 133, 134, 138, 140, 141, 143, 144, 147, 148, 149, 153, 157, 165, 167, 170, 174, 178, 182, 186, 192, 197, 209, 210, 215, 218, 220, 222, 229, 230, 236, 243, 248\\]\n",
    "* **AUC 83**: \\[1, 2, 8, 11, 12, 15, 16, 18, 19, 20, 24, 25, 27, 28, 30, 31, 32, 34, 35, 36, 37, 39, 40, 41, 43, 46, 48, 50, 56, 57, 58, 63, 64, 68, 69, 70, 71, 75, 78, 82, 86, 88, 90, 92, 93, 94, 96, 97, 98, 101, 102, 103, 104, 105, 106, 107, 108, 109, 110, 111, 112, 114, 115, 116, 118, 119, 121, 126, 132, 135, 137, 142, 145, 150, 151, 152, 154, 155, 158, 159, 160, 162, 164, 168, 171, 173, 175, 176, 177, 179, 180, 183, 184, 187, 188, 189, 195, 196, 198, 199, 200, 205, 206, 207, 214, 217, 223, 227, 228, 231, 233, 234, 238, 240, 245, 246, 249\\]\n",
    "* **AUC 99**: \\[3, 7, 9, 10, 13, 14, 21, 23, 29, 44, 47, 59, 60, 65, 66, 74, 76, 77, 80, 81, 85, 99, 113, 122, 123, 124, 131, 136, 139, 146, 156, 166, 169, 172, 181, 185, 190, 191, 193, 194, 201, 202, 203, 204, 208, 211, 212, 216, 219, 221, 224, 225, 226, 237, 239, 241, 247\\]"
   ]
  },
  {
   "cell_type": "markdown",
   "metadata": {},
   "source": [
    "### One last question on that:  Are the 4 classes exhaustive?  (i.e., did all seeds make it into a class?)\n",
    "The answer is YES.  There is no number in `range(250)` that was not put into one of \n",
    "our classes.  Crazy."
   ]
  },
  {
   "cell_type": "code",
   "execution_count": 7,
   "metadata": {},
   "outputs": [
    {
     "data": {
      "text/plain": [
       "[]"
      ]
     },
     "execution_count": 7,
     "metadata": {},
     "output_type": "execute_result"
    }
   ],
   "source": [
    "[item for item in range(250) if item not in auc50+auc66+auc83+auc99]"
   ]
  },
  {
   "cell_type": "code",
   "execution_count": 20,
   "metadata": {},
   "outputs": [
    {
     "data": {
      "text/plain": [
       "array([[<matplotlib.axes._subplots.AxesSubplot object at 0x132593da0>]],\n",
       "      dtype=object)"
      ]
     },
     "execution_count": 20,
     "metadata": {},
     "output_type": "execute_result"
    },
    {
     "data": {
      "image/png": "[encoded data removed]",
      "text/plain": [
       "<Figure size 432x288 with 1 Axes>"
      ]
     },
     "metadata": {
      "needs_background": "light"
     },
     "output_type": "display_data"
    }
   ],
   "source": [
    "pd.DataFrame(np.concatenate([\n",
    "    np.repeat(50,len(auc50)), \n",
    "    np.repeat(66,len(auc66)),\n",
    "    np.repeat(83,len(auc83)),\n",
    "    np.repeat(99,len(auc99))\n",
    "]), columns=['seed']).hist(bins=4)"
   ]
  },
  {
   "cell_type": "code",
   "execution_count": 22,
   "metadata": {},
   "outputs": [
    {
     "data": {
      "text/plain": [
       "57"
      ]
     },
     "execution_count": 22,
     "metadata": {},
     "output_type": "execute_result"
    }
   ],
   "source": [
    "len(auc99)"
   ]
  },
  {
   "cell_type": "markdown",
   "metadata": {},
   "source": [
    "# Patient Populations"
   ]
  },
  {
   "cell_type": "code",
   "execution_count": 27,
   "metadata": {},
   "outputs": [
    {
     "data": {
      "text/plain": [
       "[42, 83, 117, 161, 163, 213, 232, 235, 242, 244]"
      ]
     },
     "execution_count": 27,
     "metadata": {},
     "output_type": "execute_result"
    }
   ],
   "source": [
    "auc50"
   ]
  },
  {
   "cell_type": "code",
   "execution_count": 52,
   "metadata": {},
   "outputs": [
    {
     "data": {
      "text/plain": [
       "Index(['S002-BISH-01907', 'S002-BISH-02409', 'S002-BISH-03841',\n",
       "       'S002-BISH-03857', 'S002-BISH-03957', 'S002-BISH-04628',\n",
       "       'S002-BISH-04647', 'S002-BISH-04937', 'S002-BISH-05908',\n",
       "       'S002-BISH-06497', 'S002-BISH-06632'],\n",
       "      dtype='object', name='patid')"
      ]
     },
     "execution_count": 52,
     "metadata": {},
     "output_type": "execute_result"
    }
   ],
   "source": [
    "y.query('adsc_dlvrybefore28wks == 1').index"
   ]
  },
  {
   "cell_type": "code",
   "execution_count": 57,
   "metadata": {},
   "outputs": [],
   "source": [
    "# INPUTS\n",
    "target = 'adsc_dlvrybefore28wks'\n",
    "data = toif1pwr_demotoif1pwr_df\n",
    "\n",
    "# AUC 50: 83\n",
    "# AUC 66: 5, 17, 53, 61, 67, 73, 79, 89, 127\n",
    "# AUC 83: 2, 11, 19, 31, 37, 41, 43, 71, 97, 101, 103, 107, 109\n",
    "# AUC 99: 3, 7, 13, 23, 29, 47, 59, 113, 131\n",
    "#------------------------------------------------------\n",
    "\n",
    "# Define Scenario Data (only Demo/Clinical)\n",
    "x = data.drop(target_cols+['sensor_toi_f1_mvt_pwr_mvt41'], axis=1).copy()\n",
    "y = data[[target]].copy()\n",
    "\n",
    "# Only keep records with non-missing target value\n",
    "valid_target_index = y[target].replace(-999999, np.nan).dropna().index\n",
    "x = x.loc[valid_target_index,:]\n",
    "y = y.loc[valid_target_index,:]\n",
    "\n",
    "pid = dict()\n",
    "events_trn = dict()\n",
    "events_val = dict()\n",
    "common = None\n",
    "events = y.query('adsc_dlvrybefore28wks == 1').index\n",
    "for seed in auc50:\n",
    "    # Split Data\n",
    "    x_trn, x_val, y_trn, y_val = train_test_split(x, y, train_size=0.7, stratify=y, random_state=seed)\n",
    "    pid[seed] = x_trn.index\n",
    "    if common is None:\n",
    "        common = set(pid[seed].tolist())\n",
    "    else:\n",
    "        common = common.intersection(pid[seed])\n",
    "    events_trn[seed] = y_trn.query('adsc_dlvrybefore28wks == 1').index\n",
    "    events_val[seed] = y_val.query('adsc_dlvrybefore28wks == 1').index\n"
   ]
  },
  {
   "cell_type": "code",
   "execution_count": 36,
   "metadata": {},
   "outputs": [
    {
     "data": {
      "text/plain": [
       "Index(['S002-BISH-01248', 'S002-BISH-05271', 'S002-BISH-00855',\n",
       "       'S002-BISH-06276', 'S002-BISH-00929', 'S002-BISH-02405',\n",
       "       'S002-BISH-00842', 'S002-BISH-04087', 'S002-BISH-00569',\n",
       "       'S002-BISH-03274',\n",
       "       ...\n",
       "       'S002-BISH-00479', 'S002-BISH-04698', 'S002-BISH-01456',\n",
       "       'S002-BISH-04333', 'S002-BISH-04379', 'S002-BISH-03593',\n",
       "       'S002-BISH-03609', 'S002-BISH-00324', 'S002-BISH-00038',\n",
       "       'S002-BISH-05725'],\n",
       "      dtype='object', name='patid', length=1297)"
      ]
     },
     "execution_count": 36,
     "metadata": {},
     "output_type": "execute_result"
    }
   ],
   "source": [
    "# Training (1297)\n",
    "pid[42]"
   ]
  },
  {
   "cell_type": "code",
   "execution_count": 37,
   "metadata": {},
   "outputs": [
    {
     "data": {
      "text/plain": [
       "903"
      ]
     },
     "execution_count": 37,
     "metadata": {},
     "output_type": "execute_result"
    }
   ],
   "source": [
    "set(pid[42].tolist()).intersection(pid[83]).__len__()"
   ]
  },
  {
   "cell_type": "code",
   "execution_count": 40,
   "metadata": {},
   "outputs": [
    {
     "data": {
      "text/plain": [
       "54"
      ]
     },
     "execution_count": 40,
     "metadata": {},
     "output_type": "execute_result"
    }
   ],
   "source": [
    "common.__len__()"
   ]
  },
  {
   "cell_type": "code",
   "execution_count": 48,
   "metadata": {},
   "outputs": [
    {
     "data": {
      "text/plain": [
       "adsc_dlvrybefore28wks    4.0\n",
       "dtype: float64"
      ]
     },
     "execution_count": 48,
     "metadata": {},
     "output_type": "execute_result"
    }
   ],
   "source": [
    "y.loc[common].sum()"
   ]
  },
  {
   "cell_type": "code",
   "execution_count": 47,
   "metadata": {},
   "outputs": [
    {
     "data": {
      "text/plain": [
       "adsc_dlvrybefore28wks    11.0\n",
       "dtype: float64"
      ]
     },
     "execution_count": 47,
     "metadata": {},
     "output_type": "execute_result"
    }
   ],
   "source": [
    "y.sum()"
   ]
  },
  {
   "cell_type": "markdown",
   "metadata": {},
   "source": [
    "I'm wondering if AUC50 seeds correspond to times when patient X and patient Y\n",
    "(i) are in opposite sets\n",
    "(ii) same set"
   ]
  },
  {
   "cell_type": "code",
   "execution_count": 71,
   "metadata": {},
   "outputs": [
    {
     "name": "stdout",
     "output_type": "stream",
     "text": [
      "Opposites\n",
      "S002-BISH-01907 {'S002-BISH-03841', 'S002-BISH-04647', 'S002-BISH-03957'}\n",
      "S002-BISH-01907 {'S002-BISH-03841'}\n",
      "S002-BISH-01907 {'S002-BISH-03841'}\n",
      "S002-BISH-01907 set()\n",
      "S002-BISH-01907 set()\n",
      "S002-BISH-01907 set()\n",
      "S002-BISH-01907 set()\n",
      "S002-BISH-01907 set()\n",
      "S002-BISH-01907 set()\n",
      "S002-BISH-01907 set()\n",
      "S002-BISH-02409 {'S002-BISH-03841', 'S002-BISH-04647', 'S002-BISH-03957'}\n",
      "S002-BISH-02409 {'S002-BISH-03841'}\n",
      "S002-BISH-02409 {'S002-BISH-03841'}\n",
      "S002-BISH-02409 set()\n",
      "S002-BISH-02409 set()\n",
      "S002-BISH-02409 set()\n",
      "S002-BISH-02409 set()\n",
      "S002-BISH-02409 set()\n",
      "S002-BISH-02409 set()\n",
      "S002-BISH-02409 set()\n",
      "S002-BISH-03841 {'S002-BISH-04628', 'S002-BISH-03857', 'S002-BISH-05908', 'S002-BISH-04937', 'S002-BISH-01907', 'S002-BISH-02409', 'S002-BISH-06632', 'S002-BISH-06497'}\n",
      "S002-BISH-03841 {'S002-BISH-03857', 'S002-BISH-05908', 'S002-BISH-02409', 'S002-BISH-01907', 'S002-BISH-06497', 'S002-BISH-04937'}\n",
      "S002-BISH-03841 {'S002-BISH-03857', 'S002-BISH-01907', 'S002-BISH-02409', 'S002-BISH-06497', 'S002-BISH-04937'}\n",
      "S002-BISH-03841 set()\n",
      "S002-BISH-03841 set()\n",
      "S002-BISH-03841 set()\n",
      "S002-BISH-03841 set()\n",
      "S002-BISH-03841 set()\n",
      "S002-BISH-03841 set()\n",
      "S002-BISH-03841 set()\n",
      "S002-BISH-03857 {'S002-BISH-03841', 'S002-BISH-04647', 'S002-BISH-03957'}\n",
      "S002-BISH-03857 {'S002-BISH-03841'}\n",
      "S002-BISH-03857 {'S002-BISH-03841'}\n",
      "S002-BISH-03857 set()\n",
      "S002-BISH-03857 set()\n",
      "S002-BISH-03857 set()\n",
      "S002-BISH-03857 set()\n",
      "S002-BISH-03857 set()\n",
      "S002-BISH-03857 set()\n",
      "S002-BISH-03857 set()\n",
      "S002-BISH-03957 {'S002-BISH-04628', 'S002-BISH-03857', 'S002-BISH-05908', 'S002-BISH-04937', 'S002-BISH-01907', 'S002-BISH-02409', 'S002-BISH-06632', 'S002-BISH-06497'}\n",
      "S002-BISH-03957 {'S002-BISH-06632', 'S002-BISH-04628'}\n",
      "S002-BISH-03957 set()\n",
      "S002-BISH-03957 set()\n",
      "S002-BISH-03957 set()\n",
      "S002-BISH-03957 set()\n",
      "S002-BISH-03957 set()\n",
      "S002-BISH-03957 set()\n",
      "S002-BISH-03957 set()\n",
      "S002-BISH-03957 set()\n",
      "S002-BISH-04628 {'S002-BISH-03841', 'S002-BISH-04647', 'S002-BISH-03957'}\n",
      "S002-BISH-04628 {'S002-BISH-04647', 'S002-BISH-03957'}\n",
      "S002-BISH-04628 {'S002-BISH-04647'}\n",
      "S002-BISH-04628 {'S002-BISH-04647'}\n",
      "S002-BISH-04628 {'S002-BISH-04647'}\n",
      "S002-BISH-04628 {'S002-BISH-04647'}\n",
      "S002-BISH-04628 {'S002-BISH-04647'}\n",
      "S002-BISH-04628 {'S002-BISH-04647'}\n",
      "S002-BISH-04628 {'S002-BISH-04647'}\n",
      "S002-BISH-04628 set()\n",
      "S002-BISH-04647 {'S002-BISH-04628', 'S002-BISH-03857', 'S002-BISH-05908', 'S002-BISH-04937', 'S002-BISH-01907', 'S002-BISH-02409', 'S002-BISH-06632', 'S002-BISH-06497'}\n",
      "S002-BISH-04647 {'S002-BISH-06632', 'S002-BISH-04628'}\n",
      "S002-BISH-04647 {'S002-BISH-06632', 'S002-BISH-04628'}\n",
      "S002-BISH-04647 {'S002-BISH-04628'}\n",
      "S002-BISH-04647 {'S002-BISH-04628'}\n",
      "S002-BISH-04647 {'S002-BISH-04628'}\n",
      "S002-BISH-04647 {'S002-BISH-04628'}\n",
      "S002-BISH-04647 {'S002-BISH-04628'}\n",
      "S002-BISH-04647 {'S002-BISH-04628'}\n",
      "S002-BISH-04647 set()\n",
      "S002-BISH-04937 {'S002-BISH-03841', 'S002-BISH-04647', 'S002-BISH-03957'}\n",
      "S002-BISH-04937 {'S002-BISH-03841'}\n",
      "S002-BISH-04937 {'S002-BISH-03841'}\n",
      "S002-BISH-04937 set()\n",
      "S002-BISH-04937 set()\n",
      "S002-BISH-04937 set()\n",
      "S002-BISH-04937 set()\n",
      "S002-BISH-04937 set()\n",
      "S002-BISH-04937 set()\n",
      "S002-BISH-04937 set()\n",
      "S002-BISH-05908 {'S002-BISH-03841', 'S002-BISH-04647', 'S002-BISH-03957'}\n",
      "S002-BISH-05908 {'S002-BISH-03841'}\n",
      "S002-BISH-05908 set()\n",
      "S002-BISH-05908 set()\n",
      "S002-BISH-05908 set()\n",
      "S002-BISH-05908 set()\n",
      "S002-BISH-05908 set()\n",
      "S002-BISH-05908 set()\n",
      "S002-BISH-05908 set()\n",
      "S002-BISH-05908 set()\n",
      "S002-BISH-06497 {'S002-BISH-03841', 'S002-BISH-04647', 'S002-BISH-03957'}\n",
      "S002-BISH-06497 {'S002-BISH-03841'}\n",
      "S002-BISH-06497 {'S002-BISH-03841'}\n",
      "S002-BISH-06497 set()\n",
      "S002-BISH-06497 set()\n",
      "S002-BISH-06497 set()\n",
      "S002-BISH-06497 set()\n",
      "S002-BISH-06497 set()\n",
      "S002-BISH-06497 set()\n",
      "S002-BISH-06497 set()\n",
      "S002-BISH-06632 {'S002-BISH-03841', 'S002-BISH-04647', 'S002-BISH-03957'}\n",
      "S002-BISH-06632 {'S002-BISH-04647', 'S002-BISH-03957'}\n",
      "S002-BISH-06632 {'S002-BISH-04647'}\n",
      "S002-BISH-06632 set()\n",
      "S002-BISH-06632 set()\n",
      "S002-BISH-06632 set()\n",
      "S002-BISH-06632 set()\n",
      "S002-BISH-06632 set()\n",
      "S002-BISH-06632 set()\n",
      "S002-BISH-06632 set()\n",
      "\n",
      "Commons\n",
      "Training...\n",
      "S002-BISH-01907 {'S002-BISH-01907'}\n",
      "Training...\n",
      "S002-BISH-02409 {'S002-BISH-06497', 'S002-BISH-04937', 'S002-BISH-02409', 'S002-BISH-03857'}\n",
      "Validation...\n",
      "S002-BISH-03841 {'S002-BISH-03841'}\n",
      "Training...\n",
      "S002-BISH-03857 {'S002-BISH-06497', 'S002-BISH-04937', 'S002-BISH-02409', 'S002-BISH-03857'}\n",
      "Validation...\n",
      "S002-BISH-03957 {'S002-BISH-03957'}\n",
      "Training...\n",
      "S002-BISH-04628 {'S002-BISH-04628'}\n",
      "Validation...\n",
      "S002-BISH-04647 {'S002-BISH-04647'}\n",
      "Training...\n",
      "S002-BISH-04937 {'S002-BISH-06497', 'S002-BISH-04937', 'S002-BISH-02409', 'S002-BISH-03857'}\n",
      "Training...\n",
      "S002-BISH-05908 {'S002-BISH-05908'}\n",
      "Training...\n",
      "S002-BISH-06497 {'S002-BISH-06497', 'S002-BISH-04937', 'S002-BISH-02409', 'S002-BISH-03857'}\n",
      "Training...\n",
      "S002-BISH-06632 {'S002-BISH-06632'}\n"
     ]
    }
   ],
   "source": [
    "events = y.query('adsc_dlvrybefore28wks == 1').index\n",
    "\n",
    "print('Opposites')\n",
    "for patient in events:\n",
    "    opposite = None\n",
    "    for seed in auc50:\n",
    "        if patient in events_trn[seed]:\n",
    "            if opposite is None:\n",
    "                opposite = set(events_val[seed].tolist())\n",
    "            else:\n",
    "                opposite = opposite.intersection(events_val[seed])\n",
    "        else:\n",
    "            if opposite is None:\n",
    "                opposite = set(events_trn[seed].tolist())\n",
    "            else:\n",
    "                opposite = opposite.intersection(events_trn[seed])\n",
    "        print(patient, opposite)\n",
    "\n",
    "print('\\nCommons')\n",
    "for patient in events:\n",
    "    common = None\n",
    "    for seed in auc50:\n",
    "        if patient in events_trn[seed]:\n",
    "            if common is None:\n",
    "                print('Training...')\n",
    "                common = set(events_trn[seed].tolist())\n",
    "            else:\n",
    "                common = common.intersection(events_trn[seed])\n",
    "        else:\n",
    "            if common is None:\n",
    "                print('Validation...')\n",
    "                common = set(events_val[seed].tolist())\n",
    "            else:\n",
    "                common = common.intersection(events_val[seed])\n",
    "    print(patient, common)"
   ]
  },
  {
   "cell_type": "code",
   "execution_count": 144,
   "metadata": {},
   "outputs": [],
   "source": [
    "the4pack = ['S002-BISH-06497', 'S002-BISH-04937', 'S002-BISH-02409', 'S002-BISH-03857']"
   ]
  },
  {
   "cell_type": "code",
   "execution_count": 66,
   "metadata": {},
   "outputs": [
    {
     "data": {
      "text/plain": [
       "Index(['S002-BISH-03841', 'S002-BISH-03957', 'S002-BISH-04647'], dtype='object', name='patid')"
      ]
     },
     "execution_count": 66,
     "metadata": {},
     "output_type": "execute_result"
    }
   ],
   "source": [
    "events_val[42]"
   ]
  },
  {
   "cell_type": "code",
   "execution_count": 67,
   "metadata": {},
   "outputs": [
    {
     "data": {
      "text/plain": [
       "set()"
      ]
     },
     "execution_count": 67,
     "metadata": {},
     "output_type": "execute_result"
    }
   ],
   "source": [
    "common04937"
   ]
  },
  {
   "cell_type": "code",
   "execution_count": 210,
   "metadata": {},
   "outputs": [],
   "source": []
  },
  {
   "cell_type": "markdown",
   "metadata": {},
   "source": [
    "# The 4 Patients\n",
    "\n",
    "For every AUC 0.5, these patients/events show up in the training set:\n",
    "```\n",
    "{'S002-BISH-06497', 'S002-BISH-04937', 'S002-BISH-02409', 'S002-BISH-03857'}\n",
    "```\n",
    "\n",
    "In almost all of AUC 0.5 seeds, these patients/events are in opposite set:\n",
    "```\n",
    "{S002-BISH-04628, 'S002-BISH-04647'}\n",
    "```\n",
    "\n",
    "Next experiment: \n",
    "* try swapping two of them with patients from validation set"
   ]
  },
  {
   "cell_type": "markdown",
   "metadata": {},
   "source": [
    "### A. Improving Upon AUC 0.5"
   ]
  },
  {
   "cell_type": "code",
   "execution_count": 135,
   "metadata": {},
   "outputs": [
    {
     "name": "stderr",
     "output_type": "stream",
     "text": [
      "/Users/kevinurban/miniconda3/lib/python3.7/site-packages/scipy/sparse/lil.py:512: FutureWarning: future versions will not create a writeable array from broadcast_array. Set the writable flag explicitly to avoid this warning.\n",
      "  if not i.flags.writeable or i.dtype not in (np.int32, np.int64):\n",
      "/Users/kevinurban/miniconda3/lib/python3.7/site-packages/scipy/sparse/lil.py:514: FutureWarning: future versions will not create a writeable array from broadcast_array. Set the writable flag explicitly to avoid this warning.\n",
      "  if not j.flags.writeable or j.dtype not in (np.int32, np.int64):\n",
      "/Users/kevinurban/miniconda3/lib/python3.7/site-packages/scipy/sparse/lil.py:518: FutureWarning: future versions will not create a writeable array from broadcast_array. Set the writable flag explicitly to avoid this warning.\n",
      "  if not x.flags.writeable:\n"
     ]
    },
    {
     "name": "stdout",
     "output_type": "stream",
     "text": [
      "AUC: 0.8306208559373116\n"
     ]
    }
   ],
   "source": [
    "# INPUTS\n",
    "target = 'adsc_dlvrybefore28wks'\n",
    "data = toif1pwr_demotoif1pwr_df\n",
    "seed=83\n",
    "# AUC 50: 83\n",
    "# AUC 66: 5, 17, 53, 61, 67, 73, 79, 89, 127\n",
    "# AUC 83: 2, 11, 19, 31, 37, 41, 43, 71, 97, 101, 103, 107, 109\n",
    "# AUC 99: 3, 7, 13, 23, 29, 47, 59, 113, 131\n",
    "#------------------------------------------------------\n",
    "\n",
    "# Define Scenario Data (only Demo/Clinical)\n",
    "x = data.drop(target_cols+['sensor_toi_f1_mvt_pwr_mvt41'], axis=1).copy()\n",
    "y = data[[target]].copy()\n",
    "\n",
    "# Only keep records with non-missing target value\n",
    "valid_target_index = y[target].replace(-999999, np.nan).dropna().index\n",
    "x = x.loc[valid_target_index,:]\n",
    "y = y.loc[valid_target_index,:]\n",
    "\n",
    "\n",
    "# Employ Missing Indicator Method\n",
    "missing_cols = [\n",
    "    item for item in \n",
    "    x.replace(-999999,np.nan).isna().sum().to_frame('missing').query('missing > 0').index.tolist()\n",
    "]\n",
    "for col in missing_cols:\n",
    "    x[col+'_missing'] = [1  if item==-999999 else 0 for item in x[col]]\n",
    "    x[col] = x[col].replace(-999999, 0)\n",
    "\n",
    "    \n",
    "# Split Data\n",
    "x_trn, x_val, y_trn, y_val = train_test_split(x, y, train_size=0.7, stratify=y, random_state=seed)\n",
    "\n",
    "\n",
    "########################################################################\n",
    "# Define Swap Sets\n",
    "val2trn = y_val.query('adsc_dlvrybefore28wks == 1').index[:2]\n",
    "trn2val = ['S002-BISH-06497', 'S002-BISH-04937']\n",
    "\n",
    "# Swap Patients\n",
    "y_trn = y_trn.append(y_val.loc[val2trn])\n",
    "x_trn = x_trn.append(x_val.loc[val2trn])\n",
    "\n",
    "y_val = y_val.append(y_trn.loc[trn2val]).drop(val2trn, axis=0)\n",
    "x_val = x_val.append(x_trn.loc[trn2val]).drop(val2trn, axis=0)\n",
    "\n",
    "y_trn.drop(trn2val, axis=0, inplace=True)\n",
    "x_trn.drop(trn2val, axis=0, inplace=True)\n",
    "########################################################################\n",
    "\n",
    "\n",
    "# SMOTE the training data\n",
    "cats = [idx for idx,col in enumerate(x_trn.columns) if len(x[col].unique()) < 10]\n",
    "sm = SMOTENC(cats, random_state=seed)\n",
    "x_trn, y_trn = sm.fit_resample(x_trn.values, y_trn.values.ravel())\n",
    "\n",
    "# Fit Model\n",
    "model = LogisticRegression(penalty='l1', solver='liblinear', \n",
    "                          random_state=seed)\n",
    "model.fit(x_trn, y_trn)\n",
    "\n",
    "# Make Predictions\n",
    "yp_trn = model.predict(x_trn)\n",
    "yp_val = model.predict(x_val)\n",
    "\n",
    "\n",
    "print('AUC:', roc_auc_score(y_val, yp_val))"
   ]
  },
  {
   "cell_type": "markdown",
   "metadata": {},
   "source": [
    "As suspected, ensure that there is representation from this special \"4 pack\" in both training and\n",
    "validation, the AUC will increase.\n",
    "\n",
    "But why?  Are they identical rows?\n",
    "\n",
    "Not exactly:\n",
    "* below we find that 54 of the 187 features are not identical\n",
    "* however, many of them are \"\\_missing\" features\n",
    "    - 19 are non-missing features\n",
    "    - 35 are missing features\n",
    "* the non-missing, non-constant columns are:\n",
    "    - 'adafppappa_afpmom', 'adedin_edinburgh_raw_all-10-15-20_db',\n",
    "       'adelig_mat_age', 'adfetalgrowth_deviationindex', 'admh_hxab2',\n",
    "       'admh_anemia3', 'adsc_gender2', 'adscmat_educ_combohs4', 'adscmat_empl',\n",
    "       'adscmat_empl_comb4', 'adscmat_grossincome7', 'adsmk_avgnumcighome',\n",
    "       'adstai_s_anxiety', 'adstai_t_anxiety', 'advs_height',\n",
    "       'advs_prepregweight', 'advs_prepregbmi', 'sensor_toi_f1_mvt_pwr_mvt21',\n",
    "       'sensor_toi_f1_mvt_pwr_mvt31'\n",
    "* but, wait!  It's the constant cols that are actually important here since these\n",
    "  patients are \"predictive of each other\"\n",
    "  - that is, at least one of these patients needs to be in training to predict the\n",
    "    remainders in val\n",
    "  - if all 4 patients are training, they provide no predictive power to validation\n",
    "  - however, we do find there is at least one other pair (outside the 4pack) that \n",
    "    contributes to predictive power (see next section below)\n",
    "\n",
    "Next, I'll look in diminshing the AUC of a AUC99 seed.\n",
    "\n",
    "Then, in next section, I'll look at the top features for all the AUC 0.99 models."
   ]
  },
  {
   "cell_type": "code",
   "execution_count": 137,
   "metadata": {},
   "outputs": [
    {
     "data": {
      "text/plain": [
       "(4, 54)"
      ]
     },
     "execution_count": 137,
     "metadata": {},
     "output_type": "execute_result"
    }
   ],
   "source": [
    "df = x.loc[['S002-BISH-06497', 'S002-BISH-04937', 'S002-BISH-02409', 'S002-BISH-03857']]\n",
    "df.loc[:, (df != df.iloc[0]).any()].shape"
   ]
  },
  {
   "cell_type": "code",
   "execution_count": 141,
   "metadata": {},
   "outputs": [
    {
     "data": {
      "text/plain": [
       "(4, 19)"
      ]
     },
     "execution_count": 141,
     "metadata": {},
     "output_type": "execute_result"
    }
   ],
   "source": [
    "df.loc[:, (df != df.iloc[0]).any()].filter(regex='^(?!.*missing)').shape"
   ]
  },
  {
   "cell_type": "code",
   "execution_count": 142,
   "metadata": {},
   "outputs": [
    {
     "data": {
      "text/plain": [
       "Index(['adafppappa_afpmom', 'adedin_edinburgh_raw_all-10-15-20_db',\n",
       "       'adelig_mat_age', 'adfetalgrowth_deviationindex', 'admh_hxab2',\n",
       "       'admh_anemia3', 'adsc_gender2', 'adscmat_educ_combohs4', 'adscmat_empl',\n",
       "       'adscmat_empl_comb4', 'adscmat_grossincome7', 'adsmk_avgnumcighome',\n",
       "       'adstai_s_anxiety', 'adstai_t_anxiety', 'advs_height',\n",
       "       'advs_prepregweight', 'advs_prepregbmi', 'sensor_toi_f1_mvt_pwr_mvt21',\n",
       "       'sensor_toi_f1_mvt_pwr_mvt31'],\n",
       "      dtype='object')"
      ]
     },
     "execution_count": 142,
     "metadata": {},
     "output_type": "execute_result"
    }
   ],
   "source": [
    "df.loc[:, (df != df.iloc[0]).any()].filter(regex='^(?!.*missing)').columns"
   ]
  },
  {
   "cell_type": "markdown",
   "metadata": {},
   "source": [
    "### B. Ruining a AUC 0.99 Seed"
   ]
  },
  {
   "cell_type": "code",
   "execution_count": 145,
   "metadata": {},
   "outputs": [],
   "source": [
    "the4pack = ['S002-BISH-06497', 'S002-BISH-04937', 'S002-BISH-02409', 'S002-BISH-03857']"
   ]
  },
  {
   "cell_type": "code",
   "execution_count": 198,
   "metadata": {},
   "outputs": [
    {
     "name": "stderr",
     "output_type": "stream",
     "text": [
      "/Users/kevinurban/miniconda3/lib/python3.7/site-packages/scipy/sparse/lil.py:512: FutureWarning: future versions will not create a writeable array from broadcast_array. Set the writable flag explicitly to avoid this warning.\n",
      "  if not i.flags.writeable or i.dtype not in (np.int32, np.int64):\n",
      "/Users/kevinurban/miniconda3/lib/python3.7/site-packages/scipy/sparse/lil.py:514: FutureWarning: future versions will not create a writeable array from broadcast_array. Set the writable flag explicitly to avoid this warning.\n",
      "  if not j.flags.writeable or j.dtype not in (np.int32, np.int64):\n",
      "/Users/kevinurban/miniconda3/lib/python3.7/site-packages/scipy/sparse/lil.py:518: FutureWarning: future versions will not create a writeable array from broadcast_array. Set the writable flag explicitly to avoid this warning.\n",
      "  if not x.flags.writeable:\n"
     ]
    },
    {
     "name": "stdout",
     "output_type": "stream",
     "text": [
      "AUC: 0.832429174201326\n"
     ]
    }
   ],
   "source": [
    "# INPUTS\n",
    "target = 'adsc_dlvrybefore28wks'\n",
    "data = toif1pwr_demotoif1pwr_df\n",
    "seed=3\n",
    "# AUC 50: 83\n",
    "# AUC 66: 5, 17, 53, 61, 67, 73, 79, 89, 127\n",
    "# AUC 83: 2, 11, 19, 31, 37, 41, 43, 71, 97, 101, 103, 107, 109\n",
    "# AUC 99: 3, 7, 13, 23, 29, 47, 59, 113, 131\n",
    "#------------------------------------------------------\n",
    "\n",
    "# Define Scenario Data (only Demo/Clinical)\n",
    "x = data.drop(target_cols+['sensor_toi_f1_mvt_pwr_mvt41'], axis=1).copy()\n",
    "y = data[[target]].copy()\n",
    "\n",
    "# Only keep records with non-missing target value\n",
    "valid_target_index = y[target].replace(-999999, np.nan).dropna().index\n",
    "x = x.loc[valid_target_index,:]\n",
    "y = y.loc[valid_target_index,:]\n",
    "\n",
    "\n",
    "# Employ Missing Indicator Method\n",
    "missing_cols = [\n",
    "    item for item in \n",
    "    x.replace(-999999,np.nan).isna().sum().to_frame('missing').query('missing > 0').index.tolist()\n",
    "]\n",
    "for col in missing_cols:\n",
    "    x[col+'_missing'] = [1  if item==-999999 else 0 for item in x[col]]\n",
    "    x[col] = x[col].replace(-999999, 0)\n",
    "\n",
    "    \n",
    "# Split Data\n",
    "x_trn, x_val, y_trn, y_val = train_test_split(x, y, train_size=0.7, stratify=y, random_state=seed)\n",
    "\n",
    "\n",
    "########################################################################\n",
    "\n",
    "# Define Swap Sets\n",
    "val2trn = [patient for patient in the4pack if patient in y_val.index]\n",
    "#trn2val = [patient for patient in y_trn.query('adsc_dlvrybefore28wks == 1').index \n",
    "#           if patient not in the4pack][4:4+len(val2trn)]\n",
    "trn2val = ['S002-BISH-04647', 'S002-BISH-05908']\n",
    "\n",
    "# Swap Patients\n",
    "y_trn = y_trn.append(y_val.loc[val2trn])\n",
    "x_trn = x_trn.append(x_val.loc[val2trn])\n",
    "\n",
    "y_val = y_val.append(y_trn.loc[trn2val]).drop(val2trn, axis=0)\n",
    "x_val = x_val.append(x_trn.loc[trn2val]).drop(val2trn, axis=0)\n",
    "\n",
    "y_trn.drop(trn2val, axis=0, inplace=True)\n",
    "x_trn.drop(trn2val, axis=0, inplace=True)\n",
    "\n",
    "########################################################################\n",
    "\n",
    "\n",
    "# SMOTE the training data\n",
    "cats = [idx for idx,col in enumerate(x_trn.columns) if len(x[col].unique()) < 10]\n",
    "sm = SMOTENC(cats, random_state=seed)\n",
    "x_trn, y_trn = sm.fit_resample(x_trn.values, y_trn.values.ravel())\n",
    "\n",
    "# Fit Model\n",
    "model = LogisticRegression(penalty='l1', solver='liblinear', \n",
    "                          random_state=seed)\n",
    "model.fit(x_trn, y_trn)\n",
    "\n",
    "# Make Predictions\n",
    "yp_trn = model.predict(x_trn)\n",
    "yp_val = model.predict(x_val)\n",
    "\n",
    "\n",
    "print('AUC:', roc_auc_score(y_val, yp_val))"
   ]
  },
  {
   "cell_type": "code",
   "execution_count": 199,
   "metadata": {},
   "outputs": [
    {
     "data": {
      "text/plain": [
       "['S002-BISH-04647', 'S002-BISH-05908']"
      ]
     },
     "execution_count": 199,
     "metadata": {},
     "output_type": "execute_result"
    }
   ],
   "source": [
    "trn2val"
   ]
  },
  {
   "cell_type": "markdown",
   "metadata": {},
   "source": [
    "SUCCESS!\n",
    "\n",
    "We've ruined the 0.99 AUC and made it 0.66.  Since the entire 4pack is in training this\n",
    "time, we know there is a little signal left.\n",
    "\n",
    "But if you change which patients you swap from training event to validation, you can toggle this AUC:\n",
    "\n",
    "| AUC | trn2val |\n",
    "|----|----------|\n",
    "| 0.66 | <font color='green'>'S002-BISH-06632'</font>, <font color='red'>'S002-BISH-03841'</font> |\n",
    "| 0.83 | 'S002-BISH-03841', 'S002-BISH-03957' |\n",
    "| 0.83 | 'S002-BISH-03957', 'S002-BISH-04647' |\n",
    "| 0.66 | 'S002-BISH-04647', 'S002-BISH-01907' |\n",
    "| 0.83 | 'S002-BISH-01907', 'S002-BISH-05908' |\n",
    "\n",
    "\n",
    "`S002-BISH-06632`\n",
    "\n",
    "| AUC | trn2val |\n",
    "|----|----------|\n",
    "| 0.66 | <font color='green'>'S002-BISH-06632'</font>, <font color='red'>'S002-BISH-03841'</font> |\n",
    "| 0.83 | <font color='green'>'S002-BISH-06632'</font>, <font color='green'>'S002-BISH-03957'</font> |\n",
    "| 0.66 | <font color='green'>'S002-BISH-06632'</font>, <font color='red'>'S002-BISH-04647'</font> |\n",
    "| 0.66 | <font color='green'>'S002-BISH-06632'</font>, <font color='red'>'S002-BISH-01907'</font> |\n",
    "| 0.83 | <font color='green'>'S002-BISH-06632'</font>, <font color='green'>'S002-BISH-05908'</font> |\n",
    "\n",
    "`S002-BISH-04647`\n",
    "\n",
    "| AUC | trn2val |\n",
    "|----|----------|\n",
    "| 0.66 | <font color='green'>'S002-BISH-04647'</font>, <font color='red'>'S002-BISH-03841'</font> | \n",
    "| 0.66 | <font color='green'>'S002-BISH-04647'</font>, <font color='red'>'S002-BISH-06632'</font> |\n",
    "| 0.83 | <font color='green'>'S002-BISH-04647'</font>, <font color='green'>'S002-BISH-05908'</font>|\n",
    "| 0.83 | <font color='green'>'S002-BISH-04647'</font>, <font color='green'>'S002-BISH-03957'</font> |\n",
    "| 0.66 | <font color='green'>'S002-BISH-04647'</font>, <font color='red'>'S002-BISH-01907'</font> |\n",
    "\n"
   ]
  },
  {
   "cell_type": "markdown",
   "metadata": {},
   "source": [
    "# AUC 0.99:  Top of the Top Features"
   ]
  },
  {
   "cell_type": "code",
   "execution_count": 208,
   "metadata": {},
   "outputs": [
    {
     "name": "stdout",
     "output_type": "stream",
     "text": [
      "AUC: 0.9981916817359856\n",
      "AUC: 0.9981916817359856\n",
      "AUC: 0.9972875226039782\n",
      "AUC: 0.9972875226039782\n",
      "AUC: 0.9981916817359856\n",
      "AUC: 0.9990958408679927\n",
      "AUC: 0.9972875226039782\n",
      "AUC: 0.9972875226039782\n",
      "AUC: 0.9927667269439422\n",
      "AUC: 0.9972875226039782\n",
      "AUC: 0.9954792043399638\n",
      "AUC: 0.9936708860759494\n",
      "AUC: 0.9990958408679927\n",
      "AUC: 0.9972875226039782\n",
      "AUC: 0.9954792043399638\n",
      "AUC: 0.9981916817359856\n",
      "AUC: 0.9981916817359856\n",
      "AUC: 0.996383363471971\n",
      "AUC: 0.9981916817359856\n",
      "AUC: 0.9945750452079566\n",
      "AUC: 0.9972875226039782\n",
      "AUC: 0.9990958408679927\n",
      "AUC: 0.9972875226039782\n",
      "AUC: 0.996383363471971\n",
      "AUC: 0.9981916817359856\n",
      "AUC: 0.996383363471971\n",
      "AUC: 0.9981916817359856\n",
      "AUC: 0.9981916817359856\n",
      "AUC: 0.9990958408679927\n",
      "AUC: 0.996383363471971\n",
      "AUC: 0.996383363471971\n",
      "AUC: 0.9990958408679927\n",
      "AUC: 0.996383363471971\n",
      "AUC: 0.996383363471971\n",
      "AUC: 0.996383363471971\n",
      "AUC: 0.9981916817359856\n",
      "AUC: 0.9981916817359856\n",
      "AUC: 0.996383363471971\n",
      "AUC: 0.9954792043399638\n",
      "AUC: 0.9990958408679927\n",
      "AUC: 0.9972875226039782\n",
      "AUC: 0.9972875226039782\n",
      "AUC: 1.0\n",
      "AUC: 0.996383363471971\n",
      "AUC: 0.9981916817359856\n",
      "AUC: 0.996383363471971\n",
      "AUC: 0.9981916817359856\n",
      "AUC: 0.996383363471971\n",
      "AUC: 0.9990958408679927\n",
      "AUC: 0.9981916817359856\n",
      "AUC: 0.9972875226039782\n",
      "AUC: 0.9945750452079566\n",
      "AUC: 0.996383363471971\n",
      "AUC: 1.0\n",
      "AUC: 0.9981916817359856\n",
      "AUC: 0.9972875226039782\n",
      "AUC: 0.9954792043399638\n"
     ]
    }
   ],
   "source": [
    "import warnings\n",
    "warnings.filterwarnings(action='ignore') # so many annoying warnings for this cell\n",
    "\n",
    "# INPUTS\n",
    "target = 'adsc_dlvrybefore28wks'\n",
    "data = toif1pwr_demotoif1pwr_df\n",
    "seed=83\n",
    "# AUC 50: 83\n",
    "# AUC 66: 5, 17, 53, 61, 67, 73, 79, 89, 127\n",
    "# AUC 83: 2, 11, 19, 31, 37, 41, 43, 71, 97, 101, 103, 107, 109\n",
    "# AUC 99: 3, 7, 13, 23, 29, 47, 59, 113, 131\n",
    "#------------------------------------------------------\n",
    "\n",
    "# Define Scenario Data (only Demo/Clinical)\n",
    "x = data.drop(target_cols+['sensor_toi_f1_mvt_pwr_mvt41'], axis=1).copy()\n",
    "y = data[[target]].copy()\n",
    "\n",
    "# Only keep records with non-missing target value\n",
    "valid_target_index = y[target].replace(-999999, np.nan).dropna().index\n",
    "x = x.loc[valid_target_index,:]\n",
    "y = y.loc[valid_target_index,:]\n",
    "\n",
    "\n",
    "# Employ Missing Indicator Method\n",
    "missing_cols = [\n",
    "    item for item in \n",
    "    x.replace(-999999,np.nan).isna().sum().to_frame('missing').query('missing > 0').index.tolist()\n",
    "]\n",
    "for col in missing_cols:\n",
    "    x[col+'_missing'] = [1  if item==-999999 else 0 for item in x[col]]\n",
    "    x[col] = x[col].replace(-999999, 0)\n",
    "\n",
    "\n",
    "imps = pd.DataFrame(columns = ['ftr','imp','sign'])\n",
    "for seed in auc99:\n",
    "    # Split Data\n",
    "    x_trn, x_val, y_trn, y_val = train_test_split(x, y, train_size=0.7, stratify=y, random_state=seed)\n",
    "\n",
    "    # SMOTE the training data\n",
    "    cats = [idx for idx,col in enumerate(x_trn.columns) if len(x[col].unique()) < 10]\n",
    "    sm = SMOTENC(cats, random_state=seed)\n",
    "    x_trn, y_trn = sm.fit_resample(x_trn.values, y_trn.values.ravel())\n",
    "\n",
    "    # Fit Model\n",
    "    model = LogisticRegression(penalty='l1', solver='liblinear', \n",
    "                          random_state=seed)\n",
    "    model.fit(x_trn, y_trn)\n",
    "\n",
    "    # Make Predictions\n",
    "    yp_trn = model.predict(x_trn)\n",
    "    yp_val = model.predict(x_val)\n",
    "\n",
    "\n",
    "    #print('AUC:', roc_auc_score(y_val, yp_val))\n",
    "    \n",
    "    feature_importance = abs(model.coef_[0])\n",
    "    rank = np.flip(np.argsort(feature_importance))\n",
    "    imps = pd.concat([\n",
    "        imps,\n",
    "        pd.DataFrame({\n",
    "            'ftr': x.columns[rank], \n",
    "            'imp': feature_importance[rank], \n",
    "            'sign': np.sign(model.coef_[0][rank])\n",
    "        })])\n",
    "    "
   ]
  },
  {
   "cell_type": "code",
   "execution_count": 231,
   "metadata": {},
   "outputs": [
    {
     "data": {
      "text/plain": [
       "(10659, 3)"
      ]
     },
     "execution_count": 231,
     "metadata": {},
     "output_type": "execute_result"
    }
   ],
   "source": [
    "imps.shape"
   ]
  },
  {
   "cell_type": "code",
   "execution_count": 237,
   "metadata": {},
   "outputs": [
    {
     "data": {
      "text/html": [
       "<div>\n",
       "<style scoped>\n",
       "    .dataframe tbody tr th:only-of-type {\n",
       "        vertical-align: middle;\n",
       "    }\n",
       "\n",
       "    .dataframe tbody tr th {\n",
       "        vertical-align: top;\n",
       "    }\n",
       "\n",
       "    .dataframe thead th {\n",
       "        text-align: right;\n",
       "    }\n",
       "</style>\n",
       "<table border=\"1\" class=\"dataframe\">\n",
       "  <thead>\n",
       "    <tr style=\"text-align: right;\">\n",
       "      <th></th>\n",
       "      <th>ftr</th>\n",
       "      <th>imp</th>\n",
       "      <th>sign</th>\n",
       "    </tr>\n",
       "  </thead>\n",
       "  <tbody>\n",
       "    <tr>\n",
       "      <th>0</th>\n",
       "      <td>alcsmk_t2_avecigs.wk_missing</td>\n",
       "      <td>4.817564</td>\n",
       "      <td>1.000000</td>\n",
       "    </tr>\n",
       "    <tr>\n",
       "      <th>1</th>\n",
       "      <td>alcsmk_t1_avecigs.wk_missing</td>\n",
       "      <td>4.664752</td>\n",
       "      <td>1.000000</td>\n",
       "    </tr>\n",
       "    <tr>\n",
       "      <th>2</th>\n",
       "      <td>alcsmk_t1_alc_missing</td>\n",
       "      <td>1.971824</td>\n",
       "      <td>-1.000000</td>\n",
       "    </tr>\n",
       "    <tr>\n",
       "      <th>3</th>\n",
       "      <td>alcsmk_bt2_missing</td>\n",
       "      <td>1.755560</td>\n",
       "      <td>-1.000000</td>\n",
       "    </tr>\n",
       "    <tr>\n",
       "      <th>4</th>\n",
       "      <td>alcsmk_t2_alc_missing</td>\n",
       "      <td>1.668113</td>\n",
       "      <td>-1.000000</td>\n",
       "    </tr>\n",
       "    <tr>\n",
       "      <th>5</th>\n",
       "      <td>alcsmk_bt1_missing</td>\n",
       "      <td>1.600763</td>\n",
       "      <td>-1.000000</td>\n",
       "    </tr>\n",
       "    <tr>\n",
       "      <th>6</th>\n",
       "      <td>adscmat_grossincome7_missing</td>\n",
       "      <td>1.354289</td>\n",
       "      <td>-0.842105</td>\n",
       "    </tr>\n",
       "    <tr>\n",
       "      <th>7</th>\n",
       "      <td>adscmat_educ_combohs4</td>\n",
       "      <td>1.211004</td>\n",
       "      <td>-1.000000</td>\n",
       "    </tr>\n",
       "    <tr>\n",
       "      <th>8</th>\n",
       "      <td>adscmat_empl_comb4_missing</td>\n",
       "      <td>0.991879</td>\n",
       "      <td>-0.789474</td>\n",
       "    </tr>\n",
       "    <tr>\n",
       "      <th>9</th>\n",
       "      <td>admh_anemia3</td>\n",
       "      <td>0.975911</td>\n",
       "      <td>-0.964912</td>\n",
       "    </tr>\n",
       "    <tr>\n",
       "      <th>10</th>\n",
       "      <td>adscmat_toiletwater2</td>\n",
       "      <td>0.500636</td>\n",
       "      <td>1.000000</td>\n",
       "    </tr>\n",
       "    <tr>\n",
       "      <th>11</th>\n",
       "      <td>admh_hxft2</td>\n",
       "      <td>0.400906</td>\n",
       "      <td>-0.666667</td>\n",
       "    </tr>\n",
       "    <tr>\n",
       "      <th>12</th>\n",
       "      <td>alcsmk_t2_alc</td>\n",
       "      <td>0.385460</td>\n",
       "      <td>-0.912281</td>\n",
       "    </tr>\n",
       "    <tr>\n",
       "      <th>13</th>\n",
       "      <td>alcsmk_t1_alc</td>\n",
       "      <td>0.375484</td>\n",
       "      <td>-1.000000</td>\n",
       "    </tr>\n",
       "    <tr>\n",
       "      <th>14</th>\n",
       "      <td>adfetalgrowth_deviationindex_missing</td>\n",
       "      <td>0.280667</td>\n",
       "      <td>-0.508772</td>\n",
       "    </tr>\n",
       "    <tr>\n",
       "      <th>15</th>\n",
       "      <td>admh_hxmc2</td>\n",
       "      <td>0.267426</td>\n",
       "      <td>-0.350877</td>\n",
       "    </tr>\n",
       "    <tr>\n",
       "      <th>16</th>\n",
       "      <td>adsc_gender2</td>\n",
       "      <td>0.243776</td>\n",
       "      <td>0.403509</td>\n",
       "    </tr>\n",
       "    <tr>\n",
       "      <th>17</th>\n",
       "      <td>adscmat_empl_comb4</td>\n",
       "      <td>0.239463</td>\n",
       "      <td>-0.070175</td>\n",
       "    </tr>\n",
       "    <tr>\n",
       "      <th>18</th>\n",
       "      <td>adedin_cycleid_all-10-15-20_db</td>\n",
       "      <td>0.220712</td>\n",
       "      <td>-1.000000</td>\n",
       "    </tr>\n",
       "    <tr>\n",
       "      <th>19</th>\n",
       "      <td>adscmat_nulliparous2</td>\n",
       "      <td>0.151663</td>\n",
       "      <td>-0.298246</td>\n",
       "    </tr>\n",
       "    <tr>\n",
       "      <th>20</th>\n",
       "      <td>adscmat_educ_combohs4_missing</td>\n",
       "      <td>0.151225</td>\n",
       "      <td>-0.333333</td>\n",
       "    </tr>\n",
       "    <tr>\n",
       "      <th>21</th>\n",
       "      <td>adelig_mat_age</td>\n",
       "      <td>0.141746</td>\n",
       "      <td>-1.000000</td>\n",
       "    </tr>\n",
       "    <tr>\n",
       "      <th>22</th>\n",
       "      <td>adcdrisc_cdrisc_raw</td>\n",
       "      <td>0.098888</td>\n",
       "      <td>-1.000000</td>\n",
       "    </tr>\n",
       "    <tr>\n",
       "      <th>23</th>\n",
       "      <td>adedin_edinburgh_raw_all-10-15-20_db</td>\n",
       "      <td>0.098191</td>\n",
       "      <td>0.929825</td>\n",
       "    </tr>\n",
       "    <tr>\n",
       "      <th>24</th>\n",
       "      <td>alcsmk_t1_avecigs.wk</td>\n",
       "      <td>0.094053</td>\n",
       "      <td>-1.000000</td>\n",
       "    </tr>\n",
       "    <tr>\n",
       "      <th>25</th>\n",
       "      <td>adscmat_parity</td>\n",
       "      <td>0.087149</td>\n",
       "      <td>-0.192982</td>\n",
       "    </tr>\n",
       "    <tr>\n",
       "      <th>26</th>\n",
       "      <td>advs_prepregweight_missing</td>\n",
       "      <td>0.074829</td>\n",
       "      <td>0.140351</td>\n",
       "    </tr>\n",
       "    <tr>\n",
       "      <th>27</th>\n",
       "      <td>alcsmk_t2_avecigs.wk</td>\n",
       "      <td>0.067414</td>\n",
       "      <td>-1.000000</td>\n",
       "    </tr>\n",
       "    <tr>\n",
       "      <th>28</th>\n",
       "      <td>adsmk_avgnumcighome</td>\n",
       "      <td>0.052152</td>\n",
       "      <td>-0.035088</td>\n",
       "    </tr>\n",
       "    <tr>\n",
       "      <th>29</th>\n",
       "      <td>advs_prepregbmi_missing</td>\n",
       "      <td>0.043719</td>\n",
       "      <td>0.140351</td>\n",
       "    </tr>\n",
       "    <tr>\n",
       "      <th>...</th>\n",
       "      <td>...</td>\n",
       "      <td>...</td>\n",
       "      <td>...</td>\n",
       "    </tr>\n",
       "    <tr>\n",
       "      <th>157</th>\n",
       "      <td>admh_thromboembolicdiseaseprior2_missing</td>\n",
       "      <td>0.000000</td>\n",
       "      <td>0.000000</td>\n",
       "    </tr>\n",
       "    <tr>\n",
       "      <th>158</th>\n",
       "      <td>admh_hx_baby_shoulder2</td>\n",
       "      <td>0.000000</td>\n",
       "      <td>0.000000</td>\n",
       "    </tr>\n",
       "    <tr>\n",
       "      <th>159</th>\n",
       "      <td>admh_thromboembolicdiseaseprior2</td>\n",
       "      <td>0.000000</td>\n",
       "      <td>0.000000</td>\n",
       "    </tr>\n",
       "    <tr>\n",
       "      <th>160</th>\n",
       "      <td>admh_tbprior2</td>\n",
       "      <td>0.000000</td>\n",
       "      <td>0.000000</td>\n",
       "    </tr>\n",
       "    <tr>\n",
       "      <th>161</th>\n",
       "      <td>admh_sicklecellanemiaprior2_missing</td>\n",
       "      <td>0.000000</td>\n",
       "      <td>0.000000</td>\n",
       "    </tr>\n",
       "    <tr>\n",
       "      <th>162</th>\n",
       "      <td>admh_sicklecellanemiaprior2</td>\n",
       "      <td>0.000000</td>\n",
       "      <td>0.000000</td>\n",
       "    </tr>\n",
       "    <tr>\n",
       "      <th>163</th>\n",
       "      <td>admh_renaldisprior2</td>\n",
       "      <td>0.000000</td>\n",
       "      <td>0.000000</td>\n",
       "    </tr>\n",
       "    <tr>\n",
       "      <th>164</th>\n",
       "      <td>admh_raprior2_missing</td>\n",
       "      <td>0.000000</td>\n",
       "      <td>0.000000</td>\n",
       "    </tr>\n",
       "    <tr>\n",
       "      <th>165</th>\n",
       "      <td>admh_raprior2</td>\n",
       "      <td>0.000000</td>\n",
       "      <td>0.000000</td>\n",
       "    </tr>\n",
       "    <tr>\n",
       "      <th>166</th>\n",
       "      <td>admh_pprompriorfp2</td>\n",
       "      <td>0.000000</td>\n",
       "      <td>0.000000</td>\n",
       "    </tr>\n",
       "    <tr>\n",
       "      <th>167</th>\n",
       "      <td>admh_ppromprior2</td>\n",
       "      <td>0.000000</td>\n",
       "      <td>0.000000</td>\n",
       "    </tr>\n",
       "    <tr>\n",
       "      <th>168</th>\n",
       "      <td>admh_placentapreviapriorfp2</td>\n",
       "      <td>0.000000</td>\n",
       "      <td>0.000000</td>\n",
       "    </tr>\n",
       "    <tr>\n",
       "      <th>169</th>\n",
       "      <td>admh_bloodclotprior2</td>\n",
       "      <td>0.000000</td>\n",
       "      <td>0.000000</td>\n",
       "    </tr>\n",
       "    <tr>\n",
       "      <th>170</th>\n",
       "      <td>admh_placentapreviaprior2</td>\n",
       "      <td>0.000000</td>\n",
       "      <td>0.000000</td>\n",
       "    </tr>\n",
       "    <tr>\n",
       "      <th>171</th>\n",
       "      <td>admh_lupusprior2_missing</td>\n",
       "      <td>0.000000</td>\n",
       "      <td>0.000000</td>\n",
       "    </tr>\n",
       "    <tr>\n",
       "      <th>172</th>\n",
       "      <td>admh_lupusprior2</td>\n",
       "      <td>0.000000</td>\n",
       "      <td>0.000000</td>\n",
       "    </tr>\n",
       "    <tr>\n",
       "      <th>173</th>\n",
       "      <td>admh_hypothyroidprior2</td>\n",
       "      <td>0.000000</td>\n",
       "      <td>0.000000</td>\n",
       "    </tr>\n",
       "    <tr>\n",
       "      <th>174</th>\n",
       "      <td>admh_hyperthyroidprior2</td>\n",
       "      <td>0.000000</td>\n",
       "      <td>0.000000</td>\n",
       "    </tr>\n",
       "    <tr>\n",
       "      <th>175</th>\n",
       "      <td>admh_hxsuid2</td>\n",
       "      <td>0.000000</td>\n",
       "      <td>0.000000</td>\n",
       "    </tr>\n",
       "    <tr>\n",
       "      <th>176</th>\n",
       "      <td>admh_hxsidssuid2</td>\n",
       "      <td>0.000000</td>\n",
       "      <td>0.000000</td>\n",
       "    </tr>\n",
       "    <tr>\n",
       "      <th>177</th>\n",
       "      <td>admh_hxsids2</td>\n",
       "      <td>0.000000</td>\n",
       "      <td>0.000000</td>\n",
       "    </tr>\n",
       "    <tr>\n",
       "      <th>178</th>\n",
       "      <td>admh_hxsb2_missing</td>\n",
       "      <td>0.000000</td>\n",
       "      <td>0.000000</td>\n",
       "    </tr>\n",
       "    <tr>\n",
       "      <th>179</th>\n",
       "      <td>admh_hxsb2</td>\n",
       "      <td>0.000000</td>\n",
       "      <td>0.000000</td>\n",
       "    </tr>\n",
       "    <tr>\n",
       "      <th>180</th>\n",
       "      <td>admh_hxpt2</td>\n",
       "      <td>0.000000</td>\n",
       "      <td>0.000000</td>\n",
       "    </tr>\n",
       "    <tr>\n",
       "      <th>181</th>\n",
       "      <td>admh_hxnt2</td>\n",
       "      <td>0.000000</td>\n",
       "      <td>0.000000</td>\n",
       "    </tr>\n",
       "    <tr>\n",
       "      <th>182</th>\n",
       "      <td>admh_hxlb2</td>\n",
       "      <td>0.000000</td>\n",
       "      <td>0.000000</td>\n",
       "    </tr>\n",
       "    <tr>\n",
       "      <th>183</th>\n",
       "      <td>admh_hxid2</td>\n",
       "      <td>0.000000</td>\n",
       "      <td>0.000000</td>\n",
       "    </tr>\n",
       "    <tr>\n",
       "      <th>184</th>\n",
       "      <td>admh_apsprior2</td>\n",
       "      <td>0.000000</td>\n",
       "      <td>0.000000</td>\n",
       "    </tr>\n",
       "    <tr>\n",
       "      <th>185</th>\n",
       "      <td>admh_hxab2</td>\n",
       "      <td>0.000000</td>\n",
       "      <td>0.000000</td>\n",
       "    </tr>\n",
       "    <tr>\n",
       "      <th>186</th>\n",
       "      <td>sensor_toi_f1_mvt_pwr_mvt31</td>\n",
       "      <td>0.000000</td>\n",
       "      <td>0.000000</td>\n",
       "    </tr>\n",
       "  </tbody>\n",
       "</table>\n",
       "<p>187 rows × 3 columns</p>\n",
       "</div>"
      ],
      "text/plain": [
       "                                          ftr       imp      sign\n",
       "0                alcsmk_t2_avecigs.wk_missing  4.817564  1.000000\n",
       "1                alcsmk_t1_avecigs.wk_missing  4.664752  1.000000\n",
       "2                       alcsmk_t1_alc_missing  1.971824 -1.000000\n",
       "3                          alcsmk_bt2_missing  1.755560 -1.000000\n",
       "4                       alcsmk_t2_alc_missing  1.668113 -1.000000\n",
       "5                          alcsmk_bt1_missing  1.600763 -1.000000\n",
       "6                adscmat_grossincome7_missing  1.354289 -0.842105\n",
       "7                       adscmat_educ_combohs4  1.211004 -1.000000\n",
       "8                  adscmat_empl_comb4_missing  0.991879 -0.789474\n",
       "9                                admh_anemia3  0.975911 -0.964912\n",
       "10                       adscmat_toiletwater2  0.500636  1.000000\n",
       "11                                 admh_hxft2  0.400906 -0.666667\n",
       "12                              alcsmk_t2_alc  0.385460 -0.912281\n",
       "13                              alcsmk_t1_alc  0.375484 -1.000000\n",
       "14       adfetalgrowth_deviationindex_missing  0.280667 -0.508772\n",
       "15                                 admh_hxmc2  0.267426 -0.350877\n",
       "16                               adsc_gender2  0.243776  0.403509\n",
       "17                         adscmat_empl_comb4  0.239463 -0.070175\n",
       "18             adedin_cycleid_all-10-15-20_db  0.220712 -1.000000\n",
       "19                       adscmat_nulliparous2  0.151663 -0.298246\n",
       "20              adscmat_educ_combohs4_missing  0.151225 -0.333333\n",
       "21                             adelig_mat_age  0.141746 -1.000000\n",
       "22                        adcdrisc_cdrisc_raw  0.098888 -1.000000\n",
       "23       adedin_edinburgh_raw_all-10-15-20_db  0.098191  0.929825\n",
       "24                       alcsmk_t1_avecigs.wk  0.094053 -1.000000\n",
       "25                             adscmat_parity  0.087149 -0.192982\n",
       "26                 advs_prepregweight_missing  0.074829  0.140351\n",
       "27                       alcsmk_t2_avecigs.wk  0.067414 -1.000000\n",
       "28                        adsmk_avgnumcighome  0.052152 -0.035088\n",
       "29                    advs_prepregbmi_missing  0.043719  0.140351\n",
       "..                                        ...       ...       ...\n",
       "157  admh_thromboembolicdiseaseprior2_missing  0.000000  0.000000\n",
       "158                    admh_hx_baby_shoulder2  0.000000  0.000000\n",
       "159          admh_thromboembolicdiseaseprior2  0.000000  0.000000\n",
       "160                             admh_tbprior2  0.000000  0.000000\n",
       "161       admh_sicklecellanemiaprior2_missing  0.000000  0.000000\n",
       "162               admh_sicklecellanemiaprior2  0.000000  0.000000\n",
       "163                       admh_renaldisprior2  0.000000  0.000000\n",
       "164                     admh_raprior2_missing  0.000000  0.000000\n",
       "165                             admh_raprior2  0.000000  0.000000\n",
       "166                        admh_pprompriorfp2  0.000000  0.000000\n",
       "167                          admh_ppromprior2  0.000000  0.000000\n",
       "168               admh_placentapreviapriorfp2  0.000000  0.000000\n",
       "169                      admh_bloodclotprior2  0.000000  0.000000\n",
       "170                 admh_placentapreviaprior2  0.000000  0.000000\n",
       "171                  admh_lupusprior2_missing  0.000000  0.000000\n",
       "172                          admh_lupusprior2  0.000000  0.000000\n",
       "173                    admh_hypothyroidprior2  0.000000  0.000000\n",
       "174                   admh_hyperthyroidprior2  0.000000  0.000000\n",
       "175                              admh_hxsuid2  0.000000  0.000000\n",
       "176                          admh_hxsidssuid2  0.000000  0.000000\n",
       "177                              admh_hxsids2  0.000000  0.000000\n",
       "178                        admh_hxsb2_missing  0.000000  0.000000\n",
       "179                                admh_hxsb2  0.000000  0.000000\n",
       "180                                admh_hxpt2  0.000000  0.000000\n",
       "181                                admh_hxnt2  0.000000  0.000000\n",
       "182                                admh_hxlb2  0.000000  0.000000\n",
       "183                                admh_hxid2  0.000000  0.000000\n",
       "184                            admh_apsprior2  0.000000  0.000000\n",
       "185                                admh_hxab2  0.000000  0.000000\n",
       "186               sensor_toi_f1_mvt_pwr_mvt31  0.000000  0.000000\n",
       "\n",
       "[187 rows x 3 columns]"
      ]
     },
     "execution_count": 237,
     "metadata": {},
     "output_type": "execute_result"
    }
   ],
   "source": [
    "imps.groupby('ftr').mean().sort_values(by='imp',ascending=False).reset_index()"
   ]
  },
  {
   "cell_type": "markdown",
   "metadata": {},
   "source": [
    "One thing is clear:  missingness in the alcsmk table is the dead give away.  "
   ]
  },
  {
   "cell_type": "code",
   "execution_count": 244,
   "metadata": {},
   "outputs": [
    {
     "name": "stdout",
     "output_type": "stream",
     "text": [
      "65.3\n"
     ]
    }
   ],
   "source": [
    "top6alcsmk = imps.groupby('ftr').mean().sort_values(by='imp',ascending=False).reset_index().imp[:6].sum()\n",
    "total = imps.groupby('ftr').mean().sort_values(by='imp',ascending=False).reset_index().imp.sum()\n",
    "print(round(100 * top6alcsmk / total, 1))"
   ]
  },
  {
   "cell_type": "code",
   "execution_count": 275,
   "metadata": {},
   "outputs": [
    {
     "data": {
      "text/plain": [
       "['alcsmk_t2_avecigs.wk_missing',\n",
       " 'alcsmk_t1_avecigs.wk_missing',\n",
       " 'alcsmk_t1_alc_missing',\n",
       " 'alcsmk_bt2_missing',\n",
       " 'alcsmk_t2_alc_missing',\n",
       " 'alcsmk_bt1_missing']"
      ]
     },
     "execution_count": 275,
     "metadata": {},
     "output_type": "execute_result"
    }
   ],
   "source": [
    "top6 = imps.groupby('ftr').mean().sort_values(by='imp',ascending=False).reset_index()[:6].ftr.tolist()\n",
    "top6"
   ]
  },
  {
   "cell_type": "markdown",
   "metadata": {},
   "source": [
    "It accounts for 65% of all averaged importances.\n",
    "\n"
   ]
  },
  {
   "cell_type": "code",
   "execution_count": 312,
   "metadata": {},
   "outputs": [],
   "source": [
    "import missingno\n",
    "import seaborn as sns\n",
    "top6y = pd.concat([x.loc[:,top6],y], axis=1)"
   ]
  },
  {
   "cell_type": "code",
   "execution_count": 313,
   "metadata": {},
   "outputs": [
    {
     "data": {
      "text/plain": [
       "<matplotlib.axes._subplots.AxesSubplot at 0x139e7e940>"
      ]
     },
     "execution_count": 313,
     "metadata": {},
     "output_type": "execute_result"
    },
    {
     "data": {
      "image/png": "[encoded data removed]",
      "text/plain": [
       "<Figure size 1440x864 with 2 Axes>"
      ]
     },
     "metadata": {
      "needs_background": "light"
     },
     "output_type": "display_data"
    }
   ],
   "source": [
    "missingno.heatmap(top6y.replace(1,np.nan))"
   ]
  },
  {
   "cell_type": "code",
   "execution_count": 310,
   "metadata": {},
   "outputs": [
    {
     "data": {
      "text/plain": [
       "<matplotlib.axes._subplots.AxesSubplot at 0x1383c5128>"
      ]
     },
     "execution_count": 310,
     "metadata": {},
     "output_type": "execute_result"
    },
    {
     "data": {
      "image/png": "[encoded data removed]",
      "text/plain": [
       "<Figure size 432x288 with 2 Axes>"
      ]
     },
     "metadata": {
      "needs_background": "light"
     },
     "output_type": "display_data"
    }
   ],
   "source": [
    "sns.heatmap(top6y.sort_values(by='adsc_dlvrybefore28wks'), vmin=0, vmax=1, cmap=['red','green'])"
   ]
  },
  {
   "cell_type": "code",
   "execution_count": 314,
   "metadata": {},
   "outputs": [
    {
     "data": {
      "text/plain": [
       "<matplotlib.axes._subplots.AxesSubplot at 0x1311097b8>"
      ]
     },
     "execution_count": 314,
     "metadata": {},
     "output_type": "execute_result"
    },
    {
     "data": {
      "image/png": "[encoded data removed]",
      "text/plain": [
       "<Figure size 432x288 with 2 Axes>"
      ]
     },
     "metadata": {
      "needs_background": "light"
     },
     "output_type": "display_data"
    }
   ],
   "source": [
    "sns.heatmap(top6y.sort_values(by='adsc_dlvrybefore28wks')[-100:], vmin=0, vmax=1, cmap=['red','green'])"
   ]
  },
  {
   "cell_type": "markdown",
   "metadata": {},
   "source": [
    "# Perfect AUC on Validation\n",
    "Note that for auc99[43] and auc99[54], we have perfect AUC.\n",
    "\n",
    "Probably has something to do with the exact event split into training and validation..."
   ]
  },
  {
   "cell_type": "code",
   "execution_count": 247,
   "metadata": {},
   "outputs": [
    {
     "name": "stdout",
     "output_type": "stream",
     "text": [
      "203 237\n"
     ]
    }
   ],
   "source": [
    "print(auc99[42], auc99[53])"
   ]
  },
  {
   "cell_type": "code",
   "execution_count": 256,
   "metadata": {},
   "outputs": [],
   "source": [
    "# INPUTS\n",
    "target = 'adsc_dlvrybefore28wks'\n",
    "data = toif1pwr_demotoif1pwr_df\n",
    "seed=237\n",
    "# AUC 50: 83\n",
    "# AUC 66: 5, 17, 53, 61, 67, 73, 79, 89, 127\n",
    "# AUC 83: 2, 11, 19, 31, 37, 41, 43, 71, 97, 101, 103, 107, 109\n",
    "# AUC 99: 3, 7, 13, 23, 29, 47, 59, 113, 131\n",
    "#------------------------------------------------------\n",
    "\n",
    "# Define Scenario Data (only Demo/Clinical)\n",
    "x = data.drop(target_cols+['sensor_toi_f1_mvt_pwr_mvt41'], axis=1).copy()\n",
    "y = data[[target]].copy()\n",
    "\n",
    "# Only keep records with non-missing target value\n",
    "valid_target_index = y[target].replace(-999999, np.nan).dropna().index\n",
    "x = x.loc[valid_target_index,:]\n",
    "y = y.loc[valid_target_index,:]\n",
    "\n",
    "\n",
    "# Employ Missing Indicator Method\n",
    "missing_cols = [\n",
    "    item for item in \n",
    "    x.replace(-999999,np.nan).isna().sum().to_frame('missing').query('missing > 0').index.tolist()\n",
    "]\n",
    "for col in missing_cols:\n",
    "    x[col+'_missing'] = [1  if item==-999999 else 0 for item in x[col]]\n",
    "    x[col] = x[col].replace(-999999, 0)\n",
    "\n",
    "ptrn = dict()\n",
    "pval = dict()\n",
    "perfect = [auc99[42], auc99[53]]\n",
    "for seed in perfect:\n",
    "    # Split Data\n",
    "    x_trn, x_val, y_trn, y_val = train_test_split(x, y, train_size=0.7, stratify=y, random_state=seed)\n",
    "    ptrn[seed] = y_trn.query('adsc_dlvrybefore28wks == 1').index\n",
    "    pval[seed] = y_val.query('adsc_dlvrybefore28wks == 1').index\n",
    "\n"
   ]
  },
  {
   "cell_type": "code",
   "execution_count": 254,
   "metadata": {},
   "outputs": [
    {
     "data": {
      "text/plain": [
       "Index(['S002-BISH-04647', 'S002-BISH-05908', 'S002-BISH-06497',\n",
       "       'S002-BISH-03841', 'S002-BISH-01907', 'S002-BISH-03857',\n",
       "       'S002-BISH-04628', 'S002-BISH-06632'],\n",
       "      dtype='object', name='patid')"
      ]
     },
     "execution_count": 254,
     "metadata": {},
     "output_type": "execute_result"
    }
   ],
   "source": [
    "ptrn[perfect[0]]"
   ]
  },
  {
   "cell_type": "code",
   "execution_count": 255,
   "metadata": {},
   "outputs": [
    {
     "data": {
      "text/plain": [
       "Index(['S002-BISH-02409', 'S002-BISH-04937', 'S002-BISH-03957'], dtype='object', name='patid')"
      ]
     },
     "execution_count": 255,
     "metadata": {},
     "output_type": "execute_result"
    }
   ],
   "source": [
    "pval[perfect[0]]"
   ]
  },
  {
   "cell_type": "code",
   "execution_count": 257,
   "metadata": {},
   "outputs": [
    {
     "data": {
      "text/plain": [
       "Index(['S002-BISH-06632', 'S002-BISH-06497', 'S002-BISH-02409',\n",
       "       'S002-BISH-01907', 'S002-BISH-05908', 'S002-BISH-03841',\n",
       "       'S002-BISH-03857', 'S002-BISH-04647'],\n",
       "      dtype='object', name='patid')"
      ]
     },
     "execution_count": 257,
     "metadata": {},
     "output_type": "execute_result"
    }
   ],
   "source": [
    "ptrn[perfect[1]]"
   ]
  },
  {
   "cell_type": "code",
   "execution_count": 258,
   "metadata": {},
   "outputs": [
    {
     "data": {
      "text/plain": [
       "Index(['S002-BISH-04937', 'S002-BISH-03957', 'S002-BISH-04628'], dtype='object', name='patid')"
      ]
     },
     "execution_count": 258,
     "metadata": {},
     "output_type": "execute_result"
    }
   ],
   "source": [
    "pval[perfect[1]]"
   ]
  },
  {
   "cell_type": "markdown",
   "metadata": {},
   "source": [
    "# The AlcSmk Table"
   ]
  },
  {
   "cell_type": "code",
   "execution_count": 267,
   "metadata": {},
   "outputs": [
    {
     "name": "stdout",
     "output_type": "stream",
     "text": [
      "Any NaNs? 0\n",
      "Any -999999s? 1275\n"
     ]
    }
   ],
   "source": [
    "alcsmk = pd.read_csv('../data/raw/File_Early_Signal_alcohol_nicolo_20190924_DB.csv')\n",
    "print('Any NaNs?', alcsmk.isna().sum().sum())\n",
    "print('Any -999999s?', alcsmk.replace(-999999,np.nan).isna().sum().sum())"
   ]
  },
  {
   "cell_type": "code",
   "execution_count": 270,
   "metadata": {},
   "outputs": [
    {
     "data": {
      "text/html": [
       "<div>\n",
       "<style scoped>\n",
       "    .dataframe tbody tr th:only-of-type {\n",
       "        vertical-align: middle;\n",
       "    }\n",
       "\n",
       "    .dataframe tbody tr th {\n",
       "        vertical-align: top;\n",
       "    }\n",
       "\n",
       "    .dataframe thead th {\n",
       "        text-align: right;\n",
       "    }\n",
       "</style>\n",
       "<table border=\"1\" class=\"dataframe\">\n",
       "  <thead>\n",
       "    <tr style=\"text-align: right;\">\n",
       "      <th></th>\n",
       "      <th>nan</th>\n",
       "    </tr>\n",
       "  </thead>\n",
       "  <tbody>\n",
       "    <tr>\n",
       "      <th>T3_Alc_perday</th>\n",
       "      <td>57</td>\n",
       "    </tr>\n",
       "    <tr>\n",
       "      <th>T1_AveCigs.Wk</th>\n",
       "      <td>203</td>\n",
       "    </tr>\n",
       "    <tr>\n",
       "      <th>T2_AveCigs.Wk</th>\n",
       "      <td>203</td>\n",
       "    </tr>\n",
       "    <tr>\n",
       "      <th>T3_AveCigs.Wk</th>\n",
       "      <td>203</td>\n",
       "    </tr>\n",
       "    <tr>\n",
       "      <th>Ave_CigsPreg_Imp</th>\n",
       "      <td>203</td>\n",
       "    </tr>\n",
       "    <tr>\n",
       "      <th>Smk_grp</th>\n",
       "      <td>203</td>\n",
       "    </tr>\n",
       "    <tr>\n",
       "      <th>Smk_Bi-999999ry</th>\n",
       "      <td>203</td>\n",
       "    </tr>\n",
       "  </tbody>\n",
       "</table>\n",
       "</div>"
      ],
      "text/plain": [
       "                  nan\n",
       "T3_Alc_perday      57\n",
       "T1_AveCigs.Wk     203\n",
       "T2_AveCigs.Wk     203\n",
       "T3_AveCigs.Wk     203\n",
       "Ave_CigsPreg_Imp  203\n",
       "Smk_grp           203\n",
       "Smk_Bi-999999ry   203"
      ]
     },
     "execution_count": 270,
     "metadata": {},
     "output_type": "execute_result"
    }
   ],
   "source": [
    "alcsmk.replace(-999999,np.nan).isna().sum().to_frame('nan').query('nan > 0')"
   ]
  },
  {
   "cell_type": "code",
   "execution_count": null,
   "metadata": {},
   "outputs": [],
   "source": []
  },
  {
   "cell_type": "code",
   "execution_count": null,
   "metadata": {},
   "outputs": [],
   "source": []
  },
  {
   "cell_type": "code",
   "execution_count": null,
   "metadata": {},
   "outputs": [],
   "source": []
  },
  {
   "cell_type": "code",
   "execution_count": null,
   "metadata": {},
   "outputs": [],
   "source": []
  },
  {
   "cell_type": "code",
   "execution_count": null,
   "metadata": {},
   "outputs": [],
   "source": []
  },
  {
   "cell_type": "code",
   "execution_count": null,
   "metadata": {},
   "outputs": [],
   "source": []
  },
  {
   "cell_type": "code",
   "execution_count": null,
   "metadata": {},
   "outputs": [],
   "source": []
  },
  {
   "cell_type": "code",
   "execution_count": null,
   "metadata": {},
   "outputs": [],
   "source": []
  },
  {
   "cell_type": "code",
   "execution_count": null,
   "metadata": {},
   "outputs": [],
   "source": []
  },
  {
   "cell_type": "code",
   "execution_count": null,
   "metadata": {},
   "outputs": [],
   "source": []
  },
  {
   "cell_type": "code",
   "execution_count": 320,
   "metadata": {},
   "outputs": [
    {
     "name": "stdout",
     "output_type": "stream",
     "text": [
      "AUC: 0.4936708860759494\n"
     ]
    }
   ],
   "source": [
    "import warnings\n",
    "warnings.filterwarnings(action='ignore') # so many annoying warnings for this cell\n",
    "\n",
    "# INPUTS\n",
    "target = 'adsc_dlvrybefore28wks'\n",
    "data = toif1pwr_demotoif1pwr_df\n",
    "seed=13  # used to be AUC 1.0\n",
    "# AUC 50: 83\n",
    "# AUC 66: 5, 17, 53, 61, 67, 73, 79, 89, 127\n",
    "# AUC 83: 2, 11, 19, 31, 37, 41, 43, 71, 97, 101, 103, 107, 109\n",
    "# AUC 99: 3, 7, 13, 23, 29, 47, 59, 113, 131\n",
    "#------------------------------------------------------\n",
    "\n",
    "# Define Scenario Data (only Demo/Clinical)\n",
    "alcsmk_vars = [var for var in data.columns if 'alcsmk' in var]\n",
    "x = data.drop(target_cols+['sensor_toi_f1_mvt_pwr_mvt41']+alcsmk_vars, axis=1).copy()\n",
    "y = data[[target]].copy()\n",
    "\n",
    "# Only keep records with non-missing target value\n",
    "valid_target_index = y[target].replace(-999999, np.nan).dropna().index\n",
    "x = x.loc[valid_target_index,:]\n",
    "y = y.loc[valid_target_index,:]\n",
    "\n",
    "\n",
    "# Employ Missing Indicator Method\n",
    "missing_cols = [\n",
    "    item for item in \n",
    "    x.replace(-999999,np.nan).isna().sum().to_frame('missing').query('missing > 0').index.tolist()\n",
    "]\n",
    "for col in missing_cols:\n",
    "    x[col+'_missing'] = [1  if item==-999999 else 0 for item in x[col]]\n",
    "    x[col] = x[col].replace(-999999, 0)\n",
    "\n",
    "\n",
    "# Split Data\n",
    "x_trn, x_val, y_trn, y_val = train_test_split(x, y, train_size=0.7, stratify=y, random_state=seed)\n",
    "\n",
    "# SMOTE the training data\n",
    "cats = [idx for idx,col in enumerate(x_trn.columns) if len(x[col].unique()) < 10]\n",
    "sm = SMOTENC(cats, random_state=seed)\n",
    "x_trn, y_trn = sm.fit_resample(x_trn.values, y_trn.values.ravel())\n",
    "\n",
    "# Fit Model\n",
    "model = LogisticRegression(penalty='l1', solver='liblinear', \n",
    "                          random_state=seed)\n",
    "model.fit(x_trn, y_trn)\n",
    "\n",
    "# Make Predictions\n",
    "yp_trn = model.predict(x_trn)\n",
    "yp_val = model.predict(x_val)\n",
    "\n",
    "\n",
    "#print('AUC:', roc_auc_score(y_val, yp_val))\n",
    "    \n",
    "feature_importance = abs(model.coef_[0])\n",
    "rank = np.flip(np.argsort(feature_importance))\n",
    "imps = pd.concat([\n",
    "    imps,\n",
    "    pd.DataFrame({\n",
    "        'ftr': x.columns[rank], \n",
    "        'imp': feature_importance[rank], \n",
    "        'sign': np.sign(model.coef_[0][rank])\n",
    "    })])\n",
    "    \n",
    "print('AUC:', roc_auc_score(y_val, yp_val))"
   ]
  },
  {
   "cell_type": "code",
   "execution_count": 319,
   "metadata": {},
   "outputs": [
    {
     "name": "stdout",
     "output_type": "stream",
     "text": [
      "AUC: 0.4972875226039783\n"
     ]
    }
   ],
   "source": []
  },
  {
   "cell_type": "code",
   "execution_count": null,
   "metadata": {},
   "outputs": [],
   "source": []
  },
  {
   "cell_type": "code",
   "execution_count": null,
   "metadata": {},
   "outputs": [],
   "source": []
  },
  {
   "cell_type": "code",
   "execution_count": null,
   "metadata": {},
   "outputs": [],
   "source": []
  },
  {
   "cell_type": "code",
   "execution_count": null,
   "metadata": {},
   "outputs": [],
   "source": []
  },
  {
   "cell_type": "code",
   "execution_count": null,
   "metadata": {},
   "outputs": [],
   "source": []
  },
  {
   "cell_type": "code",
   "execution_count": 321,
   "metadata": {},
   "outputs": [],
   "source": [
    "target_cols = [\n",
    "    'adscmat_labortype_spontaneousoraugmented_db', \n",
    "    'adsc_dlvry_dt', \n",
    "    'adsc_dlvrybefore28wks', \n",
    "    'adsc_dlvrybefore34wks', \n",
    "    'adsc_dlvryga_dys', \n",
    "    'adsc_dlvryga_dys_sbadj']\n",
    "\n",
    "# Get Full Dataset\n",
    "dff = pd.read_csv('../data/processed/full_set_v4_20200110_KU.csv')\n",
    "\n",
    "# Set PatId Index\n",
    "dff.set_index('patid', inplace=True)\n",
    "\n",
    "# Remove Cesareans/Inductions\n",
    "dff.query('adscmat_labortype_spontaneousoraugmented_db == 1', inplace=True)\n",
    "\n",
    "# Remove records w/ GA@Birth < 25 wks (168 days is last day of week 24, so let's do 170 for clean cut off)\n",
    "dff.query('adsc_dlvryga_dys >= 170', inplace=True)\n",
    "\n",
    "# NEW: Remove records w/ GA@Recruitment > 25 weeks\n",
    "dff.query('adelig_ccga <= 170', inplace=True)\n",
    "dff.drop('adelig_ccga', axis=1, inplace=True)\n",
    "\n",
    "\n",
    "# Feature Subsets\n",
    "#  -- Sensor Cols:       Monica and Toitu Cols (usually; we dropped Monica above)\n",
    "#  -- Toitu Cols:        Toitu Cols\n",
    "#  -- Toitu F1 Cols:     Toitu F1 Cols\n",
    "#  -- Toitu F1 Pwr Cols: Toitu F1 Power Cols (band21, band31, band41)\n",
    "democlinical_cols = [col for col in dff.columns if 'sensor' not in col]\n",
    "sensor_cols = [col for col in dff.columns if 'sensor' in col]\n",
    "\n",
    "dc = dff.drop(sensor_cols, axis=1)"
   ]
  },
  {
   "cell_type": "code",
   "execution_count": 323,
   "metadata": {},
   "outputs": [
    {
     "name": "stdout",
     "output_type": "stream",
     "text": [
      "AUC: 0.4908296943231441\n"
     ]
    }
   ],
   "source": [
    "import warnings\n",
    "warnings.filterwarnings(action='ignore') # so many annoying warnings for this cell\n",
    "\n",
    "# INPUTS\n",
    "target = 'adsc_dlvrybefore28wks'\n",
    "data = dc\n",
    "seed=13  # used to be AUC 1.0\n",
    "# AUC 50: 83\n",
    "# AUC 66: 5, 17, 53, 61, 67, 73, 79, 89, 127\n",
    "# AUC 83: 2, 11, 19, 31, 37, 41, 43, 71, 97, 101, 103, 107, 109\n",
    "# AUC 99: 3, 7, 13, 23, 29, 47, 59, 113, 131\n",
    "#------------------------------------------------------\n",
    "\n",
    "# Define Scenario Data (only Demo/Clinical)\n",
    "alcsmk_vars = [var for var in data.columns if 'alcsmk' in var]\n",
    "x = data.drop(target_cols + alcsmk_vars, axis=1).copy()\n",
    "y = data[[target]].copy()\n",
    "\n",
    "# Only keep records with non-missing target value\n",
    "valid_target_index = y[target].replace(-999999, np.nan).dropna().index\n",
    "x = x.loc[valid_target_index,:]\n",
    "y = y.loc[valid_target_index,:]\n",
    "\n",
    "\n",
    "# Employ Missing Indicator Method\n",
    "missing_cols = [\n",
    "    item for item in \n",
    "    x.replace(-999999,np.nan).isna().sum().to_frame('missing').query('missing > 0').index.tolist()\n",
    "]\n",
    "for col in missing_cols:\n",
    "    x[col+'_missing'] = [1  if item==-999999 else 0 for item in x[col]]\n",
    "    x[col] = x[col].replace(-999999, 0)\n",
    "\n",
    "\n",
    "# Split Data\n",
    "x_trn, x_val, y_trn, y_val = train_test_split(x, y, train_size=0.7, stratify=y, random_state=seed)\n",
    "\n",
    "# SMOTE the training data\n",
    "cats = [idx for idx,col in enumerate(x_trn.columns) if len(x[col].unique()) < 10]\n",
    "sm = SMOTENC(cats, random_state=seed)\n",
    "x_trn, y_trn = sm.fit_resample(x_trn.values, y_trn.values.ravel())\n",
    "\n",
    "# Fit Model\n",
    "model = LogisticRegression(penalty='l1', solver='liblinear', \n",
    "                          random_state=seed)\n",
    "model.fit(x_trn, y_trn)\n",
    "\n",
    "# Make Predictions\n",
    "yp_trn = model.predict(x_trn)\n",
    "yp_val = model.predict(x_val)\n",
    "\n",
    "\n",
    "#print('AUC:', roc_auc_score(y_val, yp_val))\n",
    "    \n",
    "feature_importance = abs(model.coef_[0])\n",
    "rank = np.flip(np.argsort(feature_importance))\n",
    "imps = pd.concat([\n",
    "    imps,\n",
    "    pd.DataFrame({\n",
    "        'ftr': x.columns[rank], \n",
    "        'imp': feature_importance[rank], \n",
    "        'sign': np.sign(model.coef_[0][rank])\n",
    "    })])\n",
    "    \n",
    "print('AUC:', roc_auc_score(y_val, yp_val))"
   ]
  },
  {
   "cell_type": "code",
   "execution_count": null,
   "metadata": {},
   "outputs": [],
   "source": []
  },
  {
   "cell_type": "code",
   "execution_count": 324,
   "metadata": {},
   "outputs": [
    {
     "data": {
      "text/plain": [
       "(3841, 196)"
      ]
     },
     "execution_count": 324,
     "metadata": {},
     "output_type": "execute_result"
    }
   ],
   "source": [
    "x.shape"
   ]
  },
  {
   "cell_type": "markdown",
   "metadata": {},
   "source": [
    "# El Fin\n",
    "\n",
    "There you have it, folks!  \n",
    "\n",
    "Any and all signal comes from Nico's alcsmk table, which is an imputed data table\n",
    "based on raw alcohol and smoking variables... Columbia wanted us to use it....but it looks\n",
    "like it has a lot of issues.  The main one is that any pre-term (event) has missing\n",
    "cigarette vars.  This is the majority of the signal -- basically the answer key.\n",
    "\n",
    "Why?\n",
    "\n",
    "We don't know...but it doesn't make for a great model unless it really means something\n",
    "interesting biologically....  Moreover, being an imputed data table, the point was \n",
    "basically to remove missing values.......yet there are still missing values?"
   ]
  },
  {
   "cell_type": "code",
   "execution_count": null,
   "metadata": {},
   "outputs": [],
   "source": []
  }
 ],
 "metadata": {
  "kernelspec": {
   "display_name": "Python 3",
   "language": "python",
   "name": "python3"
  },
  "language_info": {
   "codemirror_mode": {
    "name": "ipython",
    "version": 3
   },
   "file_extension": ".py",
   "mimetype": "text/x-python",
   "name": "python",
   "nbconvert_exporter": "python",
   "pygments_lexer": "ipython3",
   "version": "3.7.2"
  }
 },
 "nbformat": 4,
 "nbformat_minor": 2
}
