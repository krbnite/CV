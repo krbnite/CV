{
 "cells": [
  {
   "cell_type": "code",
   "execution_count": 1,
   "metadata": {},
   "outputs": [
    {
     "data": {
      "text/html": [
       "\n",
       "    <style>\n",
       "        .backtick {\n",
       "            font-style:oblique;\n",
       "            font-family:\"Courier New\";\n",
       "            font-size:15px;\n",
       "        }\n",
       "    </style>\n"
      ],
      "text/plain": [
       "<IPython.core.display.HTML object>"
      ]
     },
     "execution_count": 1,
     "metadata": {},
     "output_type": "execute_result"
    }
   ],
   "source": [
    "from IPython.display import HTML\n",
    "html = HTML(\"\"\"\n",
    "    <style>\n",
    "        .backtick {\n",
    "            font-style:oblique;\n",
    "            font-family:\"Courier New\";\n",
    "            font-size:15px;\n",
    "        }\n",
    "    </style>\n",
    "\"\"\")\n",
    "html"
   ]
  },
  {
   "cell_type": "markdown",
   "metadata": {},
   "source": [
    "**NOTE FROM THE FUTURE (2019-Dec-16)**\n",
    "\n",
    "<div style=\"background-color:sandybrown;\">\n",
    "    <p> This was the very first analysis I did during the last week Udi was here, when\n",
    "        he initially onboarded me onto this project.  Udi was doing some cool stuff, like\n",
    "        looking at multiple families of models (random forests, XGBoosts, LASSOs, etc), but I\n",
    "        noticed the generality was at the cost of specific expertise or insight into any\n",
    "        one particular model family.  </p>\n",
    "    <p> For example, the random forest grid paramaters for Udi's random\n",
    "        grid search were not well-informed, IMHO.  The <font class=backtick>max_features</font> parameter \n",
    "        only looked at <font class=backtick>auto</font> (which is 1/3 the total number of input \n",
    "        features for a RF regression) and <font class=backtick>sqrt</font>; it's good\n",
    "        to try out values of <font class=backtick>1</font> and <font class=backtick>2</font> here.  Also, \n",
    "        <font class=backtick>max_depth</font> had a very limited\n",
    "        search (<font class=backtick>[3,5,8]</font>); depending on the data set, these could all be nearly\n",
    "        equivalent depths (e.g., for a forest whose \"CART\" implementation has  trees reaching \n",
    "        a depth of 200 or more).  I find it's usually good to first do a CART random forest,\n",
    "        which allows trees to grow indefinitely to terminal purity, then to inform the \n",
    "        <font class=backtick>max_depth</font>\n",
    "        portion of a grid search by looking at the tree depth statistics of the CART RF (e.g.,\n",
    "        min, Q1, median, Q3, max).  This way, you at least know (i) the max depth (no use in \n",
    "        have grid search looking at larger depths); (ii) what \"light\" depth regularization\n",
    "        looks like (e.g., limiting growth to the CART RF's median depth);  (iii) what\n",
    "        \"more tangible\" depth regularization looks like (e.g., limiting growth to the\n",
    "        CART RF's minimum depth); and (iv) what \"solid\" and \"extreme\" depth regularization\n",
    "        looks like (anything less than the CART RF's minimum is starting to do some real\n",
    "        work against noise variables, while anything really small might be considered\n",
    "        extreme...and perhaps not useful).  </p>\n",
    "    <p> Having a more informed view of a particular model family also allows you to\n",
    "        optimize your feature representation.  For example, Udi dummy encodes any \n",
    "        categorical variable he runs into.  One-hot encoding or dummy encoding is essential\n",
    "        for linear models, but adds nothing to a random forest.  In fact, in extreme case \n",
    "        (categorical variables with 1000s of levels) such an encoding scheme can reduce a\n",
    "        random forest's performance.  Worse, OH/dummy encoding can obscure the intuitive\n",
    "        value of feature importances, and so on.  Perhaps unintuitively, the best\n",
    "        representation for a nominal categorical variable in a RF is an ordinal\n",
    "        representation -- something that would destroy a linear regression without\n",
    "        a lot of extra work (e.g., negative effect can be eliminated in this case\n",
    "        by using a \"polyordinal\" encoding scheme).  Basically, what I'm saying here \n",
    "        is that Udi does a lot more work than he has to if he's going to settle on a\n",
    "        tree-based model, like RF or XGBoost (which he did in his update report).  </p>\n",
    "    <p> <b>RESULTS</b>:  ANYWAY, the first thing I did is to apply some of my specialized experience w/ tree-based \n",
    "        methods to enhance and extend the general approach taken by Udi.\n",
    "        You will find a depth regularization search below, followed by an ensemble regularization\n",
    "        search.  These will culminate in a more complete grid search and some heat maps.  I \n",
    "        mostly find that none of this dramatically helps model performance.  Also, I find that\n",
    "        it's VERY HARD to not overfit the data, and to not do so comes at the cost of\n",
    "        not doing well on the training or validations sets (i.e., there is no point of\n",
    "        compromise where training gets worse, but validation gets better: training just\n",
    "        gets worse, period.)  </p>\n",
    "    <hr>\n",
    "    <p style='background-color:orange;'> \n",
    "        <b>NOTE</b>: For analyses relevant to final report sent to Gates Foundation, please\n",
    "        check out notebooks <font class=backtick>01_KU</font> through \n",
    "        <font class=backtick>04_KU</font> in <font class=backtick>mbh001/mbh001_v3</font>.\n",
    "    </p>\n",
    "    <hr>\n",
    "    <p style='color:red;background-color:yellow;'><b>NOTE</b>: This notebook is copied to `mbh001_v3/notebooks` where it is prefixed `00a__KU`.</p>\n",
    "</div>        \n",
    "        "
   ]
  },
  {
   "cell_type": "code",
   "execution_count": 2,
   "metadata": {},
   "outputs": [],
   "source": [
    "import pandas as pd\n",
    "from matplotlib import pyplot as plt\n",
    "import seaborn as sns\n",
    "import numpy as np\n",
    "import pickle\n",
    "from scipy.stats import zscore,expon"
   ]
  },
  {
   "cell_type": "code",
   "execution_count": 3,
   "metadata": {},
   "outputs": [],
   "source": [
    "pd.options.display.max_rows = 20"
   ]
  },
  {
   "cell_type": "markdown",
   "metadata": {},
   "source": [
    "### Load data"
   ]
  },
  {
   "cell_type": "code",
   "execution_count": 125,
   "metadata": {},
   "outputs": [
    {
     "name": "stdout",
     "output_type": "stream",
     "text": [
      "(1548, 577)\n"
     ]
    },
    {
     "data": {
      "text/html": [
       "<div>\n",
       "<style scoped>\n",
       "    .dataframe tbody tr th:only-of-type {\n",
       "        vertical-align: middle;\n",
       "    }\n",
       "\n",
       "    .dataframe tbody tr th {\n",
       "        vertical-align: top;\n",
       "    }\n",
       "\n",
       "    .dataframe thead th {\n",
       "        text-align: right;\n",
       "    }\n",
       "</style>\n",
       "<table border=\"1\" class=\"dataframe\">\n",
       "  <thead>\n",
       "    <tr style=\"text-align: right;\">\n",
       "      <th></th>\n",
       "      <th>adafppappa.afpga.10</th>\n",
       "      <th>adafppappa.afpga.15</th>\n",
       "      <th>adafppappa.afpga.pre10</th>\n",
       "      <th>adafppappa.afpmom.10</th>\n",
       "      <th>adafppappa.afpmom.15</th>\n",
       "      <th>adafppappa.afpmom.pre10</th>\n",
       "      <th>adafppappa.pappaga.10</th>\n",
       "      <th>adcdrisc.cdrisc_nmiss.15</th>\n",
       "      <th>adcdrisc.cdrisc_nmiss.20</th>\n",
       "      <th>adcdrisc.cdrisc_raw.15</th>\n",
       "      <th>...</th>\n",
       "      <th>adstai.r5_23.101520</th>\n",
       "      <th>adstai.r5_23.cycle.101520</th>\n",
       "      <th>adstai.r5_1.101520</th>\n",
       "      <th>adstai.r5_1.cycle.101520</th>\n",
       "      <th>adstai.r5_16.101520</th>\n",
       "      <th>adstai.r5_16.cycle.101520</th>\n",
       "      <th>adstai.t_anxiety.levels.101520</th>\n",
       "      <th>adstai.s_anxiety.levels.101520</th>\n",
       "      <th>ga_f3</th>\n",
       "      <th>time_left</th>\n",
       "    </tr>\n",
       "    <tr>\n",
       "      <th>patid</th>\n",
       "      <th></th>\n",
       "      <th></th>\n",
       "      <th></th>\n",
       "      <th></th>\n",
       "      <th></th>\n",
       "      <th></th>\n",
       "      <th></th>\n",
       "      <th></th>\n",
       "      <th></th>\n",
       "      <th></th>\n",
       "      <th></th>\n",
       "      <th></th>\n",
       "      <th></th>\n",
       "      <th></th>\n",
       "      <th></th>\n",
       "      <th></th>\n",
       "      <th></th>\n",
       "      <th></th>\n",
       "      <th></th>\n",
       "      <th></th>\n",
       "      <th></th>\n",
       "    </tr>\n",
       "  </thead>\n",
       "  <tbody>\n",
       "    <tr>\n",
       "      <th>S002-BISH-00698</th>\n",
       "      <td>155.0</td>\n",
       "      <td>NaN</td>\n",
       "      <td>NaN</td>\n",
       "      <td>0.963352</td>\n",
       "      <td>NaN</td>\n",
       "      <td>NaN</td>\n",
       "      <td>82.0</td>\n",
       "      <td>0.0</td>\n",
       "      <td>NaN</td>\n",
       "      <td>33.0</td>\n",
       "      <td>...</td>\n",
       "      <td>4.0</td>\n",
       "      <td>10</td>\n",
       "      <td>4.0</td>\n",
       "      <td>10</td>\n",
       "      <td>1.0</td>\n",
       "      <td>10</td>\n",
       "      <td>3</td>\n",
       "      <td>3</td>\n",
       "      <td>253.0</td>\n",
       "      <td>25.0</td>\n",
       "    </tr>\n",
       "    <tr>\n",
       "      <th>S002-BISH-00751</th>\n",
       "      <td>NaN</td>\n",
       "      <td>NaN</td>\n",
       "      <td>NaN</td>\n",
       "      <td>NaN</td>\n",
       "      <td>NaN</td>\n",
       "      <td>NaN</td>\n",
       "      <td>NaN</td>\n",
       "      <td>0.0</td>\n",
       "      <td>NaN</td>\n",
       "      <td>88.0</td>\n",
       "      <td>...</td>\n",
       "      <td>1.0</td>\n",
       "      <td>10</td>\n",
       "      <td>1.0</td>\n",
       "      <td>10</td>\n",
       "      <td>4.0</td>\n",
       "      <td>10</td>\n",
       "      <td>2</td>\n",
       "      <td>2</td>\n",
       "      <td>241.0</td>\n",
       "      <td>32.0</td>\n",
       "    </tr>\n",
       "    <tr>\n",
       "      <th>S002-BISH-00809</th>\n",
       "      <td>NaN</td>\n",
       "      <td>NaN</td>\n",
       "      <td>NaN</td>\n",
       "      <td>NaN</td>\n",
       "      <td>NaN</td>\n",
       "      <td>NaN</td>\n",
       "      <td>NaN</td>\n",
       "      <td>0.0</td>\n",
       "      <td>NaN</td>\n",
       "      <td>85.0</td>\n",
       "      <td>...</td>\n",
       "      <td>1.0</td>\n",
       "      <td>15</td>\n",
       "      <td>1.0</td>\n",
       "      <td>15</td>\n",
       "      <td>1.0</td>\n",
       "      <td>15</td>\n",
       "      <td>3</td>\n",
       "      <td>2</td>\n",
       "      <td>246.0</td>\n",
       "      <td>20.0</td>\n",
       "    </tr>\n",
       "    <tr>\n",
       "      <th>S002-BISH-00860</th>\n",
       "      <td>162.0</td>\n",
       "      <td>NaN</td>\n",
       "      <td>NaN</td>\n",
       "      <td>0.921191</td>\n",
       "      <td>NaN</td>\n",
       "      <td>NaN</td>\n",
       "      <td>NaN</td>\n",
       "      <td>0.0</td>\n",
       "      <td>NaN</td>\n",
       "      <td>75.0</td>\n",
       "      <td>...</td>\n",
       "      <td>3.0</td>\n",
       "      <td>10</td>\n",
       "      <td>1.0</td>\n",
       "      <td>10</td>\n",
       "      <td>3.0</td>\n",
       "      <td>10</td>\n",
       "      <td>3</td>\n",
       "      <td>3</td>\n",
       "      <td>250.0</td>\n",
       "      <td>27.0</td>\n",
       "    </tr>\n",
       "    <tr>\n",
       "      <th>S002-BISH-00884</th>\n",
       "      <td>162.0</td>\n",
       "      <td>NaN</td>\n",
       "      <td>NaN</td>\n",
       "      <td>0.864980</td>\n",
       "      <td>NaN</td>\n",
       "      <td>NaN</td>\n",
       "      <td>NaN</td>\n",
       "      <td>0.0</td>\n",
       "      <td>NaN</td>\n",
       "      <td>84.0</td>\n",
       "      <td>...</td>\n",
       "      <td>1.0</td>\n",
       "      <td>10</td>\n",
       "      <td>1.0</td>\n",
       "      <td>10</td>\n",
       "      <td>1.0</td>\n",
       "      <td>10</td>\n",
       "      <td>2</td>\n",
       "      <td>3</td>\n",
       "      <td>241.0</td>\n",
       "      <td>44.0</td>\n",
       "    </tr>\n",
       "  </tbody>\n",
       "</table>\n",
       "<p>5 rows × 577 columns</p>\n",
       "</div>"
      ],
      "text/plain": [
       "                 adafppappa.afpga.10  adafppappa.afpga.15  \\\n",
       "patid                                                       \n",
       "S002-BISH-00698                155.0                  NaN   \n",
       "S002-BISH-00751                  NaN                  NaN   \n",
       "S002-BISH-00809                  NaN                  NaN   \n",
       "S002-BISH-00860                162.0                  NaN   \n",
       "S002-BISH-00884                162.0                  NaN   \n",
       "\n",
       "                 adafppappa.afpga.pre10  adafppappa.afpmom.10  \\\n",
       "patid                                                           \n",
       "S002-BISH-00698                     NaN              0.963352   \n",
       "S002-BISH-00751                     NaN                   NaN   \n",
       "S002-BISH-00809                     NaN                   NaN   \n",
       "S002-BISH-00860                     NaN              0.921191   \n",
       "S002-BISH-00884                     NaN              0.864980   \n",
       "\n",
       "                 adafppappa.afpmom.15  adafppappa.afpmom.pre10  \\\n",
       "patid                                                            \n",
       "S002-BISH-00698                   NaN                      NaN   \n",
       "S002-BISH-00751                   NaN                      NaN   \n",
       "S002-BISH-00809                   NaN                      NaN   \n",
       "S002-BISH-00860                   NaN                      NaN   \n",
       "S002-BISH-00884                   NaN                      NaN   \n",
       "\n",
       "                 adafppappa.pappaga.10  adcdrisc.cdrisc_nmiss.15  \\\n",
       "patid                                                              \n",
       "S002-BISH-00698                   82.0                       0.0   \n",
       "S002-BISH-00751                    NaN                       0.0   \n",
       "S002-BISH-00809                    NaN                       0.0   \n",
       "S002-BISH-00860                    NaN                       0.0   \n",
       "S002-BISH-00884                    NaN                       0.0   \n",
       "\n",
       "                 adcdrisc.cdrisc_nmiss.20  adcdrisc.cdrisc_raw.15    ...     \\\n",
       "patid                                                                ...      \n",
       "S002-BISH-00698                       NaN                    33.0    ...      \n",
       "S002-BISH-00751                       NaN                    88.0    ...      \n",
       "S002-BISH-00809                       NaN                    85.0    ...      \n",
       "S002-BISH-00860                       NaN                    75.0    ...      \n",
       "S002-BISH-00884                       NaN                    84.0    ...      \n",
       "\n",
       "                 adstai.r5_23.101520 adstai.r5_23.cycle.101520  \\\n",
       "patid                                                            \n",
       "S002-BISH-00698                  4.0                        10   \n",
       "S002-BISH-00751                  1.0                        10   \n",
       "S002-BISH-00809                  1.0                        15   \n",
       "S002-BISH-00860                  3.0                        10   \n",
       "S002-BISH-00884                  1.0                        10   \n",
       "\n",
       "                adstai.r5_1.101520 adstai.r5_1.cycle.101520  \\\n",
       "patid                                                         \n",
       "S002-BISH-00698                4.0                       10   \n",
       "S002-BISH-00751                1.0                       10   \n",
       "S002-BISH-00809                1.0                       15   \n",
       "S002-BISH-00860                1.0                       10   \n",
       "S002-BISH-00884                1.0                       10   \n",
       "\n",
       "                adstai.r5_16.101520 adstai.r5_16.cycle.101520  \\\n",
       "patid                                                           \n",
       "S002-BISH-00698                 1.0                        10   \n",
       "S002-BISH-00751                 4.0                        10   \n",
       "S002-BISH-00809                 1.0                        15   \n",
       "S002-BISH-00860                 3.0                        10   \n",
       "S002-BISH-00884                 1.0                        10   \n",
       "\n",
       "                adstai.t_anxiety.levels.101520 adstai.s_anxiety.levels.101520  \\\n",
       "patid                                                                           \n",
       "S002-BISH-00698                              3                              3   \n",
       "S002-BISH-00751                              2                              2   \n",
       "S002-BISH-00809                              3                              2   \n",
       "S002-BISH-00860                              3                              3   \n",
       "S002-BISH-00884                              2                              3   \n",
       "\n",
       "                 ga_f3 time_left  \n",
       "patid                             \n",
       "S002-BISH-00698  253.0      25.0  \n",
       "S002-BISH-00751  241.0      32.0  \n",
       "S002-BISH-00809  246.0      20.0  \n",
       "S002-BISH-00860  250.0      27.0  \n",
       "S002-BISH-00884  241.0      44.0  \n",
       "\n",
       "[5 rows x 577 columns]"
      ]
     },
     "execution_count": 125,
     "metadata": {},
     "output_type": "execute_result"
    }
   ],
   "source": [
    "d = pickle.load( open( \"../../mbh_cu_v2/data/processed/mbh002_f3_toi_mon_baseline_a.p\", \"rb\" ))\n",
    "print(d.shape)\n",
    "d.head()"
   ]
  },
  {
   "cell_type": "code",
   "execution_count": null,
   "metadata": {},
   "outputs": [],
   "source": []
  },
  {
   "cell_type": "code",
   "execution_count": null,
   "metadata": {},
   "outputs": [],
   "source": []
  },
  {
   "cell_type": "markdown",
   "metadata": {},
   "source": [
    "### Remove sparse features\n",
    "Keep features missing in less than 20% of the cases"
   ]
  },
  {
   "cell_type": "code",
   "execution_count": 126,
   "metadata": {},
   "outputs": [],
   "source": [
    "na_th=0.8\n",
    "#(d.isnull().sum()/len(d)).sort_values()"
   ]
  },
  {
   "cell_type": "code",
   "execution_count": 127,
   "metadata": {},
   "outputs": [
    {
     "name": "stdout",
     "output_type": "stream",
     "text": [
      "(1548, 275)\n"
     ]
    },
    {
     "data": {
      "text/plain": [
       "object     169\n",
       "float64    106\n",
       "dtype: int64"
      ]
     },
     "execution_count": 127,
     "metadata": {},
     "output_type": "execute_result"
    }
   ],
   "source": [
    "df = d.dropna(axis=1,thresh=len(d)*na_th)#.select_dtypes('float64')\n",
    "print(df.shape)\n",
    "#df=df.astype('float64')\n",
    "df.dtypes.value_counts()"
   ]
  },
  {
   "cell_type": "code",
   "execution_count": 128,
   "metadata": {},
   "outputs": [
    {
     "data": {
      "text/plain": [
       "array([[<matplotlib.axes._subplots.AxesSubplot object at 0x7fa727467240>]],\n",
       "      dtype=object)"
      ]
     },
     "execution_count": 128,
     "metadata": {},
     "output_type": "execute_result"
    },
    {
     "data": {
      "image/png": "[encoded data removed]",
      "text/plain": [
       "<Figure size 432x288 with 1 Axes>"
      ]
     },
     "metadata": {
      "needs_background": "light"
     },
     "output_type": "display_data"
    }
   ],
   "source": [
    "df.filter(like='time_left').hist()"
   ]
  },
  {
   "cell_type": "code",
   "execution_count": 129,
   "metadata": {},
   "outputs": [],
   "source": [
    "# (df['time_left']<14).value_counts().plot.bar()"
   ]
  },
  {
   "cell_type": "code",
   "execution_count": 130,
   "metadata": {},
   "outputs": [
    {
     "data": {
      "text/plain": [
       "Text(0.5,1,'time left as a function of ga at f3')"
      ]
     },
     "execution_count": 130,
     "metadata": {},
     "output_type": "execute_result"
    },
    {
     "data": {
      "image/png": "[encoded data removed]",
      "text/plain": [
       "<Figure size 432x288 with 1 Axes>"
      ]
     },
     "metadata": {
      "needs_background": "light"
     },
     "output_type": "display_data"
    }
   ],
   "source": [
    "plt.scatter(x=df['ga_f3'],y=df['time_left'])\n",
    "plt.xlabel('ga_f3')\n",
    "plt.ylabel('time_left')\n",
    "plt.title('time left as a function of ga at f3')"
   ]
  },
  {
   "cell_type": "markdown",
   "metadata": {},
   "source": [
    "### Preparing X and y"
   ]
  },
  {
   "cell_type": "code",
   "execution_count": 131,
   "metadata": {},
   "outputs": [],
   "source": [
    "X = df.drop(['time_left','ga.birth'],axis=1)\n",
    "y = df['time_left']"
   ]
  },
  {
   "cell_type": "code",
   "execution_count": 132,
   "metadata": {},
   "outputs": [],
   "source": [
    "num_feat=X.select_dtypes('float64').columns\n",
    "cat_feat=X.select_dtypes('object').columns\n",
    "sensor_features=X.filter(regex='^toi|^mon').columns\n",
    "#X[cat_feat]=X[cat_feat].astype('str'`)\n",
    "#X[cat_feat].filter(like='gender')"
   ]
  },
  {
   "cell_type": "code",
   "execution_count": 133,
   "metadata": {},
   "outputs": [
    {
     "data": {
      "text/plain": [
       "float64    104\n",
       "dtype: int64"
      ]
     },
     "execution_count": 133,
     "metadata": {},
     "output_type": "execute_result"
    }
   ],
   "source": [
    "X[cat_feat].dtypes.value_counts()\n",
    "X[num_feat].dtypes.value_counts()"
   ]
  },
  {
   "cell_type": "code",
   "execution_count": 134,
   "metadata": {},
   "outputs": [
    {
     "name": "stdout",
     "output_type": "stream",
     "text": [
      "n_X: 273\n",
      "n_num_feat: 104\n",
      "n_cat_feat: 169\n",
      "n_sensor_features: 44\n",
      "nn + nc + ns: 317\n"
     ]
    }
   ],
   "source": [
    "# Overlap between feature types\n",
    "n_X = len(X.columns)\n",
    "n_num_feat = len(num_feat)\n",
    "n_cat_feat = len(cat_feat)\n",
    "n_sensor_features = len(sensor_features)\n",
    "print('n_X:', n_X)\n",
    "print('n_num_feat:', n_num_feat)\n",
    "print('n_cat_feat:', n_cat_feat)\n",
    "print('n_sensor_features:', n_sensor_features)\n",
    "print('nn + nc + ns:', n_num_feat + n_cat_feat + n_sensor_features)"
   ]
  },
  {
   "cell_type": "markdown",
   "metadata": {},
   "source": [
    "## Feature engineering - Numeric\n",
    "\n"
   ]
  },
  {
   "cell_type": "markdown",
   "metadata": {},
   "source": [
    "### Creating missing values indicators"
   ]
  },
  {
   "cell_type": "code",
   "execution_count": 24,
   "metadata": {},
   "outputs": [],
   "source": [
    "X_eng = X.copy()\n",
    "for feat in num_feat:\n",
    "    missing_indicator_feat_name = feat+'_nan'\n",
    "    X_eng[missing_indicator_feat_name] = X[feat].isnull().astype(int)"
   ]
  },
  {
   "cell_type": "markdown",
   "metadata": {},
   "source": [
    "### Imputing medians"
   ]
  },
  {
   "cell_type": "code",
   "execution_count": 25,
   "metadata": {},
   "outputs": [],
   "source": [
    "X_eng[num_feat] = X_eng[num_feat].fillna(X[num_feat].median())"
   ]
  },
  {
   "cell_type": "markdown",
   "metadata": {},
   "source": [
    "## Feature engineering - Categorical\n",
    "Create dummies removing dirst category"
   ]
  },
  {
   "cell_type": "code",
   "execution_count": 26,
   "metadata": {},
   "outputs": [],
   "source": [
    "X_eng[cat_feat] = X_eng[cat_feat].astype('float64')"
   ]
  },
  {
   "cell_type": "code",
   "execution_count": 27,
   "metadata": {},
   "outputs": [],
   "source": [
    "cat_feat_dummies = pd.get_dummies(X_eng[cat_feat], dummy_na=True, drop_first=True)\n",
    "X_eng = pd.concat([X_eng, cat_feat_dummies], axis=1).drop(cat_feat, axis=1)\n"
   ]
  },
  {
   "cell_type": "markdown",
   "metadata": {},
   "source": [
    "# Exploring the Random Forest Baseline Model"
   ]
  },
  {
   "cell_type": "code",
   "execution_count": 4,
   "metadata": {},
   "outputs": [],
   "source": [
    "from sklearn.ensemble import RandomForestRegressor\n",
    "from sklearn.metrics import r2_score\n",
    "from sklearn.model_selection import train_test_split"
   ]
  },
  {
   "cell_type": "markdown",
   "metadata": {},
   "source": [
    "## The Depths of the CART RF"
   ]
  },
  {
   "cell_type": "code",
   "execution_count": 33,
   "metadata": {},
   "outputs": [],
   "source": [
    "X_train, X_dev, y_train, y_dev = train_test_split(X['ga_f3'], y, test_size=0.3, random_state=42)\n",
    "X_dev, X_test, y_dev, y_test = train_test_split(X_dev, y_dev, test_size=0.5, random_state=42)"
   ]
  },
  {
   "cell_type": "code",
   "execution_count": 92,
   "metadata": {},
   "outputs": [],
   "source": [
    "rf0 = RandomForestRegressor(n_estimators=100, n_jobs=-1)"
   ]
  },
  {
   "cell_type": "code",
   "execution_count": 93,
   "metadata": {},
   "outputs": [
    {
     "data": {
      "text/plain": [
       "RandomForestRegressor(bootstrap=True, criterion='mse', max_depth=None,\n",
       "           max_features='auto', max_leaf_nodes=None,\n",
       "           min_impurity_decrease=0.0, min_impurity_split=None,\n",
       "           min_samples_leaf=1, min_samples_split=2,\n",
       "           min_weight_fraction_leaf=0.0, n_estimators=100, n_jobs=-1,\n",
       "           oob_score=False, random_state=None, verbose=0, warm_start=False)"
      ]
     },
     "execution_count": 93,
     "metadata": {},
     "output_type": "execute_result"
    }
   ],
   "source": [
    "rf0.fit(X_train.values.reshape(-1,1), y_train.values)"
   ]
  },
  {
   "cell_type": "code",
   "execution_count": 94,
   "metadata": {},
   "outputs": [
    {
     "data": {
      "text/html": [
       "<div>\n",
       "<style scoped>\n",
       "    .dataframe tbody tr th:only-of-type {\n",
       "        vertical-align: middle;\n",
       "    }\n",
       "\n",
       "    .dataframe tbody tr th {\n",
       "        vertical-align: top;\n",
       "    }\n",
       "\n",
       "    .dataframe thead th {\n",
       "        text-align: right;\n",
       "    }\n",
       "</style>\n",
       "<table border=\"1\" class=\"dataframe\">\n",
       "  <thead>\n",
       "    <tr style=\"text-align: right;\">\n",
       "      <th></th>\n",
       "      <th>depth</th>\n",
       "    </tr>\n",
       "  </thead>\n",
       "  <tbody>\n",
       "    <tr>\n",
       "      <th>min</th>\n",
       "      <td>7.0</td>\n",
       "    </tr>\n",
       "    <tr>\n",
       "      <th>25%</th>\n",
       "      <td>8.0</td>\n",
       "    </tr>\n",
       "    <tr>\n",
       "      <th>50%</th>\n",
       "      <td>8.0</td>\n",
       "    </tr>\n",
       "    <tr>\n",
       "      <th>75%</th>\n",
       "      <td>9.0</td>\n",
       "    </tr>\n",
       "    <tr>\n",
       "      <th>max</th>\n",
       "      <td>10.0</td>\n",
       "    </tr>\n",
       "  </tbody>\n",
       "</table>\n",
       "</div>"
      ],
      "text/plain": [
       "     depth\n",
       "min    7.0\n",
       "25%    8.0\n",
       "50%    8.0\n",
       "75%    9.0\n",
       "max   10.0"
      ]
     },
     "execution_count": 94,
     "metadata": {},
     "output_type": "execute_result"
    }
   ],
   "source": [
    "tree_depths = pd.DataFrame({'depth': [tree.tree_.max_depth for tree in rf0.estimators_]})\n",
    "tree_depths.describe().loc[['min','25%','50%','75%','max'],:]"
   ]
  },
  {
   "cell_type": "code",
   "execution_count": 108,
   "metadata": {},
   "outputs": [
    {
     "data": {
      "text/plain": [
       "0.25838472148016634"
      ]
     },
     "execution_count": 108,
     "metadata": {},
     "output_type": "execute_result"
    }
   ],
   "source": [
    "p0 = rf0.predict(X_dev.values.reshape(-1,1))\n",
    "r2_score(y_dev, p0)"
   ]
  },
  {
   "cell_type": "markdown",
   "metadata": {},
   "source": [
    "## Depth Regularization:  Effect on R2 Score"
   ]
  },
  {
   "cell_type": "code",
   "execution_count": 107,
   "metadata": {},
   "outputs": [
    {
     "name": "stdout",
     "output_type": "stream",
     "text": [
      "     depth\n",
      "min    7.0\n",
      "25%    7.0\n",
      "50%    7.0\n",
      "75%    7.0\n",
      "max    7.0\n"
     ]
    },
    {
     "data": {
      "text/plain": [
       "0.26020047520394773"
      ]
     },
     "execution_count": 107,
     "metadata": {},
     "output_type": "execute_result"
    }
   ],
   "source": [
    "rf_depth7 = RandomForestRegressor(n_estimators=100, max_depth=7, n_jobs=-1)\n",
    "rf_depth7.fit(X_train.values.reshape(-1,1), y_train.values)\n",
    "rf = rf_depth7\n",
    "#\n",
    "tree_depths = pd.DataFrame({'depth': [tree.tree_.max_depth for tree in rf.estimators_]})\n",
    "print(tree_depths.describe().loc[['min','25%','50%','75%','max'],:])\n",
    "p = rf.predict(X_dev.values.reshape(-1,1))\n",
    "r2_score(y_dev, p)"
   ]
  },
  {
   "cell_type": "code",
   "execution_count": 110,
   "metadata": {},
   "outputs": [
    {
     "name": "stdout",
     "output_type": "stream",
     "text": [
      "     depth\n",
      "min    6.0\n",
      "25%    6.0\n",
      "50%    6.0\n",
      "75%    6.0\n",
      "max    6.0\n"
     ]
    },
    {
     "data": {
      "text/plain": [
       "0.2572170308955142"
      ]
     },
     "execution_count": 110,
     "metadata": {},
     "output_type": "execute_result"
    }
   ],
   "source": [
    "rf_depth6 = RandomForestRegressor(n_estimators=100, max_depth=6, n_jobs=-1)\n",
    "rf_depth6.fit(X_train.values.reshape(-1,1), y_train.values)\n",
    "rf = rf_depth6\n",
    "#\n",
    "tree_depths = pd.DataFrame({'depth': [tree.tree_.max_depth for tree in rf.estimators_]})\n",
    "print(tree_depths.describe().loc[['min','25%','50%','75%','max'],:])\n",
    "p = rf.predict(X_dev.values.reshape(-1,1))\n",
    "r2_score(y_dev, p)"
   ]
  },
  {
   "cell_type": "code",
   "execution_count": 111,
   "metadata": {},
   "outputs": [
    {
     "name": "stdout",
     "output_type": "stream",
     "text": [
      "     depth\n",
      "min    5.0\n",
      "25%    5.0\n",
      "50%    5.0\n",
      "75%    5.0\n",
      "max    5.0\n"
     ]
    },
    {
     "data": {
      "text/plain": [
       "0.25892240384689513"
      ]
     },
     "execution_count": 111,
     "metadata": {},
     "output_type": "execute_result"
    }
   ],
   "source": [
    "rf_depth5 = RandomForestRegressor(n_estimators=100, max_depth=5, n_jobs=-1)\n",
    "rf_depth5.fit(X_train.values.reshape(-1,1), y_train.values)\n",
    "rf = rf_depth5\n",
    "#\n",
    "tree_depths = pd.DataFrame({'depth': [tree.tree_.max_depth for tree in rf.estimators_]})\n",
    "print(tree_depths.describe().loc[['min','25%','50%','75%','max'],:])\n",
    "p = rf.predict(X_dev.values.reshape(-1,1))\n",
    "r2_score(y_dev, p)"
   ]
  },
  {
   "cell_type": "code",
   "execution_count": 112,
   "metadata": {},
   "outputs": [
    {
     "name": "stdout",
     "output_type": "stream",
     "text": [
      "     depth\n",
      "min    4.0\n",
      "25%    4.0\n",
      "50%    4.0\n",
      "75%    4.0\n",
      "max    4.0\n"
     ]
    },
    {
     "data": {
      "text/plain": [
       "0.26150881483302346"
      ]
     },
     "execution_count": 112,
     "metadata": {},
     "output_type": "execute_result"
    }
   ],
   "source": [
    "rf_depth4 = RandomForestRegressor(n_estimators=100, max_depth=4, n_jobs=-1)\n",
    "rf_depth4.fit(X_train.values.reshape(-1,1), y_train.values)\n",
    "rf = rf_depth4\n",
    "#\n",
    "tree_depths = pd.DataFrame({'depth': [tree.tree_.max_depth for tree in rf.estimators_]})\n",
    "print(tree_depths.describe().loc[['min','25%','50%','75%','max'],:])\n",
    "p = rf.predict(X_dev.values.reshape(-1,1))\n",
    "r2_score(y_dev, p)"
   ]
  },
  {
   "cell_type": "code",
   "execution_count": 113,
   "metadata": {},
   "outputs": [
    {
     "name": "stdout",
     "output_type": "stream",
     "text": [
      "     depth\n",
      "min    3.0\n",
      "25%    3.0\n",
      "50%    3.0\n",
      "75%    3.0\n",
      "max    3.0\n"
     ]
    },
    {
     "data": {
      "text/plain": [
       "0.2655539306741942"
      ]
     },
     "execution_count": 113,
     "metadata": {},
     "output_type": "execute_result"
    }
   ],
   "source": [
    "rf_depth3 = RandomForestRegressor(n_estimators=100, max_depth=3, n_jobs=-1)\n",
    "rf_depth3.fit(X_train.values.reshape(-1,1), y_train.values)\n",
    "rf = rf_depth3\n",
    "#\n",
    "tree_depths = pd.DataFrame({'depth': [tree.tree_.max_depth for tree in rf.estimators_]})\n",
    "print(tree_depths.describe().loc[['min','25%','50%','75%','max'],:])\n",
    "p = rf.predict(X_dev.values.reshape(-1,1))\n",
    "r2_score(y_dev, p)"
   ]
  },
  {
   "cell_type": "code",
   "execution_count": 114,
   "metadata": {},
   "outputs": [
    {
     "name": "stdout",
     "output_type": "stream",
     "text": [
      "     depth\n",
      "min    2.0\n",
      "25%    2.0\n",
      "50%    2.0\n",
      "75%    2.0\n",
      "max    2.0\n"
     ]
    },
    {
     "data": {
      "text/plain": [
       "0.2569040679364345"
      ]
     },
     "execution_count": 114,
     "metadata": {},
     "output_type": "execute_result"
    }
   ],
   "source": [
    "rf_depth2 = RandomForestRegressor(n_estimators=100, max_depth=2, n_jobs=-1)\n",
    "rf_depth2.fit(X_train.values.reshape(-1,1), y_train.values)\n",
    "rf = rf_depth2\n",
    "#\n",
    "tree_depths = pd.DataFrame({'depth': [tree.tree_.max_depth for tree in rf.estimators_]})\n",
    "print(tree_depths.describe().loc[['min','25%','50%','75%','max'],:])\n",
    "p = rf.predict(X_dev.values.reshape(-1,1))\n",
    "r2_score(y_dev, p)"
   ]
  },
  {
   "cell_type": "markdown",
   "metadata": {},
   "source": [
    "### SUMMARY\n",
    "For 100 trees:\n",
    "\n",
    "| max_depth | r2 score |\n",
    "|-----------|----------|\n",
    "|   None    | 0.258 |\n",
    "| 7 | 0.260 |\n",
    "| 6 | 0.257 |\n",
    "| 5 | 0.260 |\n",
    "| 4 | 0.262 |\n",
    "| 3 | **0.266** |\n",
    "| 2 | 0.257 |"
   ]
  },
  {
   "cell_type": "markdown",
   "metadata": {},
   "source": [
    "# Ensemble Regularization:  Larger Forests"
   ]
  },
  {
   "cell_type": "code",
   "execution_count": 120,
   "metadata": {},
   "outputs": [
    {
     "name": "stdout",
     "output_type": "stream",
     "text": [
      "     depth\n",
      "min    3.0\n",
      "25%    3.0\n",
      "50%    3.0\n",
      "75%    3.0\n",
      "max    3.0\n"
     ]
    },
    {
     "data": {
      "text/plain": [
       "0.26614107162575096"
      ]
     },
     "execution_count": 120,
     "metadata": {},
     "output_type": "execute_result"
    }
   ],
   "source": [
    "rf_100 = RandomForestRegressor(n_estimators=100, max_depth=3, n_jobs=-1)\n",
    "rf_100.fit(X_train.values.reshape(-1,1), y_train.values)\n",
    "rf = rf_100\n",
    "#\n",
    "tree_depths = pd.DataFrame({'depth': [tree.tree_.max_depth for tree in rf.estimators_]})\n",
    "print(tree_depths.describe().loc[['min','25%','50%','75%','max'],:])\n",
    "p = rf.predict(X_dev.values.reshape(-1,1))\n",
    "r2_score(y_dev, p)"
   ]
  },
  {
   "cell_type": "code",
   "execution_count": 118,
   "metadata": {},
   "outputs": [
    {
     "name": "stdout",
     "output_type": "stream",
     "text": [
      "     depth\n",
      "min    3.0\n",
      "25%    3.0\n",
      "50%    3.0\n",
      "75%    3.0\n",
      "max    3.0\n"
     ]
    },
    {
     "data": {
      "text/plain": [
       "0.2646670647890452"
      ]
     },
     "execution_count": 118,
     "metadata": {},
     "output_type": "execute_result"
    }
   ],
   "source": [
    "rf_200 = RandomForestRegressor(n_estimators=200, max_depth=3, n_jobs=-1)\n",
    "rf_200.fit(X_train.values.reshape(-1,1), y_train.values)\n",
    "rf = rf_200\n",
    "#\n",
    "tree_depths = pd.DataFrame({'depth': [tree.tree_.max_depth for tree in rf.estimators_]})\n",
    "print(tree_depths.describe().loc[['min','25%','50%','75%','max'],:])\n",
    "p = rf.predict(X_dev.values.reshape(-1,1))\n",
    "r2_score(y_dev, p)"
   ]
  },
  {
   "cell_type": "code",
   "execution_count": 119,
   "metadata": {},
   "outputs": [
    {
     "name": "stdout",
     "output_type": "stream",
     "text": [
      "     depth\n",
      "min    3.0\n",
      "25%    3.0\n",
      "50%    3.0\n",
      "75%    3.0\n",
      "max    3.0\n"
     ]
    },
    {
     "data": {
      "text/plain": [
       "0.26531136189163196"
      ]
     },
     "execution_count": 119,
     "metadata": {},
     "output_type": "execute_result"
    }
   ],
   "source": [
    "rf_500 = RandomForestRegressor(n_estimators=500, max_depth=3, n_jobs=-1)\n",
    "rf_500.fit(X_train.values.reshape(-1,1), y_train.values)\n",
    "rf = rf_500\n",
    "#\n",
    "tree_depths = pd.DataFrame({'depth': [tree.tree_.max_depth for tree in rf.estimators_]})\n",
    "print(tree_depths.describe().loc[['min','25%','50%','75%','max'],:])\n",
    "p = rf.predict(X_dev.values.reshape(-1,1))\n",
    "r2_score(y_dev, p)"
   ]
  },
  {
   "cell_type": "code",
   "execution_count": 115,
   "metadata": {},
   "outputs": [
    {
     "name": "stdout",
     "output_type": "stream",
     "text": [
      "     depth\n",
      "min    3.0\n",
      "25%    3.0\n",
      "50%    3.0\n",
      "75%    3.0\n",
      "max    3.0\n"
     ]
    },
    {
     "data": {
      "text/plain": [
       "0.26462985504356384"
      ]
     },
     "execution_count": 115,
     "metadata": {},
     "output_type": "execute_result"
    }
   ],
   "source": [
    "rf_1000 = RandomForestRegressor(n_estimators=1000, max_depth=3, n_jobs=-1)\n",
    "rf_1000.fit(X_train.values.reshape(-1,1), y_train.values)\n",
    "rf = rf_1000\n",
    "#\n",
    "tree_depths = pd.DataFrame({'depth': [tree.tree_.max_depth for tree in rf.estimators_]})\n",
    "print(tree_depths.describe().loc[['min','25%','50%','75%','max'],:])\n",
    "p = rf.predict(X_dev.values.reshape(-1,1))\n",
    "r2_score(y_dev, p)"
   ]
  },
  {
   "cell_type": "code",
   "execution_count": 116,
   "metadata": {},
   "outputs": [
    {
     "name": "stdout",
     "output_type": "stream",
     "text": [
      "     depth\n",
      "min    3.0\n",
      "25%    3.0\n",
      "50%    3.0\n",
      "75%    3.0\n",
      "max    3.0\n"
     ]
    },
    {
     "data": {
      "text/plain": [
       "0.2648114824623461"
      ]
     },
     "execution_count": 116,
     "metadata": {},
     "output_type": "execute_result"
    }
   ],
   "source": [
    "rf_5000 = RandomForestRegressor(n_estimators=5000, max_depth=3, n_jobs=-1)\n",
    "rf_5000.fit(X_train.values.reshape(-1,1), y_train.values)\n",
    "rf = rf_5000\n",
    "#\n",
    "tree_depths = pd.DataFrame({'depth': [tree.tree_.max_depth for tree in rf.estimators_]})\n",
    "print(tree_depths.describe().loc[['min','25%','50%','75%','max'],:])\n",
    "p = rf.predict(X_dev.values.reshape(-1,1))\n",
    "r2_score(y_dev, p)"
   ]
  },
  {
   "cell_type": "code",
   "execution_count": 117,
   "metadata": {},
   "outputs": [
    {
     "name": "stdout",
     "output_type": "stream",
     "text": [
      "     depth\n",
      "min    3.0\n",
      "25%    3.0\n",
      "50%    3.0\n",
      "75%    3.0\n",
      "max    3.0\n"
     ]
    },
    {
     "data": {
      "text/plain": [
       "0.2648205233144222"
      ]
     },
     "execution_count": 117,
     "metadata": {},
     "output_type": "execute_result"
    }
   ],
   "source": [
    "rf_10k = RandomForestRegressor(n_estimators=10000, max_depth=3, n_jobs=-1)\n",
    "rf_10k.fit(X_train.values.reshape(-1,1), y_train.values)\n",
    "rf = rf_10k\n",
    "#\n",
    "tree_depths = pd.DataFrame({'depth': [tree.tree_.max_depth for tree in rf.estimators_]})\n",
    "print(tree_depths.describe().loc[['min','25%','50%','75%','max'],:])\n",
    "p = rf.predict(X_dev.values.reshape(-1,1))\n",
    "r2_score(y_dev, p)"
   ]
  },
  {
   "cell_type": "code",
   "execution_count": 121,
   "metadata": {},
   "outputs": [
    {
     "name": "stdout",
     "output_type": "stream",
     "text": [
      "     depth\n",
      "min    3.0\n",
      "25%    3.0\n",
      "50%    3.0\n",
      "75%    3.0\n",
      "max    3.0\n"
     ]
    },
    {
     "data": {
      "text/plain": [
       "0.2650037280662364"
      ]
     },
     "execution_count": 121,
     "metadata": {},
     "output_type": "execute_result"
    }
   ],
   "source": [
    "rf_30k = RandomForestRegressor(n_estimators=30000, max_depth=3, n_jobs=-1)\n",
    "rf_30k.fit(X_train.values.reshape(-1,1), y_train.values)\n",
    "rf = rf_30k\n",
    "#\n",
    "tree_depths = pd.DataFrame({'depth': [tree.tree_.max_depth for tree in rf.estimators_]})\n",
    "print(tree_depths.describe().loc[['min','25%','50%','75%','max'],:])\n",
    "p = rf.predict(X_dev.values.reshape(-1,1))\n",
    "r2_score(y_dev, p)"
   ]
  },
  {
   "cell_type": "code",
   "execution_count": 122,
   "metadata": {},
   "outputs": [
    {
     "name": "stdout",
     "output_type": "stream",
     "text": [
      "     depth\n",
      "min    3.0\n",
      "25%    3.0\n",
      "50%    3.0\n",
      "75%    3.0\n",
      "max    3.0\n"
     ]
    },
    {
     "data": {
      "text/plain": [
       "0.26492849600412194"
      ]
     },
     "execution_count": 122,
     "metadata": {},
     "output_type": "execute_result"
    }
   ],
   "source": [
    "rf_100k = RandomForestRegressor(n_estimators=100000, max_depth=3, n_jobs=-1)\n",
    "rf_100k.fit(X_train.values.reshape(-1,1), y_train.values)\n",
    "rf = rf_100k\n",
    "#\n",
    "tree_depths = pd.DataFrame({'depth': [tree.tree_.max_depth for tree in rf.estimators_]})\n",
    "print(tree_depths.describe().loc[['min','25%','50%','75%','max'],:])\n",
    "p = rf.predict(X_dev.values.reshape(-1,1))\n",
    "r2_score(y_dev, p)"
   ]
  },
  {
   "cell_type": "markdown",
   "metadata": {},
   "source": [
    "For max depth of 3:\n",
    "    \n",
    "| nTrees | r2 score |\n",
    "|----|----|\n",
    "| 100 | **0.266** |\n",
    "| 200 | 0.265 | \n",
    "| 500 | 0.265 |\n",
    "| 1000 | 0.265 | \n",
    "| 5000 | 0.265 |\n",
    "| 10k | 0.265 |\n",
    "| 30k | 0.265 |\n",
    "| 100k | 0.265 |"
   ]
  },
  {
   "cell_type": "markdown",
   "metadata": {},
   "source": [
    "# Does X_eng work better?"
   ]
  },
  {
   "cell_type": "code",
   "execution_count": 135,
   "metadata": {},
   "outputs": [],
   "source": [
    "X_eng_train, X_eng_dev, y_eng_train, y_eng_dev = train_test_split(X['ga_f3'], y, test_size=0.3, random_state=42)\n",
    "X_eng_dev, X_eng_test, y_eng_dev, y_eng_test = train_test_split(X_eng_dev, y_eng_dev, test_size=0.5, random_state=42)"
   ]
  },
  {
   "cell_type": "code",
   "execution_count": 136,
   "metadata": {},
   "outputs": [
    {
     "name": "stdout",
     "output_type": "stream",
     "text": [
      "     depth\n",
      "min    3.0\n",
      "25%    3.0\n",
      "50%    3.0\n",
      "75%    3.0\n",
      "max    3.0\n"
     ]
    },
    {
     "data": {
      "text/plain": [
       "0.26640929498948085"
      ]
     },
     "execution_count": 136,
     "metadata": {},
     "output_type": "execute_result"
    }
   ],
   "source": [
    "rf_eng = RandomForestRegressor(n_estimators=100, max_depth=3, n_jobs=-1)\n",
    "rf_eng.fit(X_eng_train.values.reshape(-1,1), y_eng_train.values)\n",
    "rf = rf_eng\n",
    "#\n",
    "tree_depths = pd.DataFrame({'depth': [tree.tree_.max_depth for tree in rf.estimators_]})\n",
    "print(tree_depths.describe().loc[['min','25%','50%','75%','max'],:])\n",
    "p = rf.predict(X_dev.values.reshape(-1,1))\n",
    "r2_score(y_dev, p)"
   ]
  },
  {
   "cell_type": "code",
   "execution_count": 137,
   "metadata": {},
   "outputs": [
    {
     "name": "stdout",
     "output_type": "stream",
     "text": [
      "     depth\n",
      "min    7.0\n",
      "25%    7.0\n",
      "50%    7.0\n",
      "75%    7.0\n",
      "max    7.0\n"
     ]
    },
    {
     "data": {
      "text/plain": [
       "0.2584372768103831"
      ]
     },
     "execution_count": 137,
     "metadata": {},
     "output_type": "execute_result"
    }
   ],
   "source": [
    "rf_eng = RandomForestRegressor(n_estimators=100, max_depth=7, n_jobs=-1)\n",
    "rf_eng.fit(X_eng_train.values.reshape(-1,1), y_eng_train.values)\n",
    "rf = rf_eng\n",
    "#\n",
    "tree_depths = pd.DataFrame({'depth': [tree.tree_.max_depth for tree in rf.estimators_]})\n",
    "print(tree_depths.describe().loc[['min','25%','50%','75%','max'],:])\n",
    "p = rf.predict(X_dev.values.reshape(-1,1))\n",
    "r2_score(y_dev, p)"
   ]
  },
  {
   "cell_type": "code",
   "execution_count": 138,
   "metadata": {},
   "outputs": [
    {
     "name": "stdout",
     "output_type": "stream",
     "text": [
      "     depth\n",
      "min    5.0\n",
      "25%    5.0\n",
      "50%    5.0\n",
      "75%    5.0\n",
      "max    5.0\n"
     ]
    },
    {
     "data": {
      "text/plain": [
       "0.2588221836879365"
      ]
     },
     "execution_count": 138,
     "metadata": {},
     "output_type": "execute_result"
    }
   ],
   "source": [
    "rf_eng = RandomForestRegressor(n_estimators=1000, max_depth=5, n_jobs=-1)\n",
    "rf_eng.fit(X_eng_train.values.reshape(-1,1), y_eng_train.values)\n",
    "rf = rf_eng\n",
    "#\n",
    "tree_depths = pd.DataFrame({'depth': [tree.tree_.max_depth for tree in rf.estimators_]})\n",
    "print(tree_depths.describe().loc[['min','25%','50%','75%','max'],:])\n",
    "p = rf.predict(X_dev.values.reshape(-1,1))\n",
    "r2_score(y_dev, p)"
   ]
  },
  {
   "cell_type": "markdown",
   "metadata": {},
   "source": [
    "# Baseline + DemoClinical"
   ]
  },
  {
   "cell_type": "code",
   "execution_count": 146,
   "metadata": {},
   "outputs": [],
   "source": [
    "X_fill = X.fillna(-99999)"
   ]
  },
  {
   "cell_type": "code",
   "execution_count": 147,
   "metadata": {},
   "outputs": [],
   "source": [
    "X_dc_train, X_dc_dev, y_dc_train, y_dc_dev = train_test_split(X_fill.drop(sensor_features,axis=1), y, test_size=0.3, random_state=42)\n",
    "X_dc_dev, X_dc_test, y_dc_dev, y_dc_test = train_test_split(X_dc_dev, y_dc_dev, test_size=0.5, random_state=42)"
   ]
  },
  {
   "cell_type": "markdown",
   "metadata": {},
   "source": [
    "## Depths of the CART RF"
   ]
  },
  {
   "cell_type": "code",
   "execution_count": 154,
   "metadata": {},
   "outputs": [
    {
     "name": "stdout",
     "output_type": "stream",
     "text": [
      "     depth\n",
      "min  17.00\n",
      "25%  20.75\n",
      "50%  22.00\n",
      "75%  23.00\n",
      "max  27.00\n"
     ]
    },
    {
     "data": {
      "text/plain": [
       "0.3122216167942006"
      ]
     },
     "execution_count": 154,
     "metadata": {},
     "output_type": "execute_result"
    }
   ],
   "source": [
    "rf_dc = RandomForestRegressor(n_estimators=100, n_jobs=-1)\n",
    "rf_dc.fit(X_dc_train.values, y_dc_train.values)\n",
    "rf = rf_dc\n",
    "#\n",
    "tree_depths = pd.DataFrame({'depth': [tree.tree_.max_depth for tree in rf.estimators_]})\n",
    "print(tree_depths.describe().loc[['min','25%','50%','75%','max'],:])\n",
    "p = rf.predict(X_dc_dev.values)\n",
    "r2_score(y_dc_dev, p)"
   ]
  },
  {
   "cell_type": "markdown",
   "metadata": {},
   "source": [
    "## Depth Regularization"
   ]
  },
  {
   "cell_type": "code",
   "execution_count": 182,
   "metadata": {},
   "outputs": [],
   "source": [
    "def rf_r2(\n",
    "    x_train,\n",
    "    y_train,\n",
    "    x_dev,\n",
    "    y_dev,\n",
    "    n_estimators = [100],\n",
    "    max_depth = [3],\n",
    "    n_jobs = -1,\n",
    "):\n",
    "    df = pd.DataFrame(columns=['n_estimators','max_depth','r2_score'])\n",
    "    for num in n_estimators:\n",
    "        for depth in max_depth:\n",
    "            rf = RandomForestRegressor(n_estimators=num, max_depth=depth, n_jobs=-1)\n",
    "            rf.fit(x_train.values, y_train.values)\n",
    "            p = rf.predict(X_dc_dev.values)\n",
    "            r2 = r2_score(y_dc_dev, p)\n",
    "            df.loc[len(df)] = [num, depth, r2]\n",
    "    return df"
   ]
  },
  {
   "cell_type": "code",
   "execution_count": 184,
   "metadata": {},
   "outputs": [],
   "source": [
    "df = rf_r2(X_dc_train, y_dc_train, X_dc_dev, y_dc_dev,\n",
    "          n_estimators = [100],\n",
    "          max_depth = np.arange(2,27))"
   ]
  },
  {
   "cell_type": "code",
   "execution_count": 191,
   "metadata": {},
   "outputs": [
    {
     "data": {
      "text/html": [
       "<div>\n",
       "<style scoped>\n",
       "    .dataframe tbody tr th:only-of-type {\n",
       "        vertical-align: middle;\n",
       "    }\n",
       "\n",
       "    .dataframe tbody tr th {\n",
       "        vertical-align: top;\n",
       "    }\n",
       "\n",
       "    .dataframe thead th {\n",
       "        text-align: right;\n",
       "    }\n",
       "</style>\n",
       "<table border=\"1\" class=\"dataframe\">\n",
       "  <thead>\n",
       "    <tr style=\"text-align: right;\">\n",
       "      <th></th>\n",
       "      <th>n_estimators</th>\n",
       "      <th>max_depth</th>\n",
       "      <th>r2_score</th>\n",
       "    </tr>\n",
       "  </thead>\n",
       "  <tbody>\n",
       "    <tr>\n",
       "      <th>7</th>\n",
       "      <td>100.0</td>\n",
       "      <td>9.0</td>\n",
       "      <td>0.326664</td>\n",
       "    </tr>\n",
       "    <tr>\n",
       "      <th>10</th>\n",
       "      <td>100.0</td>\n",
       "      <td>12.0</td>\n",
       "      <td>0.319505</td>\n",
       "    </tr>\n",
       "    <tr>\n",
       "      <th>11</th>\n",
       "      <td>100.0</td>\n",
       "      <td>13.0</td>\n",
       "      <td>0.318840</td>\n",
       "    </tr>\n",
       "    <tr>\n",
       "      <th>17</th>\n",
       "      <td>100.0</td>\n",
       "      <td>19.0</td>\n",
       "      <td>0.315918</td>\n",
       "    </tr>\n",
       "    <tr>\n",
       "      <th>14</th>\n",
       "      <td>100.0</td>\n",
       "      <td>16.0</td>\n",
       "      <td>0.313445</td>\n",
       "    </tr>\n",
       "  </tbody>\n",
       "</table>\n",
       "</div>"
      ],
      "text/plain": [
       "    n_estimators  max_depth  r2_score\n",
       "7          100.0        9.0  0.326664\n",
       "10         100.0       12.0  0.319505\n",
       "11         100.0       13.0  0.318840\n",
       "17         100.0       19.0  0.315918\n",
       "14         100.0       16.0  0.313445"
      ]
     },
     "execution_count": 191,
     "metadata": {},
     "output_type": "execute_result"
    }
   ],
   "source": [
    "df.sort_values('r2_score', ascending=False).head()"
   ]
  },
  {
   "cell_type": "code",
   "execution_count": 192,
   "metadata": {},
   "outputs": [
    {
     "data": {
      "text/plain": [
       "<matplotlib.axes._subplots.AxesSubplot at 0x7fa726878320>"
      ]
     },
     "execution_count": 192,
     "metadata": {},
     "output_type": "execute_result"
    },
    {
     "data": {
      "image/png": "[encoded data removed]",
      "text/plain": [
       "<Figure size 432x288 with 1 Axes>"
      ]
     },
     "metadata": {
      "needs_background": "light"
     },
     "output_type": "display_data"
    }
   ],
   "source": [
    "df.plot('max_depth','r2_score')"
   ]
  },
  {
   "cell_type": "markdown",
   "metadata": {},
   "source": [
    "## Ensemble Regularization\n",
    "Max depth of 9 worked best, so we'll first hold that constant."
   ]
  },
  {
   "cell_type": "code",
   "execution_count": 193,
   "metadata": {},
   "outputs": [],
   "source": [
    "df = rf_r2(X_dc_train, y_dc_train, X_dc_dev, y_dc_dev,\n",
    "          n_estimators = [100, 200, 500, 1000, 5000, 10000, 20000, 50000],\n",
    "          max_depth = [9])"
   ]
  },
  {
   "cell_type": "code",
   "execution_count": 197,
   "metadata": {},
   "outputs": [
    {
     "data": {
      "text/html": [
       "<div>\n",
       "<style scoped>\n",
       "    .dataframe tbody tr th:only-of-type {\n",
       "        vertical-align: middle;\n",
       "    }\n",
       "\n",
       "    .dataframe tbody tr th {\n",
       "        vertical-align: top;\n",
       "    }\n",
       "\n",
       "    .dataframe thead th {\n",
       "        text-align: right;\n",
       "    }\n",
       "</style>\n",
       "<table border=\"1\" class=\"dataframe\">\n",
       "  <thead>\n",
       "    <tr style=\"text-align: right;\">\n",
       "      <th></th>\n",
       "      <th>n_estimators</th>\n",
       "      <th>max_depth</th>\n",
       "      <th>r2_score</th>\n",
       "    </tr>\n",
       "  </thead>\n",
       "  <tbody>\n",
       "    <tr>\n",
       "      <th>3</th>\n",
       "      <td>1000.0</td>\n",
       "      <td>9.0</td>\n",
       "      <td>0.318701</td>\n",
       "    </tr>\n",
       "    <tr>\n",
       "      <th>4</th>\n",
       "      <td>5000.0</td>\n",
       "      <td>9.0</td>\n",
       "      <td>0.315697</td>\n",
       "    </tr>\n",
       "    <tr>\n",
       "      <th>5</th>\n",
       "      <td>10000.0</td>\n",
       "      <td>9.0</td>\n",
       "      <td>0.315271</td>\n",
       "    </tr>\n",
       "    <tr>\n",
       "      <th>2</th>\n",
       "      <td>500.0</td>\n",
       "      <td>9.0</td>\n",
       "      <td>0.315202</td>\n",
       "    </tr>\n",
       "    <tr>\n",
       "      <th>7</th>\n",
       "      <td>50000.0</td>\n",
       "      <td>9.0</td>\n",
       "      <td>0.314904</td>\n",
       "    </tr>\n",
       "    <tr>\n",
       "      <th>6</th>\n",
       "      <td>20000.0</td>\n",
       "      <td>9.0</td>\n",
       "      <td>0.314683</td>\n",
       "    </tr>\n",
       "    <tr>\n",
       "      <th>1</th>\n",
       "      <td>200.0</td>\n",
       "      <td>9.0</td>\n",
       "      <td>0.308549</td>\n",
       "    </tr>\n",
       "    <tr>\n",
       "      <th>0</th>\n",
       "      <td>100.0</td>\n",
       "      <td>9.0</td>\n",
       "      <td>0.298612</td>\n",
       "    </tr>\n",
       "  </tbody>\n",
       "</table>\n",
       "</div>"
      ],
      "text/plain": [
       "   n_estimators  max_depth  r2_score\n",
       "3        1000.0        9.0  0.318701\n",
       "4        5000.0        9.0  0.315697\n",
       "5       10000.0        9.0  0.315271\n",
       "2         500.0        9.0  0.315202\n",
       "7       50000.0        9.0  0.314904\n",
       "6       20000.0        9.0  0.314683\n",
       "1         200.0        9.0  0.308549\n",
       "0         100.0        9.0  0.298612"
      ]
     },
     "execution_count": 197,
     "metadata": {},
     "output_type": "execute_result"
    }
   ],
   "source": [
    "df.sort_values('r2_score', ascending=False).head(10)"
   ]
  },
  {
   "cell_type": "code",
   "execution_count": 196,
   "metadata": {},
   "outputs": [
    {
     "data": {
      "text/plain": [
       "<matplotlib.axes._subplots.AxesSubplot at 0x7fa737ba72e8>"
      ]
     },
     "execution_count": 196,
     "metadata": {},
     "output_type": "execute_result"
    },
    {
     "data": {
      "image/png": "[encoded data removed]",
      "text/plain": [
       "<Figure size 432x288 with 1 Axes>"
      ]
     },
     "metadata": {
      "needs_background": "light"
     },
     "output_type": "display_data"
    }
   ],
   "source": [
    "df.plot('n_estimators','r2_score')"
   ]
  },
  {
   "cell_type": "markdown",
   "metadata": {},
   "source": [
    "## Ensemble+Depth Reg"
   ]
  },
  {
   "cell_type": "code",
   "execution_count": 198,
   "metadata": {},
   "outputs": [],
   "source": [
    "df = rf_r2(X_dc_train, y_dc_train, X_dc_dev, y_dc_dev,\n",
    "          n_estimators = [100, 250, 500, 750, 1000, 1250, 1500, 1750, 2000, 2500, 3000, 3500, 4000, 4500, 5000],\n",
    "          max_depth = np.arange(7,16))"
   ]
  },
  {
   "cell_type": "code",
   "execution_count": 199,
   "metadata": {},
   "outputs": [
    {
     "data": {
      "text/html": [
       "<div>\n",
       "<style scoped>\n",
       "    .dataframe tbody tr th:only-of-type {\n",
       "        vertical-align: middle;\n",
       "    }\n",
       "\n",
       "    .dataframe tbody tr th {\n",
       "        vertical-align: top;\n",
       "    }\n",
       "\n",
       "    .dataframe thead th {\n",
       "        text-align: right;\n",
       "    }\n",
       "</style>\n",
       "<table border=\"1\" class=\"dataframe\">\n",
       "  <thead>\n",
       "    <tr style=\"text-align: right;\">\n",
       "      <th></th>\n",
       "      <th>n_estimators</th>\n",
       "      <th>max_depth</th>\n",
       "      <th>r2_score</th>\n",
       "    </tr>\n",
       "  </thead>\n",
       "  <tbody>\n",
       "    <tr>\n",
       "      <th>0</th>\n",
       "      <td>100.0</td>\n",
       "      <td>7.0</td>\n",
       "      <td>0.328143</td>\n",
       "    </tr>\n",
       "    <tr>\n",
       "      <th>41</th>\n",
       "      <td>1000.0</td>\n",
       "      <td>12.0</td>\n",
       "      <td>0.322179</td>\n",
       "    </tr>\n",
       "    <tr>\n",
       "      <th>44</th>\n",
       "      <td>1000.0</td>\n",
       "      <td>15.0</td>\n",
       "      <td>0.321935</td>\n",
       "    </tr>\n",
       "    <tr>\n",
       "      <th>32</th>\n",
       "      <td>750.0</td>\n",
       "      <td>12.0</td>\n",
       "      <td>0.321214</td>\n",
       "    </tr>\n",
       "    <tr>\n",
       "      <th>86</th>\n",
       "      <td>2500.0</td>\n",
       "      <td>12.0</td>\n",
       "      <td>0.320130</td>\n",
       "    </tr>\n",
       "    <tr>\n",
       "      <th>26</th>\n",
       "      <td>500.0</td>\n",
       "      <td>15.0</td>\n",
       "      <td>0.320057</td>\n",
       "    </tr>\n",
       "    <tr>\n",
       "      <th>10</th>\n",
       "      <td>250.0</td>\n",
       "      <td>8.0</td>\n",
       "      <td>0.319425</td>\n",
       "    </tr>\n",
       "    <tr>\n",
       "      <th>48</th>\n",
       "      <td>1250.0</td>\n",
       "      <td>10.0</td>\n",
       "      <td>0.319245</td>\n",
       "    </tr>\n",
       "    <tr>\n",
       "      <th>15</th>\n",
       "      <td>250.0</td>\n",
       "      <td>13.0</td>\n",
       "      <td>0.318566</td>\n",
       "    </tr>\n",
       "    <tr>\n",
       "      <th>3</th>\n",
       "      <td>100.0</td>\n",
       "      <td>10.0</td>\n",
       "      <td>0.318304</td>\n",
       "    </tr>\n",
       "  </tbody>\n",
       "</table>\n",
       "</div>"
      ],
      "text/plain": [
       "    n_estimators  max_depth  r2_score\n",
       "0          100.0        7.0  0.328143\n",
       "41        1000.0       12.0  0.322179\n",
       "44        1000.0       15.0  0.321935\n",
       "32         750.0       12.0  0.321214\n",
       "86        2500.0       12.0  0.320130\n",
       "26         500.0       15.0  0.320057\n",
       "10         250.0        8.0  0.319425\n",
       "48        1250.0       10.0  0.319245\n",
       "15         250.0       13.0  0.318566\n",
       "3          100.0       10.0  0.318304"
      ]
     },
     "execution_count": 199,
     "metadata": {},
     "output_type": "execute_result"
    }
   ],
   "source": [
    "df.sort_values('r2_score', ascending=False).head(10)"
   ]
  },
  {
   "cell_type": "code",
   "execution_count": 200,
   "metadata": {},
   "outputs": [],
   "source": [
    "import seaborn as sns"
   ]
  },
  {
   "cell_type": "code",
   "execution_count": 206,
   "metadata": {},
   "outputs": [
    {
     "data": {
      "text/plain": [
       "<matplotlib.axes._subplots.AxesSubplot at 0x7fa72693a588>"
      ]
     },
     "execution_count": 206,
     "metadata": {},
     "output_type": "execute_result"
    },
    {
     "data": {
      "image/png": "[encoded data removed]",
      "text/plain": [
       "<Figure size 432x288 with 2 Axes>"
      ]
     },
     "metadata": {
      "needs_background": "light"
     },
     "output_type": "display_data"
    }
   ],
   "source": [
    "\n",
    "sns.heatmap(df.pivot('max_depth','n_estimators'))"
   ]
  },
  {
   "cell_type": "code",
   "execution_count": 207,
   "metadata": {},
   "outputs": [],
   "source": [
    "df_ = rf_r2(X_dc_train, y_dc_train, X_dc_dev, y_dc_dev,\n",
    "          n_estimators = [10,20,30,40,50,60,70,80,90],\n",
    "          max_depth = np.arange(7,16))"
   ]
  },
  {
   "cell_type": "code",
   "execution_count": 209,
   "metadata": {},
   "outputs": [],
   "source": [
    "data = pd.concat([df,df_])"
   ]
  },
  {
   "cell_type": "code",
   "execution_count": 210,
   "metadata": {},
   "outputs": [
    {
     "data": {
      "text/plain": [
       "<matplotlib.axes._subplots.AxesSubplot at 0x7fa72691ac88>"
      ]
     },
     "execution_count": 210,
     "metadata": {},
     "output_type": "execute_result"
    },
    {
     "data": {
      "image/png": "[encoded data removed]",
      "text/plain": [
       "<Figure size 432x288 with 2 Axes>"
      ]
     },
     "metadata": {
      "needs_background": "light"
     },
     "output_type": "display_data"
    }
   ],
   "source": [
    "sns.heatmap(data.pivot('max_depth','n_estimators'))"
   ]
  },
  {
   "cell_type": "code",
   "execution_count": 213,
   "metadata": {},
   "outputs": [
    {
     "data": {
      "text/html": [
       "<div>\n",
       "<style scoped>\n",
       "    .dataframe tbody tr th:only-of-type {\n",
       "        vertical-align: middle;\n",
       "    }\n",
       "\n",
       "    .dataframe tbody tr th {\n",
       "        vertical-align: top;\n",
       "    }\n",
       "\n",
       "    .dataframe thead th {\n",
       "        text-align: right;\n",
       "    }\n",
       "</style>\n",
       "<table border=\"1\" class=\"dataframe\">\n",
       "  <thead>\n",
       "    <tr style=\"text-align: right;\">\n",
       "      <th></th>\n",
       "      <th>n_estimators</th>\n",
       "      <th>max_depth</th>\n",
       "      <th>r2_score</th>\n",
       "    </tr>\n",
       "  </thead>\n",
       "  <tbody>\n",
       "    <tr>\n",
       "      <th>0</th>\n",
       "      <td>100.0</td>\n",
       "      <td>7.0</td>\n",
       "      <td>0.328143</td>\n",
       "    </tr>\n",
       "    <tr>\n",
       "      <th>20</th>\n",
       "      <td>30.0</td>\n",
       "      <td>9.0</td>\n",
       "      <td>0.328127</td>\n",
       "    </tr>\n",
       "    <tr>\n",
       "      <th>49</th>\n",
       "      <td>60.0</td>\n",
       "      <td>11.0</td>\n",
       "      <td>0.326124</td>\n",
       "    </tr>\n",
       "    <tr>\n",
       "      <th>57</th>\n",
       "      <td>70.0</td>\n",
       "      <td>10.0</td>\n",
       "      <td>0.325131</td>\n",
       "    </tr>\n",
       "    <tr>\n",
       "      <th>36</th>\n",
       "      <td>50.0</td>\n",
       "      <td>7.0</td>\n",
       "      <td>0.324343</td>\n",
       "    </tr>\n",
       "    <tr>\n",
       "      <th>41</th>\n",
       "      <td>1000.0</td>\n",
       "      <td>12.0</td>\n",
       "      <td>0.322179</td>\n",
       "    </tr>\n",
       "    <tr>\n",
       "      <th>21</th>\n",
       "      <td>30.0</td>\n",
       "      <td>10.0</td>\n",
       "      <td>0.322129</td>\n",
       "    </tr>\n",
       "    <tr>\n",
       "      <th>44</th>\n",
       "      <td>1000.0</td>\n",
       "      <td>15.0</td>\n",
       "      <td>0.321935</td>\n",
       "    </tr>\n",
       "    <tr>\n",
       "      <th>37</th>\n",
       "      <td>50.0</td>\n",
       "      <td>8.0</td>\n",
       "      <td>0.321921</td>\n",
       "    </tr>\n",
       "    <tr>\n",
       "      <th>65</th>\n",
       "      <td>80.0</td>\n",
       "      <td>9.0</td>\n",
       "      <td>0.321487</td>\n",
       "    </tr>\n",
       "  </tbody>\n",
       "</table>\n",
       "</div>"
      ],
      "text/plain": [
       "    n_estimators  max_depth  r2_score\n",
       "0          100.0        7.0  0.328143\n",
       "20          30.0        9.0  0.328127\n",
       "49          60.0       11.0  0.326124\n",
       "57          70.0       10.0  0.325131\n",
       "36          50.0        7.0  0.324343\n",
       "41        1000.0       12.0  0.322179\n",
       "21          30.0       10.0  0.322129\n",
       "44        1000.0       15.0  0.321935\n",
       "37          50.0        8.0  0.321921\n",
       "65          80.0        9.0  0.321487"
      ]
     },
     "execution_count": 213,
     "metadata": {},
     "output_type": "execute_result"
    }
   ],
   "source": [
    "data.sort_values('r2_score', ascending=False).head(10)"
   ]
  },
  {
   "cell_type": "code",
   "execution_count": 214,
   "metadata": {},
   "outputs": [],
   "source": [
    "df__ = rf_r2(X_dc_train, y_dc_train, X_dc_dev, y_dc_dev,\n",
    "          n_estimators = [10,20,30,40,50,60,70,80,90,100, 250, 500, 750, 1000, 1250, 1500, 1750, 2000, 2500, 3000, 3500, 4000, 4500, 5000],\n",
    "          max_depth = np.arange(2,7))"
   ]
  },
  {
   "cell_type": "code",
   "execution_count": 215,
   "metadata": {},
   "outputs": [],
   "source": [
    "data_ = pd.concat([data,df__])"
   ]
  },
  {
   "cell_type": "code",
   "execution_count": 216,
   "metadata": {},
   "outputs": [
    {
     "data": {
      "text/plain": [
       "<matplotlib.axes._subplots.AxesSubplot at 0x7fa7245ca0b8>"
      ]
     },
     "execution_count": 216,
     "metadata": {},
     "output_type": "execute_result"
    },
    {
     "data": {
      "image/png": "[encoded data removed]",
      "text/plain": [
       "<Figure size 432x288 with 2 Axes>"
      ]
     },
     "metadata": {
      "needs_background": "light"
     },
     "output_type": "display_data"
    }
   ],
   "source": [
    "sns.heatmap(data_.pivot('max_depth','n_estimators'))"
   ]
  },
  {
   "cell_type": "code",
   "execution_count": 217,
   "metadata": {},
   "outputs": [
    {
     "data": {
      "text/html": [
       "<div>\n",
       "<style scoped>\n",
       "    .dataframe tbody tr th:only-of-type {\n",
       "        vertical-align: middle;\n",
       "    }\n",
       "\n",
       "    .dataframe tbody tr th {\n",
       "        vertical-align: top;\n",
       "    }\n",
       "\n",
       "    .dataframe thead th {\n",
       "        text-align: right;\n",
       "    }\n",
       "</style>\n",
       "<table border=\"1\" class=\"dataframe\">\n",
       "  <thead>\n",
       "    <tr style=\"text-align: right;\">\n",
       "      <th></th>\n",
       "      <th>n_estimators</th>\n",
       "      <th>max_depth</th>\n",
       "      <th>r2_score</th>\n",
       "    </tr>\n",
       "  </thead>\n",
       "  <tbody>\n",
       "    <tr>\n",
       "      <th>2</th>\n",
       "      <td>10.0</td>\n",
       "      <td>4.0</td>\n",
       "      <td>0.335395</td>\n",
       "    </tr>\n",
       "    <tr>\n",
       "      <th>0</th>\n",
       "      <td>100.0</td>\n",
       "      <td>7.0</td>\n",
       "      <td>0.328143</td>\n",
       "    </tr>\n",
       "    <tr>\n",
       "      <th>20</th>\n",
       "      <td>30.0</td>\n",
       "      <td>9.0</td>\n",
       "      <td>0.328127</td>\n",
       "    </tr>\n",
       "    <tr>\n",
       "      <th>49</th>\n",
       "      <td>60.0</td>\n",
       "      <td>11.0</td>\n",
       "      <td>0.326124</td>\n",
       "    </tr>\n",
       "    <tr>\n",
       "      <th>57</th>\n",
       "      <td>70.0</td>\n",
       "      <td>10.0</td>\n",
       "      <td>0.325131</td>\n",
       "    </tr>\n",
       "    <tr>\n",
       "      <th>36</th>\n",
       "      <td>50.0</td>\n",
       "      <td>7.0</td>\n",
       "      <td>0.324343</td>\n",
       "    </tr>\n",
       "    <tr>\n",
       "      <th>41</th>\n",
       "      <td>1000.0</td>\n",
       "      <td>12.0</td>\n",
       "      <td>0.322179</td>\n",
       "    </tr>\n",
       "    <tr>\n",
       "      <th>21</th>\n",
       "      <td>30.0</td>\n",
       "      <td>10.0</td>\n",
       "      <td>0.322129</td>\n",
       "    </tr>\n",
       "    <tr>\n",
       "      <th>44</th>\n",
       "      <td>1000.0</td>\n",
       "      <td>15.0</td>\n",
       "      <td>0.321935</td>\n",
       "    </tr>\n",
       "    <tr>\n",
       "      <th>37</th>\n",
       "      <td>50.0</td>\n",
       "      <td>8.0</td>\n",
       "      <td>0.321921</td>\n",
       "    </tr>\n",
       "  </tbody>\n",
       "</table>\n",
       "</div>"
      ],
      "text/plain": [
       "    n_estimators  max_depth  r2_score\n",
       "2           10.0        4.0  0.335395\n",
       "0          100.0        7.0  0.328143\n",
       "20          30.0        9.0  0.328127\n",
       "49          60.0       11.0  0.326124\n",
       "57          70.0       10.0  0.325131\n",
       "36          50.0        7.0  0.324343\n",
       "41        1000.0       12.0  0.322179\n",
       "21          30.0       10.0  0.322129\n",
       "44        1000.0       15.0  0.321935\n",
       "37          50.0        8.0  0.321921"
      ]
     },
     "execution_count": 217,
     "metadata": {},
     "output_type": "execute_result"
    }
   ],
   "source": [
    "data_.sort_values('r2_score', ascending=False).head(10)"
   ]
  },
  {
   "cell_type": "code",
   "execution_count": null,
   "metadata": {},
   "outputs": [],
   "source": []
  },
  {
   "cell_type": "code",
   "execution_count": null,
   "metadata": {},
   "outputs": [],
   "source": []
  },
  {
   "cell_type": "markdown",
   "metadata": {},
   "source": [
    "## train model function\n",
    "**The stuff below is originally from Udi's `modeling_f3_baseline` notebook**"
   ]
  },
  {
   "cell_type": "code",
   "execution_count": 16,
   "metadata": {},
   "outputs": [],
   "source": [
    "from sklearn.model_selection import RandomizedSearchCV\n",
    "from sklearn.linear_model import Lasso\n",
    "from sklearn.model_selection import train_test_split\n",
    "from xgboost import XGBRegressor\n",
    "from sklearn.metrics import mean_absolute_error, median_absolute_error, r2_score\n",
    "from sklearn.ensemble import RandomForestRegressor\n",
    "from sklearn.ensemble import GradientBoostingRegressor\n",
    "from sklearn.linear_model import ElasticNet"
   ]
  },
  {
   "cell_type": "code",
   "execution_count": 17,
   "metadata": {},
   "outputs": [],
   "source": [
    "def train_model_cv(\n",
    "    X_train,\n",
    "    y_train,\n",
    "    model='lasso',\n",
    "    n_iter=50,\n",
    "    kfolds=3\n",
    "):\n",
    "    ''' Function to fit a model and tune hyper parameters using five fold cross validation\n",
    "       \n",
    "    Parameters\n",
    "    ----------\n",
    "    X_train : training features\n",
    "    Y_train: training target\n",
    "    model: model name\n",
    "    '''\n",
    "    \n",
    "    regs={'lasso': Lasso(selection='random',random_state=42),\n",
    "          'rf':RandomForestRegressor(random_state=42),\n",
    "          'xgbtree':XGBRegressor(silent=True,early_stopping_rounds=10,eval_metric=\"mae\",eval_set=[(X_train,y_train)],random_state=42),\n",
    "          'xgbdart':XGBRegressor(silent=True,early_stopping_rounds=10,eval_set=[(X_train,y_train)],booster='dart',random_state=42),\n",
    "          'xgblinear':XGBRegressor(silent=True,early_stopping_rounds=10,eval_set=[(X_train,y_train)],booster='gblinear',random_state=42),\n",
    "          'gbmreg':GradientBoostingRegressor(loss='quantile',random_state=42),\n",
    "         'enet':ElasticNet(selection='random',random_state=42)}\n",
    "    grids = {'lasso':\n",
    "                {'alpha':[0.1,0.2,0.3,0.4,0.5,1,2,5],\n",
    "                 'normalize':[True,False],\n",
    "                 'positive':[True,False]\n",
    "                },\n",
    "             'enet':\n",
    "                {'alpha':[0.1,0.2,0.3,0.4,0.5,1,2,5],\n",
    "                 'l1_ratio':[0,0.5,1],\n",
    "                 'normalize':[False],\n",
    "                 'positive':[True,False]\n",
    "                },\n",
    "             'rf':\n",
    "                {'n_estimators': [10,100,500,1000],\n",
    "                 'max_features': ['auto','sqrt'],\n",
    "                 'max_depth': [3,5,8],\n",
    "                 'min_samples_split':[2, 5, 10],\n",
    "                 'min_samples_leaf':[1, 2, 4]\n",
    "                },\n",
    "             'xgbtree':\n",
    "                 {'learning_rate': expon(scale=.1),\n",
    "                  'max_depth': [2,3,5],\n",
    "                  'n_estimators': [10,100,200,500],\n",
    "                  'subsample':[0.5,0.8,1],\n",
    "                  'alpha':[1,5,10,20,50],\n",
    "                  'gamma':[20,50,100,200],\n",
    "                  'lambda': [0.1,0.2,0.3,0.4,0.5,1,2,5],\n",
    "                  'rate_drop':[0,0.2,0.4,0.6,0.8,1]},\n",
    "             'xgbdart':\n",
    "                 {'learning_rate': expon(scale=.1),\n",
    "                  'max_depth': [2,3,5],\n",
    "                  'n_estimators': [10,100,200,500],\n",
    "                  'subsample':[0.5,0.8,1],\n",
    "                  'rate_drop':[0,0.2,0.4,0.6,0.8,1]},\n",
    "             'xgblinear':\n",
    "                 {'alpha':[0.1,1,5,10],\n",
    "                  'lambda': [0.1,0.2,0.3,0.4,0.5,1,2,5],\n",
    "                  'n_estimators': [10,100,200,500],\n",
    "                  'subsample':[0.5,0.8,1],\n",
    "                  'rate_drop':[0,0.2,0.4,0.6,0.8,1]},\n",
    "             'gbmreg':{'n_estimators': [10,100,250],\n",
    "                 'max_depth': [3,5,8],\n",
    "                 'min_samples_split':[2, 5, 10,20],\n",
    "                 'min_samples_leaf':[2, 5, 10,20]\n",
    "                }\n",
    "            }\n",
    "    \n",
    "    reg=RandomizedSearchCV(regs[model],\n",
    "                           grids[model],\n",
    "                           n_jobs=-1,\n",
    "                           cv=kfolds,\n",
    "                           n_iter=n_iter,\n",
    "                           return_train_score=True,\n",
    "                           scoring=['r2','neg_mean_absolute_error','neg_median_absolute_error'],\n",
    "                          refit='neg_mean_absolute_error')\n",
    "    reg.fit(X_train,y_train)\n",
    "    return(reg)"
   ]
  }
 ],
 "metadata": {
  "kernelspec": {
   "display_name": "Python 3",
   "language": "python",
   "name": "python3"
  },
  "language_info": {
   "codemirror_mode": {
    "name": "ipython",
    "version": 3
   },
   "file_extension": ".py",
   "mimetype": "text/x-python",
   "name": "python",
   "nbconvert_exporter": "python",
   "pygments_lexer": "ipython3",
   "version": "3.7.6"
  }
 },
 "nbformat": 4,
 "nbformat_minor": 2
}
