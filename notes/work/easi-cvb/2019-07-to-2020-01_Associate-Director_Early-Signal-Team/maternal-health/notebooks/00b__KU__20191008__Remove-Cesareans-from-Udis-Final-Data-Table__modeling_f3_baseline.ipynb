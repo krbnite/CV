{
 "cells": [
  {
   "cell_type": "code",
   "execution_count": 1,
   "metadata": {},
   "outputs": [
    {
     "data": {
      "text/html": [
       "\n",
       "    <style>\n",
       "        .backtick {\n",
       "            font-style:oblique;\n",
       "            font-family:\"Courier New\";\n",
       "            font-size:15px;\n",
       "        }\n",
       "    </style>\n"
      ],
      "text/plain": [
       "<IPython.core.display.HTML object>"
      ]
     },
     "execution_count": 1,
     "metadata": {},
     "output_type": "execute_result"
    }
   ],
   "source": [
    "from IPython.display import HTML\n",
    "html = HTML(\"\"\"\n",
    "    <style>\n",
    "        .backtick {\n",
    "            font-style:oblique;\n",
    "            font-family:\"Courier New\";\n",
    "            font-size:15px;\n",
    "        }\n",
    "    </style>\n",
    "\"\"\")\n",
    "html"
   ]
  },
  {
   "cell_type": "markdown",
   "metadata": {},
   "source": [
    "**NOTE FROM THE FUTURE (2019-Dec-16)**\n",
    "\n",
    "<div style=\"background-color:sandybrown;\">\n",
    "    <p> This was some of the earliest work on the maternal project that I did, during\n",
    "        the last week that Udi was still here, but after I did some of the initial RF work in the \n",
    "        previous notebook (prefixed <font class=backtick>00a__KU</font> in the new sub-repo \n",
    "        <font class=backtick>mbh001_v3</font>, or called <font class=backtick>modeling_f3_baseline_KU</font>\n",
    "        in Udi's sub-repo <font class=backtick>mbh001_cu_v2</font>). </p>\n",
    "    <p> Basically, the gist is this: while talking with our partners on Columbia on the phone,\n",
    "        the topic of cesareans came up, and I realized  that a pre-scheduled cesarean\n",
    "        might not be something we want to leave in the data set when predicting labor onset.  The\n",
    "        idea is simple, and it is similar to when I was doing dropout modeling.  </p>\n",
    "    <p> In the Substance\n",
    "        Abuse Disorder (SUD) data set I was working with prior to taking over this maternal project, \n",
    "        we had patients who completed a\n",
    "        treatment (fine), patients who left treatment against medical advice (great, this is what\n",
    "        we consider \"dropout\" to be for our project), and then patients with a bunch of other reasons for\n",
    "        \"dropping out of treatment\" that weren't really dropout (i.e., death, hospitalization,\n",
    "        incarceration, moved to new state, etc).  I wanted to identify the risk of dropout, but\n",
    "        thought the patients in this 3rd category, at best, just added noise to the data (e.g.,\n",
    "        if we included them under the \"dropout\" label).  My view was that these patients\n",
    "        represented \"unlabeled\" data: they would have either \"completed treatment\" or \"dropped out,\"\n",
    "        but they were intervened upon first, making it impossible to know which.  </p>\n",
    "    <p> In this situation (having unlabeled records),\n",
    "        you have some options.  For one, you can use some clustering/labeling technique to impose\n",
    "        labels on the unlabeled records.  Alternatively (and this is what I chose), you can\n",
    "        assume that the unlabeled data is unlabeled completely at random -- thus, both the\n",
    "        labeled and unlabled records faithfully represent the same patient population.  This means that,\n",
    "        considering the unlabeled data is a small enough portion of the full data set, the\n",
    "        unlabled data can be discarded before engaging in a supervised learning method.  </p>\n",
    "    <p> It occurred to me that a pre-scheduled cesarean when predicting labor onset is a similar\n",
    "        scenario:  the patient ends up without a \"label\" (in this case, the label stems from a\n",
    "        continuous variable) due to an intervention that occurred before the labeling event\n",
    "        could occur.  This patient would have had a label, but doesn't.  </p>\n",
    "    <p> There is one caveat here: to my mind, the dropout interventions (death, hospitalization, \n",
    "        incarceration, relocation) can reasonably be assumed to occur at random (likely\n",
    "        not totally true, but reasonable enough), it is not so straightforward that this is\n",
    "        the case with cesareans.  For example, scheduling a cesarean probably means you've\n",
    "        made it well past pre-term, which is not random - it biases towards normal-term deliveries.  Or, \n",
    "        better, one can imagine a class of cesareans that were scheduled after labor onset, which\n",
    "        is definitely not at random (bias towards normal-term again).  However, some of the cesareans\n",
    "        are likely due to conditions that correlate with pre-term delivery (i.e., doctors notice \n",
    "        complications and take charge before something bad happens).  So... Maybe there are enough\n",
    "        sources driving cesareans that the cesarean class is distributed similarly enough in time\n",
    "        to regular deliveries...  I think, no matter what, a cesarean represents noise and\n",
    "        does not represent what we are trying to teach the model to learn, which is natural onset\n",
    "        of labor and delivery.  </p>\n",
    "    <p> Anyway, point is, I discussed this on the phone with Columbia during Udi's last week;\n",
    "        it was generally agreed that we might get a performance boost if we were to selectively\n",
    "        slim down the data set like this. </p>\n",
    "    <p style=\"background-color:orange;\"><b>NOTE</b>: This work was exploratory and \n",
    "        was my first foray into fudging around with and subsetting the data.  Much of the\n",
    "        code here (loading the data, dealing with sparsity, imputation) is borrowed directly from\n",
    "        Udi's last/latest Jupyter notebook, <font class=backtick>modeling_f3_baseline</font> \n",
    "        (though I added the cesarean parts in the early data loading and\n",
    "        processing steps).  The underlying assumption made during this work is that Udi's final \"full data table\"\n",
    "        that is used here is good enough to use (which may be debatable) and that most of his processing\n",
    "        code used here was ok (I found that this wasn't strictly true as I worked on stuff, e.g., he\n",
    "        was accidentally dropping most/all of his categorical variables). </p>\n",
    "    <p><b>RESULTS</b>: \n",
    "        <ul>\n",
    "            <li>Initially, removing cesareans seemed to strongly hurt the model performance, which led us\n",
    "                to believe that there was something about the cesarean subpopulation we removed that\n",
    "                had all the predictive power in it... However, this was not exactly the case (see next\n",
    "                two bullets).</li>\n",
    "             <li>One thing seems to be obvious: <b>This data set suffers from what Lee would call \n",
    "        the \"curse of heterogeneity\".</b> It is VERY HARD to not overfit to the training data, i.e., the\n",
    "        data is heterogeneous enough that the validation data is almost never a great representation\n",
    "                of the training data.  </li>\n",
    "            <li><b>What's really strange</b> is that the major driver of\n",
    "        model performance seems to be the random seed used for splitting the data.  This tells me\n",
    "        that there is an \"opportunistic split\" for some random seeds where the training and\n",
    "        validation data have more congruent, harmonious distributions relative to each other.  This\n",
    "        gave me the idea to look at devising a stratification strategy for splitting the data, which\n",
    "                I do in the next JNB (<font class=backtick>00c__KU</font> in \n",
    "                <font class=backtick>`mbh001_v3/notebooks/</font>). I started to get hints of\n",
    "            this phenomenon in this notebook, but it wasn't until the next notebook that it truly\n",
    "            dawned on me.</li> \n",
    "        </ul>\n",
    "    </p>   \n",
    "    <hr>\n",
    "    <p style='background-color:orange;'> \n",
    "        <b>NOTE</b>: For analyses relevant to final report sent to Gates Foundation, please\n",
    "        check out notebooks <font class=backtick>01_KU</font> through \n",
    "        <font class=backtick>04_KU</font> in <font class=backtick>mbh001/mbh001_v3</font>.\n",
    "    </p>\n",
    "    <hr>\n",
    "    <p style='color:red;background-color:yellow;'><b>NOTE</b>: This notebook is copied to `mbh001_v3/notebooks` where it is prefixed `00b__KU`.</p>\n",
    "</div>\n",
    "\n",
    "-----------------------------------------------\n",
    "\n"
   ]
  },
  {
   "cell_type": "code",
   "execution_count": 1,
   "metadata": {},
   "outputs": [],
   "source": [
    "import pandas as pd\n",
    "from matplotlib import pyplot as plt\n",
    "import seaborn as sns\n",
    "import numpy as np\n",
    "import pickle\n",
    "from scipy.stats import zscore,expon"
   ]
  },
  {
   "cell_type": "code",
   "execution_count": 2,
   "metadata": {},
   "outputs": [],
   "source": [
    "pd.options.display.max_rows = 20"
   ]
  },
  {
   "cell_type": "markdown",
   "metadata": {},
   "source": [
    "### Load data"
   ]
  },
  {
   "cell_type": "code",
   "execution_count": 3,
   "metadata": {},
   "outputs": [
    {
     "name": "stdout",
     "output_type": "stream",
     "text": [
      "(1548, 577)\n"
     ]
    },
    {
     "data": {
      "text/html": [
       "<div>\n",
       "<style scoped>\n",
       "    .dataframe tbody tr th:only-of-type {\n",
       "        vertical-align: middle;\n",
       "    }\n",
       "\n",
       "    .dataframe tbody tr th {\n",
       "        vertical-align: top;\n",
       "    }\n",
       "\n",
       "    .dataframe thead th {\n",
       "        text-align: right;\n",
       "    }\n",
       "</style>\n",
       "<table border=\"1\" class=\"dataframe\">\n",
       "  <thead>\n",
       "    <tr style=\"text-align: right;\">\n",
       "      <th></th>\n",
       "      <th>adafppappa.afpga.10</th>\n",
       "      <th>adafppappa.afpga.15</th>\n",
       "      <th>adafppappa.afpga.pre10</th>\n",
       "      <th>adafppappa.afpmom.10</th>\n",
       "      <th>adafppappa.afpmom.15</th>\n",
       "      <th>adafppappa.afpmom.pre10</th>\n",
       "      <th>adafppappa.pappaga.10</th>\n",
       "      <th>adcdrisc.cdrisc_nmiss.15</th>\n",
       "      <th>adcdrisc.cdrisc_nmiss.20</th>\n",
       "      <th>adcdrisc.cdrisc_raw.15</th>\n",
       "      <th>...</th>\n",
       "      <th>adstai.r5_23.101520</th>\n",
       "      <th>adstai.r5_23.cycle.101520</th>\n",
       "      <th>adstai.r5_1.101520</th>\n",
       "      <th>adstai.r5_1.cycle.101520</th>\n",
       "      <th>adstai.r5_16.101520</th>\n",
       "      <th>adstai.r5_16.cycle.101520</th>\n",
       "      <th>adstai.t_anxiety.levels.101520</th>\n",
       "      <th>adstai.s_anxiety.levels.101520</th>\n",
       "      <th>ga_f3</th>\n",
       "      <th>time_left</th>\n",
       "    </tr>\n",
       "    <tr>\n",
       "      <th>patid</th>\n",
       "      <th></th>\n",
       "      <th></th>\n",
       "      <th></th>\n",
       "      <th></th>\n",
       "      <th></th>\n",
       "      <th></th>\n",
       "      <th></th>\n",
       "      <th></th>\n",
       "      <th></th>\n",
       "      <th></th>\n",
       "      <th></th>\n",
       "      <th></th>\n",
       "      <th></th>\n",
       "      <th></th>\n",
       "      <th></th>\n",
       "      <th></th>\n",
       "      <th></th>\n",
       "      <th></th>\n",
       "      <th></th>\n",
       "      <th></th>\n",
       "      <th></th>\n",
       "    </tr>\n",
       "  </thead>\n",
       "  <tbody>\n",
       "    <tr>\n",
       "      <th>S002-BISH-00698</th>\n",
       "      <td>155.0</td>\n",
       "      <td>NaN</td>\n",
       "      <td>NaN</td>\n",
       "      <td>0.963352</td>\n",
       "      <td>NaN</td>\n",
       "      <td>NaN</td>\n",
       "      <td>82.0</td>\n",
       "      <td>0.0</td>\n",
       "      <td>NaN</td>\n",
       "      <td>33.0</td>\n",
       "      <td>...</td>\n",
       "      <td>4.0</td>\n",
       "      <td>10</td>\n",
       "      <td>4.0</td>\n",
       "      <td>10</td>\n",
       "      <td>1.0</td>\n",
       "      <td>10</td>\n",
       "      <td>3</td>\n",
       "      <td>3</td>\n",
       "      <td>253.0</td>\n",
       "      <td>25.0</td>\n",
       "    </tr>\n",
       "    <tr>\n",
       "      <th>S002-BISH-00751</th>\n",
       "      <td>NaN</td>\n",
       "      <td>NaN</td>\n",
       "      <td>NaN</td>\n",
       "      <td>NaN</td>\n",
       "      <td>NaN</td>\n",
       "      <td>NaN</td>\n",
       "      <td>NaN</td>\n",
       "      <td>0.0</td>\n",
       "      <td>NaN</td>\n",
       "      <td>88.0</td>\n",
       "      <td>...</td>\n",
       "      <td>1.0</td>\n",
       "      <td>10</td>\n",
       "      <td>1.0</td>\n",
       "      <td>10</td>\n",
       "      <td>4.0</td>\n",
       "      <td>10</td>\n",
       "      <td>2</td>\n",
       "      <td>2</td>\n",
       "      <td>241.0</td>\n",
       "      <td>32.0</td>\n",
       "    </tr>\n",
       "    <tr>\n",
       "      <th>S002-BISH-00809</th>\n",
       "      <td>NaN</td>\n",
       "      <td>NaN</td>\n",
       "      <td>NaN</td>\n",
       "      <td>NaN</td>\n",
       "      <td>NaN</td>\n",
       "      <td>NaN</td>\n",
       "      <td>NaN</td>\n",
       "      <td>0.0</td>\n",
       "      <td>NaN</td>\n",
       "      <td>85.0</td>\n",
       "      <td>...</td>\n",
       "      <td>1.0</td>\n",
       "      <td>15</td>\n",
       "      <td>1.0</td>\n",
       "      <td>15</td>\n",
       "      <td>1.0</td>\n",
       "      <td>15</td>\n",
       "      <td>3</td>\n",
       "      <td>2</td>\n",
       "      <td>246.0</td>\n",
       "      <td>20.0</td>\n",
       "    </tr>\n",
       "    <tr>\n",
       "      <th>S002-BISH-00860</th>\n",
       "      <td>162.0</td>\n",
       "      <td>NaN</td>\n",
       "      <td>NaN</td>\n",
       "      <td>0.921191</td>\n",
       "      <td>NaN</td>\n",
       "      <td>NaN</td>\n",
       "      <td>NaN</td>\n",
       "      <td>0.0</td>\n",
       "      <td>NaN</td>\n",
       "      <td>75.0</td>\n",
       "      <td>...</td>\n",
       "      <td>3.0</td>\n",
       "      <td>10</td>\n",
       "      <td>1.0</td>\n",
       "      <td>10</td>\n",
       "      <td>3.0</td>\n",
       "      <td>10</td>\n",
       "      <td>3</td>\n",
       "      <td>3</td>\n",
       "      <td>250.0</td>\n",
       "      <td>27.0</td>\n",
       "    </tr>\n",
       "    <tr>\n",
       "      <th>S002-BISH-00884</th>\n",
       "      <td>162.0</td>\n",
       "      <td>NaN</td>\n",
       "      <td>NaN</td>\n",
       "      <td>0.864980</td>\n",
       "      <td>NaN</td>\n",
       "      <td>NaN</td>\n",
       "      <td>NaN</td>\n",
       "      <td>0.0</td>\n",
       "      <td>NaN</td>\n",
       "      <td>84.0</td>\n",
       "      <td>...</td>\n",
       "      <td>1.0</td>\n",
       "      <td>10</td>\n",
       "      <td>1.0</td>\n",
       "      <td>10</td>\n",
       "      <td>1.0</td>\n",
       "      <td>10</td>\n",
       "      <td>2</td>\n",
       "      <td>3</td>\n",
       "      <td>241.0</td>\n",
       "      <td>44.0</td>\n",
       "    </tr>\n",
       "  </tbody>\n",
       "</table>\n",
       "<p>5 rows × 577 columns</p>\n",
       "</div>"
      ],
      "text/plain": [
       "                 adafppappa.afpga.10  adafppappa.afpga.15  \\\n",
       "patid                                                       \n",
       "S002-BISH-00698                155.0                  NaN   \n",
       "S002-BISH-00751                  NaN                  NaN   \n",
       "S002-BISH-00809                  NaN                  NaN   \n",
       "S002-BISH-00860                162.0                  NaN   \n",
       "S002-BISH-00884                162.0                  NaN   \n",
       "\n",
       "                 adafppappa.afpga.pre10  adafppappa.afpmom.10  \\\n",
       "patid                                                           \n",
       "S002-BISH-00698                     NaN              0.963352   \n",
       "S002-BISH-00751                     NaN                   NaN   \n",
       "S002-BISH-00809                     NaN                   NaN   \n",
       "S002-BISH-00860                     NaN              0.921191   \n",
       "S002-BISH-00884                     NaN              0.864980   \n",
       "\n",
       "                 adafppappa.afpmom.15  adafppappa.afpmom.pre10  \\\n",
       "patid                                                            \n",
       "S002-BISH-00698                   NaN                      NaN   \n",
       "S002-BISH-00751                   NaN                      NaN   \n",
       "S002-BISH-00809                   NaN                      NaN   \n",
       "S002-BISH-00860                   NaN                      NaN   \n",
       "S002-BISH-00884                   NaN                      NaN   \n",
       "\n",
       "                 adafppappa.pappaga.10  adcdrisc.cdrisc_nmiss.15  \\\n",
       "patid                                                              \n",
       "S002-BISH-00698                   82.0                       0.0   \n",
       "S002-BISH-00751                    NaN                       0.0   \n",
       "S002-BISH-00809                    NaN                       0.0   \n",
       "S002-BISH-00860                    NaN                       0.0   \n",
       "S002-BISH-00884                    NaN                       0.0   \n",
       "\n",
       "                 adcdrisc.cdrisc_nmiss.20  adcdrisc.cdrisc_raw.15  ...  \\\n",
       "patid                                                              ...   \n",
       "S002-BISH-00698                       NaN                    33.0  ...   \n",
       "S002-BISH-00751                       NaN                    88.0  ...   \n",
       "S002-BISH-00809                       NaN                    85.0  ...   \n",
       "S002-BISH-00860                       NaN                    75.0  ...   \n",
       "S002-BISH-00884                       NaN                    84.0  ...   \n",
       "\n",
       "                 adstai.r5_23.101520 adstai.r5_23.cycle.101520  \\\n",
       "patid                                                            \n",
       "S002-BISH-00698                  4.0                        10   \n",
       "S002-BISH-00751                  1.0                        10   \n",
       "S002-BISH-00809                  1.0                        15   \n",
       "S002-BISH-00860                  3.0                        10   \n",
       "S002-BISH-00884                  1.0                        10   \n",
       "\n",
       "                adstai.r5_1.101520 adstai.r5_1.cycle.101520  \\\n",
       "patid                                                         \n",
       "S002-BISH-00698                4.0                       10   \n",
       "S002-BISH-00751                1.0                       10   \n",
       "S002-BISH-00809                1.0                       15   \n",
       "S002-BISH-00860                1.0                       10   \n",
       "S002-BISH-00884                1.0                       10   \n",
       "\n",
       "                adstai.r5_16.101520 adstai.r5_16.cycle.101520  \\\n",
       "patid                                                           \n",
       "S002-BISH-00698                 1.0                        10   \n",
       "S002-BISH-00751                 4.0                        10   \n",
       "S002-BISH-00809                 1.0                        15   \n",
       "S002-BISH-00860                 3.0                        10   \n",
       "S002-BISH-00884                 1.0                        10   \n",
       "\n",
       "                adstai.t_anxiety.levels.101520 adstai.s_anxiety.levels.101520  \\\n",
       "patid                                                                           \n",
       "S002-BISH-00698                              3                              3   \n",
       "S002-BISH-00751                              2                              2   \n",
       "S002-BISH-00809                              3                              2   \n",
       "S002-BISH-00860                              3                              3   \n",
       "S002-BISH-00884                              2                              3   \n",
       "\n",
       "                 ga_f3 time_left  \n",
       "patid                             \n",
       "S002-BISH-00698  253.0      25.0  \n",
       "S002-BISH-00751  241.0      32.0  \n",
       "S002-BISH-00809  246.0      20.0  \n",
       "S002-BISH-00860  250.0      27.0  \n",
       "S002-BISH-00884  241.0      44.0  \n",
       "\n",
       "[5 rows x 577 columns]"
      ]
     },
     "execution_count": 3,
     "metadata": {},
     "output_type": "execute_result"
    }
   ],
   "source": [
    "dd = pickle.load( open( \"../data/processed/mbh002_f3_toi_mon_baseline_a.p\", \"rb\" ))\n",
    "print(dd.shape)\n",
    "dd.head()"
   ]
  },
  {
   "cell_type": "code",
   "execution_count": 4,
   "metadata": {},
   "outputs": [],
   "source": [
    "cdata = pd.read_csv('../../mbh001_cu/data/processed/full_data_qc/mbh001_Data-Wide-QC-full-data_20190614_V1.csv', \n",
    "                    dtype={754: str, 757: str, 765: str, 855: str, 1225: str, 1226: str, 1229: str, 1475: str, 1485: str})"
   ]
  },
  {
   "cell_type": "code",
   "execution_count": 5,
   "metadata": {},
   "outputs": [
    {
     "data": {
      "text/plain": [
       "['ADSCMAT.CesareanNoLabor2.ANY', 'ADSC.Cesarean2.25', 'ADMH.CesareanPrior2.5']"
      ]
     },
     "execution_count": 5,
     "metadata": {},
     "output_type": "execute_result"
    }
   ],
   "source": [
    "[item for item in cdata.columns if 'cesarean' in item.lower()]"
   ]
  },
  {
   "cell_type": "code",
   "execution_count": 249,
   "metadata": {},
   "outputs": [],
   "source": [
    "patient_set = cdata[cdata['ADSCMAT.CesareanNoLabor2.ANY']==0]['patid'].values"
   ]
  },
  {
   "cell_type": "code",
   "execution_count": 250,
   "metadata": {},
   "outputs": [],
   "source": [
    "baseline_patient_set = set(patient_set).intersection(dd.index)"
   ]
  },
  {
   "cell_type": "code",
   "execution_count": 251,
   "metadata": {},
   "outputs": [],
   "source": [
    "d = dd.loc[baseline_patient_set,:]"
   ]
  },
  {
   "cell_type": "code",
   "execution_count": 253,
   "metadata": {},
   "outputs": [
    {
     "name": "stdout",
     "output_type": "stream",
     "text": [
      "Shape of Full Shortlist: (1548, 577)\n",
      "Shape of Shortlist w/o cWoL patients: (1449, 577)\n"
     ]
    }
   ],
   "source": [
    "print('Shape of Full Shortlist:',dd.shape)\n",
    "print('Shape of Shortlist w/o cWoL patients:',d.shape)"
   ]
  },
  {
   "cell_type": "markdown",
   "metadata": {},
   "source": [
    "### Remove sparse features\n",
    "Keep features missing in less than 20% of the cases"
   ]
  },
  {
   "cell_type": "code",
   "execution_count": 230,
   "metadata": {},
   "outputs": [],
   "source": [
    "na_th=0.8\n",
    "#(d.isnull().sum()/len(d)).sort_values()"
   ]
  },
  {
   "cell_type": "code",
   "execution_count": 254,
   "metadata": {},
   "outputs": [
    {
     "name": "stdout",
     "output_type": "stream",
     "text": [
      "(1548, 275)\n"
     ]
    },
    {
     "data": {
      "text/plain": [
       "object     169\n",
       "float64    106\n",
       "dtype: int64"
      ]
     },
     "execution_count": 254,
     "metadata": {},
     "output_type": "execute_result"
    }
   ],
   "source": [
    "full_shortlist = True\n",
    "\n",
    "if full_shortlist:\n",
    "    df = dd.dropna(axis=1,thresh=len(d)*na_th)#.select_dtypes('float64')\n",
    "else:\n",
    "    df = d.dropna(axis=1,thresh=len(d)*na_th)#.select_dtypes('float64')\n",
    "\n",
    "\n",
    "print(df.shape)\n",
    "#df=df.astype('float64')\n",
    "df.dtypes.value_counts()"
   ]
  },
  {
   "cell_type": "code",
   "execution_count": 255,
   "metadata": {},
   "outputs": [
    {
     "data": {
      "text/plain": [
       "array([[<matplotlib.axes._subplots.AxesSubplot object at 0x1a34cbcb70>]],\n",
       "      dtype=object)"
      ]
     },
     "execution_count": 255,
     "metadata": {},
     "output_type": "execute_result"
    },
    {
     "data": {
      "image/png": "[encoded data removed]",
      "text/plain": [
       "<Figure size 432x288 with 1 Axes>"
      ]
     },
     "metadata": {
      "needs_background": "light"
     },
     "output_type": "display_data"
    }
   ],
   "source": [
    "df.filter(like='time_left').hist()"
   ]
  },
  {
   "cell_type": "code",
   "execution_count": 256,
   "metadata": {},
   "outputs": [],
   "source": [
    "# (df['time_left']<14).value_counts().plot.bar()"
   ]
  },
  {
   "cell_type": "code",
   "execution_count": 257,
   "metadata": {},
   "outputs": [
    {
     "data": {
      "text/plain": [
       "Text(0.5, 1.0, 'time left as a function of ga at f3')"
      ]
     },
     "execution_count": 257,
     "metadata": {},
     "output_type": "execute_result"
    },
    {
     "data": {
      "image/png": "[encoded data removed]",
      "text/plain": [
       "<Figure size 432x288 with 1 Axes>"
      ]
     },
     "metadata": {
      "needs_background": "light"
     },
     "output_type": "display_data"
    }
   ],
   "source": [
    "plt.scatter(x=df['ga_f3'],y=df['time_left'])\n",
    "plt.xlabel('ga_f3')\n",
    "plt.ylabel('time_left')\n",
    "plt.title('time left as a function of ga at f3')"
   ]
  },
  {
   "cell_type": "markdown",
   "metadata": {},
   "source": [
    "### Preparing X and y"
   ]
  },
  {
   "cell_type": "code",
   "execution_count": 258,
   "metadata": {},
   "outputs": [],
   "source": [
    "X = df.drop(['time_left','ga.birth'],axis=1)\n",
    "y = df['time_left']"
   ]
  },
  {
   "cell_type": "code",
   "execution_count": 259,
   "metadata": {},
   "outputs": [],
   "source": [
    "num_feat=X.select_dtypes('float64').columns\n",
    "cat_feat=X.select_dtypes('object').columns\n",
    "sensor_features=X.filter(regex='^toi|^mon').columns\n",
    "#X[cat_feat]=X[cat_feat].astype('str'`)\n",
    "#X[cat_feat].filter(like='gender')"
   ]
  },
  {
   "cell_type": "code",
   "execution_count": 260,
   "metadata": {},
   "outputs": [
    {
     "data": {
      "text/plain": [
       "float64    104\n",
       "dtype: int64"
      ]
     },
     "execution_count": 260,
     "metadata": {},
     "output_type": "execute_result"
    }
   ],
   "source": [
    "X[cat_feat].dtypes.value_counts()\n",
    "X[num_feat].dtypes.value_counts()"
   ]
  },
  {
   "cell_type": "code",
   "execution_count": 261,
   "metadata": {},
   "outputs": [
    {
     "name": "stdout",
     "output_type": "stream",
     "text": [
      "n_X: 273\n",
      "n_num_feat: 104\n",
      "n_cat_feat: 169\n",
      "n_sensor_features: 44\n",
      "nn + nc + ns: 317\n"
     ]
    }
   ],
   "source": [
    "# Overlap between feature types\n",
    "n_X = len(X.columns)\n",
    "n_num_feat = len(num_feat)\n",
    "n_cat_feat = len(cat_feat)\n",
    "n_sensor_features = len(sensor_features)\n",
    "print('n_X:', n_X)\n",
    "print('n_num_feat:', n_num_feat)\n",
    "print('n_cat_feat:', n_cat_feat)\n",
    "print('n_sensor_features:', n_sensor_features)\n",
    "print('nn + nc + ns:', n_num_feat + n_cat_feat + n_sensor_features)"
   ]
  },
  {
   "cell_type": "markdown",
   "metadata": {},
   "source": [
    "## Feature engineering - Numeric\n",
    "\n"
   ]
  },
  {
   "cell_type": "markdown",
   "metadata": {},
   "source": [
    "### Creating missing values indicators"
   ]
  },
  {
   "cell_type": "code",
   "execution_count": 262,
   "metadata": {},
   "outputs": [],
   "source": [
    "for feat in num_feat:\n",
    "    missing_indicator_feat_name=feat+'_nan'\n",
    "    X[missing_indicator_feat_name] = X[feat].isnull().astype(int)"
   ]
  },
  {
   "cell_type": "markdown",
   "metadata": {},
   "source": [
    "### Imputing medians"
   ]
  },
  {
   "cell_type": "code",
   "execution_count": 263,
   "metadata": {},
   "outputs": [],
   "source": [
    "X[num_feat] = X[num_feat].fillna(X[num_feat].median())"
   ]
  },
  {
   "cell_type": "code",
   "execution_count": 264,
   "metadata": {},
   "outputs": [],
   "source": [
    "create_transformed_feats = False   # Unnecessary for Random Forests\n",
    "if create_transformed_feats:\n",
    "    for feat in num_feat:\n",
    "        square_feat_name=feat+'_square'\n",
    "        cube_feat_name=feat+'_cube'\n",
    "        log_feat_name=feat+'_log'\n",
    "        sqrt_feat_name=feat+'_sqrt'\n",
    "        X[square_feat_name]=np.power(X[feat],2)\n",
    "        X[cube_feat_name]=np.power(X[feat],3)\n",
    "        X[sqrt_feat_name]=np.power(X[feat]-X[feat].min(),0.5)\n",
    "        X[log_feat_name]=np.log(X[feat]-X[feat].min()+1) "
   ]
  },
  {
   "cell_type": "code",
   "execution_count": 265,
   "metadata": {},
   "outputs": [
    {
     "data": {
      "text/plain": [
       "377"
      ]
     },
     "execution_count": 265,
     "metadata": {},
     "output_type": "execute_result"
    }
   ],
   "source": [
    "len(X.columns)"
   ]
  },
  {
   "cell_type": "markdown",
   "metadata": {},
   "source": [
    "## Feature engineering - Categorical\n",
    "Create dummies removing dirst category"
   ]
  },
  {
   "cell_type": "code",
   "execution_count": 266,
   "metadata": {},
   "outputs": [],
   "source": [
    "X[cat_feat] = X[cat_feat].astype('float64')"
   ]
  },
  {
   "cell_type": "code",
   "execution_count": 267,
   "metadata": {},
   "outputs": [],
   "source": [
    "cat_feat_dummies = pd.get_dummies(X[cat_feat], dummy_na=True, drop_first=True)\n",
    "X = pd.concat([X, cat_feat_dummies], axis=1).drop(cat_feat, axis=1)\n",
    "\n",
    "\n",
    "##########\n",
    "XX = pd.concat([X, cat_feat_dummies], axis=1).drop(cat_feat, axis=1)\n"
   ]
  },
  {
   "cell_type": "markdown",
   "metadata": {},
   "source": [
    "### NOTE (2019-Nov-07)\n",
    "Udi/Carlos end up accidentally dropping MOST of the categorical vars.  See below."
   ]
  },
  {
   "cell_type": "code",
   "execution_count": 81,
   "metadata": {},
   "outputs": [
    {
     "data": {
      "text/plain": [
       "377"
      ]
     },
     "execution_count": 81,
     "metadata": {},
     "output_type": "execute_result"
    }
   ],
   "source": [
    "len(X.columns)"
   ]
  },
  {
   "cell_type": "code",
   "execution_count": 60,
   "metadata": {},
   "outputs": [
    {
     "data": {
      "text/plain": [
       "169"
      ]
     },
     "execution_count": 60,
     "metadata": {},
     "output_type": "execute_result"
    }
   ],
   "source": [
    "len(cat_feat_dummies.columns)"
   ]
  },
  {
   "cell_type": "code",
   "execution_count": 83,
   "metadata": {},
   "outputs": [
    {
     "data": {
      "text/plain": [
       "Index(['adcompl.prenatal2.any', 'addrg_patid.anydrugs2.preg',\n",
       "       'addrg_patid.anyhair2.preg', 'addrg_patid.anymeth2.preg',\n",
       "       'addrg_patid.anymj2.preg', 'addrg_patid.anymjmeth2.preg',\n",
       "       'addrg_patid.anyother2.preg', 'addrg_patid.hair12wk2.preg',\n",
       "       'addrg_patid.hair19wk2.preg', 'addrg_patid.hair1yrprior2.preg',\n",
       "       ...\n",
       "       'adstai.r5_39.cycle.101520', 'adstai.r5_20.cycle.101520',\n",
       "       'adstai.r5_2.cycle.101520', 'adstai.t_anxiety_agepct.cycle.101520',\n",
       "       'adstai.r5_34.cycle.101520', 'adstai.r5_23.cycle.101520',\n",
       "       'adstai.r5_1.cycle.101520', 'adstai.r5_16.cycle.101520',\n",
       "       'adstai.t_anxiety.levels.101520', 'adstai.s_anxiety.levels.101520'],\n",
       "      dtype='object', length=546)"
      ]
     },
     "execution_count": 83,
     "metadata": {},
     "output_type": "execute_result"
    }
   ],
   "source": [
    "pd.concat([X, cat_feat_dummies], axis=1).columns"
   ]
  },
  {
   "cell_type": "code",
   "execution_count": 84,
   "metadata": {},
   "outputs": [
    {
     "data": {
      "text/plain": [
       "Index(['addrg_patid.tothairlmp.preg', 'addrg_patid.tothairt1.preg',\n",
       "       'addrg_patid.tothairt2.preg', 'addrg_patid.totmethlmp.preg',\n",
       "       'addrg_patid.totmetht1.preg', 'addrg_patid.totmetht2.preg',\n",
       "       'addrg_patid.totmjlmp.preg', 'addrg_patid.totmjt1.preg',\n",
       "       'addrg_patid.totmjt2.preg', 'addrg_patid.tototherlmp.preg',\n",
       "       ...\n",
       "       'adstai.s_anxiety.101520_nan', 'adstai.r5_39.101520_nan',\n",
       "       'adstai.r5_20.101520_nan', 'adstai.r5_2.101520_nan',\n",
       "       'adstai.t_anxiety_agepct.101520_nan', 'adstai.r5_34.101520_nan',\n",
       "       'adstai.r5_23.101520_nan', 'adstai.r5_1.101520_nan',\n",
       "       'adstai.r5_16.101520_nan', 'ga_f3_nan'],\n",
       "      dtype='object', length=208)"
      ]
     },
     "execution_count": 84,
     "metadata": {},
     "output_type": "execute_result"
    }
   ],
   "source": [
    "pd.concat([X, cat_feat_dummies], axis=1).drop(cat_feat, axis=1).columns"
   ]
  },
  {
   "cell_type": "code",
   "execution_count": 85,
   "metadata": {},
   "outputs": [
    {
     "data": {
      "text/plain": [
       "Index(['adcompl.prenatal2.any', 'addrg_patid.anydrugs2.preg',\n",
       "       'addrg_patid.anyhair2.preg', 'addrg_patid.anymeth2.preg',\n",
       "       'addrg_patid.anymj2.preg', 'addrg_patid.anymjmeth2.preg',\n",
       "       'addrg_patid.anyother2.preg', 'addrg_patid.hair12wk2.preg',\n",
       "       'addrg_patid.hair19wk2.preg', 'addrg_patid.hair1yrprior2.preg',\n",
       "       ...\n",
       "       'adstai.r5_39.cycle.101520', 'adstai.r5_20.cycle.101520',\n",
       "       'adstai.r5_2.cycle.101520', 'adstai.t_anxiety_agepct.cycle.101520',\n",
       "       'adstai.r5_34.cycle.101520', 'adstai.r5_23.cycle.101520',\n",
       "       'adstai.r5_1.cycle.101520', 'adstai.r5_16.cycle.101520',\n",
       "       'adstai.t_anxiety.levels.101520', 'adstai.s_anxiety.levels.101520'],\n",
       "      dtype='object', length=169)"
      ]
     },
     "execution_count": 85,
     "metadata": {},
     "output_type": "execute_result"
    }
   ],
   "source": [
    "cat_feat"
   ]
  },
  {
   "cell_type": "code",
   "execution_count": 87,
   "metadata": {},
   "outputs": [
    {
     "data": {
      "text/plain": [
       "Index(['adcompl.prenatal2.any', 'addrg_patid.anydrugs2.preg',\n",
       "       'addrg_patid.anyhair2.preg', 'addrg_patid.anymeth2.preg',\n",
       "       'addrg_patid.anymj2.preg', 'addrg_patid.anymjmeth2.preg',\n",
       "       'addrg_patid.anyother2.preg', 'addrg_patid.hair12wk2.preg',\n",
       "       'addrg_patid.hair19wk2.preg', 'addrg_patid.hair1yrprior2.preg',\n",
       "       ...\n",
       "       'adstai.r5_39.cycle.101520', 'adstai.r5_20.cycle.101520',\n",
       "       'adstai.r5_2.cycle.101520', 'adstai.t_anxiety_agepct.cycle.101520',\n",
       "       'adstai.r5_34.cycle.101520', 'adstai.r5_23.cycle.101520',\n",
       "       'adstai.r5_1.cycle.101520', 'adstai.r5_16.cycle.101520',\n",
       "       'adstai.t_anxiety.levels.101520', 'adstai.s_anxiety.levels.101520'],\n",
       "      dtype='object', length=169)"
      ]
     },
     "execution_count": 87,
     "metadata": {},
     "output_type": "execute_result"
    }
   ],
   "source": [
    "cat_feat_dummies.columns"
   ]
  },
  {
   "cell_type": "code",
   "execution_count": null,
   "metadata": {},
   "outputs": [],
   "source": []
  },
  {
   "cell_type": "code",
   "execution_count": 88,
   "metadata": {},
   "outputs": [],
   "source": [
    "#X = df.drop(['time_left','ga.birth'],axis=1)\n",
    "#y = df['time_left']"
   ]
  },
  {
   "cell_type": "code",
   "execution_count": 126,
   "metadata": {
    "scrolled": false
   },
   "outputs": [],
   "source": [
    "#[X[feat].unique().tolist() for feat in cat_feat]"
   ]
  },
  {
   "cell_type": "code",
   "execution_count": 111,
   "metadata": {},
   "outputs": [],
   "source": []
  },
  {
   "cell_type": "code",
   "execution_count": 116,
   "metadata": {},
   "outputs": [
    {
     "data": {
      "text/plain": [
       "array([0, 1])"
      ]
     },
     "execution_count": 116,
     "metadata": {},
     "output_type": "execute_result"
    }
   ],
   "source": []
  },
  {
   "cell_type": "markdown",
   "metadata": {},
   "source": [
    "### train model function"
   ]
  },
  {
   "cell_type": "code",
   "execution_count": 151,
   "metadata": {},
   "outputs": [],
   "source": [
    "from sklearn.model_selection import RandomizedSearchCV\n",
    "from sklearn.linear_model import Lasso\n",
    "from sklearn.model_selection import train_test_split\n",
    "#from xgboost import XGBRegressor\n",
    "from sklearn.metrics import mean_absolute_error, median_absolute_error, r2_score\n",
    "from sklearn.ensemble import RandomForestRegressor\n",
    "from sklearn.ensemble import GradientBoostingRegressor\n",
    "from sklearn.linear_model import ElasticNet"
   ]
  },
  {
   "cell_type": "code",
   "execution_count": 23,
   "metadata": {},
   "outputs": [],
   "source": [
    "def train_model_cv(\n",
    "    X_train,\n",
    "    y_train,\n",
    "    model='lasso',\n",
    "    n_iter=50,\n",
    "    kfolds=3,\n",
    "    random_state=42,\n",
    "):\n",
    "    ''' Function to fit a model and tune hyper parameters using five fold cross validation\n",
    "       \n",
    "    Parameters\n",
    "    ----------\n",
    "    X_train : training features\n",
    "    Y_train: training target\n",
    "    model: model name\n",
    "    '''\n",
    "    \n",
    "    regs={'lasso': Lasso(selection='random',random_state=random_state),\n",
    "          'rf':RandomForestRegressor(random_state=42),\n",
    "          #'xgbtree':XGBRegressor(silent=True,early_stopping_rounds=10,eval_metric=\"mae\",eval_set=[(X_train,y_train)],random_state=42),\n",
    "          #'xgbdart':XGBRegressor(silent=True,early_stopping_rounds=10,eval_set=[(X_train,y_train)],booster='dart',random_state=42),\n",
    "          #'xgblinear':XGBRegressor(silent=True,early_stopping_rounds=10,eval_set=[(X_train,y_train)],booster='gblinear',random_state=42),\n",
    "          'gbmreg':GradientBoostingRegressor(loss='quantile',random_state=42),\n",
    "         'enet':ElasticNet(selection='random',random_state=42)}\n",
    "    grids = {'lasso':\n",
    "                {'alpha':[0.1,0.2,0.3,0.4,0.5,0.6,0.6,0.8,0.9,1,2,5],\n",
    "                 'normalize':[True,False],\n",
    "                 'positive':[True,False]\n",
    "                },\n",
    "             'enet':\n",
    "                {'alpha':[0.1,0.2,0.3,0.4,0.5,1,2,5],\n",
    "                 'l1_ratio':[0,0.5,1],\n",
    "                 'normalize':[False],\n",
    "                 'positive':[True,False]\n",
    "                },\n",
    "             'rf':\n",
    "                {'n_estimators': [10,100,500,1000],\n",
    "                 'max_features': ['auto','sqrt'],\n",
    "                 'max_depth': [3,5,8],\n",
    "                 'min_samples_split':[2, 5, 10],\n",
    "                 'min_samples_leaf':[1, 2, 4]\n",
    "                },\n",
    "             'xgbtree':\n",
    "                 {'learning_rate': expon(scale=.1),\n",
    "                  'max_depth': [2,3,5],\n",
    "                  'n_estimators': [10,100,200,500],\n",
    "                  'subsample':[0.5,0.8,1],\n",
    "                  'alpha':[1,5,10,20,50],\n",
    "                  'gamma':[20,50,100,200],\n",
    "                  'lambda': [0.1,0.2,0.3,0.4,0.5,1,2,5],\n",
    "                  'rate_drop':[0,0.2,0.4,0.6,0.8,1]},\n",
    "             'xgbdart':\n",
    "                 {'learning_rate': expon(scale=.1),\n",
    "                  'max_depth': [2,3,5],\n",
    "                  'n_estimators': [10,100,200,500],\n",
    "                  'subsample':[0.5,0.8,1],\n",
    "                  'rate_drop':[0,0.2,0.4,0.6,0.8,1]},\n",
    "             'xgblinear':\n",
    "                 {'alpha':[0.1,1,5,10],\n",
    "                  'lambda': [0.1,0.2,0.3,0.4,0.5,1,2,5],\n",
    "                  'n_estimators': [10,100,200,500],\n",
    "                  'subsample':[0.5,0.8,1],\n",
    "                  'rate_drop':[0,0.2,0.4,0.6,0.8,1]},\n",
    "             'gbmreg':{'n_estimators': [10,100,250],\n",
    "                 'max_depth': [3,5,8],\n",
    "                 'min_samples_split':[2, 5, 10,20],\n",
    "                 'min_samples_leaf':[2, 5, 10,20]\n",
    "                }\n",
    "            }\n",
    "    \n",
    "    reg=RandomizedSearchCV(regs[model],\n",
    "                           grids[model],\n",
    "                           n_jobs=-1,\n",
    "                           cv=kfolds,\n",
    "                           n_iter=n_iter,\n",
    "                           return_train_score=True,\n",
    "                           scoring=['r2','neg_mean_absolute_error','neg_median_absolute_error'],\n",
    "                          refit='neg_mean_absolute_error')\n",
    "    reg.fit(X_train,y_train)\n",
    "    return(reg)"
   ]
  },
  {
   "cell_type": "markdown",
   "metadata": {},
   "source": [
    "### Null model\n",
    "**NOTE**: Here, you will see I change Udi's `random_state` from 42 to 37.  This is around when \n",
    "I started realizing how sensitive model performance was to random seed selection..."
   ]
  },
  {
   "cell_type": "code",
   "execution_count": 24,
   "metadata": {},
   "outputs": [],
   "source": [
    "#random_state=42\n",
    "random_state = 37\n",
    "X_train, X_dev, y_train, y_dev = train_test_split(X['ga_f3'], y, test_size=0.3, random_state=random_state)\n",
    "X_dev, X_test, y_dev, y_test = train_test_split(X_dev, y_dev, test_size=0.5, random_state=random_state)\n",
    "\n",
    "pred = np.full(len(y_dev),np.mean(y_dev))"
   ]
  },
  {
   "cell_type": "code",
   "execution_count": 185,
   "metadata": {},
   "outputs": [
    {
     "data": {
      "image/png": "[encoded data removed]",
      "text/plain": [
       "<Figure size 432x288 with 1 Axes>"
      ]
     },
     "metadata": {
      "needs_background": "light"
     },
     "output_type": "display_data"
    },
    {
     "name": "stdout",
     "output_type": "stream",
     "text": [
      "MAE dev: 9.462464694514644\n",
      "R2 dev: 0.0\n"
     ]
    }
   ],
   "source": [
    "plt.scatter(y_dev,pred)\n",
    "plt.xlim((-5,70))\n",
    "plt.ylim((-5,70))\n",
    "plt.plot( [-5,70],[-5,70],color='orange')\n",
    "plt.xlabel('time_left')\n",
    "plt.ylabel('predicted')\n",
    "plt.title('null model')\n",
    "plt.show()\n",
    "print('MAE dev: {}'.format(mean_absolute_error(y_dev,pred)))\n",
    "print('R2 dev: {}'.format(r2_score(y_dev,pred)))"
   ]
  },
  {
   "cell_type": "code",
   "execution_count": 186,
   "metadata": {},
   "outputs": [],
   "source": [
    "# plt.scatter(X_dev,y_dev)\n",
    "# plt.xlabel('ga_f3')\n",
    "# plt.ylabel('time_left')\n",
    "# plt.title('Null model')\n",
    "# plt.hlines(pred,xmin=235,xmax=270,colors='orange')\n",
    "# print('MAE: {}'.format(np.mean(np.abs(pred-y_dev))))\n",
    "# print('R2: {}'.format(r2_score(y_dev,pred)))"
   ]
  },
  {
   "cell_type": "markdown",
   "metadata": {},
   "source": [
    "### ga_f3 model\n",
    "univariate regression"
   ]
  },
  {
   "cell_type": "code",
   "execution_count": 187,
   "metadata": {},
   "outputs": [],
   "source": [
    "X_train, X_dev, y_train, y_dev = train_test_split(X['ga_f3'], y, test_size=0.3, random_state=42)\n",
    "X_dev, X_test, y_dev, y_test = train_test_split(X_dev, y_dev, test_size=0.5, random_state=42)\n",
    "\n",
    "reg = Lasso().fit(X_train.values.reshape(-1,1), y_train)\n",
    "\n",
    "#reg.score(X_dev.values.reshape(-1,1), y_dev)\n",
    "\n",
    "pred=reg.predict(X_dev.values.reshape(-1,1))"
   ]
  },
  {
   "cell_type": "code",
   "execution_count": 188,
   "metadata": {},
   "outputs": [
    {
     "data": {
      "image/png": "[encoded data removed]",
      "text/plain": [
       "<Figure size 432x288 with 1 Axes>"
      ]
     },
     "metadata": {
      "needs_background": "light"
     },
     "output_type": "display_data"
    },
    {
     "name": "stdout",
     "output_type": "stream",
     "text": [
      "MAE dev: 8.073769278458565\n",
      "R2 dev: 0.2034010963027869\n"
     ]
    }
   ],
   "source": [
    "plt.scatter(y_dev,pred)\n",
    "plt.xlim((-5,70))\n",
    "plt.ylim((-5,70))\n",
    "plt.plot( [-5,70],[-5,70],color='orange')\n",
    "plt.xlabel('time_left')\n",
    "plt.ylabel('predicted')\n",
    "plt.title('predicting using ga_f3 only')\n",
    "plt.show()\n",
    "print('MAE dev: {}'.format(mean_absolute_error(y_dev,pred)))\n",
    "print('R2 dev: {}'.format(r2_score(y_dev,pred)))"
   ]
  },
  {
   "cell_type": "markdown",
   "metadata": {},
   "source": [
    "### GA_F3+demo+clinical "
   ]
  },
  {
   "cell_type": "code",
   "execution_count": 25,
   "metadata": {},
   "outputs": [],
   "source": [
    "#random_state=42\n",
    "random_state=37\n",
    "\n",
    "modName = 'rf'\n",
    "X_train, X_dev, y_train, y_dev = train_test_split(X.drop(sensor_features, axis=1), y, test_size=0.3, random_state=random_state)\n",
    "X_dev, X_test, y_dev, y_test = train_test_split(X_dev, y_dev, test_size=0.5, random_state=random_state)\n",
    "\n",
    "model = train_model_cv(X_train, y_train, model=modName, n_iter=150)"
   ]
  },
  {
   "cell_type": "code",
   "execution_count": 26,
   "metadata": {},
   "outputs": [],
   "source": [
    "pred=model.predict(X_dev)"
   ]
  },
  {
   "cell_type": "code",
   "execution_count": 30,
   "metadata": {
    "scrolled": false
   },
   "outputs": [
    {
     "data": {
      "image/png": "[encoded data removed]",
      "text/plain": [
       "<Figure size 432x288 with 1 Axes>"
      ]
     },
     "metadata": {
      "needs_background": "light"
     },
     "output_type": "display_data"
    },
    {
     "name": "stdout",
     "output_type": "stream",
     "text": [
      "MAE train: 5.056323419182304\n",
      "MAE dev: 8.488091291178542\n",
      "R2 train: 0.7125302998571946\n",
      "R2 dev: 0.3014578125614591\n"
     ]
    }
   ],
   "source": [
    "plt.scatter(y_dev,pred)\n",
    "plt.xlim((-5,70))\n",
    "plt.ylim((-5,70))\n",
    "plt.plot( [-5,70],[-5,70],color='orange')\n",
    "plt.xlabel('time_left')\n",
    "plt.ylabel('predicted')\n",
    "plt.title(f'{modName.upper()} - no sensor')\n",
    "plt.show()\n",
    "\n",
    "print('MAE train: {}'.format(mean_absolute_error(y_train,model.predict(X_train))))\n",
    "print('MAE dev: {}'.format(mean_absolute_error(y_dev,model.predict(X_dev))))\n",
    "print('R2 train: {}'.format(r2_score(y_train,model.predict(X_train))))\n",
    "print('R2 dev: {}'.format(r2_score(y_dev,model.predict(X_dev))))"
   ]
  },
  {
   "cell_type": "code",
   "execution_count": 148,
   "metadata": {
    "scrolled": true
   },
   "outputs": [
    {
     "data": {
      "text/html": [
       "<div>\n",
       "<style scoped>\n",
       "    .dataframe tbody tr th:only-of-type {\n",
       "        vertical-align: middle;\n",
       "    }\n",
       "\n",
       "    .dataframe tbody tr th {\n",
       "        vertical-align: top;\n",
       "    }\n",
       "\n",
       "    .dataframe thead th {\n",
       "        text-align: right;\n",
       "    }\n",
       "</style>\n",
       "<table border=\"1\" class=\"dataframe\">\n",
       "  <thead>\n",
       "    <tr style=\"text-align: right;\">\n",
       "      <th></th>\n",
       "      <th>feature</th>\n",
       "      <th>importance</th>\n",
       "    </tr>\n",
       "  </thead>\n",
       "  <tbody>\n",
       "    <tr>\n",
       "      <th>59</th>\n",
       "      <td>ga_f3</td>\n",
       "      <td>0.876192</td>\n",
       "    </tr>\n",
       "    <tr>\n",
       "      <th>57</th>\n",
       "      <td>adstai.r5_1.101520</td>\n",
       "      <td>0.664172</td>\n",
       "    </tr>\n",
       "    <tr>\n",
       "      <th>16</th>\n",
       "      <td>adscmat.gravidity.any</td>\n",
       "      <td>0.648171</td>\n",
       "    </tr>\n",
       "    <tr>\n",
       "      <th>37</th>\n",
       "      <td>adstai.r5_27.101520</td>\n",
       "      <td>0.626826</td>\n",
       "    </tr>\n",
       "    <tr>\n",
       "      <th>43</th>\n",
       "      <td>adstai.r5_15.101520</td>\n",
       "      <td>0.619012</td>\n",
       "    </tr>\n",
       "    <tr>\n",
       "      <th>39</th>\n",
       "      <td>adstai.r5_8.101520</td>\n",
       "      <td>0.615085</td>\n",
       "    </tr>\n",
       "    <tr>\n",
       "      <th>34</th>\n",
       "      <td>adstai.r5_26.101520</td>\n",
       "      <td>0.512017</td>\n",
       "    </tr>\n",
       "    <tr>\n",
       "      <th>84</th>\n",
       "      <td>advs_long.weighttlfu1.20_nan</td>\n",
       "      <td>0.342096</td>\n",
       "    </tr>\n",
       "    <tr>\n",
       "      <th>8</th>\n",
       "      <td>addrg_patid.totmjt2.preg</td>\n",
       "      <td>0.299077</td>\n",
       "    </tr>\n",
       "    <tr>\n",
       "      <th>33</th>\n",
       "      <td>adstai.r5_21.101520</td>\n",
       "      <td>0.293588</td>\n",
       "    </tr>\n",
       "    <tr>\n",
       "      <th>...</th>\n",
       "      <td>...</td>\n",
       "      <td>...</td>\n",
       "    </tr>\n",
       "    <tr>\n",
       "      <th>76</th>\n",
       "      <td>adscmat.gravidity.any_nan</td>\n",
       "      <td>0.000000</td>\n",
       "    </tr>\n",
       "    <tr>\n",
       "      <th>75</th>\n",
       "      <td>adfetalgrowth.lm_linear_coeff.preg_nan</td>\n",
       "      <td>0.000000</td>\n",
       "    </tr>\n",
       "    <tr>\n",
       "      <th>74</th>\n",
       "      <td>adelig.mat_age.5_nan</td>\n",
       "      <td>0.000000</td>\n",
       "    </tr>\n",
       "    <tr>\n",
       "      <th>73</th>\n",
       "      <td>adelig.enryear.5_nan</td>\n",
       "      <td>0.000000</td>\n",
       "    </tr>\n",
       "    <tr>\n",
       "      <th>72</th>\n",
       "      <td>adelig.ccga.5_nan</td>\n",
       "      <td>0.000000</td>\n",
       "    </tr>\n",
       "    <tr>\n",
       "      <th>71</th>\n",
       "      <td>addrg_patid.totothert2.preg_nan</td>\n",
       "      <td>0.000000</td>\n",
       "    </tr>\n",
       "    <tr>\n",
       "      <th>70</th>\n",
       "      <td>addrg_patid.totothert1.preg_nan</td>\n",
       "      <td>0.000000</td>\n",
       "    </tr>\n",
       "    <tr>\n",
       "      <th>69</th>\n",
       "      <td>addrg_patid.tototherlmp.preg_nan</td>\n",
       "      <td>0.000000</td>\n",
       "    </tr>\n",
       "    <tr>\n",
       "      <th>68</th>\n",
       "      <td>addrg_patid.totmjt2.preg_nan</td>\n",
       "      <td>0.000000</td>\n",
       "    </tr>\n",
       "    <tr>\n",
       "      <th>163</th>\n",
       "      <td>ga_f3_nan</td>\n",
       "      <td>0.000000</td>\n",
       "    </tr>\n",
       "  </tbody>\n",
       "</table>\n",
       "<p>164 rows × 2 columns</p>\n",
       "</div>"
      ],
      "text/plain": [
       "                                    feature  importance\n",
       "59                                    ga_f3    0.876192\n",
       "57                       adstai.r5_1.101520    0.664172\n",
       "16                    adscmat.gravidity.any    0.648171\n",
       "37                      adstai.r5_27.101520    0.626826\n",
       "43                      adstai.r5_15.101520    0.619012\n",
       "39                       adstai.r5_8.101520    0.615085\n",
       "34                      adstai.r5_26.101520    0.512017\n",
       "84             advs_long.weighttlfu1.20_nan    0.342096\n",
       "8                  addrg_patid.totmjt2.preg    0.299077\n",
       "33                      adstai.r5_21.101520    0.293588\n",
       "..                                      ...         ...\n",
       "76                adscmat.gravidity.any_nan    0.000000\n",
       "75   adfetalgrowth.lm_linear_coeff.preg_nan    0.000000\n",
       "74                     adelig.mat_age.5_nan    0.000000\n",
       "73                     adelig.enryear.5_nan    0.000000\n",
       "72                        adelig.ccga.5_nan    0.000000\n",
       "71          addrg_patid.totothert2.preg_nan    0.000000\n",
       "70          addrg_patid.totothert1.preg_nan    0.000000\n",
       "69         addrg_patid.tototherlmp.preg_nan    0.000000\n",
       "68             addrg_patid.totmjt2.preg_nan    0.000000\n",
       "163                               ga_f3_nan    0.000000\n",
       "\n",
       "[164 rows x 2 columns]"
      ]
     },
     "execution_count": 148,
     "metadata": {},
     "output_type": "execute_result"
    }
   ],
   "source": [
    "feat_importance_df=pd.DataFrame({'feature':X_train.columns,'importance':np.abs(model.best_estimator_.coef_)})\n",
    "feat_importance_df.sort_values('importance',ascending=False)"
   ]
  },
  {
   "cell_type": "code",
   "execution_count": null,
   "metadata": {},
   "outputs": [],
   "source": [
    "# plt.scatter(X_dev['ga_f3'],y_dev)\n",
    "# plt.scatter(X_dev['ga_f3'],pred)\n",
    "# plt.xlabel('ga_f3')\n",
    "# plt.ylabel('time_left')\n",
    "# plt.title('GA_F3+demo+clinical ')\n",
    "# print('MAE: {}'.format(np.median(np.abs(pred-y_dev))))\n",
    "# print('R2: {}'.format(r2_score(y_dev,pred)))"
   ]
  },
  {
   "cell_type": "markdown",
   "metadata": {},
   "source": [
    "### GA_F3+demo+clinical+sensor"
   ]
  },
  {
   "cell_type": "code",
   "execution_count": 277,
   "metadata": {},
   "outputs": [],
   "source": [
    "#random_state=42\n",
    "random_state=42\n",
    "\n",
    "modName = 'rf'\n",
    "\n",
    "X_train, X_dev, y_train, y_dev = train_test_split(X, y, test_size=0.3, random_state=random_state)\n",
    "X_dev, X_test, y_dev, y_test = train_test_split(X_dev, y_dev, test_size=0.5, random_state=random_state)\n",
    "\n",
    "model=train_model_cv(X_train,y_train,model=modName)"
   ]
  },
  {
   "cell_type": "code",
   "execution_count": 276,
   "metadata": {},
   "outputs": [
    {
     "data": {
      "image/png": "[encoded data removed]",
      "text/plain": [
       "<Figure size 432x288 with 1 Axes>"
      ]
     },
     "metadata": {
      "needs_background": "light"
     },
     "output_type": "display_data"
    },
    {
     "name": "stdout",
     "output_type": "stream",
     "text": [
      "MAE train: 5.119151017962678\n",
      "MAE dev: 7.996924490075657\n",
      "R2 train: 0.6880789371625559\n",
      "R2 dev: 0.34001172443887406\n"
     ]
    }
   ],
   "source": [
    "plt.scatter(y_dev, model.predict(X_dev))\n",
    "plt.xlim((-5,70))\n",
    "plt.ylim((-5,70))\n",
    "plt.plot( [-5,70],[-5,70], color='orange')\n",
    "plt.xlabel('time_left')\n",
    "plt.ylabel('predicted')\n",
    "plt.title(f'{modName} - with sensor')\n",
    "plt.show()\n",
    "\n",
    "print('MAE train: {}'.format(mean_absolute_error(y_train, model.predict(X_train))))\n",
    "print('MAE dev: {}'.format(mean_absolute_error(y_dev, model.predict(X_dev))))\n",
    "print('R2 train: {}'.format(r2_score(y_train, model.predict(X_train))))\n",
    "print('R2 dev: {}'.format(r2_score(y_dev, model.predict(X_dev))))"
   ]
  },
  {
   "cell_type": "code",
   "execution_count": null,
   "metadata": {},
   "outputs": [],
   "source": [
    "feat_importance_df=pd.DataFrame({'feature':X_train.columns,'importance':np.abs(model.best_estimator_.coef_)})\n",
    "feat_importance_df.sort_values('importance',ascending=False)"
   ]
  },
  {
   "cell_type": "markdown",
   "metadata": {},
   "source": [
    "# Exploring 42\n",
    "Is there a dependence on random seed?  (Weird...)"
   ]
  },
  {
   "cell_type": "code",
   "execution_count": 278,
   "metadata": {},
   "outputs": [],
   "source": [
    "random_state=42\n",
    "X_train, X_dev, y_train, y_dev = train_test_split(X, y, test_size=0.3, random_state=random_state)\n",
    "X_dev, X_test, y_dev, y_test = train_test_split(X_dev, y_dev, test_size=0.5, random_state=random_state)"
   ]
  },
  {
   "cell_type": "code",
   "execution_count": 294,
   "metadata": {},
   "outputs": [],
   "source": [
    "patient_set = cdata[cdata['ADSCMAT.CesareanNoLabor2.ANY']==0]['patid'].values\n",
    "baseline_patient_set = set(patient_set).intersection(dd.index)\n",
    "\n",
    "cwol = cdata[cdata['ADSCMAT.CesareanNoLabor2.ANY']==1]['patid'].values\n",
    "cwol_intersect_shortlist = set(cwol).intersection(dd.index)\n",
    "cwol_diff_shortlist = set(cwol).difference(dd.index)\n",
    "#shortlist_diff_ = set(cwol).difference(dd.index)\n",
    "\n",
    "cwol_intersect_Xtrn = set(cwol).intersection(X_train.index)\n",
    "cwol_intersect_Xdev = set(cwol).intersection(X_dev.index)\n"
   ]
  },
  {
   "cell_type": "code",
   "execution_count": 290,
   "metadata": {},
   "outputs": [
    {
     "data": {
      "text/plain": [
       "281"
      ]
     },
     "execution_count": 290,
     "metadata": {},
     "output_type": "execute_result"
    }
   ],
   "source": [
    "len(cwol)"
   ]
  },
  {
   "cell_type": "code",
   "execution_count": 291,
   "metadata": {},
   "outputs": [
    {
     "data": {
      "text/plain": [
       "50"
      ]
     },
     "execution_count": 291,
     "metadata": {},
     "output_type": "execute_result"
    }
   ],
   "source": [
    "len(cwol_intersect_shortlist)"
   ]
  },
  {
   "cell_type": "code",
   "execution_count": 292,
   "metadata": {},
   "outputs": [
    {
     "data": {
      "text/plain": [
       "218"
      ]
     },
     "execution_count": 292,
     "metadata": {},
     "output_type": "execute_result"
    }
   ],
   "source": [
    "len(cwol_diff_shortlist)"
   ]
  },
  {
   "cell_type": "code",
   "execution_count": 295,
   "metadata": {},
   "outputs": [
    {
     "data": {
      "text/plain": [
       "34"
      ]
     },
     "execution_count": 295,
     "metadata": {},
     "output_type": "execute_result"
    }
   ],
   "source": [
    "len(cwol_intersect_Xtrn)"
   ]
  },
  {
   "cell_type": "code",
   "execution_count": 296,
   "metadata": {},
   "outputs": [
    {
     "data": {
      "text/plain": [
       "10"
      ]
     },
     "execution_count": 296,
     "metadata": {},
     "output_type": "execute_result"
    }
   ],
   "source": [
    "len(cwol_intersect_Xdev)"
   ]
  },
  {
   "cell_type": "code",
   "execution_count": null,
   "metadata": {},
   "outputs": [],
   "source": []
  }
 ],
 "metadata": {
  "kernelspec": {
   "display_name": "Python 3",
   "language": "python",
   "name": "python3"
  },
  "language_info": {
   "codemirror_mode": {
    "name": "ipython",
    "version": 3
   },
   "file_extension": ".py",
   "mimetype": "text/x-python",
   "name": "python",
   "nbconvert_exporter": "python",
   "pygments_lexer": "ipython3",
   "version": "3.7.6"
  }
 },
 "nbformat": 4,
 "nbformat_minor": 2
}
