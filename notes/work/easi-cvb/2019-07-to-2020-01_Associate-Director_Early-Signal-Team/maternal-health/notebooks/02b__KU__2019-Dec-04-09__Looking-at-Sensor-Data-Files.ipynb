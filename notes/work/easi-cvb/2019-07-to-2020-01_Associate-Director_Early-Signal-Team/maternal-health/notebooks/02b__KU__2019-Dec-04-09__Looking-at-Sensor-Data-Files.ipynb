{
 "cells": [
  {
   "cell_type": "code",
   "execution_count": 227,
   "metadata": {},
   "outputs": [
    {
     "data": {
      "text/html": [
       "\n",
       "    <style>\n",
       "        #title {\n",
       "          text-align: center;\n",
       "          font-weight:bold\n",
       "        }\n",
       "        #cell {\n",
       "            text-align:left\n",
       "        }\n",
       "        #redcell {\n",
       "            text-align:left;\n",
       "            color:red;\n",
       "        }\n",
       "        .update {\n",
       "            background-color:sandybrown;\n",
       "        }\n",
       "        .mon {\n",
       "            background-color:skyblue;\n",
       "        }\n",
       "        .toi {\n",
       "            background-color:#ffd27f;\n",
       "        }\n",
       "    </style>\n",
       "    "
      ],
      "text/plain": [
       "<IPython.core.display.HTML object>"
      ]
     },
     "execution_count": 227,
     "metadata": {},
     "output_type": "execute_result"
    }
   ],
   "source": [
    "# This cell is simply for aesthetics\n",
    "from IPython.core.display import HTML\n",
    "def activate_html():\n",
    "    html = HTML(\"\"\"\n",
    "    <style>\n",
    "        #title {\n",
    "          text-align: center;\n",
    "          font-weight:bold\n",
    "        }\n",
    "        #cell {\n",
    "            text-align:left\n",
    "        }\n",
    "        #redcell {\n",
    "            text-align:left;\n",
    "            color:red;\n",
    "        }\n",
    "        .update {\n",
    "            background-color:sandybrown;\n",
    "        }\n",
    "        .mon {\n",
    "            background-color:skyblue;\n",
    "        }\n",
    "        .toi {\n",
    "            background-color:#ffd27f;\n",
    "        }\n",
    "    </style>\n",
    "    \"\"\")\n",
    "    return html\n",
    "    \n",
    "\n",
    "activate_html()"
   ]
  },
  {
   "cell_type": "markdown",
   "metadata": {},
   "source": [
    "# Recap\n",
    "Several days ago, I went through Dani's raw data files and her corresponding\n",
    "Excel file, which greenlighted which variables to keep from each table.  I discovered\n",
    "a few small slip ups in several tables, e.g., \n",
    "* a single value of `#NULL!` left in a table\n",
    "* missing values accidentally replaced with `\"-99999900.0%\"` instead of `-999999` in another table\n",
    "* a single somehow-overlooked missing value in 1-2 tables\n",
    "\n",
    "We had a meeting on Dec 4, and found several more inconsistencies and misunderstandings that\n",
    "we smoothed out together.  \n",
    "\n",
    "In this notebook, I need to do 2 major things:\n",
    "* add proper sections on the <b id=redcell>BISH, MON, and TOI</b> data sets\n",
    "* update the demographic/clinical ingestion code from JNB `02a__KU`\n",
    "\n",
    "\n",
    "\n",
    "# BISH & Sensors\n",
    "## Sensors (MON & TOI)\n",
    "We know that Udi was using the latest <b id=redcell>TOI</b> data file, `Fetal_Toitu_Physio_Features_Early_Signal_093019.csv`.  \n",
    "This file can be found in\n",
    "* **SharePoint**: EaSi - Documents/MBH_Maternal-Health/mbh001/Data/Udi/raw/\n",
    "* **EaSi AWS**:  S3://easi-dataset/mbh001_cu_v2/data/raw/\n",
    "\n",
    "However, in Udi's iteration (v2) of the project, he was not using new <b id=\"redcell\">MON</b> \n",
    "data.  Instead, he was recovered <b id=\"redcell\">MON</b> data from the \"wide table\" outputted\n",
    "during the 4th step of Carlos' pipeline, `mbh001_Data-Wide-QC-full-data_20190614_V1.csv` (see \n",
    "JNB `01__KU` for more info).  We could technically do this as well, however we aren't sure \n",
    "how much of the data was being thrown out or going unused for various reasons...so, ideally, we\n",
    "should just start from the raw <b id=redcell>MON</b> files that Carlos used.  \n",
    "\n",
    "Carlos' sensor data can be found in:\n",
    "* **SharePoint**: EaSi - Documents/MBH_Maternal-Health/mbh001/Data/Carlos/raw/sensors/\n",
    "* **EaSi AWS**:  S3://easi-dataset/mbh001/cu-bish/data/raw/sensors/\n",
    "\n",
    "There are several directories and files, but the ones used in Carlos' pipeline as specified \n",
    "by his Git repo's README are listed in the following table:\n",
    "\n",
    "<table>\n",
    "    <tr><td id=\"title\">File in Carlos' Repo</td><td id=\"title\">Sensor</td><td id=\"title\">Data</td></tr>\n",
    "    <tr><td id=\"cell\">data/raw/sensors/collection_time/BISH\\ FETAL\\ GA\\ ASSESSMENT.csv</td><td id=\"cell\">N/A</td><td id=\"cell\">Measurement Dates, Meta Data, etc</td ></tr>\n",
    "    <tr><td id=\"cell\">data/raw/sensors/fetal_hr/BISH_RMSSD_MONICA_052218_EARLY_SIGNAL2.csv</td><td id=\"redcell\">MON</td><td id=\"cell\">HR and RMMSD</td ></tr>\n",
    "    <tr><td id=\"cell\">data/raw/sensors/maternal_hr/Maternal HR XFER 052318.xlsx </td><td id=\"redcell\"> MON </td><td id=\"cell\"> HR Signal Features </td></tr>\n",
    "    <tr><td id=\"cell\">data/raw/sensors/movement/maternal_MVMT_monica_EHG_EHG_XFER_240s_Epochs_051818.csv </td><td id=\"redcell\"> MON  </td><td id=\"cell\"> MVT Signal Features </td></tr>\n",
    "    <tr><td id=\"cell\">data/raw/sensors/movement/fetal_MVMT_toitu_EDIT_240s_XFER_Signal_051818.csv </td><td id=\"cell\"> TOI </td><td id=\"cell\"> HR and MVT </td></tr>\n",
    "</table>\n",
    "\n",
    "For sensor data in mbh001_v3, I have copied Udi's <b id=\"redcell\">TOI</b> data and\n",
    "Carlos' <b id=redcell>MON</b> data.  I converted `maternal_hr` xlsx file to CSV. \n",
    "\n",
    "\n",
    "## BISH\n",
    "There are a few BISH files -- one in Udi's project, another in Carlos', and Dani provided me\n",
    "with yet another (indicated by `_DB`).  Are they all the same?\n",
    "\n",
    "I found that both Carlos' and Udi's BISH files contain 12384 lines, while DB's contains 12383.\n",
    "\n",
    "```\n",
    "cat BISH\\ FETAL\\ GA\\ ASSESSMENT_Carlos.csv | wc -l\n",
    "    12384\n",
    "cat BISH\\ FETAL\\ GA\\ ASSESSMENT_Udi.csv\n",
    "    12384\n",
    "cat BISH\\ FETAL\\ GA\\ ASSESSMENT_DB.csv\n",
    "    12383\n",
    "```\n",
    "\n",
    "I noticed that DB actually shuffled around the columns in her file, so this could help\n",
    "explain things: ... To make analysis easier, I looked more closely in Python...\n",
    "\n",
    "--------------------------------------\n",
    "**CONCLUSION**: below I find that all the BISH files contain 12,383 records with 6,558 unique PATIDs,\n",
    "so Dani's file is fine to use / no need to further understand differences IMHO.\n",
    "\n",
    "-----------------------------------\n",
    "\n",
    "<div class=\"update\">\n",
    "    <b>UPDATE (Dec 6)</b>: \n",
    "    <p> Yesterday, while going through the BISH, TOI, and MON files, I realized\n",
    "        that it is not 100% necessary to use the BISH file.  The TOI and MON data technically contain\n",
    "        \"Fx\" information (weekly GA ranges), so assuming we can trust how the files were put together,\n",
    "        we can just use that information to inform what variables are allowed in a given model (e.g.,\n",
    "        for a 32wk preterm model, both F1 and F2 data can be used, while only F1 data can be used for\n",
    "        a 28wk preterm model). </p>\n",
    "    <p> Having said that, it is <b>important</b> to understand that I do not fully trust \n",
    "        the BISH file, partially because I do not fully understand the BISH file.  Some \n",
    "        patients have only 1 records, which\n",
    "        is understandable: my interpretation is that they did sensor tests on one occasion, either\n",
    "        during F1, F2, or F3.  Other patients have 2 or 3 records, which again is pretty understandable:\n",
    "        they have sensor measurements during multiple Fx periods.  But some patients\n",
    "        have 4-5 records in the BISH file -- WHY?  Were they really tested on this many occasions?\n",
    "    <p> These questions led me to realize that I do not understand the BISH file.  For example,\n",
    "        maybe 5 records means that a patient recorded MON data on 2 occasions and TOI data on\n",
    "        3 other occasions.  Maybe one record means they got both MON and TOI testing on the same\n",
    "        occasion.  But maybe not.  There does not seem to be any indication in the BISH file.  To\n",
    "        really understand more about the patients, we would have to do a lot of exploratory \n",
    "        querying that we don't exactly have time for...\n",
    "</div>"
   ]
  },
  {
   "cell_type": "markdown",
   "metadata": {},
   "source": [
    "# Battle of the BISH files\n",
    "In this section, I simply look to see if there are any differences in the BISH files found\n",
    "in Carlos' repo and Udi's repo (there are not), and whether there are any differences in the\n",
    "file Dani provided me (again, not really)."
   ]
  },
  {
   "cell_type": "code",
   "execution_count": 135,
   "metadata": {},
   "outputs": [],
   "source": [
    "import pandas as pd\n",
    "import numpy as np\n",
    "from matplotlib import pyplot as plt\n",
    "from scipy.stats import pearsonr\n",
    "%matplotlib inline"
   ]
  },
  {
   "cell_type": "code",
   "execution_count": 21,
   "metadata": {},
   "outputs": [],
   "source": [
    "ubish = pd.read_csv('../data/raw/Bish_Test/BISH FETAL GA ASSESSMENT_Udi.csv')\n",
    "cbish = pd.read_csv('../data/raw/Bish_Test/BISH FETAL GA ASSESSMENT_Carlos.csv')\n",
    "dbish = pd.read_csv('../data/raw/BISH FETAL GA ASSESSMENT_DB.csv')"
   ]
  },
  {
   "cell_type": "code",
   "execution_count": 31,
   "metadata": {},
   "outputs": [
    {
     "data": {
      "text/html": [
       "<div>\n",
       "<style scoped>\n",
       "    .dataframe tbody tr th:only-of-type {\n",
       "        vertical-align: middle;\n",
       "    }\n",
       "\n",
       "    .dataframe tbody tr th {\n",
       "        vertical-align: top;\n",
       "    }\n",
       "\n",
       "    .dataframe thead th {\n",
       "        text-align: right;\n",
       "    }\n",
       "</style>\n",
       "<table border=\"1\" class=\"dataframe\">\n",
       "  <thead>\n",
       "    <tr style=\"text-align: right;\">\n",
       "      <th></th>\n",
       "      <th>Final File Name</th>\n",
       "      <th>GA_In_Days</th>\n",
       "      <th>GA at Assessment Weeks</th>\n",
       "      <th>PATID</th>\n",
       "      <th>Box Number</th>\n",
       "      <th>Original File Name</th>\n",
       "      <th>Final File Name.1</th>\n",
       "      <th>File Type</th>\n",
       "      <th>GA at Assessment</th>\n",
       "      <th>Zip File</th>\n",
       "      <th>Overwrite</th>\n",
       "      <th>Number Of Fetuses</th>\n",
       "      <th>Box Number.1</th>\n",
       "    </tr>\n",
       "  </thead>\n",
       "  <tbody>\n",
       "    <tr>\n",
       "      <th>0</th>\n",
       "      <td>S002-BISH-00001-T010-10</td>\n",
       "      <td>150</td>\n",
       "      <td>21 Weeks, 3 Days</td>\n",
       "      <td>S002-BISH-00001</td>\n",
       "      <td>2007-04</td>\n",
       "      <td>S002-BISH-00001-2007-04.physio</td>\n",
       "      <td>S002-BISH-00001-T010-10.physio</td>\n",
       "      <td>physio</td>\n",
       "      <td>21 Weeks, 3 Days</td>\n",
       "      <td>False</td>\n",
       "      <td>True</td>\n",
       "      <td>1</td>\n",
       "      <td>2007-04</td>\n",
       "    </tr>\n",
       "  </tbody>\n",
       "</table>\n",
       "</div>"
      ],
      "text/plain": [
       "           Final File Name  GA_In_Days GA at Assessment Weeks  \\\n",
       "0  S002-BISH-00001-T010-10         150       21 Weeks, 3 Days   \n",
       "\n",
       "             PATID Box Number              Original File Name  \\\n",
       "0  S002-BISH-00001    2007-04  S002-BISH-00001-2007-04.physio   \n",
       "\n",
       "                Final File Name.1 File Type  GA at Assessment  Zip File  \\\n",
       "0  S002-BISH-00001-T010-10.physio    physio  21 Weeks, 3 Days     False   \n",
       "\n",
       "   Overwrite  Number Of Fetuses Box Number.1  \n",
       "0       True                  1      2007-04  "
      ]
     },
     "execution_count": 31,
     "metadata": {},
     "output_type": "execute_result"
    }
   ],
   "source": [
    "cbish.head(1)"
   ]
  },
  {
   "cell_type": "code",
   "execution_count": 32,
   "metadata": {},
   "outputs": [
    {
     "data": {
      "text/html": [
       "<div>\n",
       "<style scoped>\n",
       "    .dataframe tbody tr th:only-of-type {\n",
       "        vertical-align: middle;\n",
       "    }\n",
       "\n",
       "    .dataframe tbody tr th {\n",
       "        vertical-align: top;\n",
       "    }\n",
       "\n",
       "    .dataframe thead th {\n",
       "        text-align: right;\n",
       "    }\n",
       "</style>\n",
       "<table border=\"1\" class=\"dataframe\">\n",
       "  <thead>\n",
       "    <tr style=\"text-align: right;\">\n",
       "      <th></th>\n",
       "      <th>Final File Name</th>\n",
       "      <th>GA_In_Days</th>\n",
       "      <th>GA at Assessment Weeks</th>\n",
       "      <th>PATID</th>\n",
       "      <th>Box Number</th>\n",
       "      <th>Original File Name</th>\n",
       "      <th>Final File Name.1</th>\n",
       "      <th>File Type</th>\n",
       "      <th>GA at Assessment</th>\n",
       "      <th>Zip File</th>\n",
       "      <th>Overwrite</th>\n",
       "      <th>Number Of Fetuses</th>\n",
       "      <th>Box Number.1</th>\n",
       "    </tr>\n",
       "  </thead>\n",
       "  <tbody>\n",
       "    <tr>\n",
       "      <th>0</th>\n",
       "      <td>S002-BISH-00001-T010-10</td>\n",
       "      <td>150</td>\n",
       "      <td>21 Weeks, 3 Days</td>\n",
       "      <td>S002-BISH-00001</td>\n",
       "      <td>2007-04</td>\n",
       "      <td>S002-BISH-00001-2007-04.physio</td>\n",
       "      <td>S002-BISH-00001-T010-10.physio</td>\n",
       "      <td>physio</td>\n",
       "      <td>21 Weeks, 3 Days</td>\n",
       "      <td>False</td>\n",
       "      <td>True</td>\n",
       "      <td>1</td>\n",
       "      <td>2007-04</td>\n",
       "    </tr>\n",
       "  </tbody>\n",
       "</table>\n",
       "</div>"
      ],
      "text/plain": [
       "           Final File Name  GA_In_Days GA at Assessment Weeks  \\\n",
       "0  S002-BISH-00001-T010-10         150       21 Weeks, 3 Days   \n",
       "\n",
       "             PATID Box Number              Original File Name  \\\n",
       "0  S002-BISH-00001    2007-04  S002-BISH-00001-2007-04.physio   \n",
       "\n",
       "                Final File Name.1 File Type  GA at Assessment  Zip File  \\\n",
       "0  S002-BISH-00001-T010-10.physio    physio  21 Weeks, 3 Days     False   \n",
       "\n",
       "   Overwrite  Number Of Fetuses Box Number.1  \n",
       "0       True                  1      2007-04  "
      ]
     },
     "execution_count": 32,
     "metadata": {},
     "output_type": "execute_result"
    }
   ],
   "source": [
    "ubish.head(1)"
   ]
  },
  {
   "cell_type": "code",
   "execution_count": 28,
   "metadata": {},
   "outputs": [
    {
     "data": {
      "text/html": [
       "<div>\n",
       "<style scoped>\n",
       "    .dataframe tbody tr th:only-of-type {\n",
       "        vertical-align: middle;\n",
       "    }\n",
       "\n",
       "    .dataframe tbody tr th {\n",
       "        vertical-align: top;\n",
       "    }\n",
       "\n",
       "    .dataframe thead th {\n",
       "        text-align: right;\n",
       "    }\n",
       "</style>\n",
       "<table border=\"1\" class=\"dataframe\">\n",
       "  <thead>\n",
       "    <tr style=\"text-align: right;\">\n",
       "      <th></th>\n",
       "      <th>PATID</th>\n",
       "      <th>Box Number</th>\n",
       "      <th>Original File Name</th>\n",
       "      <th>Final File Name</th>\n",
       "      <th>Final File Name.1</th>\n",
       "      <th>GA_In_Days</th>\n",
       "      <th>Number Of Fetuses</th>\n",
       "    </tr>\n",
       "  </thead>\n",
       "  <tbody>\n",
       "    <tr>\n",
       "      <th>0</th>\n",
       "      <td>S002-BISH-00001</td>\n",
       "      <td>2007-04</td>\n",
       "      <td>S002-BISH-00001-2007-04.physio</td>\n",
       "      <td>S002-BISH-00001-T010-10.physio</td>\n",
       "      <td>S002-BISH-00001-T010-10</td>\n",
       "      <td>150</td>\n",
       "      <td>1</td>\n",
       "    </tr>\n",
       "  </tbody>\n",
       "</table>\n",
       "</div>"
      ],
      "text/plain": [
       "             PATID Box Number              Original File Name  \\\n",
       "0  S002-BISH-00001    2007-04  S002-BISH-00001-2007-04.physio   \n",
       "\n",
       "                  Final File Name        Final File Name.1  GA_In_Days  \\\n",
       "0  S002-BISH-00001-T010-10.physio  S002-BISH-00001-T010-10         150   \n",
       "\n",
       "   Number Of Fetuses  \n",
       "0                  1  "
      ]
     },
     "execution_count": 28,
     "metadata": {},
     "output_type": "execute_result"
    }
   ],
   "source": [
    "dbish.head(1)"
   ]
  },
  {
   "cell_type": "code",
   "execution_count": 36,
   "metadata": {},
   "outputs": [
    {
     "name": "stdout",
     "output_type": "stream",
     "text": [
      "CE Shape: (12383, 13)\n",
      "UR Shape: (12383, 13)\n",
      "DB Shape: (12383, 7)\n"
     ]
    }
   ],
   "source": [
    "print('CE Shape:',cbish.shape)\n",
    "print('UR Shape:',ubish.shape)\n",
    "print('DB Shape:',dbish.shape)"
   ]
  },
  {
   "cell_type": "code",
   "execution_count": 33,
   "metadata": {},
   "outputs": [
    {
     "name": "stdout",
     "output_type": "stream",
     "text": [
      "CE Unique PATIDs: 6558\n",
      "UR Unique PATIDs: 6558\n",
      "DB Unique PATIDs: 6558\n"
     ]
    }
   ],
   "source": [
    "print('CE Unique PATIDs:',cbish.PATID.unique().__len__())\n",
    "print('UR Unique PATIDs:',ubish.PATID.unique().__len__())\n",
    "print('DB Unique PATIDs:',dbish.PATID.unique().__len__())"
   ]
  },
  {
   "cell_type": "code",
   "execution_count": 35,
   "metadata": {},
   "outputs": [
    {
     "name": "stdout",
     "output_type": "stream",
     "text": [
      "CE intersect UR: set()\n",
      "CE intersect DB: set()\n",
      "UR intersect DB: set()\n"
     ]
    }
   ],
   "source": [
    "print('CE intersect UR:',set(cbish.PATID).difference(ubish.PATID))\n",
    "print('CE intersect DB:',set(cbish.PATID).difference(dbish.PATID))\n",
    "print('UR intersect DB:',set(ubish.PATID).difference(dbish.PATID))"
   ]
  },
  {
   "cell_type": "markdown",
   "metadata": {},
   "source": [
    "------------------------\n",
    "--------------\n",
    "-----------\n",
    "\n",
    "\n",
    "# TOI Data\n",
    "In a certain sense, for the TOI data, we do not need the Bish file (though we will use, as described \n",
    "below).  This is because the TOI data comes marked with Fx nomenclature already.  \n",
    "\n",
    "```\n",
    "# Fx Nomenclature\n",
    "F1: fetal study conducted between 20-24 weeks gestational age\n",
    "F2: fetal study conducted between 28-32 weeks gestational age\n",
    "F3: fetal study conducted between 34+ weeks gestational age\n",
    "\n",
    "# yF Nomenclature\n",
    "1F: quiet behavioral state\n",
    "2F: active behavioral state\n",
    "\n",
    "# Cycle ID Definitions\n",
    "5\tEnrollment\t\t\n",
    "10\tF1 - Week (20-24)\t\t\n",
    "15\tF2 - Week (28-32)\t\t\n",
    "20\tF3 - Week 34+\t\n",
    "25\tDelivery\t\t\n",
    "30\tMaternal 1M (After delivery)\t\t\n",
    "60\tMaternal 1Y (After delivery)\t\t\n",
    "105\tInfant exam - Less than 96hrs after delivery\n",
    "110\tInfant exam - 1 month\n",
    "115\tInfant 12 month\n",
    "150\tInfant/Fetal demise\n",
    "```\n",
    "\n",
    "For predicting GA after 32 weeks, we can just exclude all F3 variables.  However, there are other\n",
    "target vars we are interested in, e.g., the preterm 28wks binary variable....though for this specific\n",
    "one, we would then just drop all F2 and F3 TOI variables.\n",
    "\n",
    "What is interesting though is that the BISH file does not conform to the Fx / Cycle ID definitions \n",
    "perfectly well.  However, we'll get to that in a second.  For now, some basic TOI stuff.\n",
    "\n",
    "## TOI Details\n",
    "### Variables\n",
    "The <b id=redcell>TOI data has 47 variables </b>:\n",
    "* 14 F1 vars\n",
    "* 14 F2 vars\n",
    "* 19 F3 vars\n",
    "    - F3 has more vars b/c only F3 does some of the FxyF notation pick up\n",
    "    - FxyF notation (e.g., F31f) indicats that during the Fx measurement, the baby\n",
    "      was either asleep or active\n",
    "\n",
    "### Records\n",
    "The TOI data reads in at over 14k records, but over 7k of these are 100% empty.  These \n",
    "empty rows are artifacts: if you open the CSV file in Excel, you will see that \n",
    "these rows contains no data at all -- not even a patient ID.  Dani and I think these\n",
    "types of artifacts (which also crop up as empty columns from time to time) are from\n",
    "saving an Excel file as a CSV.  Our thinking is that at least one cell in the row has a blank space\n",
    "in it, which Excel interprets as valid data...and so saves the entire row.  Anyway, point\n",
    "is that in reality, <b id=\"redcell\">TOI has 6342 records</b>.  However,\n",
    "after removing the suspect duplicated patient IDs (discussed in next section), TOI has `6,338` unique \n",
    "patient IDs.\n",
    "\n",
    "### Duplicated Patient IDs\n",
    "As found in JNB `01__KU`, there are 2 patients in the TOI data that have 2 rows each.  Not all\n",
    "the data in each variable is consistent, so these are simply 100% duplicated rows...which leads\n",
    "to an ambiguity: which record is the right record?  These patient IDs do not turn up as twins\n",
    "in the BISH file, so it's not clear we have an interpretation here.  Given that we're discarding\n",
    "twins in this analysis anyway, it doesn't matter. <b>Conclusion</b>: we are discarding these\n",
    "duplicated patients in the TOI data.\n",
    "\n",
    "Note that\n",
    "after removing the suspect duplicated patient IDs, TOI has `6,338` unique patient IDs. (2 patients\n",
    "IDs having 2 records each were removed: `6342-4 == 6338`.\n",
    "\n",
    "\n",
    "### Patient Representation in Fx Periods\n",
    "Here we show how many patients have at least 1 point of data in a given interval.  Note that\n",
    "after removing the suspect duplicated patient IDs, TOI has `6,338` unique patient IDs.\n",
    "\n",
    "| Fx | Number Patients | Percent Patients |\n",
    "|----|-----------------|------------------|\n",
    "| F1 | 3355 | 52.9% |\n",
    "| F2 | 1648 | 26.0% |\n",
    "| F3 | 5777 | 91.1% |\n",
    "| F1 or F2 | 3804 | 60.0% |\n",
    "| F1 or F3 | 6263 | 98.8%  |\n",
    "| F2 or F3 | 5996 | 94.6% |\n",
    "| F1 or F2 or F3 | 100% |\n",
    "| F1 AND F2 | 1195 | 18.8% |\n",
    "| F1 AND F3 | 2865 | 45.2% |\n",
    "| F1 AND F2 AND F3 | 1425 | 22.5% |\n",
    "\n",
    "\n",
    "\n",
    "**Boo Hoo about F3**:  What is unfortunate is that so many patients have their data during F3, which is \n",
    "kind of useless to us in terms of pre-term prediction.  This is likely why Udi tried\n",
    "to develop a new target variable called `time_left`, which was `ga_at_delivery - ga_at_bish_f3`.  He\n",
    "basically looked at BISH records where GA was greater than 238 days (34 weeks).  This means\n",
    "he was not predicting `time_left` for dramatically pre-term babies.  \n",
    "\n",
    "**Pessimism about F2**: We can predict the 32wk pre-term category using both F1 and F2 data, but this model will\n",
    "not be dramatically better than just using F1 data since F2 data only has 25% representation.  And, in fact,\n",
    "only ~19% of the patients have both F1 and F2 data.  \n",
    "\n",
    "**Some Optimism about F1**: Fortunately, TOI has a decent amount of F1 data (just over 50% of the patients). This\n",
    "is useful for any of the models.  Specifically, for the 28wk pre-term category, we need not worry about F2 \n",
    "data anyway (recorded @ 28-32wks) since  we can only legimiately use the F1 data (recorded @ 20-24wks).\n",
    "\n",
    "David (from Columbia) told Udi in no uncertain terms that the only data he believed to\n",
    "be high quality was the spectral band data (`36.5%`).  Unfortunately, these variables have even less data.  Remember,\n",
    "`52.9%` of the patients have at least one non-null F1 variable.  Turns out, however, that no variable\n",
    "actually has `52.9%` of the population covered -- the highest is `51.6%`.  Here\n",
    "is a list of F1 vars and their support in the population:\n",
    "\n",
    "| F1 Var | % Null | % Population |\n",
    "|----------|--------|-----------|\n",
    "| f1_hrmean1                     | 48.4%  | 51.6% | \n",
    "| f1_hrmed1                      | 48.4%  | 51.6% | \n",
    "| f1_hrstd1                      | 48.4%  | 51.6% | \n",
    "| f1_hrsegs1                     | 48.4%  | 51.6% | \n",
    "| f1_totsegs1                    | 48.4%  | 51.6% | \n",
    "| f1_medcc4                      | <font id=\"redcell\">80.6%</font>  | <font id=\"redcell\">19.4%</font> | \n",
    "| f1_medlag4                     | <font id=\"redcell\">80.6%</font>  | <font id=\"redcell\">19.4%</font> | \n",
    "| f1_totsegs4                    | 50.5%  | 49.5% | \n",
    "| f1_ccsegs4                     | 50.8%  | 49.2% | \n",
    "| f1_mvt_pwr_mvt21               | 63.5%  | 36.5% | \n",
    "| f1_mvt_pwr_mvt31               | 63.5%  | 36.5% | \n",
    "| f1_mvt_pwr_mvt41               | 63.5%  | 36.5% | \n",
    "| f1_mvt_pwr_numbersegments.1    | 49.2%  | 50.8% | \n",
    "| f1_mvt_pwr_numberusedpwrcoh    | 49.2%  | 50.8% | \n",
    "\n",
    "Might as well just drop the median lag vars, having so little data..."
   ]
  },
  {
   "cell_type": "code",
   "execution_count": 312,
   "metadata": {},
   "outputs": [
    {
     "data": {
      "text/plain": [
       "94.6"
      ]
     },
     "execution_count": 312,
     "metadata": {},
     "output_type": "execute_result"
    }
   ],
   "source": [
    "round(100 * 5996/6338, 1)"
   ]
  },
  {
   "cell_type": "code",
   "execution_count": 169,
   "metadata": {},
   "outputs": [],
   "source": [
    "toi = pd.read_csv('../data/raw/Fetal_Toitu_Physio_Features_Early_Signal_093019.csv')\n",
    "toi.columns = map(str.lower, toi.columns)\n",
    "toi.set_index('patid', inplace=True)"
   ]
  },
  {
   "cell_type": "code",
   "execution_count": 181,
   "metadata": {},
   "outputs": [
    {
     "data": {
      "text/plain": [
       "Index(['f1_hrmean1', 'f1_hrmed1', 'f1_hrstd1', 'f1_hrsegs1', 'f1_totsegs1',\n",
       "       'f1_medcc4', 'f1_medlag4', 'f1_totsegs4', 'f1_ccsegs4',\n",
       "       'f1_mvt_pwr_mvt21', 'f1_mvt_pwr_mvt31', 'f1_mvt_pwr_mvt41',\n",
       "       'f1_mvt_pwr_numbersegments.1', 'f1_mvt_pwr_numberusedpwrcoh',\n",
       "       'f2_hrmean1', 'f2_hrmed1', 'f2_hrstd1', 'f2_hrsegs1', 'f2_totsegs1',\n",
       "       'f2_medcc4', 'f2_medlag4', 'f2_totsegs4', 'f2_ccsegs4',\n",
       "       'f2_mvt_pwr_mvt21', 'f2_mvt_pwr_mvt31', 'f2_mvt_pwr_mvt41',\n",
       "       'f2_mvt_pwr_numbersegments.1', 'f2_mvt_pwr_numberusedpwrcoh',\n",
       "       'f31f_hrmean1', 'f31f_hrmed1', 'f31f_hrstd1', 'f31f_hrsegs1',\n",
       "       'f31f_totsegs1', 'f32f_hrmean1', 'f32f_hrmed1', 'f32f_hrstd1',\n",
       "       'f32f_hrsegs1', 'f32f_totsegs1', 'f3_medcc4', 'f3_medlag4',\n",
       "       'f3_totsegs4', 'f3_ccsegs4', 'f3_mvt_pwr_mvt21', 'f3_mvt_pwr_mvt31',\n",
       "       'f3_mvt_pwr_mvt41', 'f3_mvt_pwr_numbersegments.1',\n",
       "       'f3_mvt_pwr_numberusedpwrcoh'],\n",
       "      dtype='object')"
      ]
     },
     "execution_count": 181,
     "metadata": {},
     "output_type": "execute_result"
    }
   ],
   "source": [
    "toi.columns"
   ]
  },
  {
   "cell_type": "code",
   "execution_count": 182,
   "metadata": {},
   "outputs": [
    {
     "name": "stdout",
     "output_type": "stream",
     "text": [
      "Number of F1 Records: 14\n",
      "Number of F2 Records: 14\n",
      "Number of F3 Records: 19\n"
     ]
    }
   ],
   "source": [
    "f1 = [col for col in toi.columns if 'f1' in col.lower()]\n",
    "f2 = [col for col in toi.columns if 'f2' in col.lower()]\n",
    "f3 = [col for col in toi.columns if 'f3' in col.lower()]\n",
    "print('Number of F1 Records:', len(f1))\n",
    "print('Number of F2 Records:', len(f2))\n",
    "print('Number of F3 Records:', len(f3))"
   ]
  },
  {
   "cell_type": "markdown",
   "metadata": {},
   "source": [
    "**COMMENT**: Note that there are more F3 records because only for F3 vars do we have\n",
    "FxyF nomenclature in effect, e.g., `f31f_hrmean1` and `f32f_hrmean1` as opposed to just\n",
    "`f1_hrmean1` or `f2_hrmean1`. See print out of columns for more info."
   ]
  },
  {
   "cell_type": "code",
   "execution_count": 170,
   "metadata": {},
   "outputs": [
    {
     "data": {
      "text/plain": [
       "(14157, 47)"
      ]
     },
     "execution_count": 170,
     "metadata": {},
     "output_type": "execute_result"
    }
   ],
   "source": [
    "toi.shape"
   ]
  },
  {
   "cell_type": "markdown",
   "metadata": {},
   "source": [
    "When looking over Udi's file, I found that about half of the 14k records were\n",
    "filled with Nulls.  **Let's check this.**"
   ]
  },
  {
   "cell_type": "code",
   "execution_count": 173,
   "metadata": {},
   "outputs": [
    {
     "name": "stdout",
     "output_type": "stream",
     "text": [
      "Number of Valid TOI Records: 6342\n",
      "Number of All-NaN TOI Records: 7815\n"
     ]
    }
   ],
   "source": [
    "valid_index = ~(toi.isnull().sum(axis=1) == 47)\n",
    "print('Number of Valid TOI Records:',valid_index.sum())\n",
    "print('Number of All-NaN TOI Records:',(~valid_index).sum())"
   ]
  },
  {
   "cell_type": "markdown",
   "metadata": {},
   "source": [
    "<b id=\"redcell\">Let's remove all all-NaN records!</b>"
   ]
  },
  {
   "cell_type": "code",
   "execution_count": 174,
   "metadata": {},
   "outputs": [
    {
     "name": "stdout",
     "output_type": "stream",
     "text": [
      "Number of Valid TOI Records: 6342\n",
      "Number of All-NaN TOI Records: 0\n"
     ]
    }
   ],
   "source": [
    "toi = toi[valid_index]\n",
    "new_valid_index = ~(toi.isnull().sum(axis=1) == 47)\n",
    "print('Number of Valid TOI Records:',new_valid_index.sum())\n",
    "print('Number of All-NaN TOI Records:',(~new_valid_index).sum())"
   ]
  },
  {
   "cell_type": "markdown",
   "metadata": {},
   "source": [
    "# Duplicated PATIDs\n",
    "I show more analysis on this in JNB `01__KU`.  The gist is, (i) the duplicated PATIDs \n",
    "are not listed as twins in the BISH data, (ii) the data is different enough to warrant\n",
    "just throwing these patients out (who knows which of their rows is the right row?)."
   ]
  },
  {
   "cell_type": "code",
   "execution_count": 218,
   "metadata": {},
   "outputs": [
    {
     "data": {
      "text/html": [
       "<div>\n",
       "<style scoped>\n",
       "    .dataframe tbody tr th:only-of-type {\n",
       "        vertical-align: middle;\n",
       "    }\n",
       "\n",
       "    .dataframe tbody tr th {\n",
       "        vertical-align: top;\n",
       "    }\n",
       "\n",
       "    .dataframe thead th {\n",
       "        text-align: right;\n",
       "    }\n",
       "</style>\n",
       "<table border=\"1\" class=\"dataframe\">\n",
       "  <thead>\n",
       "    <tr style=\"text-align: right;\">\n",
       "      <th></th>\n",
       "      <th>cnt</th>\n",
       "    </tr>\n",
       "    <tr>\n",
       "      <th>patid</th>\n",
       "      <th></th>\n",
       "    </tr>\n",
       "  </thead>\n",
       "  <tbody>\n",
       "    <tr>\n",
       "      <th>S002-BISH-04030</th>\n",
       "      <td>2</td>\n",
       "    </tr>\n",
       "    <tr>\n",
       "      <th>S002-BISH-04033</th>\n",
       "      <td>2</td>\n",
       "    </tr>\n",
       "  </tbody>\n",
       "</table>\n",
       "</div>"
      ],
      "text/plain": [
       "                 cnt\n",
       "patid               \n",
       "S002-BISH-04030    2\n",
       "S002-BISH-04033    2"
      ]
     },
     "execution_count": 218,
     "metadata": {},
     "output_type": "execute_result"
    }
   ],
   "source": [
    "dup_table = toi.reset_index().groupby('patid')['patid'].count().to_frame('cnt').query('cnt > 1')\n",
    "dup_table"
   ]
  },
  {
   "cell_type": "code",
   "execution_count": 219,
   "metadata": {},
   "outputs": [
    {
     "data": {
      "text/plain": [
       "(6342, 47)"
      ]
     },
     "execution_count": 219,
     "metadata": {},
     "output_type": "execute_result"
    }
   ],
   "source": [
    "toi.shape"
   ]
  },
  {
   "cell_type": "code",
   "execution_count": 220,
   "metadata": {},
   "outputs": [
    {
     "data": {
      "text/plain": [
       "(6338, 47)"
      ]
     },
     "execution_count": 220,
     "metadata": {},
     "output_type": "execute_result"
    }
   ],
   "source": [
    "toi.drop(dup_table.index).shape"
   ]
  },
  {
   "cell_type": "markdown",
   "metadata": {},
   "source": [
    "# Fx Interval Analysis:  How many patients have data for each Fx?\n",
    "\n",
    "Are there any PATIDs that have \n",
    "1. no F1 data? \n",
    "2. no F2 data?  \n",
    "3. no F3 data?"
   ]
  },
  {
   "cell_type": "code",
   "execution_count": 183,
   "metadata": {},
   "outputs": [
    {
     "name": "stdout",
     "output_type": "stream",
     "text": [
      "Number of Valid F1 Records: 3355\n",
      "Number of All-NaN F1 Records: 2987\n"
     ]
    }
   ],
   "source": [
    "f1_valid_index = ~(toi[f1].isnull().sum(axis=1) == len(f1))\n",
    "print('Number of Valid F1 Records:', f1_valid_index.sum())\n",
    "print('Number of All-NaN F1 Records:', (~f1_valid_index).sum())"
   ]
  },
  {
   "cell_type": "code",
   "execution_count": 184,
   "metadata": {},
   "outputs": [
    {
     "name": "stdout",
     "output_type": "stream",
     "text": [
      "Number of Valid F2 Records: 1648\n",
      "Number of All-NaN F2 Records: 4694\n"
     ]
    }
   ],
   "source": [
    "f2_valid_index = ~(toi[f2].isnull().sum(axis=1) == len(f2))\n",
    "print('Number of Valid F2 Records:', f2_valid_index.sum())\n",
    "print('Number of All-NaN F2 Records:', (~f2_valid_index).sum())"
   ]
  },
  {
   "cell_type": "code",
   "execution_count": 185,
   "metadata": {},
   "outputs": [
    {
     "name": "stdout",
     "output_type": "stream",
     "text": [
      "Number of Valid F3 Records: 5777\n",
      "Number of All-NaN F3 Records: 565\n"
     ]
    }
   ],
   "source": [
    "f3_valid_index = ~(toi[f3].isnull().sum(axis=1) == len(f3))\n",
    "print('Number of Valid F3 Records:', f3_valid_index.sum())\n",
    "print('Number of All-NaN F3 Records:', (~f3_valid_index).sum())"
   ]
  },
  {
   "cell_type": "markdown",
   "metadata": {},
   "source": [
    "### OR Analyses:  Number of Patients w/ at least 1 var in an interval union"
   ]
  },
  {
   "cell_type": "code",
   "execution_count": 313,
   "metadata": {},
   "outputs": [
    {
     "name": "stdout",
     "output_type": "stream",
     "text": [
      "Number of Valid F1 OR F2 Records: 3804\n",
      "Number of All-NaN F1 OR F2 Records: 2534\n"
     ]
    }
   ],
   "source": [
    "f1f2_valid_index = ~(toi[f1+f2].isnull().sum(axis=1) == len(f1)+len(f2))\n",
    "print('Number of Valid F1 OR F2 Records:', f1f2_valid_index.sum())\n",
    "print('Number of All-NaN F1 OR F2 Records:', (~f1f2_valid_index).sum())"
   ]
  },
  {
   "cell_type": "code",
   "execution_count": 314,
   "metadata": {},
   "outputs": [
    {
     "name": "stdout",
     "output_type": "stream",
     "text": [
      "Number of Valid F1 OR F3 Records: 6263\n",
      "Number of All-NaN F1 OR F3 Records: 75\n"
     ]
    }
   ],
   "source": [
    "f1f3_valid_index = ~(toi[f1+f3].isnull().sum(axis=1) == len(f1)+len(f3))\n",
    "print('Number of Valid F1 OR F3 Records:', f1f3_valid_index.sum())\n",
    "print('Number of All-NaN F1 OR F3 Records:', (~f1f3_valid_index).sum())"
   ]
  },
  {
   "cell_type": "code",
   "execution_count": 315,
   "metadata": {},
   "outputs": [
    {
     "name": "stdout",
     "output_type": "stream",
     "text": [
      "Number of Valid F2 OR F3 Records: 5996\n",
      "Number of All-NaN F2 OR F3 Records: 342\n"
     ]
    }
   ],
   "source": [
    "f2f3_valid_index = ~(toi[f2+f3].isnull().sum(axis=1) == len(f2)+len(f3))\n",
    "print('Number of Valid F2 OR F3 Records:', f2f3_valid_index.sum())\n",
    "print('Number of All-NaN F2 OR F3 Records:', (~f2f3_valid_index).sum())"
   ]
  },
  {
   "cell_type": "code",
   "execution_count": 316,
   "metadata": {},
   "outputs": [
    {
     "name": "stdout",
     "output_type": "stream",
     "text": [
      "Number of Valid F1 OR F2 OR F3 Records: 6338\n",
      "Number of All-NaN F1 OR F2 OR F3 Records: 0\n"
     ]
    }
   ],
   "source": [
    "f1f2f3_valid_index = ~(toi[f1+f2+f3].isnull().sum(axis=1) == len(f1)+len(f2)+len(f3))\n",
    "print('Number of Valid F1 OR F2 OR F3 Records:', f1f2f3_valid_index.sum())\n",
    "print('Number of All-NaN F1 OR F2 OR F3 Records:', (~f1f2f3_valid_index).sum())"
   ]
  },
  {
   "cell_type": "markdown",
   "metadata": {},
   "source": [
    "### AND Analyses:  How many patients have data in Fx1 AND Fx2?"
   ]
  },
  {
   "cell_type": "code",
   "execution_count": 338,
   "metadata": {},
   "outputs": [
    {
     "name": "stdout",
     "output_type": "stream",
     "text": [
      "Number, Percent of Valid F1 AND F2 Records: 1195 ,  18.8\n",
      "Number, Percent of All-NaN F1 AND F2 Records: 5147 ,  81.2\n"
     ]
    }
   ],
   "source": [
    "f1f2_and_index = f1_valid_index & f2_valid_index\n",
    "print('Number, Percent of Valid F1 AND F2 Records:', f1f2_and_index.sum(), ', ',round(100 * f1f2_and_index.sum()/ len(f1_valid_index), 1))\n",
    "print('Number, Percent of All-NaN F1 AND F2 Records:', (~f1f2_and_index).sum(), ', ', round(100 * (~f1f2_and_index).sum()/len(f1_valid_index),1))"
   ]
  },
  {
   "cell_type": "code",
   "execution_count": 339,
   "metadata": {},
   "outputs": [
    {
     "name": "stdout",
     "output_type": "stream",
     "text": [
      "Number, Percent of Valid F1 AND F3 Records: 2865 ,  45.2\n",
      "Number, Percent of All-NaN F1 AND F3 Records: 3477 ,  54.8\n"
     ]
    }
   ],
   "source": [
    "f1f3_and_index = f1_valid_index & f3_valid_index\n",
    "print('Number, Percent of Valid F1 AND F3 Records:', f1f3_and_index.sum(), ', ',round(100 * f1f3_and_index.sum()/len(f1_valid_index), 1))\n",
    "print('Number, Percent of All-NaN F1 AND F3 Records:', (~f1f3_and_index).sum(), ', ',round( 100 * (~f1f3_and_index).sum()/len(f1_valid_index), 1))"
   ]
  },
  {
   "cell_type": "code",
   "execution_count": 340,
   "metadata": {},
   "outputs": [
    {
     "name": "stdout",
     "output_type": "stream",
     "text": [
      "Number, Percent of Valid F2 AND F3 Records: 1425 ,  22.5\n",
      "Number, Percent of All-NaN F2 AND F3 Records: 4917 ,  77.5\n"
     ]
    }
   ],
   "source": [
    "f2f3_and_index = f2_valid_index & f3_valid_index\n",
    "print('Number, Percent of Valid F2 AND F3 Records:', f2f3_and_index.sum(), ', ',round(100 * f2f3_and_index.sum()/len(f1_valid_index), 1))\n",
    "print('Number, Percent of All-NaN F2 AND F3 Records:', (~f2f3_and_index).sum(), ', ',round( 100 * (~f2f3_and_index).sum()/len(f1_valid_index), 1))"
   ]
  },
  {
   "cell_type": "code",
   "execution_count": null,
   "metadata": {},
   "outputs": [],
   "source": []
  },
  {
   "cell_type": "markdown",
   "metadata": {},
   "source": [
    "**COMMENT**:  What we find is that about half the\n",
    "patients have F1 records, less than a third have F2 records, and most have\n",
    "F3 records.\n",
    "\n",
    "<p id=\"redcell\">Importantly, as shown below, the Bish data does not\n",
    "    necessarily stricly follow the Fx / Cycle ID nomenclature.  So, it would be\n",
    "    interesting to compare measurements GAs w/ the TOI data."
   ]
  },
  {
   "cell_type": "code",
   "execution_count": 224,
   "metadata": {},
   "outputs": [],
   "source": [
    "# Final Ingestion Code (thus far)\n",
    "toi = pd.read_csv('../data/raw/Fetal_Toitu_Physio_Features_Early_Signal_093019.csv')\n",
    "toi.columns = map(str.lower, toi.columns)\n",
    "toi.set_index('patid', inplace=True)\n",
    "# Remove All-NaN Rows\n",
    "valid_index = ~(toi.isnull().sum(axis=1) == 47)\n",
    "toi = toi[valid_index]\n",
    "# Drop Duplicated IDs\n",
    "duplicated_IDs = toi.reset_index().groupby('patid')['patid'].count().to_frame('cnt').query('cnt > 1').index\n",
    "toi.drop(duplicated_IDs, inplace=True)"
   ]
  },
  {
   "cell_type": "code",
   "execution_count": 225,
   "metadata": {},
   "outputs": [
    {
     "data": {
      "text/plain": [
       "(6338, 47)"
      ]
     },
     "execution_count": 225,
     "metadata": {},
     "output_type": "execute_result"
    }
   ],
   "source": [
    "toi.shape"
   ]
  },
  {
   "cell_type": "code",
   "execution_count": 36,
   "metadata": {},
   "outputs": [
    {
     "data": {
      "text/plain": [
       "6315"
      ]
     },
     "execution_count": 36,
     "metadata": {},
     "output_type": "execute_result"
    }
   ],
   "source": [
    "toi.index.unique().__len__()"
   ]
  },
  {
   "cell_type": "code",
   "execution_count": 40,
   "metadata": {},
   "outputs": [
    {
     "data": {
      "text/plain": [
       "'11.2% null'"
      ]
     },
     "execution_count": 40,
     "metadata": {},
     "output_type": "execute_result"
    }
   ],
   "source": [
    "min(toi.isnull().sum().map(lambda x: str(round(100 * x / len(toi), 1))+'% null'))"
   ]
  },
  {
   "cell_type": "code",
   "execution_count": 56,
   "metadata": {},
   "outputs": [
    {
     "data": {
      "text/plain": [
       "85.5"
      ]
     },
     "execution_count": 56,
     "metadata": {},
     "output_type": "execute_result"
    }
   ],
   "source": [
    "100 - toi.isnull().sum().map(lambda x: round(100 * x / len(toi), 1)).to_frame('c').filter(regex='.+f3.+',axis=0).c.median()"
   ]
  },
  {
   "cell_type": "markdown",
   "metadata": {},
   "source": [
    "# TOI \"Meta Data\" Cols\n",
    "**Dec 10, 2019**\n",
    "A lot of these are like \"data quality\" vars, e.g., how many segments were used to compute\n",
    "a mean?  If the answer is 2-3, this is likely a biased estimate.  If the answer is 30\n",
    "or more, this is likely a good estimate.  You can imagine that these are decent variables\n",
    "to include in a random forest, which can find interactions between a variable and its\n",
    "quality...but you can also imagine these just being yet more noise in the model, curse of\n",
    "dimensionality, and so on."
   ]
  },
  {
   "cell_type": "code",
   "execution_count": 38,
   "metadata": {},
   "outputs": [],
   "source": [
    "toi_meta_cols = ['F1_hrsegs1', 'F1_totsegs1', 'F1_totsegs4', 'F1_ccsegs4',\n",
    "                'F1_MVT_PWR_numberSegments.1', 'F1_MVT_PWR_numberUsedPwrCoh',\n",
    "                'F2_hrsegs1', 'F2_totsegs1', 'F2_totsegs4', 'F2_ccsegs4',\n",
    "                'F2_MVT_PWR_numberSegments.1', 'F2_MVT_PWR_numberUsedPwrCoh',\n",
    "                'F31f_hrsegs1', 'F31f_totsegs1', 'F32f_hrsegs1', 'F32f_totsegs1',\n",
    "                'F3_totsegs4', 'F3_ccsegs4',\n",
    "                'F3_MVT_PWR_numberSegments.1', 'F3_MVT_PWR_numberUsedPwrCoh']\n",
    "meta = pd.read_csv('../data/raw/Fetal_Toitu_Physio_Features_Early_Signal_093019.csv',\n",
    "                  usecols = toi_meta_cols)\n"
   ]
  },
  {
   "cell_type": "code",
   "execution_count": 47,
   "metadata": {},
   "outputs": [
    {
     "data": {
      "text/html": [
       "<div>\n",
       "<style scoped>\n",
       "    .dataframe tbody tr th:only-of-type {\n",
       "        vertical-align: middle;\n",
       "    }\n",
       "\n",
       "    .dataframe tbody tr th {\n",
       "        vertical-align: top;\n",
       "    }\n",
       "\n",
       "    .dataframe thead th {\n",
       "        text-align: right;\n",
       "    }\n",
       "</style>\n",
       "<table border=\"1\" class=\"dataframe\">\n",
       "  <thead>\n",
       "    <tr style=\"text-align: right;\">\n",
       "      <th></th>\n",
       "      <th>F1_hrsegs1</th>\n",
       "      <th>F1_totsegs1</th>\n",
       "      <th>F1_totsegs4</th>\n",
       "      <th>F1_ccsegs4</th>\n",
       "      <th>F1_MVT_PWR_numberSegments.1</th>\n",
       "      <th>F1_MVT_PWR_numberUsedPwrCoh</th>\n",
       "      <th>F2_hrsegs1</th>\n",
       "    </tr>\n",
       "  </thead>\n",
       "  <tbody>\n",
       "    <tr>\n",
       "      <th>min</th>\n",
       "      <td>1.0</td>\n",
       "      <td>1.0</td>\n",
       "      <td>1.0</td>\n",
       "      <td>0.0</td>\n",
       "      <td>1.0</td>\n",
       "      <td>0.0</td>\n",
       "      <td>1.0</td>\n",
       "    </tr>\n",
       "    <tr>\n",
       "      <th>25%</th>\n",
       "      <td>6.0</td>\n",
       "      <td>13.0</td>\n",
       "      <td>3.0</td>\n",
       "      <td>0.0</td>\n",
       "      <td>3.0</td>\n",
       "      <td>0.0</td>\n",
       "      <td>16.0</td>\n",
       "    </tr>\n",
       "    <tr>\n",
       "      <th>50%</th>\n",
       "      <td>13.0</td>\n",
       "      <td>22.0</td>\n",
       "      <td>6.0</td>\n",
       "      <td>0.0</td>\n",
       "      <td>6.0</td>\n",
       "      <td>1.0</td>\n",
       "      <td>24.0</td>\n",
       "    </tr>\n",
       "    <tr>\n",
       "      <th>75%</th>\n",
       "      <td>21.0</td>\n",
       "      <td>29.0</td>\n",
       "      <td>7.0</td>\n",
       "      <td>1.0</td>\n",
       "      <td>7.0</td>\n",
       "      <td>2.0</td>\n",
       "      <td>29.0</td>\n",
       "    </tr>\n",
       "    <tr>\n",
       "      <th>max</th>\n",
       "      <td>64.0</td>\n",
       "      <td>76.0</td>\n",
       "      <td>19.0</td>\n",
       "      <td>9.0</td>\n",
       "      <td>19.0</td>\n",
       "      <td>9.0</td>\n",
       "      <td>56.0</td>\n",
       "    </tr>\n",
       "  </tbody>\n",
       "</table>\n",
       "</div>"
      ],
      "text/plain": [
       "     F1_hrsegs1  F1_totsegs1  F1_totsegs4  F1_ccsegs4  \\\n",
       "min         1.0          1.0          1.0         0.0   \n",
       "25%         6.0         13.0          3.0         0.0   \n",
       "50%        13.0         22.0          6.0         0.0   \n",
       "75%        21.0         29.0          7.0         1.0   \n",
       "max        64.0         76.0         19.0         9.0   \n",
       "\n",
       "     F1_MVT_PWR_numberSegments.1  F1_MVT_PWR_numberUsedPwrCoh  F2_hrsegs1  \n",
       "min                          1.0                          0.0         1.0  \n",
       "25%                          3.0                          0.0        16.0  \n",
       "50%                          6.0                          1.0        24.0  \n",
       "75%                          7.0                          2.0        29.0  \n",
       "max                         19.0                          9.0        56.0  "
      ]
     },
     "execution_count": 47,
     "metadata": {},
     "output_type": "execute_result"
    }
   ],
   "source": [
    "meta.describe().iloc[3:,0:7]"
   ]
  },
  {
   "cell_type": "code",
   "execution_count": 49,
   "metadata": {},
   "outputs": [
    {
     "data": {
      "text/html": [
       "<div>\n",
       "<style scoped>\n",
       "    .dataframe tbody tr th:only-of-type {\n",
       "        vertical-align: middle;\n",
       "    }\n",
       "\n",
       "    .dataframe tbody tr th {\n",
       "        vertical-align: top;\n",
       "    }\n",
       "\n",
       "    .dataframe thead th {\n",
       "        text-align: right;\n",
       "    }\n",
       "</style>\n",
       "<table border=\"1\" class=\"dataframe\">\n",
       "  <thead>\n",
       "    <tr style=\"text-align: right;\">\n",
       "      <th></th>\n",
       "      <th>F2_totsegs1</th>\n",
       "      <th>F2_totsegs4</th>\n",
       "      <th>F2_ccsegs4</th>\n",
       "      <th>F2_MVT_PWR_numberSegments.1</th>\n",
       "      <th>F2_MVT_PWR_numberUsedPwrCoh</th>\n",
       "      <th>F31f_hrsegs1</th>\n",
       "      <th>F31f_totsegs1</th>\n",
       "    </tr>\n",
       "  </thead>\n",
       "  <tbody>\n",
       "    <tr>\n",
       "      <th>min</th>\n",
       "      <td>1.0</td>\n",
       "      <td>1.0</td>\n",
       "      <td>0.0</td>\n",
       "      <td>1.0</td>\n",
       "      <td>0.0</td>\n",
       "      <td>1.0</td>\n",
       "      <td>3.0</td>\n",
       "    </tr>\n",
       "    <tr>\n",
       "      <th>25%</th>\n",
       "      <td>26.0</td>\n",
       "      <td>6.0</td>\n",
       "      <td>0.0</td>\n",
       "      <td>6.0</td>\n",
       "      <td>1.0</td>\n",
       "      <td>5.0</td>\n",
       "      <td>46.0</td>\n",
       "    </tr>\n",
       "    <tr>\n",
       "      <th>50%</th>\n",
       "      <td>30.0</td>\n",
       "      <td>7.0</td>\n",
       "      <td>1.0</td>\n",
       "      <td>7.0</td>\n",
       "      <td>3.0</td>\n",
       "      <td>9.0</td>\n",
       "      <td>50.0</td>\n",
       "    </tr>\n",
       "    <tr>\n",
       "      <th>75%</th>\n",
       "      <td>30.0</td>\n",
       "      <td>7.0</td>\n",
       "      <td>2.0</td>\n",
       "      <td>7.0</td>\n",
       "      <td>4.0</td>\n",
       "      <td>15.0</td>\n",
       "      <td>50.0</td>\n",
       "    </tr>\n",
       "    <tr>\n",
       "      <th>max</th>\n",
       "      <td>72.0</td>\n",
       "      <td>18.0</td>\n",
       "      <td>10.0</td>\n",
       "      <td>18.0</td>\n",
       "      <td>12.0</td>\n",
       "      <td>47.0</td>\n",
       "      <td>79.0</td>\n",
       "    </tr>\n",
       "  </tbody>\n",
       "</table>\n",
       "</div>"
      ],
      "text/plain": [
       "     F2_totsegs1  F2_totsegs4  F2_ccsegs4  F2_MVT_PWR_numberSegments.1  \\\n",
       "min          1.0          1.0         0.0                          1.0   \n",
       "25%         26.0          6.0         0.0                          6.0   \n",
       "50%         30.0          7.0         1.0                          7.0   \n",
       "75%         30.0          7.0         2.0                          7.0   \n",
       "max         72.0         18.0        10.0                         18.0   \n",
       "\n",
       "     F2_MVT_PWR_numberUsedPwrCoh  F31f_hrsegs1  F31f_totsegs1  \n",
       "min                          0.0           1.0            3.0  \n",
       "25%                          1.0           5.0           46.0  \n",
       "50%                          3.0           9.0           50.0  \n",
       "75%                          4.0          15.0           50.0  \n",
       "max                         12.0          47.0           79.0  "
      ]
     },
     "execution_count": 49,
     "metadata": {},
     "output_type": "execute_result"
    }
   ],
   "source": [
    "meta.describe().iloc[3:,7:14]"
   ]
  },
  {
   "cell_type": "code",
   "execution_count": 50,
   "metadata": {},
   "outputs": [
    {
     "data": {
      "text/html": [
       "<div>\n",
       "<style scoped>\n",
       "    .dataframe tbody tr th:only-of-type {\n",
       "        vertical-align: middle;\n",
       "    }\n",
       "\n",
       "    .dataframe tbody tr th {\n",
       "        vertical-align: top;\n",
       "    }\n",
       "\n",
       "    .dataframe thead th {\n",
       "        text-align: right;\n",
       "    }\n",
       "</style>\n",
       "<table border=\"1\" class=\"dataframe\">\n",
       "  <thead>\n",
       "    <tr style=\"text-align: right;\">\n",
       "      <th></th>\n",
       "      <th>F32f_hrsegs1</th>\n",
       "      <th>F32f_totsegs1</th>\n",
       "      <th>F3_totsegs4</th>\n",
       "      <th>F3_ccsegs4</th>\n",
       "      <th>F3_MVT_PWR_numberSegments.1</th>\n",
       "      <th>F3_MVT_PWR_numberUsedPwrCoh</th>\n",
       "    </tr>\n",
       "  </thead>\n",
       "  <tbody>\n",
       "    <tr>\n",
       "      <th>min</th>\n",
       "      <td>1.0</td>\n",
       "      <td>2.0</td>\n",
       "      <td>1.0</td>\n",
       "      <td>0.0</td>\n",
       "      <td>1.0</td>\n",
       "      <td>0.0</td>\n",
       "    </tr>\n",
       "    <tr>\n",
       "      <th>25%</th>\n",
       "      <td>19.0</td>\n",
       "      <td>43.0</td>\n",
       "      <td>11.0</td>\n",
       "      <td>2.0</td>\n",
       "      <td>11.0</td>\n",
       "      <td>4.0</td>\n",
       "    </tr>\n",
       "    <tr>\n",
       "      <th>50%</th>\n",
       "      <td>29.0</td>\n",
       "      <td>49.0</td>\n",
       "      <td>12.0</td>\n",
       "      <td>4.0</td>\n",
       "      <td>12.0</td>\n",
       "      <td>6.0</td>\n",
       "    </tr>\n",
       "    <tr>\n",
       "      <th>75%</th>\n",
       "      <td>37.0</td>\n",
       "      <td>50.0</td>\n",
       "      <td>12.0</td>\n",
       "      <td>5.0</td>\n",
       "      <td>12.0</td>\n",
       "      <td>8.0</td>\n",
       "    </tr>\n",
       "    <tr>\n",
       "      <th>max</th>\n",
       "      <td>53.0</td>\n",
       "      <td>81.0</td>\n",
       "      <td>20.0</td>\n",
       "      <td>13.0</td>\n",
       "      <td>20.0</td>\n",
       "      <td>16.0</td>\n",
       "    </tr>\n",
       "  </tbody>\n",
       "</table>\n",
       "</div>"
      ],
      "text/plain": [
       "     F32f_hrsegs1  F32f_totsegs1  F3_totsegs4  F3_ccsegs4  \\\n",
       "min           1.0            2.0          1.0         0.0   \n",
       "25%          19.0           43.0         11.0         2.0   \n",
       "50%          29.0           49.0         12.0         4.0   \n",
       "75%          37.0           50.0         12.0         5.0   \n",
       "max          53.0           81.0         20.0        13.0   \n",
       "\n",
       "     F3_MVT_PWR_numberSegments.1  F3_MVT_PWR_numberUsedPwrCoh  \n",
       "min                          1.0                          0.0  \n",
       "25%                         11.0                          4.0  \n",
       "50%                         12.0                          6.0  \n",
       "75%                         12.0                          8.0  \n",
       "max                         20.0                         16.0  "
      ]
     },
     "execution_count": 50,
     "metadata": {},
     "output_type": "execute_result"
    }
   ],
   "source": [
    "meta.describe().iloc[3:,14:]"
   ]
  },
  {
   "cell_type": "code",
   "execution_count": 54,
   "metadata": {},
   "outputs": [
    {
     "data": {
      "image/png": "[encoded data removed]",
      "text/plain": [
       "<Figure size 1080x1080 with 20 Axes>"
      ]
     },
     "metadata": {
      "needs_background": "light"
     },
     "output_type": "display_data"
    }
   ],
   "source": [
    "meta.hist(figsize=(15,15));"
   ]
  },
  {
   "cell_type": "markdown",
   "metadata": {},
   "source": [
    "# BISH Data\n",
    "\n",
    "Udi specifically used the BISH data file to define his new target variable, `time_left`.  Basically,\n",
    "he noticed that F3 data was best populated (~75% of the population), so it seems he wanted to \n",
    "define a target that may lead to success...  To use this data, he kept only those patients\n",
    "who had BISH records w/ GA > 34 weeks, which basically means he was no longer attempting to\n",
    "predict pre-term births so much...  \n",
    "\n",
    "The BISH file is a disaster though, and one of the ways this disaster manifests is GAs\n",
    "that go well beyond 40 weeks.  Udi noticed this too, evidenced by throwing out any\n",
    "`time_left` instances that were negative (in other words, the BISH file's GA for the\n",
    "F3 measurment was somehow greater than the GA at birth quoted in another data table).\n",
    "\n",
    "The disaster that is the BISH file goes beyond this though.  For example, in the file, there\n",
    "include \"filename\" variables, which a strings incorporating the site (BISH), the patient ID,\n",
    "the cycle ID, and so on.  Cycle IDs 10, 15, and 20 are basically supposed to correspond with\n",
    "F1, F2, and F3, respectively.  However, \n",
    "* the GA generally extends outside the definitions (F1: 20-24wks, F2: 28-32wks, F3: 34+wks)\n",
    "    - this could make sense in that the tests can be scheduled at 25 wks or 29 wks, in \n",
    "      which case you might think they just get labeled with the cycle ID that makes most sense; however,\n",
    "      things get messier\n",
    "* in the BISH file, cycle ID and Fx definitions do not strictly coincide\n",
    "    - you will notice CID 10, 15, and 20 have GAs ranging over 18-38 wks\n",
    "\n",
    "In the `CID-Fx Discrepancy` section below, you will find that \n",
    "* CID 10 has values less than 20 weeks and more than 30 weeks\n",
    "* CID 20 has at least 60 values that are less than 34 weeks (than values going up to ~48 weeks)\n",
    "* CID 15 is the worst:  most of its values (~75%) are less than 24 weeks (28 weeks is the supposed \n",
    "  starting point of F2)\n",
    "  \n",
    "<b id=\"redcell\">This makes CID a useless way of ordering by time.</b>\n",
    "\n",
    "If we were to use the BISH file, we would want to instead make a new system that\n",
    "ordered test times into chunks... Kind of like Fx nomenclature does, but a little\n",
    "more lenient (e.g., G1: 16-24wks, G2:25-33wks, G3:34+wks).  \n",
    "\n",
    "**HOWEVER, my 2 cents**:  since both TOI and MON data seem to have associated Fx labels\n",
    "of some sort (either in the variable name or in an associated column), let's just stick\n",
    "to the Fx nomenclature and trust that these files were put together ok...  BUT\n",
    "ONLY FOR THE TIME BEING.  If this project is to continue, we need to get a better understanding\n",
    "of these discrepancies and inconsistencies...  It's possible Udi/Carlos did not understand the\n",
    "CID and Fx nomenclature correctly............................\n",
    "\n",
    "### More on Misunderstanding BISH\n",
    "Do we have any documentation about the BISH file anyway?  It's not clear to me what the \n",
    "file even has in it...\n",
    "\n",
    "**Some patients have only 1 records**, which is understandable: my interpretation is that they did sensor tests on one occasion, either during F1, F2, or F3. \n",
    "\n",
    "**Other patients have 2 or 3 records**, which again is pretty understandable: they have sensor measurements during multiple Fx periods. \n",
    "\n",
    "**But some patients have 4-5 records** in the BISH file -- **WHY?** Were they really tested on this many occasions?\n",
    "\n",
    "These questions led me to realize that I do not understand the BISH file. For example, maybe 5 records means that a patient recorded MON data on 2 occasions and TOI data on 3 other occasions. Maybe one record means they got both MON and TOI testing on the same occasion. But maybe not. There does not seem to be any indication in the BISH file. To really understand more about the patients, we would have to do a lot of exploratory querying that we don't exactly have time for..."
   ]
  },
  {
   "cell_type": "markdown",
   "metadata": {},
   "source": [
    "### BISH Twins (Remove 'em!)"
   ]
  },
  {
   "cell_type": "code",
   "execution_count": 217,
   "metadata": {},
   "outputs": [
    {
     "data": {
      "text/plain": [
       "Index(['S002-BISH-04355', 'S002-BISH-04582', 'S002-BISH-05089'], dtype='object', name='patid')"
      ]
     },
     "execution_count": 217,
     "metadata": {},
     "output_type": "execute_result"
    }
   ],
   "source": [
    "# Show Twin IDs to compare w/ duplicated TOI PATIDs\n",
    "#   TOI Dup1: S002-BISH-04030 - not listed as a twin in BISH\n",
    "#   TOI Dup2: S002-BISH-04033 - not listed as a twin in BISH\n",
    "bish = pd.read_csv('../data/raw/BISH FETAL GA ASSESSMENT_DB.csv')\n",
    "bish.columns = map(lambda x: '_'.join(x.lower().split(' ')).replace('.','_'), bish.columns)\n",
    "bish.set_index('patid', inplace=True)\n",
    "twins = bish.query('number_of_fetuses > 1').index.unique()\n",
    "twins"
   ]
  },
  {
   "cell_type": "code",
   "execution_count": 252,
   "metadata": {},
   "outputs": [],
   "source": [
    "# Ingestion code (thus far)\n",
    "bish = pd.read_csv('../data/raw/BISH FETAL GA ASSESSMENT_DB.csv')\n",
    "bish.columns = map(lambda x: '_'.join(x.lower().split(' ')).replace('.','_'), bish.columns)\n",
    "bish.set_index('patid', inplace=True)\n",
    "bish = bish.query('number_of_fetuses == 1').drop('number_of_fetuses', axis=1)\n",
    "bish['cid'] = bish[['final_file_name']].applymap(lambda x: float(x.split('-')[-1].split('.')[0]) if type(x)==str else x)\n",
    "bish['cid1'] = bish[['final_file_name_1']].applymap(lambda x: float(x.split('-')[-1]) if type(x)==str else x)"
   ]
  },
  {
   "cell_type": "markdown",
   "metadata": {},
   "source": [
    "### Some BISH Basics (Cols, Shape, Head, etc)"
   ]
  },
  {
   "cell_type": "code",
   "execution_count": 253,
   "metadata": {},
   "outputs": [
    {
     "data": {
      "text/plain": [
       "Index(['box_number', 'original_file_name', 'final_file_name',\n",
       "       'final_file_name_1', 'ga_in_days', 'cid', 'cid1'],\n",
       "      dtype='object')"
      ]
     },
     "execution_count": 253,
     "metadata": {},
     "output_type": "execute_result"
    }
   ],
   "source": [
    "bish.columns"
   ]
  },
  {
   "cell_type": "code",
   "execution_count": 254,
   "metadata": {},
   "outputs": [
    {
     "data": {
      "text/plain": [
       "(12379, 7)"
      ]
     },
     "execution_count": 254,
     "metadata": {},
     "output_type": "execute_result"
    }
   ],
   "source": [
    "bish.shape"
   ]
  },
  {
   "cell_type": "code",
   "execution_count": 256,
   "metadata": {},
   "outputs": [
    {
     "data": {
      "text/html": [
       "<div>\n",
       "<style scoped>\n",
       "    .dataframe tbody tr th:only-of-type {\n",
       "        vertical-align: middle;\n",
       "    }\n",
       "\n",
       "    .dataframe tbody tr th {\n",
       "        vertical-align: top;\n",
       "    }\n",
       "\n",
       "    .dataframe thead th {\n",
       "        text-align: right;\n",
       "    }\n",
       "</style>\n",
       "<table border=\"1\" class=\"dataframe\">\n",
       "  <thead>\n",
       "    <tr style=\"text-align: right;\">\n",
       "      <th></th>\n",
       "      <th>box_number</th>\n",
       "      <th>original_file_name</th>\n",
       "      <th>final_file_name</th>\n",
       "      <th>final_file_name_1</th>\n",
       "      <th>ga_in_days</th>\n",
       "      <th>cid</th>\n",
       "      <th>cid1</th>\n",
       "    </tr>\n",
       "    <tr>\n",
       "      <th>patid</th>\n",
       "      <th></th>\n",
       "      <th></th>\n",
       "      <th></th>\n",
       "      <th></th>\n",
       "      <th></th>\n",
       "      <th></th>\n",
       "      <th></th>\n",
       "    </tr>\n",
       "  </thead>\n",
       "  <tbody>\n",
       "    <tr>\n",
       "      <th>S002-BISH-00001</th>\n",
       "      <td>2007-04</td>\n",
       "      <td>S002-BISH-00001-2007-04.physio</td>\n",
       "      <td>S002-BISH-00001-T010-10.physio</td>\n",
       "      <td>S002-BISH-00001-T010-10</td>\n",
       "      <td>150</td>\n",
       "      <td>10.0</td>\n",
       "      <td>10.0</td>\n",
       "    </tr>\n",
       "    <tr>\n",
       "      <th>S002-BISH-00001</th>\n",
       "      <td>2007-04</td>\n",
       "      <td>11-22-s002-bish-00001-2007-04.physio</td>\n",
       "      <td>S002-BISH-00001-T010-15.physio</td>\n",
       "      <td>S002-BISH-00001-T010-15</td>\n",
       "      <td>202</td>\n",
       "      <td>15.0</td>\n",
       "      <td>15.0</td>\n",
       "    </tr>\n",
       "    <tr>\n",
       "      <th>S002-BISH-00002</th>\n",
       "      <td>2007-04</td>\n",
       "      <td>S002-BISH-00002-2007-04.physio</td>\n",
       "      <td>S002-BISH-00002-T010-10.physio</td>\n",
       "      <td>S002-BISH-00002-T010-10</td>\n",
       "      <td>167</td>\n",
       "      <td>10.0</td>\n",
       "      <td>10.0</td>\n",
       "    </tr>\n",
       "    <tr>\n",
       "      <th>S002-BISH-00002</th>\n",
       "      <td>2007-05</td>\n",
       "      <td>10-24-s002-bish-00002-2007-05.physio</td>\n",
       "      <td>S002-BISH-00002-T010-20.physio</td>\n",
       "      <td>S002-BISH-00002-T010-20</td>\n",
       "      <td>242</td>\n",
       "      <td>20.0</td>\n",
       "      <td>20.0</td>\n",
       "    </tr>\n",
       "    <tr>\n",
       "      <th>S002-BISH-00003</th>\n",
       "      <td>2007-04</td>\n",
       "      <td>11-01-s002-bish-00003-2007-04.physio</td>\n",
       "      <td>S002-BISH-00003-T010-20.physio</td>\n",
       "      <td>S002-BISH-00003-T010-20</td>\n",
       "      <td>246</td>\n",
       "      <td>20.0</td>\n",
       "      <td>20.0</td>\n",
       "    </tr>\n",
       "  </tbody>\n",
       "</table>\n",
       "</div>"
      ],
      "text/plain": [
       "                box_number                    original_file_name  \\\n",
       "patid                                                              \n",
       "S002-BISH-00001    2007-04        S002-BISH-00001-2007-04.physio   \n",
       "S002-BISH-00001    2007-04  11-22-s002-bish-00001-2007-04.physio   \n",
       "S002-BISH-00002    2007-04        S002-BISH-00002-2007-04.physio   \n",
       "S002-BISH-00002    2007-05  10-24-s002-bish-00002-2007-05.physio   \n",
       "S002-BISH-00003    2007-04  11-01-s002-bish-00003-2007-04.physio   \n",
       "\n",
       "                                final_file_name        final_file_name_1  \\\n",
       "patid                                                                      \n",
       "S002-BISH-00001  S002-BISH-00001-T010-10.physio  S002-BISH-00001-T010-10   \n",
       "S002-BISH-00001  S002-BISH-00001-T010-15.physio  S002-BISH-00001-T010-15   \n",
       "S002-BISH-00002  S002-BISH-00002-T010-10.physio  S002-BISH-00002-T010-10   \n",
       "S002-BISH-00002  S002-BISH-00002-T010-20.physio  S002-BISH-00002-T010-20   \n",
       "S002-BISH-00003  S002-BISH-00003-T010-20.physio  S002-BISH-00003-T010-20   \n",
       "\n",
       "                 ga_in_days   cid  cid1  \n",
       "patid                                    \n",
       "S002-BISH-00001         150  10.0  10.0  \n",
       "S002-BISH-00001         202  15.0  15.0  \n",
       "S002-BISH-00002         167  10.0  10.0  \n",
       "S002-BISH-00002         242  20.0  20.0  \n",
       "S002-BISH-00003         246  20.0  20.0  "
      ]
     },
     "execution_count": 256,
     "metadata": {},
     "output_type": "execute_result"
    }
   ],
   "source": [
    "bish.head()"
   ]
  },
  {
   "cell_type": "code",
   "execution_count": 349,
   "metadata": {},
   "outputs": [
    {
     "name": "stdout",
     "output_type": "stream",
     "text": [
      "95\n"
     ]
    },
    {
     "data": {
      "text/html": [
       "<div>\n",
       "<style scoped>\n",
       "    .dataframe tbody tr th:only-of-type {\n",
       "        vertical-align: middle;\n",
       "    }\n",
       "\n",
       "    .dataframe tbody tr th {\n",
       "        vertical-align: top;\n",
       "    }\n",
       "\n",
       "    .dataframe thead th {\n",
       "        text-align: right;\n",
       "    }\n",
       "</style>\n",
       "<table border=\"1\" class=\"dataframe\">\n",
       "  <thead>\n",
       "    <tr style=\"text-align: right;\">\n",
       "      <th></th>\n",
       "      <th>box_number</th>\n",
       "      <th>original_file_name</th>\n",
       "      <th>final_file_name</th>\n",
       "      <th>final_file_name_1</th>\n",
       "      <th>ga_in_days</th>\n",
       "      <th>cid</th>\n",
       "      <th>cid1</th>\n",
       "    </tr>\n",
       "    <tr>\n",
       "      <th>patid</th>\n",
       "      <th></th>\n",
       "      <th></th>\n",
       "      <th></th>\n",
       "      <th></th>\n",
       "      <th></th>\n",
       "      <th></th>\n",
       "      <th></th>\n",
       "    </tr>\n",
       "  </thead>\n",
       "  <tbody>\n",
       "    <tr>\n",
       "      <th>S002-BISH-00072</th>\n",
       "      <td>NaN</td>\n",
       "      <td>NaN</td>\n",
       "      <td>NaN</td>\n",
       "      <td>NaN</td>\n",
       "      <td>155</td>\n",
       "      <td>NaN</td>\n",
       "      <td>NaN</td>\n",
       "    </tr>\n",
       "    <tr>\n",
       "      <th>S002-BISH-00207</th>\n",
       "      <td>NaN</td>\n",
       "      <td>NaN</td>\n",
       "      <td>NaN</td>\n",
       "      <td>NaN</td>\n",
       "      <td>202</td>\n",
       "      <td>NaN</td>\n",
       "      <td>NaN</td>\n",
       "    </tr>\n",
       "    <tr>\n",
       "      <th>S002-BISH-00230</th>\n",
       "      <td>NaN</td>\n",
       "      <td>NaN</td>\n",
       "      <td>NaN</td>\n",
       "      <td>NaN</td>\n",
       "      <td>246</td>\n",
       "      <td>NaN</td>\n",
       "      <td>NaN</td>\n",
       "    </tr>\n",
       "    <tr>\n",
       "      <th>S002-BISH-00303</th>\n",
       "      <td>NaN</td>\n",
       "      <td>NaN</td>\n",
       "      <td>NaN</td>\n",
       "      <td>NaN</td>\n",
       "      <td>162</td>\n",
       "      <td>NaN</td>\n",
       "      <td>NaN</td>\n",
       "    </tr>\n",
       "    <tr>\n",
       "      <th>S002-BISH-00315</th>\n",
       "      <td>NaN</td>\n",
       "      <td>NaN</td>\n",
       "      <td>NaN</td>\n",
       "      <td>NaN</td>\n",
       "      <td>159</td>\n",
       "      <td>NaN</td>\n",
       "      <td>NaN</td>\n",
       "    </tr>\n",
       "  </tbody>\n",
       "</table>\n",
       "</div>"
      ],
      "text/plain": [
       "                box_number original_file_name final_file_name  \\\n",
       "patid                                                           \n",
       "S002-BISH-00072        NaN                NaN             NaN   \n",
       "S002-BISH-00207        NaN                NaN             NaN   \n",
       "S002-BISH-00230        NaN                NaN             NaN   \n",
       "S002-BISH-00303        NaN                NaN             NaN   \n",
       "S002-BISH-00315        NaN                NaN             NaN   \n",
       "\n",
       "                final_file_name_1  ga_in_days  cid  cid1  \n",
       "patid                                                     \n",
       "S002-BISH-00072               NaN         155  NaN   NaN  \n",
       "S002-BISH-00207               NaN         202  NaN   NaN  \n",
       "S002-BISH-00230               NaN         246  NaN   NaN  \n",
       "S002-BISH-00303               NaN         162  NaN   NaN  \n",
       "S002-BISH-00315               NaN         159  NaN   NaN  "
      ]
     },
     "execution_count": 349,
     "metadata": {},
     "output_type": "execute_result"
    }
   ],
   "source": [
    "print(bish.query('cid != cid1').__len__())\n",
    "bish.query('cid != cid1').head()"
   ]
  },
  {
   "cell_type": "code",
   "execution_count": 350,
   "metadata": {},
   "outputs": [
    {
     "data": {
      "text/html": [
       "<div>\n",
       "<style scoped>\n",
       "    .dataframe tbody tr th:only-of-type {\n",
       "        vertical-align: middle;\n",
       "    }\n",
       "\n",
       "    .dataframe tbody tr th {\n",
       "        vertical-align: top;\n",
       "    }\n",
       "\n",
       "    .dataframe thead th {\n",
       "        text-align: right;\n",
       "    }\n",
       "</style>\n",
       "<table border=\"1\" class=\"dataframe\">\n",
       "  <thead>\n",
       "    <tr style=\"text-align: right;\">\n",
       "      <th></th>\n",
       "      <th>cnt</th>\n",
       "    </tr>\n",
       "    <tr>\n",
       "      <th>patid</th>\n",
       "      <th></th>\n",
       "    </tr>\n",
       "  </thead>\n",
       "  <tbody>\n",
       "    <tr>\n",
       "      <th>S002-BISH-00009</th>\n",
       "      <td>3</td>\n",
       "    </tr>\n",
       "    <tr>\n",
       "      <th>S002-BISH-00015</th>\n",
       "      <td>3</td>\n",
       "    </tr>\n",
       "    <tr>\n",
       "      <th>S002-BISH-00017</th>\n",
       "      <td>3</td>\n",
       "    </tr>\n",
       "    <tr>\n",
       "      <th>S002-BISH-00022</th>\n",
       "      <td>3</td>\n",
       "    </tr>\n",
       "    <tr>\n",
       "      <th>S002-BISH-00026</th>\n",
       "      <td>3</td>\n",
       "    </tr>\n",
       "  </tbody>\n",
       "</table>\n",
       "</div>"
      ],
      "text/plain": [
       "                 cnt\n",
       "patid               \n",
       "S002-BISH-00009    3\n",
       "S002-BISH-00015    3\n",
       "S002-BISH-00017    3\n",
       "S002-BISH-00022    3\n",
       "S002-BISH-00026    3"
      ]
     },
     "execution_count": 350,
     "metadata": {},
     "output_type": "execute_result"
    }
   ],
   "source": [
    "bish.reset_index().groupby('patid')['patid'].count().to_frame('cnt').query('cnt > 2').head()"
   ]
  },
  {
   "cell_type": "markdown",
   "metadata": {},
   "source": [
    "<font color=red size=10 style=\"font-weight:bold\"> The CID-Fx Discrepancy!</font>"
   ]
  },
  {
   "cell_type": "code",
   "execution_count": 396,
   "metadata": {},
   "outputs": [
    {
     "data": {
      "text/html": [
       "<div>\n",
       "<style scoped>\n",
       "    .dataframe tbody tr th:only-of-type {\n",
       "        vertical-align: middle;\n",
       "    }\n",
       "\n",
       "    .dataframe tbody tr th {\n",
       "        vertical-align: top;\n",
       "    }\n",
       "\n",
       "    .dataframe thead th {\n",
       "        text-align: right;\n",
       "    }\n",
       "</style>\n",
       "<table border=\"1\" class=\"dataframe\">\n",
       "  <thead>\n",
       "    <tr style=\"text-align: right;\">\n",
       "      <th></th>\n",
       "      <th>ga_in_days</th>\n",
       "    </tr>\n",
       "  </thead>\n",
       "  <tbody>\n",
       "    <tr>\n",
       "      <th>min</th>\n",
       "      <td>16.571429</td>\n",
       "    </tr>\n",
       "    <tr>\n",
       "      <th>25%</th>\n",
       "      <td>22.000000</td>\n",
       "    </tr>\n",
       "    <tr>\n",
       "      <th>50%</th>\n",
       "      <td>22.571429</td>\n",
       "    </tr>\n",
       "    <tr>\n",
       "      <th>75%</th>\n",
       "      <td>23.142857</td>\n",
       "    </tr>\n",
       "    <tr>\n",
       "      <th>max</th>\n",
       "      <td>32.428571</td>\n",
       "    </tr>\n",
       "  </tbody>\n",
       "</table>\n",
       "</div>"
      ],
      "text/plain": [
       "     ga_in_days\n",
       "min   16.571429\n",
       "25%   22.000000\n",
       "50%   22.571429\n",
       "75%   23.142857\n",
       "max   32.428571"
      ]
     },
     "execution_count": 396,
     "metadata": {},
     "output_type": "execute_result"
    },
    {
     "data": {
      "image/png": "[encoded data removed]",
      "text/plain": [
       "<Figure size 1080x360 with 2 Axes>"
      ]
     },
     "metadata": {
      "needs_background": "light"
     },
     "output_type": "display_data"
    }
   ],
   "source": [
    "plt.figure(figsize=(15,5))\n",
    "plt.subplot(1,2,1)\n",
    "bish.query('cid == 10').ga_in_days.map(lambda x: x/7).hist(bins=30);\n",
    "plt.title('GA in Weeks for CID 10');\n",
    "ax = plt.subplot(1,2,2)\n",
    "ax.axis('off')\n",
    "ax.text(0.1, 0.8, 'CID 10: 20-24wks (?!)', style='italic',\n",
    "        bbox={'facecolor': 'red', 'alpha': 0.5, 'pad': 10});\n",
    "ax.text(0.1, 0.6, 'Close... But...', style='italic',\n",
    "        bbox={'facecolor': 'blue', 'alpha': 0.5, 'pad': 10});\n",
    "ax.text(0.1, 0.4, 'Some are < 20', style='italic',\n",
    "        bbox={'facecolor': 'green', 'alpha': 0.5, 'pad': 10});\n",
    "ax.text(0.1, 0.2, 'Some are > 30', style='italic',\n",
    "        bbox={'facecolor': 'red', 'alpha': 0.7, 'pad': 10});\n",
    "\n",
    "bish.query('cid == 10').ga_in_days.map(lambda x: x/7).to_frame().describe()[3:]\n"
   ]
  },
  {
   "cell_type": "code",
   "execution_count": 395,
   "metadata": {},
   "outputs": [
    {
     "data": {
      "text/html": [
       "<div>\n",
       "<style scoped>\n",
       "    .dataframe tbody tr th:only-of-type {\n",
       "        vertical-align: middle;\n",
       "    }\n",
       "\n",
       "    .dataframe tbody tr th {\n",
       "        vertical-align: top;\n",
       "    }\n",
       "\n",
       "    .dataframe thead th {\n",
       "        text-align: right;\n",
       "    }\n",
       "</style>\n",
       "<table border=\"1\" class=\"dataframe\">\n",
       "  <thead>\n",
       "    <tr style=\"text-align: right;\">\n",
       "      <th></th>\n",
       "      <th>ga_in_days</th>\n",
       "    </tr>\n",
       "  </thead>\n",
       "  <tbody>\n",
       "    <tr>\n",
       "      <th>min</th>\n",
       "      <td>24.571429</td>\n",
       "    </tr>\n",
       "    <tr>\n",
       "      <th>25%</th>\n",
       "      <td>28.285714</td>\n",
       "    </tr>\n",
       "    <tr>\n",
       "      <th>50%</th>\n",
       "      <td>28.857143</td>\n",
       "    </tr>\n",
       "    <tr>\n",
       "      <th>75%</th>\n",
       "      <td>29.714286</td>\n",
       "    </tr>\n",
       "    <tr>\n",
       "      <th>max</th>\n",
       "      <td>40.571429</td>\n",
       "    </tr>\n",
       "  </tbody>\n",
       "</table>\n",
       "</div>"
      ],
      "text/plain": [
       "     ga_in_days\n",
       "min   24.571429\n",
       "25%   28.285714\n",
       "50%   28.857143\n",
       "75%   29.714286\n",
       "max   40.571429"
      ]
     },
     "execution_count": 395,
     "metadata": {},
     "output_type": "execute_result"
    },
    {
     "data": {
      "image/png": "[encoded data removed]",
      "text/plain": [
       "<Figure size 1080x360 with 2 Axes>"
      ]
     },
     "metadata": {
      "needs_background": "light"
     },
     "output_type": "display_data"
    }
   ],
   "source": [
    "plt.figure(figsize=(15,5))\n",
    "plt.subplot(1,2,1)\n",
    "bish.query('cid == 15').ga_in_days.map(lambda x: x/7).hist(bins=30);\n",
    "plt.title('GA in Weeks for CID 15');\n",
    "ax = plt.subplot(1,2,2)\n",
    "ax.axis('off')\n",
    "ax.text(0.1, 0.8, 'CID 15: 28-32wks (?!)', style='italic',\n",
    "        bbox={'facecolor': 'red', 'alpha': 0.5, 'pad': 10});\n",
    "ax.text(0.1, 0.6, 'Not even close...', style='italic',\n",
    "        bbox={'facecolor': 'green', 'alpha': 0.5, 'pad': 10});\n",
    "ax.text(0.1, 0.4, 'Over 75% < 24', style='italic',\n",
    "        bbox={'facecolor': 'red', 'alpha': 0.7, 'pad': 10});\n",
    "\n",
    "bish.query('cid == 15').ga_in_days.map(lambda x: x/7).to_frame().describe()[3:]"
   ]
  },
  {
   "cell_type": "code",
   "execution_count": 415,
   "metadata": {},
   "outputs": [
    {
     "name": "stdout",
     "output_type": "stream",
     "text": [
      "First 60 rounded values: [21. 28. 30. 31. 32. 33.]\n"
     ]
    },
    {
     "data": {
      "text/html": [
       "<div>\n",
       "<style scoped>\n",
       "    .dataframe tbody tr th:only-of-type {\n",
       "        vertical-align: middle;\n",
       "    }\n",
       "\n",
       "    .dataframe tbody tr th {\n",
       "        vertical-align: top;\n",
       "    }\n",
       "\n",
       "    .dataframe thead th {\n",
       "        text-align: right;\n",
       "    }\n",
       "</style>\n",
       "<table border=\"1\" class=\"dataframe\">\n",
       "  <thead>\n",
       "    <tr style=\"text-align: right;\">\n",
       "      <th></th>\n",
       "      <th>ga_in_days</th>\n",
       "    </tr>\n",
       "  </thead>\n",
       "  <tbody>\n",
       "    <tr>\n",
       "      <th>min</th>\n",
       "      <td>20.714286</td>\n",
       "    </tr>\n",
       "    <tr>\n",
       "      <th>25%</th>\n",
       "      <td>34.142857</td>\n",
       "    </tr>\n",
       "    <tr>\n",
       "      <th>50%</th>\n",
       "      <td>34.571429</td>\n",
       "    </tr>\n",
       "    <tr>\n",
       "      <th>75%</th>\n",
       "      <td>35.285714</td>\n",
       "    </tr>\n",
       "    <tr>\n",
       "      <th>max</th>\n",
       "      <td>48.428571</td>\n",
       "    </tr>\n",
       "  </tbody>\n",
       "</table>\n",
       "</div>"
      ],
      "text/plain": [
       "     ga_in_days\n",
       "min   20.714286\n",
       "25%   34.142857\n",
       "50%   34.571429\n",
       "75%   35.285714\n",
       "max   48.428571"
      ]
     },
     "execution_count": 415,
     "metadata": {},
     "output_type": "execute_result"
    },
    {
     "data": {
      "image/png": "[encoded data removed]",
      "text/plain": [
       "<Figure size 1080x360 with 2 Axes>"
      ]
     },
     "metadata": {
      "needs_background": "light"
     },
     "output_type": "display_data"
    }
   ],
   "source": [
    "plt.figure(figsize=(15,5))\n",
    "plt.subplot(1,2,1)\n",
    "bish.query('cid == 20').ga_in_days.map(lambda x: x/7).hist(bins=30);\n",
    "plt.title('GA in Weeks for CID 20');\n",
    "ax = plt.subplot(1,2,2)\n",
    "ax.axis('off')\n",
    "ax.text(0.1, 0.8, 'CID 20: 34+ wks (?!)', style='italic',\n",
    "        bbox={'facecolor': 'red', 'alpha': 0.5, 'pad': 10});\n",
    "ax.text(0.1, 0.6, 'Close, but...', style='italic',\n",
    "        bbox={'facecolor': 'green', 'alpha': 0.5, 'pad': 10});\n",
    "ax.text(0.1, 0.4, 'Over 60 values < 34', style='italic',\n",
    "        bbox={'facecolor': 'red', 'alpha': 0.7, 'pad': 10});\n",
    "\n",
    "bq = bish.query('cid == 20').ga_in_days.map(lambda x: x/7).to_frame()\n",
    "print('First 60 rounded values:',np.unique(bq.sort_values('ga_in_days').ga_in_days.values[:60].round()))\n",
    "bq.describe()[3:]"
   ]
  },
  {
   "cell_type": "code",
   "execution_count": null,
   "metadata": {},
   "outputs": [],
   "source": []
  },
  {
   "cell_type": "code",
   "execution_count": null,
   "metadata": {},
   "outputs": [],
   "source": []
  },
  {
   "cell_type": "code",
   "execution_count": null,
   "metadata": {},
   "outputs": [],
   "source": []
  },
  {
   "cell_type": "markdown",
   "metadata": {},
   "source": [
    "Ok, so basically, what we want to do is choose a cutoff...\n",
    "\n",
    "For 32wk preterm, we want the cutoff around 220.  For 28wk, around 190.  \n",
    "\n",
    "Given cutoff, look in Bish file for any patients that have measurements greater\n",
    "than the cut off...  These patients should have CENSORED F3 data...\n",
    "\n"
   ]
  },
  {
   "cell_type": "code",
   "execution_count": 143,
   "metadata": {},
   "outputs": [
    {
     "data": {
      "text/plain": [
       "min    20.714286\n",
       "25%    34.142857\n",
       "50%    34.571429\n",
       "75%    35.285714\n",
       "max    48.428571\n",
       "Name: ga_in_days, dtype: float64"
      ]
     },
     "execution_count": 143,
     "metadata": {},
     "output_type": "execute_result"
    }
   ],
   "source": [
    "bish.query('cid==20').ga_in_days.describe()[3:]/7"
   ]
  },
  {
   "cell_type": "code",
   "execution_count": 149,
   "metadata": {},
   "outputs": [
    {
     "data": {
      "text/plain": [
       "<matplotlib.axes._subplots.AxesSubplot at 0x12cdd92b0>"
      ]
     },
     "execution_count": 149,
     "metadata": {},
     "output_type": "execute_result"
    },
    {
     "data": {
      "image/png": "[encoded data removed]",
      "text/plain": [
       "<Figure size 432x288 with 1 Axes>"
      ]
     },
     "metadata": {
      "needs_background": "light"
     },
     "output_type": "display_data"
    }
   ],
   "source": [
    "bish.query('cid==20').ga_in_days.map(lambda x: round(x/7)).hist(bins=20)"
   ]
  },
  {
   "cell_type": "markdown",
   "metadata": {},
   "source": [
    "## Does BISH file contain any info about MON vs TOI sessions?"
   ]
  },
  {
   "cell_type": "code",
   "execution_count": 435,
   "metadata": {},
   "outputs": [
    {
     "data": {
      "text/html": [
       "<div>\n",
       "<style scoped>\n",
       "    .dataframe tbody tr th:only-of-type {\n",
       "        vertical-align: middle;\n",
       "    }\n",
       "\n",
       "    .dataframe tbody tr th {\n",
       "        vertical-align: top;\n",
       "    }\n",
       "\n",
       "    .dataframe thead th {\n",
       "        text-align: right;\n",
       "    }\n",
       "</style>\n",
       "<table border=\"1\" class=\"dataframe\">\n",
       "  <thead>\n",
       "    <tr style=\"text-align: right;\">\n",
       "      <th></th>\n",
       "      <th>box_number</th>\n",
       "      <th>original_file_name</th>\n",
       "      <th>final_file_name</th>\n",
       "      <th>final_file_name_1</th>\n",
       "      <th>ga_in_days</th>\n",
       "      <th>cid</th>\n",
       "      <th>cid1</th>\n",
       "    </tr>\n",
       "    <tr>\n",
       "      <th>patid</th>\n",
       "      <th></th>\n",
       "      <th></th>\n",
       "      <th></th>\n",
       "      <th></th>\n",
       "      <th></th>\n",
       "      <th></th>\n",
       "      <th></th>\n",
       "    </tr>\n",
       "  </thead>\n",
       "  <tbody>\n",
       "    <tr>\n",
       "      <th>S002-BISH-00001</th>\n",
       "      <td>2007-04</td>\n",
       "      <td>S002-BISH-00001-2007-04.physio</td>\n",
       "      <td>S002-BISH-00001-T010-10.physio</td>\n",
       "      <td>S002-BISH-00001-T010-10</td>\n",
       "      <td>150</td>\n",
       "      <td>10.0</td>\n",
       "      <td>10.0</td>\n",
       "    </tr>\n",
       "    <tr>\n",
       "      <th>S002-BISH-00001</th>\n",
       "      <td>2007-04</td>\n",
       "      <td>11-22-s002-bish-00001-2007-04.physio</td>\n",
       "      <td>S002-BISH-00001-T010-15.physio</td>\n",
       "      <td>S002-BISH-00001-T010-15</td>\n",
       "      <td>202</td>\n",
       "      <td>15.0</td>\n",
       "      <td>15.0</td>\n",
       "    </tr>\n",
       "  </tbody>\n",
       "</table>\n",
       "</div>"
      ],
      "text/plain": [
       "                box_number                    original_file_name  \\\n",
       "patid                                                              \n",
       "S002-BISH-00001    2007-04        S002-BISH-00001-2007-04.physio   \n",
       "S002-BISH-00001    2007-04  11-22-s002-bish-00001-2007-04.physio   \n",
       "\n",
       "                                final_file_name        final_file_name_1  \\\n",
       "patid                                                                      \n",
       "S002-BISH-00001  S002-BISH-00001-T010-10.physio  S002-BISH-00001-T010-10   \n",
       "S002-BISH-00001  S002-BISH-00001-T010-15.physio  S002-BISH-00001-T010-15   \n",
       "\n",
       "                 ga_in_days   cid  cid1  \n",
       "patid                                    \n",
       "S002-BISH-00001         150  10.0  10.0  \n",
       "S002-BISH-00001         202  15.0  15.0  "
      ]
     },
     "execution_count": 435,
     "metadata": {},
     "output_type": "execute_result"
    }
   ],
   "source": [
    "bish.head(2)"
   ]
  },
  {
   "cell_type": "code",
   "execution_count": 438,
   "metadata": {},
   "outputs": [
    {
     "name": "stdout",
     "output_type": "stream",
     "text": [
      "Number of time MON is referenced in original file name: 0\n"
     ]
    }
   ],
   "source": [
    "print('Number of time MON is referenced in original file name:',\n",
    "      len([item for item in bish.original_file_name.dropna() if 'mon' in item.lower()]))"
   ]
  },
  {
   "cell_type": "code",
   "execution_count": 439,
   "metadata": {},
   "outputs": [
    {
     "name": "stdout",
     "output_type": "stream",
     "text": [
      "Number of time TOI is referenced in original file name: 0\n"
     ]
    }
   ],
   "source": [
    "print('Number of time TOI is referenced in original file name:',\n",
    "      len([item for item in bish.original_file_name.dropna() if 'toi' in item.lower()]))"
   ]
  },
  {
   "cell_type": "code",
   "execution_count": 442,
   "metadata": {},
   "outputs": [
    {
     "name": "stdout",
     "output_type": "stream",
     "text": [
      "Number of time MON is referenced in final file name: 0\n"
     ]
    }
   ],
   "source": [
    "print('Number of time MON is referenced in final file name:',\n",
    "      len([item for item in bish.final_file_name.dropna() if 'mon' in item.lower()]))"
   ]
  },
  {
   "cell_type": "code",
   "execution_count": 441,
   "metadata": {},
   "outputs": [
    {
     "name": "stdout",
     "output_type": "stream",
     "text": [
      "Number of time TOI is referenced in final file name: 0\n"
     ]
    }
   ],
   "source": [
    "print('Number of time TOI is referenced in final file name:',\n",
    "      len([item for item in bish.final_file_name.dropna() if 'toi' in item.lower()]))"
   ]
  },
  {
   "cell_type": "code",
   "execution_count": 443,
   "metadata": {},
   "outputs": [
    {
     "name": "stdout",
     "output_type": "stream",
     "text": [
      "Number of time MON is referenced in final file name (1): 0\n"
     ]
    }
   ],
   "source": [
    "print('Number of time MON is referenced in final file name (1):',\n",
    "      len([item for item in bish.final_file_name_1.dropna() if 'mon' in item.lower()]))"
   ]
  },
  {
   "cell_type": "code",
   "execution_count": 444,
   "metadata": {},
   "outputs": [
    {
     "name": "stdout",
     "output_type": "stream",
     "text": [
      "Number of time TOI is referenced in final file name (1): 0\n"
     ]
    }
   ],
   "source": [
    "print('Number of time TOI is referenced in final file name (1):',\n",
    "      len([item for item in bish.final_file_name_1.dropna() if 'toi' in item.lower()]))"
   ]
  },
  {
   "cell_type": "code",
   "execution_count": null,
   "metadata": {},
   "outputs": [],
   "source": []
  },
  {
   "cell_type": "markdown",
   "metadata": {},
   "source": [
    "<font class=mon size=10> <b>MON Data</b></font>"
   ]
  },
  {
   "cell_type": "code",
   "execution_count": 3,
   "metadata": {},
   "outputs": [],
   "source": [
    "rmssd = pd.read_csv('../data/raw/BISH_RMSSD_MONICA_052218_EARLY_SIGNAL2.csv')\n",
    "mhr = pd.read_csv('../data/raw/Maternal HR XFER 052318.csv')\n",
    "mvmt = pd.read_csv('../data/raw/maternal_MVMT_monica_EHG_EHG_XFER_240s_Epochs_051818.csv')"
   ]
  },
  {
   "cell_type": "code",
   "execution_count": 268,
   "metadata": {},
   "outputs": [
    {
     "data": {
      "text/html": [
       "<div>\n",
       "<style scoped>\n",
       "    .dataframe tbody tr th:only-of-type {\n",
       "        vertical-align: middle;\n",
       "    }\n",
       "\n",
       "    .dataframe tbody tr th {\n",
       "        vertical-align: top;\n",
       "    }\n",
       "\n",
       "    .dataframe thead th {\n",
       "        text-align: right;\n",
       "    }\n",
       "</style>\n",
       "<table border=\"1\" class=\"dataframe\">\n",
       "  <thead>\n",
       "    <tr style=\"text-align: right;\">\n",
       "      <th></th>\n",
       "      <th>PATID</th>\n",
       "      <th>FileName</th>\n",
       "      <th>Age</th>\n",
       "      <th>Site</th>\n",
       "      <th>F11F_ NumberofGoodRWaves</th>\n",
       "      <th>F11F_ NumberofGoodRWaves_SCandRM</th>\n",
       "      <th>F11F_ Mean</th>\n",
       "      <th>F11F_ StDev</th>\n",
       "      <th>F11F_ RMSSD</th>\n",
       "      <th>F11F_ TotNumberofRwaves</th>\n",
       "      <th>...</th>\n",
       "      <th>F32F_ SC_D</th>\n",
       "      <th>F32F_ PERC</th>\n",
       "      <th>F32F_Epochs</th>\n",
       "      <th>F3_Total</th>\n",
       "      <th>F3_AS Total</th>\n",
       "      <th>F3_QS Total</th>\n",
       "      <th>F3_AS Reject</th>\n",
       "      <th>F3_QS Reject</th>\n",
       "      <th>F3_ASR%</th>\n",
       "      <th>F3_QSR%</th>\n",
       "    </tr>\n",
       "  </thead>\n",
       "  <tbody>\n",
       "    <tr>\n",
       "      <th>0</th>\n",
       "      <td>S002-BISH-00509</td>\n",
       "      <td>NaN</td>\n",
       "      <td>NaN</td>\n",
       "      <td>NaN</td>\n",
       "      <td>NaN</td>\n",
       "      <td>NaN</td>\n",
       "      <td>NaN</td>\n",
       "      <td>NaN</td>\n",
       "      <td>NaN</td>\n",
       "      <td>NaN</td>\n",
       "      <td>...</td>\n",
       "      <td>3.806104</td>\n",
       "      <td>97.821086</td>\n",
       "      <td>118.0</td>\n",
       "      <td>127.0</td>\n",
       "      <td>119.0</td>\n",
       "      <td>0.0</td>\n",
       "      <td>19.0</td>\n",
       "      <td>0.0</td>\n",
       "      <td>16.0</td>\n",
       "      <td>0.0</td>\n",
       "    </tr>\n",
       "    <tr>\n",
       "      <th>1</th>\n",
       "      <td>S002-BISH-00572</td>\n",
       "      <td>00572-10</td>\n",
       "      <td>F1</td>\n",
       "      <td>BISH</td>\n",
       "      <td>NaN</td>\n",
       "      <td>NaN</td>\n",
       "      <td>NaN</td>\n",
       "      <td>NaN</td>\n",
       "      <td>NaN</td>\n",
       "      <td>NaN</td>\n",
       "      <td>...</td>\n",
       "      <td>NaN</td>\n",
       "      <td>NaN</td>\n",
       "      <td>NaN</td>\n",
       "      <td>NaN</td>\n",
       "      <td>NaN</td>\n",
       "      <td>NaN</td>\n",
       "      <td>NaN</td>\n",
       "      <td>NaN</td>\n",
       "      <td>NaN</td>\n",
       "      <td>NaN</td>\n",
       "    </tr>\n",
       "    <tr>\n",
       "      <th>2</th>\n",
       "      <td>S002-BISH-00587</td>\n",
       "      <td>00587-10</td>\n",
       "      <td>F1</td>\n",
       "      <td>BISH</td>\n",
       "      <td>NaN</td>\n",
       "      <td>NaN</td>\n",
       "      <td>NaN</td>\n",
       "      <td>NaN</td>\n",
       "      <td>NaN</td>\n",
       "      <td>NaN</td>\n",
       "      <td>...</td>\n",
       "      <td>NaN</td>\n",
       "      <td>NaN</td>\n",
       "      <td>NaN</td>\n",
       "      <td>NaN</td>\n",
       "      <td>NaN</td>\n",
       "      <td>NaN</td>\n",
       "      <td>NaN</td>\n",
       "      <td>NaN</td>\n",
       "      <td>NaN</td>\n",
       "      <td>NaN</td>\n",
       "    </tr>\n",
       "    <tr>\n",
       "      <th>3</th>\n",
       "      <td>S002-BISH-00594</td>\n",
       "      <td>NaN</td>\n",
       "      <td>NaN</td>\n",
       "      <td>NaN</td>\n",
       "      <td>NaN</td>\n",
       "      <td>NaN</td>\n",
       "      <td>NaN</td>\n",
       "      <td>NaN</td>\n",
       "      <td>NaN</td>\n",
       "      <td>NaN</td>\n",
       "      <td>...</td>\n",
       "      <td>2.155322</td>\n",
       "      <td>73.510938</td>\n",
       "      <td>4.0</td>\n",
       "      <td>100.0</td>\n",
       "      <td>79.0</td>\n",
       "      <td>0.0</td>\n",
       "      <td>35.0</td>\n",
       "      <td>0.0</td>\n",
       "      <td>44.3</td>\n",
       "      <td>0.0</td>\n",
       "    </tr>\n",
       "    <tr>\n",
       "      <th>4</th>\n",
       "      <td>S002-BISH-00613</td>\n",
       "      <td>00613-10</td>\n",
       "      <td>F1</td>\n",
       "      <td>BISH</td>\n",
       "      <td>NaN</td>\n",
       "      <td>NaN</td>\n",
       "      <td>NaN</td>\n",
       "      <td>NaN</td>\n",
       "      <td>NaN</td>\n",
       "      <td>NaN</td>\n",
       "      <td>...</td>\n",
       "      <td>NaN</td>\n",
       "      <td>NaN</td>\n",
       "      <td>NaN</td>\n",
       "      <td>NaN</td>\n",
       "      <td>NaN</td>\n",
       "      <td>NaN</td>\n",
       "      <td>NaN</td>\n",
       "      <td>NaN</td>\n",
       "      <td>NaN</td>\n",
       "      <td>NaN</td>\n",
       "    </tr>\n",
       "  </tbody>\n",
       "</table>\n",
       "<p>5 rows × 101 columns</p>\n",
       "</div>"
      ],
      "text/plain": [
       "             PATID  FileName  Age  Site  F11F_ NumberofGoodRWaves   \\\n",
       "0  S002-BISH-00509       NaN  NaN   NaN                        NaN   \n",
       "1  S002-BISH-00572  00572-10   F1  BISH                        NaN   \n",
       "2  S002-BISH-00587  00587-10   F1  BISH                        NaN   \n",
       "3  S002-BISH-00594       NaN  NaN   NaN                        NaN   \n",
       "4  S002-BISH-00613  00613-10   F1  BISH                        NaN   \n",
       "\n",
       "   F11F_ NumberofGoodRWaves_SCandRM   F11F_ Mean   F11F_ StDev   F11F_ RMSSD   \\\n",
       "0                                NaN          NaN           NaN           NaN   \n",
       "1                                NaN          NaN           NaN           NaN   \n",
       "2                                NaN          NaN           NaN           NaN   \n",
       "3                                NaN          NaN           NaN           NaN   \n",
       "4                                NaN          NaN           NaN           NaN   \n",
       "\n",
       "   F11F_ TotNumberofRwaves   ...  F32F_ SC_D   F32F_ PERC   F32F_Epochs  \\\n",
       "0                       NaN  ...     3.806104    97.821086        118.0   \n",
       "1                       NaN  ...          NaN          NaN          NaN   \n",
       "2                       NaN  ...          NaN          NaN          NaN   \n",
       "3                       NaN  ...     2.155322    73.510938          4.0   \n",
       "4                       NaN  ...          NaN          NaN          NaN   \n",
       "\n",
       "   F3_Total  F3_AS Total  F3_QS Total  F3_AS Reject  F3_QS Reject  F3_ASR%  \\\n",
       "0     127.0        119.0          0.0          19.0           0.0     16.0   \n",
       "1       NaN          NaN          NaN           NaN           NaN      NaN   \n",
       "2       NaN          NaN          NaN           NaN           NaN      NaN   \n",
       "3     100.0         79.0          0.0          35.0           0.0     44.3   \n",
       "4       NaN          NaN          NaN           NaN           NaN      NaN   \n",
       "\n",
       "   F3_QSR%  \n",
       "0      0.0  \n",
       "1      NaN  \n",
       "2      NaN  \n",
       "3      0.0  \n",
       "4      NaN  \n",
       "\n",
       "[5 rows x 101 columns]"
      ]
     },
     "execution_count": 268,
     "metadata": {},
     "output_type": "execute_result"
    }
   ],
   "source": [
    "rmssd.head()"
   ]
  },
  {
   "cell_type": "code",
   "execution_count": 269,
   "metadata": {},
   "outputs": [
    {
     "data": {
      "text/html": [
       "<div>\n",
       "<style scoped>\n",
       "    .dataframe tbody tr th:only-of-type {\n",
       "        vertical-align: middle;\n",
       "    }\n",
       "\n",
       "    .dataframe tbody tr th {\n",
       "        vertical-align: top;\n",
       "    }\n",
       "\n",
       "    .dataframe thead th {\n",
       "        text-align: right;\n",
       "    }\n",
       "</style>\n",
       "<table border=\"1\" class=\"dataframe\">\n",
       "  <thead>\n",
       "    <tr style=\"text-align: right;\">\n",
       "      <th></th>\n",
       "      <th>PATID</th>\n",
       "      <th>Timepoint</th>\n",
       "      <th>File Name</th>\n",
       "      <th>numberSegments</th>\n",
       "      <th>meanPercentBad</th>\n",
       "      <th>startSecond</th>\n",
       "      <th>endSecond</th>\n",
       "      <th>MHR_mean</th>\n",
       "      <th>MHR_median</th>\n",
       "      <th>MHR_stddev</th>\n",
       "      <th>...</th>\n",
       "      <th>MHR_BandPwr2</th>\n",
       "      <th>MHR_BandPwr3</th>\n",
       "      <th>MHR_BandPwr4</th>\n",
       "      <th>maxCrossCorr</th>\n",
       "      <th>lagOfMaxCrossCorr</th>\n",
       "      <th>medianMaxCrossCorr</th>\n",
       "      <th>medianLagOfMaxCrossCorr</th>\n",
       "      <th>numberSegments.1</th>\n",
       "      <th>numberUsedPwrCoh</th>\n",
       "      <th>numberUsedCrsCor</th>\n",
       "    </tr>\n",
       "  </thead>\n",
       "  <tbody>\n",
       "    <tr>\n",
       "      <th>0</th>\n",
       "      <td>S002-BISH-01546</td>\n",
       "      <td>F3</td>\n",
       "      <td>01546-20_exp_250ms.mhr</td>\n",
       "      <td>6</td>\n",
       "      <td>0.0</td>\n",
       "      <td>3078</td>\n",
       "      <td>3445</td>\n",
       "      <td>91.02</td>\n",
       "      <td>91.00</td>\n",
       "      <td>2.79</td>\n",
       "      <td>...</td>\n",
       "      <td>1.809740</td>\n",
       "      <td>0.485221</td>\n",
       "      <td>0.024952</td>\n",
       "      <td>0.187834</td>\n",
       "      <td>-3.90</td>\n",
       "      <td>0.499977</td>\n",
       "      <td>-9.175</td>\n",
       "      <td>6.0</td>\n",
       "      <td>6.0</td>\n",
       "      <td>6.0</td>\n",
       "    </tr>\n",
       "    <tr>\n",
       "      <th>1</th>\n",
       "      <td>S002-BISH-04101</td>\n",
       "      <td>F2</td>\n",
       "      <td>04101-15_exp_250ms.mhr</td>\n",
       "      <td>30</td>\n",
       "      <td>0.0</td>\n",
       "      <td>2409</td>\n",
       "      <td>4211</td>\n",
       "      <td>86.91</td>\n",
       "      <td>87.00</td>\n",
       "      <td>3.01</td>\n",
       "      <td>...</td>\n",
       "      <td>1.131280</td>\n",
       "      <td>1.019080</td>\n",
       "      <td>0.022936</td>\n",
       "      <td>0.110428</td>\n",
       "      <td>4.35</td>\n",
       "      <td>0.590114</td>\n",
       "      <td>3.675</td>\n",
       "      <td>30.0</td>\n",
       "      <td>30.0</td>\n",
       "      <td>30.0</td>\n",
       "    </tr>\n",
       "    <tr>\n",
       "      <th>2</th>\n",
       "      <td>S002-BISH-07004</td>\n",
       "      <td>F1</td>\n",
       "      <td>07004-10_exp_250ms.mhr</td>\n",
       "      <td>30</td>\n",
       "      <td>0.0</td>\n",
       "      <td>2008</td>\n",
       "      <td>11979</td>\n",
       "      <td>78.88</td>\n",
       "      <td>79.00</td>\n",
       "      <td>4.03</td>\n",
       "      <td>...</td>\n",
       "      <td>1.797840</td>\n",
       "      <td>1.718050</td>\n",
       "      <td>0.029149</td>\n",
       "      <td>0.029641</td>\n",
       "      <td>-16.65</td>\n",
       "      <td>0.566702</td>\n",
       "      <td>-0.875</td>\n",
       "      <td>30.0</td>\n",
       "      <td>30.0</td>\n",
       "      <td>30.0</td>\n",
       "    </tr>\n",
       "    <tr>\n",
       "      <th>3</th>\n",
       "      <td>S002-BISH-06159</td>\n",
       "      <td>F3</td>\n",
       "      <td>06159-20_exp_250ms.mhr</td>\n",
       "      <td>50</td>\n",
       "      <td>0.0</td>\n",
       "      <td>1878</td>\n",
       "      <td>4899</td>\n",
       "      <td>88.58</td>\n",
       "      <td>88.17</td>\n",
       "      <td>5.46</td>\n",
       "      <td>...</td>\n",
       "      <td>3.801840</td>\n",
       "      <td>2.685170</td>\n",
       "      <td>0.031287</td>\n",
       "      <td>0.081311</td>\n",
       "      <td>10.85</td>\n",
       "      <td>0.651371</td>\n",
       "      <td>2.575</td>\n",
       "      <td>50.0</td>\n",
       "      <td>50.0</td>\n",
       "      <td>50.0</td>\n",
       "    </tr>\n",
       "    <tr>\n",
       "      <th>4</th>\n",
       "      <td>S002-BISH-05521</td>\n",
       "      <td>F3</td>\n",
       "      <td>05521-20_exp_250ms.mhr</td>\n",
       "      <td>23</td>\n",
       "      <td>0.0</td>\n",
       "      <td>1725</td>\n",
       "      <td>3125</td>\n",
       "      <td>79.00</td>\n",
       "      <td>78.00</td>\n",
       "      <td>3.48</td>\n",
       "      <td>...</td>\n",
       "      <td>0.820086</td>\n",
       "      <td>0.418666</td>\n",
       "      <td>0.019242</td>\n",
       "      <td>0.288607</td>\n",
       "      <td>0.25</td>\n",
       "      <td>0.673103</td>\n",
       "      <td>1.325</td>\n",
       "      <td>23.0</td>\n",
       "      <td>23.0</td>\n",
       "      <td>22.0</td>\n",
       "    </tr>\n",
       "  </tbody>\n",
       "</table>\n",
       "<p>5 rows × 25 columns</p>\n",
       "</div>"
      ],
      "text/plain": [
       "             PATID Timepoint               File Name  numberSegments  \\\n",
       "0  S002-BISH-01546        F3  01546-20_exp_250ms.mhr               6   \n",
       "1  S002-BISH-04101        F2  04101-15_exp_250ms.mhr              30   \n",
       "2  S002-BISH-07004        F1  07004-10_exp_250ms.mhr              30   \n",
       "3  S002-BISH-06159        F3  06159-20_exp_250ms.mhr              50   \n",
       "4  S002-BISH-05521        F3  05521-20_exp_250ms.mhr              23   \n",
       "\n",
       "   meanPercentBad  startSecond  endSecond  MHR_mean  MHR_median  MHR_stddev  \\\n",
       "0             0.0         3078       3445     91.02       91.00        2.79   \n",
       "1             0.0         2409       4211     86.91       87.00        3.01   \n",
       "2             0.0         2008      11979     78.88       79.00        4.03   \n",
       "3             0.0         1878       4899     88.58       88.17        5.46   \n",
       "4             0.0         1725       3125     79.00       78.00        3.48   \n",
       "\n",
       "   ...  MHR_BandPwr2  MHR_BandPwr3  MHR_BandPwr4  maxCrossCorr  \\\n",
       "0  ...      1.809740      0.485221      0.024952      0.187834   \n",
       "1  ...      1.131280      1.019080      0.022936      0.110428   \n",
       "2  ...      1.797840      1.718050      0.029149      0.029641   \n",
       "3  ...      3.801840      2.685170      0.031287      0.081311   \n",
       "4  ...      0.820086      0.418666      0.019242      0.288607   \n",
       "\n",
       "   lagOfMaxCrossCorr  medianMaxCrossCorr  medianLagOfMaxCrossCorr  \\\n",
       "0              -3.90            0.499977                   -9.175   \n",
       "1               4.35            0.590114                    3.675   \n",
       "2             -16.65            0.566702                   -0.875   \n",
       "3              10.85            0.651371                    2.575   \n",
       "4               0.25            0.673103                    1.325   \n",
       "\n",
       "   numberSegments.1  numberUsedPwrCoh  numberUsedCrsCor  \n",
       "0               6.0               6.0               6.0  \n",
       "1              30.0              30.0              30.0  \n",
       "2              30.0              30.0              30.0  \n",
       "3              50.0              50.0              50.0  \n",
       "4              23.0              23.0              22.0  \n",
       "\n",
       "[5 rows x 25 columns]"
      ]
     },
     "execution_count": 269,
     "metadata": {},
     "output_type": "execute_result"
    }
   ],
   "source": [
    "mhr.head()"
   ]
  },
  {
   "cell_type": "code",
   "execution_count": 270,
   "metadata": {},
   "outputs": [
    {
     "data": {
      "text/html": [
       "<div>\n",
       "<style scoped>\n",
       "    .dataframe tbody tr th:only-of-type {\n",
       "        vertical-align: middle;\n",
       "    }\n",
       "\n",
       "    .dataframe tbody tr th {\n",
       "        vertical-align: top;\n",
       "    }\n",
       "\n",
       "    .dataframe thead th {\n",
       "        text-align: right;\n",
       "    }\n",
       "</style>\n",
       "<table border=\"1\" class=\"dataframe\">\n",
       "  <thead>\n",
       "    <tr style=\"text-align: right;\">\n",
       "      <th></th>\n",
       "      <th>Study ID</th>\n",
       "      <th>File Name</th>\n",
       "      <th>StudyID</th>\n",
       "      <th>numberSegments</th>\n",
       "      <th>meanPercentBad</th>\n",
       "      <th>startSecond</th>\n",
       "      <th>endSecond</th>\n",
       "      <th>HR_mean</th>\n",
       "      <th>HR_median</th>\n",
       "      <th>HR_stddev</th>\n",
       "      <th>...</th>\n",
       "      <th>HR_BandPwr2</th>\n",
       "      <th>HR_BandPwr3</th>\n",
       "      <th>HR_BandPwr4</th>\n",
       "      <th>maxCrossCorr</th>\n",
       "      <th>lagOfMaxCrossCorr</th>\n",
       "      <th>medianMaxCrossCorr</th>\n",
       "      <th>medianLagOfMaxCrossCorr</th>\n",
       "      <th>numberSegments__1</th>\n",
       "      <th>numberUsedPwrCoh</th>\n",
       "      <th>numberUsedCrsCor</th>\n",
       "    </tr>\n",
       "  </thead>\n",
       "  <tbody>\n",
       "    <tr>\n",
       "      <th>0</th>\n",
       "      <td>S002-BISH-00509-T010-20</td>\n",
       "      <td>00509-20_exp_250ms.ehg</td>\n",
       "      <td>00509-20_exp_250ms.ehg</td>\n",
       "      <td>12</td>\n",
       "      <td>0.00</td>\n",
       "      <td>381.0</td>\n",
       "      <td>3381.0</td>\n",
       "      <td>55.17</td>\n",
       "      <td>46.00</td>\n",
       "      <td>26.82</td>\n",
       "      <td>...</td>\n",
       "      <td>337.406</td>\n",
       "      <td>0.529147</td>\n",
       "      <td>0.026194</td>\n",
       "      <td>0.804556</td>\n",
       "      <td>0.85</td>\n",
       "      <td>0.804556</td>\n",
       "      <td>0.85</td>\n",
       "      <td>12.0</td>\n",
       "      <td>12.0</td>\n",
       "      <td>1.0</td>\n",
       "    </tr>\n",
       "    <tr>\n",
       "      <th>1</th>\n",
       "      <td>S002-BISH-00674-T010-20</td>\n",
       "      <td>00674-20_exp_250ms.ehg</td>\n",
       "      <td>00674-20_exp_250ms.ehg</td>\n",
       "      <td>9</td>\n",
       "      <td>0.00</td>\n",
       "      <td>42.6</td>\n",
       "      <td>3042.6</td>\n",
       "      <td>52.57</td>\n",
       "      <td>45.00</td>\n",
       "      <td>22.44</td>\n",
       "      <td>...</td>\n",
       "      <td>307.086</td>\n",
       "      <td>1.217650</td>\n",
       "      <td>0.029924</td>\n",
       "      <td>0.868726</td>\n",
       "      <td>-0.05</td>\n",
       "      <td>0.868726</td>\n",
       "      <td>-0.05</td>\n",
       "      <td>9.0</td>\n",
       "      <td>9.0</td>\n",
       "      <td>1.0</td>\n",
       "    </tr>\n",
       "    <tr>\n",
       "      <th>2</th>\n",
       "      <td>S002-BISH-00686-T010-20</td>\n",
       "      <td>00686-20_exp_250ms.ehg</td>\n",
       "      <td>00686-20_exp_250ms.ehg</td>\n",
       "      <td>11</td>\n",
       "      <td>0.00</td>\n",
       "      <td>423.3</td>\n",
       "      <td>3461.3</td>\n",
       "      <td>55.35</td>\n",
       "      <td>44.00</td>\n",
       "      <td>30.64</td>\n",
       "      <td>...</td>\n",
       "      <td>549.000</td>\n",
       "      <td>0.622030</td>\n",
       "      <td>0.031356</td>\n",
       "      <td>0.957542</td>\n",
       "      <td>-1.65</td>\n",
       "      <td>0.957542</td>\n",
       "      <td>-1.65</td>\n",
       "      <td>11.0</td>\n",
       "      <td>11.0</td>\n",
       "      <td>1.0</td>\n",
       "    </tr>\n",
       "    <tr>\n",
       "      <th>3</th>\n",
       "      <td>S002-BISH-00697-T010-20</td>\n",
       "      <td>00697-20_exp_250ms.ehg</td>\n",
       "      <td>00697-20_exp_250ms.ehg</td>\n",
       "      <td>10</td>\n",
       "      <td>0.01</td>\n",
       "      <td>208.3</td>\n",
       "      <td>3455.3</td>\n",
       "      <td>68.37</td>\n",
       "      <td>52.17</td>\n",
       "      <td>40.43</td>\n",
       "      <td>...</td>\n",
       "      <td>857.884</td>\n",
       "      <td>1.333710</td>\n",
       "      <td>0.039657</td>\n",
       "      <td>NaN</td>\n",
       "      <td>NaN</td>\n",
       "      <td>NaN</td>\n",
       "      <td>NaN</td>\n",
       "      <td>10.0</td>\n",
       "      <td>10.0</td>\n",
       "      <td>0.0</td>\n",
       "    </tr>\n",
       "    <tr>\n",
       "      <th>4</th>\n",
       "      <td>S002-BISH-00698-T010-20</td>\n",
       "      <td>00698-20_exp_250ms.ehg</td>\n",
       "      <td>00698-20_exp_250ms.ehg</td>\n",
       "      <td>12</td>\n",
       "      <td>0.00</td>\n",
       "      <td>183.3</td>\n",
       "      <td>3195.3</td>\n",
       "      <td>52.15</td>\n",
       "      <td>44.00</td>\n",
       "      <td>23.98</td>\n",
       "      <td>...</td>\n",
       "      <td>259.629</td>\n",
       "      <td>0.188972</td>\n",
       "      <td>0.025283</td>\n",
       "      <td>0.852156</td>\n",
       "      <td>0.30</td>\n",
       "      <td>0.852156</td>\n",
       "      <td>0.30</td>\n",
       "      <td>12.0</td>\n",
       "      <td>12.0</td>\n",
       "      <td>1.0</td>\n",
       "    </tr>\n",
       "  </tbody>\n",
       "</table>\n",
       "<p>5 rows × 29 columns</p>\n",
       "</div>"
      ],
      "text/plain": [
       "                  Study ID               File Name                 StudyID  \\\n",
       "0  S002-BISH-00509-T010-20  00509-20_exp_250ms.ehg  00509-20_exp_250ms.ehg   \n",
       "1  S002-BISH-00674-T010-20  00674-20_exp_250ms.ehg  00674-20_exp_250ms.ehg   \n",
       "2  S002-BISH-00686-T010-20  00686-20_exp_250ms.ehg  00686-20_exp_250ms.ehg   \n",
       "3  S002-BISH-00697-T010-20  00697-20_exp_250ms.ehg  00697-20_exp_250ms.ehg   \n",
       "4  S002-BISH-00698-T010-20  00698-20_exp_250ms.ehg  00698-20_exp_250ms.ehg   \n",
       "\n",
       "   numberSegments  meanPercentBad  startSecond  endSecond  HR_mean  HR_median  \\\n",
       "0              12            0.00        381.0     3381.0    55.17      46.00   \n",
       "1               9            0.00         42.6     3042.6    52.57      45.00   \n",
       "2              11            0.00        423.3     3461.3    55.35      44.00   \n",
       "3              10            0.01        208.3     3455.3    68.37      52.17   \n",
       "4              12            0.00        183.3     3195.3    52.15      44.00   \n",
       "\n",
       "   HR_stddev  ...  HR_BandPwr2  HR_BandPwr3  HR_BandPwr4  maxCrossCorr  \\\n",
       "0      26.82  ...      337.406     0.529147     0.026194      0.804556   \n",
       "1      22.44  ...      307.086     1.217650     0.029924      0.868726   \n",
       "2      30.64  ...      549.000     0.622030     0.031356      0.957542   \n",
       "3      40.43  ...      857.884     1.333710     0.039657           NaN   \n",
       "4      23.98  ...      259.629     0.188972     0.025283      0.852156   \n",
       "\n",
       "   lagOfMaxCrossCorr  medianMaxCrossCorr  medianLagOfMaxCrossCorr  \\\n",
       "0               0.85            0.804556                     0.85   \n",
       "1              -0.05            0.868726                    -0.05   \n",
       "2              -1.65            0.957542                    -1.65   \n",
       "3                NaN                 NaN                      NaN   \n",
       "4               0.30            0.852156                     0.30   \n",
       "\n",
       "   numberSegments__1  numberUsedPwrCoh  numberUsedCrsCor  \n",
       "0               12.0              12.0               1.0  \n",
       "1                9.0               9.0               1.0  \n",
       "2               11.0              11.0               1.0  \n",
       "3               10.0              10.0               0.0  \n",
       "4               12.0              12.0               1.0  \n",
       "\n",
       "[5 rows x 29 columns]"
      ]
     },
     "execution_count": 270,
     "metadata": {},
     "output_type": "execute_result"
    }
   ],
   "source": [
    "mvmt.head()"
   ]
  },
  {
   "cell_type": "markdown",
   "metadata": {},
   "source": [
    "# Timing Considerations\n",
    "Each `MON` variable has a way to place it in time (given we trust both the CID and Fx\n",
    "time orderings passed onto us from Udi).  \n",
    "* RMSSD: the `FileName` variable has what looks like a CID (though it's `10` for every record)\n",
    "* MHR: (i) has an Fx column (`Timepoint`);  (ii) has a `File Name` variable that looks to have CID info\n",
    "* MVMT: has a `Study ID` variable that houses CID info"
   ]
  },
  {
   "cell_type": "code",
   "execution_count": 417,
   "metadata": {},
   "outputs": [
    {
     "data": {
      "text/plain": [
       "array([nan, '10'], dtype=object)"
      ]
     },
     "execution_count": 417,
     "metadata": {},
     "output_type": "execute_result"
    }
   ],
   "source": [
    "rmssd.FileName.apply(lambda x: x.split('-')[-1] if type(x)==str else x).unique()"
   ]
  },
  {
   "cell_type": "code",
   "execution_count": 421,
   "metadata": {},
   "outputs": [
    {
     "data": {
      "text/plain": [
       "array(['F3', 'F2', 'F1'], dtype=object)"
      ]
     },
     "execution_count": 421,
     "metadata": {},
     "output_type": "execute_result"
    }
   ],
   "source": [
    "mhr.Timepoint.unique()"
   ]
  },
  {
   "cell_type": "code",
   "execution_count": 419,
   "metadata": {},
   "outputs": [
    {
     "data": {
      "text/plain": [
       "array(['20', '10', '15'], dtype=object)"
      ]
     },
     "execution_count": 419,
     "metadata": {},
     "output_type": "execute_result"
    }
   ],
   "source": [
    "mvmt['Study ID'].apply(lambda x: x.split('-')[-1] if type(x)==str else x).unique()"
   ]
  },
  {
   "cell_type": "markdown",
   "metadata": {},
   "source": [
    "### Further exploration of RMSSD-Fx vs RMSSD-CID \n",
    "Note that there is a `FileName` variable that appears to possibly house CID info, but\n",
    "there is also an `Age` var that directly houses Fx info.  Let's compare!\n",
    "\n",
    "**Conclusions**: \n",
    "* F1 always pairs with CID 10 in this file\n",
    "* Only F1/CID10 is represented in this file"
   ]
  },
  {
   "cell_type": "code",
   "execution_count": 5,
   "metadata": {},
   "outputs": [
    {
     "data": {
      "text/plain": [
       "array([nan, 'F1'], dtype=object)"
      ]
     },
     "execution_count": 5,
     "metadata": {},
     "output_type": "execute_result"
    }
   ],
   "source": [
    "rmssd.Age.unique()"
   ]
  },
  {
   "cell_type": "code",
   "execution_count": 8,
   "metadata": {},
   "outputs": [
    {
     "data": {
      "text/plain": [
       "array([nan, '10F1'], dtype=object)"
      ]
     },
     "execution_count": 8,
     "metadata": {},
     "output_type": "execute_result"
    }
   ],
   "source": [
    "cid = rmssd.FileName.apply(lambda x: x.split('-')[-1] if type(x)==str else x)\n",
    "(cid + rmssd.Age).unique()"
   ]
  },
  {
   "cell_type": "markdown",
   "metadata": {},
   "source": [
    "### Further exploration of MHR-Fx vs MHR-CID\n",
    "Nice... The CIDs and Fx's align as they should:\n",
    "* F1 - CID10\n",
    "* F2 - CID15\n",
    "* F3 - CID20"
   ]
  },
  {
   "cell_type": "code",
   "execution_count": 431,
   "metadata": {},
   "outputs": [],
   "source": [
    "mhr['CID'] = mhr['File Name'].map(lambda x: x.split('-')[1].split('_')[0] if type(x)==str else x)\n",
    "mhr.rename(columns={'Timepoint':'Fx'}, inplace=True)\n",
    "mhr['CIDFx'] = mhr.Fx+mhr.CID"
   ]
  },
  {
   "cell_type": "code",
   "execution_count": 434,
   "metadata": {},
   "outputs": [
    {
     "data": {
      "text/plain": [
       "array(['F320', 'F215', 'F110'], dtype=object)"
      ]
     },
     "execution_count": 434,
     "metadata": {},
     "output_type": "execute_result"
    }
   ],
   "source": [
    "mhr.CIDFx.unique()"
   ]
  },
  {
   "cell_type": "markdown",
   "metadata": {},
   "source": [
    "### Conclusion: Since all 3 MON tables have CID, let's use that\n",
    "We found all 3 tables to use CID in one way or another.  The MHR table also has\n",
    "Fx nomenclature, and we found it strictly obeys the relationship we expected it \n",
    "to: F1/CID10, F2/CID15, F3/CID20."
   ]
  },
  {
   "cell_type": "code",
   "execution_count": 58,
   "metadata": {},
   "outputs": [],
   "source": [
    "# Load raw tables\n",
    "rmssd = pd.read_csv('../data/raw/BISH_RMSSD_MONICA_052218_EARLY_SIGNAL2.csv')\n",
    "mhr = pd.read_csv('../data/raw/Maternal HR XFER 052318.csv')\n",
    "mvmt = pd.read_csv('../data/raw/maternal_MVMT_monica_EHG_EHG_XFER_240s_Epochs_051818.csv')\n",
    "\n",
    "# Append CID columns\n",
    "rmssd['cid'] = rmssd.FileName.apply(lambda x: x.split('-')[-1] if type(x)==str else x)\n",
    "mhr['cid'] = mhr['File Name'].map(lambda x: x.split('-')[1].split('_')[0] if type(x)==str else x)\n",
    "mvmt['cid'] = mvmt['Study ID'].apply(lambda x: x.split('-')[-1] if type(x)==str else x)\n",
    "\n",
    "# Append PATID columns, if necessary \n",
    "mvmt['patid'] = mvmt['Study ID'].apply(lambda x: '-'.join(x.split('-')[:-2]))\n",
    "\n",
    "# Lowercase Column Names\n",
    "rmssd.columns = map(str.lower, rmssd.columns)\n",
    "mhr.columns = map(str.lower, mhr.columns)\n",
    "mvmt.columns = mvmt.columns.to_frame().replace(' ','',regex=True).iloc[:,0].map(str.lower).values\n",
    "\n",
    "# Set patid as index\n",
    "rmssd.set_index('patid', inplace=True)\n",
    "mhr.set_index('patid', inplace=True)\n",
    "mvmt.set_index('patid', inplace=True)"
   ]
  },
  {
   "cell_type": "markdown",
   "metadata": {},
   "source": [
    "<font class=mon size=10><b> MON: RMSSD</b></font>\n",
    "\n",
    "## Not all is Right w/ RMSSD!\n",
    "**UPDATE (Dec 9)**\n",
    "<font class=update>\n",
    "\n",
    "Yikes~\n",
    "\n",
    "The RMSSD file is actually pretty weird... There is the `Age` var, which is always `F1` or `NaN`,\n",
    "yet look at the var names -- there are F1, F2, and F3 var names, similar to the TOI data.\n",
    "</font>"
   ]
  },
  {
   "cell_type": "code",
   "execution_count": 61,
   "metadata": {},
   "outputs": [
    {
     "name": "stdout",
     "output_type": "stream",
     "text": [
      "Example of vars ranging across the F1-F3 time periods:\n"
     ]
    },
    {
     "data": {
      "text/plain": [
       "['f11f_ mean ',\n",
       " 'f12f_ mean ',\n",
       " 'f21f_ mean ',\n",
       " 'f22f_ mean ',\n",
       " 'f31f_ mean ',\n",
       " 'f32f_ mean ']"
      ]
     },
     "execution_count": 61,
     "metadata": {},
     "output_type": "execute_result"
    }
   ],
   "source": [
    "print('Example of vars ranging across the F1-F3 time periods:')\n",
    "mean_vars = [item for item in rmssd.columns if 'mean' in item]\n",
    "mean_vars"
   ]
  },
  {
   "cell_type": "markdown",
   "metadata": {},
   "source": [
    "My hypothesis would be that, **maybe**, whenever the `Age` variable is `F1`, we have a\n",
    "record with only F1 data...but that when it says `Nan` we can have either F2 or F3 data."
   ]
  },
  {
   "cell_type": "code",
   "execution_count": 64,
   "metadata": {},
   "outputs": [
    {
     "data": {
      "text/html": [
       "<div>\n",
       "<style scoped>\n",
       "    .dataframe tbody tr th:only-of-type {\n",
       "        vertical-align: middle;\n",
       "    }\n",
       "\n",
       "    .dataframe tbody tr th {\n",
       "        vertical-align: top;\n",
       "    }\n",
       "\n",
       "    .dataframe thead th {\n",
       "        text-align: right;\n",
       "    }\n",
       "</style>\n",
       "<table border=\"1\" class=\"dataframe\">\n",
       "  <thead>\n",
       "    <tr style=\"text-align: right;\">\n",
       "      <th></th>\n",
       "      <th>filename</th>\n",
       "      <th>age</th>\n",
       "      <th>site</th>\n",
       "      <th>f11f_ numberofgoodrwaves</th>\n",
       "      <th>f11f_ numberofgoodrwaves_scandrm</th>\n",
       "      <th>f11f_ mean</th>\n",
       "      <th>f11f_ stdev</th>\n",
       "      <th>f11f_ rmssd</th>\n",
       "      <th>f11f_ totnumberofrwaves</th>\n",
       "      <th>f11f_ iqr</th>\n",
       "      <th>...</th>\n",
       "      <th>f32f_ perc</th>\n",
       "      <th>f32f_epochs</th>\n",
       "      <th>f3_total</th>\n",
       "      <th>f3_as total</th>\n",
       "      <th>f3_qs total</th>\n",
       "      <th>f3_as reject</th>\n",
       "      <th>f3_qs reject</th>\n",
       "      <th>f3_asr%</th>\n",
       "      <th>f3_qsr%</th>\n",
       "      <th>cid</th>\n",
       "    </tr>\n",
       "    <tr>\n",
       "      <th>patid</th>\n",
       "      <th></th>\n",
       "      <th></th>\n",
       "      <th></th>\n",
       "      <th></th>\n",
       "      <th></th>\n",
       "      <th></th>\n",
       "      <th></th>\n",
       "      <th></th>\n",
       "      <th></th>\n",
       "      <th></th>\n",
       "      <th></th>\n",
       "      <th></th>\n",
       "      <th></th>\n",
       "      <th></th>\n",
       "      <th></th>\n",
       "      <th></th>\n",
       "      <th></th>\n",
       "      <th></th>\n",
       "      <th></th>\n",
       "      <th></th>\n",
       "      <th></th>\n",
       "    </tr>\n",
       "  </thead>\n",
       "  <tbody>\n",
       "    <tr>\n",
       "      <th>S002-BISH-00572</th>\n",
       "      <td>00572-10</td>\n",
       "      <td>F1</td>\n",
       "      <td>BISH</td>\n",
       "      <td>NaN</td>\n",
       "      <td>NaN</td>\n",
       "      <td>NaN</td>\n",
       "      <td>NaN</td>\n",
       "      <td>NaN</td>\n",
       "      <td>NaN</td>\n",
       "      <td>NaN</td>\n",
       "      <td>...</td>\n",
       "      <td>NaN</td>\n",
       "      <td>NaN</td>\n",
       "      <td>NaN</td>\n",
       "      <td>NaN</td>\n",
       "      <td>NaN</td>\n",
       "      <td>NaN</td>\n",
       "      <td>NaN</td>\n",
       "      <td>NaN</td>\n",
       "      <td>NaN</td>\n",
       "      <td>10</td>\n",
       "    </tr>\n",
       "    <tr>\n",
       "      <th>S002-BISH-00587</th>\n",
       "      <td>00587-10</td>\n",
       "      <td>F1</td>\n",
       "      <td>BISH</td>\n",
       "      <td>NaN</td>\n",
       "      <td>NaN</td>\n",
       "      <td>NaN</td>\n",
       "      <td>NaN</td>\n",
       "      <td>NaN</td>\n",
       "      <td>NaN</td>\n",
       "      <td>NaN</td>\n",
       "      <td>...</td>\n",
       "      <td>NaN</td>\n",
       "      <td>NaN</td>\n",
       "      <td>NaN</td>\n",
       "      <td>NaN</td>\n",
       "      <td>NaN</td>\n",
       "      <td>NaN</td>\n",
       "      <td>NaN</td>\n",
       "      <td>NaN</td>\n",
       "      <td>NaN</td>\n",
       "      <td>10</td>\n",
       "    </tr>\n",
       "    <tr>\n",
       "      <th>S002-BISH-00613</th>\n",
       "      <td>00613-10</td>\n",
       "      <td>F1</td>\n",
       "      <td>BISH</td>\n",
       "      <td>NaN</td>\n",
       "      <td>NaN</td>\n",
       "      <td>NaN</td>\n",
       "      <td>NaN</td>\n",
       "      <td>NaN</td>\n",
       "      <td>NaN</td>\n",
       "      <td>NaN</td>\n",
       "      <td>...</td>\n",
       "      <td>NaN</td>\n",
       "      <td>NaN</td>\n",
       "      <td>NaN</td>\n",
       "      <td>NaN</td>\n",
       "      <td>NaN</td>\n",
       "      <td>NaN</td>\n",
       "      <td>NaN</td>\n",
       "      <td>NaN</td>\n",
       "      <td>NaN</td>\n",
       "      <td>10</td>\n",
       "    </tr>\n",
       "    <tr>\n",
       "      <th>S002-BISH-00640</th>\n",
       "      <td>00640-10</td>\n",
       "      <td>F1</td>\n",
       "      <td>BISH</td>\n",
       "      <td>NaN</td>\n",
       "      <td>NaN</td>\n",
       "      <td>NaN</td>\n",
       "      <td>NaN</td>\n",
       "      <td>NaN</td>\n",
       "      <td>NaN</td>\n",
       "      <td>NaN</td>\n",
       "      <td>...</td>\n",
       "      <td>NaN</td>\n",
       "      <td>NaN</td>\n",
       "      <td>NaN</td>\n",
       "      <td>NaN</td>\n",
       "      <td>NaN</td>\n",
       "      <td>NaN</td>\n",
       "      <td>NaN</td>\n",
       "      <td>NaN</td>\n",
       "      <td>NaN</td>\n",
       "      <td>10</td>\n",
       "    </tr>\n",
       "    <tr>\n",
       "      <th>S002-BISH-00643</th>\n",
       "      <td>00643-10</td>\n",
       "      <td>F1</td>\n",
       "      <td>BISH</td>\n",
       "      <td>NaN</td>\n",
       "      <td>NaN</td>\n",
       "      <td>NaN</td>\n",
       "      <td>NaN</td>\n",
       "      <td>NaN</td>\n",
       "      <td>NaN</td>\n",
       "      <td>NaN</td>\n",
       "      <td>...</td>\n",
       "      <td>90.613775</td>\n",
       "      <td>73.0</td>\n",
       "      <td>320.0</td>\n",
       "      <td>106.0</td>\n",
       "      <td>0.0</td>\n",
       "      <td>43.0</td>\n",
       "      <td>0.0</td>\n",
       "      <td>40.6</td>\n",
       "      <td>0.0</td>\n",
       "      <td>10</td>\n",
       "    </tr>\n",
       "  </tbody>\n",
       "</table>\n",
       "<p>5 rows × 101 columns</p>\n",
       "</div>"
      ],
      "text/plain": [
       "                 filename age  site  f11f_ numberofgoodrwaves   \\\n",
       "patid                                                            \n",
       "S002-BISH-00572  00572-10  F1  BISH                        NaN   \n",
       "S002-BISH-00587  00587-10  F1  BISH                        NaN   \n",
       "S002-BISH-00613  00613-10  F1  BISH                        NaN   \n",
       "S002-BISH-00640  00640-10  F1  BISH                        NaN   \n",
       "S002-BISH-00643  00643-10  F1  BISH                        NaN   \n",
       "\n",
       "                 f11f_ numberofgoodrwaves_scandrm   f11f_ mean   f11f_ stdev   \\\n",
       "patid                                                                           \n",
       "S002-BISH-00572                                NaN          NaN           NaN   \n",
       "S002-BISH-00587                                NaN          NaN           NaN   \n",
       "S002-BISH-00613                                NaN          NaN           NaN   \n",
       "S002-BISH-00640                                NaN          NaN           NaN   \n",
       "S002-BISH-00643                                NaN          NaN           NaN   \n",
       "\n",
       "                 f11f_ rmssd   f11f_ totnumberofrwaves   f11f_ iqr   ...  \\\n",
       "patid                                                                ...   \n",
       "S002-BISH-00572           NaN                       NaN         NaN  ...   \n",
       "S002-BISH-00587           NaN                       NaN         NaN  ...   \n",
       "S002-BISH-00613           NaN                       NaN         NaN  ...   \n",
       "S002-BISH-00640           NaN                       NaN         NaN  ...   \n",
       "S002-BISH-00643           NaN                       NaN         NaN  ...   \n",
       "\n",
       "                 f32f_ perc   f32f_epochs  f3_total  f3_as total  f3_qs total  \\\n",
       "patid                                                                           \n",
       "S002-BISH-00572          NaN          NaN       NaN          NaN          NaN   \n",
       "S002-BISH-00587          NaN          NaN       NaN          NaN          NaN   \n",
       "S002-BISH-00613          NaN          NaN       NaN          NaN          NaN   \n",
       "S002-BISH-00640          NaN          NaN       NaN          NaN          NaN   \n",
       "S002-BISH-00643    90.613775         73.0     320.0        106.0          0.0   \n",
       "\n",
       "                 f3_as reject  f3_qs reject  f3_asr%  f3_qsr%  cid  \n",
       "patid                                                               \n",
       "S002-BISH-00572           NaN           NaN      NaN      NaN   10  \n",
       "S002-BISH-00587           NaN           NaN      NaN      NaN   10  \n",
       "S002-BISH-00613           NaN           NaN      NaN      NaN   10  \n",
       "S002-BISH-00640           NaN           NaN      NaN      NaN   10  \n",
       "S002-BISH-00643          43.0           0.0     40.6      0.0   10  \n",
       "\n",
       "[5 rows x 101 columns]"
      ]
     },
     "execution_count": 64,
     "metadata": {},
     "output_type": "execute_result"
    }
   ],
   "source": [
    "rmssd.query('age==\"F1\"').head()"
   ]
  },
  {
   "cell_type": "markdown",
   "metadata": {},
   "source": [
    "Wow.... I am definitely WRONG!\n",
    "\n",
    "I would say that \n",
    "* the `FileName` and `Age` vars are somehow wrong and useless\n",
    "* we should \"trust\" (for lack of a better word!) that the var names indicate the true timings\n",
    "\n",
    "My next suspicion might be that a patient only has 1 recording, in either F1, F2, or F3,\n",
    "and that the `Age` and `FileName` vars are just incorrect."
   ]
  },
  {
   "cell_type": "code",
   "execution_count": 65,
   "metadata": {},
   "outputs": [
    {
     "data": {
      "text/html": [
       "<div>\n",
       "<style scoped>\n",
       "    .dataframe tbody tr th:only-of-type {\n",
       "        vertical-align: middle;\n",
       "    }\n",
       "\n",
       "    .dataframe tbody tr th {\n",
       "        vertical-align: top;\n",
       "    }\n",
       "\n",
       "    .dataframe thead th {\n",
       "        text-align: right;\n",
       "    }\n",
       "</style>\n",
       "<table border=\"1\" class=\"dataframe\">\n",
       "  <thead>\n",
       "    <tr style=\"text-align: right;\">\n",
       "      <th></th>\n",
       "      <th>f11f_ mean</th>\n",
       "      <th>f12f_ mean</th>\n",
       "      <th>f21f_ mean</th>\n",
       "      <th>f22f_ mean</th>\n",
       "      <th>f31f_ mean</th>\n",
       "      <th>f32f_ mean</th>\n",
       "    </tr>\n",
       "    <tr>\n",
       "      <th>patid</th>\n",
       "      <th></th>\n",
       "      <th></th>\n",
       "      <th></th>\n",
       "      <th></th>\n",
       "      <th></th>\n",
       "      <th></th>\n",
       "    </tr>\n",
       "  </thead>\n",
       "  <tbody>\n",
       "    <tr>\n",
       "      <th>S002-BISH-00509</th>\n",
       "      <td>NaN</td>\n",
       "      <td>NaN</td>\n",
       "      <td>NaN</td>\n",
       "      <td>NaN</td>\n",
       "      <td>NaN</td>\n",
       "      <td>411.856240</td>\n",
       "    </tr>\n",
       "    <tr>\n",
       "      <th>S002-BISH-00572</th>\n",
       "      <td>NaN</td>\n",
       "      <td>378.396025</td>\n",
       "      <td>NaN</td>\n",
       "      <td>NaN</td>\n",
       "      <td>NaN</td>\n",
       "      <td>NaN</td>\n",
       "    </tr>\n",
       "    <tr>\n",
       "      <th>S002-BISH-00587</th>\n",
       "      <td>NaN</td>\n",
       "      <td>404.163497</td>\n",
       "      <td>NaN</td>\n",
       "      <td>NaN</td>\n",
       "      <td>NaN</td>\n",
       "      <td>NaN</td>\n",
       "    </tr>\n",
       "    <tr>\n",
       "      <th>S002-BISH-00594</th>\n",
       "      <td>NaN</td>\n",
       "      <td>NaN</td>\n",
       "      <td>NaN</td>\n",
       "      <td>NaN</td>\n",
       "      <td>NaN</td>\n",
       "      <td>409.239411</td>\n",
       "    </tr>\n",
       "    <tr>\n",
       "      <th>S002-BISH-00613</th>\n",
       "      <td>NaN</td>\n",
       "      <td>416.219354</td>\n",
       "      <td>NaN</td>\n",
       "      <td>NaN</td>\n",
       "      <td>NaN</td>\n",
       "      <td>NaN</td>\n",
       "    </tr>\n",
       "    <tr>\n",
       "      <th>S002-BISH-00623</th>\n",
       "      <td>NaN</td>\n",
       "      <td>NaN</td>\n",
       "      <td>NaN</td>\n",
       "      <td>NaN</td>\n",
       "      <td>497.08769</td>\n",
       "      <td>480.756401</td>\n",
       "    </tr>\n",
       "    <tr>\n",
       "      <th>S002-BISH-00640</th>\n",
       "      <td>NaN</td>\n",
       "      <td>NaN</td>\n",
       "      <td>NaN</td>\n",
       "      <td>NaN</td>\n",
       "      <td>NaN</td>\n",
       "      <td>NaN</td>\n",
       "    </tr>\n",
       "    <tr>\n",
       "      <th>S002-BISH-00643</th>\n",
       "      <td>NaN</td>\n",
       "      <td>423.127195</td>\n",
       "      <td>NaN</td>\n",
       "      <td>NaN</td>\n",
       "      <td>NaN</td>\n",
       "      <td>446.857026</td>\n",
       "    </tr>\n",
       "    <tr>\n",
       "      <th>S002-BISH-00655</th>\n",
       "      <td>NaN</td>\n",
       "      <td>419.486361</td>\n",
       "      <td>NaN</td>\n",
       "      <td>NaN</td>\n",
       "      <td>NaN</td>\n",
       "      <td>NaN</td>\n",
       "    </tr>\n",
       "    <tr>\n",
       "      <th>S002-BISH-00657</th>\n",
       "      <td>NaN</td>\n",
       "      <td>414.748721</td>\n",
       "      <td>NaN</td>\n",
       "      <td>NaN</td>\n",
       "      <td>NaN</td>\n",
       "      <td>NaN</td>\n",
       "    </tr>\n",
       "  </tbody>\n",
       "</table>\n",
       "</div>"
      ],
      "text/plain": [
       "                 f11f_ mean   f12f_ mean   f21f_ mean   f22f_ mean   \\\n",
       "patid                                                                 \n",
       "S002-BISH-00509          NaN          NaN          NaN          NaN   \n",
       "S002-BISH-00572          NaN   378.396025          NaN          NaN   \n",
       "S002-BISH-00587          NaN   404.163497          NaN          NaN   \n",
       "S002-BISH-00594          NaN          NaN          NaN          NaN   \n",
       "S002-BISH-00613          NaN   416.219354          NaN          NaN   \n",
       "S002-BISH-00623          NaN          NaN          NaN          NaN   \n",
       "S002-BISH-00640          NaN          NaN          NaN          NaN   \n",
       "S002-BISH-00643          NaN   423.127195          NaN          NaN   \n",
       "S002-BISH-00655          NaN   419.486361          NaN          NaN   \n",
       "S002-BISH-00657          NaN   414.748721          NaN          NaN   \n",
       "\n",
       "                 f31f_ mean   f32f_ mean   \n",
       "patid                                      \n",
       "S002-BISH-00509          NaN   411.856240  \n",
       "S002-BISH-00572          NaN          NaN  \n",
       "S002-BISH-00587          NaN          NaN  \n",
       "S002-BISH-00594          NaN   409.239411  \n",
       "S002-BISH-00613          NaN          NaN  \n",
       "S002-BISH-00623    497.08769   480.756401  \n",
       "S002-BISH-00640          NaN          NaN  \n",
       "S002-BISH-00643          NaN   446.857026  \n",
       "S002-BISH-00655          NaN          NaN  \n",
       "S002-BISH-00657          NaN          NaN  "
      ]
     },
     "execution_count": 65,
     "metadata": {},
     "output_type": "execute_result"
    }
   ],
   "source": [
    "rmssd[mean_vars].head(10)"
   ]
  },
  {
   "cell_type": "markdown",
   "metadata": {},
   "source": [
    "WRONG again, mofo!  \n",
    "\n",
    "Look @ record \\#7:\n",
    "* F12F_Mean: 423.1\n",
    "* F32F_Mean: 446.9\n",
    "\n",
    "**CONCLUSION**:  Just ignore the `FileName` and `Age` vars, as they seem to be wrong/misleading."
   ]
  },
  {
   "cell_type": "code",
   "execution_count": null,
   "metadata": {},
   "outputs": [],
   "source": []
  },
  {
   "cell_type": "markdown",
   "metadata": {},
   "source": [
    "## RMSSD Basics\n",
    "<b>Dec 9, 2019</b>"
   ]
  },
  {
   "cell_type": "code",
   "execution_count": 66,
   "metadata": {},
   "outputs": [
    {
     "data": {
      "text/plain": [
       "(5222, 101)"
      ]
     },
     "execution_count": 66,
     "metadata": {},
     "output_type": "execute_result"
    }
   ],
   "source": [
    "rmssd.shape"
   ]
  },
  {
   "cell_type": "code",
   "execution_count": 68,
   "metadata": {},
   "outputs": [
    {
     "name": "stdout",
     "output_type": "stream",
     "text": [
      "f11f_ numberofgoodrwaves \n",
      "f11f_ numberofgoodrwaves_scandrm \n",
      "f11f_ mean \n",
      "f11f_ stdev \n",
      "f11f_ rmssd \n",
      "f11f_ totnumberofrwaves \n",
      "f11f_ iqr \n",
      "f11f_ sc_a \n",
      "f11f_ sc_d \n",
      "f11f_ perc \n",
      "f11f_epochs\n",
      "\n",
      "Do all FxyF lists have same number of items?\n",
      "\n",
      "\t True\n",
      "\n",
      "Length: 11\n"
     ]
    }
   ],
   "source": [
    "f11f = [item for item in rmssd.columns if 'f11f' in item]\n",
    "f12f = [item for item in rmssd.columns if 'f12f' in item]\n",
    "f21f = [item for item in rmssd.columns if 'f21f' in item]\n",
    "f22f = [item for item in rmssd.columns if 'f22f' in item]\n",
    "f31f = [item for item in rmssd.columns if 'f31f' in item]\n",
    "f32f = [item for item in rmssd.columns if 'f32f' in item]\n",
    "[print(item) for item in f11f];\n",
    "\n",
    "print('\\nDo all FxyF lists have same number of items?\\n')\n",
    "print('\\t',len(f11f) == len(f12f) == len(f21f) == len(f22f) == len(f31f) == len(f32f))\n",
    "print('\\nLength:', len(f11f))"
   ]
  },
  {
   "cell_type": "code",
   "execution_count": 66,
   "metadata": {},
   "outputs": [
    {
     "name": "stdout",
     "output_type": "stream",
     "text": [
      "Do all FxyF lists have the same vars (e.g., Mean, StDev, IQR, etc)?\n"
     ]
    },
    {
     "data": {
      "text/plain": [
       "True"
      ]
     },
     "execution_count": 66,
     "metadata": {},
     "output_type": "execute_result"
    }
   ],
   "source": [
    "print('Do all FxyF lists have the same vars (e.g., Mean, StDev, IQR, etc)?')\n",
    "clean_up_fcn = lambda x: x.split('_')[1].replace(' ','')\n",
    "list(map(clean_up_fcn, f11f)) == \\\n",
    "    list(map(clean_up_fcn, f12f)) == \\\n",
    "    list(map(clean_up_fcn, f21f)) == \\\n",
    "    list(map(clean_up_fcn, f22f)) == \\\n",
    "    list(map(clean_up_fcn, f31f)) == \\\n",
    "    list(map(clean_up_fcn, f32f))"
   ]
  },
  {
   "cell_type": "markdown",
   "metadata": {},
   "source": [
    "<font size=4>\n",
    "<b>Discrepancy</b>: There are 6 FxyF combos and 11 vars per combo, resulting in 66 vars.  But the data shape\n",
    "suggests there are 101 vars.\n",
    "</font>"
   ]
  },
  {
   "cell_type": "code",
   "execution_count": 71,
   "metadata": {},
   "outputs": [
    {
     "data": {
      "text/plain": [
       "['PATID', 'FileName', 'Age', 'Site']"
      ]
     },
     "execution_count": 71,
     "metadata": {},
     "output_type": "execute_result"
    }
   ],
   "source": [
    "[var for var in rmssd.columns \n",
    "     if 'F1' not in var \n",
    "     and 'F2' not in var\n",
    "     and 'F3' not in var]"
   ]
  },
  {
   "cell_type": "code",
   "execution_count": 78,
   "metadata": {},
   "outputs": [
    {
     "name": "stdout",
     "output_type": "stream",
     "text": [
      "Num of other vars: 35\n",
      "Num(Other) + Num(FxyF): 101\n"
     ]
    },
    {
     "data": {
      "text/plain": [
       "['filename',\n",
       " 'age',\n",
       " 'site',\n",
       " 'f1_total',\n",
       " 'f1_as total',\n",
       " 'f1_qs total',\n",
       " 'f1_as reject',\n",
       " 'f1_qs reject',\n",
       " 'f1_asr%',\n",
       " 'f1_qsr%',\n",
       " 'f2_study id +',\n",
       " 'f2_study id',\n",
       " 'f2_study id.1',\n",
       " 'f2_study id.2',\n",
       " 'f2_site',\n",
       " 'f2_total',\n",
       " 'f2_as total',\n",
       " 'f2_qs total',\n",
       " 'f2_as reject',\n",
       " 'f2_qs reject',\n",
       " 'f2_asr%',\n",
       " 'f2_qsr%',\n",
       " 'f3_study id +',\n",
       " 'f3_study id',\n",
       " 'f3_study id.1',\n",
       " 'f3_study id.2',\n",
       " 'f3_site',\n",
       " 'f3_total',\n",
       " 'f3_as total',\n",
       " 'f3_qs total',\n",
       " 'f3_as reject',\n",
       " 'f3_qs reject',\n",
       " 'f3_asr%',\n",
       " 'f3_qsr%',\n",
       " 'cid']"
      ]
     },
     "execution_count": 78,
     "metadata": {},
     "output_type": "execute_result"
    }
   ],
   "source": [
    "other_vars = [var for var in rmssd.columns \n",
    "     if '1f' not in var \n",
    "     and '2f' not in var]\n",
    "print('Num of other vars:', len(other_vars))\n",
    "print('Num(Other) + Num(FxyF):', len(other_vars) + 66)\n",
    "other_vars"
   ]
  },
  {
   "cell_type": "markdown",
   "metadata": {},
   "source": [
    "Ok, so these are mostly meta data vars.  \n",
    "\n",
    "## RMSSD Nullity\n",
    "<b>Dec 9, 2019</b>\n",
    "\n",
    "Assuming we drop all `other_vars` columns, what variables have at least 50% of their data?\n",
    "\n",
    "Turns out only F1 and F3 vars have any data worth talking about (spefically, their 2F vars), and \n",
    "for our predictive models, we cannot really use F3 data.  \n",
    "\n",
    "In fact, you can make this nullity number up to\n",
    "*  86% before any F2 vars come into play (i.e., F2 vars represent 14% of the population or less)\n",
    "*  96% before any F11F vars crop up (i.e., F11F vars represent 3-4% of the population, tops)"
   ]
  },
  {
   "cell_type": "code",
   "execution_count": 79,
   "metadata": {},
   "outputs": [],
   "source": [
    "f1_vars = [var for var in rmssd.columns \n",
    "           if 'f1' in var.lower()\n",
    "           and ('1f' in var.lower() or '2f' in var.lower())]\n",
    "f2_vars = [var for var in rmssd.columns\n",
    "           if 'f2' in var.lower()\n",
    "           and ('1f' in var.lower() or '2f' in var.lower())]\n",
    "f3_vars = [var for var in rmssd.columns\n",
    "           if 'f3' in var.lower()\n",
    "           and ('1f' in var.lower() or '2f' in var.lower())]"
   ]
  },
  {
   "cell_type": "code",
   "execution_count": 99,
   "metadata": {},
   "outputs": [
    {
     "data": {
      "text/html": [
       "<div>\n",
       "<style scoped>\n",
       "    .dataframe tbody tr th:only-of-type {\n",
       "        vertical-align: middle;\n",
       "    }\n",
       "\n",
       "    .dataframe tbody tr th {\n",
       "        vertical-align: top;\n",
       "    }\n",
       "\n",
       "    .dataframe thead th {\n",
       "        text-align: right;\n",
       "    }\n",
       "</style>\n",
       "<table border=\"1\" class=\"dataframe\">\n",
       "  <thead>\n",
       "    <tr style=\"text-align: right;\">\n",
       "      <th></th>\n",
       "      <th>nullity</th>\n",
       "    </tr>\n",
       "  </thead>\n",
       "  <tbody>\n",
       "    <tr>\n",
       "      <th>f12f_ numberofgoodrwaves</th>\n",
       "      <td>32.7</td>\n",
       "    </tr>\n",
       "    <tr>\n",
       "      <th>f12f_ numberofgoodrwaves_scandrm</th>\n",
       "      <td>32.7</td>\n",
       "    </tr>\n",
       "    <tr>\n",
       "      <th>f12f_ mean</th>\n",
       "      <td>32.7</td>\n",
       "    </tr>\n",
       "    <tr>\n",
       "      <th>f12f_ stdev</th>\n",
       "      <td>32.7</td>\n",
       "    </tr>\n",
       "    <tr>\n",
       "      <th>f12f_ rmssd</th>\n",
       "      <td>33.0</td>\n",
       "    </tr>\n",
       "    <tr>\n",
       "      <th>f12f_ totnumberofrwaves</th>\n",
       "      <td>32.7</td>\n",
       "    </tr>\n",
       "    <tr>\n",
       "      <th>f12f_ iqr</th>\n",
       "      <td>32.7</td>\n",
       "    </tr>\n",
       "    <tr>\n",
       "      <th>f12f_ sc_a</th>\n",
       "      <td>32.7</td>\n",
       "    </tr>\n",
       "    <tr>\n",
       "      <th>f12f_ sc_d</th>\n",
       "      <td>32.7</td>\n",
       "    </tr>\n",
       "    <tr>\n",
       "      <th>f12f_ perc</th>\n",
       "      <td>32.7</td>\n",
       "    </tr>\n",
       "    <tr>\n",
       "      <th>f12f_epochs</th>\n",
       "      <td>32.7</td>\n",
       "    </tr>\n",
       "    <tr>\n",
       "      <th>f32f_ numberofgoodrwaves</th>\n",
       "      <td>16.3</td>\n",
       "    </tr>\n",
       "    <tr>\n",
       "      <th>f32f_ numberofgoodrwaves_scandrm</th>\n",
       "      <td>16.3</td>\n",
       "    </tr>\n",
       "    <tr>\n",
       "      <th>f32f_ mean</th>\n",
       "      <td>16.3</td>\n",
       "    </tr>\n",
       "    <tr>\n",
       "      <th>f32f_ stdev</th>\n",
       "      <td>16.3</td>\n",
       "    </tr>\n",
       "    <tr>\n",
       "      <th>f32f_ rmssd</th>\n",
       "      <td>17.0</td>\n",
       "    </tr>\n",
       "    <tr>\n",
       "      <th>f32f_ totnumberofrwaves</th>\n",
       "      <td>16.3</td>\n",
       "    </tr>\n",
       "    <tr>\n",
       "      <th>f32f_ iqr</th>\n",
       "      <td>16.3</td>\n",
       "    </tr>\n",
       "    <tr>\n",
       "      <th>f32f_ sc_a</th>\n",
       "      <td>16.3</td>\n",
       "    </tr>\n",
       "    <tr>\n",
       "      <th>f32f_ sc_d</th>\n",
       "      <td>16.3</td>\n",
       "    </tr>\n",
       "    <tr>\n",
       "      <th>f32f_ perc</th>\n",
       "      <td>16.3</td>\n",
       "    </tr>\n",
       "    <tr>\n",
       "      <th>f32f_epochs</th>\n",
       "      <td>16.3</td>\n",
       "    </tr>\n",
       "  </tbody>\n",
       "</table>\n",
       "</div>"
      ],
      "text/plain": [
       "                                   nullity\n",
       "f12f_ numberofgoodrwaves              32.7\n",
       "f12f_ numberofgoodrwaves_scandrm      32.7\n",
       "f12f_ mean                            32.7\n",
       "f12f_ stdev                           32.7\n",
       "f12f_ rmssd                           33.0\n",
       "f12f_ totnumberofrwaves               32.7\n",
       "f12f_ iqr                             32.7\n",
       "f12f_ sc_a                            32.7\n",
       "f12f_ sc_d                            32.7\n",
       "f12f_ perc                            32.7\n",
       "f12f_epochs                           32.7\n",
       "f32f_ numberofgoodrwaves              16.3\n",
       "f32f_ numberofgoodrwaves_scandrm      16.3\n",
       "f32f_ mean                            16.3\n",
       "f32f_ stdev                           16.3\n",
       "f32f_ rmssd                           17.0\n",
       "f32f_ totnumberofrwaves               16.3\n",
       "f32f_ iqr                             16.3\n",
       "f32f_ sc_a                            16.3\n",
       "f32f_ sc_d                            16.3\n",
       "f32f_ perc                            16.3\n",
       "f32f_epochs                           16.3"
      ]
     },
     "execution_count": 99,
     "metadata": {},
     "output_type": "execute_result"
    }
   ],
   "source": [
    "rmssd.drop(other_vars, axis=1).isnull().\\\n",
    "    apply(lambda x: round(100 * x.sum()/len(rmssd),1)).to_frame('nullity').\\\n",
    "    query('nullity <= 50')"
   ]
  },
  {
   "cell_type": "code",
   "execution_count": null,
   "metadata": {},
   "outputs": [],
   "source": []
  },
  {
   "cell_type": "code",
   "execution_count": 130,
   "metadata": {},
   "outputs": [
    {
     "data": {
      "text/html": [
       "<div>\n",
       "<style scoped>\n",
       "    .dataframe tbody tr th:only-of-type {\n",
       "        vertical-align: middle;\n",
       "    }\n",
       "\n",
       "    .dataframe tbody tr th {\n",
       "        vertical-align: top;\n",
       "    }\n",
       "\n",
       "    .dataframe thead th {\n",
       "        text-align: right;\n",
       "    }\n",
       "</style>\n",
       "<table border=\"1\" class=\"dataframe\">\n",
       "  <thead>\n",
       "    <tr style=\"text-align: right;\">\n",
       "      <th></th>\n",
       "      <th>nullity</th>\n",
       "    </tr>\n",
       "  </thead>\n",
       "  <tbody>\n",
       "    <tr>\n",
       "      <th>F12F_ NumberofGoodRWaves</th>\n",
       "      <td>32.7</td>\n",
       "    </tr>\n",
       "    <tr>\n",
       "      <th>F12F_ NumberofGoodRWaves_SCandRM</th>\n",
       "      <td>32.7</td>\n",
       "    </tr>\n",
       "    <tr>\n",
       "      <th>F12F_ Mean</th>\n",
       "      <td>32.7</td>\n",
       "    </tr>\n",
       "    <tr>\n",
       "      <th>F12F_ StDev</th>\n",
       "      <td>32.7</td>\n",
       "    </tr>\n",
       "    <tr>\n",
       "      <th>F12F_ RMSSD</th>\n",
       "      <td>33.0</td>\n",
       "    </tr>\n",
       "    <tr>\n",
       "      <th>F12F_ TotNumberofRwaves</th>\n",
       "      <td>32.7</td>\n",
       "    </tr>\n",
       "    <tr>\n",
       "      <th>F12F_ IQR</th>\n",
       "      <td>32.7</td>\n",
       "    </tr>\n",
       "    <tr>\n",
       "      <th>F12F_ SC_A</th>\n",
       "      <td>32.7</td>\n",
       "    </tr>\n",
       "    <tr>\n",
       "      <th>F12F_ SC_D</th>\n",
       "      <td>32.7</td>\n",
       "    </tr>\n",
       "    <tr>\n",
       "      <th>F12F_ PERC</th>\n",
       "      <td>32.7</td>\n",
       "    </tr>\n",
       "    <tr>\n",
       "      <th>F12F_Epochs</th>\n",
       "      <td>32.7</td>\n",
       "    </tr>\n",
       "  </tbody>\n",
       "</table>\n",
       "</div>"
      ],
      "text/plain": [
       "                                   nullity\n",
       "F12F_ NumberofGoodRWaves              32.7\n",
       "F12F_ NumberofGoodRWaves_SCandRM      32.7\n",
       "F12F_ Mean                            32.7\n",
       "F12F_ StDev                           32.7\n",
       "F12F_ RMSSD                           33.0\n",
       "F12F_ TotNumberofRwaves               32.7\n",
       "F12F_ IQR                             32.7\n",
       "F12F_ SC_A                            32.7\n",
       "F12F_ SC_D                            32.7\n",
       "F12F_ PERC                            32.7\n",
       "F12F_Epochs                           32.7"
      ]
     },
     "execution_count": 130,
     "metadata": {},
     "output_type": "execute_result"
    }
   ],
   "source": [
    "# This shows that we can keep all of the F12F vars\n",
    "#  -- note how limited the F11F vars are (worse nullity than 95%)\n",
    "rmssd.drop(other_vars + f2_vars + f3_vars, axis=1).isnull().\\\n",
    "    apply(lambda x: round(100 * x.sum()/len(rmssd),1)).to_frame('nullity').\\\n",
    "    query('nullity <= 95')"
   ]
  },
  {
   "cell_type": "code",
   "execution_count": 141,
   "metadata": {},
   "outputs": [
    {
     "data": {
      "text/html": [
       "<div>\n",
       "<style scoped>\n",
       "    .dataframe tbody tr th:only-of-type {\n",
       "        vertical-align: middle;\n",
       "    }\n",
       "\n",
       "    .dataframe tbody tr th {\n",
       "        vertical-align: top;\n",
       "    }\n",
       "\n",
       "    .dataframe thead th {\n",
       "        text-align: right;\n",
       "    }\n",
       "</style>\n",
       "<table border=\"1\" class=\"dataframe\">\n",
       "  <thead>\n",
       "    <tr style=\"text-align: right;\">\n",
       "      <th></th>\n",
       "      <th>nullity</th>\n",
       "    </tr>\n",
       "  </thead>\n",
       "  <tbody>\n",
       "    <tr>\n",
       "      <th>F32F_ NumberofGoodRWaves</th>\n",
       "      <td>16.3</td>\n",
       "    </tr>\n",
       "    <tr>\n",
       "      <th>F32F_ NumberofGoodRWaves_SCandRM</th>\n",
       "      <td>16.3</td>\n",
       "    </tr>\n",
       "    <tr>\n",
       "      <th>F32F_ Mean</th>\n",
       "      <td>16.3</td>\n",
       "    </tr>\n",
       "    <tr>\n",
       "      <th>F32F_ StDev</th>\n",
       "      <td>16.3</td>\n",
       "    </tr>\n",
       "    <tr>\n",
       "      <th>F32F_ RMSSD</th>\n",
       "      <td>17.0</td>\n",
       "    </tr>\n",
       "    <tr>\n",
       "      <th>F32F_ TotNumberofRwaves</th>\n",
       "      <td>16.3</td>\n",
       "    </tr>\n",
       "    <tr>\n",
       "      <th>F32F_ IQR</th>\n",
       "      <td>16.3</td>\n",
       "    </tr>\n",
       "    <tr>\n",
       "      <th>F32F_ SC_A</th>\n",
       "      <td>16.3</td>\n",
       "    </tr>\n",
       "    <tr>\n",
       "      <th>F32F_ SC_D</th>\n",
       "      <td>16.3</td>\n",
       "    </tr>\n",
       "    <tr>\n",
       "      <th>F32F_ PERC</th>\n",
       "      <td>16.3</td>\n",
       "    </tr>\n",
       "    <tr>\n",
       "      <th>F32F_Epochs</th>\n",
       "      <td>16.3</td>\n",
       "    </tr>\n",
       "  </tbody>\n",
       "</table>\n",
       "</div>"
      ],
      "text/plain": [
       "                                   nullity\n",
       "F32F_ NumberofGoodRWaves              16.3\n",
       "F32F_ NumberofGoodRWaves_SCandRM      16.3\n",
       "F32F_ Mean                            16.3\n",
       "F32F_ StDev                           16.3\n",
       "F32F_ RMSSD                           17.0\n",
       "F32F_ TotNumberofRwaves               16.3\n",
       "F32F_ IQR                             16.3\n",
       "F32F_ SC_A                            16.3\n",
       "F32F_ SC_D                            16.3\n",
       "F32F_ PERC                            16.3\n",
       "F32F_Epochs                           16.3"
      ]
     },
     "execution_count": 141,
     "metadata": {},
     "output_type": "execute_result"
    }
   ],
   "source": [
    "# This shows that we can keep all of the F32F vars\n",
    "#  -- note how limited the F31F vars are (worse nullity than 83%)\n",
    "#  -- not that the nullity matters much since we are not using F3 vars in predictive model\n",
    "rmssd.drop(other_vars + f1_vars + f2_vars, axis=1).isnull().\\\n",
    "    apply(lambda x: round(100 * x.sum()/len(rmssd),1)).to_frame('nullity').\\\n",
    "    query('nullity <= 83')"
   ]
  },
  {
   "cell_type": "code",
   "execution_count": 131,
   "metadata": {},
   "outputs": [],
   "source": [
    "f12f_vars = [var for var in rmssd.columns \n",
    "           if 'f1' in var.lower()\n",
    "           and '2f' in var.lower()]"
   ]
  },
  {
   "cell_type": "code",
   "execution_count": 133,
   "metadata": {},
   "outputs": [
    {
     "data": {
      "image/png": "[encoded data removed]",
      "text/plain": [
       "<Figure size 1080x1440 with 12 Axes>"
      ]
     },
     "metadata": {
      "needs_background": "light"
     },
     "output_type": "display_data"
    }
   ],
   "source": [
    "rmssd[f12f_vars].hist(figsize=(15,20));"
   ]
  },
  {
   "cell_type": "markdown",
   "metadata": {},
   "source": [
    "We know that David said to only use band power vars for TOI.  Might this be true of MON as well?\n",
    "There is also the fact that some of the TOI and MON vars are more like meta-data than data, e.g.,\n",
    "the `number of segments` variables usually record how many segments were used to arrive at some statistic.  This\n",
    "might proxy as a \"data quality\" variable...but it's not clear it is really useful."
   ]
  },
  {
   "cell_type": "markdown",
   "metadata": {},
   "source": [
    "### RMSSD CODE THUS FAR\n",
    "<b>Dec 9, 2019</b>"
   ]
  },
  {
   "cell_type": "code",
   "execution_count": 142,
   "metadata": {},
   "outputs": [],
   "source": [
    "rmssd = pd.read_csv('../data/raw/BISH_RMSSD_MONICA_052218_EARLY_SIGNAL2.csv')\n",
    "rmssd.columns = map(lambda x: x.lower().replace(' ',''), rmssd.columns)\n",
    "f12f_vars = [var for var in rmssd.columns \n",
    "           if 'f1' in var and '2f' in var]\n",
    "rmssd.set_index('patid', inplace=True)\n",
    "rmssd = rmssd[f12f_vars]"
   ]
  },
  {
   "cell_type": "code",
   "execution_count": null,
   "metadata": {},
   "outputs": [],
   "source": []
  },
  {
   "cell_type": "markdown",
   "metadata": {},
   "source": [
    "# Patient Uniqueness\n",
    "<b>Dec 6, 2019</b>\n",
    "\n",
    "Here, we find that RMSSD is the only table that has one record per patient, providing\n",
    "evidence that we're right about it only having CID10 measurements.\n",
    "\n",
    "Both MHR and MVMT can have multiple records per patient ID, which means that\n",
    "we would want to flatten the table more (\"widen it\") before we join all the MON tables. However,\n",
    "note that the difference between the `number of records` and `unique patients` is relatively\n",
    "small in both tables:  of `3,968 records` in MHR there are `3,589 patients`, which is \n",
    "a difference of `379`.  Similarly, for MVMT, the difference is quite small: `194`.\n",
    "\n",
    "<br>\n",
    "<font class=update>\n",
    "    <b>UPDATE (Dec 9)</b>:  Ulimately, what I found was that RMSSD was already pre-widened into\n",
    "    Fx columns -- and that the CID/Fx info in the `FileName` and `Age` vars is somehow wrong/misleading.  Both\n",
    "    MHR and MVMT tables are not pre-widened, which is why a PATID can appear in multiple records.  \n",
    "</font>"
   ]
  },
  {
   "cell_type": "code",
   "execution_count": 496,
   "metadata": {},
   "outputs": [
    {
     "name": "stdout",
     "output_type": "stream",
     "text": [
      "RMSSD Records: 5222\n",
      "RMSSD Unique PIDs: 5222\n",
      "Difference: 0\n"
     ]
    }
   ],
   "source": [
    "print('RMSSD Records:', rmssd.shape[0])\n",
    "print('RMSSD Unique PIDs:', rmssd.index.unique().__len__())\n",
    "print('Difference:', rmssd.shape[0] - rmssd.index.unique().__len__())"
   ]
  },
  {
   "cell_type": "code",
   "execution_count": 497,
   "metadata": {},
   "outputs": [
    {
     "name": "stdout",
     "output_type": "stream",
     "text": [
      "MHR Records: 3968\n",
      "MHR Unique PIDs: 3589\n",
      "Difference: 379\n"
     ]
    }
   ],
   "source": [
    "print('MHR Records:', mhr.shape[0])\n",
    "print('MHR Unique PIDs:', mhr.index.unique().__len__())\n",
    "print('Difference:', mhr.shape[0] - mhr.index.unique().__len__())"
   ]
  },
  {
   "cell_type": "code",
   "execution_count": 498,
   "metadata": {},
   "outputs": [
    {
     "name": "stdout",
     "output_type": "stream",
     "text": [
      "MVMT Records: 3076\n",
      "MVMT Unique PIDs: 2882\n",
      "Difference: 194\n"
     ]
    }
   ],
   "source": [
    "print('MVMT Records:', mvmt.shape[0])\n",
    "print('MVMT Unique PIDs:', mvmt.index.unique().__len__())\n",
    "print('Difference:', mvmt.shape[0] - mvmt.index.unique().__len__())"
   ]
  },
  {
   "cell_type": "markdown",
   "metadata": {},
   "source": [
    "<font class=mon size=10><b> MON MHR</b></font>"
   ]
  },
  {
   "cell_type": "markdown",
   "metadata": {},
   "source": [
    "## MHR Basics"
   ]
  },
  {
   "cell_type": "code",
   "execution_count": 192,
   "metadata": {},
   "outputs": [],
   "source": [
    "# Reload, in case\n",
    "mhr = pd.read_csv('../data/raw/Maternal HR XFER 052318.csv')\n",
    "mhr['cid'] = mhr['File Name'].map(lambda x: x.split('-')[1].split('_')[0] if type(x)==str else x)\n",
    "mhr.columns = map(str.lower, mhr.columns)\n",
    "mhr.set_index('patid', inplace=True)"
   ]
  },
  {
   "cell_type": "code",
   "execution_count": 193,
   "metadata": {},
   "outputs": [
    {
     "data": {
      "text/plain": [
       "(3968, 25)"
      ]
     },
     "execution_count": 193,
     "metadata": {},
     "output_type": "execute_result"
    }
   ],
   "source": [
    "mhr.shape"
   ]
  },
  {
   "cell_type": "code",
   "execution_count": 178,
   "metadata": {},
   "outputs": [
    {
     "data": {
      "text/plain": [
       "Index(['timepoint', 'file name', 'numbersegments', 'meanpercentbad',\n",
       "       'startsecond', 'endsecond', 'mhr_mean', 'mhr_median', 'mhr_stddev',\n",
       "       'mhr_25th', 'mhr_75th', 'mhr_min', 'mhr_max', 'mhr_bandpwr1',\n",
       "       'mhr_bandpwr2', 'mhr_bandpwr3', 'mhr_bandpwr4', 'maxcrosscorr',\n",
       "       'lagofmaxcrosscorr', 'medianmaxcrosscorr', 'medianlagofmaxcrosscorr',\n",
       "       'numbersegments.1', 'numberusedpwrcoh', 'numberusedcrscor', 'cid'],\n",
       "      dtype='object')"
      ]
     },
     "execution_count": 178,
     "metadata": {},
     "output_type": "execute_result"
    }
   ],
   "source": [
    "mhr.columns"
   ]
  },
  {
   "cell_type": "code",
   "execution_count": 179,
   "metadata": {},
   "outputs": [
    {
     "data": {
      "text/html": [
       "<div>\n",
       "<style scoped>\n",
       "    .dataframe tbody tr th:only-of-type {\n",
       "        vertical-align: middle;\n",
       "    }\n",
       "\n",
       "    .dataframe tbody tr th {\n",
       "        vertical-align: top;\n",
       "    }\n",
       "\n",
       "    .dataframe thead th {\n",
       "        text-align: right;\n",
       "    }\n",
       "</style>\n",
       "<table border=\"1\" class=\"dataframe\">\n",
       "  <thead>\n",
       "    <tr style=\"text-align: right;\">\n",
       "      <th></th>\n",
       "      <th>timepoint</th>\n",
       "      <th>file name</th>\n",
       "      <th>numbersegments</th>\n",
       "      <th>meanpercentbad</th>\n",
       "      <th>startsecond</th>\n",
       "      <th>endsecond</th>\n",
       "      <th>mhr_mean</th>\n",
       "      <th>mhr_median</th>\n",
       "      <th>mhr_stddev</th>\n",
       "      <th>mhr_25th</th>\n",
       "      <th>...</th>\n",
       "      <th>mhr_bandpwr3</th>\n",
       "      <th>mhr_bandpwr4</th>\n",
       "      <th>maxcrosscorr</th>\n",
       "      <th>lagofmaxcrosscorr</th>\n",
       "      <th>medianmaxcrosscorr</th>\n",
       "      <th>medianlagofmaxcrosscorr</th>\n",
       "      <th>numbersegments.1</th>\n",
       "      <th>numberusedpwrcoh</th>\n",
       "      <th>numberusedcrscor</th>\n",
       "      <th>cid</th>\n",
       "    </tr>\n",
       "    <tr>\n",
       "      <th>patid</th>\n",
       "      <th></th>\n",
       "      <th></th>\n",
       "      <th></th>\n",
       "      <th></th>\n",
       "      <th></th>\n",
       "      <th></th>\n",
       "      <th></th>\n",
       "      <th></th>\n",
       "      <th></th>\n",
       "      <th></th>\n",
       "      <th></th>\n",
       "      <th></th>\n",
       "      <th></th>\n",
       "      <th></th>\n",
       "      <th></th>\n",
       "      <th></th>\n",
       "      <th></th>\n",
       "      <th></th>\n",
       "      <th></th>\n",
       "      <th></th>\n",
       "      <th></th>\n",
       "    </tr>\n",
       "  </thead>\n",
       "  <tbody>\n",
       "    <tr>\n",
       "      <th>S002-BISH-01546</th>\n",
       "      <td>F3</td>\n",
       "      <td>01546-20_exp_250ms.mhr</td>\n",
       "      <td>6</td>\n",
       "      <td>0.0</td>\n",
       "      <td>3078</td>\n",
       "      <td>3445</td>\n",
       "      <td>91.02</td>\n",
       "      <td>91.0</td>\n",
       "      <td>2.79</td>\n",
       "      <td>89.0</td>\n",
       "      <td>...</td>\n",
       "      <td>0.485221</td>\n",
       "      <td>0.024952</td>\n",
       "      <td>0.187834</td>\n",
       "      <td>-3.90</td>\n",
       "      <td>0.499977</td>\n",
       "      <td>-9.175</td>\n",
       "      <td>6.0</td>\n",
       "      <td>6.0</td>\n",
       "      <td>6.0</td>\n",
       "      <td>20</td>\n",
       "    </tr>\n",
       "    <tr>\n",
       "      <th>S002-BISH-04101</th>\n",
       "      <td>F2</td>\n",
       "      <td>04101-15_exp_250ms.mhr</td>\n",
       "      <td>30</td>\n",
       "      <td>0.0</td>\n",
       "      <td>2409</td>\n",
       "      <td>4211</td>\n",
       "      <td>86.91</td>\n",
       "      <td>87.0</td>\n",
       "      <td>3.01</td>\n",
       "      <td>85.0</td>\n",
       "      <td>...</td>\n",
       "      <td>1.019080</td>\n",
       "      <td>0.022936</td>\n",
       "      <td>0.110428</td>\n",
       "      <td>4.35</td>\n",
       "      <td>0.590114</td>\n",
       "      <td>3.675</td>\n",
       "      <td>30.0</td>\n",
       "      <td>30.0</td>\n",
       "      <td>30.0</td>\n",
       "      <td>15</td>\n",
       "    </tr>\n",
       "    <tr>\n",
       "      <th>S002-BISH-07004</th>\n",
       "      <td>F1</td>\n",
       "      <td>07004-10_exp_250ms.mhr</td>\n",
       "      <td>30</td>\n",
       "      <td>0.0</td>\n",
       "      <td>2008</td>\n",
       "      <td>11979</td>\n",
       "      <td>78.88</td>\n",
       "      <td>79.0</td>\n",
       "      <td>4.03</td>\n",
       "      <td>76.0</td>\n",
       "      <td>...</td>\n",
       "      <td>1.718050</td>\n",
       "      <td>0.029149</td>\n",
       "      <td>0.029641</td>\n",
       "      <td>-16.65</td>\n",
       "      <td>0.566702</td>\n",
       "      <td>-0.875</td>\n",
       "      <td>30.0</td>\n",
       "      <td>30.0</td>\n",
       "      <td>30.0</td>\n",
       "      <td>10</td>\n",
       "    </tr>\n",
       "  </tbody>\n",
       "</table>\n",
       "<p>3 rows × 25 columns</p>\n",
       "</div>"
      ],
      "text/plain": [
       "                timepoint               file name  numbersegments  \\\n",
       "patid                                                               \n",
       "S002-BISH-01546        F3  01546-20_exp_250ms.mhr               6   \n",
       "S002-BISH-04101        F2  04101-15_exp_250ms.mhr              30   \n",
       "S002-BISH-07004        F1  07004-10_exp_250ms.mhr              30   \n",
       "\n",
       "                 meanpercentbad  startsecond  endsecond  mhr_mean  mhr_median  \\\n",
       "patid                                                                           \n",
       "S002-BISH-01546             0.0         3078       3445     91.02        91.0   \n",
       "S002-BISH-04101             0.0         2409       4211     86.91        87.0   \n",
       "S002-BISH-07004             0.0         2008      11979     78.88        79.0   \n",
       "\n",
       "                 mhr_stddev  mhr_25th  ...  mhr_bandpwr3  mhr_bandpwr4  \\\n",
       "patid                                  ...                               \n",
       "S002-BISH-01546        2.79      89.0  ...      0.485221      0.024952   \n",
       "S002-BISH-04101        3.01      85.0  ...      1.019080      0.022936   \n",
       "S002-BISH-07004        4.03      76.0  ...      1.718050      0.029149   \n",
       "\n",
       "                 maxcrosscorr  lagofmaxcrosscorr  medianmaxcrosscorr  \\\n",
       "patid                                                                  \n",
       "S002-BISH-01546      0.187834              -3.90            0.499977   \n",
       "S002-BISH-04101      0.110428               4.35            0.590114   \n",
       "S002-BISH-07004      0.029641             -16.65            0.566702   \n",
       "\n",
       "                 medianlagofmaxcrosscorr  numbersegments.1  numberusedpwrcoh  \\\n",
       "patid                                                                          \n",
       "S002-BISH-01546                   -9.175               6.0               6.0   \n",
       "S002-BISH-04101                    3.675              30.0              30.0   \n",
       "S002-BISH-07004                   -0.875              30.0              30.0   \n",
       "\n",
       "                 numberusedcrscor  cid  \n",
       "patid                                   \n",
       "S002-BISH-01546               6.0   20  \n",
       "S002-BISH-04101              30.0   15  \n",
       "S002-BISH-07004              30.0   10  \n",
       "\n",
       "[3 rows x 25 columns]"
      ]
     },
     "execution_count": 179,
     "metadata": {},
     "output_type": "execute_result"
    }
   ],
   "source": [
    "mhr.head(3)"
   ]
  },
  {
   "cell_type": "code",
   "execution_count": 181,
   "metadata": {},
   "outputs": [
    {
     "data": {
      "text/plain": [
       "array([0.  , 0.04, 0.02, 0.01, 0.03, 0.08, 0.14, 0.22, 0.05, 0.28, 0.06])"
      ]
     },
     "execution_count": 181,
     "metadata": {},
     "output_type": "execute_result"
    }
   ],
   "source": [
    "# Generally \"good\" data\n",
    "mhr.meanpercentbad.unique()"
   ]
  },
  {
   "cell_type": "code",
   "execution_count": 185,
   "metadata": {},
   "outputs": [
    {
     "data": {
      "text/plain": [
       "array([ 0,  3,  5,  6,  7,  9, 11, 13, 15, 16, 17, 19, 20, 22, 23, 24, 25,\n",
       "       26, 27, 28, 29, 30, 31, 32, 33, 34, 35, 36, 37, 38, 39, 40, 41, 42,\n",
       "       43, 44, 45, 46, 47, 48, 49, 50, 51, 52, 53, 54, 55, 56, 57, 58, 59,\n",
       "       60, 61, 62, 63, 64, 65, 66, 67, 68, 70, 71, 74, 80])"
      ]
     },
     "execution_count": 185,
     "metadata": {},
     "output_type": "execute_result"
    }
   ],
   "source": [
    "nsegs = mhr.numbersegments.unique()\n",
    "nsegs.sort()\n",
    "nsegs"
   ]
  },
  {
   "cell_type": "code",
   "execution_count": 187,
   "metadata": {},
   "outputs": [
    {
     "data": {
      "text/plain": [
       "array([ 3.,  5.,  6.,  7.,  9., 11., 13., 15., 16., 17., 19., 20., 22.,\n",
       "       23., 24., 25., 26., 27., 28., 29., 30., 31., 32., 33., 34., 35.,\n",
       "       36., 37., 38., 39., 40., 41., 42., 43., 44., 45., 46., 47., 48.,\n",
       "       49., 50., 51., 52., 53., 54., 55., 56., 57., 58., 59., 60., 61.,\n",
       "       62., 63., 64., 65., 66., 67., 68., 70., 71., 74., 80., nan])"
      ]
     },
     "execution_count": 187,
     "metadata": {},
     "output_type": "execute_result"
    }
   ],
   "source": [
    "nsegs1 = mhr['numbersegments.1'].unique()\n",
    "nsegs1.sort()\n",
    "nsegs1"
   ]
  },
  {
   "cell_type": "code",
   "execution_count": 190,
   "metadata": {},
   "outputs": [
    {
     "data": {
      "text/plain": [
       "array([ 3.,  5.,  6.,  7.,  9., 11., 13., 15., 16., 17., 19., 20., 22.,\n",
       "       23., 24., 25., 26., 27., 28., 29., 30., 31., 32., 33., 34., 35.,\n",
       "       36., 37., 38., 39., 40., 41., 42., 43., 44., 45., 46., 47., 48.,\n",
       "       49., 50., 51., 52., 53., 54., 55., 56., 57., 58., 59., 60., 61.,\n",
       "       62., 63., 64., 65., 66., 67., 68., 70., 71., 74., 80., nan])"
      ]
     },
     "execution_count": 190,
     "metadata": {},
     "output_type": "execute_result"
    }
   ],
   "source": [
    "npow = mhr.numberusedpwrcoh.unique()\n",
    "npow.sort()\n",
    "npow"
   ]
  },
  {
   "cell_type": "code",
   "execution_count": 191,
   "metadata": {},
   "outputs": [
    {
     "data": {
      "text/plain": [
       "array([ 3.,  5.,  6.,  7.,  9., 11., 13., 15., 16., 17., 19., 20., 21.,\n",
       "       22., 23., 24., 25., 26., 27., 28., 29., 30., 31., 32., 33., 34.,\n",
       "       35., 36., 37., 38., 39., 40., 41., 42., 43., 44., 45., 46., 47.,\n",
       "       48., 49., 50., 51., 52., 53., 54., 55., 56., 57., 58., 59., 60.,\n",
       "       61., 62., 63., 64., 65., 66., 69., 72., 78., nan])"
      ]
     },
     "execution_count": 191,
     "metadata": {},
     "output_type": "execute_result"
    }
   ],
   "source": [
    "ncor = mhr.numberusedcrscor.unique()\n",
    "ncor.sort()\n",
    "ncor"
   ]
  },
  {
   "cell_type": "code",
   "execution_count": null,
   "metadata": {},
   "outputs": [],
   "source": []
  },
  {
   "cell_type": "markdown",
   "metadata": {},
   "source": [
    "## MHR Nullity\n",
    "**Dec 9, 2019**\n",
    "\n",
    "MHR generally has good data."
   ]
  },
  {
   "cell_type": "code",
   "execution_count": 186,
   "metadata": {},
   "outputs": [
    {
     "data": {
      "text/plain": [
       "timepoint                  0\n",
       "file name                  0\n",
       "numbersegments             0\n",
       "meanpercentbad             0\n",
       "startsecond                0\n",
       "endsecond                  0\n",
       "mhr_mean                   5\n",
       "mhr_median                 5\n",
       "mhr_stddev                 5\n",
       "mhr_25th                   5\n",
       "mhr_75th                   5\n",
       "mhr_min                    5\n",
       "mhr_max                    5\n",
       "mhr_bandpwr1               5\n",
       "mhr_bandpwr2               5\n",
       "mhr_bandpwr3               5\n",
       "mhr_bandpwr4               5\n",
       "maxcrosscorr               5\n",
       "lagofmaxcrosscorr          5\n",
       "medianmaxcrosscorr         5\n",
       "medianlagofmaxcrosscorr    5\n",
       "numbersegments.1           5\n",
       "numberusedpwrcoh           5\n",
       "numberusedcrscor           5\n",
       "cid                        0\n",
       "dtype: int64"
      ]
     },
     "execution_count": 186,
     "metadata": {},
     "output_type": "execute_result"
    }
   ],
   "source": [
    "mhr.isnull().sum()"
   ]
  },
  {
   "cell_type": "markdown",
   "metadata": {},
   "source": [
    "## MHR Drop Cols"
   ]
  },
  {
   "cell_type": "code",
   "execution_count": 188,
   "metadata": {},
   "outputs": [],
   "source": [
    "# I would drop the \"CID\" column too, but ultimately I won't create it in the first\n",
    "# place (will just use the \"timepoint\" column for Fx references)\n",
    "mhr_drop_cols = ['file name', 'numbersegments', 'meanpercentbad',\n",
    "                'startsecond', 'endsecond', 'numbersegments.1', \n",
    "                'numberusedpwrcoh', 'numberusedcrscor']\n",
    "mhr.drop(mhr_drop_cols, axis=1, inplace=True)"
   ]
  },
  {
   "cell_type": "markdown",
   "metadata": {},
   "source": [
    "## MHR Band Power\n",
    "**Dec 9, 2019**\n",
    "\n",
    "For many types of geophysical phenomena I've studied, the intensity of the\n",
    "band power over time is an important feature of a signal.  However, with medical instruments,\n",
    "this feature can be greatly distorted by many things, including:\n",
    "* proper/improper placement of the instrument leads\n",
    "* calibration differences among devices used at a site\n",
    "* calibration differences among devices used at different sites\n",
    "* whether or not a device was used against skin or clothing, etc\n",
    "\n",
    "So, while intensity may still have some significance here, we cannot be fully sure it will.  More \n",
    "importantly, it is likely that the relative importances between sub-band powers is washed out\n",
    "due to these kinds of things.  \n",
    "\n",
    "Point is, we do not necessarily have to drop the absolute band powers, but it is likely\n",
    "a good move to also include relative powers.  (In fact, for the TOI data, this is exactly\n",
    "what David recommended Udi do...so he would likely recommend the same here.)"
   ]
  },
  {
   "cell_type": "code",
   "execution_count": 198,
   "metadata": {},
   "outputs": [],
   "source": [
    "mhr['bandpwr'] = mhr.mhr_bandpwr1 + mhr.mhr_bandpwr2 + mhr.mhr_bandpwr3 + mhr.mhr_bandpwr4\n",
    "mhr['relative_bandpwr1'] = mhr.mhr_bandpwr1/mhr.bandpwr\n",
    "mhr['relative_bandpwr2'] = mhr.mhr_bandpwr2/mhr.bandpwr\n",
    "mhr['relative_bandpwr3'] = mhr.mhr_bandpwr3/mhr.bandpwr\n",
    "mhr['relative_bandpwr4'] = mhr.mhr_bandpwr1/mhr.bandpwr"
   ]
  },
  {
   "cell_type": "code",
   "execution_count": 204,
   "metadata": {},
   "outputs": [
    {
     "data": {
      "image/png": "[encoded data removed]",
      "text/plain": [
       "<Figure size 432x288 with 1 Axes>"
      ]
     },
     "metadata": {
      "needs_background": "light"
     },
     "output_type": "display_data"
    }
   ],
   "source": [
    "mhr.bandpwr.hist(bins=20);"
   ]
  },
  {
   "cell_type": "code",
   "execution_count": 201,
   "metadata": {},
   "outputs": [
    {
     "data": {
      "image/png": "[encoded data removed]",
      "text/plain": [
       "<Figure size 432x288 with 2 Axes>"
      ]
     },
     "metadata": {
      "needs_background": "light"
     },
     "output_type": "display_data"
    }
   ],
   "source": [
    "mhr[['mhr_bandpwr1','relative_bandpwr1']].hist(bins=20);"
   ]
  },
  {
   "cell_type": "code",
   "execution_count": 202,
   "metadata": {},
   "outputs": [
    {
     "data": {
      "image/png": "[encoded data removed]",
      "text/plain": [
       "<Figure size 432x288 with 2 Axes>"
      ]
     },
     "metadata": {
      "needs_background": "light"
     },
     "output_type": "display_data"
    }
   ],
   "source": [
    "mhr[['mhr_bandpwr2','relative_bandpwr2']].hist(bins=20);"
   ]
  },
  {
   "cell_type": "markdown",
   "metadata": {},
   "source": [
    "### MHR Code So Far\n",
    "**Dec 9, 2019**"
   ]
  },
  {
   "cell_type": "code",
   "execution_count": 205,
   "metadata": {},
   "outputs": [],
   "source": [
    "mhr = pd.read_csv('../data/raw/Maternal HR XFER 052318.csv')\n",
    "mhr.columns = map(str.lower, mhr.columns)\n",
    "mhr.set_index('patid', inplace=True)\n",
    "mhr_drop_cols = ['file name', 'numbersegments', 'meanpercentbad',\n",
    "                'startsecond', 'endsecond', 'numbersegments.1', \n",
    "                'numberusedpwrcoh', 'numberusedcrscor']\n",
    "mhr.drop(mhr_drop_cols, axis=1, inplace=True)\n",
    "mhr['bandpwr'] = mhr.mhr_bandpwr1 + mhr.mhr_bandpwr2 + mhr.mhr_bandpwr3 + mhr.mhr_bandpwr4\n",
    "mhr['relative_bandpwr1'] = mhr.mhr_bandpwr1/mhr.bandpwr\n",
    "mhr['relative_bandpwr2'] = mhr.mhr_bandpwr2/mhr.bandpwr\n",
    "mhr['relative_bandpwr3'] = mhr.mhr_bandpwr3/mhr.bandpwr\n",
    "mhr['relative_bandpwr4'] = mhr.mhr_bandpwr1/mhr.bandpwr"
   ]
  },
  {
   "cell_type": "code",
   "execution_count": 207,
   "metadata": {},
   "outputs": [
    {
     "data": {
      "text/html": [
       "<div>\n",
       "<style scoped>\n",
       "    .dataframe tbody tr th:only-of-type {\n",
       "        vertical-align: middle;\n",
       "    }\n",
       "\n",
       "    .dataframe tbody tr th {\n",
       "        vertical-align: top;\n",
       "    }\n",
       "\n",
       "    .dataframe thead th {\n",
       "        text-align: right;\n",
       "    }\n",
       "</style>\n",
       "<table border=\"1\" class=\"dataframe\">\n",
       "  <thead>\n",
       "    <tr style=\"text-align: right;\">\n",
       "      <th></th>\n",
       "      <th>timepoint</th>\n",
       "      <th>mhr_mean</th>\n",
       "      <th>mhr_median</th>\n",
       "      <th>mhr_stddev</th>\n",
       "      <th>mhr_25th</th>\n",
       "      <th>mhr_75th</th>\n",
       "      <th>mhr_min</th>\n",
       "      <th>mhr_max</th>\n",
       "      <th>mhr_bandpwr1</th>\n",
       "      <th>mhr_bandpwr2</th>\n",
       "      <th>...</th>\n",
       "      <th>mhr_bandpwr4</th>\n",
       "      <th>maxcrosscorr</th>\n",
       "      <th>lagofmaxcrosscorr</th>\n",
       "      <th>medianmaxcrosscorr</th>\n",
       "      <th>medianlagofmaxcrosscorr</th>\n",
       "      <th>bandpwr</th>\n",
       "      <th>relative_bandpwr1</th>\n",
       "      <th>relative_bandpwr2</th>\n",
       "      <th>relative_bandpwr3</th>\n",
       "      <th>relative_bandpwr4</th>\n",
       "    </tr>\n",
       "    <tr>\n",
       "      <th>patid</th>\n",
       "      <th></th>\n",
       "      <th></th>\n",
       "      <th></th>\n",
       "      <th></th>\n",
       "      <th></th>\n",
       "      <th></th>\n",
       "      <th></th>\n",
       "      <th></th>\n",
       "      <th></th>\n",
       "      <th></th>\n",
       "      <th></th>\n",
       "      <th></th>\n",
       "      <th></th>\n",
       "      <th></th>\n",
       "      <th></th>\n",
       "      <th></th>\n",
       "      <th></th>\n",
       "      <th></th>\n",
       "      <th></th>\n",
       "      <th></th>\n",
       "      <th></th>\n",
       "    </tr>\n",
       "  </thead>\n",
       "  <tbody>\n",
       "    <tr>\n",
       "      <th>S002-BISH-01546</th>\n",
       "      <td>F3</td>\n",
       "      <td>91.02</td>\n",
       "      <td>91.0</td>\n",
       "      <td>2.79</td>\n",
       "      <td>89.0</td>\n",
       "      <td>93.00</td>\n",
       "      <td>84.9987</td>\n",
       "      <td>98.0013</td>\n",
       "      <td>4.22767</td>\n",
       "      <td>1.80974</td>\n",
       "      <td>...</td>\n",
       "      <td>0.024952</td>\n",
       "      <td>0.187834</td>\n",
       "      <td>-3.90</td>\n",
       "      <td>0.499977</td>\n",
       "      <td>-9.175</td>\n",
       "      <td>6.547583</td>\n",
       "      <td>0.645684</td>\n",
       "      <td>0.276398</td>\n",
       "      <td>0.074107</td>\n",
       "      <td>0.645684</td>\n",
       "    </tr>\n",
       "    <tr>\n",
       "      <th>S002-BISH-04101</th>\n",
       "      <td>F2</td>\n",
       "      <td>86.91</td>\n",
       "      <td>87.0</td>\n",
       "      <td>3.01</td>\n",
       "      <td>85.0</td>\n",
       "      <td>89.00</td>\n",
       "      <td>78.9987</td>\n",
       "      <td>99.0013</td>\n",
       "      <td>3.85668</td>\n",
       "      <td>1.13128</td>\n",
       "      <td>...</td>\n",
       "      <td>0.022936</td>\n",
       "      <td>0.110428</td>\n",
       "      <td>4.35</td>\n",
       "      <td>0.590114</td>\n",
       "      <td>3.675</td>\n",
       "      <td>6.029976</td>\n",
       "      <td>0.639585</td>\n",
       "      <td>0.187609</td>\n",
       "      <td>0.169002</td>\n",
       "      <td>0.639585</td>\n",
       "    </tr>\n",
       "    <tr>\n",
       "      <th>S002-BISH-07004</th>\n",
       "      <td>F1</td>\n",
       "      <td>78.88</td>\n",
       "      <td>79.0</td>\n",
       "      <td>4.03</td>\n",
       "      <td>76.0</td>\n",
       "      <td>81.62</td>\n",
       "      <td>63.9973</td>\n",
       "      <td>93.0013</td>\n",
       "      <td>6.26111</td>\n",
       "      <td>1.79784</td>\n",
       "      <td>...</td>\n",
       "      <td>0.029149</td>\n",
       "      <td>0.029641</td>\n",
       "      <td>-16.65</td>\n",
       "      <td>0.566702</td>\n",
       "      <td>-0.875</td>\n",
       "      <td>9.806149</td>\n",
       "      <td>0.638488</td>\n",
       "      <td>0.183338</td>\n",
       "      <td>0.175201</td>\n",
       "      <td>0.638488</td>\n",
       "    </tr>\n",
       "  </tbody>\n",
       "</table>\n",
       "<p>3 rows × 21 columns</p>\n",
       "</div>"
      ],
      "text/plain": [
       "                timepoint  mhr_mean  mhr_median  mhr_stddev  mhr_25th  \\\n",
       "patid                                                                   \n",
       "S002-BISH-01546        F3     91.02        91.0        2.79      89.0   \n",
       "S002-BISH-04101        F2     86.91        87.0        3.01      85.0   \n",
       "S002-BISH-07004        F1     78.88        79.0        4.03      76.0   \n",
       "\n",
       "                 mhr_75th  mhr_min  mhr_max  mhr_bandpwr1  mhr_bandpwr2  ...  \\\n",
       "patid                                                                    ...   \n",
       "S002-BISH-01546     93.00  84.9987  98.0013       4.22767       1.80974  ...   \n",
       "S002-BISH-04101     89.00  78.9987  99.0013       3.85668       1.13128  ...   \n",
       "S002-BISH-07004     81.62  63.9973  93.0013       6.26111       1.79784  ...   \n",
       "\n",
       "                 mhr_bandpwr4  maxcrosscorr  lagofmaxcrosscorr  \\\n",
       "patid                                                            \n",
       "S002-BISH-01546      0.024952      0.187834              -3.90   \n",
       "S002-BISH-04101      0.022936      0.110428               4.35   \n",
       "S002-BISH-07004      0.029149      0.029641             -16.65   \n",
       "\n",
       "                 medianmaxcrosscorr  medianlagofmaxcrosscorr   bandpwr  \\\n",
       "patid                                                                    \n",
       "S002-BISH-01546            0.499977                   -9.175  6.547583   \n",
       "S002-BISH-04101            0.590114                    3.675  6.029976   \n",
       "S002-BISH-07004            0.566702                   -0.875  9.806149   \n",
       "\n",
       "                 relative_bandpwr1  relative_bandpwr2  relative_bandpwr3  \\\n",
       "patid                                                                      \n",
       "S002-BISH-01546           0.645684           0.276398           0.074107   \n",
       "S002-BISH-04101           0.639585           0.187609           0.169002   \n",
       "S002-BISH-07004           0.638488           0.183338           0.175201   \n",
       "\n",
       "                 relative_bandpwr4  \n",
       "patid                               \n",
       "S002-BISH-01546           0.645684  \n",
       "S002-BISH-04101           0.639585  \n",
       "S002-BISH-07004           0.638488  \n",
       "\n",
       "[3 rows x 21 columns]"
      ]
     },
     "execution_count": 207,
     "metadata": {},
     "output_type": "execute_result"
    }
   ],
   "source": [
    "mhr.head(3)"
   ]
  },
  {
   "cell_type": "markdown",
   "metadata": {},
   "source": [
    "## The Need for MHR Widening\n",
    "**Dec 6, 2019**\n",
    "\n",
    "Here we show that the MHR table is not wide enough: basically, we need to pivot the timepoint\n",
    "column into the variables to produce Fx-oriented variables.\n",
    "\n",
    "\n",
    "### Numbers of Patients Per Record Count\n",
    "**Dec 6, 2019**\n"
   ]
  },
  {
   "cell_type": "code",
   "execution_count": 505,
   "metadata": {},
   "outputs": [
    {
     "data": {
      "text/plain": [
       "cnt\n",
       "1    3219\n",
       "2     361\n",
       "3       9\n",
       "Name: cnt, dtype: int64"
      ]
     },
     "execution_count": 505,
     "metadata": {},
     "output_type": "execute_result"
    }
   ],
   "source": [
    "mhr.reset_index().groupby('patid')['patid'].count().to_frame('cnt').groupby('cnt')['cnt'].count()"
   ]
  },
  {
   "cell_type": "markdown",
   "metadata": {},
   "source": [
    "### MHR: Reason for Multiple Records\n",
    "**Dec 6, 2019**\n",
    "\n",
    "\n",
    "What we find here is that any patient ID with multiple records is\n",
    "due to having multiple testing sessions spanning different CIDs.\n",
    "\n",
    "1. We find the PATIDs with greater than 1 (gt1) record\n",
    "2. We compute the min and max CID for each gt1 patient\n",
    "3. We take the difference, max - min\n",
    "4. We query whether there exists any difference equal to zero \n",
    "    - Answer: No.\n",
    "\n",
    "<font style=\"background-color:yellow\" size=4>\n",
    "    <b>SOLUTION</b>: Widen the MON MHR table by defining CID variables, similarly\n",
    "    to how the TOI table uses Fx variables.\n",
    "</font>"
   ]
  },
  {
   "cell_type": "code",
   "execution_count": 146,
   "metadata": {},
   "outputs": [],
   "source": [
    "# Reload, if necessary\n",
    "mhr = pd.read_csv('../data/raw/Maternal HR XFER 052318.csv')\n",
    "mhr['cid'] = mhr['File Name'].map(lambda x: x.split('-')[1].split('_')[0] if type(x)==str else x)\n",
    "mhr.columns = map(str.lower, mhr.columns)\n",
    "mhr.set_index('patid', inplace=True)\n"
   ]
  },
  {
   "cell_type": "code",
   "execution_count": 147,
   "metadata": {},
   "outputs": [
    {
     "data": {
      "text/html": [
       "<div>\n",
       "<style scoped>\n",
       "    .dataframe tbody tr th:only-of-type {\n",
       "        vertical-align: middle;\n",
       "    }\n",
       "\n",
       "    .dataframe tbody tr th {\n",
       "        vertical-align: top;\n",
       "    }\n",
       "\n",
       "    .dataframe thead th {\n",
       "        text-align: right;\n",
       "    }\n",
       "</style>\n",
       "<table border=\"1\" class=\"dataframe\">\n",
       "  <thead>\n",
       "    <tr style=\"text-align: right;\">\n",
       "      <th></th>\n",
       "      <th>min</th>\n",
       "      <th>max</th>\n",
       "    </tr>\n",
       "    <tr>\n",
       "      <th>patid</th>\n",
       "      <th></th>\n",
       "      <th></th>\n",
       "    </tr>\n",
       "  </thead>\n",
       "  <tbody>\n",
       "    <tr>\n",
       "      <th>S002-BISH-00791</th>\n",
       "      <td>10.0</td>\n",
       "      <td>20.0</td>\n",
       "    </tr>\n",
       "    <tr>\n",
       "      <th>S002-BISH-00853</th>\n",
       "      <td>10.0</td>\n",
       "      <td>15.0</td>\n",
       "    </tr>\n",
       "    <tr>\n",
       "      <th>S002-BISH-01011</th>\n",
       "      <td>10.0</td>\n",
       "      <td>20.0</td>\n",
       "    </tr>\n",
       "    <tr>\n",
       "      <th>S002-BISH-01172</th>\n",
       "      <td>10.0</td>\n",
       "      <td>20.0</td>\n",
       "    </tr>\n",
       "    <tr>\n",
       "      <th>S002-BISH-01190</th>\n",
       "      <td>10.0</td>\n",
       "      <td>20.0</td>\n",
       "    </tr>\n",
       "  </tbody>\n",
       "</table>\n",
       "</div>"
      ],
      "text/plain": [
       "                  min   max\n",
       "patid                      \n",
       "S002-BISH-00791  10.0  20.0\n",
       "S002-BISH-00853  10.0  15.0\n",
       "S002-BISH-01011  10.0  20.0\n",
       "S002-BISH-01172  10.0  20.0\n",
       "S002-BISH-01190  10.0  20.0"
      ]
     },
     "execution_count": 147,
     "metadata": {},
     "output_type": "execute_result"
    }
   ],
   "source": [
    "gt1_index = mhr.reset_index().groupby('patid')['patid'].count().to_frame('cnt').query('cnt > 1').index\n",
    "gt1_min_max = mhr.loc[gt1_index,['cid']].groupby('patid')['cid'].agg([min,max]).astype(float)\n",
    "gt1_min_max.head()"
   ]
  },
  {
   "cell_type": "code",
   "execution_count": 148,
   "metadata": {},
   "outputs": [
    {
     "data": {
      "text/html": [
       "<div>\n",
       "<style scoped>\n",
       "    .dataframe tbody tr th:only-of-type {\n",
       "        vertical-align: middle;\n",
       "    }\n",
       "\n",
       "    .dataframe tbody tr th {\n",
       "        vertical-align: top;\n",
       "    }\n",
       "\n",
       "    .dataframe thead th {\n",
       "        text-align: right;\n",
       "    }\n",
       "</style>\n",
       "<table border=\"1\" class=\"dataframe\">\n",
       "  <thead>\n",
       "    <tr style=\"text-align: right;\">\n",
       "      <th></th>\n",
       "      <th>diff</th>\n",
       "    </tr>\n",
       "    <tr>\n",
       "      <th>patid</th>\n",
       "      <th></th>\n",
       "    </tr>\n",
       "  </thead>\n",
       "  <tbody>\n",
       "    <tr>\n",
       "      <th>S002-BISH-00791</th>\n",
       "      <td>10.0</td>\n",
       "    </tr>\n",
       "    <tr>\n",
       "      <th>S002-BISH-00853</th>\n",
       "      <td>5.0</td>\n",
       "    </tr>\n",
       "    <tr>\n",
       "      <th>S002-BISH-01011</th>\n",
       "      <td>10.0</td>\n",
       "    </tr>\n",
       "    <tr>\n",
       "      <th>S002-BISH-01172</th>\n",
       "      <td>10.0</td>\n",
       "    </tr>\n",
       "    <tr>\n",
       "      <th>S002-BISH-01190</th>\n",
       "      <td>10.0</td>\n",
       "    </tr>\n",
       "  </tbody>\n",
       "</table>\n",
       "</div>"
      ],
      "text/plain": [
       "                 diff\n",
       "patid                \n",
       "S002-BISH-00791  10.0\n",
       "S002-BISH-00853   5.0\n",
       "S002-BISH-01011  10.0\n",
       "S002-BISH-01172  10.0\n",
       "S002-BISH-01190  10.0"
      ]
     },
     "execution_count": 148,
     "metadata": {},
     "output_type": "execute_result"
    }
   ],
   "source": [
    "gt1_min_max_diff = gt1_min_max.apply(lambda row: row['max']-row['min'], axis=1).to_frame('diff')\n",
    "gt1_min_max_diff.head()"
   ]
  },
  {
   "cell_type": "code",
   "execution_count": 149,
   "metadata": {},
   "outputs": [
    {
     "data": {
      "text/plain": [
       "0"
      ]
     },
     "execution_count": 149,
     "metadata": {},
     "output_type": "execute_result"
    }
   ],
   "source": [
    "gt1_min_max_diff.query('diff==0').__len__()"
   ]
  },
  {
   "cell_type": "markdown",
   "metadata": {},
   "source": [
    "## MHR Widening Scheme\n",
    "**Dec 9, 2019**"
   ]
  },
  {
   "cell_type": "code",
   "execution_count": 210,
   "metadata": {},
   "outputs": [
    {
     "name": "stdout",
     "output_type": "stream",
     "text": [
      "shape: (3968, 21)\n",
      "unique patid: 3589\n"
     ]
    }
   ],
   "source": [
    "shape = mhr.shape\n",
    "patid = mhr.index.unique().__len__()\n",
    "print('shape:',shape)\n",
    "print('unique patid:',patid)"
   ]
  },
  {
   "cell_type": "code",
   "execution_count": 215,
   "metadata": {},
   "outputs": [],
   "source": [
    "mhr1 = mhr.query(\"timepoint=='F1'\").drop('timepoint', axis=1)\n",
    "mhr1.columns = map(lambda x: 'f1_'+x, mhr1.columns)\n",
    "mhr2 = mhr.query(\"timepoint=='F2'\").drop('timepoint', axis=1)\n",
    "mhr2.columns = map(lambda x: 'f2_'+x, mhr2.columns)\n",
    "mhr3 = mhr.query(\"timepoint=='F3'\").drop('timepoint', axis=1)\n",
    "mhr3.columns = map(lambda x: 'f3_'+x, mhr3.columns)"
   ]
  },
  {
   "cell_type": "code",
   "execution_count": 216,
   "metadata": {},
   "outputs": [
    {
     "data": {
      "text/plain": [
       "Index(['f1_mhr_mean', 'f1_mhr_median', 'f1_mhr_stddev', 'f1_mhr_25th',\n",
       "       'f1_mhr_75th', 'f1_mhr_min', 'f1_mhr_max', 'f1_mhr_bandpwr1',\n",
       "       'f1_mhr_bandpwr2', 'f1_mhr_bandpwr3', 'f1_mhr_bandpwr4',\n",
       "       'f1_maxcrosscorr', 'f1_lagofmaxcrosscorr', 'f1_medianmaxcrosscorr',\n",
       "       'f1_medianlagofmaxcrosscorr', 'f1_bandpwr', 'f1_relative_bandpwr1',\n",
       "       'f1_relative_bandpwr2', 'f1_relative_bandpwr3', 'f1_relative_bandpwr4'],\n",
       "      dtype='object')"
      ]
     },
     "execution_count": 216,
     "metadata": {},
     "output_type": "execute_result"
    }
   ],
   "source": [
    "mhr1.columns"
   ]
  },
  {
   "cell_type": "code",
   "execution_count": 220,
   "metadata": {},
   "outputs": [
    {
     "data": {
      "text/html": [
       "<div>\n",
       "<style scoped>\n",
       "    .dataframe tbody tr th:only-of-type {\n",
       "        vertical-align: middle;\n",
       "    }\n",
       "\n",
       "    .dataframe tbody tr th {\n",
       "        vertical-align: top;\n",
       "    }\n",
       "\n",
       "    .dataframe thead th {\n",
       "        text-align: right;\n",
       "    }\n",
       "</style>\n",
       "<table border=\"1\" class=\"dataframe\">\n",
       "  <thead>\n",
       "    <tr style=\"text-align: right;\">\n",
       "      <th></th>\n",
       "      <th>f1_mhr_mean</th>\n",
       "      <th>f1_mhr_median</th>\n",
       "      <th>f1_mhr_stddev</th>\n",
       "      <th>f1_mhr_25th</th>\n",
       "      <th>f1_mhr_75th</th>\n",
       "      <th>f1_mhr_min</th>\n",
       "      <th>f1_mhr_max</th>\n",
       "      <th>f1_mhr_bandpwr1</th>\n",
       "      <th>f1_mhr_bandpwr2</th>\n",
       "      <th>f1_mhr_bandpwr3</th>\n",
       "      <th>...</th>\n",
       "      <th>f3_mhr_bandpwr4</th>\n",
       "      <th>f3_maxcrosscorr</th>\n",
       "      <th>f3_lagofmaxcrosscorr</th>\n",
       "      <th>f3_medianmaxcrosscorr</th>\n",
       "      <th>f3_medianlagofmaxcrosscorr</th>\n",
       "      <th>f3_bandpwr</th>\n",
       "      <th>f3_relative_bandpwr1</th>\n",
       "      <th>f3_relative_bandpwr2</th>\n",
       "      <th>f3_relative_bandpwr3</th>\n",
       "      <th>f3_relative_bandpwr4</th>\n",
       "    </tr>\n",
       "    <tr>\n",
       "      <th>patid</th>\n",
       "      <th></th>\n",
       "      <th></th>\n",
       "      <th></th>\n",
       "      <th></th>\n",
       "      <th></th>\n",
       "      <th></th>\n",
       "      <th></th>\n",
       "      <th></th>\n",
       "      <th></th>\n",
       "      <th></th>\n",
       "      <th></th>\n",
       "      <th></th>\n",
       "      <th></th>\n",
       "      <th></th>\n",
       "      <th></th>\n",
       "      <th></th>\n",
       "      <th></th>\n",
       "      <th></th>\n",
       "      <th></th>\n",
       "      <th></th>\n",
       "      <th></th>\n",
       "    </tr>\n",
       "  </thead>\n",
       "  <tbody>\n",
       "    <tr>\n",
       "      <th>S002-BISH-00509</th>\n",
       "      <td>NaN</td>\n",
       "      <td>NaN</td>\n",
       "      <td>NaN</td>\n",
       "      <td>NaN</td>\n",
       "      <td>NaN</td>\n",
       "      <td>NaN</td>\n",
       "      <td>NaN</td>\n",
       "      <td>NaN</td>\n",
       "      <td>NaN</td>\n",
       "      <td>NaN</td>\n",
       "      <td>...</td>\n",
       "      <td>0.025345</td>\n",
       "      <td>0.039950</td>\n",
       "      <td>26.05</td>\n",
       "      <td>0.605684</td>\n",
       "      <td>-4.55</td>\n",
       "      <td>6.882483</td>\n",
       "      <td>0.628650</td>\n",
       "      <td>0.247146</td>\n",
       "      <td>0.120521</td>\n",
       "      <td>0.628650</td>\n",
       "    </tr>\n",
       "    <tr>\n",
       "      <th>S002-BISH-00686</th>\n",
       "      <td>NaN</td>\n",
       "      <td>NaN</td>\n",
       "      <td>NaN</td>\n",
       "      <td>NaN</td>\n",
       "      <td>NaN</td>\n",
       "      <td>NaN</td>\n",
       "      <td>NaN</td>\n",
       "      <td>NaN</td>\n",
       "      <td>NaN</td>\n",
       "      <td>NaN</td>\n",
       "      <td>...</td>\n",
       "      <td>0.030062</td>\n",
       "      <td>0.034699</td>\n",
       "      <td>24.40</td>\n",
       "      <td>0.592523</td>\n",
       "      <td>-0.30</td>\n",
       "      <td>12.901842</td>\n",
       "      <td>0.629245</td>\n",
       "      <td>0.203455</td>\n",
       "      <td>0.164969</td>\n",
       "      <td>0.629245</td>\n",
       "    </tr>\n",
       "    <tr>\n",
       "      <th>S002-BISH-00697</th>\n",
       "      <td>NaN</td>\n",
       "      <td>NaN</td>\n",
       "      <td>NaN</td>\n",
       "      <td>NaN</td>\n",
       "      <td>NaN</td>\n",
       "      <td>NaN</td>\n",
       "      <td>NaN</td>\n",
       "      <td>NaN</td>\n",
       "      <td>NaN</td>\n",
       "      <td>NaN</td>\n",
       "      <td>...</td>\n",
       "      <td>0.021520</td>\n",
       "      <td>0.092426</td>\n",
       "      <td>20.70</td>\n",
       "      <td>0.568524</td>\n",
       "      <td>4.25</td>\n",
       "      <td>4.418997</td>\n",
       "      <td>0.607699</td>\n",
       "      <td>0.224749</td>\n",
       "      <td>0.162683</td>\n",
       "      <td>0.607699</td>\n",
       "    </tr>\n",
       "  </tbody>\n",
       "</table>\n",
       "<p>3 rows × 60 columns</p>\n",
       "</div>"
      ],
      "text/plain": [
       "                 f1_mhr_mean  f1_mhr_median  f1_mhr_stddev  f1_mhr_25th  \\\n",
       "patid                                                                     \n",
       "S002-BISH-00509          NaN            NaN            NaN          NaN   \n",
       "S002-BISH-00686          NaN            NaN            NaN          NaN   \n",
       "S002-BISH-00697          NaN            NaN            NaN          NaN   \n",
       "\n",
       "                 f1_mhr_75th  f1_mhr_min  f1_mhr_max  f1_mhr_bandpwr1  \\\n",
       "patid                                                                   \n",
       "S002-BISH-00509          NaN         NaN         NaN              NaN   \n",
       "S002-BISH-00686          NaN         NaN         NaN              NaN   \n",
       "S002-BISH-00697          NaN         NaN         NaN              NaN   \n",
       "\n",
       "                 f1_mhr_bandpwr2  f1_mhr_bandpwr3  ...  f3_mhr_bandpwr4  \\\n",
       "patid                                              ...                    \n",
       "S002-BISH-00509              NaN              NaN  ...         0.025345   \n",
       "S002-BISH-00686              NaN              NaN  ...         0.030062   \n",
       "S002-BISH-00697              NaN              NaN  ...         0.021520   \n",
       "\n",
       "                 f3_maxcrosscorr  f3_lagofmaxcrosscorr  f3_medianmaxcrosscorr  \\\n",
       "patid                                                                           \n",
       "S002-BISH-00509         0.039950                 26.05               0.605684   \n",
       "S002-BISH-00686         0.034699                 24.40               0.592523   \n",
       "S002-BISH-00697         0.092426                 20.70               0.568524   \n",
       "\n",
       "                 f3_medianlagofmaxcrosscorr  f3_bandpwr  f3_relative_bandpwr1  \\\n",
       "patid                                                                           \n",
       "S002-BISH-00509                       -4.55    6.882483              0.628650   \n",
       "S002-BISH-00686                       -0.30   12.901842              0.629245   \n",
       "S002-BISH-00697                        4.25    4.418997              0.607699   \n",
       "\n",
       "                 f3_relative_bandpwr2  f3_relative_bandpwr3  \\\n",
       "patid                                                         \n",
       "S002-BISH-00509              0.247146              0.120521   \n",
       "S002-BISH-00686              0.203455              0.164969   \n",
       "S002-BISH-00697              0.224749              0.162683   \n",
       "\n",
       "                 f3_relative_bandpwr4  \n",
       "patid                                  \n",
       "S002-BISH-00509              0.628650  \n",
       "S002-BISH-00686              0.629245  \n",
       "S002-BISH-00697              0.607699  \n",
       "\n",
       "[3 rows x 60 columns]"
      ]
     },
     "execution_count": 220,
     "metadata": {},
     "output_type": "execute_result"
    }
   ],
   "source": [
    "mhr_wide = mhr1.join(mhr2, how='outer').join(mhr3, how='outer')\n",
    "mhr_wide.head(3)"
   ]
  },
  {
   "cell_type": "markdown",
   "metadata": {},
   "source": [
    "### The MHR Wide Nullity is NOT GOOD :-("
   ]
  },
  {
   "cell_type": "code",
   "execution_count": 295,
   "metadata": {},
   "outputs": [
    {
     "data": {
      "text/html": [
       "<div>\n",
       "<style scoped>\n",
       "    .dataframe tbody tr th:only-of-type {\n",
       "        vertical-align: middle;\n",
       "    }\n",
       "\n",
       "    .dataframe tbody tr th {\n",
       "        vertical-align: top;\n",
       "    }\n",
       "\n",
       "    .dataframe thead th {\n",
       "        text-align: right;\n",
       "    }\n",
       "</style>\n",
       "<table border=\"1\" class=\"dataframe\">\n",
       "  <thead>\n",
       "    <tr style=\"text-align: right;\">\n",
       "      <th></th>\n",
       "      <th>nullity</th>\n",
       "    </tr>\n",
       "  </thead>\n",
       "  <tbody>\n",
       "    <tr>\n",
       "      <th>f1_mhr_mean</th>\n",
       "      <td>96.9</td>\n",
       "    </tr>\n",
       "    <tr>\n",
       "      <th>f1_mhr_median</th>\n",
       "      <td>96.9</td>\n",
       "    </tr>\n",
       "    <tr>\n",
       "      <th>f1_mhr_stddev</th>\n",
       "      <td>96.9</td>\n",
       "    </tr>\n",
       "    <tr>\n",
       "      <th>f1_mhr_25th</th>\n",
       "      <td>96.9</td>\n",
       "    </tr>\n",
       "    <tr>\n",
       "      <th>f1_mhr_75th</th>\n",
       "      <td>96.9</td>\n",
       "    </tr>\n",
       "    <tr>\n",
       "      <th>f1_mhr_min</th>\n",
       "      <td>96.9</td>\n",
       "    </tr>\n",
       "    <tr>\n",
       "      <th>f1_mhr_max</th>\n",
       "      <td>96.9</td>\n",
       "    </tr>\n",
       "    <tr>\n",
       "      <th>f1_mhr_bandpwr1</th>\n",
       "      <td>96.9</td>\n",
       "    </tr>\n",
       "    <tr>\n",
       "      <th>f1_mhr_bandpwr2</th>\n",
       "      <td>96.9</td>\n",
       "    </tr>\n",
       "    <tr>\n",
       "      <th>f1_mhr_bandpwr3</th>\n",
       "      <td>96.9</td>\n",
       "    </tr>\n",
       "    <tr>\n",
       "      <th>f1_mhr_bandpwr4</th>\n",
       "      <td>96.9</td>\n",
       "    </tr>\n",
       "    <tr>\n",
       "      <th>f1_maxcrosscorr</th>\n",
       "      <td>96.9</td>\n",
       "    </tr>\n",
       "    <tr>\n",
       "      <th>f1_lagofmaxcrosscorr</th>\n",
       "      <td>96.9</td>\n",
       "    </tr>\n",
       "    <tr>\n",
       "      <th>f1_medianmaxcrosscorr</th>\n",
       "      <td>96.9</td>\n",
       "    </tr>\n",
       "    <tr>\n",
       "      <th>f1_medianlagofmaxcrosscorr</th>\n",
       "      <td>96.9</td>\n",
       "    </tr>\n",
       "    <tr>\n",
       "      <th>f1_bandpwr</th>\n",
       "      <td>96.9</td>\n",
       "    </tr>\n",
       "    <tr>\n",
       "      <th>f1_relative_bandpwr1</th>\n",
       "      <td>96.9</td>\n",
       "    </tr>\n",
       "    <tr>\n",
       "      <th>f1_relative_bandpwr2</th>\n",
       "      <td>96.9</td>\n",
       "    </tr>\n",
       "    <tr>\n",
       "      <th>f1_relative_bandpwr3</th>\n",
       "      <td>96.9</td>\n",
       "    </tr>\n",
       "    <tr>\n",
       "      <th>f1_relative_bandpwr4</th>\n",
       "      <td>96.9</td>\n",
       "    </tr>\n",
       "    <tr>\n",
       "      <th>f2_mhr_mean</th>\n",
       "      <td>86.8</td>\n",
       "    </tr>\n",
       "    <tr>\n",
       "      <th>f2_mhr_median</th>\n",
       "      <td>86.8</td>\n",
       "    </tr>\n",
       "    <tr>\n",
       "      <th>f2_mhr_stddev</th>\n",
       "      <td>86.8</td>\n",
       "    </tr>\n",
       "    <tr>\n",
       "      <th>f2_mhr_25th</th>\n",
       "      <td>86.8</td>\n",
       "    </tr>\n",
       "    <tr>\n",
       "      <th>f2_mhr_75th</th>\n",
       "      <td>86.8</td>\n",
       "    </tr>\n",
       "    <tr>\n",
       "      <th>f2_mhr_min</th>\n",
       "      <td>86.8</td>\n",
       "    </tr>\n",
       "    <tr>\n",
       "      <th>f2_mhr_max</th>\n",
       "      <td>86.8</td>\n",
       "    </tr>\n",
       "    <tr>\n",
       "      <th>f2_mhr_bandpwr1</th>\n",
       "      <td>86.8</td>\n",
       "    </tr>\n",
       "    <tr>\n",
       "      <th>f2_mhr_bandpwr2</th>\n",
       "      <td>86.8</td>\n",
       "    </tr>\n",
       "    <tr>\n",
       "      <th>f2_mhr_bandpwr3</th>\n",
       "      <td>86.8</td>\n",
       "    </tr>\n",
       "    <tr>\n",
       "      <th>f2_mhr_bandpwr4</th>\n",
       "      <td>86.8</td>\n",
       "    </tr>\n",
       "    <tr>\n",
       "      <th>f2_maxcrosscorr</th>\n",
       "      <td>86.8</td>\n",
       "    </tr>\n",
       "    <tr>\n",
       "      <th>f2_lagofmaxcrosscorr</th>\n",
       "      <td>86.8</td>\n",
       "    </tr>\n",
       "    <tr>\n",
       "      <th>f2_medianmaxcrosscorr</th>\n",
       "      <td>86.8</td>\n",
       "    </tr>\n",
       "    <tr>\n",
       "      <th>f2_medianlagofmaxcrosscorr</th>\n",
       "      <td>86.8</td>\n",
       "    </tr>\n",
       "    <tr>\n",
       "      <th>f2_bandpwr</th>\n",
       "      <td>86.8</td>\n",
       "    </tr>\n",
       "    <tr>\n",
       "      <th>f2_relative_bandpwr1</th>\n",
       "      <td>86.8</td>\n",
       "    </tr>\n",
       "    <tr>\n",
       "      <th>f2_relative_bandpwr2</th>\n",
       "      <td>86.8</td>\n",
       "    </tr>\n",
       "    <tr>\n",
       "      <th>f2_relative_bandpwr3</th>\n",
       "      <td>86.8</td>\n",
       "    </tr>\n",
       "    <tr>\n",
       "      <th>f2_relative_bandpwr4</th>\n",
       "      <td>86.8</td>\n",
       "    </tr>\n",
       "    <tr>\n",
       "      <th>f3_mhr_mean</th>\n",
       "      <td>5.9</td>\n",
       "    </tr>\n",
       "    <tr>\n",
       "      <th>f3_mhr_median</th>\n",
       "      <td>5.9</td>\n",
       "    </tr>\n",
       "    <tr>\n",
       "      <th>f3_mhr_stddev</th>\n",
       "      <td>5.9</td>\n",
       "    </tr>\n",
       "    <tr>\n",
       "      <th>f3_mhr_25th</th>\n",
       "      <td>5.9</td>\n",
       "    </tr>\n",
       "    <tr>\n",
       "      <th>f3_mhr_75th</th>\n",
       "      <td>5.9</td>\n",
       "    </tr>\n",
       "    <tr>\n",
       "      <th>f3_mhr_min</th>\n",
       "      <td>5.9</td>\n",
       "    </tr>\n",
       "    <tr>\n",
       "      <th>f3_mhr_max</th>\n",
       "      <td>5.9</td>\n",
       "    </tr>\n",
       "    <tr>\n",
       "      <th>f3_mhr_bandpwr1</th>\n",
       "      <td>5.9</td>\n",
       "    </tr>\n",
       "    <tr>\n",
       "      <th>f3_mhr_bandpwr2</th>\n",
       "      <td>5.9</td>\n",
       "    </tr>\n",
       "    <tr>\n",
       "      <th>f3_mhr_bandpwr3</th>\n",
       "      <td>5.9</td>\n",
       "    </tr>\n",
       "    <tr>\n",
       "      <th>f3_mhr_bandpwr4</th>\n",
       "      <td>5.9</td>\n",
       "    </tr>\n",
       "    <tr>\n",
       "      <th>f3_maxcrosscorr</th>\n",
       "      <td>5.9</td>\n",
       "    </tr>\n",
       "    <tr>\n",
       "      <th>f3_lagofmaxcrosscorr</th>\n",
       "      <td>5.9</td>\n",
       "    </tr>\n",
       "    <tr>\n",
       "      <th>f3_medianmaxcrosscorr</th>\n",
       "      <td>5.9</td>\n",
       "    </tr>\n",
       "    <tr>\n",
       "      <th>f3_medianlagofmaxcrosscorr</th>\n",
       "      <td>5.9</td>\n",
       "    </tr>\n",
       "    <tr>\n",
       "      <th>f3_bandpwr</th>\n",
       "      <td>5.9</td>\n",
       "    </tr>\n",
       "    <tr>\n",
       "      <th>f3_relative_bandpwr1</th>\n",
       "      <td>5.9</td>\n",
       "    </tr>\n",
       "    <tr>\n",
       "      <th>f3_relative_bandpwr2</th>\n",
       "      <td>5.9</td>\n",
       "    </tr>\n",
       "    <tr>\n",
       "      <th>f3_relative_bandpwr3</th>\n",
       "      <td>5.9</td>\n",
       "    </tr>\n",
       "    <tr>\n",
       "      <th>f3_relative_bandpwr4</th>\n",
       "      <td>5.9</td>\n",
       "    </tr>\n",
       "  </tbody>\n",
       "</table>\n",
       "</div>"
      ],
      "text/plain": [
       "                            nullity\n",
       "f1_mhr_mean                    96.9\n",
       "f1_mhr_median                  96.9\n",
       "f1_mhr_stddev                  96.9\n",
       "f1_mhr_25th                    96.9\n",
       "f1_mhr_75th                    96.9\n",
       "f1_mhr_min                     96.9\n",
       "f1_mhr_max                     96.9\n",
       "f1_mhr_bandpwr1                96.9\n",
       "f1_mhr_bandpwr2                96.9\n",
       "f1_mhr_bandpwr3                96.9\n",
       "f1_mhr_bandpwr4                96.9\n",
       "f1_maxcrosscorr                96.9\n",
       "f1_lagofmaxcrosscorr           96.9\n",
       "f1_medianmaxcrosscorr          96.9\n",
       "f1_medianlagofmaxcrosscorr     96.9\n",
       "f1_bandpwr                     96.9\n",
       "f1_relative_bandpwr1           96.9\n",
       "f1_relative_bandpwr2           96.9\n",
       "f1_relative_bandpwr3           96.9\n",
       "f1_relative_bandpwr4           96.9\n",
       "f2_mhr_mean                    86.8\n",
       "f2_mhr_median                  86.8\n",
       "f2_mhr_stddev                  86.8\n",
       "f2_mhr_25th                    86.8\n",
       "f2_mhr_75th                    86.8\n",
       "f2_mhr_min                     86.8\n",
       "f2_mhr_max                     86.8\n",
       "f2_mhr_bandpwr1                86.8\n",
       "f2_mhr_bandpwr2                86.8\n",
       "f2_mhr_bandpwr3                86.8\n",
       "f2_mhr_bandpwr4                86.8\n",
       "f2_maxcrosscorr                86.8\n",
       "f2_lagofmaxcrosscorr           86.8\n",
       "f2_medianmaxcrosscorr          86.8\n",
       "f2_medianlagofmaxcrosscorr     86.8\n",
       "f2_bandpwr                     86.8\n",
       "f2_relative_bandpwr1           86.8\n",
       "f2_relative_bandpwr2           86.8\n",
       "f2_relative_bandpwr3           86.8\n",
       "f2_relative_bandpwr4           86.8\n",
       "f3_mhr_mean                     5.9\n",
       "f3_mhr_median                   5.9\n",
       "f3_mhr_stddev                   5.9\n",
       "f3_mhr_25th                     5.9\n",
       "f3_mhr_75th                     5.9\n",
       "f3_mhr_min                      5.9\n",
       "f3_mhr_max                      5.9\n",
       "f3_mhr_bandpwr1                 5.9\n",
       "f3_mhr_bandpwr2                 5.9\n",
       "f3_mhr_bandpwr3                 5.9\n",
       "f3_mhr_bandpwr4                 5.9\n",
       "f3_maxcrosscorr                 5.9\n",
       "f3_lagofmaxcrosscorr            5.9\n",
       "f3_medianmaxcrosscorr           5.9\n",
       "f3_medianlagofmaxcrosscorr      5.9\n",
       "f3_bandpwr                      5.9\n",
       "f3_relative_bandpwr1            5.9\n",
       "f3_relative_bandpwr2            5.9\n",
       "f3_relative_bandpwr3            5.9\n",
       "f3_relative_bandpwr4            5.9"
      ]
     },
     "execution_count": 295,
     "metadata": {},
     "output_type": "execute_result"
    }
   ],
   "source": [
    "mhr_nullity = mhr_wide.isnull().sum().map(lambda x: round(100 * x / len(mhr_wide), 1)).to_frame('nullity')\n",
    "mhr_nullity"
   ]
  },
  {
   "cell_type": "code",
   "execution_count": 296,
   "metadata": {},
   "outputs": [
    {
     "data": {
      "text/plain": [
       "[96.9, 96.9]"
      ]
     },
     "execution_count": 296,
     "metadata": {},
     "output_type": "execute_result"
    }
   ],
   "source": [
    "f1 = [row[1].nullity for row in mhr_nullity.reset_index().iterrows() if 'f1' in row[1]['index']]\n",
    "[min(f1), max(f1)]"
   ]
  },
  {
   "cell_type": "code",
   "execution_count": 297,
   "metadata": {},
   "outputs": [
    {
     "data": {
      "text/plain": [
       "[86.8, 86.8]"
      ]
     },
     "execution_count": 297,
     "metadata": {},
     "output_type": "execute_result"
    }
   ],
   "source": [
    "f2 = [row[1].nullity for row in mhr_nullity.reset_index().iterrows() if 'f2' in row[1]['index']]\n",
    "[min(f2), max(f2)]"
   ]
  },
  {
   "cell_type": "code",
   "execution_count": 298,
   "metadata": {},
   "outputs": [
    {
     "data": {
      "text/plain": [
       "[5.9, 5.9]"
      ]
     },
     "execution_count": 298,
     "metadata": {},
     "output_type": "execute_result"
    }
   ],
   "source": [
    "f3 = [row[1].nullity for row in mhr_nullity.reset_index().iterrows() if 'f3' in row[1]['index']]\n",
    "[min(f3), max(f3)]"
   ]
  },
  {
   "cell_type": "markdown",
   "metadata": {},
   "source": [
    "## MHR: Final Code"
   ]
  },
  {
   "cell_type": "code",
   "execution_count": null,
   "metadata": {},
   "outputs": [],
   "source": [
    "mhr = pd.read_csv('../data/raw/Maternal HR XFER 052318.csv')\n",
    "mhr.columns = map(str.lower, mhr.columns)\n",
    "mhr.set_index('patid', inplace=True)\n",
    "mhr_drop_cols = ['file name', 'numbersegments', 'meanpercentbad',\n",
    "                'startsecond', 'endsecond', 'numbersegments.1', \n",
    "                'numberusedpwrcoh', 'numberusedcrscor']\n",
    "mhr.drop(mhr_drop_cols, axis=1, inplace=True)\n",
    "mhr['bandpwr'] = mhr.mhr_bandpwr1 + mhr.mhr_bandpwr2 + mhr.mhr_bandpwr3 + mhr.mhr_bandpwr4\n",
    "mhr['relative_bandpwr1'] = mhr.mhr_bandpwr1/mhr.bandpwr\n",
    "mhr['relative_bandpwr2'] = mhr.mhr_bandpwr2/mhr.bandpwr\n",
    "mhr['relative_bandpwr3'] = mhr.mhr_bandpwr3/mhr.bandpwr\n",
    "mhr['relative_bandpwr4'] = mhr.mhr_bandpwr1/mhr.bandpwr\n",
    "mhr1 = mhr.query(\"timepoint=='F1'\").drop('timepoint', axis=1)\n",
    "mhr1.columns = map(lambda x: 'f1_'+x, mhr1.columns)\n",
    "mhr2 = mhr.query(\"timepoint=='F2'\").drop('timepoint', axis=1)\n",
    "mhr2.columns = map(lambda x: 'f2_'+x, mhr2.columns)\n",
    "mhr3 = mhr.query(\"timepoint=='F3'\").drop('timepoint', axis=1)\n",
    "mhr3.columns = map(lambda x: 'f3_'+x, mhr3.columns)\n",
    "mhr_wide = mhr1.join(mhr2, how='outer').join(mhr3, how='outer')\n",
    "# You might choose to drop F3 data at this step, or leave it in for \n",
    "#   downstream dropping....\n"
   ]
  },
  {
   "cell_type": "code",
   "execution_count": null,
   "metadata": {},
   "outputs": [],
   "source": []
  },
  {
   "cell_type": "markdown",
   "metadata": {},
   "source": [
    "<font class=mon size=10 style=\"font-weight:bold;\">MON MVMT</font>"
   ]
  },
  {
   "cell_type": "code",
   "execution_count": 234,
   "metadata": {},
   "outputs": [],
   "source": [
    "# Reload, if necessary\n",
    "mvmt = pd.read_csv('../data/raw/maternal_MVMT_monica_EHG_EHG_XFER_240s_Epochs_051818.csv')\n",
    "mvmt['cid'] = mvmt['Study ID'].apply(lambda x: x.split('-')[-1] if type(x)==str else x)\n",
    "mvmt['patid'] = mvmt['Study ID'].apply(lambda x: '-'.join(x.split('-')[:-2]))\n",
    "mvmt.columns = mvmt.columns.to_frame().replace(' ','_',regex=True).iloc[:,0].map(str.lower).values\n",
    "mvmt.set_index('patid', inplace=True)"
   ]
  },
  {
   "cell_type": "markdown",
   "metadata": {},
   "source": [
    "## MVMT Basics"
   ]
  },
  {
   "cell_type": "code",
   "execution_count": 235,
   "metadata": {},
   "outputs": [
    {
     "data": {
      "text/plain": [
       "(3076, 30)"
      ]
     },
     "execution_count": 235,
     "metadata": {},
     "output_type": "execute_result"
    }
   ],
   "source": [
    "mvmt.shape"
   ]
  },
  {
   "cell_type": "code",
   "execution_count": 236,
   "metadata": {},
   "outputs": [
    {
     "data": {
      "text/plain": [
       "Index(['study_id', 'file_name', 'studyid', 'numbersegments', 'meanpercentbad',\n",
       "       'startsecond', 'endsecond', 'hr_mean', 'hr_median', 'hr_stddev',\n",
       "       'hr_25th', 'hr_75th', 'hr_min', 'hr_max', 'mvt_bandpwr1',\n",
       "       'mvt_bandpwr2', 'mvt_bandpwr3', 'mvt_bandpwr4', 'hr_bandpwr1',\n",
       "       'hr_bandpwr2', 'hr_bandpwr3', 'hr_bandpwr4', 'maxcrosscorr',\n",
       "       'lagofmaxcrosscorr', 'medianmaxcrosscorr', 'medianlagofmaxcrosscorr',\n",
       "       'numbersegments__1', 'numberusedpwrcoh', 'numberusedcrscor', 'cid'],\n",
       "      dtype='object')"
      ]
     },
     "execution_count": 236,
     "metadata": {},
     "output_type": "execute_result"
    }
   ],
   "source": [
    "mvmt.columns"
   ]
  },
  {
   "cell_type": "code",
   "execution_count": 233,
   "metadata": {},
   "outputs": [
    {
     "data": {
      "text/html": [
       "<div>\n",
       "<style scoped>\n",
       "    .dataframe tbody tr th:only-of-type {\n",
       "        vertical-align: middle;\n",
       "    }\n",
       "\n",
       "    .dataframe tbody tr th {\n",
       "        vertical-align: top;\n",
       "    }\n",
       "\n",
       "    .dataframe thead th {\n",
       "        text-align: right;\n",
       "    }\n",
       "</style>\n",
       "<table border=\"1\" class=\"dataframe\">\n",
       "  <thead>\n",
       "    <tr style=\"text-align: right;\">\n",
       "      <th></th>\n",
       "      <th>studyid</th>\n",
       "      <th>filename</th>\n",
       "      <th>studyid</th>\n",
       "      <th>numbersegments</th>\n",
       "      <th>meanpercentbad</th>\n",
       "      <th>startsecond</th>\n",
       "      <th>endsecond</th>\n",
       "      <th>hr_mean</th>\n",
       "      <th>hr_median</th>\n",
       "      <th>hr_stddev</th>\n",
       "      <th>...</th>\n",
       "      <th>hr_bandpwr3</th>\n",
       "      <th>hr_bandpwr4</th>\n",
       "      <th>maxcrosscorr</th>\n",
       "      <th>lagofmaxcrosscorr</th>\n",
       "      <th>medianmaxcrosscorr</th>\n",
       "      <th>medianlagofmaxcrosscorr</th>\n",
       "      <th>numbersegments__1</th>\n",
       "      <th>numberusedpwrcoh</th>\n",
       "      <th>numberusedcrscor</th>\n",
       "      <th>cid</th>\n",
       "    </tr>\n",
       "    <tr>\n",
       "      <th>patid</th>\n",
       "      <th></th>\n",
       "      <th></th>\n",
       "      <th></th>\n",
       "      <th></th>\n",
       "      <th></th>\n",
       "      <th></th>\n",
       "      <th></th>\n",
       "      <th></th>\n",
       "      <th></th>\n",
       "      <th></th>\n",
       "      <th></th>\n",
       "      <th></th>\n",
       "      <th></th>\n",
       "      <th></th>\n",
       "      <th></th>\n",
       "      <th></th>\n",
       "      <th></th>\n",
       "      <th></th>\n",
       "      <th></th>\n",
       "      <th></th>\n",
       "      <th></th>\n",
       "    </tr>\n",
       "  </thead>\n",
       "  <tbody>\n",
       "    <tr>\n",
       "      <th>S002-BISH-00509</th>\n",
       "      <td>S002-BISH-00509-T010-20</td>\n",
       "      <td>00509-20_exp_250ms.ehg</td>\n",
       "      <td>00509-20_exp_250ms.ehg</td>\n",
       "      <td>12</td>\n",
       "      <td>0.0</td>\n",
       "      <td>381.0</td>\n",
       "      <td>3381.0</td>\n",
       "      <td>55.17</td>\n",
       "      <td>46.0</td>\n",
       "      <td>26.82</td>\n",
       "      <td>...</td>\n",
       "      <td>0.529147</td>\n",
       "      <td>0.026194</td>\n",
       "      <td>0.804556</td>\n",
       "      <td>0.85</td>\n",
       "      <td>0.804556</td>\n",
       "      <td>0.85</td>\n",
       "      <td>12.0</td>\n",
       "      <td>12.0</td>\n",
       "      <td>1.0</td>\n",
       "      <td>20</td>\n",
       "    </tr>\n",
       "    <tr>\n",
       "      <th>S002-BISH-00674</th>\n",
       "      <td>S002-BISH-00674-T010-20</td>\n",
       "      <td>00674-20_exp_250ms.ehg</td>\n",
       "      <td>00674-20_exp_250ms.ehg</td>\n",
       "      <td>9</td>\n",
       "      <td>0.0</td>\n",
       "      <td>42.6</td>\n",
       "      <td>3042.6</td>\n",
       "      <td>52.57</td>\n",
       "      <td>45.0</td>\n",
       "      <td>22.44</td>\n",
       "      <td>...</td>\n",
       "      <td>1.217650</td>\n",
       "      <td>0.029924</td>\n",
       "      <td>0.868726</td>\n",
       "      <td>-0.05</td>\n",
       "      <td>0.868726</td>\n",
       "      <td>-0.05</td>\n",
       "      <td>9.0</td>\n",
       "      <td>9.0</td>\n",
       "      <td>1.0</td>\n",
       "      <td>20</td>\n",
       "    </tr>\n",
       "    <tr>\n",
       "      <th>S002-BISH-00686</th>\n",
       "      <td>S002-BISH-00686-T010-20</td>\n",
       "      <td>00686-20_exp_250ms.ehg</td>\n",
       "      <td>00686-20_exp_250ms.ehg</td>\n",
       "      <td>11</td>\n",
       "      <td>0.0</td>\n",
       "      <td>423.3</td>\n",
       "      <td>3461.3</td>\n",
       "      <td>55.35</td>\n",
       "      <td>44.0</td>\n",
       "      <td>30.64</td>\n",
       "      <td>...</td>\n",
       "      <td>0.622030</td>\n",
       "      <td>0.031356</td>\n",
       "      <td>0.957542</td>\n",
       "      <td>-1.65</td>\n",
       "      <td>0.957542</td>\n",
       "      <td>-1.65</td>\n",
       "      <td>11.0</td>\n",
       "      <td>11.0</td>\n",
       "      <td>1.0</td>\n",
       "      <td>20</td>\n",
       "    </tr>\n",
       "  </tbody>\n",
       "</table>\n",
       "<p>3 rows × 30 columns</p>\n",
       "</div>"
      ],
      "text/plain": [
       "                                 studyid                filename  \\\n",
       "patid                                                              \n",
       "S002-BISH-00509  S002-BISH-00509-T010-20  00509-20_exp_250ms.ehg   \n",
       "S002-BISH-00674  S002-BISH-00674-T010-20  00674-20_exp_250ms.ehg   \n",
       "S002-BISH-00686  S002-BISH-00686-T010-20  00686-20_exp_250ms.ehg   \n",
       "\n",
       "                                studyid  numbersegments  meanpercentbad  \\\n",
       "patid                                                                     \n",
       "S002-BISH-00509  00509-20_exp_250ms.ehg              12             0.0   \n",
       "S002-BISH-00674  00674-20_exp_250ms.ehg               9             0.0   \n",
       "S002-BISH-00686  00686-20_exp_250ms.ehg              11             0.0   \n",
       "\n",
       "                 startsecond  endsecond  hr_mean  hr_median  hr_stddev  ...  \\\n",
       "patid                                                                   ...   \n",
       "S002-BISH-00509        381.0     3381.0    55.17       46.0      26.82  ...   \n",
       "S002-BISH-00674         42.6     3042.6    52.57       45.0      22.44  ...   \n",
       "S002-BISH-00686        423.3     3461.3    55.35       44.0      30.64  ...   \n",
       "\n",
       "                 hr_bandpwr3  hr_bandpwr4  maxcrosscorr  lagofmaxcrosscorr  \\\n",
       "patid                                                                        \n",
       "S002-BISH-00509     0.529147     0.026194      0.804556               0.85   \n",
       "S002-BISH-00674     1.217650     0.029924      0.868726              -0.05   \n",
       "S002-BISH-00686     0.622030     0.031356      0.957542              -1.65   \n",
       "\n",
       "                 medianmaxcrosscorr  medianlagofmaxcrosscorr  \\\n",
       "patid                                                          \n",
       "S002-BISH-00509            0.804556                     0.85   \n",
       "S002-BISH-00674            0.868726                    -0.05   \n",
       "S002-BISH-00686            0.957542                    -1.65   \n",
       "\n",
       "                 numbersegments__1  numberusedpwrcoh  numberusedcrscor  cid  \n",
       "patid                                                                        \n",
       "S002-BISH-00509               12.0              12.0               1.0   20  \n",
       "S002-BISH-00674                9.0               9.0               1.0   20  \n",
       "S002-BISH-00686               11.0              11.0               1.0   20  \n",
       "\n",
       "[3 rows x 30 columns]"
      ]
     },
     "execution_count": 233,
     "metadata": {},
     "output_type": "execute_result"
    }
   ],
   "source": [
    "mvmt.head(3)"
   ]
  },
  {
   "cell_type": "markdown",
   "metadata": {},
   "source": [
    "## MVMT Drop Cols\n",
    "**Dec 9, 2019**"
   ]
  },
  {
   "cell_type": "code",
   "execution_count": 238,
   "metadata": {},
   "outputs": [],
   "source": [
    "mvmt_drop_cols = ['study_id', 'file_name', 'studyid', 'numbersegments', \n",
    "                  'meanpercentbad','startsecond', 'endsecond', 'numbersegments__1', \n",
    "                  'numberusedpwrcoh', 'numberusedcrscor', ]\n",
    "mvmt.drop(mvmt_drop_cols, axis=1, inplace=True)"
   ]
  },
  {
   "cell_type": "markdown",
   "metadata": {},
   "source": [
    "## MVMT Band Power\n",
    "**Dec 9, 2019**\n",
    "\n",
    "Just like we had to create new MHR vars, we'll do the same with MVMT."
   ]
  },
  {
   "cell_type": "code",
   "execution_count": 252,
   "metadata": {},
   "outputs": [],
   "source": [
    "# Heart Rate\n",
    "mvmt['hr_bandpwr'] = mvmt.hr_bandpwr1 + mvmt.hr_bandpwr2 + mvmt.hr_bandpwr3 + mvmt.hr_bandpwr4\n",
    "mvmt['hr_relative_bandpwr1'] = mvmt.hr_bandpwr1/mvmt.hr_bandpwr \n",
    "mvmt['hr_relative_bandpwr2'] = mvmt.hr_bandpwr2/mvmt.hr_bandpwr \n",
    "mvmt['hr_relative_bandpwr3'] = mvmt.hr_bandpwr3/mvmt.hr_bandpwr \n",
    "mvmt['hr_relative_bandpwr4'] = mvmt.hr_bandpwr4/mvmt.hr_bandpwr \n",
    "\n",
    "# Movement\n",
    "mvmt['mvt_bandpwr'] = mvmt.mvt_bandpwr1 + mvmt.mvt_bandpwr2 + mvmt.mvt_bandpwr3 + mvmt.mvt_bandpwr4\n",
    "mvmt['mvt_relative_bandpwr1'] = mvmt.mvt_bandpwr1/mvmt.mvt_bandpwr \n",
    "mvmt['mvt_relative_bandpwr2'] = mvmt.mvt_bandpwr2/mvmt.mvt_bandpwr \n",
    "mvmt['mvt_relative_bandpwr3'] = mvmt.mvt_bandpwr3/mvmt.mvt_bandpwr \n",
    "mvmt['mvt_relative_bandpwr4'] = mvmt.mvt_bandpwr4/mvmt.mvt_bandpwr "
   ]
  },
  {
   "cell_type": "code",
   "execution_count": 255,
   "metadata": {},
   "outputs": [
    {
     "data": {
      "text/plain": [
       "<matplotlib.axes._subplots.AxesSubplot at 0x129215f60>"
      ]
     },
     "execution_count": 255,
     "metadata": {},
     "output_type": "execute_result"
    },
    {
     "data": {
      "image/png": "[encoded data removed]",
      "text/plain": [
       "<Figure size 432x288 with 1 Axes>"
      ]
     },
     "metadata": {
      "needs_background": "light"
     },
     "output_type": "display_data"
    }
   ],
   "source": [
    "mvmt.hr_bandpwr.hist()"
   ]
  },
  {
   "cell_type": "code",
   "execution_count": 253,
   "metadata": {},
   "outputs": [
    {
     "data": {
      "image/png": "[encoded data removed]",
      "text/plain": [
       "<Figure size 1440x360 with 2 Axes>"
      ]
     },
     "metadata": {
      "needs_background": "light"
     },
     "output_type": "display_data"
    },
    {
     "data": {
      "image/png": "[encoded data removed]",
      "text/plain": [
       "<Figure size 1440x360 with 2 Axes>"
      ]
     },
     "metadata": {
      "needs_background": "light"
     },
     "output_type": "display_data"
    }
   ],
   "source": [
    "mvmt[['hr_bandpwr1','hr_relative_bandpwr1']].hist(bins=20, figsize=(20,5));\n",
    "mvmt[['hr_bandpwr2','hr_relative_bandpwr2']].hist(bins=20,  figsize=(20,5));"
   ]
  },
  {
   "cell_type": "code",
   "execution_count": 254,
   "metadata": {},
   "outputs": [
    {
     "data": {
      "image/png": "[encoded data removed]",
      "text/plain": [
       "<Figure size 1440x360 with 2 Axes>"
      ]
     },
     "metadata": {
      "needs_background": "light"
     },
     "output_type": "display_data"
    },
    {
     "data": {
      "image/png": "[encoded data removed]",
      "text/plain": [
       "<Figure size 1440x360 with 2 Axes>"
      ]
     },
     "metadata": {
      "needs_background": "light"
     },
     "output_type": "display_data"
    }
   ],
   "source": [
    "mvmt[['mvt_bandpwr1','mvt_relative_bandpwr1']].hist(bins=20,  figsize=(20,5));\n",
    "mvmt[['mvt_bandpwr2','mvt_relative_bandpwr2']].hist(bins=20,  figsize=(20,5));"
   ]
  },
  {
   "cell_type": "markdown",
   "metadata": {},
   "source": [
    "## MVMT Need for Widening\n",
    "**Dec 6, 2019**"
   ]
  },
  {
   "cell_type": "code",
   "execution_count": 258,
   "metadata": {},
   "outputs": [
    {
     "name": "stdout",
     "output_type": "stream",
     "text": [
      "Shape: (3076, 30)\n",
      "Unique PATIDs: 2882\n"
     ]
    }
   ],
   "source": [
    "shape = mvmt.shape\n",
    "patid = mvmt.index.unique().__len__()\n",
    "print('Shape:', shape)\n",
    "print('Unique PATIDs:', patid)"
   ]
  },
  {
   "cell_type": "code",
   "execution_count": 256,
   "metadata": {},
   "outputs": [
    {
     "data": {
      "text/plain": [
       "cnt\n",
       "1    2691\n",
       "2     188\n",
       "3       3\n",
       "Name: cnt, dtype: int64"
      ]
     },
     "execution_count": 256,
     "metadata": {},
     "output_type": "execute_result"
    }
   ],
   "source": [
    "mvmt.reset_index().groupby('patid')['patid'].count().to_frame('cnt').groupby('cnt')['cnt'].count()"
   ]
  },
  {
   "cell_type": "markdown",
   "metadata": {},
   "source": [
    "## MVMT Widening Scheme\n",
    "**Dec 9, 2019**"
   ]
  },
  {
   "cell_type": "code",
   "execution_count": 257,
   "metadata": {},
   "outputs": [
    {
     "data": {
      "text/html": [
       "<div>\n",
       "<style scoped>\n",
       "    .dataframe tbody tr th:only-of-type {\n",
       "        vertical-align: middle;\n",
       "    }\n",
       "\n",
       "    .dataframe tbody tr th {\n",
       "        vertical-align: top;\n",
       "    }\n",
       "\n",
       "    .dataframe thead th {\n",
       "        text-align: right;\n",
       "    }\n",
       "</style>\n",
       "<table border=\"1\" class=\"dataframe\">\n",
       "  <thead>\n",
       "    <tr style=\"text-align: right;\">\n",
       "      <th></th>\n",
       "      <th>cid10_hr_mean</th>\n",
       "      <th>cid10_hr_median</th>\n",
       "      <th>cid10_hr_stddev</th>\n",
       "      <th>cid10_hr_25th</th>\n",
       "      <th>cid10_hr_75th</th>\n",
       "      <th>cid10_hr_min</th>\n",
       "      <th>cid10_hr_max</th>\n",
       "      <th>cid10_mvt_bandpwr1</th>\n",
       "      <th>cid10_mvt_bandpwr2</th>\n",
       "      <th>cid10_mvt_bandpwr3</th>\n",
       "      <th>...</th>\n",
       "      <th>cid20_hr_bandpwr</th>\n",
       "      <th>cid20_hr_relative_bandpwr1</th>\n",
       "      <th>cid20_hr_relative_bandpwr2</th>\n",
       "      <th>cid20_hr_relative_bandpwr3</th>\n",
       "      <th>cid20_hr_relative_bandpwr4</th>\n",
       "      <th>cid20_mvt_bandpwr</th>\n",
       "      <th>cid20_mvt_relative_bandpwr1</th>\n",
       "      <th>cid20_mvt_relative_bandpwr2</th>\n",
       "      <th>cid20_mvt_relative_bandpwr3</th>\n",
       "      <th>cid20_mvt_relative_bandpwr4</th>\n",
       "    </tr>\n",
       "    <tr>\n",
       "      <th>patid</th>\n",
       "      <th></th>\n",
       "      <th></th>\n",
       "      <th></th>\n",
       "      <th></th>\n",
       "      <th></th>\n",
       "      <th></th>\n",
       "      <th></th>\n",
       "      <th></th>\n",
       "      <th></th>\n",
       "      <th></th>\n",
       "      <th></th>\n",
       "      <th></th>\n",
       "      <th></th>\n",
       "      <th></th>\n",
       "      <th></th>\n",
       "      <th></th>\n",
       "      <th></th>\n",
       "      <th></th>\n",
       "      <th></th>\n",
       "      <th></th>\n",
       "      <th></th>\n",
       "    </tr>\n",
       "  </thead>\n",
       "  <tbody>\n",
       "    <tr>\n",
       "      <th>S002-BISH-00509</th>\n",
       "      <td>NaN</td>\n",
       "      <td>NaN</td>\n",
       "      <td>NaN</td>\n",
       "      <td>NaN</td>\n",
       "      <td>NaN</td>\n",
       "      <td>NaN</td>\n",
       "      <td>NaN</td>\n",
       "      <td>NaN</td>\n",
       "      <td>NaN</td>\n",
       "      <td>NaN</td>\n",
       "      <td>...</td>\n",
       "      <td>676.448341</td>\n",
       "      <td>0.500389</td>\n",
       "      <td>0.498790</td>\n",
       "      <td>0.000782</td>\n",
       "      <td>0.000039</td>\n",
       "      <td>117.446213</td>\n",
       "      <td>0.500390</td>\n",
       "      <td>0.498777</td>\n",
       "      <td>0.000783</td>\n",
       "      <td>0.000050</td>\n",
       "    </tr>\n",
       "    <tr>\n",
       "      <th>S002-BISH-00674</th>\n",
       "      <td>NaN</td>\n",
       "      <td>NaN</td>\n",
       "      <td>NaN</td>\n",
       "      <td>NaN</td>\n",
       "      <td>NaN</td>\n",
       "      <td>NaN</td>\n",
       "      <td>NaN</td>\n",
       "      <td>NaN</td>\n",
       "      <td>NaN</td>\n",
       "      <td>NaN</td>\n",
       "      <td>...</td>\n",
       "      <td>617.987575</td>\n",
       "      <td>0.501068</td>\n",
       "      <td>0.496913</td>\n",
       "      <td>0.001970</td>\n",
       "      <td>0.000048</td>\n",
       "      <td>107.298897</td>\n",
       "      <td>0.501071</td>\n",
       "      <td>0.496894</td>\n",
       "      <td>0.001974</td>\n",
       "      <td>0.000061</td>\n",
       "    </tr>\n",
       "    <tr>\n",
       "      <th>S002-BISH-00686</th>\n",
       "      <td>NaN</td>\n",
       "      <td>NaN</td>\n",
       "      <td>NaN</td>\n",
       "      <td>NaN</td>\n",
       "      <td>NaN</td>\n",
       "      <td>NaN</td>\n",
       "      <td>NaN</td>\n",
       "      <td>NaN</td>\n",
       "      <td>NaN</td>\n",
       "      <td>NaN</td>\n",
       "      <td>...</td>\n",
       "      <td>1099.910386</td>\n",
       "      <td>0.500274</td>\n",
       "      <td>0.499132</td>\n",
       "      <td>0.000566</td>\n",
       "      <td>0.000029</td>\n",
       "      <td>190.965916</td>\n",
       "      <td>0.500276</td>\n",
       "      <td>0.499123</td>\n",
       "      <td>0.000566</td>\n",
       "      <td>0.000036</td>\n",
       "    </tr>\n",
       "  </tbody>\n",
       "</table>\n",
       "<p>3 rows × 87 columns</p>\n",
       "</div>"
      ],
      "text/plain": [
       "                 cid10_hr_mean  cid10_hr_median  cid10_hr_stddev  \\\n",
       "patid                                                              \n",
       "S002-BISH-00509            NaN              NaN              NaN   \n",
       "S002-BISH-00674            NaN              NaN              NaN   \n",
       "S002-BISH-00686            NaN              NaN              NaN   \n",
       "\n",
       "                 cid10_hr_25th  cid10_hr_75th  cid10_hr_min  cid10_hr_max  \\\n",
       "patid                                                                       \n",
       "S002-BISH-00509            NaN            NaN           NaN           NaN   \n",
       "S002-BISH-00674            NaN            NaN           NaN           NaN   \n",
       "S002-BISH-00686            NaN            NaN           NaN           NaN   \n",
       "\n",
       "                 cid10_mvt_bandpwr1  cid10_mvt_bandpwr2  cid10_mvt_bandpwr3  \\\n",
       "patid                                                                         \n",
       "S002-BISH-00509                 NaN                 NaN                 NaN   \n",
       "S002-BISH-00674                 NaN                 NaN                 NaN   \n",
       "S002-BISH-00686                 NaN                 NaN                 NaN   \n",
       "\n",
       "                 ...  cid20_hr_bandpwr  cid20_hr_relative_bandpwr1  \\\n",
       "patid            ...                                                 \n",
       "S002-BISH-00509  ...        676.448341                    0.500389   \n",
       "S002-BISH-00674  ...        617.987575                    0.501068   \n",
       "S002-BISH-00686  ...       1099.910386                    0.500274   \n",
       "\n",
       "                 cid20_hr_relative_bandpwr2  cid20_hr_relative_bandpwr3  \\\n",
       "patid                                                                     \n",
       "S002-BISH-00509                    0.498790                    0.000782   \n",
       "S002-BISH-00674                    0.496913                    0.001970   \n",
       "S002-BISH-00686                    0.499132                    0.000566   \n",
       "\n",
       "                 cid20_hr_relative_bandpwr4  cid20_mvt_bandpwr  \\\n",
       "patid                                                            \n",
       "S002-BISH-00509                    0.000039         117.446213   \n",
       "S002-BISH-00674                    0.000048         107.298897   \n",
       "S002-BISH-00686                    0.000029         190.965916   \n",
       "\n",
       "                 cid20_mvt_relative_bandpwr1  cid20_mvt_relative_bandpwr2  \\\n",
       "patid                                                                       \n",
       "S002-BISH-00509                     0.500390                     0.498777   \n",
       "S002-BISH-00674                     0.501071                     0.496894   \n",
       "S002-BISH-00686                     0.500276                     0.499123   \n",
       "\n",
       "                 cid20_mvt_relative_bandpwr3  cid20_mvt_relative_bandpwr4  \n",
       "patid                                                                      \n",
       "S002-BISH-00509                     0.000783                     0.000050  \n",
       "S002-BISH-00674                     0.001974                     0.000061  \n",
       "S002-BISH-00686                     0.000566                     0.000036  \n",
       "\n",
       "[3 rows x 87 columns]"
      ]
     },
     "execution_count": 257,
     "metadata": {},
     "output_type": "execute_result"
    }
   ],
   "source": [
    "mvmt1 = mvmt.query(\"cid=='10'\").drop('cid', axis=1)\n",
    "mvmt1.columns = map(lambda x: 'cid10_'+x, mvmt1.columns)\n",
    "\n",
    "mvmt2 = mvmt.query(\"cid=='15'\").drop('cid', axis=1)\n",
    "mvmt2.columns = map(lambda x: 'cid15_'+x, mvmt2.columns)\n",
    "\n",
    "mvmt3 = mvmt.query(\"cid=='20'\").drop('cid', axis=1)\n",
    "mvmt3.columns = map(lambda x: 'cid20_'+x, mvmt3.columns)\n",
    "\n",
    "mvmt_wide = mvmt1.join(mvmt2, how='outer').join(mvmt3, how='outer')\n",
    "mvmt_wide.head(3)"
   ]
  },
  {
   "cell_type": "markdown",
   "metadata": {},
   "source": [
    "## MVMT Wide Nullity"
   ]
  },
  {
   "cell_type": "code",
   "execution_count": 262,
   "metadata": {},
   "outputs": [
    {
     "data": {
      "text/html": [
       "<div>\n",
       "<style scoped>\n",
       "    .dataframe tbody tr th:only-of-type {\n",
       "        vertical-align: middle;\n",
       "    }\n",
       "\n",
       "    .dataframe tbody tr th {\n",
       "        vertical-align: top;\n",
       "    }\n",
       "\n",
       "    .dataframe thead th {\n",
       "        text-align: right;\n",
       "    }\n",
       "</style>\n",
       "<table border=\"1\" class=\"dataframe\">\n",
       "  <thead>\n",
       "    <tr style=\"text-align: right;\">\n",
       "      <th></th>\n",
       "      <th>nullity</th>\n",
       "    </tr>\n",
       "  </thead>\n",
       "  <tbody>\n",
       "    <tr>\n",
       "      <th>cid10_hr_mean</th>\n",
       "      <td>97.0</td>\n",
       "    </tr>\n",
       "    <tr>\n",
       "      <th>cid10_hr_median</th>\n",
       "      <td>97.0</td>\n",
       "    </tr>\n",
       "    <tr>\n",
       "      <th>cid10_hr_stddev</th>\n",
       "      <td>97.0</td>\n",
       "    </tr>\n",
       "    <tr>\n",
       "      <th>cid10_hr_25th</th>\n",
       "      <td>97.0</td>\n",
       "    </tr>\n",
       "    <tr>\n",
       "      <th>cid10_hr_75th</th>\n",
       "      <td>97.0</td>\n",
       "    </tr>\n",
       "    <tr>\n",
       "      <th>cid10_hr_min</th>\n",
       "      <td>97.0</td>\n",
       "    </tr>\n",
       "    <tr>\n",
       "      <th>cid10_hr_max</th>\n",
       "      <td>97.0</td>\n",
       "    </tr>\n",
       "    <tr>\n",
       "      <th>cid10_mvt_bandpwr1</th>\n",
       "      <td>97.0</td>\n",
       "    </tr>\n",
       "    <tr>\n",
       "      <th>cid10_mvt_bandpwr2</th>\n",
       "      <td>97.0</td>\n",
       "    </tr>\n",
       "    <tr>\n",
       "      <th>cid10_mvt_bandpwr3</th>\n",
       "      <td>97.0</td>\n",
       "    </tr>\n",
       "    <tr>\n",
       "      <th>cid10_mvt_bandpwr4</th>\n",
       "      <td>97.0</td>\n",
       "    </tr>\n",
       "    <tr>\n",
       "      <th>cid10_hr_bandpwr1</th>\n",
       "      <td>97.0</td>\n",
       "    </tr>\n",
       "    <tr>\n",
       "      <th>cid10_hr_bandpwr2</th>\n",
       "      <td>97.0</td>\n",
       "    </tr>\n",
       "    <tr>\n",
       "      <th>cid10_hr_bandpwr3</th>\n",
       "      <td>97.0</td>\n",
       "    </tr>\n",
       "    <tr>\n",
       "      <th>cid10_hr_bandpwr4</th>\n",
       "      <td>97.0</td>\n",
       "    </tr>\n",
       "    <tr>\n",
       "      <th>cid10_maxcrosscorr</th>\n",
       "      <td>97.2</td>\n",
       "    </tr>\n",
       "    <tr>\n",
       "      <th>cid10_lagofmaxcrosscorr</th>\n",
       "      <td>97.2</td>\n",
       "    </tr>\n",
       "    <tr>\n",
       "      <th>cid10_medianmaxcrosscorr</th>\n",
       "      <td>97.2</td>\n",
       "    </tr>\n",
       "    <tr>\n",
       "      <th>cid10_medianlagofmaxcrosscorr</th>\n",
       "      <td>97.2</td>\n",
       "    </tr>\n",
       "    <tr>\n",
       "      <th>cid10_hr_bandpwr</th>\n",
       "      <td>97.0</td>\n",
       "    </tr>\n",
       "    <tr>\n",
       "      <th>cid10_hr_relative_bandpwr1</th>\n",
       "      <td>97.0</td>\n",
       "    </tr>\n",
       "    <tr>\n",
       "      <th>cid10_hr_relative_bandpwr2</th>\n",
       "      <td>97.0</td>\n",
       "    </tr>\n",
       "    <tr>\n",
       "      <th>cid10_hr_relative_bandpwr3</th>\n",
       "      <td>97.0</td>\n",
       "    </tr>\n",
       "    <tr>\n",
       "      <th>cid10_hr_relative_bandpwr4</th>\n",
       "      <td>97.0</td>\n",
       "    </tr>\n",
       "    <tr>\n",
       "      <th>cid10_mvt_bandpwr</th>\n",
       "      <td>97.0</td>\n",
       "    </tr>\n",
       "    <tr>\n",
       "      <th>cid10_mvt_relative_bandpwr1</th>\n",
       "      <td>97.0</td>\n",
       "    </tr>\n",
       "    <tr>\n",
       "      <th>cid10_mvt_relative_bandpwr2</th>\n",
       "      <td>97.0</td>\n",
       "    </tr>\n",
       "    <tr>\n",
       "      <th>cid10_mvt_relative_bandpwr3</th>\n",
       "      <td>97.0</td>\n",
       "    </tr>\n",
       "    <tr>\n",
       "      <th>cid10_mvt_relative_bandpwr4</th>\n",
       "      <td>97.0</td>\n",
       "    </tr>\n",
       "    <tr>\n",
       "      <th>cid15_hr_mean</th>\n",
       "      <td>87.8</td>\n",
       "    </tr>\n",
       "    <tr>\n",
       "      <th>...</th>\n",
       "      <td>...</td>\n",
       "    </tr>\n",
       "    <tr>\n",
       "      <th>cid15_mvt_relative_bandpwr4</th>\n",
       "      <td>87.8</td>\n",
       "    </tr>\n",
       "    <tr>\n",
       "      <th>cid20_hr_mean</th>\n",
       "      <td>9.6</td>\n",
       "    </tr>\n",
       "    <tr>\n",
       "      <th>cid20_hr_median</th>\n",
       "      <td>9.6</td>\n",
       "    </tr>\n",
       "    <tr>\n",
       "      <th>cid20_hr_stddev</th>\n",
       "      <td>9.6</td>\n",
       "    </tr>\n",
       "    <tr>\n",
       "      <th>cid20_hr_25th</th>\n",
       "      <td>9.6</td>\n",
       "    </tr>\n",
       "    <tr>\n",
       "      <th>cid20_hr_75th</th>\n",
       "      <td>9.6</td>\n",
       "    </tr>\n",
       "    <tr>\n",
       "      <th>cid20_hr_min</th>\n",
       "      <td>9.6</td>\n",
       "    </tr>\n",
       "    <tr>\n",
       "      <th>cid20_hr_max</th>\n",
       "      <td>9.6</td>\n",
       "    </tr>\n",
       "    <tr>\n",
       "      <th>cid20_mvt_bandpwr1</th>\n",
       "      <td>9.6</td>\n",
       "    </tr>\n",
       "    <tr>\n",
       "      <th>cid20_mvt_bandpwr2</th>\n",
       "      <td>9.6</td>\n",
       "    </tr>\n",
       "    <tr>\n",
       "      <th>cid20_mvt_bandpwr3</th>\n",
       "      <td>9.6</td>\n",
       "    </tr>\n",
       "    <tr>\n",
       "      <th>cid20_mvt_bandpwr4</th>\n",
       "      <td>9.6</td>\n",
       "    </tr>\n",
       "    <tr>\n",
       "      <th>cid20_hr_bandpwr1</th>\n",
       "      <td>9.6</td>\n",
       "    </tr>\n",
       "    <tr>\n",
       "      <th>cid20_hr_bandpwr2</th>\n",
       "      <td>9.6</td>\n",
       "    </tr>\n",
       "    <tr>\n",
       "      <th>cid20_hr_bandpwr3</th>\n",
       "      <td>9.6</td>\n",
       "    </tr>\n",
       "    <tr>\n",
       "      <th>cid20_hr_bandpwr4</th>\n",
       "      <td>9.6</td>\n",
       "    </tr>\n",
       "    <tr>\n",
       "      <th>cid20_maxcrosscorr</th>\n",
       "      <td>30.4</td>\n",
       "    </tr>\n",
       "    <tr>\n",
       "      <th>cid20_lagofmaxcrosscorr</th>\n",
       "      <td>30.4</td>\n",
       "    </tr>\n",
       "    <tr>\n",
       "      <th>cid20_medianmaxcrosscorr</th>\n",
       "      <td>30.4</td>\n",
       "    </tr>\n",
       "    <tr>\n",
       "      <th>cid20_medianlagofmaxcrosscorr</th>\n",
       "      <td>30.4</td>\n",
       "    </tr>\n",
       "    <tr>\n",
       "      <th>cid20_hr_bandpwr</th>\n",
       "      <td>9.6</td>\n",
       "    </tr>\n",
       "    <tr>\n",
       "      <th>cid20_hr_relative_bandpwr1</th>\n",
       "      <td>9.6</td>\n",
       "    </tr>\n",
       "    <tr>\n",
       "      <th>cid20_hr_relative_bandpwr2</th>\n",
       "      <td>9.6</td>\n",
       "    </tr>\n",
       "    <tr>\n",
       "      <th>cid20_hr_relative_bandpwr3</th>\n",
       "      <td>9.6</td>\n",
       "    </tr>\n",
       "    <tr>\n",
       "      <th>cid20_hr_relative_bandpwr4</th>\n",
       "      <td>9.6</td>\n",
       "    </tr>\n",
       "    <tr>\n",
       "      <th>cid20_mvt_bandpwr</th>\n",
       "      <td>9.6</td>\n",
       "    </tr>\n",
       "    <tr>\n",
       "      <th>cid20_mvt_relative_bandpwr1</th>\n",
       "      <td>9.6</td>\n",
       "    </tr>\n",
       "    <tr>\n",
       "      <th>cid20_mvt_relative_bandpwr2</th>\n",
       "      <td>9.6</td>\n",
       "    </tr>\n",
       "    <tr>\n",
       "      <th>cid20_mvt_relative_bandpwr3</th>\n",
       "      <td>9.6</td>\n",
       "    </tr>\n",
       "    <tr>\n",
       "      <th>cid20_mvt_relative_bandpwr4</th>\n",
       "      <td>9.6</td>\n",
       "    </tr>\n",
       "  </tbody>\n",
       "</table>\n",
       "<p>87 rows × 1 columns</p>\n",
       "</div>"
      ],
      "text/plain": [
       "                               nullity\n",
       "cid10_hr_mean                     97.0\n",
       "cid10_hr_median                   97.0\n",
       "cid10_hr_stddev                   97.0\n",
       "cid10_hr_25th                     97.0\n",
       "cid10_hr_75th                     97.0\n",
       "cid10_hr_min                      97.0\n",
       "cid10_hr_max                      97.0\n",
       "cid10_mvt_bandpwr1                97.0\n",
       "cid10_mvt_bandpwr2                97.0\n",
       "cid10_mvt_bandpwr3                97.0\n",
       "cid10_mvt_bandpwr4                97.0\n",
       "cid10_hr_bandpwr1                 97.0\n",
       "cid10_hr_bandpwr2                 97.0\n",
       "cid10_hr_bandpwr3                 97.0\n",
       "cid10_hr_bandpwr4                 97.0\n",
       "cid10_maxcrosscorr                97.2\n",
       "cid10_lagofmaxcrosscorr           97.2\n",
       "cid10_medianmaxcrosscorr          97.2\n",
       "cid10_medianlagofmaxcrosscorr     97.2\n",
       "cid10_hr_bandpwr                  97.0\n",
       "cid10_hr_relative_bandpwr1        97.0\n",
       "cid10_hr_relative_bandpwr2        97.0\n",
       "cid10_hr_relative_bandpwr3        97.0\n",
       "cid10_hr_relative_bandpwr4        97.0\n",
       "cid10_mvt_bandpwr                 97.0\n",
       "cid10_mvt_relative_bandpwr1       97.0\n",
       "cid10_mvt_relative_bandpwr2       97.0\n",
       "cid10_mvt_relative_bandpwr3       97.0\n",
       "cid10_mvt_relative_bandpwr4       97.0\n",
       "cid15_hr_mean                     87.8\n",
       "...                                ...\n",
       "cid15_mvt_relative_bandpwr4       87.8\n",
       "cid20_hr_mean                      9.6\n",
       "cid20_hr_median                    9.6\n",
       "cid20_hr_stddev                    9.6\n",
       "cid20_hr_25th                      9.6\n",
       "cid20_hr_75th                      9.6\n",
       "cid20_hr_min                       9.6\n",
       "cid20_hr_max                       9.6\n",
       "cid20_mvt_bandpwr1                 9.6\n",
       "cid20_mvt_bandpwr2                 9.6\n",
       "cid20_mvt_bandpwr3                 9.6\n",
       "cid20_mvt_bandpwr4                 9.6\n",
       "cid20_hr_bandpwr1                  9.6\n",
       "cid20_hr_bandpwr2                  9.6\n",
       "cid20_hr_bandpwr3                  9.6\n",
       "cid20_hr_bandpwr4                  9.6\n",
       "cid20_maxcrosscorr                30.4\n",
       "cid20_lagofmaxcrosscorr           30.4\n",
       "cid20_medianmaxcrosscorr          30.4\n",
       "cid20_medianlagofmaxcrosscorr     30.4\n",
       "cid20_hr_bandpwr                   9.6\n",
       "cid20_hr_relative_bandpwr1         9.6\n",
       "cid20_hr_relative_bandpwr2         9.6\n",
       "cid20_hr_relative_bandpwr3         9.6\n",
       "cid20_hr_relative_bandpwr4         9.6\n",
       "cid20_mvt_bandpwr                  9.6\n",
       "cid20_mvt_relative_bandpwr1        9.6\n",
       "cid20_mvt_relative_bandpwr2        9.6\n",
       "cid20_mvt_relative_bandpwr3        9.6\n",
       "cid20_mvt_relative_bandpwr4        9.6\n",
       "\n",
       "[87 rows x 1 columns]"
      ]
     },
     "execution_count": 262,
     "metadata": {},
     "output_type": "execute_result"
    }
   ],
   "source": [
    "mvmt_nullity = mvmt_wide.isnull().sum().map(lambda x: round(100 * x / len(mvmt_wide), 1)).to_frame('nullity')\n",
    "mvmt_nullity"
   ]
  },
  {
   "cell_type": "code",
   "execution_count": 265,
   "metadata": {},
   "outputs": [
    {
     "data": {
      "text/html": [
       "<div>\n",
       "<style scoped>\n",
       "    .dataframe tbody tr th:only-of-type {\n",
       "        vertical-align: middle;\n",
       "    }\n",
       "\n",
       "    .dataframe tbody tr th {\n",
       "        vertical-align: top;\n",
       "    }\n",
       "\n",
       "    .dataframe thead th {\n",
       "        text-align: right;\n",
       "    }\n",
       "</style>\n",
       "<table border=\"1\" class=\"dataframe\">\n",
       "  <thead>\n",
       "    <tr style=\"text-align: right;\">\n",
       "      <th></th>\n",
       "      <th>nullity</th>\n",
       "    </tr>\n",
       "  </thead>\n",
       "  <tbody>\n",
       "    <tr>\n",
       "      <th>cid20_hr_mean</th>\n",
       "      <td>9.6</td>\n",
       "    </tr>\n",
       "    <tr>\n",
       "      <th>cid20_hr_median</th>\n",
       "      <td>9.6</td>\n",
       "    </tr>\n",
       "    <tr>\n",
       "      <th>cid20_hr_stddev</th>\n",
       "      <td>9.6</td>\n",
       "    </tr>\n",
       "    <tr>\n",
       "      <th>cid20_hr_25th</th>\n",
       "      <td>9.6</td>\n",
       "    </tr>\n",
       "    <tr>\n",
       "      <th>cid20_hr_75th</th>\n",
       "      <td>9.6</td>\n",
       "    </tr>\n",
       "    <tr>\n",
       "      <th>cid20_hr_min</th>\n",
       "      <td>9.6</td>\n",
       "    </tr>\n",
       "    <tr>\n",
       "      <th>cid20_hr_max</th>\n",
       "      <td>9.6</td>\n",
       "    </tr>\n",
       "    <tr>\n",
       "      <th>cid20_mvt_bandpwr1</th>\n",
       "      <td>9.6</td>\n",
       "    </tr>\n",
       "    <tr>\n",
       "      <th>cid20_mvt_bandpwr2</th>\n",
       "      <td>9.6</td>\n",
       "    </tr>\n",
       "    <tr>\n",
       "      <th>cid20_mvt_bandpwr3</th>\n",
       "      <td>9.6</td>\n",
       "    </tr>\n",
       "    <tr>\n",
       "      <th>cid20_mvt_bandpwr4</th>\n",
       "      <td>9.6</td>\n",
       "    </tr>\n",
       "    <tr>\n",
       "      <th>cid20_hr_bandpwr1</th>\n",
       "      <td>9.6</td>\n",
       "    </tr>\n",
       "    <tr>\n",
       "      <th>cid20_hr_bandpwr2</th>\n",
       "      <td>9.6</td>\n",
       "    </tr>\n",
       "    <tr>\n",
       "      <th>cid20_hr_bandpwr3</th>\n",
       "      <td>9.6</td>\n",
       "    </tr>\n",
       "    <tr>\n",
       "      <th>cid20_hr_bandpwr4</th>\n",
       "      <td>9.6</td>\n",
       "    </tr>\n",
       "    <tr>\n",
       "      <th>cid20_maxcrosscorr</th>\n",
       "      <td>30.4</td>\n",
       "    </tr>\n",
       "    <tr>\n",
       "      <th>cid20_lagofmaxcrosscorr</th>\n",
       "      <td>30.4</td>\n",
       "    </tr>\n",
       "    <tr>\n",
       "      <th>cid20_medianmaxcrosscorr</th>\n",
       "      <td>30.4</td>\n",
       "    </tr>\n",
       "    <tr>\n",
       "      <th>cid20_medianlagofmaxcrosscorr</th>\n",
       "      <td>30.4</td>\n",
       "    </tr>\n",
       "    <tr>\n",
       "      <th>cid20_hr_bandpwr</th>\n",
       "      <td>9.6</td>\n",
       "    </tr>\n",
       "    <tr>\n",
       "      <th>cid20_hr_relative_bandpwr1</th>\n",
       "      <td>9.6</td>\n",
       "    </tr>\n",
       "    <tr>\n",
       "      <th>cid20_hr_relative_bandpwr2</th>\n",
       "      <td>9.6</td>\n",
       "    </tr>\n",
       "    <tr>\n",
       "      <th>cid20_hr_relative_bandpwr3</th>\n",
       "      <td>9.6</td>\n",
       "    </tr>\n",
       "    <tr>\n",
       "      <th>cid20_hr_relative_bandpwr4</th>\n",
       "      <td>9.6</td>\n",
       "    </tr>\n",
       "    <tr>\n",
       "      <th>cid20_mvt_bandpwr</th>\n",
       "      <td>9.6</td>\n",
       "    </tr>\n",
       "    <tr>\n",
       "      <th>cid20_mvt_relative_bandpwr1</th>\n",
       "      <td>9.6</td>\n",
       "    </tr>\n",
       "    <tr>\n",
       "      <th>cid20_mvt_relative_bandpwr2</th>\n",
       "      <td>9.6</td>\n",
       "    </tr>\n",
       "    <tr>\n",
       "      <th>cid20_mvt_relative_bandpwr3</th>\n",
       "      <td>9.6</td>\n",
       "    </tr>\n",
       "    <tr>\n",
       "      <th>cid20_mvt_relative_bandpwr4</th>\n",
       "      <td>9.6</td>\n",
       "    </tr>\n",
       "  </tbody>\n",
       "</table>\n",
       "</div>"
      ],
      "text/plain": [
       "                               nullity\n",
       "cid20_hr_mean                      9.6\n",
       "cid20_hr_median                    9.6\n",
       "cid20_hr_stddev                    9.6\n",
       "cid20_hr_25th                      9.6\n",
       "cid20_hr_75th                      9.6\n",
       "cid20_hr_min                       9.6\n",
       "cid20_hr_max                       9.6\n",
       "cid20_mvt_bandpwr1                 9.6\n",
       "cid20_mvt_bandpwr2                 9.6\n",
       "cid20_mvt_bandpwr3                 9.6\n",
       "cid20_mvt_bandpwr4                 9.6\n",
       "cid20_hr_bandpwr1                  9.6\n",
       "cid20_hr_bandpwr2                  9.6\n",
       "cid20_hr_bandpwr3                  9.6\n",
       "cid20_hr_bandpwr4                  9.6\n",
       "cid20_maxcrosscorr                30.4\n",
       "cid20_lagofmaxcrosscorr           30.4\n",
       "cid20_medianmaxcrosscorr          30.4\n",
       "cid20_medianlagofmaxcrosscorr     30.4\n",
       "cid20_hr_bandpwr                   9.6\n",
       "cid20_hr_relative_bandpwr1         9.6\n",
       "cid20_hr_relative_bandpwr2         9.6\n",
       "cid20_hr_relative_bandpwr3         9.6\n",
       "cid20_hr_relative_bandpwr4         9.6\n",
       "cid20_mvt_bandpwr                  9.6\n",
       "cid20_mvt_relative_bandpwr1        9.6\n",
       "cid20_mvt_relative_bandpwr2        9.6\n",
       "cid20_mvt_relative_bandpwr3        9.6\n",
       "cid20_mvt_relative_bandpwr4        9.6"
      ]
     },
     "execution_count": 265,
     "metadata": {},
     "output_type": "execute_result"
    }
   ],
   "source": [
    "mvmt_nullity.query('nullity < 87')"
   ]
  },
  {
   "cell_type": "code",
   "execution_count": 101,
   "metadata": {},
   "outputs": [
    {
     "data": {
      "text/plain": [
       "2882"
      ]
     },
     "execution_count": 101,
     "metadata": {},
     "output_type": "execute_result"
    }
   ],
   "source": [
    "mvmt.index.unique().__len__()"
   ]
  },
  {
   "cell_type": "code",
   "execution_count": 291,
   "metadata": {},
   "outputs": [
    {
     "data": {
      "text/plain": [
       "[97.0, 97.2]"
      ]
     },
     "execution_count": 291,
     "metadata": {},
     "output_type": "execute_result"
    }
   ],
   "source": [
    "cid10 = [row[1].nullity for row in mvmt_nullity.reset_index().iterrows() if 'cid10' in row[1]['index']]\n",
    "[min(cid10), max(cid10)]"
   ]
  },
  {
   "cell_type": "code",
   "execution_count": 292,
   "metadata": {},
   "outputs": [
    {
     "data": {
      "text/plain": [
       "[87.8, 89.5]"
      ]
     },
     "execution_count": 292,
     "metadata": {},
     "output_type": "execute_result"
    }
   ],
   "source": [
    "cid15 = [row[1].nullity for row in mvmt_nullity.reset_index().iterrows() if 'cid15' in row[1]['index']]\n",
    "[min(cid15), max(cid15)]"
   ]
  },
  {
   "cell_type": "code",
   "execution_count": 293,
   "metadata": {},
   "outputs": [
    {
     "data": {
      "text/plain": [
       "[9.6, 30.4]"
      ]
     },
     "execution_count": 293,
     "metadata": {},
     "output_type": "execute_result"
    }
   ],
   "source": [
    "cid20 = [row[1].nullity for row in mvmt_nullity.reset_index().iterrows() if 'cid20' in row[1]['index']]\n",
    "[min(cid20), max(cid20)]"
   ]
  },
  {
   "cell_type": "markdown",
   "metadata": {},
   "source": [
    "## MVMT Final Code"
   ]
  },
  {
   "cell_type": "code",
   "execution_count": null,
   "metadata": {},
   "outputs": [],
   "source": [
    "# Reload, if necessary\n",
    "mvmt = pd.read_csv('../data/raw/maternal_MVMT_monica_EHG_EHG_XFER_240s_Epochs_051818.csv')\n",
    "mvmt['cid'] = mvmt['Study ID'].apply(lambda x: x.split('-')[-1] if type(x)==str else x)\n",
    "mvmt['patid'] = mvmt['Study ID'].apply(lambda x: '-'.join(x.split('-')[:-2]))\n",
    "mvmt.columns = mvmt.columns.to_frame().replace(' ','_',regex=True).iloc[:,0].map(str.lower).values\n",
    "mvmt.set_index('patid', inplace=True)\n",
    "\n",
    "mvmt_drop_cols = ['study_id', 'file_name', 'studyid', 'numbersegments', \n",
    "                  'meanpercentbad','startsecond', 'endsecond', 'numbersegments__1', \n",
    "                  'numberusedpwrcoh', 'numberusedcrscor', ]\n",
    "mvmt.drop(mvmt_drop_cols, axis=1, inplace=True)\n",
    "\n",
    "# Heart Rate\n",
    "mvmt['hr_bandpwr'] = mvmt.hr_bandpwr1 + mvmt.hr_bandpwr2 + mvmt.hr_bandpwr3 + mvmt.hr_bandpwr4\n",
    "mvmt['hr_relative_bandpwr1'] = mvmt.hr_bandpwr1/mvmt.hr_bandpwr \n",
    "mvmt['hr_relative_bandpwr2'] = mvmt.hr_bandpwr2/mvmt.hr_bandpwr \n",
    "mvmt['hr_relative_bandpwr3'] = mvmt.hr_bandpwr3/mvmt.hr_bandpwr \n",
    "mvmt['hr_relative_bandpwr4'] = mvmt.hr_bandpwr4/mvmt.hr_bandpwr \n",
    "\n",
    "# Movement\n",
    "mvmt['mvt_bandpwr'] = mvmt.mvt_bandpwr1 + mvmt.mvt_bandpwr2 + mvmt.mvt_bandpwr3 + mvmt.mvt_bandpwr4\n",
    "mvmt['mvt_relative_bandpwr1'] = mvmt.mvt_bandpwr1/mvmt.mvt_bandpwr \n",
    "mvmt['mvt_relative_bandpwr2'] = mvmt.mvt_bandpwr2/mvmt.mvt_bandpwr \n",
    "mvmt['mvt_relative_bandpwr3'] = mvmt.mvt_bandpwr3/mvmt.mvt_bandpwr \n",
    "mvmt['mvt_relative_bandpwr4'] = mvmt.mvt_bandpwr4/mvmt.mvt_bandpwr \n",
    "\n",
    "# MVMT Widening\n",
    "mvmt1 = mvmt.query(\"cid=='10'\").drop('cid', axis=1)\n",
    "mvmt1.columns = map(lambda x: 'cid10_'+x, mvmt1.columns)\n",
    "\n",
    "mvmt2 = mvmt.query(\"cid=='15'\").drop('cid', axis=1)\n",
    "mvmt2.columns = map(lambda x: 'cid15_'+x, mvmt2.columns)\n",
    "\n",
    "mvmt3 = mvmt.query(\"cid=='20'\").drop('cid', axis=1)\n",
    "mvmt3.columns = map(lambda x: 'cid20_'+x, mvmt3.columns)\n",
    "\n",
    "mvmt_wide = mvmt1.join(mvmt2, how='outer').join(mvmt3, how='outer')\n",
    "mvmt_wide.head(3)"
   ]
  },
  {
   "cell_type": "markdown",
   "metadata": {},
   "source": [
    "# SENSOR CODE\n",
    "**Dec 9, 2019**"
   ]
  },
  {
   "cell_type": "code",
   "execution_count": 6,
   "metadata": {},
   "outputs": [],
   "source": [
    "import pandas as pd\n",
    "\n",
    "#####################################################\n",
    "#########            TOI                #############\n",
    "#####################################################\n",
    "toi = pd.read_csv('../data/raw/Fetal_Toitu_Physio_Features_Early_Signal_093019.csv')\n",
    "# Drop \"meta data\" cols (Dec 10, 2019)\n",
    "#   Question: Drop these now, or develop file to drop them if we choose to at model time?\n",
    "#     -- some of these are definite drops (e.g., age, site, filename), but some\n",
    "#        of the data quality vars might inform a random forest...who knows...\n",
    "toi_drop_cols = ['F1_hrsegs1', 'F1_totsegs1', 'F1_totsegs4', 'F1_ccsegs4',\n",
    "                'F1_MVT_PWR_numberSegments.1', 'F1_MVT_PWR_numberUsedPwrCoh',\n",
    "                'F2_hrsegs1', 'F2_totsegs1', 'F2_totsegs4', 'F2_ccsegs4',\n",
    "                'F2_MVT_PWR_numberSegments.1', 'F2_MVT_PWR_numberUsedPwrCoh',\n",
    "                'F31f_hrsegs1', 'F31f_totsegs1', 'F32f_hrsegs1', 'F32f_totsegs1',\n",
    "                'F3_totsegs4', 'F3_ccsegs4',\n",
    "                'F3_MVT_PWR_numberSegments.1', 'F3_MVT_PWR_numberUsedPwrCoh']\n",
    "toi.drop(toi_drop_cols, axis=1, inplace=True)\n",
    "# Standardize (lowercase, patid index)\n",
    "toi.columns = map(str.lower, toi.columns)\n",
    "toi.set_index('patid', inplace=True)\n",
    "# Remove All-NaN Rows\n",
    "valid_index = ~(toi.isnull().sum(axis=1) == toi.columns.__len__())\n",
    "toi = toi[valid_index]\n",
    "# Drop Duplicated IDs\n",
    "duplicated_IDs = toi.reset_index().groupby('patid')['patid'].count().to_frame('cnt').query('cnt > 1').index\n",
    "toi.drop(duplicated_IDs, inplace=True)\n",
    "# BandPwr\n",
    "# Despite David recommending defining relative band power for the TOI data, from\n",
    "#   the var names, I suspect something like that is already done: note that all pwr \n",
    "#   quantities in the TOI data have suffixes like 21, 31, or 41, which I suspect mean\n",
    "#   that these are ratios...\n",
    "toi_wide = toi  # naming convention for consistency\n",
    "\n",
    "    \n",
    "\n",
    "#####################################################\n",
    "#########           MON RMSSD           #############\n",
    "#####################################################\n",
    "rmssd = pd.read_csv('../data/raw/BISH_RMSSD_MONICA_052218_EARLY_SIGNAL2.csv')\n",
    "# Drop \"meta data\" cols\n",
    "#   Question: Drop these now, or develop file to drop them if we choose to at model time?\n",
    "#     -- some of these are definite drops (e.g., age, site, filename), but some\n",
    "#        of the data quality vars might inform a random forest...who knows...\n",
    "rmssd_drop_cols = ['Age', 'Site', 'FileName', 'F1_Total', 'F1_AS Total',\n",
    "     'F1_QS Total', 'F1_AS Reject', 'F1_QS Reject', 'F1_ASR%',\n",
    "     'F1_QSR%', 'F2_Study ID +', 'F2_Study ID', 'F2_Study ID.1', 'F2_Study ID.2',\n",
    "     'F2_Site', 'F2_Total', 'F2_AS Total', 'F2_QS Total', 'F2_AS Reject',\n",
    "     'F2_QS Reject', 'F2_ASR%', 'F2_QSR%', 'F3_Study ID +', 'F3_Study ID',\n",
    "     'F3_Study ID.1', 'F3_Study ID.2', 'F3_Site', 'F3_Total',\n",
    "     'F3_AS Total', 'F3_QS Total', 'F3_AS Reject', 'F3_QS Reject',\n",
    "     'F3_ASR%', 'F3_QSR%', ]\n",
    "rmssd.drop(rmssd_drop_cols, axis=1, inplace=True)\n",
    "# Standardize (lower case, patid index)\n",
    "rmssd.columns = map(lambda x: x.lower().replace(' ',''), rmssd.columns)\n",
    "rmssd.set_index('patid', inplace=True)\n",
    "keep_only_f1 = False\n",
    "drop_f3 = False\n",
    "if keep_only_f1:\n",
    "    f12f_vars = [var for var in rmssd.columns \n",
    "           if 'f1' in var and '2f' in var]\n",
    "    rmssd = rmssd[f12f_vars]\n",
    "rmssd_wide = rmssd  # naming convention for consistency\n",
    "# You might choose to drop F3 data at this step, or leave it in for \n",
    "#   downstream dropping....\n",
    "\n",
    "\n",
    "\n",
    "\n",
    "#####################################################\n",
    "#########             MON MHR           #############\n",
    "#####################################################\n",
    "mhr = pd.read_csv('../data/raw/Maternal HR XFER 052318.csv')\n",
    "mhr.columns = map(str.lower, mhr.columns)\n",
    "mhr.set_index('patid', inplace=True)\n",
    "# Drop \"meta data\" cols\n",
    "mhr_drop_cols = ['file name', 'numbersegments', 'meanpercentbad',\n",
    "                'startsecond', 'endsecond', 'numbersegments.1', \n",
    "                'numberusedpwrcoh', 'numberusedcrscor']\n",
    "mhr.drop(mhr_drop_cols, axis=1, inplace=True)\n",
    "# MHR BAND POWER\n",
    "mhr['bandpwr'] = mhr.mhr_bandpwr1 + mhr.mhr_bandpwr2 + mhr.mhr_bandpwr3 + mhr.mhr_bandpwr4\n",
    "mhr['relative_bandpwr1'] = mhr.mhr_bandpwr1/mhr.bandpwr\n",
    "mhr['relative_bandpwr2'] = mhr.mhr_bandpwr2/mhr.bandpwr\n",
    "mhr['relative_bandpwr3'] = mhr.mhr_bandpwr3/mhr.bandpwr\n",
    "# CORRECTION (2020-Jan-10: was accidentally doing bandpwr1/bandpwr for bandpwr4)\n",
    "mhr['relative_bandpwr4'] = mhr.mhr_bandpwr4/mhr.bandpwr\n",
    "# Widening\n",
    "mhr1 = mhr.query(\"timepoint=='F1'\").drop('timepoint', axis=1)\n",
    "mhr1.columns = map(lambda x: 'f1_'+x, mhr1.columns)\n",
    "mhr2 = mhr.query(\"timepoint=='F2'\").drop('timepoint', axis=1)\n",
    "mhr2.columns = map(lambda x: 'f2_'+x, mhr2.columns)\n",
    "mhr3 = mhr.query(\"timepoint=='F3'\").drop('timepoint', axis=1)\n",
    "mhr3.columns = map(lambda x: 'f3_'+x, mhr3.columns)\n",
    "mhr_wide = mhr1.join(mhr2, how='outer').join(mhr3, how='outer')\n",
    "# You might choose to drop F3 data at this step, or leave it in for \n",
    "#   downstream dropping....\n",
    "\n",
    "\n",
    "\n",
    "#####################################################\n",
    "#########             MON MVMT          #############\n",
    "#####################################################\n",
    "mvmt = pd.read_csv('../data/raw/maternal_MVMT_monica_EHG_EHG_XFER_240s_Epochs_051818.csv')\n",
    "mvmt['cid'] = mvmt['Study ID'].apply(lambda x: x.split('-')[-1] if type(x)==str else x)\n",
    "mvmt['patid'] = mvmt['Study ID'].apply(lambda x: '-'.join(x.split('-')[:-2]))\n",
    "mvmt.columns = mvmt.columns.to_frame().replace(' ','_',regex=True).iloc[:,0].map(str.lower).values\n",
    "mvmt.set_index('patid', inplace=True)\n",
    "# Drop \"meta data\" cols\n",
    "mvmt_drop_cols = ['study_id', 'file_name', 'studyid', 'numbersegments', \n",
    "                  'meanpercentbad','startsecond', 'endsecond', 'numbersegments__1', \n",
    "                  'numberusedpwrcoh', 'numberusedcrscor', ]\n",
    "mvmt.drop(mvmt_drop_cols, axis=1, inplace=True)\n",
    "# BAND POWER\n",
    "## Heart Rate\n",
    "mvmt['hr_bandpwr'] = mvmt.hr_bandpwr1 + mvmt.hr_bandpwr2 + mvmt.hr_bandpwr3 + mvmt.hr_bandpwr4\n",
    "mvmt['hr_relative_bandpwr1'] = mvmt.hr_bandpwr1/mvmt.hr_bandpwr \n",
    "mvmt['hr_relative_bandpwr2'] = mvmt.hr_bandpwr2/mvmt.hr_bandpwr \n",
    "mvmt['hr_relative_bandpwr3'] = mvmt.hr_bandpwr3/mvmt.hr_bandpwr \n",
    "mvmt['hr_relative_bandpwr4'] = mvmt.hr_bandpwr4/mvmt.hr_bandpwr \n",
    "## Movement\n",
    "mvmt['mvt_bandpwr'] = mvmt.mvt_bandpwr1 + mvmt.mvt_bandpwr2 + mvmt.mvt_bandpwr3 + mvmt.mvt_bandpwr4\n",
    "mvmt['mvt_relative_bandpwr1'] = mvmt.mvt_bandpwr1/mvmt.mvt_bandpwr \n",
    "mvmt['mvt_relative_bandpwr2'] = mvmt.mvt_bandpwr2/mvmt.mvt_bandpwr \n",
    "mvmt['mvt_relative_bandpwr3'] = mvmt.mvt_bandpwr3/mvmt.mvt_bandpwr \n",
    "mvmt['mvt_relative_bandpwr4'] = mvmt.mvt_bandpwr4/mvmt.mvt_bandpwr \n",
    "# MVMT Widening\n",
    "mvmt1 = mvmt.query(\"cid=='10'\").drop('cid', axis=1)\n",
    "mvmt1.columns = map(lambda x: 'cid10_'+x, mvmt1.columns)\n",
    "mvmt2 = mvmt.query(\"cid=='15'\").drop('cid', axis=1)\n",
    "mvmt2.columns = map(lambda x: 'cid15_'+x, mvmt2.columns)\n",
    "mvmt3 = mvmt.query(\"cid=='20'\").drop('cid', axis=1)\n",
    "mvmt3.columns = map(lambda x: 'cid20_'+x, mvmt3.columns)\n",
    "mvmt_wide = mvmt1.join(mvmt2, how='outer').join(mvmt3, how='outer')\n",
    "# You might choose to drop F3 data at this step, or leave it in for \n",
    "#   downstream dropping....\n",
    "\n",
    "# All MON\n",
    "mon_wide_all = rmssd_wide.join(mhr_wide, how='outer').join(mvmt_wide, how='outer')\n",
    "\n",
    "# All Sensors\n",
    "sensors = toi_wide.join(mon_wide_all, how='outer')"
   ]
  },
  {
   "cell_type": "code",
   "execution_count": 7,
   "metadata": {},
   "outputs": [
    {
     "data": {
      "text/plain": [
       "(6315, 27)"
      ]
     },
     "execution_count": 7,
     "metadata": {},
     "output_type": "execute_result"
    }
   ],
   "source": [
    "toi.shape"
   ]
  },
  {
   "cell_type": "code",
   "execution_count": 8,
   "metadata": {},
   "outputs": [
    {
     "name": "stdout",
     "output_type": "stream",
     "text": [
      "Toi Wide Shape: (6315, 27)\n",
      "MON RMSSD Wide Shape: (5222, 66)\n",
      "MON MHR Wide Shape: (3589, 60)\n",
      "MON MVMT Wide Shape: (2883, 87)\n",
      "MON All Sensors Shape: (5277, 213)\n",
      "MON+TOI Shape: (6519, 240)\n"
     ]
    }
   ],
   "source": [
    "print('Toi Wide Shape:', toi_wide.shape)\n",
    "print('MON RMSSD Wide Shape:', rmssd_wide.shape)\n",
    "print('MON MHR Wide Shape:', mhr_wide.shape)\n",
    "print('MON MVMT Wide Shape:', mvmt_wide.shape)\n",
    "print('MON All Sensors Shape:', mon_wide_all.shape)\n",
    "print('MON+TOI Shape:', sensors.shape)"
   ]
  },
  {
   "cell_type": "code",
   "execution_count": 9,
   "metadata": {},
   "outputs": [],
   "source": [
    "# Dec 12: Put instrument name in front of col names\n",
    "toi_wide.columns = map(lambda x: 'sensor_toi_' + x, toi_wide.columns)\n",
    "rmssd_wide.columns = map(lambda x: 'sensor_monrmssd_' + x, rmssd_wide.columns)\n",
    "mhr_wide.columns = map(lambda x: 'sensor_monmhr_' + x, mhr_wide.columns)\n",
    "mvmt_wide.columns = map(lambda x: 'sensor_monmvmt_' + x, mvmt_wide.columns)\n",
    "# All MON\n",
    "mon_wide_all = rmssd_wide.join(mhr_wide, how='outer').join(mvmt_wide, how='outer')\n",
    "# All Sensors\n",
    "sensors = toi_wide.join(mon_wide_all, how='outer')"
   ]
  },
  {
   "cell_type": "code",
   "execution_count": 10,
   "metadata": {},
   "outputs": [],
   "source": [
    "# Originally saved on Dec 3, updated on Dec 10.  \n",
    "# -- New update, Dec 12: put instrument name in front of cols\n",
    "# -- Updated on Jan 10, 2020:  corrected\n",
    "#toi_wide.to_csv('../data/interim/toi_20191212_KU.csv')\n",
    "#rmssd_wide.to_csv('../data/interim/mon-rmssd_20191212_KU.csv')\n",
    "mhr_wide.to_csv('../data/interim/mon-mhr_20200110_KU.csv')\n",
    "#mvmt_wide.to_csv('../data/interim/mon-mvmt_20191212_KU.csv')\n",
    "mon_wide_all.to_csv('../data/interim/mon-all_20200110_KU.csv')\n",
    "sensors.to_csv('../data/interim/sensors-all_20200110_KU.csv')"
   ]
  },
  {
   "cell_type": "code",
   "execution_count": null,
   "metadata": {},
   "outputs": [],
   "source": []
  },
  {
   "cell_type": "code",
   "execution_count": null,
   "metadata": {},
   "outputs": [],
   "source": []
  },
  {
   "cell_type": "markdown",
   "metadata": {},
   "source": [
    "# Join Sensor & DemoClinical Data Sets\n",
    "**Dec 10, 2019**"
   ]
  },
  {
   "cell_type": "code",
   "execution_count": 11,
   "metadata": {},
   "outputs": [],
   "source": [
    "# Sensor and DemoClinical files have been updated during week of Jan 6-10, 2020\n",
    "import pandas as pd\n",
    "sensors = pd.read_csv('../data/interim/sensors-all_20200110_KU.csv')\n",
    "democlinical = pd.read_csv('../data/interim/democlinical_v4_20200106_KU.csv')"
   ]
  },
  {
   "cell_type": "code",
   "execution_count": 12,
   "metadata": {},
   "outputs": [],
   "source": [
    "sensors.set_index('patid', inplace=True)\n",
    "democlinical.set_index('patid', inplace=True)"
   ]
  },
  {
   "cell_type": "code",
   "execution_count": 13,
   "metadata": {},
   "outputs": [
    {
     "name": "stdout",
     "output_type": "stream",
     "text": [
      "Sensors Shape: (6519, 240)\n",
      "DemoClinical Shape: (6875, 113)\n"
     ]
    }
   ],
   "source": [
    "print('Sensors Shape:', sensors.shape)\n",
    "print('DemoClinical Shape:', democlinical.shape)"
   ]
  },
  {
   "cell_type": "code",
   "execution_count": 14,
   "metadata": {},
   "outputs": [
    {
     "name": "stdout",
     "output_type": "stream",
     "text": [
      "Sensor Patients: 6518\n",
      "DemoClinical Patients: 6875\n"
     ]
    }
   ],
   "source": [
    "print('Sensor Patients:', sensors.index.unique().__len__())\n",
    "print('DemoClinical Patients:', democlinical.index.unique().__len__())"
   ]
  },
  {
   "cell_type": "code",
   "execution_count": 111,
   "metadata": {},
   "outputs": [
    {
     "name": "stdout",
     "output_type": "stream",
     "text": [
      "Patient Intersection: 6489\n"
     ]
    }
   ],
   "source": [
    "print('Patient Intersection:', set(sensors.index).intersection(democlinical.index).__len__())"
   ]
  },
  {
   "cell_type": "code",
   "execution_count": 115,
   "metadata": {},
   "outputs": [
    {
     "name": "stdout",
     "output_type": "stream",
     "text": [
      "Expected Number of Patients in Final Set: 6904\n"
     ]
    }
   ],
   "source": [
    "print('Expected Number of Patients in Final Set:',\n",
    "     6489 + (6518-6489) + (6875-6489))"
   ]
  },
  {
   "cell_type": "code",
   "execution_count": 116,
   "metadata": {},
   "outputs": [],
   "source": [
    "full_set = sensors.join(democlinical, how='outer')"
   ]
  },
  {
   "cell_type": "code",
   "execution_count": 117,
   "metadata": {},
   "outputs": [
    {
     "name": "stdout",
     "output_type": "stream",
     "text": [
      "Full Set Shape: (6905, 362)\n",
      "Full Set Patients: 6904\n"
     ]
    }
   ],
   "source": [
    "print('Full Set Shape:', full_set.shape)\n",
    "print('Full Set Patients:', full_set.index.unique().__len__())"
   ]
  },
  {
   "cell_type": "markdown",
   "metadata": {},
   "source": [
    "For whatever reason, there still exists patients with more than one record."
   ]
  },
  {
   "cell_type": "code",
   "execution_count": 118,
   "metadata": {},
   "outputs": [
    {
     "data": {
      "text/html": [
       "<div>\n",
       "<style scoped>\n",
       "    .dataframe tbody tr th:only-of-type {\n",
       "        vertical-align: middle;\n",
       "    }\n",
       "\n",
       "    .dataframe tbody tr th {\n",
       "        vertical-align: top;\n",
       "    }\n",
       "\n",
       "    .dataframe thead th {\n",
       "        text-align: right;\n",
       "    }\n",
       "</style>\n",
       "<table border=\"1\" class=\"dataframe\">\n",
       "  <thead>\n",
       "    <tr style=\"text-align: right;\">\n",
       "      <th></th>\n",
       "      <th>cnt</th>\n",
       "    </tr>\n",
       "    <tr>\n",
       "      <th>patid</th>\n",
       "      <th></th>\n",
       "    </tr>\n",
       "  </thead>\n",
       "  <tbody>\n",
       "    <tr>\n",
       "      <th>S002-BISH-00788</th>\n",
       "      <td>2</td>\n",
       "    </tr>\n",
       "  </tbody>\n",
       "</table>\n",
       "</div>"
      ],
      "text/plain": [
       "                 cnt\n",
       "patid               \n",
       "S002-BISH-00788    2"
      ]
     },
     "execution_count": 118,
     "metadata": {},
     "output_type": "execute_result"
    }
   ],
   "source": [
    "full_set.reset_index().groupby('patid')['patid'].count().to_frame('cnt').query('cnt > 1')"
   ]
  },
  {
   "cell_type": "code",
   "execution_count": 120,
   "metadata": {},
   "outputs": [],
   "source": [
    "full_set.fillna(-999999, inplace=True)\n",
    "full_set.drop('S002-BISH-00788', inplace=True)"
   ]
  },
  {
   "cell_type": "markdown",
   "metadata": {},
   "source": [
    "# Full Set Code\n",
    "**Updated**: 2020-Jan-10"
   ]
  },
  {
   "cell_type": "code",
   "execution_count": 15,
   "metadata": {},
   "outputs": [],
   "source": [
    "import pandas as pd\n",
    "\n",
    "# Load (latest sensor files: 20200110)\n",
    "sensors = pd.read_csv('../data/interim/sensors-all_20200110_KU.csv')\n",
    "democlinical = pd.read_csv('../data/interim/democlinical_v4_20200106_KU.csv')\n",
    "\n",
    "# Set Index\n",
    "sensors.set_index('patid', inplace=True)\n",
    "democlinical.set_index('patid', inplace=True)\n",
    "\n",
    "# Join\n",
    "full_set = sensors.join(democlinical, how='outer')\n",
    "\n",
    "# Fill NaNs w/ our standard representation\n",
    "full_set.fillna(-999999, inplace=True)\n",
    "\n",
    "# Drop repeated patient\n",
    "full_set.drop('S002-BISH-00788', inplace=True)\n",
    "\n",
    "# Write\n",
    "full_set.to_csv('../data/processed/full_set_v4_20200110_KU.csv')"
   ]
  },
  {
   "cell_type": "code",
   "execution_count": null,
   "metadata": {},
   "outputs": [],
   "source": []
  },
  {
   "cell_type": "code",
   "execution_count": null,
   "metadata": {},
   "outputs": [],
   "source": []
  },
  {
   "cell_type": "code",
   "execution_count": null,
   "metadata": {},
   "outputs": [],
   "source": []
  },
  {
   "cell_type": "code",
   "execution_count": null,
   "metadata": {},
   "outputs": [],
   "source": []
  },
  {
   "cell_type": "code",
   "execution_count": null,
   "metadata": {},
   "outputs": [],
   "source": []
  },
  {
   "cell_type": "code",
   "execution_count": null,
   "metadata": {},
   "outputs": [],
   "source": []
  },
  {
   "cell_type": "code",
   "execution_count": null,
   "metadata": {},
   "outputs": [],
   "source": []
  },
  {
   "cell_type": "code",
   "execution_count": null,
   "metadata": {},
   "outputs": [],
   "source": []
  },
  {
   "cell_type": "code",
   "execution_count": 27,
   "metadata": {},
   "outputs": [
    {
     "data": {
      "text/plain": [
       "Index(['sensor_toi_f1_hrmean1', 'sensor_toi_f1_hrmed1', 'sensor_toi_f1_hrstd1',\n",
       "       'sensor_toi_f1_medcc4', 'sensor_toi_f1_medlag4',\n",
       "       'sensor_toi_f1_mvt_pwr_mvt21', 'sensor_toi_f1_mvt_pwr_mvt31',\n",
       "       'sensor_toi_f1_mvt_pwr_mvt41', 'sensor_toi_f2_hrmean1',\n",
       "       'sensor_toi_f2_hrmed1', 'sensor_toi_f2_hrstd1', 'sensor_toi_f2_medcc4',\n",
       "       'sensor_toi_f2_medlag4', 'sensor_toi_f2_mvt_pwr_mvt21',\n",
       "       'sensor_toi_f2_mvt_pwr_mvt31', 'sensor_toi_f2_mvt_pwr_mvt41',\n",
       "       'sensor_toi_f31f_hrmean1', 'sensor_toi_f31f_hrmed1',\n",
       "       'sensor_toi_f31f_hrstd1', 'sensor_toi_f32f_hrmean1',\n",
       "       'sensor_toi_f32f_hrmed1', 'sensor_toi_f32f_hrstd1',\n",
       "       'sensor_toi_f3_medcc4', 'sensor_toi_f3_medlag4',\n",
       "       'sensor_toi_f3_mvt_pwr_mvt21', 'sensor_toi_f3_mvt_pwr_mvt31',\n",
       "       'sensor_toi_f3_mvt_pwr_mvt41'],\n",
       "      dtype='object')"
      ]
     },
     "execution_count": 27,
     "metadata": {},
     "output_type": "execute_result"
    }
   ],
   "source": [
    "toi_wide.columns"
   ]
  }
 ],
 "metadata": {
  "kernelspec": {
   "display_name": "Python 3",
   "language": "python",
   "name": "python3"
  },
  "language_info": {
   "codemirror_mode": {
    "name": "ipython",
    "version": 3
   },
   "file_extension": ".py",
   "mimetype": "text/x-python",
   "name": "python",
   "nbconvert_exporter": "python",
   "pygments_lexer": "ipython3",
   "version": "3.7.2"
  }
 },
 "nbformat": 4,
 "nbformat_minor": 2
}
