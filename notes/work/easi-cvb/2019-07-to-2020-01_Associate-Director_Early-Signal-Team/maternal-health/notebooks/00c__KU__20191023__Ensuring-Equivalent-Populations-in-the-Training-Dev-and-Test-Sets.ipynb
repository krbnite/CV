{
 "cells": [
  {
   "cell_type": "code",
   "execution_count": 12,
   "metadata": {},
   "outputs": [
    {
     "data": {
      "text/html": [
       "\n",
       "    <style>\n",
       "        .backtick {\n",
       "            font-style:oblique;\n",
       "            font-family:\"Courier New\";\n",
       "            font-size:15px;\n",
       "            padding-left:-5px;\n",
       "        }\n",
       "    </style>\n"
      ],
      "text/plain": [
       "<IPython.core.display.HTML object>"
      ]
     },
     "execution_count": 12,
     "metadata": {},
     "output_type": "execute_result"
    }
   ],
   "source": [
    "from IPython.display import HTML\n",
    "html = HTML(\"\"\"\n",
    "    <style>\n",
    "        .backtick {\n",
    "            font-style:oblique;\n",
    "            font-family:\"Courier New\";\n",
    "            font-size:15px;\n",
    "        }\n",
    "    </style>\n",
    "\"\"\")\n",
    "html"
   ]
  },
  {
   "cell_type": "markdown",
   "metadata": {},
   "source": [
    "**NOTE FROM THE FUTURE (2019-Dec-16)**\n",
    "\n",
    "<div style=\"background-color:sandybrown;padding-left:5px;\">\n",
    "    <p> This work was from when we first took the project over from Udi (it began 2019-Oct-23, but the \n",
    "        majority of it was done on 2019-Nov-01).  </p>\n",
    "    <p> What this means is:\n",
    "    <ol>\n",
    "        <li>the assumption is Udi's data processing pipeline (which extends the first half\n",
    "            of Carlos' original pipeline) works well enough</li>\n",
    "        <li>therefore, Udi's final outputted data table from this pipeline can be used for analysis.  </li>\n",
    "    </ol></p>\n",
    "    <p> At one point, Dani and I began questioning these assumptions and started everything from scratch\n",
    "        (this explains the mbh001_v3 directory in the MBH001 GitLab repo, where I will also store a copy\n",
    "        of this JNB for convenience).  </p>\n",
    "    <p style=\"padding-left:40px;\"> <b>SIDE NOTE</b>: Starting from scratch was nontrivial since the full data set\n",
    "        derives from about 40 tables, some of which (as we found) are not usable or valid data.  These tables\n",
    "        host a few thousand variables -- again, many of which need to be understood and vetted.  I must say,\n",
    "        though we originally had (harshly) questioned Carlos' methods (some of which perhaps \n",
    "        deserved it) and subsequently\n",
    "        Udi's methods (many of which just built on top of Carlos'), we ultimately could not \"force\" \n",
    "        the data to do any better than Udi or Carlos could.  It's possible that the strategy and methods\n",
    "        used by Udi and Carlos would have borne fruit if there was enough fruit to bear.  (More importantly,\n",
    "        for better or worse, it's definitely possible that their methods would have been left unquestioned\n",
    "        if they were able to capture some signal, independent of whether their methods were janky\n",
    "        or suboptimal.)</p>   \n",
    "    <p> Anyway, in this notebook, I explore methods that I had hoped would help \"stabilize\" the patient\n",
    "        population between training, validation, and test sets. </p>\n",
    "    <p> <b>MOTIVATION</b>:</p>\n",
    "    <p> Basically, the first thing you will\n",
    "        notice when working with this data is that it's very hard to not overfit to training. This is\n",
    "        sometimes due to lack or regularization, but other times the problem can start earlier on in\n",
    "        the pipeline.  For example, in a\n",
    "        highly-imbalanced binary classification problem, issues like this can be due to a bad\n",
    "        splitting strategy (e.g., if you have a 1% event rate, its possible that a naive splitting strategy\n",
    "        will accidentally land all your events in the validation and test sets, making training\n",
    "        pointless and fruitless).  Though we are doing a regression problem this motivates my major idea. </p>\n",
    "    <p> <b>IDEA</b>:</p>\n",
    "    <p> It is likely that a poor/naive splitting strategy can affect a\n",
    "        regresion problem as well, so I adapt the concept of stratified splitting from a categorical\n",
    "        target variable to a continuous target.</p>    \n",
    "    <p> <b>RESULTS</b>:</p> \n",
    "        <p><ul>\n",
    "            <li> Overall, it seems to help a very little bit, but does not really save the day.</li>\n",
    "            <li> Importantly, what I found is that any observed performance boosts are almost always \n",
    "                due to the random seed used to split the data.  To me, this means that there is some\n",
    "                opportunistic splitting that we do not understand.  That is, though stratifying on the\n",
    "                continuous target variable did not prevent this issue, there must be some variable\n",
    "                that does -- otherwise a random \"random seed\" wouldn't suddenly see a performance boost\n",
    "                for no reason.  One of our goals should be to try to identify this feature, if possible. </li>\n",
    "        </ul>\n",
    "    </p>\n",
    "    <hr>\n",
    "    <p style='background-color:orange;'> \n",
    "        <b>NOTE</b>: For analyses relevant to final report sent to Gates Foundation, please\n",
    "        check out notebooks <font class=backtick>01_KU</font> through \n",
    "        <font class=backtick>04_KU</font> in <font class=backtick>mbh001/mbh001_v3</font>.\n",
    "    </p>\n",
    "    <hr>\n",
    "    <p style='color:red;background-color:yellow;margin-left:-5px'><b>NOTE</b>: This notebook is copied to \n",
    "         <font class=backtick>mbh001_v3/notebooks</font>\n",
    "         where it is prefixed <font class=backtick>00c__KU</font>.</p>\n",
    "\n",
    "</div>\n",
    "\n",
    "--------------------------------------------------\n",
    "\n",
    "\n",
    "**2019-Oct-23**\n",
    "\n",
    "Since this project has changed hands quite a bit, I am just doing some exploratory analysis here.\n",
    "\n",
    "# Motivation \n",
    "\n",
    "If you look at the model runs when we've removed patients that had \"cesarian w/o labor\", the R2 score on training is often double the R2 on the dev/val set. For example, for a LASSO model trained on everything but the sensor data, we saw:\n",
    "\n",
    "```\n",
    "# Clinical+Demographic Data (special patients removed from data set)\n",
    "R2 train:  0.74\n",
    "R2 dev: 0.25\n",
    "```\n",
    "\n",
    "For another LASSO run w/ all the data, including the sensor stuff, this effect was reduced, but\n",
    "not eliminated:\n",
    "\n",
    "```\n",
    "# All Data (special patients removed from data set)\n",
    "R2 train: 0.37\n",
    "R2 dev: 0.24\n",
    "```\n",
    "\n",
    "\n",
    "\n",
    "This is not the case when these patients are not removed.  For example, when training a LASSO model with the clinical and demographic data, we found:\n",
    "\n",
    "```\n",
    "# Clinical+Demographic Data (special patients included)\n",
    "R2 train: 0.33\n",
    "R2 dev: 0.36\n",
    "```\n",
    "\n",
    "\n",
    "If there is anything surprising when the special patients are included, it is that R2 is higher on the dev \n",
    "set.  Otherwise, these numbers are close enough and look like what you would expect (for a model that is not over/under fit).  \n",
    "\n",
    "\n",
    "## Discussion\n",
    "Ok, let's think about this: R2 (\"R squared\" or \"R-two-score\") is not a great way to measure\n",
    "the predictive power of a model.  I'll get to why.\n",
    "\n",
    "R2 is often quoted as a measure of \"goodness of fit.\" It says something about how much \n",
    "of the variance in a given data set is explained by the model on that given data set.  Everything\n",
    "still sounds ok, right?  But it's not: the definition is data set dependent.  \n",
    "\n",
    "$$\n",
    "R^{2} = 1 - \\frac{\\sum_{i=1}^{n}(y_{i}-\\hat{y}_{i})^2}{\\sum_{i=1}^{n}(y_{i}-\\bar{y}_{i})^2}\n",
    "$$\n",
    "\n",
    "Notice that denominator.  It's called the \"null model.\" It measures how well you can\n",
    "predict outcomes if the only information you had was a data set representative of\n",
    "the true population and an unbiased estimate of the mean.  \n",
    "\n",
    "This should give you pause about using the R2 score to compare training and dev sets.  \n",
    "\n",
    "\n",
    "### Scenario 1:  Dependence on Outcome Range\n",
    "Assume that the independent variable, x, is time at a monthly interval and the\n",
    "dependent variable, y, is the monthly revenue your firm has acquired.  You plot\n",
    "y vs x and see that it is noisy, but there has been consistent growth month to \n",
    "month -- and much of that growth look fairly linear.  You get the idea to do\n",
    "a regression to start making predictions for your boss...  The model fit\n",
    "looks good on the plot, but to be sure you compute the R2 score.\n",
    "\n",
    "About a year later, your boss asks whether the model is still working well.  So \n",
    "you re-compute the R2 score, this time using\n",
    "the original data plus the new data from the past year.  What you find is\n",
    "a great surprise: \"The model,\" you tell your boss, \"not only still works, but\n",
    "is working better than ever before!\"\n",
    "\n",
    "Let's look at the definition of R2 again:\n",
    "\n",
    "$$\n",
    "R^{2} = 1 - \\frac{\\sum_{i=1}^{n}(y_{i}-\\hat{y}_{i})^2}{\\sum_{i=1}^{n}(y_{i}-\\bar{y}_{i})^2}\n",
    "$$\n",
    "\n",
    "Note that this can be recast in terms of mean squared error (MSE; more on this below):\n",
    "\n",
    "$$\n",
    "R^{2} = 1 - \\frac{MSE_{pred}}{MSE_{null}}\n",
    "$$\n",
    "\n",
    "Here, `MSE_{pred}` is the MSE of your predictive model, while `MSE_{null}` is the MSE of the\n",
    "null model.  \n",
    "\n",
    "Let's assume that the same regression still fits the data, new and old, very\n",
    "well.  In fact, let's say you know this for sure because you refit the model and\n",
    "all the coefficients were more-or-less the same as before.  \n",
    "\n",
    "However, your R2 score is bigger.  Why?\n",
    "\n",
    "You investigate.  First, you look at `MSE_{pred}` on the original data and compare it\n",
    "to its computation on all the data (original and newly collected).  You note that\n",
    "it hasn't changed much.  In other words, `MSE_{pred}` appears to be fairly constant.  Well,\n",
    "this leaves only one possibility: `MSE_{null}` must have grown.\n",
    "\n",
    "Well, duh!  \n",
    "\n",
    "Think about what happened:  monthly revenue continued to grow each month, so the range\n",
    "of the data has increased.  This means that (i) there will be a new estimate of the mean, \n",
    "(ii) that outcome values will have a larger spread about this mean, (iii) that `MSE_{null}`\n",
    "will in turn be a larger value than before, which (iv) means that `MSE_{pred}/MSE_{null}` will\n",
    "have shrunk, which (v) means R2 will have grown.\n",
    "\n",
    "\n",
    "Huge takeaway:  In this scenario, MSE remained constant over the two data sets, properly\n",
    "reflecting that the model still worked well, but no better than it did previously. \n",
    "\n",
    "\n",
    "\n",
    "### Scenario 2:  Dependence on Range (Take 2)\n",
    "\n",
    "In this scenario, imagine you think you're doing everything right.  For example, you split the data\n",
    "into training, development, and test sets.  \n",
    "\n",
    "You fit the model to the training set, then compute R2 on training and dev.  On training things look\n",
    "great, but on dev it's not so good.  You try another type of model, but find the same thing.  You\n",
    "do this several times, but continue having a discrepancy... \n",
    "\n",
    "What is happening?  \n",
    "\n",
    "First thing that might come to mind is that the data was poorly split -- that the training and\n",
    "dev sets do not really represent the same outcome population.  You look at the training set and\n",
    "dev set means: they look about the same.  So you compute medians...again, about the same.  Then\n",
    "you look at min and max.  \n",
    "\n",
    "The dev set has a much tighter distribution than the training set.\n",
    "\n",
    "Ah, now it all makes sense:  the tighter distribution around the same mean indicates that\n",
    "$MSE_{null,dev} < MSE_{null,trn}$, which means $R^{2}_{dev} < R^{2}_{trn}$\n",
    "\n",
    "In this scenario, you might still find comparable MSEs for the predictive model itself.\n",
    "\n",
    "The major point thus far:  if you want to use R2 score, then the definition of R2 score\n",
    "should be modified, while respecting best practices of predictive modeling.\n",
    "\n",
    "Bad:\n",
    "* compute null model on full data set (data leakage)\n",
    "\n",
    "Good:\n",
    "* compute null model on training set\n",
    "* use same null model for R2 computations on training, dev, test\n",
    "\n",
    "\n",
    "At least with this modified defintion of R2, we would no longer have ambiguities arise\n",
    "that have nothing to do with the type of predictive power we're interested in.  It makes\n",
    "more sense for predictive modeling, where the dev and test data are at various levels\n",
    "of out-of-sight-out-of-mind.  The idea is that the training null model is our \"baseline\n",
    "bad model\" that we all validate on dev and test sets.\n",
    "\n",
    "However, the better idea is just to do what most machine learning practitioners actually\n",
    "do in this case:  use RMSE instead of R2.\n",
    "\n",
    "\n",
    "\n",
    "\n",
    "---------------\n",
    "\n",
    "\n",
    "For \n",
    "training, you are looking at how much better a prediction you've\n",
    "made than just guessing the mean of the training set.  \n",
    "\n",
    "For dev, you  are looking at how much better a \n",
    "prediction you've made than just guessing the mean of the dev set.  \n",
    "\n",
    "Well, this is only ok if \n",
    "the estimates of the target mean on the two sets are comparable.  This is partially why I would suspect\n",
    "that the training and dev sets differ in their target distribution after we removed the patients \n",
    "having \"cesarian w/o labor.\"  This is also why I'd argue to use MSE for a predicive model, not\n",
    "R2 (which is used by statisticians building inference models without a val/dev set).\n",
    "\n",
    "\n",
    "## Bla\n",
    "\n",
    "For predictive regression models, I have more intuition using MSE.  If the MSE is much larger on the dev\n",
    "set than the training set, I'd wager that the model has overfit to the training set.  Alternatively, I might\n",
    "guess that the dev set differs in its target distribution (this is easy to imagine in classification models\n",
    "where low frequency classes might be left out of one of the set without using stratified sampling).  \n",
    "\n",
    "The definition of R2 score is just a linear transformation of MSE, so it should behave similarly to MSE (in a linearly transformed way).  One difference is that a bigger number (closer to 1.0) is better than a smaller\n",
    "number (closer to 0.0).  \n",
    "\n",
    "MSE: \n",
    "$$\n",
    "\\frac{1}{N}\\sum_{i=1}^{N}(y_{i}-\\hat{y}_{i})^{2}\n",
    "$$\n",
    "\n",
    "R2 Score: \n",
    "$$\n",
    "R^{2} = 1 - \\frac{\\sum_{i=1}^{n}(y_{i}-\\hat{y}_{i})^2}{\\sum_{i=1}^{n}(y_{i}-\\bar{y}_{i})^2} \\\\\n",
    "\\quad = 1 - \\frac{N*MSE}{(N-1)\\sigma^{2}} \\\\\n",
    "\\quad\\quad\\quad\\quad = \\frac{N}{(N-1)\\sigma^{2}}MSE + (-1) \\\\\n",
    "\\quad = m*MSE + b\n",
    "$$\n",
    "\n",
    "\n",
    "\n",
    "\n",
    "\n",
    "# Approach\n",
    "We must first define what we mean by similar enough.  \n",
    "\n",
    "In classification, this means we have enough of each class in train/dev/test.  \n",
    "\n",
    "For regression, it might mean we have enough representation over each interval.  As usual, someone already came across this issue and solved it.  For example, in this blog, the author provides a small snippet of code that does the trick.  Essentially, you create a new, binned version of the continuous target variable, then stratify on the binned variable – after which, you can just throw it out.  Very simple!\n",
    "\n",
    "```python\n",
    "# Create the bins.  My `y` variable has\n",
    "# 506 observations, and I want 50 bins.\n",
    "\n",
    "bins = np.linspace(0, 506, 50)\n",
    "\n",
    "# Save your Y values in a new ndarray,\n",
    "# broken down by the bins created above.\n",
    "\n",
    "y_binned = np.digitize(y, bins)\n",
    "\n",
    "# Pass y_binned to the stratify argument,\n",
    "# and sklearn will handle the rest\n",
    "\n",
    "X_train, X_test, y_train, y_test = train_test_split(df, y, test_size=0.3, stratify=y_binned)\n",
    "\n",
    "```\n",
    "\n",
    "Before I do something like that though, I just want to look at the actual distributions between Udi’s training and dev sets.\n",
    "\n",
    "\n",
    "\n",
    "## Other Criticisms of R2\n",
    "It is well known that R2 can be a horrible way to compare different models, especially\n",
    "if differing amounts of variables are used.  For example, assumes we maintain the\n",
    "same model architecture, but continue adding variables: R2 will inevitably increase w/\n",
    "no evidence of whether the new variables actually helped or hurt: is the model fitting to\n",
    "the noise, or has a real relationship been found?   This is where a validation set becomes \n",
    "necessary -- well, from a predictive modeling perspective it's always necessary, but \n",
    "traditional statisticians did not use validation sets.  The validation set will\n",
    "likely show you big differences in R2 if the model was fitting to the noise, however\n",
    "due to criticisms outlined above, the change in R2 between data sets is not always\n",
    "unambiguous...  Better to use adjusted R2.  Or, if caring about predictions, maybe\n",
    "just use RMSE w/ both training and dev/val sets.  There is also something called predictive R2, but this is again\n",
    "from a time when validation sets weren't used: its based on a leave-one-out CV \n",
    "strategy.\n",
    "\n",
    "\n",
    "## Last Note\n",
    "I found that John Myles White said this all more eloquently than I've spelled out:\n",
    "\n",
    "> People sometimes use R2 as their preferred measure of model fit. Unlike quantities such as MSE or MAD, R2 is not a function only of model’s errors, its definition contains an implicit model comparison between the model being analyzed and the constant model that uses only the observed mean to make predictions. As such, R2 answers the question: “does my model perform better than a constant model?” But we often would like to answer a very different question: “does my model perform worse than the true model?”\n",
    ">\n",
    "> In theoretical examples, it is easy to see that the answers to these two questions are not interchangeable. We can construct examples in which our model performs no better than a constant model, even though it also performs no worse than the true model. But we can also construct examples in which our model performs much better than a constant model, even when it also performs much worse than the true model.\n",
    ">\n",
    "> As with all model comparisons, R2 is a function not only of the models being compared, but also a function of the data set being used to perform the comparison. For almost all models, there exist data sets that are wholly incapable of distinguishing between the constant model and the true model. In particular, when using a dataset with insufficient model-discriminating power, R2 can be pushed arbitrarily close to zero — even when we are measuring R2 for the true model. As such, we must always keep in mind that R2 does not tell us whether our model is a good approximation to the true model: R2 only tells us whether our model performs noticeably better than the constant model on our dataset.\n",
    "- [Why I'm Not a Fan of R2](http://www.johnmyleswhite.com/notebook/2016/07/23/why-im-not-a-fan-of-r-squared/), J. M. White\n",
    "\n",
    "\n",
    "Apparently, R2 is not really great for causal inference either...e.g., check \n",
    "[this](https://thestatsgeek.com/2014/01/25/r-squared-and-goodness-of-fit-in-linear-regression/) out.  Turns\n",
    "out that, other than being a super common statistic that people think they have intuition for, it's not\n",
    "all that good for anything...\n",
    "\n",
    "\n",
    "https://stats.stackexchange.com/questions/214886/regression-what-is-the-utility-of-r-squared-compared-to-rmse\n",
    "\n",
    "https://www.theanalysisfactor.com/assessing-the-fit-of-regression-models/\n",
    "\n",
    "\n",
    "\n",
    "Here is someone who asks about R squared on the validation set:  https://www.reddit.com/r/rstats/comments/3al070/question_about_out_of_sample_rsquared/.  Basically,\n",
    "the first commenter says what I consider to be wrong.  The second commenter says what I consider to\n",
    "be right:  the mean should be the mean from the training set b/c you want to compare how well\n",
    "your model performs in validation against how well the null model would have performed in validation.\n",
    "\n",
    "\n",
    "\n",
    "### References\n",
    "* [Sklearn's R2 Score](https://scikit-learn.org/stable/modules/model_evaluation.html#r2-score)\n",
    "* [Sklearn's MSE](https://scikit-learn.org/stable/modules/model_evaluation.html#mean-squared-error)\n",
    "* https://michaeljsanders.com/2017/03/24/stratify-continuous-variable.html\n",
    "* https://www.ncbi.nlm.nih.gov/pmc/articles/PMC4530125/\n",
    "* https://data.library.virginia.edu/is-r-squared-useless/\n",
    "* https://statisticsbyjim.com/regression/interpret-adjusted-r-squared-predicted-r-squared-regression/\n",
    "\n",
    "\n",
    "\n"
   ]
  },
  {
   "cell_type": "markdown",
   "metadata": {},
   "source": [
    "# Preliminary Look\n",
    "Here, I just use Udi's train/dev/tst split (same random seed, etc).  Then I look some distributions."
   ]
  },
  {
   "cell_type": "code",
   "execution_count": 130,
   "metadata": {},
   "outputs": [],
   "source": [
    "import pandas as pd\n",
    "from matplotlib import pyplot as plt\n",
    "import seaborn as sns\n",
    "import numpy as np\n",
    "import pickle\n",
    "from scipy.stats import zscore,expon\n",
    "from sklearn.model_selection import train_test_split\n",
    "from sklearn.ensemble import RandomForestRegressor\n",
    "from sklearn.model_selection import RandomizedSearchCV\n",
    "from sklearn.metrics import mean_absolute_error, mean_squared_error, r2_score\n",
    "pd.options.display.max_rows = 20"
   ]
  },
  {
   "cell_type": "code",
   "execution_count": 204,
   "metadata": {},
   "outputs": [],
   "source": [
    "# Get the Data\n",
    "d = pickle.load( open( \"../data/processed/mbh001_f3_toi_mon_baseline_a.p\", \"rb\" ))\n",
    "\n",
    "# Nullity Threshold\n",
    "na_th = 0.8\n",
    "\n",
    "# Drop High-Nullity Cols\n",
    "df = d.dropna(axis=1,thresh=len(d)*na_th).copy()\n",
    "\n",
    "# Separate X & Y Data\n",
    "x = df.drop(['time_left','ga.birth'], axis=1)\n",
    "y = df['time_left']\n",
    "\n",
    "# Feature Groups\n",
    "con_feat   = x.select_dtypes('float64').columns\n",
    "cat_feat   = x.select_dtypes('object').columns\n",
    "sensor_feat= x.filter(regex='^toi|^mon').columns"
   ]
  },
  {
   "cell_type": "code",
   "execution_count": 46,
   "metadata": {},
   "outputs": [
    {
     "data": {
      "text/plain": [
       "-483.42412224776774"
      ]
     },
     "execution_count": 46,
     "metadata": {},
     "output_type": "execute_result"
    }
   ],
   "source": [
    "x[num_feat].min().min()"
   ]
  },
  {
   "cell_type": "code",
   "execution_count": 211,
   "metadata": {},
   "outputs": [],
   "source": [
    "# Since we are using RandomForest, I will NOT OHE cat vars or try\n",
    "#   to \"smartly\" impute continuous vars.  Instead, I'll assign a\n",
    "#   'NaN' category to catVars and a large, unique, negative value\n",
    "#   to contVars\n",
    "# NOTE: even though there are catVars, they are all numerically\n",
    "#   encoded, so creating a 'null' category mixes type; instead,\n",
    "#   just create a -9999 category like with continuous vars.\n",
    "x.fillna(-9999, inplace=True)"
   ]
  },
  {
   "cell_type": "markdown",
   "metadata": {},
   "source": [
    "### Distribution of \"Time Left\" for Unsplit Data"
   ]
  },
  {
   "cell_type": "code",
   "execution_count": 73,
   "metadata": {},
   "outputs": [
    {
     "data": {
      "text/plain": [
       "<matplotlib.axes._subplots.AxesSubplot at 0x1a1a45bdd8>"
      ]
     },
     "execution_count": 73,
     "metadata": {},
     "output_type": "execute_result"
    },
    {
     "data": {
      "image/png": "[encoded data removed]",
      "text/plain": [
       "<Figure size 432x288 with 1 Axes>"
      ]
     },
     "metadata": {
      "needs_background": "light"
     },
     "output_type": "display_data"
    }
   ],
   "source": [
    "y.hist()"
   ]
  },
  {
   "cell_type": "markdown",
   "metadata": {},
   "source": [
    "### Split the Data in trn/dev/tst"
   ]
  },
  {
   "cell_type": "code",
   "execution_count": 116,
   "metadata": {},
   "outputs": [],
   "source": [
    "x_trn, x_dev, y_trn, y_dev = train_test_split(x, y, test_size=0.3, random_state=42)\n",
    "x_dev, x_tst, y_dev, y_tst = train_test_split(x_dev, y_dev, test_size=0.5, random_state=42)"
   ]
  },
  {
   "cell_type": "markdown",
   "metadata": {},
   "source": [
    "### Distribution of \"Time Left\" for Trn"
   ]
  },
  {
   "cell_type": "code",
   "execution_count": 75,
   "metadata": {},
   "outputs": [
    {
     "data": {
      "text/plain": [
       "<matplotlib.axes._subplots.AxesSubplot at 0x1a1ceae080>"
      ]
     },
     "execution_count": 75,
     "metadata": {},
     "output_type": "execute_result"
    },
    {
     "data": {
      "image/png": "[encoded data removed]",
      "text/plain": [
       "<Figure size 432x288 with 1 Axes>"
      ]
     },
     "metadata": {
      "needs_background": "light"
     },
     "output_type": "display_data"
    }
   ],
   "source": [
    "y_trn.hist(bins=30)"
   ]
  },
  {
   "cell_type": "markdown",
   "metadata": {},
   "source": [
    "### Distribution of \"Time Left\" for Dev"
   ]
  },
  {
   "cell_type": "code",
   "execution_count": 12,
   "metadata": {},
   "outputs": [
    {
     "data": {
      "text/plain": [
       "<matplotlib.axes._subplots.AxesSubplot at 0x1a1ab61eb8>"
      ]
     },
     "execution_count": 12,
     "metadata": {},
     "output_type": "execute_result"
    },
    {
     "data": {
      "image/png": "[encoded data removed]",
      "text/plain": [
       "<Figure size 432x288 with 1 Axes>"
      ]
     },
     "metadata": {
      "needs_background": "light"
     },
     "output_type": "display_data"
    }
   ],
   "source": [
    "y_dev.hist(bins=30)"
   ]
  },
  {
   "cell_type": "markdown",
   "metadata": {},
   "source": [
    "### Distribution of \"Time Left\" for Tst"
   ]
  },
  {
   "cell_type": "code",
   "execution_count": 14,
   "metadata": {},
   "outputs": [
    {
     "data": {
      "text/plain": [
       "<matplotlib.axes._subplots.AxesSubplot at 0x1a1ad99ba8>"
      ]
     },
     "execution_count": 14,
     "metadata": {},
     "output_type": "execute_result"
    },
    {
     "data": {
      "image/png": "[encoded data removed]",
      "text/plain": [
       "<Figure size 432x288 with 1 Axes>"
      ]
     },
     "metadata": {
      "needs_background": "light"
     },
     "output_type": "display_data"
    }
   ],
   "source": [
    "y_tst.hist(bins=30)"
   ]
  },
  {
   "cell_type": "markdown",
   "metadata": {},
   "source": [
    "# Thoughts So Far\n",
    "Well, interestingly, you can see that the training distribution is better fleshed out and\n",
    "normal looking than the dev or test distributions...so maybe the stratified split will help with this,\n",
    "and maybe that will help with the divergent model R2 scores.\n",
    "\n",
    "First, so everything is in one place in this notebook, let's look at the MSEs and R2 scores for various model\n",
    "runs using these un-stratified splits."
   ]
  },
  {
   "cell_type": "markdown",
   "metadata": {},
   "source": [
    "# Un-Stratified Model Metrics (Full Population)"
   ]
  },
  {
   "cell_type": "code",
   "execution_count": 161,
   "metadata": {},
   "outputs": [],
   "source": [
    "x_trn, x_dev, y_trn, y_dev = train_test_split(x, y, test_size=0.3, random_state=42)\n",
    "x_dev, x_tst, y_dev, y_tst = train_test_split(x_dev, y_dev, test_size=0.5, random_state=42)"
   ]
  },
  {
   "cell_type": "code",
   "execution_count": 117,
   "metadata": {},
   "outputs": [],
   "source": [
    "rf = RandomForestRegressor(n_jobs=-1, random_state=42)\n",
    "\n",
    "grid = {\n",
    "    'criterion': ['mse','mae'],                  # 2\n",
    "    'n_estimators': [10,100,500,1000],           # 4\n",
    "    'max_features': [2, 3, 'log2','sqrt', None], # 5\n",
    "    'max_depth': [3,4,8,16,32,None],             # 6\n",
    "    'min_samples_split': [2,4,8,16,32,64],       # 6\n",
    "    'min_samples_leaf': [1,2,5,10,30,0.1,0.2],   # 7\n",
    "} # 2*4*5*6*6*7 = 1,080-model GridSearch\n",
    "# Let's assume that randomly samplng 250 models is good enough\n",
    "n_iter = 250\n",
    "kfolds = 3\n",
    "\n",
    "best_rf = RandomizedSearchCV(\n",
    "    rf,\n",
    "    grid,\n",
    "    n_jobs  = -1,\n",
    "    cv      = kfolds,\n",
    "    n_iter  = n_iter,  # e.g., 250 models searched\n",
    "    return_train_score = True,\n",
    "    scoring = ['r2', 'neg_mean_absolute_error',\n",
    "               'neg_mean_squared_error','neg_median_absolute_error'],\n",
    "    refit   = 'neg_mean_squared_error',\n",
    "    verbose=True,\n",
    ")\n"
   ]
  },
  {
   "cell_type": "code",
   "execution_count": 118,
   "metadata": {},
   "outputs": [
    {
     "name": "stdout",
     "output_type": "stream",
     "text": [
      "Fitting 3 folds for each of 250 candidates, totalling 750 fits\n"
     ]
    },
    {
     "name": "stderr",
     "output_type": "stream",
     "text": [
      "[Parallel(n_jobs=-1)]: Using backend LokyBackend with 8 concurrent workers.\n",
      "[Parallel(n_jobs=-1)]: Done  34 tasks      | elapsed:   10.6s\n",
      "[Parallel(n_jobs=-1)]: Done 184 tasks      | elapsed:  2.2min\n",
      "[Parallel(n_jobs=-1)]: Done 434 tasks      | elapsed:  9.2min\n",
      "[Parallel(n_jobs=-1)]: Done 750 out of 750 | elapsed: 15.3min finished\n"
     ]
    },
    {
     "data": {
      "text/plain": [
       "RandomizedSearchCV(cv=3, error_score='raise-deprecating',\n",
       "          estimator=RandomForestRegressor(bootstrap=True, criterion='mse', max_depth=None,\n",
       "           max_features='auto', max_leaf_nodes=None,\n",
       "           min_impurity_decrease=0.0, min_impurity_split=None,\n",
       "           min_samples_leaf=1, min_samples_split=2,\n",
       "           min_weight_fraction_leaf=0.0, n_estimators='warn', n_jobs=-1,\n",
       "           oob_score=False, random_state=42, verbose=0, warm_start=False),\n",
       "          fit_params=None, iid='warn', n_iter=250, n_jobs=-1,\n",
       "          param_distributions={'criterion': ['mse', 'mae'], 'n_estimators': [10, 100, 500, 1000], 'max_features': [2, 3, 'log2', 'sqrt', None], 'max_depth': [3, 4, 8, 16, 32, None], 'min_samples_split': [2, 4, 8, 16, 32, 64], 'min_samples_leaf': [1, 2, 5, 10, 30, 0.1, 0.2]},\n",
       "          pre_dispatch='2*n_jobs', random_state=None,\n",
       "          refit='neg_mean_squared_error', return_train_score=True,\n",
       "          scoring=['r2', 'neg_mean_absolute_error', 'neg_mean_squared_error', 'neg_median_absolute_error'],\n",
       "          verbose=True)"
      ]
     },
     "execution_count": 118,
     "metadata": {},
     "output_type": "execute_result"
    }
   ],
   "source": [
    "best_rf.fit(x_trn,y_trn)"
   ]
  },
  {
   "cell_type": "code",
   "execution_count": 119,
   "metadata": {},
   "outputs": [
    {
     "data": {
      "text/plain": [
       "{'n_estimators': 1000,\n",
       " 'min_samples_split': 8,\n",
       " 'min_samples_leaf': 1,\n",
       " 'max_features': None,\n",
       " 'max_depth': 16,\n",
       " 'criterion': 'mae'}"
      ]
     },
     "execution_count": 119,
     "metadata": {},
     "output_type": "execute_result"
    }
   ],
   "source": [
    "best_rf.best_params_"
   ]
  },
  {
   "cell_type": "code",
   "execution_count": 162,
   "metadata": {},
   "outputs": [
    {
     "name": "stdout",
     "output_type": "stream",
     "text": [
      "MAE, Trn: 3.7806163434903044\n",
      "MAE, Dev: 7.978122844827586 \n",
      "\n",
      "MSE, Trn: 24.09238957040628\n",
      "MSE, Dev: 96.91025222521553 \n",
      "\n",
      "R2, Trn: 0.8309494827850666\n",
      "R2, Dev: 0.343523784765153\n"
     ]
    }
   ],
   "source": [
    "y_trn_pred = best_rf.predict(x_trn)\n",
    "y_dev_pred = best_rf.predict(x_dev)\n",
    "\n",
    "print('MAE, Trn:', mean_absolute_error(y_trn, y_trn_pred))\n",
    "print('MAE, Dev:', mean_absolute_error(y_dev, y_dev_pred),'\\n')\n",
    "\n",
    "print('MSE, Trn:', mean_squared_error(y_trn, y_trn_pred))\n",
    "print('MSE, Dev:', mean_squared_error(y_dev, y_dev_pred),'\\n')\n",
    "\n",
    "print('R2, Trn:', r2_score(y_trn, y_trn_pred))\n",
    "print('R2, Dev:', r2_score(y_dev, y_dev_pred))"
   ]
  },
  {
   "cell_type": "markdown",
   "metadata": {},
   "source": [
    "### Some Thoughts\n",
    "Wow, if you ask me, the model was allowed to completely overfit the training data.  Figuring CV is\n",
    "used, this does make it seem like the training set and dev set must have some fundamental differences,\n",
    "which stratified sampling might help.\n",
    "\n",
    "\n",
    "# Stratified Model Metrics (Full Population, Test)\n",
    "We'll create 5 target bins, where target ranges from 0 to 61.  \n",
    "\n",
    "We stratify properly between training and union(dev,tst), the just split dev and tst.\n",
    "\n",
    "We will use the parameters from the best fit model before, then do a GridSearch."
   ]
  },
  {
   "cell_type": "code",
   "execution_count": 212,
   "metadata": {},
   "outputs": [],
   "source": [
    "bins = np.linspace(0, 61, 10)\n",
    "yb = np.digitize(y, bins)\n",
    "x_trn, x_dev, y_trn, y_dev = train_test_split(x, y, test_size=0.3, stratify=yb, random_state=42)\n",
    "x_dev, x_tst, y_dev, y_tst = train_test_split(x_dev, y_dev, test_size=0.5, random_state=42)\n"
   ]
  },
  {
   "cell_type": "code",
   "execution_count": 213,
   "metadata": {},
   "outputs": [
    {
     "data": {
      "text/plain": [
       "<matplotlib.axes._subplots.AxesSubplot at 0x1a1d011be0>"
      ]
     },
     "execution_count": 213,
     "metadata": {},
     "output_type": "execute_result"
    },
    {
     "data": {
      "image/png": "[encoded data removed]",
      "text/plain": [
       "<Figure size 432x288 with 1 Axes>"
      ]
     },
     "metadata": {
      "needs_background": "light"
     },
     "output_type": "display_data"
    }
   ],
   "source": [
    "y_trn.hist(bins=20)"
   ]
  },
  {
   "cell_type": "code",
   "execution_count": 214,
   "metadata": {},
   "outputs": [
    {
     "data": {
      "text/plain": [
       "<matplotlib.axes._subplots.AxesSubplot at 0x1a23fccef0>"
      ]
     },
     "execution_count": 214,
     "metadata": {},
     "output_type": "execute_result"
    },
    {
     "data": {
      "image/png": "[encoded data removed]",
      "text/plain": [
       "<Figure size 432x288 with 1 Axes>"
      ]
     },
     "metadata": {
      "needs_background": "light"
     },
     "output_type": "display_data"
    }
   ],
   "source": [
    "y_dev.hist(bins=20)"
   ]
  },
  {
   "cell_type": "code",
   "execution_count": 215,
   "metadata": {},
   "outputs": [
    {
     "data": {
      "text/plain": [
       "<matplotlib.axes._subplots.AxesSubplot at 0x1a2440cac8>"
      ]
     },
     "execution_count": 215,
     "metadata": {},
     "output_type": "execute_result"
    },
    {
     "data": {
      "image/png": "[encoded data removed]",
      "text/plain": [
       "<Figure size 432x288 with 1 Axes>"
      ]
     },
     "metadata": {
      "needs_background": "light"
     },
     "output_type": "display_data"
    }
   ],
   "source": [
    "y_tst.hist(bins=20)"
   ]
  },
  {
   "cell_type": "code",
   "execution_count": 216,
   "metadata": {},
   "outputs": [],
   "source": [
    "rfs = RandomForestRegressor(\n",
    "    n_estimators = 1000,\n",
    "    min_samples_split = 8,\n",
    "    min_samples_leaf = 1,\n",
    "    max_features = None,\n",
    "    max_depth = 16,\n",
    "    criterion = 'mae',\n",
    "    n_jobs=-1,\n",
    ")\n",
    "# Crazy: note that I didn't use random state 42 here...and got great results..."
   ]
  },
  {
   "cell_type": "code",
   "execution_count": 217,
   "metadata": {},
   "outputs": [
    {
     "data": {
      "text/plain": [
       "RandomForestRegressor(bootstrap=True, criterion='mae', max_depth=16,\n",
       "           max_features=None, max_leaf_nodes=None,\n",
       "           min_impurity_decrease=0.0, min_impurity_split=None,\n",
       "           min_samples_leaf=1, min_samples_split=8,\n",
       "           min_weight_fraction_leaf=0.0, n_estimators=1000, n_jobs=-1,\n",
       "           oob_score=False, random_state=None, verbose=0, warm_start=False)"
      ]
     },
     "execution_count": 217,
     "metadata": {},
     "output_type": "execute_result"
    }
   ],
   "source": [
    "rfs.fit(x_trn, y_trn)"
   ]
  },
  {
   "cell_type": "code",
   "execution_count": 222,
   "metadata": {},
   "outputs": [
    {
     "name": "stdout",
     "output_type": "stream",
     "text": [
      "MAE, Trn: 3.7872987072945525\n",
      "MAE, Dev: 7.4837521551724135 \n",
      "\n",
      "MSE, Trn: 24.241840129501384\n",
      "MSE, Dev: 91.85436157650864 \n",
      "\n",
      "R2, Trn: 0.8276769036013358\n",
      "R2, Dev: 0.31959881987449923\n",
      "R2, Dev: 0.3003842692559925\n"
     ]
    }
   ],
   "source": [
    "y_trn_pred = rfs.predict(x_trn)\n",
    "y_dev_pred = rfs.predict(x_dev)\n",
    "y_tst_pred = rfs.predict(x_tst)\n",
    "\n",
    "\n",
    "print('MAE, Trn:', mean_absolute_error(y_trn, y_trn_pred))\n",
    "print('MAE, Dev:', mean_absolute_error(y_dev, y_dev_pred),'\\n')\n",
    "\n",
    "print('MSE, Trn:', mean_squared_error(y_trn, y_trn_pred))\n",
    "print('MSE, Dev:', mean_squared_error(y_dev, y_dev_pred),'\\n')\n",
    "\n",
    "print('R2, Trn:', r2_score(y_trn, y_trn_pred))\n",
    "print('R2, Dev:', r2_score(y_dev, y_dev_pred))\n",
    "print('R2, Dev:', r2_score(y_tst, y_tst_pred))"
   ]
  },
  {
   "cell_type": "markdown",
   "metadata": {},
   "source": [
    "# Stratified Model Metrics (Full Population, GridSearch)\n",
    "For the first random gridsearch, I will maintain the same hyperparameter sets.  However,\n",
    "I have some concerns...\n",
    "\n",
    "The last time, the GridSearch turned up `max_features: None`, which literally means we no longer\n",
    "have a true RF...and likely have highly correlated trees, which is bound to generalize to dev set\n",
    "poorly.  Also, `max_depth: None` is potentially concerning...  Not necessarily, but some depth\n",
    "regularization is likely a good thing.  To know how much, we have to look at the depths of the \n",
    "trees in the gridSearch's best RF. (Actually, we know it is 16, but I include a code snippet\n",
    "that shows you how to do it in general.)"
   ]
  },
  {
   "cell_type": "code",
   "execution_count": 177,
   "metadata": {},
   "outputs": [
    {
     "data": {
      "text/plain": [
       "array([16., 16., 16., 16., 16.])"
      ]
     },
     "execution_count": 177,
     "metadata": {},
     "output_type": "execute_result"
    }
   ],
   "source": [
    "np.percentile([tree.max_depth for tree in best_rf.best_estimator_.estimators_], [0,25,50,75,100])"
   ]
  },
  {
   "cell_type": "code",
   "execution_count": 180,
   "metadata": {},
   "outputs": [],
   "source": [
    "# Data Split\n",
    "bins = np.linspace(0, 61, 10)\n",
    "yb = np.digitize(y, bins)\n",
    "x_trn, x_dev, y_trn, y_dev = train_test_split(x, y, test_size=0.3, stratify=yb, random_state=42)\n",
    "x_dev, x_tst, y_dev, y_tst = train_test_split(x_dev, y_dev, test_size=0.5, random_state=42)\n",
    "\n",
    "# Base RF\n",
    "rf_strat = RandomForestRegressor(n_jobs=-1, random_state=42)\n",
    "\n",
    "# Hyperparameter Grid\n",
    "grid = {\n",
    "    'criterion': ['mse','mae'],                  # 2\n",
    "    'n_estimators': [10,100,500,1000],           # 4\n",
    "    'max_features': [2, 3, 'log2','sqrt', None], # 5\n",
    "    'max_depth': [3,4,8,16,32,None],             # 6\n",
    "    'min_samples_split': [2,4,8,16,32,64],       # 6\n",
    "    'min_samples_leaf': [1,2,5,10,30,0.1,0.2],   # 7\n",
    "} # 2*4*5*6*6*7 = 10,080-model GridSearch\n",
    "# Let's assume that randomly samplng 250 models is good enough\n",
    "n_iter = 250\n",
    "kfolds = 3\n",
    "\n",
    "# GridSearch\n",
    "best_rfs = RandomizedSearchCV(\n",
    "    rf_strat,\n",
    "    grid,\n",
    "    n_jobs  = -1,\n",
    "    cv      = kfolds,\n",
    "    n_iter  = n_iter,  # e.g., 250 models searched\n",
    "    return_train_score = True,\n",
    "    scoring = ['r2', 'neg_mean_absolute_error',\n",
    "               'neg_mean_squared_error','neg_median_absolute_error'],\n",
    "    refit   = 'neg_mean_squared_error',\n",
    "    verbose=True,\n",
    ")\n"
   ]
  },
  {
   "cell_type": "code",
   "execution_count": 181,
   "metadata": {},
   "outputs": [
    {
     "name": "stdout",
     "output_type": "stream",
     "text": [
      "Fitting 3 folds for each of 250 candidates, totalling 750 fits\n"
     ]
    },
    {
     "name": "stderr",
     "output_type": "stream",
     "text": [
      "[Parallel(n_jobs=-1)]: Using backend LokyBackend with 8 concurrent workers.\n",
      "[Parallel(n_jobs=-1)]: Done  34 tasks      | elapsed:   35.4s\n",
      "[Parallel(n_jobs=-1)]: Done 184 tasks      | elapsed:  9.3min\n",
      "[Parallel(n_jobs=-1)]: Done 434 tasks      | elapsed: 15.1min\n",
      "[Parallel(n_jobs=-1)]: Done 750 out of 750 | elapsed: 27.3min finished\n"
     ]
    },
    {
     "data": {
      "text/plain": [
       "{'n_estimators': 1000,\n",
       " 'min_samples_split': 4,\n",
       " 'min_samples_leaf': 10,\n",
       " 'max_features': None,\n",
       " 'max_depth': 16,\n",
       " 'criterion': 'mse'}"
      ]
     },
     "execution_count": 181,
     "metadata": {},
     "output_type": "execute_result"
    }
   ],
   "source": [
    "best_rfs.fit(x_trn,y_trn)\n",
    "best_rfs.best_params_"
   ]
  },
  {
   "cell_type": "markdown",
   "metadata": {},
   "source": [
    "Some interesting discrepancies between the non-stratified and stratified runs.\n",
    "\n",
    "\n",
    "|  run     | n_estimators | min_samples_split | min_samples_leaf | max_features | max_depth | criterion |\n",
    "|----------|--------------|-------------------|------------------|--------------|-----------|-----------|\n",
    "| No Strat | 1000         | 8                 | 1                | None         | 16        | MAE       |\n",
    "| W/ Strat | 1000         | 4                 | 10               | None         | 16        | MSE       |\n",
    "\n",
    "What this tells me is:\n",
    "* `n_estimators`we may not have explored enough since it always maxes out\n",
    "* `min_samples_split`:  given 4 and 8, we can probably cut down some of the larger options in [2,4,8,16,32,64]\n",
    "* `min_samples_leaf`: given 1 and 10, we can probably remove the larger options in [1,2,5,10,30,10%,20%]\n",
    "* `max_features`: this is fairly robustly `None`, but this violates basics of RF... need to explore this more\n",
    "* `max_depth`:  16 is pretty robust (at the least, we can likely leave out \"None\" option from next search)\n",
    "* `criterion`:  just keep allowing search over both...\n",
    "\n"
   ]
  },
  {
   "cell_type": "code",
   "execution_count": 182,
   "metadata": {},
   "outputs": [
    {
     "name": "stdout",
     "output_type": "stream",
     "text": [
      "MAE, Trn: 5.531520855249879\n",
      "MAE, Dev: 7.541420337416439 \n",
      "\n",
      "MSE, Trn: 51.29657810071865\n",
      "MSE, Dev: 93.06215468979839 \n",
      "\n",
      "R2, Trn: 0.6353583256984559\n",
      "R2, Dev: 0.31065222392058456\n"
     ]
    }
   ],
   "source": [
    "y_trn_pred = best_rfs.predict(x_trn)\n",
    "y_dev_pred = best_rfs.predict(x_dev)\n",
    "\n",
    "print('MAE, Trn:', mean_absolute_error(y_trn, y_trn_pred))\n",
    "print('MAE, Dev:', mean_absolute_error(y_dev, y_dev_pred),'\\n')\n",
    "\n",
    "print('MSE, Trn:', mean_squared_error(y_trn, y_trn_pred))\n",
    "print('MSE, Dev:', mean_squared_error(y_dev, y_dev_pred),'\\n')\n",
    "\n",
    "print('R2, Trn:', r2_score(y_trn, y_trn_pred))\n",
    "print('R2, Dev:', r2_score(y_dev, y_dev_pred))"
   ]
  },
  {
   "cell_type": "markdown",
   "metadata": {},
   "source": [
    "#### Yikes\n",
    "Ok, wow...  So the GridSearch really is the problem.  It is allowing too much\n",
    "overfitting of the training set.  This is likely due to allowing so many estimators\n",
    "and allowing `max_features` to be the full feature set.\n",
    "\n",
    "Explore this...\n",
    "\n",
    "FIRST:  I'll continue to allow `n_estimators` to grow to 1k, but I am removing the\n",
    "ability for `max_features` to select `None`."
   ]
  },
  {
   "cell_type": "code",
   "execution_count": 183,
   "metadata": {},
   "outputs": [],
   "source": [
    "# Data Split\n",
    "bins = np.linspace(0, 61, 10)\n",
    "yb = np.digitize(y, bins)\n",
    "x_trn, x_dev, y_trn, y_dev = train_test_split(x, y, test_size=0.3, stratify=yb, random_state=42)\n",
    "x_dev, x_tst, y_dev, y_tst = train_test_split(x_dev, y_dev, test_size=0.5, random_state=42)\n",
    "\n",
    "# Base RF\n",
    "rf_strat = RandomForestRegressor(n_jobs=-1, random_state=42)\n",
    "\n",
    "# Hyperparameter Grid\n",
    "grid = {\n",
    "    'criterion': ['mse','mae'],                  # 2\n",
    "    'n_estimators': [10,100,500,1000],           # 4\n",
    "    'max_features': [2, 3, 'log2','sqrt'],       # 4  (removed None)\n",
    "    'max_depth': [3,4,8,16,32],                  # 5  (removed None)\n",
    "    'min_samples_split': [2,4,8,16],             # 4  (removed 32, 64)\n",
    "    'min_samples_leaf': [1,2,5,10,30],           # 5  (removed 10%, 20%)\n",
    "} # 2*4*4*5*4*5 = 3200-model GridSearch\n",
    "# Let's assume that randomly samplng 250 models is good enough\n",
    "n_iter = 250\n",
    "kfolds = 3\n",
    "\n",
    "# GridSearch\n",
    "best_rfs = RandomizedSearchCV(\n",
    "    rf_strat,\n",
    "    grid,\n",
    "    n_jobs  = -1,\n",
    "    cv      = kfolds,\n",
    "    n_iter  = n_iter,  # e.g., 250 models searched\n",
    "    return_train_score = True,\n",
    "    scoring = ['r2', 'neg_mean_absolute_error',\n",
    "               'neg_mean_squared_error','neg_median_absolute_error'],\n",
    "    refit   = 'neg_mean_squared_error',\n",
    "    verbose=True,\n",
    ")\n"
   ]
  },
  {
   "cell_type": "code",
   "execution_count": 184,
   "metadata": {},
   "outputs": [
    {
     "name": "stdout",
     "output_type": "stream",
     "text": [
      "Fitting 3 folds for each of 250 candidates, totalling 750 fits\n"
     ]
    },
    {
     "name": "stderr",
     "output_type": "stream",
     "text": [
      "[Parallel(n_jobs=-1)]: Using backend LokyBackend with 8 concurrent workers.\n",
      "[Parallel(n_jobs=-1)]: Done  34 tasks      | elapsed:   15.7s\n",
      "[Parallel(n_jobs=-1)]: Done 184 tasks      | elapsed:  1.7min\n",
      "[Parallel(n_jobs=-1)]: Done 434 tasks      | elapsed:  5.2min\n",
      "[Parallel(n_jobs=-1)]: Done 750 out of 750 | elapsed:  8.5min finished\n"
     ]
    },
    {
     "data": {
      "text/plain": [
       "{'n_estimators': 500,\n",
       " 'min_samples_split': 4,\n",
       " 'min_samples_leaf': 1,\n",
       " 'max_features': 'sqrt',\n",
       " 'max_depth': 32,\n",
       " 'criterion': 'mse'}"
      ]
     },
     "execution_count": 184,
     "metadata": {},
     "output_type": "execute_result"
    }
   ],
   "source": [
    "best_rfs.fit(x_trn,y_trn)\n",
    "best_rfs.best_params_"
   ]
  },
  {
   "cell_type": "code",
   "execution_count": 185,
   "metadata": {},
   "outputs": [
    {
     "name": "stdout",
     "output_type": "stream",
     "text": [
      "MAE, Trn: 3.3996217273526157\n",
      "MAE, Dev: 8.20697083549055 \n",
      "\n",
      "MSE, Trn: 18.997081555847515\n",
      "MSE, Dev: 109.00891833579237 \n",
      "\n",
      "R2, Trn: 0.8649592646946918\n",
      "R2, Dev: 0.19252830886970007\n"
     ]
    }
   ],
   "source": [
    "y_trn_pred = best_rfs.predict(x_trn)\n",
    "y_dev_pred = best_rfs.predict(x_dev)\n",
    "\n",
    "print('MAE, Trn:', mean_absolute_error(y_trn, y_trn_pred))\n",
    "print('MAE, Dev:', mean_absolute_error(y_dev, y_dev_pred),'\\n')\n",
    "\n",
    "print('MSE, Trn:', mean_squared_error(y_trn, y_trn_pred))\n",
    "print('MSE, Dev:', mean_squared_error(y_dev, y_dev_pred),'\\n')\n",
    "\n",
    "print('R2, Trn:', r2_score(y_trn, y_trn_pred))\n",
    "print('R2, Dev:', r2_score(y_dev, y_dev_pred))"
   ]
  },
  {
   "cell_type": "markdown",
   "metadata": {},
   "source": [
    "#### YIKES\n",
    "Again, we see MAJOR OVERFITTING.... Serious, disgusting, uh-oh overfitting...\n",
    "\n",
    "|  run                 | n_estimators | min_samples_split | min_samples_leaf | max_features | max_depth | criterion |\n",
    "|----------------------|--------------|-------------------|------------------|--------------|-----------|-----------|\n",
    "| No Strat             | 1000         | 8                 | 1                | None         | 16        | MAE       |\n",
    "| W/ Strat (full hp)   | 1000         | 4                 | 10               | None         | 16        | MSE       | \n",
    "| W/ Strat (reduced hp)| 500          | 4                 | 1                | sqrt         | 32        | MSE       |\n",
    "\n",
    "Interestingly, the overfitting is still huge...yet it selected less estimators.\n",
    "\n",
    "NEXT:\n",
    "* allow estimators to only get up to 100 (add in a few sub-100 possibility, e.g., 25,50,75)\n",
    "* take away option for terminal purity (1/leaf), which is likely noise fitting (maybe even take away 2/leaf)\n",
    "* if min sample per leaf is 4, then adjust `min_samples_split` accordingly (4 is lowest)\n",
    "* use 5 CV folds..."
   ]
  },
  {
   "cell_type": "code",
   "execution_count": 186,
   "metadata": {},
   "outputs": [
    {
     "name": "stdout",
     "output_type": "stream",
     "text": [
      "Fitting 5 folds for each of 250 candidates, totalling 1250 fits\n"
     ]
    },
    {
     "name": "stderr",
     "output_type": "stream",
     "text": [
      "[Parallel(n_jobs=-1)]: Using backend LokyBackend with 8 concurrent workers.\n",
      "[Parallel(n_jobs=-1)]: Done  34 tasks      | elapsed:    7.4s\n",
      "[Parallel(n_jobs=-1)]: Done 184 tasks      | elapsed:   30.8s\n",
      "[Parallel(n_jobs=-1)]: Done 434 tasks      | elapsed:  1.3min\n",
      "[Parallel(n_jobs=-1)]: Done 784 tasks      | elapsed:  2.3min\n",
      "[Parallel(n_jobs=-1)]: Done 1234 tasks      | elapsed:  3.5min\n",
      "[Parallel(n_jobs=-1)]: Done 1250 out of 1250 | elapsed:  3.5min finished\n",
      "/Users/kevinurban/miniconda3/lib/python3.7/site-packages/sklearn/model_selection/_search.py:841: DeprecationWarning: The default of the `iid` parameter will change from True to False in version 0.22 and will be removed in 0.24. This will change numeric results when test-set sizes are unequal.\n",
      "  DeprecationWarning)\n"
     ]
    },
    {
     "data": {
      "text/plain": [
       "{'n_estimators': 75,\n",
       " 'min_samples_split': 4,\n",
       " 'min_samples_leaf': 4,\n",
       " 'max_features': 'sqrt',\n",
       " 'max_depth': 16,\n",
       " 'criterion': 'mae'}"
      ]
     },
     "execution_count": 186,
     "metadata": {},
     "output_type": "execute_result"
    }
   ],
   "source": [
    "# Data Split\n",
    "bins = np.linspace(0, 61, 10)\n",
    "yb = np.digitize(y, bins)\n",
    "x_trn, x_dev, y_trn, y_dev = train_test_split(x, y, test_size=0.3, stratify=yb, random_state=42)\n",
    "x_dev, x_tst, y_dev, y_tst = train_test_split(x_dev, y_dev, test_size=0.5, random_state=42)\n",
    "\n",
    "# Base RF\n",
    "rf_strat = RandomForestRegressor(n_jobs=-1, random_state=42)\n",
    "\n",
    "# Hyperparameter Grid\n",
    "grid = {\n",
    "    'criterion': ['mse','mae'],                  # 2\n",
    "    'n_estimators': [10,25,50,75,100],           # 5  (removed 1k, 500; added 25,50,75)\n",
    "    'max_features': [2, 3, 'log2','sqrt'],       # 4  (removed None)\n",
    "    'max_depth': [3,4,8,16,32],                  # 5  (removed None)\n",
    "    'min_samples_split': [4,8,16],               # 3  (removed 32, 64; removed 2)\n",
    "    'min_samples_leaf': [4,8,16,32],             # 4  (removed 10%, 20%; removed 1, 2)\n",
    "} # 2*5*4*5*3*4 = 2400-model GridSearch\n",
    "# Let's assume that randomly samplng 250 models is good enough\n",
    "n_iter = 250\n",
    "kfolds = 5\n",
    "\n",
    "# GridSearch\n",
    "best_rfs = RandomizedSearchCV(\n",
    "    rf_strat,\n",
    "    grid,\n",
    "    n_jobs  = -1,\n",
    "    cv      = kfolds,\n",
    "    n_iter  = n_iter,  # e.g., 250 models searched\n",
    "    return_train_score = True,\n",
    "    scoring = ['r2', 'neg_mean_absolute_error',\n",
    "               'neg_mean_squared_error','neg_median_absolute_error'],\n",
    "    refit   = 'neg_mean_squared_error',\n",
    "    verbose=True,\n",
    ")\n",
    "\n",
    "best_rfs.fit(x_trn,y_trn)\n",
    "best_rfs.best_params_"
   ]
  },
  {
   "cell_type": "code",
   "execution_count": 187,
   "metadata": {},
   "outputs": [
    {
     "name": "stdout",
     "output_type": "stream",
     "text": [
      "MAE, Trn: 5.645607879347491\n",
      "MAE, Dev: 8.248563218390805 \n",
      "\n",
      "MSE, Trn: 54.87699201805683\n",
      "MSE, Dev: 109.77829042145595 \n",
      "\n",
      "R2, Trn: 0.609906956935664\n",
      "R2, Dev: 0.18682926893238483\n"
     ]
    }
   ],
   "source": [
    "y_trn_pred = best_rfs.predict(x_trn)\n",
    "y_dev_pred = best_rfs.predict(x_dev)\n",
    "\n",
    "print('MAE, Trn:', mean_absolute_error(y_trn, y_trn_pred))\n",
    "print('MAE, Dev:', mean_absolute_error(y_dev, y_dev_pred),'\\n')\n",
    "\n",
    "print('MSE, Trn:', mean_squared_error(y_trn, y_trn_pred))\n",
    "print('MSE, Dev:', mean_squared_error(y_dev, y_dev_pred),'\\n')\n",
    "\n",
    "print('R2, Trn:', r2_score(y_trn, y_trn_pred))\n",
    "print('R2, Dev:', r2_score(y_dev, y_dev_pred))"
   ]
  },
  {
   "cell_type": "code",
   "execution_count": null,
   "metadata": {},
   "outputs": [],
   "source": []
  },
  {
   "cell_type": "markdown",
   "metadata": {},
   "source": [
    "#### YIKES\n",
    "Wow... It's still so bad.  Grid searches are fucking shitty...  Everyone talks about\n",
    "grid searching, and it seems to work on simple data sets... But here, even w/ 5-fold CV,\n",
    "we can't help but overfit the training set.....\n",
    "\n",
    "We need better regularization yet again....\n",
    "\n",
    "What's weird is:  why did the model work so well on my first try?  That's scary and hopefully\n",
    "I didn't get excited prematurely...\n",
    "\n",
    "|  run                 | n_estimators | min_samples_split | min_samples_leaf | max_features | max_depth | criterion |\n",
    "|----------------------|--------------|-------------------|------------------|--------------|-----------|-----------|\n",
    "| No Strat             | 1000         | 8                 | 1                | None         | 16        | MAE       |\n",
    "| W/ Strat (full hp)   | 1000         | 4                 | 10               | None         | 16        | MSE       | \n",
    "| W/ Strat (reduced hp)| 500          | 4                 | 1                | sqrt         | 32        | MSE       |\n",
    "| W/ Strat (rhp*)      | 75           | 4                 | 4                | sqrt         | 16        | MAE       |\n",
    "\n",
    "NEXT:\n",
    "* further reduce terminal purity \n",
    "* adjust `min_samples_split` accordingly\n",
    "* use 5 CV folds..."
   ]
  },
  {
   "cell_type": "code",
   "execution_count": 192,
   "metadata": {},
   "outputs": [
    {
     "name": "stdout",
     "output_type": "stream",
     "text": [
      "Fitting 5 folds for each of 300 candidates, totalling 1500 fits\n"
     ]
    },
    {
     "name": "stderr",
     "output_type": "stream",
     "text": [
      "[Parallel(n_jobs=-1)]: Using backend LokyBackend with 8 concurrent workers.\n",
      "[Parallel(n_jobs=-1)]: Done  34 tasks      | elapsed:    7.5s\n",
      "[Parallel(n_jobs=-1)]: Done 184 tasks      | elapsed:   31.7s\n",
      "[Parallel(n_jobs=-1)]: Done 434 tasks      | elapsed:  1.2min\n",
      "[Parallel(n_jobs=-1)]: Done 784 tasks      | elapsed:  2.2min\n",
      "[Parallel(n_jobs=-1)]: Done 1234 tasks      | elapsed:  3.4min\n",
      "[Parallel(n_jobs=-1)]: Done 1500 out of 1500 | elapsed:  4.1min finished\n",
      "/Users/kevinurban/miniconda3/lib/python3.7/site-packages/sklearn/model_selection/_search.py:841: DeprecationWarning: The default of the `iid` parameter will change from True to False in version 0.22 and will be removed in 0.24. This will change numeric results when test-set sizes are unequal.\n",
      "  DeprecationWarning)\n"
     ]
    },
    {
     "data": {
      "text/plain": [
       "{'n_estimators': 75,\n",
       " 'min_samples_split': 16,\n",
       " 'min_samples_leaf': 8,\n",
       " 'max_features': 'sqrt',\n",
       " 'max_depth': 32,\n",
       " 'criterion': 'mae'}"
      ]
     },
     "execution_count": 192,
     "metadata": {},
     "output_type": "execute_result"
    }
   ],
   "source": [
    "# Data Split\n",
    "bins = np.linspace(0, 61, 10)\n",
    "yb = np.digitize(y, bins)\n",
    "x_trn, x_dev, y_trn, y_dev = train_test_split(x, y, test_size=0.3, stratify=yb, random_state=42)\n",
    "x_dev, x_tst, y_dev, y_tst = train_test_split(x_dev, y_dev, test_size=0.5, random_state=42)\n",
    "\n",
    "# Base RF\n",
    "rf_strat = RandomForestRegressor(n_jobs=-1, random_state=42)\n",
    "\n",
    "# Hyperparameter Grid\n",
    "grid = {\n",
    "    'criterion': ['mse','mae'],                  # 2\n",
    "    'n_estimators': [10,25,50,75,100],           # 5  (removed 1k, 500; added 25,50,75)\n",
    "    'max_features': [2, 3, 'log2','sqrt'],       # 4  (removed None)\n",
    "    'max_depth': [3,4,8,16,32],                  # 5  (removed None)\n",
    "    'min_samples_split': [8,16],                 # 2  (removed 32, 64; rem 2; rem 4)\n",
    "    'min_samples_leaf': [8,16,32],               # 3  (removed 10%, 20%; rem 1, 2; rem 4)\n",
    "} # 2*5*4*5*2*3 = 1200-model GridSearch\n",
    "# Let's assume that randomly samplng 250 models is good enough\n",
    "n_iter = 300\n",
    "kfolds = 5\n",
    "\n",
    "# GridSearch\n",
    "best_rfs = RandomizedSearchCV(\n",
    "    rf_strat,\n",
    "    grid,\n",
    "    n_jobs  = -1,\n",
    "    cv      = kfolds,\n",
    "    n_iter  = n_iter,  # e.g., 250 models searched\n",
    "    return_train_score = True,\n",
    "    scoring = ['r2', 'neg_mean_absolute_error',\n",
    "               'neg_mean_squared_error','neg_median_absolute_error'],\n",
    "    refit   = 'neg_mean_squared_error',\n",
    "    verbose=True,\n",
    ")\n",
    "\n",
    "best_rfs.fit(x_trn,y_trn)\n",
    "best_rfs.best_params_"
   ]
  },
  {
   "cell_type": "code",
   "execution_count": 193,
   "metadata": {},
   "outputs": [
    {
     "name": "stdout",
     "output_type": "stream",
     "text": [
      "MAE, Trn: 6.628224068944291\n",
      "MAE, Dev: 8.181379310344827 \n",
      "\n",
      "MSE, Trn: 75.03606824664\n",
      "MSE, Dev: 107.01126896551723 \n",
      "\n",
      "R2, Trn: 0.46660618365737705\n",
      "R2, Dev: 0.20732567902920018\n"
     ]
    }
   ],
   "source": [
    "y_trn_pred = best_rfs.predict(x_trn)\n",
    "y_dev_pred = best_rfs.predict(x_dev)\n",
    "\n",
    "print('MAE, Trn:', mean_absolute_error(y_trn, y_trn_pred))\n",
    "print('MAE, Dev:', mean_absolute_error(y_dev, y_dev_pred),'\\n')\n",
    "\n",
    "print('MSE, Trn:', mean_squared_error(y_trn, y_trn_pred))\n",
    "print('MSE, Dev:', mean_squared_error(y_dev, y_dev_pred),'\\n')\n",
    "\n",
    "print('R2, Trn:', r2_score(y_trn, y_trn_pred))\n",
    "print('R2, Dev:', r2_score(y_dev, y_dev_pred))"
   ]
  },
  {
   "cell_type": "markdown",
   "metadata": {},
   "source": [
    "#### Geez\n",
    "Now we're running into a new problem: the model is sucking on the training set too....so we\n",
    "are underfitting.......\n",
    "\n",
    "|  run                 | n_estimators | min_samples_split | min_samples_leaf | max_features | max_depth | criterion |\n",
    "|----------------------|--------------|-------------------|------------------|--------------|-----------|-----------|\n",
    "| No Strat             | 1000         | 8                 | 1                | None         | 16        | MAE       |\n",
    "| W/ Strat (full hp)   | 1000         | 4                 | 10               | None         | 16        | MSE       | \n",
    "| W/ Strat (reduced hp)| 500          | 4                 | 1                | sqrt         | 32        | MSE       |\n",
    "| W/ Strat (rhp*)      | 75           | 4                 | 4                | sqrt         | 16        | MAE       |\n",
    "| W/ Strat (rhp**)     | 75           | 16                | 8                | sqrt         | 32        | MAE       |\n",
    "\n",
    "NEXT:\n",
    "* maybe we should allow depth to grow again?\n",
    "    - but that doesn't make too much sense: no matter the model, it always seems to\n",
    "      cap depth at 16 or 32"
   ]
  },
  {
   "cell_type": "code",
   "execution_count": 194,
   "metadata": {},
   "outputs": [
    {
     "name": "stdout",
     "output_type": "stream",
     "text": [
      "Fitting 5 folds for each of 400 candidates, totalling 2000 fits\n"
     ]
    },
    {
     "name": "stderr",
     "output_type": "stream",
     "text": [
      "[Parallel(n_jobs=-1)]: Using backend LokyBackend with 8 concurrent workers.\n",
      "[Parallel(n_jobs=-1)]: Done  34 tasks      | elapsed:   13.2s\n",
      "[Parallel(n_jobs=-1)]: Done 184 tasks      | elapsed:  1.5min\n",
      "[Parallel(n_jobs=-1)]: Done 434 tasks      | elapsed:  3.4min\n",
      "[Parallel(n_jobs=-1)]: Done 784 tasks      | elapsed:  6.5min\n",
      "[Parallel(n_jobs=-1)]: Done 1234 tasks      | elapsed: 10.3min\n",
      "[Parallel(n_jobs=-1)]: Done 1784 tasks      | elapsed: 14.3min\n",
      "[Parallel(n_jobs=-1)]: Done 2000 out of 2000 | elapsed: 16.1min finished\n",
      "/Users/kevinurban/miniconda3/lib/python3.7/site-packages/sklearn/model_selection/_search.py:841: DeprecationWarning: The default of the `iid` parameter will change from True to False in version 0.22 and will be removed in 0.24. This will change numeric results when test-set sizes are unequal.\n",
      "  DeprecationWarning)\n"
     ]
    },
    {
     "data": {
      "text/plain": [
       "{'n_estimators': 300,\n",
       " 'min_samples_split': 8,\n",
       " 'min_samples_leaf': 4,\n",
       " 'max_features': 'sqrt',\n",
       " 'max_depth': 16,\n",
       " 'criterion': 'mae'}"
      ]
     },
     "execution_count": 194,
     "metadata": {},
     "output_type": "execute_result"
    }
   ],
   "source": [
    "# Data Split\n",
    "bins = np.linspace(0, 61, 10)\n",
    "yb = np.digitize(y, bins)\n",
    "x_trn, x_dev, y_trn, y_dev = train_test_split(x, y, test_size=0.3, stratify=yb, random_state=42)\n",
    "x_dev, x_tst, y_dev, y_tst = train_test_split(x_dev, y_dev, test_size=0.5, random_state=42)\n",
    "\n",
    "# Base RF\n",
    "rf_strat = RandomForestRegressor(n_jobs=-1, random_state=42)\n",
    "\n",
    "# Hyperparameter Grid\n",
    "grid = {\n",
    "    'criterion': ['mse','mae'],                  # 2\n",
    "    'n_estimators': [75,150,300,600],            # 4  (removed 1k, 500; added 25,50,75)\n",
    "    'max_features': [2, 3, 'log2','sqrt'],       # 4  (removed None)\n",
    "    'max_depth': [3,4,8,16,32],                  # 5  (removed None)\n",
    "    'min_samples_split': [8,16],                 # 2  (removed 32, 64; rem 2; rem 4)\n",
    "    'min_samples_leaf': [4,8,16,32],             # 4  (removed 10%, 20%; rem 1, 2; rem 4)\n",
    "} # 2*5*4*5*2*4 = 1600-model GridSearch\n",
    "# Let's assume that randomly samplng 400 models is good enough\n",
    "n_iter = 400\n",
    "kfolds = 5\n",
    "\n",
    "# GridSearch\n",
    "best_rfs = RandomizedSearchCV(\n",
    "    rf_strat,\n",
    "    grid,\n",
    "    n_jobs  = -1,\n",
    "    cv      = kfolds,\n",
    "    n_iter  = n_iter,  # e.g., 250 models searched\n",
    "    return_train_score = True,\n",
    "    scoring = ['r2', 'neg_mean_absolute_error',\n",
    "               'neg_mean_squared_error','neg_median_absolute_error'],\n",
    "    refit   = 'neg_mean_squared_error',\n",
    "    verbose=True,\n",
    ")\n",
    "\n",
    "best_rfs.fit(x_trn,y_trn)\n",
    "best_rfs.best_params_"
   ]
  },
  {
   "cell_type": "code",
   "execution_count": 195,
   "metadata": {},
   "outputs": [
    {
     "name": "stdout",
     "output_type": "stream",
     "text": [
      "MAE, Trn: 5.634903047091413\n",
      "MAE, Dev: 8.206163793103448 \n",
      "\n",
      "MSE, Trn: 54.4257994716323\n",
      "MSE, Dev: 107.79785174808431 \n",
      "\n",
      "R2, Trn: 0.6131142587022183\n",
      "R2, Dev: 0.20149915272887575\n"
     ]
    }
   ],
   "source": [
    "y_trn_pred = best_rfs.predict(x_trn)\n",
    "y_dev_pred = best_rfs.predict(x_dev)\n",
    "\n",
    "print('MAE, Trn:', mean_absolute_error(y_trn, y_trn_pred))\n",
    "print('MAE, Dev:', mean_absolute_error(y_dev, y_dev_pred),'\\n')\n",
    "\n",
    "print('MSE, Trn:', mean_squared_error(y_trn, y_trn_pred))\n",
    "print('MSE, Dev:', mean_squared_error(y_dev, y_dev_pred),'\\n')\n",
    "\n",
    "print('R2, Trn:', r2_score(y_trn, y_trn_pred))\n",
    "print('R2, Dev:', r2_score(y_dev, y_dev_pred))"
   ]
  },
  {
   "cell_type": "code",
   "execution_count": null,
   "metadata": {},
   "outputs": [],
   "source": []
  },
  {
   "cell_type": "code",
   "execution_count": null,
   "metadata": {},
   "outputs": [],
   "source": [
    "# SANITY CHECK"
   ]
  },
  {
   "cell_type": "code",
   "execution_count": 196,
   "metadata": {},
   "outputs": [
    {
     "data": {
      "text/plain": [
       "RandomForestRegressor(bootstrap=True, criterion='mae', max_depth=16,\n",
       "           max_features='sqrt', max_leaf_nodes=None,\n",
       "           min_impurity_decrease=0.0, min_impurity_split=None,\n",
       "           min_samples_leaf=4, min_samples_split=8,\n",
       "           min_weight_fraction_leaf=0.0, n_estimators=300, n_jobs=None,\n",
       "           oob_score=False, random_state=42, verbose=0, warm_start=False)"
      ]
     },
     "execution_count": 196,
     "metadata": {},
     "output_type": "execute_result"
    }
   ],
   "source": [
    "rfz = RandomForestRegressor(\n",
    "    n_estimators = 300,\n",
    "    min_samples_split = 8,\n",
    "    min_samples_leaf = 4,\n",
    "    max_features = 'sqrt',\n",
    "    max_depth = 16,\n",
    "    criterion = 'mae',\n",
    "    random_state= 42\n",
    ")\n",
    "rfz.fit(x_trn, y_trn)"
   ]
  },
  {
   "cell_type": "code",
   "execution_count": 197,
   "metadata": {},
   "outputs": [
    {
     "name": "stdout",
     "output_type": "stream",
     "text": [
      "MAE, Trn: 5.634903047091413\n",
      "MAE, Dev: 8.206163793103448 \n",
      "\n",
      "MSE, Trn: 54.4257994716323\n",
      "MSE, Dev: 107.79785174808431 \n",
      "\n",
      "R2, Trn: 0.6131142587022183\n",
      "R2, Dev: 0.20149915272887575\n"
     ]
    }
   ],
   "source": [
    "y_trn_pred = rfz.predict(x_trn)\n",
    "y_dev_pred = rfz.predict(x_dev)\n",
    "\n",
    "print('MAE, Trn:', mean_absolute_error(y_trn, y_trn_pred))\n",
    "print('MAE, Dev:', mean_absolute_error(y_dev, y_dev_pred),'\\n')\n",
    "\n",
    "print('MSE, Trn:', mean_squared_error(y_trn, y_trn_pred))\n",
    "print('MSE, Dev:', mean_squared_error(y_dev, y_dev_pred),'\\n')\n",
    "\n",
    "print('R2, Trn:', r2_score(y_trn, y_trn_pred))\n",
    "print('R2, Dev:', r2_score(y_dev, y_dev_pred))"
   ]
  },
  {
   "cell_type": "code",
   "execution_count": null,
   "metadata": {},
   "outputs": [],
   "source": []
  },
  {
   "cell_type": "code",
   "execution_count": 198,
   "metadata": {},
   "outputs": [
    {
     "data": {
      "text/plain": [
       "RandomForestRegressor(bootstrap=True, criterion='mae', max_depth=16,\n",
       "           max_features='sqrt', max_leaf_nodes=None,\n",
       "           min_impurity_decrease=0.0, min_impurity_split=None,\n",
       "           min_samples_leaf=4, min_samples_split=8,\n",
       "           min_weight_fraction_leaf=0.0, n_estimators=300, n_jobs=None,\n",
       "           oob_score=False, random_state=None, verbose=0, warm_start=False)"
      ]
     },
     "execution_count": 198,
     "metadata": {},
     "output_type": "execute_result"
    }
   ],
   "source": [
    "# NOW W/O RS42\n",
    "rfz = RandomForestRegressor(\n",
    "    n_estimators = 300,\n",
    "    min_samples_split = 8,\n",
    "    min_samples_leaf = 4,\n",
    "    max_features = 'sqrt',\n",
    "    max_depth = 16,\n",
    "    criterion = 'mae',\n",
    ")\n",
    "rfz.fit(x_trn, y_trn)"
   ]
  },
  {
   "cell_type": "code",
   "execution_count": 199,
   "metadata": {},
   "outputs": [
    {
     "name": "stdout",
     "output_type": "stream",
     "text": [
      "MAE, Trn: 5.674893813481071\n",
      "MAE, Dev: 8.275495689655171 \n",
      "\n",
      "MSE, Trn: 55.147870236996\n",
      "MSE, Dev: 109.3792294420498 \n",
      "\n",
      "R2, Trn: 0.6079814193863198\n",
      "R2, Dev: 0.1897852696782375\n"
     ]
    }
   ],
   "source": [
    "y_trn_pred = rfz.predict(x_trn)\n",
    "y_dev_pred = rfz.predict(x_dev)\n",
    "\n",
    "print('MAE, Trn:', mean_absolute_error(y_trn, y_trn_pred))\n",
    "print('MAE, Dev:', mean_absolute_error(y_dev, y_dev_pred),'\\n')\n",
    "\n",
    "print('MSE, Trn:', mean_squared_error(y_trn, y_trn_pred))\n",
    "print('MSE, Dev:', mean_squared_error(y_dev, y_dev_pred),'\\n')\n",
    "\n",
    "print('R2, Trn:', r2_score(y_trn, y_trn_pred))\n",
    "print('R2, Dev:', r2_score(y_dev, y_dev_pred))"
   ]
  },
  {
   "cell_type": "code",
   "execution_count": null,
   "metadata": {},
   "outputs": [],
   "source": []
  },
  {
   "cell_type": "code",
   "execution_count": 200,
   "metadata": {},
   "outputs": [
    {
     "data": {
      "text/plain": [
       "RandomForestRegressor(bootstrap=True, criterion='mse', max_depth=16,\n",
       "           max_features='sqrt', max_leaf_nodes=None,\n",
       "           min_impurity_decrease=0.0, min_impurity_split=None,\n",
       "           min_samples_leaf=4, min_samples_split=8,\n",
       "           min_weight_fraction_leaf=0.0, n_estimators=300, n_jobs=None,\n",
       "           oob_score=False, random_state=None, verbose=0, warm_start=False)"
      ]
     },
     "execution_count": 200,
     "metadata": {},
     "output_type": "execute_result"
    }
   ],
   "source": [
    "# NOW W/O RS42 & criterion->MSE\n",
    "rfz = RandomForestRegressor(\n",
    "    n_estimators = 300,\n",
    "    min_samples_split = 8,\n",
    "    min_samples_leaf = 4,\n",
    "    max_features = 'sqrt',\n",
    "    max_depth = 16,\n",
    "    criterion = 'mse',\n",
    ")\n",
    "rfz.fit(x_trn, y_trn)"
   ]
  },
  {
   "cell_type": "code",
   "execution_count": 201,
   "metadata": {},
   "outputs": [
    {
     "name": "stdout",
     "output_type": "stream",
     "text": [
      "MAE, Trn: 5.233870293948408\n",
      "MAE, Dev: 8.263820484164306 \n",
      "\n",
      "MSE, Trn: 45.085618862364385\n",
      "MSE, Dev: 109.97873962191274 \n",
      "\n",
      "R2, Trn: 0.6795089232538202\n",
      "R2, Dev: 0.18534446330960108\n"
     ]
    }
   ],
   "source": [
    "y_trn_pred = rfz.predict(x_trn)\n",
    "y_dev_pred = rfz.predict(x_dev)\n",
    "\n",
    "print('MAE, Trn:', mean_absolute_error(y_trn, y_trn_pred))\n",
    "print('MAE, Dev:', mean_absolute_error(y_dev, y_dev_pred),'\\n')\n",
    "\n",
    "print('MSE, Trn:', mean_squared_error(y_trn, y_trn_pred))\n",
    "print('MSE, Dev:', mean_squared_error(y_dev, y_dev_pred),'\\n')\n",
    "\n",
    "print('R2, Trn:', r2_score(y_trn, y_trn_pred))\n",
    "print('R2, Dev:', r2_score(y_dev, y_dev_pred))"
   ]
  },
  {
   "cell_type": "markdown",
   "metadata": {},
   "source": [
    "# Question:  can I even replicate the good results from before?\n"
   ]
  },
  {
   "cell_type": "code",
   "execution_count": 253,
   "metadata": {},
   "outputs": [
    {
     "name": "stdout",
     "output_type": "stream",
     "text": [
      "MAE, Trn: 3.7923079409048936\n",
      "MAE, Dev: 7.530265086206896 \n",
      "\n",
      "MSE, Trn: 24.189438289704523\n",
      "MSE, Dev: 93.50718946443965 \n",
      "\n",
      "R2, Trn: 0.8280494020273028\n",
      "R2, Dev: 0.30735567729323054\n"
     ]
    }
   ],
   "source": [
    "bins = np.linspace(0, 61, 10)\n",
    "yb = np.digitize(y, bins)\n",
    "x_trn, x_dev, y_trn, y_dev = train_test_split(x, y, test_size=0.3, stratify=yb, random_state=42)\n",
    "x_dev, x_tst, y_dev, y_tst = train_test_split(x_dev, y_dev, test_size=0.5, random_state=42)\n",
    "\n",
    "rfs = RandomForestRegressor(\n",
    "    n_estimators = 1000,\n",
    "    min_samples_split = 8,\n",
    "    min_samples_leaf = 1,\n",
    "    max_features = None,\n",
    "    max_depth = 16,\n",
    "    criterion = 'mae',\n",
    "    n_jobs=-1,\n",
    ")\n",
    "# Crazy: note that I didn't use random state 42 here...and got great results...\n",
    "\n",
    "rfs.fit(x_trn, y_trn)\n",
    "\n",
    "y_trn_pred = rfs.predict(x_trn)\n",
    "y_dev_pred = rfs.predict(x_dev)\n",
    "\n",
    "print('MAE, Trn:', mean_absolute_error(y_trn, y_trn_pred))\n",
    "print('MAE, Dev:', mean_absolute_error(y_dev, y_dev_pred),'\\n')\n",
    "\n",
    "print('MSE, Trn:', mean_squared_error(y_trn, y_trn_pred))\n",
    "print('MSE, Dev:', mean_squared_error(y_dev, y_dev_pred),'\\n')\n",
    "\n",
    "print('R2, Trn:', r2_score(y_trn, y_trn_pred))\n",
    "print('R2, Dev:', r2_score(y_dev, y_dev_pred))"
   ]
  },
  {
   "cell_type": "code",
   "execution_count": 223,
   "metadata": {},
   "outputs": [],
   "source": [
    "###########################################################"
   ]
  },
  {
   "cell_type": "code",
   "execution_count": 224,
   "metadata": {},
   "outputs": [],
   "source": [
    "#########################################################"
   ]
  },
  {
   "cell_type": "code",
   "execution_count": 282,
   "metadata": {},
   "outputs": [
    {
     "name": "stdout",
     "output_type": "stream",
     "text": [
      "MAE, Trn: 6.332746352004538\n",
      "MAE, Dev: 8.513622287019183 \n",
      "\n",
      "MSE, Trn: 61.14664143182258\n",
      "MSE, Dev: 113.6974537476489 \n",
      "\n",
      "R2, Trn: 0.5704851040440035\n",
      "R2, Dev: 0.201128653903908\n"
     ]
    }
   ],
   "source": [
    "bins = np.linspace(0, 61, 20)\n",
    "yb = np.digitize(y, bins)\n",
    "x_trn, x_dev, y_trn, y_dev = train_test_split(x, y, test_size=0.3, stratify=yb, random_state=37)\n",
    "#x_trn, x_dev, y_trn, y_dev = train_test_split(x, y, test_size=0.3, random_state=37)\n",
    "\n",
    "#x_dev, x_tst, y_dev, y_tst = train_test_split(x_dev, y_dev, test_size=0.5, random_state=23)\n",
    "\n",
    "# I changed max_features to sqrt here\n",
    "rfs = RandomForestRegressor(\n",
    "    n_estimators = 5000,\n",
    "    #min_samples_split = 16,\n",
    "    min_samples_leaf = 1,\n",
    "    max_features = 'sqrt',\n",
    "    max_depth = 8,\n",
    "    criterion = 'mse',\n",
    "    n_jobs=-1,\n",
    ")\n",
    "# Crazy: note that I didn't use random state 42 here...and got great results...\n",
    "\n",
    "rfs.fit(x_trn, y_trn)\n",
    "\n",
    "y_trn_pred = rfs.predict(x_trn)\n",
    "y_dev_pred = rfs.predict(x_dev)\n",
    "\n",
    "print('MAE, Trn:', mean_absolute_error(y_trn, y_trn_pred))\n",
    "print('MAE, Dev:', mean_absolute_error(y_dev, y_dev_pred),'\\n')\n",
    "\n",
    "print('MSE, Trn:', mean_squared_error(y_trn, y_trn_pred))\n",
    "print('MSE, Dev:', mean_squared_error(y_dev, y_dev_pred),'\\n')\n",
    "\n",
    "print('R2, Trn:', r2_score(y_trn, y_trn_pred))\n",
    "print('R2, Dev:', r2_score(y_dev, y_dev_pred))"
   ]
  },
  {
   "cell_type": "code",
   "execution_count": null,
   "metadata": {},
   "outputs": [],
   "source": []
  },
  {
   "cell_type": "code",
   "execution_count": 284,
   "metadata": {},
   "outputs": [],
   "source": [
    "from sklearn.linear_model import LinearRegression"
   ]
  },
  {
   "cell_type": "code",
   "execution_count": 286,
   "metadata": {},
   "outputs": [
    {
     "data": {
      "text/plain": [
       "RandomForestRegressor(bootstrap=True, criterion='mse', max_depth=8,\n",
       "           max_features='sqrt', max_leaf_nodes=None,\n",
       "           min_impurity_decrease=0.0, min_impurity_split=None,\n",
       "           min_samples_leaf=1, min_samples_split=2,\n",
       "           min_weight_fraction_leaf=0.0, n_estimators=5000, n_jobs=-1,\n",
       "           oob_score=False, random_state=None, verbose=0, warm_start=False)"
      ]
     },
     "execution_count": 286,
     "metadata": {},
     "output_type": "execute_result"
    }
   ],
   "source": [
    "bins = np.linspace(0, 61, 20)\n",
    "yb = np.digitize(y, bins)\n",
    "x_trn, x_dev, y_trn, y_dev = train_test_split(x, y, test_size=0.3, stratify=yb, random_state=37)\n",
    "#x_trn, x_dev, y_trn, y_dev = train_test_split(x, y, test_size=0.3, random_state=37)\n",
    "\n",
    "#x_dev, x_tst, y_dev, y_tst = train_test_split(x_dev, y_dev, test_size=0.5, random_state=23)\n",
    "\n",
    "# I changed max_features to sqrt here\n",
    "rfs = RandomForestRegressor(\n",
    "    n_estimators = 5000,\n",
    "    #min_samples_split = 16,\n",
    "    min_samples_leaf = 1,\n",
    "    max_features = 'sqrt',\n",
    "    max_depth = 8,\n",
    "    criterion = 'mse',\n",
    "    n_jobs=-1,\n",
    ")\n",
    "# Crazy: note that I didn't use random state 42 here...and got great results...\n",
    "\n",
    "rfs.fit(x_trn, y_trn)"
   ]
  },
  {
   "cell_type": "markdown",
   "metadata": {},
   "source": [
    "# Sanity Check..."
   ]
  },
  {
   "cell_type": "code",
   "execution_count": 287,
   "metadata": {},
   "outputs": [
    {
     "data": {
      "text/plain": [
       "LinearRegression(copy_X=True, fit_intercept=True, n_jobs=None,\n",
       "         normalize=False)"
      ]
     },
     "execution_count": 287,
     "metadata": {},
     "output_type": "execute_result"
    }
   ],
   "source": [
    "y_trn_rfs_pred = rfs.predict(x_trn)\n",
    "\n",
    "lr = LinearRegression()\n",
    "lr.fit(y_trn_rfs_pred.reshape(-1,1), y_trn)"
   ]
  },
  {
   "cell_type": "code",
   "execution_count": 290,
   "metadata": {},
   "outputs": [
    {
     "name": "stdout",
     "output_type": "stream",
     "text": [
      "MAE, Dev: 8.132628395412109 \n",
      "\n",
      "MSE, Dev: 104.82073340700845 \n",
      "\n",
      "R2, Dev: 0.26349907024748986\n"
     ]
    }
   ],
   "source": [
    "y_dev_pred = lr.predict(rfs.predict(x_dev).reshape(-1,1))\n",
    "\n",
    "#print('MAE, Trn:', mean_absolute_error(y_trn, y_trn_pred))\n",
    "print('MAE, Dev:', mean_absolute_error(y_dev, y_dev_pred),'\\n')\n",
    "\n",
    "#print('MSE, Trn:', mean_squared_error(y_trn, y_trn_pred))\n",
    "print('MSE, Dev:', mean_squared_error(y_dev, y_dev_pred),'\\n')\n",
    "\n",
    "#print('R2, Trn:', r2_score(y_trn, y_trn_pred))\n",
    "print('R2, Dev:', r2_score(y_dev, y_dev_pred))"
   ]
  },
  {
   "cell_type": "code",
   "execution_count": 291,
   "metadata": {},
   "outputs": [
    {
     "data": {
      "text/plain": [
       "RandomForestRegressor(bootstrap=True, criterion='mse', max_depth=8,\n",
       "           max_features='sqrt', max_leaf_nodes=None,\n",
       "           min_impurity_decrease=0.0, min_impurity_split=None,\n",
       "           min_samples_leaf=1, min_samples_split=2,\n",
       "           min_weight_fraction_leaf=0.0, n_estimators=100, n_jobs=-1,\n",
       "           oob_score=False, random_state=None, verbose=0, warm_start=False)"
      ]
     },
     "execution_count": 291,
     "metadata": {},
     "output_type": "execute_result"
    }
   ],
   "source": [
    "rfs2 = RandomForestRegressor(\n",
    "    n_estimators = 100,\n",
    "    #min_samples_split = 16,\n",
    "    min_samples_leaf = 1,\n",
    "    max_features = 'sqrt',\n",
    "    max_depth = 8,\n",
    "    criterion = 'mse',\n",
    "    n_jobs=-1,\n",
    ")\n",
    "rfs2.fit(y_trn_rfs_pred.reshape(-1,1), y_trn)\n"
   ]
  },
  {
   "cell_type": "code",
   "execution_count": 292,
   "metadata": {},
   "outputs": [
    {
     "name": "stdout",
     "output_type": "stream",
     "text": [
      "MAE, Dev: 8.128229188468467 \n",
      "\n",
      "MSE, Dev: 108.83975909684959 \n",
      "\n",
      "R2, Dev: 0.23526022797786195\n"
     ]
    }
   ],
   "source": [
    "y_dev_pred = rfs2.predict(rfs.predict(x_dev).reshape(-1,1))\n",
    "\n",
    "#print('MAE, Trn:', mean_absolute_error(y_trn, y_trn_pred))\n",
    "print('MAE, Dev:', mean_absolute_error(y_dev, y_dev_pred),'\\n')\n",
    "\n",
    "#print('MSE, Trn:', mean_squared_error(y_trn, y_trn_pred))\n",
    "print('MSE, Dev:', mean_squared_error(y_dev, y_dev_pred),'\\n')\n",
    "\n",
    "#print('R2, Trn:', r2_score(y_trn, y_trn_pred))\n",
    "print('R2, Dev:', r2_score(y_dev, y_dev_pred))"
   ]
  },
  {
   "cell_type": "code",
   "execution_count": null,
   "metadata": {},
   "outputs": [],
   "source": []
  }
 ],
 "metadata": {
  "kernelspec": {
   "display_name": "Python 3",
   "language": "python",
   "name": "python3"
  },
  "language_info": {
   "codemirror_mode": {
    "name": "ipython",
    "version": 3
   },
   "file_extension": ".py",
   "mimetype": "text/x-python",
   "name": "python",
   "nbconvert_exporter": "python",
   "pygments_lexer": "ipython3",
   "version": "3.7.2"
  }
 },
 "nbformat": 4,
 "nbformat_minor": 2
}
